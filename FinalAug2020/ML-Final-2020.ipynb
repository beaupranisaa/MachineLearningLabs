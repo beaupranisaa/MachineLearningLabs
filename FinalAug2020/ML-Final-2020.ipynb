{
 "cells": [
  {
   "cell_type": "markdown",
   "metadata": {},
   "source": [
    "# Machine Learning Final Exam, Aug Semester, 2020\n",
    "#### Pranisaa Charnparttaravanit st121720\n",
    "\n",
    "In this exam, you will demonstrate your understanding of the material from the lectures and labs.\n",
    "\n",
    "For each question, insert your answer directly in this sheet. When complete, export the sheet as a PDF and upload to Gradescope.\n",
    "Note that you have **2.5 hours** to do the exam. Also note that there are some short answer questions that you may be able to answer faster than the coding questions. You might consider answering those questions first to get as much credit as possible!\n",
    "\n",
    "## Question 1 (10 points)\n",
    "\n",
    "Download the [CSV dataset](http://www.cs.ait.ac.th/~mdailey/class/ml/final-exam-data.csv) for the exam.\n",
    "Note that the data are two dimensional with labels '0' and '1'. Provide a scatter plot for the data with\n",
    "the two classes shown in different colors."
   ]
  },
  {
   "cell_type": "code",
   "execution_count": 52,
   "metadata": {},
   "outputs": [
    {
     "name": "stdout",
     "output_type": "stream",
     "text": [
      "[[3.97416989 3.13837773 0.        ]\n",
      " [6.03743949 7.15540807 1.        ]\n",
      " [3.61964272 2.52489502 1.        ]\n",
      " ...\n",
      " [3.14824113 4.18781184 1.        ]\n",
      " [2.3552448  2.55352396 0.        ]\n",
      " [0.61800722 3.01529262 0.        ]]\n"
     ]
    }
   ],
   "source": [
    "# Place code to load the data and plot the scatterplot here\n",
    "import pandas as pd\n",
    "import numpy as np\n",
    "import matplotlib.pyplot as plt\n",
    "\n",
    "data = pd.read_csv('final-exam-data.csv',delimiter = ',')\n",
    "data = data.to_numpy()\n",
    "print(data)\n",
    "X = data[:,:2]\n",
    "# print(X)\n",
    "y = data[:,2]\n",
    "# print(y)"
   ]
  },
  {
   "cell_type": "code",
   "execution_count": 53,
   "metadata": {},
   "outputs": [
    {
     "data": {
      "text/plain": [
       "<matplotlib.legend.Legend at 0x7f7bc40f3e20>"
      ]
     },
     "execution_count": 53,
     "metadata": {},
     "output_type": "execute_result"
    },
    {
     "data": {
      "image/png": "[encoded data removed]",
      "text/plain": [
       "<Figure size 432x288 with 1 Axes>"
      ]
     },
     "metadata": {
      "needs_background": "light"
     },
     "output_type": "display_data"
    }
   ],
   "source": [
    "plt.scatter(X[y==0,0],X[y==0,1],label = 'class 0')\n",
    "plt.scatter(X[y==1,0],X[y==1,1],label = 'class 1')\n",
    "plt.legend()"
   ]
  },
  {
   "cell_type": "code",
   "execution_count": 54,
   "metadata": {},
   "outputs": [
    {
     "name": "stdout",
     "output_type": "stream",
     "text": [
      "Number of samples:  400\n",
      "Number of features:  2\n"
     ]
    }
   ],
   "source": [
    "# check number of samples\n",
    "m = X.shape[0]\n",
    "print(\"Number of samples: \", m)\n",
    "# check number of features\n",
    "n = X.shape[1]\n",
    "print(\"Number of features: \", n)\n",
    "\n",
    "# check number of y\n",
    "assert m == y.shape[0]"
   ]
  },
  {
   "cell_type": "markdown",
   "metadata": {},
   "source": [
    "## Question 2 (30 points)\n",
    "\n",
    "Do the following:\n",
    "1. Split the dataset from Question 1 into a training set (80%) and validation set (20%)."
   ]
  },
  {
   "cell_type": "code",
   "execution_count": 55,
   "metadata": {},
   "outputs": [
    {
     "name": "stdout",
     "output_type": "stream",
     "text": [
      "shapes of X_train, y_train\n",
      "(320, 2) (320,)\n",
      "shapes of X_test, y_test\n",
      "(80, 2) (80,)\n"
     ]
    }
   ],
   "source": [
    "# Place code to split the data, fit the LR model, output accuracy, and plot the result here\n",
    "import random\n",
    "m, n = X.shape\n",
    "idx = np.arange(0, m)\n",
    "random.shuffle(idx)\n",
    "percent_train = .8\n",
    "m_train = int(m * percent_train)\n",
    "train_idx = idx[0:m_train]\n",
    "test_idx = idx[m_train:]\n",
    "X_train = X[train_idx,:];\n",
    "X_test = X[test_idx,:];\n",
    "\n",
    "y_train = y[train_idx];\n",
    "y_test = y[test_idx];\n",
    "\n",
    "# double check the shapes\n",
    "assert X_train.shape[0] == y_train.shape[0]\n",
    "# assert len(X_train)  == len(y_train)\n",
    "assert X_test.shape[0] == y_test.shape[0]\n",
    "# assert len(X_test) == len(y_test)\n",
    "\n",
    "print('shapes of X_train, y_train')\n",
    "print(X_train.shape,y_train.shape)\n",
    "print('shapes of X_test, y_test')\n",
    "print(X_test.shape,y_test.shape)"
   ]
  },
  {
   "cell_type": "markdown",
   "metadata": {},
   "source": [
    "2. Using the logistic regression code we developed in lab, fit a logistic regression model to the data in the training set.\n"
   ]
  },
  {
   "cell_type": "code",
   "execution_count": 56,
   "metadata": {},
   "outputs": [
    {
     "name": "stdout",
     "output_type": "stream",
     "text": [
      "shapes of X_train, y_train with DUMMY added\n",
      "(320, 3) (320, 1)\n",
      "shapes of X_test, y_test with DUMMY added\n",
      "(80, 3) (80, 1)\n"
     ]
    }
   ],
   "source": [
    "# Add dummy\n",
    "intercept = np.ones((X_train.shape[0], 1))\n",
    "X_train = np.concatenate((intercept, X_train), axis=1)  #add intercept\n",
    "intercept = np.ones((X_test.shape[0], 1))\n",
    "X_test = np.concatenate((intercept, X_test), axis=1)  #add intercept\n",
    "\n",
    "y_train = y_train.reshape(-1,1)\n",
    "y_test = y_test.reshape(-1,1)\n",
    "\n",
    "print('shapes of X_train, y_train with DUMMY added')\n",
    "print(X_train.shape,y_train.shape)\n",
    "print('shapes of X_test, y_test with DUMMY added')\n",
    "print(X_test.shape,y_test.shape)"
   ]
  },
  {
   "cell_type": "code",
   "execution_count": 57,
   "metadata": {},
   "outputs": [
    {
     "name": "stdout",
     "output_type": "stream",
     "text": [
      "==============================\n",
      "Shape of theta:  (3, 1)\n",
      "==============================\n",
      "Initial theta:  [[0.]\n",
      " [0.]\n",
      " [0.]]\n"
     ]
    }
   ],
   "source": [
    "# Initializing Theta\n",
    "theta_initial = np.zeros(X_train.shape[1])\n",
    "theta_initial = theta_initial.reshape(-1,1)\n",
    "# check shape of theta\n",
    "print(\"=\"*30)\n",
    "print(\"Shape of theta: \", theta_initial.shape)\n",
    "\n",
    "# initial theta\n",
    "print(\"=\"*30)\n",
    "print(\"Initial theta: \", theta_initial)"
   ]
  },
  {
   "cell_type": "code",
   "execution_count": 62,
   "metadata": {},
   "outputs": [
    {
     "name": "stdout",
     "output_type": "stream",
     "text": [
      "Iter 0: parms (0.000000, 0.000000, 0.000000), trn like 221.807098 acc 0.712500 test like 55.451774 acc 0.612500 *\n",
      "Iter 1: parms (0.068000, 0.630254, 0.695165), trn like 370.357067 acc 0.712500 test like 126.623743 acc 0.612500 *\n",
      "Iter 2: parms (-0.020433, 0.367379, 0.429745), trn like 228.514474 acc 0.712500 test like 77.846741 acc 0.612500 \n",
      "Iter 3: parms (-0.099760, 0.131902, 0.192357), trn like 141.855873 acc 0.712500 test like 44.825857 acc 0.612500 \n",
      "Iter 4: parms (-0.137130, 0.092257, 0.154432), trn like 141.813199 acc 0.712500 test like 42.725912 acc 0.612500 \n",
      "Iter 5: parms (-0.155252, 0.162953, 0.228892), trn like 144.013067 acc 0.712500 test like 46.566002 acc 0.612500 \n",
      "Iter 6: parms (-0.201901, 0.071461, 0.137160), trn like 145.468103 acc 0.715625 test like 42.250084 acc 0.625000 \n",
      "Iter 7: parms (-0.205317, 0.229229, 0.299777), trn like 159.433593 acc 0.712500 test like 53.176130 acc 0.612500 \n",
      "Iter 8: parms (-0.266582, 0.064932, 0.133829), trn like 147.252811 acc 0.718750 test like 42.015290 acc 0.650000 \n",
      "Iter 9: parms (-0.262789, 0.264293, 0.338069), trn like 168.725648 acc 0.712500 test like 56.771423 acc 0.612500 \n",
      "Iter 10: parms (-0.328726, 0.078474, 0.150233), trn like 141.891973 acc 0.725000 test like 41.076535 acc 0.637500 \n",
      "Iter 11: parms (-0.330819, 0.236935, 0.311652), trn like 155.032701 acc 0.712500 test like 51.687570 acc 0.612500 \n",
      "Iter 12: parms (-0.390744, 0.076124, 0.148936), trn like 142.546057 acc 0.737500 test like 40.745504 acc 0.662500 \n",
      "Iter 13: parms (-0.387871, 0.261501, 0.337732), trn like 160.097315 acc 0.712500 test like 53.704070 acc 0.612500 \n",
      "Iter 14: parms (-0.450804, 0.086330, 0.160536), trn like 138.810391 acc 0.737500 test like 39.995759 acc 0.662500 \n",
      "Iter 15: parms (-0.451194, 0.247427, 0.324206), trn like 151.586971 acc 0.712500 test like 50.540796 acc 0.612500 \n",
      "Iter 16: parms (-0.510187, 0.088204, 0.163058), trn like 138.117014 acc 0.759375 test like 39.558477 acc 0.675000 \n",
      "Iter 17: parms (-0.508346, 0.259146, 0.336795), trn like 152.144224 acc 0.712500 test like 50.839860 acc 0.625000 \n",
      "Iter 18: parms (-0.568102, 0.095370, 0.171082), trn like 135.656737 acc 0.765625 test like 38.964048 acc 0.675000 \n",
      "Iter 19: parms (-0.567480, 0.255003, 0.333191), trn like 147.433002 acc 0.712500 test like 49.101600 acc 0.625000 \n",
      "Iter 20: parms (-0.625002, 0.099772, 0.176097), trn like 134.193767 acc 0.775000 test like 38.478816 acc 0.675000 \n",
      "Iter 21: parms (-0.623848, 0.258945, 0.337756), trn like 145.531238 acc 0.712500 test like 48.443922 acc 0.625000 \n",
      "Iter 22: parms (-0.680687, 0.105492, 0.182477), trn like 132.341478 acc 0.778125 test like 37.970084 acc 0.675000 \n",
      "Iter 23: parms (-0.679878, 0.258985, 0.338342), trn like 142.482696 acc 0.715625 test like 47.331042 acc 0.625000 \n",
      "Iter 24: parms (-0.735260, 0.110712, 0.188302), trn like 130.696369 acc 0.787500 test like 37.493399 acc 0.675000 \n",
      "Iter 25: parms (-0.734521, 0.260309, 0.340215), trn like 139.959933 acc 0.718750 test like 46.416886 acc 0.637500 \n",
      "Iter 26: parms (-0.788706, 0.116088, 0.194280), trn like 129.044225 acc 0.793750 test like 37.028707 acc 0.675000 \n",
      "Iter 27: parms (-0.788178, 0.261074, 0.341512), trn like 137.382483 acc 0.721875 test like 45.472888 acc 0.650000 \n",
      "Iter 28: parms (-0.841050, 0.121429, 0.200211), trn like 127.444392 acc 0.803125 test like 36.581062 acc 0.675000 \n",
      "Iter 29: parms (-0.840753, 0.261810, 0.342772), trn like 134.913524 acc 0.721875 test like 44.563685 acc 0.650000 \n",
      "Iter 30: parms (-0.892307, 0.126782, 0.206147), trn like 125.882005 acc 0.806250 test like 36.148894 acc 0.675000 \n",
      "Iter 31: parms (-0.892289, 0.262402, 0.343880), trn like 132.518536 acc 0.725000 test like 43.675354 acc 0.650000 \n",
      "Iter 32: parms (-0.942494, 0.132144, 0.212086), trn like 124.357560 acc 0.809375 test like 35.732018 acc 0.675000 \n",
      "Iter 33: parms (-0.942799, 0.262866, 0.344855), trn like 130.202695 acc 0.728125 test like 42.809849 acc 0.637500 \n",
      "Iter 34: parms (-0.991629, 0.137522, 0.218034), trn like 122.869568 acc 0.818750 test like 35.330127 acc 0.675000 \n",
      "Iter 35: parms (-0.992303, 0.263203, 0.345695), trn like 127.965842 acc 0.737500 test like 41.966957 acc 0.650000 \n",
      "Iter 36: parms (-1.039729, 0.142921, 0.223999), trn like 121.416921 acc 0.825000 test like 34.942993 acc 0.675000 \n",
      "Iter 37: parms (-1.040819, 0.263414, 0.346402), trn like 125.808443 acc 0.737500 test like 41.146704 acc 0.650000 \n",
      "Iter 38: parms (-1.086814, 0.148347, 0.229986), trn like 119.998741 acc 0.828125 test like 34.570464 acc 0.700000 \n",
      "Iter 39: parms (-1.088367, 0.263500, 0.346977), trn like 123.731169 acc 0.737500 test like 40.349195 acc 0.675000 \n",
      "Iter 40: parms (-1.132902, 0.153809, 0.236004), trn like 118.614427 acc 0.828125 test like 34.212469 acc 0.712500 \n",
      "Iter 41: parms (-1.134966, 0.263465, 0.347424), trn like 121.734943 acc 0.740625 test like 39.574630 acc 0.675000 \n",
      "Iter 42: parms (-1.178012, 0.159312, 0.242058), trn like 117.263699 acc 0.828125 test like 33.869024 acc 0.712500 \n",
      "Iter 43: parms (-1.180638, 0.263311, 0.347746), trn like 119.820964 acc 0.750000 test like 38.823328 acc 0.675000 \n",
      "Iter 44: parms (-1.222166, 0.164863, 0.248156), trn like 115.946658 acc 0.828125 test like 33.540241 acc 0.712500 \n",
      "Iter 45: parms (-1.225402, 0.263045, 0.347949), trn like 117.990726 acc 0.756250 test like 38.095752 acc 0.675000 \n",
      "Iter 46: parms (-1.265384, 0.170470, 0.254306), trn like 114.663842 acc 0.828125 test like 33.226324 acc 0.712500 \n",
      "Iter 47: parms (-1.269281, 0.262675, 0.348041), trn like 116.246022 acc 0.759375 test like 37.392528 acc 0.675000 \n",
      "Iter 48: parms (-1.307690, 0.176138, 0.260513), trn like 113.416299 acc 0.828125 test like 32.927570 acc 0.725000 \n",
      "Iter 49: parms (-1.312297, 0.262212, 0.348035), trn like 114.588917 acc 0.762500 test like 36.714466 acc 0.675000 \n",
      "Iter 50: parms (-1.349106, 0.181871, 0.266783), trn like 112.205637 acc 0.828125 test like 32.644354 acc 0.737500 \n",
      "Iter 51: parms (-1.354471, 0.261670, 0.347944), trn like 113.021673 acc 0.765625 test like 36.062580 acc 0.675000 \n",
      "Iter 52: parms (-1.389660, 0.187671, 0.273119), trn like 111.034061 acc 0.828125 test like 32.377098 acc 0.737500 \n",
      "Iter 53: parms (-1.395828, 0.261069, 0.347791), trn like 111.546606 acc 0.768750 test like 35.438082 acc 0.675000 \n",
      "Iter 54: parms (-1.429379, 0.193536, 0.279517), trn like 109.904364 acc 0.828125 test like 32.126219 acc 0.737500 \n",
      "Iter 55: parms (-1.436390, 0.260434, 0.347600), trn like 110.165860 acc 0.778125 test like 34.842364 acc 0.675000 \n",
      "Iter 56: parms (-1.468294, 0.199458, 0.285973), trn like 108.819840 acc 0.828125 test like 31.892046 acc 0.737500 \n",
      "Iter 57: parms (-1.476181, 0.259799, 0.347407), trn like 108.881066 acc 0.787500 test like 34.276946 acc 0.675000 \n",
      "Iter 58: parms (-1.506440, 0.205423, 0.292471), trn like 107.784082 acc 0.831250 test like 31.674706 acc 0.737500 \n",
      "Iter 59: parms (-1.515226, 0.259202, 0.347253), trn like 107.692906 acc 0.796875 test like 33.743376 acc 0.675000 \n",
      "Iter 60: parms (-1.543854, 0.211407, 0.298988), trn like 106.800637 acc 0.831250 test like 31.473968 acc 0.737500 \n",
      "Iter 61: parms (-1.553547, 0.258691, 0.347185), trn like 106.600599 acc 0.806250 test like 33.243085 acc 0.675000 \n",
      "Iter 62: parms (-1.580576, 0.217375, 0.305491), trn like 105.872519 acc 0.831250 test like 31.289075 acc 0.737500 \n",
      "Iter 63: parms (-1.591170, 0.258319, 0.347258), trn like 105.601412 acc 0.806250 test like 32.777205 acc 0.675000 \n",
      "Iter 64: parms (-1.616649, 0.223282, 0.311935), trn like 105.001612 acc 0.831250 test like 31.118601 acc 0.737500 \n",
      "Iter 65: parms (-1.628116, 0.258139, 0.347530), trn like 104.690305 acc 0.812500 test like 32.346360 acc 0.675000 \n",
      "Iter 66: parms (-1.652118, 0.229075, 0.318266), trn like 104.188095 acc 0.831250 test like 30.960371 acc 0.737500 \n",
      "Iter 67: parms (-1.664409, 0.258207, 0.348053), trn like 103.859879 acc 0.815625 test like 31.950475 acc 0.687500 \n",
      "Iter 68: parms (-1.687029, 0.234696, 0.324424), trn like 103.430046 acc 0.831250 test like 30.811520 acc 0.737500 \n",
      "Iter 69: parms (-1.700071, 0.258568, 0.348877), trn like 103.100731 acc 0.821875 test like 31.588659 acc 0.687500 \n",
      "Iter 70: parms (-1.721423, 0.240086, 0.330352), trn like 102.723413 acc 0.831250 test like 30.668727 acc 0.737500 \n",
      "Iter 71: parms (-1.735125, 0.259256, 0.350035), trn like 102.402220 acc 0.821875 test like 31.259179 acc 0.700000 \n",
      "Iter 72: parms (-1.755339, 0.245197, 0.335998), trn like 102.062427 acc 0.831250 test like 30.528608 acc 0.750000 \n",
      "Iter 73: parms (-1.769593, 0.260286, 0.351542), trn like 101.753495 acc 0.825000 test like 30.959560 acc 0.700000 \n",
      "Iter 74: parms (-1.788808, 0.249994, 0.341328), trn like 101.440382 acc 0.831250 test like 30.388170 acc 0.750000 \n",
      "Iter 75: parms (-1.803498, 0.261654, 0.353394), trn like 101.144523 acc 0.825000 test like 30.686782 acc 0.712500 \n",
      "Iter 76: parms (-1.821855, 0.254464, 0.346328), trn like 100.850564 acc 0.828125 test like 30.245216 acc 0.750000 \n",
      "Iter 77: parms (-1.836863, 0.263340, 0.355567), trn like 100.566843 acc 0.825000 test like 30.437526 acc 0.725000 \n",
      "Iter 78: parms (-1.854494, 0.258614, 0.351002), trn like 100.287024 acc 0.828125 test like 30.098548 acc 0.750000 \n",
      "Iter 79: parms (-1.869710, 0.265306, 0.358024), trn like 100.013919 acc 0.831250 test like 30.208418 acc 0.737500 \n",
      "Iter 80: parms (-1.886738, 0.262468, 0.355374), trn like 99.745021 acc 0.831250 test like 29.947960 acc 0.750000 \n",
      "Iter 81: parms (-1.902063, 0.267506, 0.360717), trn like 99.481076 acc 0.828125 test like 29.996239 acc 0.750000 \n",
      "Iter 82: parms (-1.918590, 0.266063, 0.359482), trn like 99.221100 acc 0.831250 test like 29.794025 acc 0.762500 \n",
      "Iter 83: parms (-1.933942, 0.269891, 0.363595), trn like 98.965180 acc 0.831250 test like 29.798073 acc 0.750000 \n",
      "Iter 84: parms (-1.950055, 0.269441, 0.363366), trn like 98.712911 acc 0.831250 test like 29.637797 acc 0.762500 \n",
      "Iter 85: parms (-1.965368, 0.272412, 0.366609), trn like 98.464218 acc 0.831250 test like 29.611391 acc 0.762500 \n",
      "Iter 86: parms (-1.981133, 0.272643, 0.367069), trn like 98.218913 acc 0.837500 test like 29.480511 acc 0.775000 \n",
      "Iter 87: parms (-1.996357, 0.275028, 0.369715), trn like 97.976907 acc 0.837500 test like 29.434093 acc 0.775000 \n",
      "Iter 88: parms (-2.011827, 0.275708, 0.370629), trn like 97.738094 acc 0.840625 test like 29.323359 acc 0.775000 \n",
      "Iter 89: parms (-2.026928, 0.277704, 0.372877), trn like 97.502398 acc 0.840625 test like 29.264493 acc 0.775000 \n",
      "Iter 90: parms (-2.042139, 0.278668, 0.374078), trn like 97.269748 acc 0.843750 test like 29.167354 acc 0.787500 \n",
      "Iter 91: parms (-2.057093, 0.280410, 0.376067), trn like 97.040082 acc 0.843750 test like 29.101286 acc 0.787500 \n",
      "Iter 92: parms (-2.072074, 0.281546, 0.377440), trn like 96.813343 acc 0.843750 test like 29.013275 acc 0.787500 \n",
      "Iter 93: parms (-2.086866, 0.283127, 0.379264), trn like 96.589476 acc 0.846875 test like 28.943492 acc 0.787500 \n",
      "Iter 94: parms (-2.101634, 0.284361, 0.380734), trn like 96.368432 acc 0.850000 test like 28.861669 acc 0.787500 \n",
      "Iter 95: parms (-2.116257, 0.285841, 0.382453), trn like 96.150160 acc 0.850000 test like 28.790395 acc 0.787500 \n",
      "Iter 96: parms (-2.130827, 0.287126, 0.383973), trn like 95.934616 acc 0.846875 test like 28.712887 acc 0.787500 \n",
      "Iter 97: parms (-2.145277, 0.288541, 0.385624), trn like 95.721752 acc 0.846875 test like 28.641477 acc 0.787500 \n",
      "Iter 98: parms (-2.159657, 0.289849, 0.387165), trn like 95.511524 acc 0.850000 test like 28.567127 acc 0.787500 \n",
      "Iter 99: parms (-2.173934, 0.291222, 0.388772), trn like 95.303890 acc 0.853125 test like 28.496369 acc 0.787500 \n",
      "Iter 100: parms (-2.188132, 0.292537, 0.390317), trn like 95.098806 acc 0.856250 test like 28.424474 acc 0.787500 \n",
      "Iter 101: parms (-2.202236, 0.293881, 0.391892), trn like 94.896230 acc 0.859375 test like 28.354801 acc 0.787500 \n",
      "Iter 102: parms (-2.216258, 0.295192, 0.393432), trn like 94.696123 acc 0.862500 test like 28.284944 acc 0.800000 \n",
      "Iter 103: parms (-2.230191, 0.296515, 0.394983), trn like 94.498444 acc 0.862500 test like 28.216575 acc 0.812500 \n",
      "Iter 104: parms (-2.244042, 0.297818, 0.396513), trn like 94.303154 acc 0.862500 test like 28.148502 acc 0.825000 \n",
      "Iter 105: parms (-2.257807, 0.299123, 0.398044), trn like 94.110214 acc 0.862500 test like 28.081533 acc 0.825000 \n",
      "Iter 106: parms (-2.271490, 0.300415, 0.399560), trn like 93.919587 acc 0.862500 test like 28.015091 acc 0.825000 \n",
      "Iter 107: parms (-2.285090, 0.301705, 0.401074), trn like 93.731237 acc 0.862500 test like 27.949549 acc 0.837500 \n",
      "Iter 108: parms (-2.298609, 0.302985, 0.402576), trn like 93.545126 acc 0.862500 test like 27.884634 acc 0.837500 \n",
      "Iter 109: parms (-2.312048, 0.304260, 0.404073), trn like 93.361220 acc 0.862500 test like 27.820512 acc 0.850000 \n",
      "Iter 110: parms (-2.325406, 0.305528, 0.405561), trn like 93.179484 acc 0.862500 test like 27.757052 acc 0.850000 \n",
      "Iter 111: parms (-2.338686, 0.306791, 0.407043), trn like 92.999883 acc 0.865625 test like 27.694323 acc 0.850000 \n",
      "Iter 112: parms (-2.351887, 0.308046, 0.408516), trn like 92.822385 acc 0.865625 test like 27.632261 acc 0.850000 \n",
      "Iter 113: parms (-2.365011, 0.309295, 0.409982), trn like 92.646955 acc 0.865625 test like 27.570891 acc 0.850000 \n",
      "Iter 114: parms (-2.378058, 0.310538, 0.411441), trn like 92.473563 acc 0.865625 test like 27.510180 acc 0.862500 \n",
      "Iter 115: parms (-2.391029, 0.311775, 0.412892), trn like 92.302176 acc 0.865625 test like 27.450131 acc 0.862500 \n",
      "Iter 116: parms (-2.403925, 0.313005, 0.414337), trn like 92.132764 acc 0.868750 test like 27.390726 acc 0.862500 \n",
      "Iter 117: parms (-2.416746, 0.314230, 0.415774), trn like 91.965296 acc 0.868750 test like 27.331961 acc 0.862500 \n",
      "Iter 118: parms (-2.429493, 0.315448, 0.417204), trn like 91.799743 acc 0.868750 test like 27.273823 acc 0.875000 \n",
      "Iter 119: parms (-2.442168, 0.316660, 0.418626), trn like 91.636074 acc 0.868750 test like 27.216304 acc 0.875000 \n",
      "Iter 120: parms (-2.454770, 0.317867, 0.420042), trn like 91.474262 acc 0.868750 test like 27.159393 acc 0.875000 \n",
      "Iter 121: parms (-2.467300, 0.319067, 0.421451), trn like 91.314278 acc 0.868750 test like 27.103083 acc 0.875000 \n",
      "Iter 122: parms (-2.479760, 0.320262, 0.422853), trn like 91.156095 acc 0.868750 test like 27.047365 acc 0.875000 \n",
      "Iter 123: parms (-2.492149, 0.321450, 0.424248), trn like 90.999686 acc 0.868750 test like 26.992229 acc 0.875000 \n",
      "Iter 124: parms (-2.504468, 0.322633, 0.425636), trn like 90.845023 acc 0.868750 test like 26.937666 acc 0.875000 \n",
      "Iter 125: parms (-2.516719, 0.323810, 0.427017), trn like 90.692081 acc 0.868750 test like 26.883670 acc 0.875000 \n",
      "Iter 126: parms (-2.528901, 0.324982, 0.428392), trn like 90.540834 acc 0.868750 test like 26.830231 acc 0.875000 \n",
      "Iter 127: parms (-2.541016, 0.326148, 0.429760), trn like 90.391257 acc 0.868750 test like 26.777341 acc 0.875000 \n",
      "Iter 128: parms (-2.553063, 0.327308, 0.431122), trn like 90.243325 acc 0.868750 test like 26.724992 acc 0.875000 \n",
      "Iter 129: parms (-2.565044, 0.328462, 0.432477), trn like 90.097015 acc 0.868750 test like 26.673177 acc 0.875000 \n",
      "Iter 130: parms (-2.576959, 0.329611, 0.433825), trn like 89.952301 acc 0.868750 test like 26.621888 acc 0.875000 \n",
      "Iter 131: parms (-2.588809, 0.330755, 0.435167), trn like 89.809161 acc 0.868750 test like 26.571116 acc 0.875000 \n",
      "Iter 132: parms (-2.600594, 0.331893, 0.436503), trn like 89.667572 acc 0.868750 test like 26.520856 acc 0.875000 \n",
      "Iter 133: parms (-2.612316, 0.333026, 0.437832), trn like 89.527511 acc 0.868750 test like 26.471100 acc 0.875000 \n",
      "Iter 134: parms (-2.623974, 0.334153, 0.439155), trn like 89.388957 acc 0.868750 test like 26.421839 acc 0.875000 \n",
      "Iter 135: parms (-2.635569, 0.335276, 0.440472), trn like 89.251887 acc 0.868750 test like 26.373069 acc 0.875000 \n",
      "Iter 136: parms (-2.647101, 0.336393, 0.441782), trn like 89.116279 acc 0.868750 test like 26.324781 acc 0.887500 \n",
      "Iter 137: parms (-2.658573, 0.337504, 0.443087), trn like 88.982114 acc 0.868750 test like 26.276969 acc 0.887500 \n",
      "Iter 138: parms (-2.669982, 0.338611, 0.444385), trn like 88.849371 acc 0.871875 test like 26.229626 acc 0.887500 \n",
      "Iter 139: parms (-2.681332, 0.339712, 0.445677), trn like 88.718029 acc 0.871875 test like 26.182745 acc 0.887500 \n",
      "Iter 140: parms (-2.692621, 0.340808, 0.446963), trn like 88.588068 acc 0.871875 test like 26.136322 acc 0.887500 \n",
      "Iter 141: parms (-2.703851, 0.341900, 0.448243), trn like 88.459469 acc 0.871875 test like 26.090348 acc 0.887500 \n",
      "Iter 142: parms (-2.715022, 0.342986, 0.449518), trn like 88.332212 acc 0.871875 test like 26.044818 acc 0.887500 \n",
      "Iter 143: parms (-2.726134, 0.344067, 0.450786), trn like 88.206280 acc 0.871875 test like 25.999725 acc 0.887500 \n",
      "Iter 144: parms (-2.737188, 0.345143, 0.452049), trn like 88.081652 acc 0.871875 test like 25.955065 acc 0.887500 \n",
      "Iter 145: parms (-2.748185, 0.346215, 0.453305), trn like 87.958312 acc 0.871875 test like 25.910830 acc 0.887500 \n",
      "Iter 146: parms (-2.759125, 0.347281, 0.454556), trn like 87.836242 acc 0.871875 test like 25.867016 acc 0.887500 \n",
      "Iter 147: parms (-2.770009, 0.348343, 0.455802), trn like 87.715423 acc 0.871875 test like 25.823616 acc 0.887500 \n",
      "Iter 148: parms (-2.780836, 0.349400, 0.457041), trn like 87.595838 acc 0.871875 test like 25.780625 acc 0.887500 \n",
      "Iter 149: parms (-2.791609, 0.350452, 0.458275), trn like 87.477471 acc 0.871875 test like 25.738038 acc 0.887500 \n",
      "Iter 150: parms (-2.802326, 0.351499, 0.459504), trn like 87.360305 acc 0.875000 test like 25.695848 acc 0.887500 \n",
      "Iter 151: parms (-2.812988, 0.352542, 0.460727), trn like 87.244323 acc 0.875000 test like 25.654052 acc 0.887500 \n",
      "Iter 152: parms (-2.823597, 0.353580, 0.461944), trn like 87.129509 acc 0.875000 test like 25.612643 acc 0.887500 \n",
      "Iter 153: parms (-2.834152, 0.354613, 0.463156), trn like 87.015848 acc 0.875000 test like 25.571617 acc 0.887500 \n",
      "Iter 154: parms (-2.844654, 0.355642, 0.464362), trn like 86.903324 acc 0.875000 test like 25.530968 acc 0.887500 \n",
      "Iter 155: parms (-2.855104, 0.356666, 0.465563), trn like 86.791921 acc 0.875000 test like 25.490692 acc 0.887500 \n",
      "Iter 156: parms (-2.865501, 0.357686, 0.466759), trn like 86.681625 acc 0.875000 test like 25.450783 acc 0.887500 \n",
      "Iter 157: parms (-2.875846, 0.358701, 0.467950), trn like 86.572421 acc 0.875000 test like 25.411237 acc 0.887500 \n",
      "Iter 158: parms (-2.886140, 0.359712, 0.469135), trn like 86.464294 acc 0.875000 test like 25.372050 acc 0.887500 \n",
      "Iter 159: parms (-2.896383, 0.360718, 0.470315), trn like 86.357230 acc 0.875000 test like 25.333216 acc 0.887500 \n",
      "Iter 160: parms (-2.906576, 0.361720, 0.471490), trn like 86.251215 acc 0.875000 test like 25.294731 acc 0.887500 \n",
      "Iter 161: parms (-2.916719, 0.362718, 0.472659), trn like 86.146234 acc 0.875000 test like 25.256591 acc 0.887500 \n",
      "Iter 162: parms (-2.926812, 0.363711, 0.473824), trn like 86.042276 acc 0.875000 test like 25.218791 acc 0.887500 \n",
      "Iter 163: parms (-2.936856, 0.364701, 0.474983), trn like 85.939325 acc 0.878125 test like 25.181327 acc 0.887500 \n",
      "Iter 164: parms (-2.946851, 0.365685, 0.476138), trn like 85.837369 acc 0.878125 test like 25.144195 acc 0.887500 \n",
      "Iter 165: parms (-2.956797, 0.366666, 0.477287), trn like 85.736395 acc 0.881250 test like 25.107390 acc 0.887500 \n",
      "Iter 166: parms (-2.966696, 0.367642, 0.478431), trn like 85.636390 acc 0.881250 test like 25.070909 acc 0.887500 \n",
      "Iter 167: parms (-2.976547, 0.368614, 0.479571), trn like 85.537342 acc 0.878125 test like 25.034746 acc 0.887500 \n",
      "Iter 168: parms (-2.986351, 0.369583, 0.480706), trn like 85.439239 acc 0.878125 test like 24.998900 acc 0.887500 \n",
      "Iter 169: parms (-2.996108, 0.370546, 0.481835), trn like 85.342067 acc 0.878125 test like 24.963364 acc 0.887500 \n",
      "Iter 170: parms (-3.005818, 0.371506, 0.482960), trn like 85.245816 acc 0.878125 test like 24.928136 acc 0.887500 \n",
      "Iter 171: parms (-3.015482, 0.372462, 0.484080), trn like 85.150474 acc 0.878125 test like 24.893212 acc 0.887500 \n",
      "Iter 172: parms (-3.025101, 0.373414, 0.485196), trn like 85.056028 acc 0.878125 test like 24.858588 acc 0.887500 \n",
      "Iter 173: parms (-3.034674, 0.374362, 0.486306), trn like 84.962469 acc 0.878125 test like 24.824260 acc 0.887500 \n",
      "Iter 174: parms (-3.044203, 0.375306, 0.487412), trn like 84.869783 acc 0.878125 test like 24.790225 acc 0.887500 \n",
      "Iter 175: parms (-3.053686, 0.376245, 0.488513), trn like 84.777961 acc 0.878125 test like 24.756479 acc 0.887500 \n",
      "Iter 176: parms (-3.063126, 0.377181, 0.489610), trn like 84.686992 acc 0.878125 test like 24.723018 acc 0.887500 \n",
      "Iter 177: parms (-3.072521, 0.378114, 0.490702), trn like 84.596865 acc 0.878125 test like 24.689840 acc 0.887500 \n",
      "Iter 178: parms (-3.081873, 0.379042, 0.491789), trn like 84.507569 acc 0.878125 test like 24.656941 acc 0.887500 \n",
      "Iter 179: parms (-3.091182, 0.379966, 0.492872), trn like 84.419095 acc 0.878125 test like 24.624317 acc 0.887500 \n",
      "Iter 180: parms (-3.100448, 0.380887, 0.493951), trn like 84.331432 acc 0.878125 test like 24.591966 acc 0.900000 \n",
      "Iter 181: parms (-3.109671, 0.381804, 0.495024), trn like 84.244569 acc 0.878125 test like 24.559883 acc 0.900000 \n",
      "Iter 182: parms (-3.118852, 0.382717, 0.496094), trn like 84.158498 acc 0.878125 test like 24.528066 acc 0.900000 \n",
      "Iter 183: parms (-3.127991, 0.383626, 0.497159), trn like 84.073208 acc 0.878125 test like 24.496511 acc 0.900000 \n",
      "Iter 184: parms (-3.137088, 0.384532, 0.498220), trn like 83.988690 acc 0.878125 test like 24.465216 acc 0.900000 \n",
      "Iter 185: parms (-3.146145, 0.385434, 0.499276), trn like 83.904935 acc 0.878125 test like 24.434178 acc 0.900000 \n",
      "Iter 186: parms (-3.155160, 0.386332, 0.500328), trn like 83.821932 acc 0.878125 test like 24.403393 acc 0.900000 \n",
      "Iter 187: parms (-3.164135, 0.387227, 0.501376), trn like 83.739674 acc 0.878125 test like 24.372858 acc 0.900000 \n",
      "Iter 188: parms (-3.173069, 0.388118, 0.502419), trn like 83.658152 acc 0.878125 test like 24.342571 acc 0.900000 \n",
      "Iter 189: parms (-3.181963, 0.389006, 0.503458), trn like 83.577355 acc 0.878125 test like 24.312529 acc 0.900000 \n",
      "Iter 190: parms (-3.190818, 0.389890, 0.504493), trn like 83.497276 acc 0.878125 test like 24.282729 acc 0.900000 \n",
      "Iter 191: parms (-3.199633, 0.390770, 0.505524), trn like 83.417906 acc 0.878125 test like 24.253168 acc 0.900000 \n",
      "Iter 192: parms (-3.208409, 0.391647, 0.506551), trn like 83.339237 acc 0.878125 test like 24.223843 acc 0.900000 \n",
      "Iter 193: parms (-3.217147, 0.392520, 0.507573), trn like 83.261260 acc 0.878125 test like 24.194751 acc 0.900000 \n",
      "Iter 194: parms (-3.225845, 0.393390, 0.508592), trn like 83.183967 acc 0.878125 test like 24.165891 acc 0.900000 \n",
      "Iter 195: parms (-3.234506, 0.394257, 0.509606), trn like 83.107350 acc 0.878125 test like 24.137259 acc 0.900000 \n",
      "Iter 196: parms (-3.243128, 0.395120, 0.510616), trn like 83.031401 acc 0.878125 test like 24.108853 acc 0.912500 \n",
      "Iter 197: parms (-3.251713, 0.395980, 0.511623), trn like 82.956112 acc 0.878125 test like 24.080670 acc 0.912500 \n",
      "Iter 198: parms (-3.260261, 0.396836, 0.512625), trn like 82.881476 acc 0.878125 test like 24.052708 acc 0.912500 \n",
      "Iter 199: parms (-3.268771, 0.397689, 0.513623), trn like 82.807485 acc 0.878125 test like 24.024964 acc 0.912500 \n",
      "Iter 200: parms (-3.277245, 0.398539, 0.514617), trn like 82.734131 acc 0.878125 test like 23.997436 acc 0.912500 \n",
      "Iter 201: parms (-3.285682, 0.399386, 0.515608), trn like 82.661407 acc 0.878125 test like 23.970121 acc 0.912500 \n",
      "Iter 202: parms (-3.294083, 0.400229, 0.516595), trn like 82.589306 acc 0.878125 test like 23.943018 acc 0.912500 \n",
      "Iter 203: parms (-3.302447, 0.401069, 0.517577), trn like 82.517821 acc 0.878125 test like 23.916123 acc 0.912500 \n",
      "Iter 204: parms (-3.310776, 0.401905, 0.518556), trn like 82.446944 acc 0.878125 test like 23.889434 acc 0.912500 \n",
      "Iter 205: parms (-3.319069, 0.402739, 0.519531), trn like 82.376669 acc 0.878125 test like 23.862950 acc 0.912500 \n",
      "Iter 206: parms (-3.327327, 0.403569, 0.520502), trn like 82.306988 acc 0.878125 test like 23.836668 acc 0.912500 \n",
      "Iter 207: parms (-3.335551, 0.404396, 0.521470), trn like 82.237896 acc 0.878125 test like 23.810585 acc 0.912500 \n",
      "Iter 208: parms (-3.343739, 0.405220, 0.522434), trn like 82.169384 acc 0.878125 test like 23.784700 acc 0.912500 \n",
      "Iter 209: parms (-3.351893, 0.406041, 0.523394), trn like 82.101448 acc 0.878125 test like 23.759010 acc 0.912500 \n",
      "Iter 210: parms (-3.360012, 0.406859, 0.524350), trn like 82.034079 acc 0.878125 test like 23.733514 acc 0.912500 \n",
      "Iter 211: parms (-3.368098, 0.407673, 0.525303), trn like 81.967273 acc 0.878125 test like 23.708209 acc 0.912500 \n",
      "Iter 212: parms (-3.376149, 0.408485, 0.526252), trn like 81.901022 acc 0.878125 test like 23.683092 acc 0.912500 \n",
      "Iter 213: parms (-3.384167, 0.409293, 0.527197), trn like 81.835320 acc 0.878125 test like 23.658164 acc 0.912500 \n",
      "Iter 214: parms (-3.392152, 0.410098, 0.528139), trn like 81.770162 acc 0.875000 test like 23.633420 acc 0.912500 \n",
      "Iter 215: parms (-3.400104, 0.410901, 0.529077), trn like 81.705541 acc 0.875000 test like 23.608859 acc 0.912500 \n",
      "Iter 216: parms (-3.408023, 0.411700, 0.530012), trn like 81.641451 acc 0.875000 test like 23.584480 acc 0.912500 \n",
      "Iter 217: parms (-3.415909, 0.412497, 0.530943), trn like 81.577887 acc 0.875000 test like 23.560280 acc 0.912500 \n",
      "Iter 218: parms (-3.423763, 0.413290, 0.531871), trn like 81.514842 acc 0.875000 test like 23.536257 acc 0.912500 \n",
      "Iter 219: parms (-3.431585, 0.414080, 0.532795), trn like 81.452311 acc 0.875000 test like 23.512410 acc 0.912500 \n",
      "Iter 220: parms (-3.439375, 0.414868, 0.533715), trn like 81.390289 acc 0.875000 test like 23.488737 acc 0.912500 \n",
      "Iter 221: parms (-3.447133, 0.415653, 0.534633), trn like 81.328769 acc 0.875000 test like 23.465235 acc 0.912500 \n",
      "Iter 222: parms (-3.454859, 0.416434, 0.535546), trn like 81.267747 acc 0.875000 test like 23.441904 acc 0.912500 \n",
      "Iter 223: parms (-3.462555, 0.417213, 0.536457), trn like 81.207217 acc 0.875000 test like 23.418741 acc 0.912500 \n",
      "Iter 224: parms (-3.470219, 0.417989, 0.537364), trn like 81.147173 acc 0.875000 test like 23.395745 acc 0.912500 \n",
      "Iter 225: parms (-3.477852, 0.418763, 0.538267), trn like 81.087611 acc 0.875000 test like 23.372914 acc 0.912500 \n",
      "Iter 226: parms (-3.485455, 0.419533, 0.539168), trn like 81.028525 acc 0.875000 test like 23.350245 acc 0.912500 \n",
      "Iter 227: parms (-3.493027, 0.420301, 0.540065), trn like 80.969910 acc 0.875000 test like 23.327739 acc 0.912500 \n",
      "Iter 228: parms (-3.500569, 0.421065, 0.540958), trn like 80.911761 acc 0.875000 test like 23.305392 acc 0.912500 \n",
      "Iter 229: parms (-3.508081, 0.421827, 0.541849), trn like 80.854073 acc 0.875000 test like 23.283204 acc 0.912500 \n",
      "Iter 230: parms (-3.515563, 0.422587, 0.542736), trn like 80.796841 acc 0.875000 test like 23.261172 acc 0.912500 \n",
      "Iter 231: parms (-3.523015, 0.423343, 0.543620), trn like 80.740061 acc 0.875000 test like 23.239295 acc 0.912500 \n",
      "Iter 232: parms (-3.530438, 0.424097, 0.544500), trn like 80.683728 acc 0.875000 test like 23.217572 acc 0.912500 \n",
      "Iter 233: parms (-3.537832, 0.424848, 0.545378), trn like 80.627836 acc 0.875000 test like 23.196001 acc 0.912500 \n",
      "Iter 234: parms (-3.545197, 0.425596, 0.546252), trn like 80.572382 acc 0.875000 test like 23.174580 acc 0.912500 \n",
      "Iter 235: parms (-3.552533, 0.426342, 0.547123), trn like 80.517360 acc 0.875000 test like 23.153309 acc 0.912500 \n",
      "Iter 236: parms (-3.559840, 0.427085, 0.547991), trn like 80.462767 acc 0.875000 test like 23.132184 acc 0.912500 \n",
      "Iter 237: parms (-3.567118, 0.427826, 0.548856), trn like 80.408597 acc 0.875000 test like 23.111206 acc 0.912500 \n",
      "Iter 238: parms (-3.574369, 0.428564, 0.549717), trn like 80.354846 acc 0.875000 test like 23.090373 acc 0.912500 \n",
      "Iter 239: parms (-3.581591, 0.429299, 0.550576), trn like 80.301511 acc 0.878125 test like 23.069682 acc 0.912500 \n",
      "Iter 240: parms (-3.588785, 0.430031, 0.551432), trn like 80.248586 acc 0.878125 test like 23.049133 acc 0.912500 \n",
      "Iter 241: parms (-3.595952, 0.430761, 0.552284), trn like 80.196068 acc 0.878125 test like 23.028725 acc 0.912500 \n",
      "Iter 242: parms (-3.603091, 0.431489, 0.553133), trn like 80.143952 acc 0.878125 test like 23.008455 acc 0.912500 \n",
      "Iter 243: parms (-3.610203, 0.432214, 0.553980), trn like 80.092234 acc 0.878125 test like 22.988323 acc 0.912500 \n",
      "Iter 244: parms (-3.617287, 0.432936, 0.554823), trn like 80.040911 acc 0.878125 test like 22.968328 acc 0.912500 \n",
      "Iter 245: parms (-3.624344, 0.433656, 0.555664), trn like 79.989977 acc 0.878125 test like 22.948467 acc 0.912500 \n",
      "Iter 246: parms (-3.631375, 0.434373, 0.556501), trn like 79.939430 acc 0.878125 test like 22.928740 acc 0.912500 \n",
      "Iter 247: parms (-3.638378, 0.435088, 0.557336), trn like 79.889265 acc 0.878125 test like 22.909146 acc 0.912500 \n",
      "Iter 248: parms (-3.645356, 0.435801, 0.558167), trn like 79.839478 acc 0.878125 test like 22.889682 acc 0.912500 \n",
      "Iter 249: parms (-3.652307, 0.436511, 0.558996), trn like 79.790066 acc 0.878125 test like 22.870349 acc 0.912500 \n",
      "Iter 250: parms (-3.659231, 0.437218, 0.559822), trn like 79.741025 acc 0.878125 test like 22.851143 acc 0.912500 \n",
      "Iter 251: parms (-3.666130, 0.437923, 0.560645), trn like 79.692351 acc 0.878125 test like 22.832066 acc 0.912500 \n",
      "Iter 252: parms (-3.673003, 0.438626, 0.561465), trn like 79.644040 acc 0.878125 test like 22.813114 acc 0.912500 \n",
      "Iter 253: parms (-3.679850, 0.439326, 0.562282), trn like 79.596089 acc 0.878125 test like 22.794288 acc 0.912500 \n",
      "Iter 254: parms (-3.686671, 0.440024, 0.563096), trn like 79.548494 acc 0.875000 test like 22.775585 acc 0.912500 \n",
      "Iter 255: parms (-3.693467, 0.440719, 0.563908), trn like 79.501252 acc 0.875000 test like 22.757005 acc 0.912500 \n",
      "Iter 256: parms (-3.700238, 0.441412, 0.564716), trn like 79.454360 acc 0.875000 test like 22.738546 acc 0.912500 \n",
      "Iter 257: parms (-3.706984, 0.442103, 0.565522), trn like 79.407813 acc 0.875000 test like 22.720208 acc 0.912500 \n",
      "Iter 258: parms (-3.713705, 0.442792, 0.566325), trn like 79.361608 acc 0.875000 test like 22.701989 acc 0.912500 \n",
      "Iter 259: parms (-3.720401, 0.443478, 0.567126), trn like 79.315743 acc 0.875000 test like 22.683888 acc 0.912500 \n",
      "Iter 260: parms (-3.727073, 0.444161, 0.567923), trn like 79.270213 acc 0.875000 test like 22.665904 acc 0.912500 \n",
      "Iter 261: parms (-3.733720, 0.444843, 0.568718), trn like 79.225015 acc 0.875000 test like 22.648036 acc 0.912500 \n",
      "Iter 262: parms (-3.740343, 0.445522, 0.569511), trn like 79.180147 acc 0.875000 test like 22.630283 acc 0.912500 \n",
      "Iter 263: parms (-3.746941, 0.446199, 0.570300), trn like 79.135605 acc 0.875000 test like 22.612644 acc 0.912500 \n",
      "Iter 264: parms (-3.753516, 0.446874, 0.571087), trn like 79.091386 acc 0.875000 test like 22.595117 acc 0.912500 \n",
      "Iter 265: parms (-3.760067, 0.447546, 0.571871), trn like 79.047487 acc 0.875000 test like 22.577702 acc 0.912500 \n",
      "Iter 266: parms (-3.766594, 0.448216, 0.572653), trn like 79.003904 acc 0.875000 test like 22.560398 acc 0.912500 \n",
      "Iter 267: parms (-3.773097, 0.448884, 0.573432), trn like 78.960635 acc 0.875000 test like 22.543204 acc 0.912500 \n",
      "Iter 268: parms (-3.779577, 0.449550, 0.574208), trn like 78.917676 acc 0.875000 test like 22.526118 acc 0.912500 \n",
      "Iter 269: parms (-3.786034, 0.450213, 0.574981), trn like 78.875025 acc 0.875000 test like 22.509140 acc 0.912500 \n",
      "Iter 270: parms (-3.792467, 0.450875, 0.575753), trn like 78.832679 acc 0.875000 test like 22.492269 acc 0.912500 \n",
      "Iter 271: parms (-3.798878, 0.451534, 0.576521), trn like 78.790635 acc 0.875000 test like 22.475504 acc 0.912500 \n",
      "Iter 272: parms (-3.805265, 0.452191, 0.577287), trn like 78.748890 acc 0.875000 test like 22.458843 acc 0.912500 \n",
      "Iter 273: parms (-3.811630, 0.452846, 0.578050), trn like 78.707441 acc 0.875000 test like 22.442286 acc 0.912500 \n",
      "Iter 274: parms (-3.817972, 0.453498, 0.578811), trn like 78.666285 acc 0.875000 test like 22.425833 acc 0.912500 \n",
      "Iter 275: parms (-3.824292, 0.454149, 0.579570), trn like 78.625420 acc 0.875000 test like 22.409481 acc 0.912500 \n",
      "Iter 276: parms (-3.830589, 0.454797, 0.580325), trn like 78.584843 acc 0.875000 test like 22.393231 acc 0.912500 \n",
      "Iter 277: parms (-3.836864, 0.455443, 0.581079), trn like 78.544551 acc 0.875000 test like 22.377081 acc 0.912500 \n",
      "Iter 278: parms (-3.843118, 0.456088, 0.581830), trn like 78.504542 acc 0.875000 test like 22.361030 acc 0.912500 \n",
      "Iter 279: parms (-3.849349, 0.456730, 0.582578), trn like 78.464813 acc 0.875000 test like 22.345078 acc 0.912500 \n",
      "Iter 280: parms (-3.855558, 0.457370, 0.583324), trn like 78.425360 acc 0.875000 test like 22.329223 acc 0.912500 \n",
      "Iter 281: parms (-3.861745, 0.458008, 0.584067), trn like 78.386183 acc 0.875000 test like 22.313465 acc 0.912500 \n",
      "Iter 282: parms (-3.867911, 0.458644, 0.584808), trn like 78.347278 acc 0.875000 test like 22.297804 acc 0.912500 \n",
      "Iter 283: parms (-3.874056, 0.459278, 0.585547), trn like 78.308643 acc 0.875000 test like 22.282237 acc 0.912500 \n",
      "Iter 284: parms (-3.880179, 0.459910, 0.586283), trn like 78.270274 acc 0.875000 test like 22.266764 acc 0.912500 \n",
      "Iter 285: parms (-3.886281, 0.460539, 0.587017), trn like 78.232171 acc 0.875000 test like 22.251386 acc 0.912500 \n",
      "Iter 286: parms (-3.892362, 0.461167, 0.587749), trn like 78.194330 acc 0.875000 test like 22.236099 acc 0.912500 \n",
      "Iter 287: parms (-3.898422, 0.461793, 0.588478), trn like 78.156749 acc 0.878125 test like 22.220905 acc 0.912500 \n",
      "Iter 288: parms (-3.904461, 0.462417, 0.589204), trn like 78.119425 acc 0.878125 test like 22.205802 acc 0.912500 \n",
      "Iter 289: parms (-3.910479, 0.463039, 0.589929), trn like 78.082357 acc 0.878125 test like 22.190789 acc 0.912500 \n",
      "Iter 290: parms (-3.916477, 0.463659, 0.590651), trn like 78.045542 acc 0.878125 test like 22.175865 acc 0.912500 \n",
      "Iter 291: parms (-3.922454, 0.464277, 0.591371), trn like 78.008977 acc 0.878125 test like 22.161030 acc 0.912500 \n",
      "Iter 292: parms (-3.928411, 0.464893, 0.592088), trn like 77.972661 acc 0.878125 test like 22.146284 acc 0.912500 \n",
      "Iter 293: parms (-3.934348, 0.465507, 0.592803), trn like 77.936591 acc 0.878125 test like 22.131624 acc 0.912500 \n",
      "Iter 294: parms (-3.940264, 0.466119, 0.593516), trn like 77.900765 acc 0.878125 test like 22.117051 acc 0.912500 \n",
      "Iter 295: parms (-3.946160, 0.466729, 0.594227), trn like 77.865181 acc 0.878125 test like 22.102564 acc 0.912500 \n",
      "Iter 296: parms (-3.952037, 0.467337, 0.594935), trn like 77.829836 acc 0.878125 test like 22.088162 acc 0.912500 \n",
      "Iter 297: parms (-3.957893, 0.467944, 0.595641), trn like 77.794729 acc 0.878125 test like 22.073845 acc 0.912500 \n",
      "Iter 298: parms (-3.963730, 0.468548, 0.596345), trn like 77.759857 acc 0.878125 test like 22.059611 acc 0.912500 \n",
      "Iter 299: parms (-3.969548, 0.469151, 0.597047), trn like 77.725219 acc 0.878125 test like 22.045460 acc 0.912500 \n",
      "Iter 300: parms (-3.975345, 0.469751, 0.597746), trn like 77.690812 acc 0.878125 test like 22.031391 acc 0.912500 \n",
      "Iter 301: parms (-3.981124, 0.470350, 0.598443), trn like 77.656634 acc 0.881250 test like 22.017404 acc 0.912500 \n",
      "Iter 302: parms (-3.986883, 0.470947, 0.599138), trn like 77.622683 acc 0.881250 test like 22.003497 acc 0.912500 \n",
      "Iter 303: parms (-3.992623, 0.471543, 0.599831), trn like 77.588957 acc 0.881250 test like 21.989671 acc 0.912500 \n",
      "Iter 304: parms (-3.998344, 0.472136, 0.600522), trn like 77.555455 acc 0.881250 test like 21.975925 acc 0.912500 \n",
      "Iter 305: parms (-4.004046, 0.472727, 0.601211), trn like 77.522174 acc 0.881250 test like 21.962258 acc 0.912500 \n",
      "Iter 306: parms (-4.009729, 0.473317, 0.601897), trn like 77.489112 acc 0.881250 test like 21.948668 acc 0.912500 \n",
      "Iter 307: parms (-4.015393, 0.473905, 0.602581), trn like 77.456268 acc 0.881250 test like 21.935157 acc 0.912500 \n",
      "Iter 308: parms (-4.021039, 0.474491, 0.603263), trn like 77.423639 acc 0.881250 test like 21.921722 acc 0.900000 \n",
      "Iter 309: parms (-4.026666, 0.475076, 0.603943), trn like 77.391224 acc 0.881250 test like 21.908364 acc 0.900000 \n",
      "Iter 310: parms (-4.032275, 0.475658, 0.604621), trn like 77.359021 acc 0.881250 test like 21.895082 acc 0.900000 \n",
      "Iter 311: parms (-4.037865, 0.476239, 0.605297), trn like 77.327028 acc 0.881250 test like 21.881875 acc 0.900000 \n",
      "Iter 312: parms (-4.043437, 0.476818, 0.605971), trn like 77.295243 acc 0.881250 test like 21.868742 acc 0.900000 \n",
      "Iter 313: parms (-4.048991, 0.477395, 0.606643), trn like 77.263664 acc 0.881250 test like 21.855683 acc 0.900000 \n",
      "Iter 314: parms (-4.054527, 0.477971, 0.607312), trn like 77.232290 acc 0.881250 test like 21.842698 acc 0.900000 \n",
      "Iter 315: parms (-4.060045, 0.478544, 0.607980), trn like 77.201120 acc 0.881250 test like 21.829785 acc 0.900000 \n",
      "Iter 316: parms (-4.065544, 0.479116, 0.608645), trn like 77.170150 acc 0.881250 test like 21.816945 acc 0.900000 \n",
      "Iter 317: parms (-4.071027, 0.479687, 0.609309), trn like 77.139380 acc 0.881250 test like 21.804176 acc 0.900000 \n",
      "Iter 318: parms (-4.076491, 0.480255, 0.609970), trn like 77.108807 acc 0.881250 test like 21.791479 acc 0.900000 \n",
      "Iter 319: parms (-4.081938, 0.480822, 0.610630), trn like 77.078431 acc 0.881250 test like 21.778851 acc 0.900000 \n",
      "Iter 320: parms (-4.087367, 0.481388, 0.611287), trn like 77.048249 acc 0.881250 test like 21.766294 acc 0.900000 \n",
      "Iter 321: parms (-4.092779, 0.481951, 0.611943), trn like 77.018260 acc 0.881250 test like 21.753806 acc 0.900000 \n",
      "Iter 322: parms (-4.098174, 0.482513, 0.612596), trn like 76.988463 acc 0.881250 test like 21.741387 acc 0.900000 \n",
      "Iter 323: parms (-4.103552, 0.483073, 0.613248), trn like 76.958854 acc 0.881250 test like 21.729036 acc 0.900000 \n",
      "Iter 324: parms (-4.108912, 0.483632, 0.613897), trn like 76.929434 acc 0.881250 test like 21.716753 acc 0.900000 \n",
      "Iter 325: parms (-4.114255, 0.484188, 0.614545), trn like 76.900201 acc 0.881250 test like 21.704537 acc 0.900000 \n",
      "Iter 326: parms (-4.119582, 0.484744, 0.615190), trn like 76.871152 acc 0.881250 test like 21.692388 acc 0.900000 \n",
      "Iter 327: parms (-4.124891, 0.485297, 0.615834), trn like 76.842287 acc 0.881250 test like 21.680305 acc 0.900000 \n",
      "Iter 328: parms (-4.130184, 0.485849, 0.616476), trn like 76.813603 acc 0.881250 test like 21.668288 acc 0.900000 \n",
      "Iter 329: parms (-4.135460, 0.486400, 0.617116), trn like 76.785100 acc 0.881250 test like 21.656336 acc 0.900000 \n",
      "Iter 330: parms (-4.140719, 0.486948, 0.617754), trn like 76.756776 acc 0.881250 test like 21.644448 acc 0.900000 \n",
      "Iter 331: parms (-4.145962, 0.487495, 0.618390), trn like 76.728629 acc 0.881250 test like 21.632625 acc 0.900000 \n",
      "Iter 332: parms (-4.151188, 0.488041, 0.619024), trn like 76.700658 acc 0.881250 test like 21.620865 acc 0.900000 \n",
      "Iter 333: parms (-4.156398, 0.488585, 0.619656), trn like 76.672862 acc 0.881250 test like 21.609169 acc 0.900000 \n",
      "Iter 334: parms (-4.161592, 0.489127, 0.620287), trn like 76.645238 acc 0.881250 test like 21.597535 acc 0.900000 \n",
      "Iter 335: parms (-4.166769, 0.489668, 0.620915), trn like 76.617787 acc 0.881250 test like 21.585963 acc 0.900000 \n",
      "Iter 336: parms (-4.171931, 0.490207, 0.621542), trn like 76.590505 acc 0.881250 test like 21.574453 acc 0.900000 \n",
      "Iter 337: parms (-4.177076, 0.490745, 0.622167), trn like 76.563393 acc 0.881250 test like 21.563005 acc 0.900000 \n",
      "Iter 338: parms (-4.182206, 0.491281, 0.622790), trn like 76.536448 acc 0.881250 test like 21.551617 acc 0.900000 \n",
      "Iter 339: parms (-4.187319, 0.491815, 0.623411), trn like 76.509669 acc 0.881250 test like 21.540290 acc 0.900000 \n",
      "Iter 340: parms (-4.192417, 0.492348, 0.624031), trn like 76.483055 acc 0.881250 test like 21.529022 acc 0.900000 \n",
      "Iter 341: parms (-4.197499, 0.492880, 0.624648), trn like 76.456605 acc 0.881250 test like 21.517814 acc 0.900000 \n",
      "Iter 342: parms (-4.202565, 0.493409, 0.625264), trn like 76.430316 acc 0.881250 test like 21.506665 acc 0.900000 \n",
      "Iter 343: parms (-4.207616, 0.493938, 0.625878), trn like 76.404189 acc 0.884375 test like 21.495575 acc 0.900000 \n",
      "Iter 344: parms (-4.212652, 0.494465, 0.626490), trn like 76.378221 acc 0.884375 test like 21.484542 acc 0.900000 \n",
      "Iter 345: parms (-4.217672, 0.494990, 0.627101), trn like 76.352411 acc 0.884375 test like 21.473567 acc 0.900000 \n",
      "Iter 346: parms (-4.222676, 0.495514, 0.627709), trn like 76.326759 acc 0.884375 test like 21.462650 acc 0.900000 \n",
      "Iter 347: parms (-4.227666, 0.496036, 0.628316), trn like 76.301262 acc 0.884375 test like 21.451789 acc 0.900000 \n",
      "Iter 348: parms (-4.232640, 0.496557, 0.628921), trn like 76.275920 acc 0.884375 test like 21.440985 acc 0.900000 \n",
      "Iter 349: parms (-4.237599, 0.497077, 0.629525), trn like 76.250731 acc 0.884375 test like 21.430237 acc 0.900000 \n",
      "Iter 350: parms (-4.242543, 0.497595, 0.630126), trn like 76.225694 acc 0.884375 test like 21.419544 acc 0.900000 \n",
      "Iter 351: parms (-4.247472, 0.498111, 0.630726), trn like 76.200809 acc 0.884375 test like 21.408907 acc 0.900000 \n",
      "Iter 352: parms (-4.252387, 0.498626, 0.631325), trn like 76.176073 acc 0.884375 test like 21.398324 acc 0.900000 \n",
      "Iter 353: parms (-4.257286, 0.499140, 0.631921), trn like 76.151485 acc 0.884375 test like 21.387796 acc 0.900000 \n",
      "Iter 354: parms (-4.262171, 0.499652, 0.632516), trn like 76.127046 acc 0.884375 test like 21.377322 acc 0.900000 \n",
      "Iter 355: parms (-4.267041, 0.500162, 0.633109), trn like 76.102752 acc 0.884375 test like 21.366901 acc 0.900000 \n",
      "Iter 356: parms (-4.271897, 0.500672, 0.633700), trn like 76.078603 acc 0.884375 test like 21.356533 acc 0.900000 \n",
      "Iter 357: parms (-4.276737, 0.501179, 0.634290), trn like 76.054599 acc 0.884375 test like 21.346219 acc 0.900000 \n",
      "Iter 358: parms (-4.281564, 0.501686, 0.634878), trn like 76.030737 acc 0.884375 test like 21.335956 acc 0.900000 \n",
      "Iter 359: parms (-4.286376, 0.502191, 0.635465), trn like 76.007017 acc 0.884375 test like 21.325746 acc 0.900000 \n",
      "Iter 360: parms (-4.291174, 0.502694, 0.636049), trn like 75.983438 acc 0.884375 test like 21.315587 acc 0.900000 \n",
      "Iter 361: parms (-4.295957, 0.503196, 0.636632), trn like 75.959998 acc 0.884375 test like 21.305480 acc 0.900000 \n",
      "Iter 362: parms (-4.300727, 0.503697, 0.637214), trn like 75.936697 acc 0.884375 test like 21.295424 acc 0.900000 \n",
      "Iter 363: parms (-4.305482, 0.504196, 0.637794), trn like 75.913533 acc 0.884375 test like 21.285418 acc 0.900000 \n",
      "Iter 364: parms (-4.310223, 0.504694, 0.638372), trn like 75.890506 acc 0.884375 test like 21.275462 acc 0.900000 \n",
      "Iter 365: parms (-4.314950, 0.505191, 0.638948), trn like 75.867614 acc 0.884375 test like 21.265557 acc 0.900000 \n",
      "Iter 366: parms (-4.319664, 0.505686, 0.639523), trn like 75.844856 acc 0.884375 test like 21.255700 acc 0.900000 \n",
      "Iter 367: parms (-4.324363, 0.506180, 0.640097), trn like 75.822232 acc 0.884375 test like 21.245893 acc 0.900000 \n",
      "Iter 368: parms (-4.329049, 0.506673, 0.640668), trn like 75.799739 acc 0.884375 test like 21.236135 acc 0.900000 \n",
      "Iter 369: parms (-4.333721, 0.507164, 0.641238), trn like 75.777379 acc 0.884375 test like 21.226425 acc 0.900000 \n",
      "Iter 370: parms (-4.338379, 0.507654, 0.641807), trn like 75.755148 acc 0.884375 test like 21.216763 acc 0.900000 \n",
      "Iter 371: parms (-4.343024, 0.508142, 0.642374), trn like 75.733047 acc 0.884375 test like 21.207149 acc 0.900000 \n",
      "Iter 372: parms (-4.347655, 0.508629, 0.642939), trn like 75.711074 acc 0.884375 test like 21.197583 acc 0.900000 \n",
      "Iter 373: parms (-4.352273, 0.509115, 0.643503), trn like 75.689228 acc 0.884375 test like 21.188064 acc 0.900000 \n",
      "Iter 374: parms (-4.356877, 0.509600, 0.644065), trn like 75.667509 acc 0.884375 test like 21.178591 acc 0.900000 \n",
      "Iter 375: parms (-4.361468, 0.510083, 0.644626), trn like 75.645915 acc 0.884375 test like 21.169165 acc 0.900000 \n",
      "Iter 376: parms (-4.366046, 0.510564, 0.645185), trn like 75.624446 acc 0.884375 test like 21.159785 acc 0.900000 \n",
      "Iter 377: parms (-4.370610, 0.511045, 0.645743), trn like 75.603100 acc 0.884375 test like 21.150451 acc 0.900000 \n",
      "Iter 378: parms (-4.375162, 0.511524, 0.646299), trn like 75.581877 acc 0.884375 test like 21.141162 acc 0.900000 \n",
      "Iter 379: parms (-4.379700, 0.512002, 0.646853), trn like 75.560775 acc 0.884375 test like 21.131918 acc 0.900000 \n",
      "Iter 380: parms (-4.384225, 0.512479, 0.647406), trn like 75.539795 acc 0.884375 test like 21.122720 acc 0.900000 \n",
      "Iter 381: parms (-4.388738, 0.512954, 0.647958), trn like 75.518934 acc 0.884375 test like 21.113566 acc 0.900000 \n",
      "Iter 382: parms (-4.393237, 0.513428, 0.648508), trn like 75.498192 acc 0.884375 test like 21.104456 acc 0.900000 \n",
      "Iter 383: parms (-4.397723, 0.513901, 0.649056), trn like 75.477569 acc 0.884375 test like 21.095390 acc 0.900000 \n",
      "Iter 384: parms (-4.402197, 0.514373, 0.649603), trn like 75.457063 acc 0.884375 test like 21.086368 acc 0.900000 \n",
      "Iter 385: parms (-4.406658, 0.514843, 0.650149), trn like 75.436673 acc 0.884375 test like 21.077389 acc 0.900000 \n",
      "Iter 386: parms (-4.411106, 0.515312, 0.650693), trn like 75.416399 acc 0.884375 test like 21.068453 acc 0.900000 \n",
      "Iter 387: parms (-4.415542, 0.515780, 0.651236), trn like 75.396240 acc 0.884375 test like 21.059560 acc 0.900000 \n",
      "Iter 388: parms (-4.419965, 0.516246, 0.651777), trn like 75.376194 acc 0.884375 test like 21.050709 acc 0.900000 \n",
      "Iter 389: parms (-4.424375, 0.516711, 0.652316), trn like 75.356262 acc 0.884375 test like 21.041901 acc 0.900000 \n",
      "Iter 390: parms (-4.428774, 0.517175, 0.652855), trn like 75.336441 acc 0.884375 test like 21.033134 acc 0.900000 \n",
      "Iter 391: parms (-4.433159, 0.517638, 0.653391), trn like 75.316733 acc 0.884375 test like 21.024409 acc 0.900000 \n",
      "Iter 392: parms (-4.437533, 0.518100, 0.653927), trn like 75.297134 acc 0.884375 test like 21.015726 acc 0.900000 \n",
      "Iter 393: parms (-4.441894, 0.518560, 0.654460), trn like 75.277646 acc 0.884375 test like 21.007083 acc 0.900000 \n",
      "Iter 394: parms (-4.446242, 0.519019, 0.654993), trn like 75.258267 acc 0.884375 test like 20.998482 acc 0.900000 \n",
      "Iter 395: parms (-4.450579, 0.519477, 0.655524), trn like 75.238995 acc 0.884375 test like 20.989921 acc 0.900000 \n",
      "Iter 396: parms (-4.454904, 0.519934, 0.656053), trn like 75.219832 acc 0.884375 test like 20.981400 acc 0.900000 \n",
      "Iter 397: parms (-4.459216, 0.520389, 0.656582), trn like 75.200775 acc 0.884375 test like 20.972919 acc 0.900000 \n",
      "Iter 398: parms (-4.463516, 0.520844, 0.657108), trn like 75.181824 acc 0.884375 test like 20.964478 acc 0.900000 \n",
      "Iter 399: parms (-4.467805, 0.521297, 0.657634), trn like 75.162978 acc 0.884375 test like 20.956076 acc 0.900000 \n",
      "Best parameters: (0.068000, 0.630254, 0.695165)\n"
     ]
    }
   ],
   "source": [
    "def predict(X, theta):\n",
    "    return 1 / (1 + np.exp(- X @ theta))\n",
    "\n",
    "# def loglike(y, ypred):\n",
    "#     return sum(y * np.log(ypred) + (1-y) * np.log(1-ypred))[0]\n",
    "def loglike(y, ypred):\n",
    "    \n",
    "    return -sum(y * np.log(ypred) + (1-y) * np.log(1-ypred))[0]\n",
    "\n",
    "def accuracy(y, ypred):\n",
    "    return sum((ypred >= 0.5) == (y == 1)) / y.size\n",
    "\n",
    "theta = theta_initial\n",
    "alpha = 0.001\n",
    "cost_train = []\n",
    "cost_test = []\n",
    "# acc_train = []\n",
    "# acc_test = []\n",
    "for i in range(0,400):\n",
    "    ypred_train = predict(X_train, theta)\n",
    "    loglike_train = loglike(y_train, ypred_train)\n",
    "    cost_train.append(loglike_train)\n",
    "    acc_train = accuracy(y_train, ypred_train)\n",
    "    ypred_test = predict(X_test, theta)\n",
    "    loglike_test = loglike(y_test, ypred_test)\n",
    "    cost_test.append(loglike_test)\n",
    "    acc_test = accuracy(y_test, ypred_test)\n",
    "    sbest = ''\n",
    "    if i == 0 or loglike_test > loglike_test_best:\n",
    "        loglike_test_best = loglike_test\n",
    "        theta_best = theta\n",
    "        acc_test_best = acc_test\n",
    "        acc_train_best = acc_train\n",
    "        sbest = '*'\n",
    "#     if i % 50 == 0:\n",
    "    print('Iter %d: parms (%f, %f, %f), trn like %f acc %f test like %f acc %f %s' %\n",
    "          (i, theta[0], theta[1], theta[2], loglike_train, acc_train, loglike_test, acc_test, sbest))\n",
    "    dtheta = X_train.T @ (y_train - ypred_train)\n",
    "    theta = theta + alpha * dtheta\n",
    "\n",
    "def plot_line(plot_handle, theta):\n",
    "    X11 = -2\n",
    "    X12 = (- theta[0] - theta[1] * X11) / theta[2]\n",
    "    X21 = 10\n",
    "    X22 = (- theta[0] - theta[1] * X21) / theta[2]\n",
    "    plot_handle.plot([X11, X21], [X21, X22], 'k-')\n",
    "\n",
    "print('Best parameters: (%f, %f, %f)' % (theta_best[0], theta_best[1], theta_best[2]))\n"
   ]
  },
  {
   "cell_type": "code",
   "execution_count": 63,
   "metadata": {},
   "outputs": [],
   "source": [
    "# print(len(cost_test))"
   ]
  },
  {
   "cell_type": "code",
   "execution_count": 64,
   "metadata": {},
   "outputs": [
    {
     "data": {
      "text/plain": [
       "<matplotlib.legend.Legend at 0x7f7bc4052c10>"
      ]
     },
     "execution_count": 64,
     "metadata": {},
     "output_type": "execute_result"
    },
    {
     "data": {
      "image/png": "[encoded data removed]",
      "text/plain": [
       "<Figure size 432x288 with 1 Axes>"
      ]
     },
     "metadata": {
      "needs_background": "light"
     },
     "output_type": "display_data"
    }
   ],
   "source": [
    "plt.plot(np.arange(0,400),cost_train,label = 'train cost')\n",
    "plt.plot(np.arange(0,400),cost_test,label = 'test cost')\n",
    "plt.legend()"
   ]
  },
  {
   "cell_type": "markdown",
   "metadata": {},
   "source": [
    "3. Indicate the training set accuracy and validation set accuracy of the logistic regression model.\n"
   ]
  },
  {
   "cell_type": "code",
   "execution_count": 66,
   "metadata": {},
   "outputs": [
    {
     "name": "stdout",
     "output_type": "stream",
     "text": [
      "The accuracy of the training set:  0.7125\n",
      "The accuracy of the test set:  0.6125\n"
     ]
    }
   ],
   "source": [
    "print('The accuracy of the training set: ',acc_train_best[0])\n",
    "print('The accuracy of the test set: ',acc_test_best[0])"
   ]
  },
  {
   "cell_type": "markdown",
   "metadata": {},
   "source": [
    "4. Make two separate plots, one for the training set and one for the validation set, with three colors: one for correctly classified points from class 1, one for correctly classified points from class 2, and one for incorrectly classified points."
   ]
  },
  {
   "cell_type": "markdown",
   "metadata": {},
   "source": [
    "#### (extra)"
   ]
  },
  {
   "cell_type": "code",
   "execution_count": 67,
   "metadata": {},
   "outputs": [
    {
     "data": {
      "text/plain": [
       "Text(0.5, 1.0, 'Best logistic regression classifier')"
      ]
     },
     "execution_count": 67,
     "metadata": {},
     "output_type": "execute_result"
    },
    {
     "data": {
      "image/png": "[encoded data removed]",
      "text/plain": [
       "<Figure size 576x360 with 1 Axes>"
      ]
     },
     "metadata": {
      "needs_background": "light"
     },
     "output_type": "display_data"
    }
   ],
   "source": [
    "test_idx_0 = (y_test==0).reshape(X_test.shape[0])\n",
    "test_idx_1 = (y_test==1).reshape(X_test.shape[0])\n",
    "\n",
    "plt.figure(figsize=(8, 5))\n",
    "plt.plot(X_test[test_idx_0, 1], X_test[test_idx_0, 2], 'ro', label='Class 0')\n",
    "plt.plot(X_test[test_idx_1, 1], X_test[test_idx_1, 2], 'bo', label='Class 1')\n",
    "plot_line(plt, theta_best)\n",
    "plt.xlim([-2,15])\n",
    "plt.ylim([-2,15])\n",
    "plt.legend()\n",
    "plt.title('Best logistic regression classifier')"
   ]
  },
  {
   "cell_type": "markdown",
   "metadata": {},
   "source": [
    "### Plot of the training set"
   ]
  },
  {
   "cell_type": "code",
   "execution_count": 12,
   "metadata": {},
   "outputs": [
    {
     "name": "stdout",
     "output_type": "stream",
     "text": [
      "Best parameters: (0.064000, 0.618150, 0.682050)\n"
     ]
    },
    {
     "data": {
      "image/png": "[encoded data removed]",
      "text/plain": [
       "<Figure size 576x360 with 1 Axes>"
      ]
     },
     "metadata": {
      "needs_background": "light"
     },
     "output_type": "display_data"
    }
   ],
   "source": [
    "\n",
    "plt.figure(figsize=(8, 5))\n",
    "y_pred_best_train = predict(X_train, theta_best)\n",
    "idx_correct = (y_pred_best_train < 0.5) == (y_train == 0)\n",
    "idx_correct_0 = ((y_train == 0) & idx_correct).reshape(320)\n",
    "idx_correct_1 = ((y_train == 1) & idx_correct).reshape(320)\n",
    "idx_incorrect_0 = ((y_train == 0) & ~idx_correct).reshape(320)\n",
    "idx_incorrect_1 = ((y_train == 1) & ~idx_correct).reshape(320)\n",
    "\n",
    "plt.plot(X_train[idx_correct_0, 1], X_train[idx_correct_0, 2], 'ro', label='Class 0 correct')\n",
    "plt.plot(X_train[idx_correct_1, 1], X_train[idx_correct_1, 2], 'bo', label='Class 1 correct')\n",
    "plt.plot(X_train[idx_incorrect_0, 1], X_train[idx_incorrect_0, 2], 'g*', label='Class 0 incorrect', ms=10)\n",
    "plt.plot(X_train[idx_incorrect_1, 1], X_train[idx_incorrect_1, 2], 'g*', label='Class 1 incorrect', ms=10)\n",
    "plt.xlim([-2,10])\n",
    "plt.legend()\n",
    "plt.title('Best augmented logistic regression classifier')\n",
    "\n",
    "print('Best parameters: (%f, %f, %f)' % (theta_best[0], theta_best[1], theta_best[2]))"
   ]
  },
  {
   "cell_type": "markdown",
   "metadata": {},
   "source": [
    "#### Plot of the test set"
   ]
  },
  {
   "cell_type": "code",
   "execution_count": 13,
   "metadata": {},
   "outputs": [
    {
     "name": "stdout",
     "output_type": "stream",
     "text": [
      "Best parameters: (0.064000, 0.618150, 0.682050)\n"
     ]
    },
    {
     "data": {
      "image/png": "[encoded data removed]",
      "text/plain": [
       "<Figure size 576x360 with 1 Axes>"
      ]
     },
     "metadata": {
      "needs_background": "light"
     },
     "output_type": "display_data"
    }
   ],
   "source": [
    "\n",
    "plt.figure(figsize=(8, 5))\n",
    "y_pred_best = predict(X_test, theta_best)\n",
    "idx_correct = (y_pred_best < 0.5) == (y_test == 0)\n",
    "idx_correct_0 = ((y_test == 0) & idx_correct).reshape(80)\n",
    "idx_correct_1 = ((y_test == 1) & idx_correct).reshape(80)\n",
    "idx_incorrect_0 = ((y_test == 0) & ~idx_correct).reshape(80)\n",
    "idx_incorrect_1 = ((y_test == 1) & ~idx_correct).reshape(80)\n",
    "\n",
    "plt.plot(X_test[idx_correct_0, 1], X_test[idx_correct_0, 2], 'ro', label='Class 0 correct')\n",
    "plt.plot(X_test[idx_correct_1, 1], X_test[idx_correct_1, 2], 'bo', label='Class 1 correct')\n",
    "plt.plot(X_test[idx_incorrect_0, 1], X_test[idx_incorrect_0, 2], 'g*', label='Class 0 incorrect', ms=10)\n",
    "plt.plot(X_test[idx_incorrect_1, 1], X_test[idx_incorrect_1, 2], 'g*', label='Class 1 incorrect', ms=10)\n",
    "plt.xlim([-2,10])\n",
    "plt.legend()\n",
    "plt.title('Best augmented logistic regression classifier')\n",
    "\n",
    "print('Best parameters: (%f, %f, %f)' % (theta_best[0], theta_best[1], theta_best[2]))\n"
   ]
  },
  {
   "cell_type": "markdown",
   "metadata": {},
   "source": [
    "## Question 3 (20 points)\n",
    "\n",
    "Repeat Question 2 using the PyTorch neural network library. Your PyTorch model should have a single linear layer with two inputs and a single output, a logistic sigmoid activation function, binary cross entropy loss function, and stochastic gradient descent for the optimizer. Show the same plots you showed for Question 2."
   ]
  },
  {
   "cell_type": "code",
   "execution_count": 14,
   "metadata": {},
   "outputs": [
    {
     "name": "stdout",
     "output_type": "stream",
     "text": [
      "[[3.97416989 3.13837773 0.        ]\n",
      " [6.03743949 7.15540807 1.        ]\n",
      " [3.61964272 2.52489502 1.        ]\n",
      " ...\n",
      " [3.14824113 4.18781184 1.        ]\n",
      " [2.3552448  2.55352396 0.        ]\n",
      " [0.61800722 3.01529262 0.        ]]\n"
     ]
    }
   ],
   "source": [
    "# Place code to load the data and plot the scatterplot here\n",
    "import pandas as pd\n",
    "import numpy as np\n",
    "import matplotlib.pyplot as plt\n",
    "\n",
    "data = pd.read_csv('final-exam-data.csv',delimiter = ',')\n",
    "data = data.to_numpy()\n",
    "print(data)\n",
    "X = data[:,:2]\n",
    "# print(X)\n",
    "y = data[:,2]\n",
    "# print(y)"
   ]
  },
  {
   "cell_type": "code",
   "execution_count": 15,
   "metadata": {},
   "outputs": [],
   "source": [
    "# Place code to build, train, and evaluate your PyTorch model here\n",
    "import numpy as np\n",
    "import torch\n",
    "import torch.nn as nn\n",
    "import torch.nn.functional as F\n",
    "import torch.optim as optim\n",
    "from torch.autograd import Variable\n",
    "import pandas as pd\n",
    "import matplotlib.pyplot as plt\n",
    "import seaborn as sns\n",
    "%matplotlib inline\n",
    "import warnings\n",
    "warnings.filterwarnings(\"ignore\")\n",
    "from tqdm import tqdm"
   ]
  },
  {
   "cell_type": "code",
   "execution_count": 16,
   "metadata": {},
   "outputs": [],
   "source": [
    "# hyperparameters\n",
    "input_size = 2\n",
    "output_size = 1\n",
    "\n",
    "epochs = 20\n",
    "batch_size = 50\n",
    "learning_rate = 0.00005"
   ]
  },
  {
   "cell_type": "code",
   "execution_count": 17,
   "metadata": {},
   "outputs": [],
   "source": [
    "class Network(nn.Module):\n",
    "    \n",
    "    def __init__(self):\n",
    "        super(Network, self).__init__()\n",
    "        self.l1 = nn.Linear(input_size, output_size)\n",
    "        self.sigmoid = nn.Sigmoid()\n",
    "        \n",
    "    def forward(self, x):\n",
    "        x = self.l1(x)\n",
    "        return F.sigmoid(x)"
   ]
  },
  {
   "cell_type": "code",
   "execution_count": 18,
   "metadata": {},
   "outputs": [
    {
     "name": "stdout",
     "output_type": "stream",
     "text": [
      "shapes of X_train, y_train\n",
      "(320, 2) (320,)\n",
      "shapes of X_test, y_test\n",
      "(80, 2) (80,)\n"
     ]
    }
   ],
   "source": [
    "# Place code to split the data, fit the LR model, output accuracy, and plot the result here\n",
    "import random\n",
    "m, n = X.shape\n",
    "idx = idx\n",
    "# idx = np.arange(0, m)\n",
    "# random.shuffle(idx)\n",
    "percent_train = .8\n",
    "m_train = int(m * percent_train)\n",
    "train_idx = idx[0:m_train]\n",
    "test_idx = idx[m_train:]\n",
    "X_train = X[train_idx,:];\n",
    "X_test = X[test_idx,:];\n",
    "\n",
    "y_train = y[train_idx];\n",
    "y_test = y[test_idx];\n",
    "\n",
    "# double check the shapes\n",
    "assert X_train.shape[0] == y_train.shape[0]\n",
    "# assert len(X_train)  == len(y_train)\n",
    "assert X_test.shape[0] == y_test.shape[0]\n",
    "# assert len(X_test) == len(y_test)\n",
    "\n",
    "print('shapes of X_train, y_train')\n",
    "print(X_train.shape,y_train.shape)\n",
    "print('shapes of X_test, y_test')\n",
    "print(X_test.shape,y_test.shape)"
   ]
  },
  {
   "cell_type": "code",
   "execution_count": 19,
   "metadata": {},
   "outputs": [],
   "source": [
    "# print(X)\n",
    "#torch\n",
    "x_data = Variable(torch.from_numpy(X_train))\n",
    "y_data = Variable(torch.from_numpy(y_train))\n",
    "\n",
    "xtest_data = Variable(torch.from_numpy(X_test))\n",
    "ytest_data = Variable(torch.from_numpy(y_test))"
   ]
  },
  {
   "cell_type": "code",
   "execution_count": 20,
   "metadata": {},
   "outputs": [],
   "source": [
    "model = Network()\n",
    "optimizer = torch.optim.SGD(model.parameters(), lr=learning_rate, momentum=0.9)\n",
    "loss_func = torch.nn.BCELoss(reduction='sum')"
   ]
  },
  {
   "cell_type": "code",
   "execution_count": 21,
   "metadata": {},
   "outputs": [
    {
     "name": "stderr",
     "output_type": "stream",
     "text": [
      "100%|██████████| 3000/3000 [00:05<00:00, 591.66it/s]\n"
     ]
    }
   ],
   "source": [
    "epochs = 3000\n",
    "history = { \"loss\": [], \"accuracy\": [], \"loss_val\": [], \"accuracy_val\": [] }\n",
    "\n",
    "for i in tqdm(range(epochs)):\n",
    "    y_pred = model(x_data.float())\n",
    "    loss = loss_func(y_pred, y_data.view(-1,1).float())\n",
    "    \n",
    "    prediction = [1 if x > 0.5 else 0 for x in y_pred.data.numpy()]\n",
    "    correct = (prediction == y_data.numpy()).sum()\n",
    "    \n",
    "    \n",
    "    y_val_pred = model(xtest_data.float())\n",
    "    loss_val = loss_func(y_val_pred,ytest_data.view(-1,1).float())\n",
    "    prediction_val = [1 if x > 0.5 else 0 for x in y_val_pred.data.numpy()]\n",
    "    correct_val = (prediction_val == ytest_data.numpy()).sum()\n",
    "    \n",
    "    optimizer.zero_grad()\n",
    "    loss.backward()\n",
    "    optimizer.step()\n",
    "    \n",
    "    history[\"loss\"].append(loss.item())\n",
    "    history[\"accuracy\"].append(100 * correct / len(prediction))\n",
    "    history[\"loss_val\"].append(loss_val.item())\n",
    "    history[\"accuracy_val\"].append(100 * correct_val / len(prediction_val))\n"
   ]
  },
  {
   "cell_type": "code",
   "execution_count": 22,
   "metadata": {},
   "outputs": [
    {
     "data": {
      "text/plain": [
       "[<matplotlib.lines.Line2D at 0x7f7bc54fd130>]"
      ]
     },
     "execution_count": 22,
     "metadata": {},
     "output_type": "execute_result"
    },
    {
     "data": {
      "image/png": "[encoded data removed]",
      "text/plain": [
       "<Figure size 720x576 with 1 Axes>"
      ]
     },
     "metadata": {
      "needs_background": "light"
     },
     "output_type": "display_data"
    }
   ],
   "source": [
    "#loss\n",
    "plt.figure(figsize=(10,8))\n",
    "plt.title(\"Loss\") \n",
    "plt.plot(history[\"loss_val\"])\n",
    "plt.plot(history[\"loss\"])"
   ]
  },
  {
   "cell_type": "code",
   "execution_count": 23,
   "metadata": {},
   "outputs": [
    {
     "data": {
      "text/plain": [
       "[<matplotlib.lines.Line2D at 0x7f7bc43ac100>]"
      ]
     },
     "execution_count": 23,
     "metadata": {},
     "output_type": "execute_result"
    },
    {
     "data": {
      "image/png": "[encoded data removed]",
      "text/plain": [
       "<Figure size 720x576 with 1 Axes>"
      ]
     },
     "metadata": {
      "needs_background": "light"
     },
     "output_type": "display_data"
    }
   ],
   "source": [
    "#Accuracy\n",
    "plt.figure(figsize=(10,8))\n",
    "plt.title(\"Accuracy\") \n",
    "plt.plot(history[\"accuracy_val\"])\n",
    "plt.plot(history[\"accuracy\"])"
   ]
  },
  {
   "cell_type": "markdown",
   "metadata": {},
   "source": [
    "### Plot of the training set"
   ]
  },
  {
   "cell_type": "code",
   "execution_count": 24,
   "metadata": {},
   "outputs": [],
   "source": [
    "prediction = np.array(prediction)"
   ]
  },
  {
   "cell_type": "code",
   "execution_count": 25,
   "metadata": {},
   "outputs": [
    {
     "name": "stdout",
     "output_type": "stream",
     "text": [
      "Best parameters: (0.064000, 0.618150, 0.682050)\n"
     ]
    },
    {
     "data": {
      "image/png": "[encoded data removed]",
      "text/plain": [
       "<Figure size 576x360 with 1 Axes>"
      ]
     },
     "metadata": {
      "needs_background": "light"
     },
     "output_type": "display_data"
    }
   ],
   "source": [
    "\n",
    "plt.figure(figsize=(8, 5))\n",
    "# y_pred_best_train = predict(X_train, theta_best)\n",
    "idx_correct = (prediction < 0.5) == (y_train == 0)\n",
    "idx_correct_0 = ((y_train == 0) & idx_correct).reshape(320)\n",
    "idx_correct_1 = ((y_train == 1) & idx_correct).reshape(320)\n",
    "idx_incorrect_0 = ((y_train == 0) & ~idx_correct).reshape(320)\n",
    "idx_incorrect_1 = ((y_train == 1) & ~idx_correct).reshape(320)\n",
    "\n",
    "plt.plot(X_train[idx_correct_0, 0], X_train[idx_correct_0, 1], 'ro', label='Class 0 correct')\n",
    "plt.plot(X_train[idx_correct_1, 0], X_train[idx_correct_1, 1], 'bo', label='Class 1 correct')\n",
    "plt.plot(X_train[idx_incorrect_0, 0], X_train[idx_incorrect_0, 1], 'g*', label='Class 0 incorrect', ms=10)\n",
    "plt.plot(X_train[idx_incorrect_1, 0], X_train[idx_incorrect_1, 1], 'g*', label='Class 1 incorrect', ms=10)\n",
    "plt.xlim([-2,10])\n",
    "plt.legend()\n",
    "plt.title('Best augmented logistic regression classifier')\n",
    "\n",
    "print('Best parameters: (%f, %f, %f)' % (theta_best[0], theta_best[1], theta_best[2]))"
   ]
  },
  {
   "cell_type": "markdown",
   "metadata": {},
   "source": [
    "### Plot of the test set\n"
   ]
  },
  {
   "cell_type": "code",
   "execution_count": 26,
   "metadata": {},
   "outputs": [],
   "source": [
    "# print(type(prediction_val))\n",
    "prediction_val = np.array(prediction_val)\n",
    "# print(type(prediction_val))"
   ]
  },
  {
   "cell_type": "code",
   "execution_count": 27,
   "metadata": {},
   "outputs": [
    {
     "name": "stdout",
     "output_type": "stream",
     "text": [
      "Best parameters: (0.064000, 0.618150, 0.682050)\n"
     ]
    },
    {
     "data": {
      "image/png": "[encoded data removed]",
      "text/plain": [
       "<Figure size 576x360 with 1 Axes>"
      ]
     },
     "metadata": {
      "needs_background": "light"
     },
     "output_type": "display_data"
    }
   ],
   "source": [
    "\n",
    "plt.figure(figsize=(8, 5))\n",
    "# y_pred_best = predict(X_test, theta_best)\n",
    "idx_correct = (prediction_val < 0.5) == (y_test == 0)\n",
    "idx_correct_0 = ((y_test == 0) & idx_correct).reshape(80)\n",
    "idx_correct_1 = ((y_test == 1) & idx_correct).reshape(80)\n",
    "idx_incorrect_0 = ((y_test == 0) & ~idx_correct).reshape(80)\n",
    "idx_incorrect_1 = ((y_test == 1) & ~idx_correct).reshape(80)\n",
    "\n",
    "plt.plot(X_test[idx_correct_0, 0], X_test[idx_correct_0, 1], 'ro', label='Class 0 correct')\n",
    "plt.plot(X_test[idx_correct_1, 0], X_test[idx_correct_1, 1], 'bo', label='Class 1 correct')\n",
    "plt.plot(X_test[idx_incorrect_0, 0], X_test[idx_incorrect_0, 1], 'g*', label='Class 0 incorrect', ms=10)\n",
    "plt.plot(X_test[idx_incorrect_1, 0], X_test[idx_incorrect_1, 1], 'g*', label='Class 1 incorrect', ms=10)\n",
    "plt.xlim([-2,10])\n",
    "plt.legend()\n",
    "plt.title('Best augmented logistic regression classifier')\n",
    "\n",
    "print('Best parameters: (%f, %f, %f)' % (theta_best[0], theta_best[1], theta_best[2]))\n"
   ]
  },
  {
   "cell_type": "code",
   "execution_count": null,
   "metadata": {},
   "outputs": [],
   "source": []
  },
  {
   "cell_type": "markdown",
   "metadata": {},
   "source": [
    "## Question 4 (20 points)\n",
    "\n",
    "Add a 10-unit hidden layer with ReLU activation to the PyTorch model from Question 3. Plot training loss and validation loss as function of epoch of training. Do you see any evidence of overfitting?"
   ]
  },
  {
   "cell_type": "code",
   "execution_count": 40,
   "metadata": {},
   "outputs": [
    {
     "name": "stdout",
     "output_type": "stream",
     "text": [
      "[[3.97416989 3.13837773 0.        ]\n",
      " [6.03743949 7.15540807 1.        ]\n",
      " [3.61964272 2.52489502 1.        ]\n",
      " ...\n",
      " [3.14824113 4.18781184 1.        ]\n",
      " [2.3552448  2.55352396 0.        ]\n",
      " [0.61800722 3.01529262 0.        ]]\n"
     ]
    }
   ],
   "source": [
    "# Place code to load the data and plot the scatterplot here\n",
    "import pandas as pd\n",
    "import numpy as np\n",
    "import matplotlib.pyplot as plt\n",
    "\n",
    "data = pd.read_csv('final-exam-data.csv',delimiter = ',')\n",
    "data = data.to_numpy()\n",
    "print(data)\n",
    "X = data[:,:2]\n",
    "# print(X)\n",
    "y = data[:,2]\n",
    "# print(y)"
   ]
  },
  {
   "cell_type": "code",
   "execution_count": 41,
   "metadata": {},
   "outputs": [],
   "source": [
    "# Place code to build, train, and evaluate your PyTorch model here\n",
    "import numpy as np\n",
    "import torch\n",
    "import torch.nn as nn\n",
    "import torch.nn.functional as F\n",
    "import torch.optim as optim\n",
    "from torch.autograd import Variable\n",
    "import pandas as pd\n",
    "import matplotlib.pyplot as plt\n",
    "import seaborn as sns\n",
    "%matplotlib inline\n",
    "import warnings\n",
    "warnings.filterwarnings(\"ignore\")\n",
    "from tqdm import tqdm"
   ]
  },
  {
   "cell_type": "code",
   "execution_count": 42,
   "metadata": {},
   "outputs": [
    {
     "name": "stdout",
     "output_type": "stream",
     "text": [
      "shapes of X_train, y_train\n",
      "(320, 2) (320,)\n",
      "shapes of X_test, y_test\n",
      "(80, 2) (80,)\n"
     ]
    }
   ],
   "source": [
    "# Place code to split the data, fit the LR model, output accuracy, and plot the result here\n",
    "import random\n",
    "m, n = X.shape\n",
    "idx = idx\n",
    "# idx = np.arange(0, m)\n",
    "# random.shuffle(idx)\n",
    "percent_train = .8\n",
    "m_train = int(m * percent_train)\n",
    "train_idx = idx[0:m_train]\n",
    "test_idx = idx[m_train:]\n",
    "X_train = X[train_idx,:];\n",
    "X_test = X[test_idx,:];\n",
    "\n",
    "y_train = y[train_idx];\n",
    "y_test = y[test_idx];\n",
    "\n",
    "# double check the shapes\n",
    "assert X_train.shape[0] == y_train.shape[0]\n",
    "# assert len(X_train)  == len(y_train)\n",
    "assert X_test.shape[0] == y_test.shape[0]\n",
    "# assert len(X_test) == len(y_test)\n",
    "\n",
    "print('shapes of X_train, y_train')\n",
    "print(X_train.shape,y_train.shape)\n",
    "print('shapes of X_test, y_test')\n",
    "print(X_test.shape,y_test.shape)"
   ]
  },
  {
   "cell_type": "code",
   "execution_count": 43,
   "metadata": {},
   "outputs": [],
   "source": [
    "# print(X)\n",
    "#torch\n",
    "x_data = Variable(torch.from_numpy(X_train))\n",
    "y_data = Variable(torch.from_numpy(y_train))\n",
    "\n",
    "xtest_data = Variable(torch.from_numpy(X_test))\n",
    "ytest_data = Variable(torch.from_numpy(y_test))"
   ]
  },
  {
   "cell_type": "code",
   "execution_count": 44,
   "metadata": {},
   "outputs": [],
   "source": [
    "# hyperparameters\n",
    "input_size = 2\n",
    "output_size = 1\n",
    "hidden_size = 10\n",
    "\n",
    "epochs = 20\n",
    "batch_size = 50\n",
    "learning_rate = 0.00005"
   ]
  },
  {
   "cell_type": "code",
   "execution_count": 45,
   "metadata": {},
   "outputs": [],
   "source": [
    "class Network(nn.Module):\n",
    "    \n",
    "    def __init__(self):\n",
    "        super(Network, self).__init__()\n",
    "        self.l1 = nn.Linear(input_size, hidden_size)\n",
    "        self.relu = nn.ReLU()\n",
    "        self.l3 = nn.Linear(hidden_size, output_size)\n",
    "        self.sigmoid = nn.Sigmoid()\n",
    "        \n",
    "    def forward(self, x):\n",
    "        x = self.l1(x)\n",
    "        x = self.relu(x)\n",
    "        x = self.l3(x)\n",
    "        return F.sigmoid(x)"
   ]
  },
  {
   "cell_type": "code",
   "execution_count": 46,
   "metadata": {},
   "outputs": [
    {
     "name": "stdout",
     "output_type": "stream",
     "text": [
      "Network(\n",
      "  (l1): Linear(in_features=2, out_features=10, bias=True)\n",
      "  (relu): ReLU()\n",
      "  (l3): Linear(in_features=10, out_features=1, bias=True)\n",
      "  (sigmoid): Sigmoid()\n",
      ")\n"
     ]
    }
   ],
   "source": [
    "net = Network()\n",
    "print(net)"
   ]
  },
  {
   "cell_type": "code",
   "execution_count": 47,
   "metadata": {},
   "outputs": [],
   "source": [
    "loss_func = torch.nn.BCELoss(reduction='sum')\n",
    "optimizer = torch.optim.SGD(net.parameters(), lr=learning_rate, momentum=0.9)"
   ]
  },
  {
   "cell_type": "code",
   "execution_count": 48,
   "metadata": {},
   "outputs": [
    {
     "name": "stderr",
     "output_type": "stream",
     "text": [
      "100%|██████████| 3000/3000 [00:07<00:00, 423.82it/s]\n"
     ]
    }
   ],
   "source": [
    "epochs = 3000\n",
    "history = { \"loss\": [], \"accuracy\": [], \"loss_val\": [], \"accuracy_val\": [] }\n",
    "\n",
    "for i in tqdm(range(epochs)):\n",
    "    y_pred = net(x_data.float())\n",
    "    loss = loss_func(y_pred, y_data.view(-1,1).float())\n",
    "    \n",
    "    prediction = [1 if x > 0.5 else 0 for x in y_pred.data.numpy()]\n",
    "    correct = (prediction == y_data.numpy()).sum()\n",
    "    \n",
    "    \n",
    "    y_val_pred = net(xtest_data.float())\n",
    "    loss_val = loss_func(y_val_pred,ytest_data.view(-1,1).float())\n",
    "    prediction_val = [1 if x > 0.5 else 0 for x in y_val_pred.data.numpy()]\n",
    "    correct_val = (prediction_val == ytest_data.numpy()).sum()\n",
    "    \n",
    "    optimizer.zero_grad()\n",
    "    loss.backward()\n",
    "    optimizer.step()\n",
    "    \n",
    "    history[\"loss\"].append(loss.item())\n",
    "    history[\"accuracy\"].append(100 * correct / len(prediction))\n",
    "    history[\"loss_val\"].append(loss_val.item())\n",
    "    history[\"accuracy_val\"].append(100 * correct_val / len(prediction_val))\n"
   ]
  },
  {
   "cell_type": "code",
   "execution_count": 49,
   "metadata": {},
   "outputs": [
    {
     "data": {
      "text/plain": [
       "<matplotlib.legend.Legend at 0x7f7bc4341ee0>"
      ]
     },
     "execution_count": 49,
     "metadata": {},
     "output_type": "execute_result"
    },
    {
     "data": {
      "image/png": "[encoded data removed]",
      "text/plain": [
       "<Figure size 720x576 with 1 Axes>"
      ]
     },
     "metadata": {
      "needs_background": "light"
     },
     "output_type": "display_data"
    }
   ],
   "source": [
    "#loss\n",
    "plt.figure(figsize=(10,8))\n",
    "plt.title(\"Loss\") \n",
    "plt.plot(history[\"loss_val\"],label = 'loss_val')\n",
    "plt.plot(history[\"loss\"],label = 'loss')\n",
    "plt.legend()"
   ]
  },
  {
   "cell_type": "code",
   "execution_count": 50,
   "metadata": {},
   "outputs": [
    {
     "data": {
      "text/plain": [
       "<matplotlib.legend.Legend at 0x7f7bc41734f0>"
      ]
     },
     "execution_count": 50,
     "metadata": {},
     "output_type": "execute_result"
    },
    {
     "data": {
      "image/png": "[encoded data removed]",
      "text/plain": [
       "<Figure size 720x576 with 1 Axes>"
      ]
     },
     "metadata": {
      "needs_background": "light"
     },
     "output_type": "display_data"
    }
   ],
   "source": [
    "#Accuracy\n",
    "plt.figure(figsize=(10,8))\n",
    "plt.title(\"Accuracy\") \n",
    "plt.plot(history[\"accuracy_val\"],label= 'acc val')\n",
    "plt.plot(history[\"accuracy\"],label= 'acc')\n",
    "plt.legend()"
   ]
  },
  {
   "cell_type": "markdown",
   "metadata": {},
   "source": [
    "*Discuss whether you observe overfitting here.*"
   ]
  },
  {
   "cell_type": "markdown",
   "metadata": {},
   "source": [
    "ANSWER: \n",
    "No, i do not see the evidence of overfitting."
   ]
  },
  {
   "cell_type": "markdown",
   "metadata": {},
   "source": [
    "## Question 5 (10 points)\n",
    "\n",
    "In fact, the data from Question 1 were generated from a Gaussian mixture model. If you were given the data without the labels, for unsupervised learning, do you think the EM algorithm for Gaussian mixtures with $k=2$ components would recover the two classes? Why or why not?\n",
    "\n",
    "*Discuss here.*"
   ]
  },
  {
   "cell_type": "markdown",
   "metadata": {},
   "source": [
    "ANSWER:\n",
    "    Yes, i believe that if we were to use Gaussian mixtures with k = 2, it would perform well. Since our data for each class are of different sizes, in terms of number of data as well as the distributions. \n",
    "    In GMM, it includes Prior probability during training and accounts for the vairance."
   ]
  },
  {
   "cell_type": "markdown",
   "metadata": {},
   "source": [
    "## Question 6 (10 points)\n",
    "\n",
    "Consider the following problem: Students taking classes in Room TC 103 often feel the room is too cold or too hot. To solve the problem, we connect three air conditioners' on/off switches to a computer, place a temperature sensor outdoors next to the room, and put a button box on each student's desk with 3 buttons, labeled \"I'm freezing,\" \"I'm sweating\", and \"I feel good.\" Students can press any of the three buttons to indicate their comfort level. Every 10 minutes, the outdoor temperature is measured in degrees Celsius, and the current comfort level of each student (1, 2, or 3) is measured. The system gets the measurements as input and then has to set the control for each of the three air conditioners to high, low, or off for the next 10 minutes.\n",
    "\n",
    "Suppose you would like to build a reinforcement learning agent to optmize the air conditioning control for the room. Do the following:\n",
    "\n",
    "1. Briefly explain the state space, action space, reward function, and discount factor you think should be used for this problem.\n",
    "2. Briefly explain the reason it is difficult to know the transition probabilities for this problem.\n",
    "3. Briefly describe how you could use a neural network to learn the state transition probabilities.\n",
    "\n",
    "*Write your explanations here.*"
   ]
  },
  {
   "cell_type": "markdown",
   "metadata": {},
   "source": [
    "1. As for the state space, it could be the states the current temperatures from the optimal temperature. As for the action space, system may choose either to set the control for each of the three air conditions to high,low or off meaning that each time it resets, there are in the total of 27 possible actions. As for the reward function, it can be chosen freely, what is important is thatthe control objectives should revolve around stability of the temperature inside. It could be related to the number of percentage of students choosing \"i feel good\" and the outside temperature. As for discount factor, there are many uncertainties during the operation optimization of the HVAC system, including the temperature, the humidities, the number of people inside the room, however, an appropriate value of discount factor would be around 0.9\n"
   ]
  },
  {
   "cell_type": "markdown",
   "metadata": {},
   "source": [
    "2. It is difficult to know the transition probabilities for this problem because there are many possible actions to be selected. Therefore, it is rather difficult (takes many time steps) for RL to know which actions lead to which outcomes"
   ]
  },
  {
   "cell_type": "markdown",
   "metadata": {},
   "source": [
    "3. Since reinforcement algorthms can start from a blank state, and under the right conditions, they improve. It can solve the difficcult problem of correlating immediate actions with the delayed return they produce. However, RL algorithm sometimes have to wait a while to see the fruit of their decisions. They operate in a dealyed return environment, where it can be difficult to understand which action leads to which outcome over many time steps. Therefore, when implementing neural network into the system, it enables the agents to learn the best actions possible in virtual environment in order to attain their goals. That is, it unites function approximation and target optimization, mapping state-action pairs to expected rewards"
   ]
  },
  {
   "cell_type": "code",
   "execution_count": null,
   "metadata": {},
   "outputs": [],
   "source": []
  }
 ],
 "metadata": {
  "kernelspec": {
   "display_name": "Python 3",
   "language": "python",
   "name": "python3"
  },
  "language_info": {
   "codemirror_mode": {
    "name": "ipython",
    "version": 3
   },
   "file_extension": ".py",
   "mimetype": "text/x-python",
   "name": "python",
   "nbconvert_exporter": "python",
   "pygments_lexer": "ipython3",
   "version": "3.8.6"
  }
 },
 "nbformat": 4,
 "nbformat_minor": 4
}
