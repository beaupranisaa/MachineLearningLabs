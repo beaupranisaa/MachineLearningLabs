{
 "cells": [
  {
   "cell_type": "markdown",
   "metadata": {},
   "source": [
    "### Assignment 6\n",
    "##### Name: Pranisaa Charnparttaravanit\n",
    "##### ID: st121720"
   ]
  },
  {
   "cell_type": "markdown",
   "metadata": {},
   "source": [
    "### Import Libraries"
   ]
  },
  {
   "cell_type": "code",
   "execution_count": 1,
   "metadata": {},
   "outputs": [],
   "source": [
    "import csv\n",
    "import math\n",
    "import random\n",
    "import pandas as pd\n",
    "import numpy as np\n",
    "from IPython.display import display, clear_output"
   ]
  },
  {
   "cell_type": "markdown",
   "metadata": {},
   "source": [
    "### Load data"
   ]
  },
  {
   "cell_type": "code",
   "execution_count": 10,
   "metadata": {},
   "outputs": [],
   "source": [
    "def split_data_set(df, training_ratio=0.6, shuffle=True):\n",
    "    if shuffle :\n",
    "        df = df.sample(frac=1)\n",
    "    t_size = int(df.shape[0] * training_ratio)\n",
    "    # train , test \n",
    "    return df.iloc[:t_size], df.iloc[t_size:]\n",
    "\n",
    "class NaiveBay:\n",
    "    def __init__(self, with_prior=True):\n",
    "        self.x_mean = {}\n",
    "        self.x_std = {}\n",
    "        \n",
    "        self.priors = {}\n",
    "        self.y_class = []\n",
    "        self.pred_with_prior = with_prior\n",
    "    \n",
    "    def fit(self, X, y):\n",
    "        # X : 2d array \n",
    "        # y : 1d array\n",
    "        \n",
    "        self.priors = {} # reset priority \n",
    "        \n",
    "        # reset saving parameters\n",
    "        self.x_mean = {}\n",
    "        self.x_std = {}\n",
    "        \n",
    "        # xy_df should be in format columns = [x0, x1, ..., xn, y]\n",
    "        self.y_class = np.unique(y)\n",
    "        \n",
    "        for y_class in self.y_class : \n",
    "            y_index = np.where(y == y_class) # select X by class \n",
    "            \n",
    "            # select X data of y_class answer\n",
    "            y_X = X.copy()[y_index] # X.copy() => prevent update the original X variable.\n",
    "            \n",
    "            x_mean = y_X.mean(axis=0) # find mean of each column\n",
    "            x_std = y_X.std(axis=0) # find the stdev of each column\n",
    "            # save parameter values \n",
    "            self.x_mean[y_class] = x_mean\n",
    "            self.x_std[y_class] = x_std\n",
    "            \n",
    "            self.priors[y_class] = 1\n",
    "            if self.pred_with_prior : \n",
    "                self.priors[y_class] *=  (y_X.shape[0]/ X.shape[0])                 \n",
    "                \n",
    "    def calculate_probability(self, x, mean, stdev):\n",
    "        '''\n",
    "        Equation from \n",
    "        https://en.wikipedia.org/wiki/Naive_Bayes_classifier#:~:text=A%20class's%20prior%20may%20be,total%20number%20of%20samples%3E).\n",
    "        '''\n",
    "        top = np.exp(-1 * np.power((x-mean), 2) / (2*np.power(stdev,2)))\n",
    "        bot = np.sqrt(2*np.pi*np.power(stdev,2))\n",
    "        p = top/bot\n",
    "        return p \n",
    "    \n",
    "    def predict(self, X):\n",
    "        \n",
    "        # save prob for each class \n",
    "        pred_df = pd.DataFrame()\n",
    "        \n",
    "        for y_class in self.y_class : \n",
    "            \n",
    "            prior_y = self.priors[y_class]\n",
    "            \n",
    "            # a vector of mean \n",
    "            y_params_mean = self.x_mean[y_class]\n",
    "            # a vector of variance \n",
    "            y_params_std = self.x_std[y_class]\n",
    "            \n",
    "            # probability of y given X \n",
    "            yp_by_features = self.calculate_probability(X, y_params_mean, y_params_std)\n",
    "            yp_by_features =  yp_by_features * (prior_y ** prior_y)         \n",
    "            yp = np.prod(yp_by_features, axis=1)\n",
    "            pred_df[y_class] = yp\n",
    "    \n",
    "        pred_df['y_pred'] = np.argmax(pred_df.values, axis=1)\n",
    "        pred_df['y_pred'] = [pred_df.columns[v] for v in pred_df['y_pred']]\n",
    "        self.pred_df = pred_df\n",
    "        return pred_df['y_pred'].values"
   ]
  },
  {
   "cell_type": "code",
   "execution_count": 11,
   "metadata": {},
   "outputs": [],
   "source": [
    "def get_accuracy(y_pred, y_true):\n",
    "    return (y_pred == y_true).sum() / len(y_true)"
   ]
  },
  {
   "cell_type": "code",
   "execution_count": 12,
   "metadata": {},
   "outputs": [
    {
     "name": "stdout",
     "output_type": "stream",
     "text": [
      "Outcome Proportion\n",
      "{0: 0.6449511400651465, 1: 0.3550488599348534}\n",
      "Can we conclude p(y=1) == p(y=0) ? \n",
      "The answer is False\n",
      "==============================\n",
      "Model without prior\n",
      "Train Accuracy : 0.750814332247557\n",
      "Test Accuracy :  0.6948051948051948\n",
      "==============================\n",
      "Model with prior\n",
      "{0: 0.6449511400651465, 1: 0.3550488599348534}\n",
      "Train Accuracy : 0.7687296416938111\n",
      "Test Accuracy :  0.7207792207792207\n"
     ]
    }
   ],
   "source": [
    "df = pd.read_csv('diabetes.csv')\n",
    "# df.Outcome.hist()\n",
    "training_set, test_set = split_data_set(df, 0.8)\n",
    "\n",
    "outcome_ratio = (training_set.Outcome.value_counts() / len(training_set)).to_dict()\n",
    "\n",
    "print('Outcome Proportion')\n",
    "print(outcome_ratio)\n",
    "\n",
    "print('Can we conclude p(y=1) == p(y=0) ? ')\n",
    "print('The answer is', outcome_ratio[0] == outcome_ratio[1])\n",
    "\n",
    "X_train, y_train = training_set.drop(columns='Outcome').values, training_set['Outcome'].values\n",
    "X_test, y_test = test_set.drop(columns='Outcome').values, test_set['Outcome'].values\n",
    "\n",
    "nb= NaiveBay(with_prior=False)\n",
    "print('='*30)\n",
    "print('Model without prior')\n",
    "nb.fit(X_train, y_train)\n",
    "train_pred = nb.predict(X_train)\n",
    "test_pred = nb.predict(X_test)\n",
    "print('Train Accuracy :', get_accuracy(train_pred, y_train))\n",
    "print('Test Accuracy : ', get_accuracy(test_pred, y_test))\n",
    "print('='*30)\n",
    "\n",
    "print('Model with prior')\n",
    "nb = NaiveBay(with_prior=True)\n",
    "nb.fit(X_train, y_train)\n",
    "print(nb.priors)\n",
    "my_pred = nb.predict(X_test)\n",
    "train_pred = nb.predict(X_train)\n",
    "test_pred = nb.predict(X_test)\n",
    "print('Train Accuracy :', get_accuracy(train_pred, y_train))\n",
    "print('Test Accuracy : ', get_accuracy(test_pred, y_test))"
   ]
  },
  {
   "cell_type": "code",
   "execution_count": null,
   "metadata": {},
   "outputs": [],
   "source": []
  },
  {
   "cell_type": "code",
   "execution_count": 13,
   "metadata": {},
   "outputs": [],
   "source": [
    "# Generate text data for two classes, \"statement\" and \"question\"\n",
    "\n",
    "text_train = [['This is my novel book', 'statement'],\n",
    "              ['this book has more than one author', 'statement'],\n",
    "              ['is this my book', 'question'],\n",
    "              ['They are novels', 'statement'],\n",
    "              ['have you read this book', 'question'],\n",
    "              ['who is the novels author', 'question'],\n",
    "              ['what are the characters', 'question'],\n",
    "              ['This is how I bought the book', 'statement'],\n",
    "              ['I like fictional characters', 'statement'],\n",
    "              ['what is your favorite book', 'question']]\n",
    "\n",
    "text_test = [['this is the book', 'statement'], \n",
    "             ['who are the novels characters', 'question'], \n",
    "             ['is this the author', 'question']]\n",
    "\n",
    "# Load training and test data into pandas data frames\n",
    "\n",
    "training_data = pd.DataFrame(text_train, columns= ['sentence', 'class'])\n",
    "testing_data = pd.DataFrame(text_test, columns= ['sentence', 'class'])\n"
   ]
  },
  {
   "cell_type": "code",
   "execution_count": 14,
   "metadata": {},
   "outputs": [],
   "source": [
    "# Partition training data by class\n",
    "\n",
    "# stmt_docs = [train['sentence'] for index,train in training_data.iterrows() if train['class'] == 'statement']\n",
    "# question_docs = [train['sentence'] for index,train in training_data.iterrows() if train['class'] == 'question']\n",
    "\n",
    "stmt_docs = training_data[training_data['class'].str.contains('statement')]['sentence'].values\n",
    "question_docs = training_data[training_data['class'].str.contains('question')]['sentence'].values\n",
    "\n",
    "# Get word frequencies for each sentence and class\n",
    "def get_words(text):\n",
    "    # Initialize word list\n",
    "    words = [];\n",
    "    # Loop through each sentence in input array\n",
    "    for text_row in text:       \n",
    "        # Check the number of words. Assume each word is separated by a blank space\n",
    "        # so that the number of words is the number of blank spaces + 1\n",
    "        number_of_spaces = text_row.count(' ')\n",
    "        # loop through the sentence and get words between blank spaces.\n",
    "        for i in range(number_of_spaces):\n",
    "            # Check for for last word\n",
    "            words.append([text_row[:text_row.index(' ')].lower()])\n",
    "            text_row = text_row[text_row.index(' ')+1:]  \n",
    "            i = i + 1        \n",
    "        words.append([text_row])\n",
    "    return np.unique(words)\n",
    "\n",
    "# Get frequency of each word in each document\n",
    "\n",
    "def get_doc_word_frequency(words, text):  \n",
    "    word_freq_table = np.zeros((len(text),len(words)), dtype=int)\n",
    "    i = 0\n",
    "    for text_row in text:\n",
    "        # Insert extra space between each pair of words to prevent\n",
    "        # partial match of words\n",
    "        text_row_temp = ''\n",
    "        for idx, val in enumerate(text_row):\n",
    "            if val == ' ':\n",
    "                 text_row_temp = text_row_temp + '  '\n",
    "            else:\n",
    "                  text_row_temp = text_row_temp + val.lower()\n",
    "        text_row = ' ' + text_row_temp + ' '\n",
    "        j = 0\n",
    "        for word in words: \n",
    "            word = ' ' + word + ' '\n",
    "            freq = text_row.count(word)\n",
    "            word_freq_table[i,j] = freq\n",
    "            j = j + 1\n",
    "        i = i + 1\n",
    "        \n",
    "    return word_freq_table"
   ]
  },
  {
   "cell_type": "code",
   "execution_count": 15,
   "metadata": {},
   "outputs": [
    {
     "name": "stdout",
     "output_type": "stream",
     "text": [
      "   are  author  book  bought  characters  fictional  has  how  i  is  like  \\\n",
      "0    0       0     1       0           0          0    0    0  0   1     0   \n",
      "1    0       1     1       0           0          0    1    0  0   0     0   \n",
      "2    1       0     0       0           0          0    0    0  0   0     0   \n",
      "3    0       0     1       1           0          0    0    1  1   1     0   \n",
      "4    0       0     0       0           1          1    0    0  1   0     1   \n",
      "\n",
      "   more  my  novel  novels  one  than  the  they  this  \n",
      "0     0   1      1       0    0     0    0     0     1  \n",
      "1     1   0      0       0    1     1    0     0     1  \n",
      "2     0   0      0       1    0     0    0     1     0  \n",
      "3     0   0      0       0    0     0    1     0     1  \n",
      "4     0   0      0       0    0     0    0     0     0  \n"
     ]
    }
   ],
   "source": [
    "# Get word frequencies for statement documents\n",
    "word_list_s = get_words(stmt_docs)\n",
    "word_freq_table_s = get_doc_word_frequency(word_list_s, stmt_docs)\n",
    "tdm_s = pd.DataFrame(word_freq_table_s, columns=word_list_s)\n",
    "print(tdm_s)"
   ]
  },
  {
   "cell_type": "code",
   "execution_count": 16,
   "metadata": {},
   "outputs": [
    {
     "name": "stdout",
     "output_type": "stream",
     "text": [
      "{'are': 1, 'author': 1, 'book': 3, 'bought': 1, 'characters': 1, 'fictional': 1, 'has': 1, 'how': 1, 'i': 2, 'is': 2, 'like': 1, 'more': 1, 'my': 1, 'novel': 1, 'novels': 1, 'one': 1, 'than': 1, 'the': 1, 'they': 1, 'this': 3}\n"
     ]
    }
   ],
   "source": [
    "# Get word frequencies over all statement documents\n",
    "freq_list_s = word_freq_table_s.sum(axis=0) \n",
    "freq_s = dict(zip(word_list_s,freq_list_s))\n",
    "print(freq_s)"
   ]
  },
  {
   "cell_type": "code",
   "execution_count": 17,
   "metadata": {},
   "outputs": [
    {
     "name": "stdout",
     "output_type": "stream",
     "text": [
      "   are  author  book  characters  favorite  have  is  my  novels  read  the  \\\n",
      "0    0       0     1           0         0     0   1   1       0     0    0   \n",
      "1    0       0     1           0         0     1   0   0       0     1    0   \n",
      "2    0       1     0           0         0     0   1   0       1     0    1   \n",
      "3    1       0     0           1         0     0   0   0       0     0    1   \n",
      "4    0       0     1           0         1     0   1   0       0     0    0   \n",
      "\n",
      "   this  what  who  you  your  \n",
      "0     1     0    0    0     0  \n",
      "1     1     0    0    1     0  \n",
      "2     0     0    1    0     0  \n",
      "3     0     1    0    0     0  \n",
      "4     0     1    0    0     1  \n"
     ]
    }
   ],
   "source": [
    "# Get word frequencies for question documents\n",
    "word_list_q = get_words(question_docs)\n",
    "word_freq_table_q = get_doc_word_frequency(word_list_q, question_docs)\n",
    "tdm_q = pd.DataFrame(word_freq_table_q, columns=word_list_q)\n",
    "print(tdm_q)"
   ]
  },
  {
   "cell_type": "code",
   "execution_count": 18,
   "metadata": {},
   "outputs": [
    {
     "name": "stdout",
     "output_type": "stream",
     "text": [
      "{'are': 1, 'author': 1, 'book': 3, 'characters': 1, 'favorite': 1, 'have': 1, 'is': 3, 'my': 1, 'novels': 1, 'read': 1, 'the': 2, 'this': 2, 'what': 2, 'who': 1, 'you': 1, 'your': 1}\n"
     ]
    }
   ],
   "source": [
    "# Get word frequencies over all question documents\n",
    "freq_list_q = word_freq_table_q.sum(axis=0) \n",
    "freq_q = dict(zip(word_list_q,freq_list_q))\n",
    "print(freq_q)"
   ]
  },
  {
   "cell_type": "code",
   "execution_count": 19,
   "metadata": {},
   "outputs": [
    {
     "name": "stdout",
     "output_type": "stream",
     "text": [
      "Probability of words for \"statement\" class \n",
      "\n",
      "{'are': 0.05, 'author': 0.05, 'book': 0.15, 'bought': 0.05, 'characters': 0.05, 'fictional': 0.05, 'has': 0.05, 'how': 0.05, 'i': 0.1, 'is': 0.1, 'like': 0.05, 'more': 0.05, 'my': 0.05, 'novel': 0.05, 'novels': 0.05, 'one': 0.05, 'than': 0.05, 'the': 0.05, 'they': 0.05, 'this': 0.15}\n",
      "------------------------------------------- \n",
      "\n",
      "Probability of words for \"question\" class \n",
      "\n",
      "{'are': 0.0625, 'author': 0.0625, 'book': 0.1875, 'characters': 0.0625, 'favorite': 0.0625, 'have': 0.0625, 'is': 0.1875, 'my': 0.0625, 'novels': 0.0625, 'read': 0.0625, 'the': 0.125, 'this': 0.125, 'what': 0.125, 'who': 0.0625, 'you': 0.0625, 'your': 0.0625}\n"
     ]
    }
   ],
   "source": [
    "# Get word probabilities for statement class\n",
    "prob_s = []\n",
    "for word, count in zip(word_list_s, freq_list_s):\n",
    "    #print(word, count)\n",
    "    prob_s.append(count/len(word_list_s))\n",
    "    \n",
    "# Get word probabilities for question class\n",
    "\n",
    "prob_q = []\n",
    "for count in freq_list_q:\n",
    "    prob_q.append(count/len(word_list_q))\n",
    "    \n",
    "print('Probability of words for \"statement\" class \\n')\n",
    "print(dict(zip(word_list_s, prob_s)))\n",
    "print('------------------------------------------- \\n')\n",
    "print('Probability of words for \"question\" class \\n')\n",
    "print(dict(zip(word_list_q, prob_q)))\n"
   ]
  },
  {
   "cell_type": "code",
   "execution_count": 20,
   "metadata": {},
   "outputs": [],
   "source": [
    "# Calculate prior for one class\n",
    "def prior(className):    \n",
    "    denominator = len(stmt_docs) + len(question_docs)\n",
    "    \n",
    "    if className == 'statement':\n",
    "        numerator =  len(stmt_docs)\n",
    "    else:\n",
    "        numerator =  len(question_docs)\n",
    "    return np.divide(numerator,denominator)\n",
    "\n",
    "# Calculate class conditional probability for a sentence\n",
    "def classCondProb(sentence, className):\n",
    "    words = get_words(sentence)\n",
    "    prob = 1\n",
    "    found_word = False \n",
    "    \n",
    "    # fixing the error from in-lab exercise \n",
    "    for word in words:\n",
    "        if className == 'statement':\n",
    "            if word in word_list_s :   \n",
    "                idx = np.where(word_list_s == word)\n",
    "                prob = prob * prob_s[np.array(idx)[0,0]]\n",
    "                # check that there is a word in training set\n",
    "                found_word = True\n",
    "        else:\n",
    "            if word in word_list_q :   \n",
    "                idx = np.where(word_list_q == word)\n",
    "                prob = prob * prob_q[np.array(idx)[0,0]]\n",
    "                # check that there is a word in training set\n",
    "                found_word = True\n",
    "    if found_word :\n",
    "        prob = 0\n",
    "    return prob\n",
    "\n",
    "# Predict class of a sentence\n",
    "def predict(sentence):\n",
    "    prob_statement = classCondProb(sentence, 'statement') * prior('statement')\n",
    "    prob_question = classCondProb(sentence, 'question') * prior('question')\n",
    "    if  prob_statement > prob_question:\n",
    "        return 'statement'\n",
    "    else:\n",
    "        return 'question'"
   ]
  },
  {
   "cell_type": "code",
   "execution_count": 21,
   "metadata": {},
   "outputs": [
    {
     "name": "stdout",
     "output_type": "stream",
     "text": [
      "Getting prediction for this is the book\"\n"
     ]
    },
    {
     "data": {
      "text/plain": [
       "'question'"
      ]
     },
     "execution_count": 21,
     "metadata": {},
     "output_type": "execute_result"
    }
   ],
   "source": [
    "test_docs = list([test['sentence'] for index,test in testing_data.iterrows()])\n",
    "print('Getting prediction for %s\"' % test_docs[0])\n",
    "predict(test_docs[0])"
   ]
  },
  {
   "cell_type": "code",
   "execution_count": 22,
   "metadata": {},
   "outputs": [],
   "source": [
    "class TextNaiveBay:\n",
    "    def __init__(self, with_prior=False):\n",
    "        self.word_freqs = {} \n",
    "        self.n_words = {}\n",
    "        self.y_class = {}\n",
    "        self.with_prior = with_prior\n",
    "        \n",
    "    def get_word_frequency(self, sentence_array):\n",
    "        # make text_array into 1d array \n",
    "        sentence_series = pd.Series(sentence_array)\n",
    "        sentence_series += ' ' # add space for spliting words\n",
    "        word_series = pd.Series(sentence_series.sum().split(' '))\n",
    "        word_series = word_series[word_series != ' '] # drop unwanted elements\n",
    "        \n",
    "        # return dict of counting word frequency \n",
    "        # <key> word : <value> frequency \n",
    "        return word_series.value_counts().to_dict(), len(word_series)\n",
    "        \n",
    "    def fit(self, X, y):\n",
    "        # X => array of vector\n",
    "        # y => array of class\n",
    "        self.y_class = pd.Series(y).value_counts().to_dict()\n",
    "        for y_class in self.y_class : \n",
    "            y_index = np.where(y == y_class)\n",
    "            \n",
    "            y_X = X.copy()[y_index]\n",
    "            self.word_freqs[y_class], self.n_words[y_class] = self.get_word_frequency(y_X)\n",
    "            \n",
    "        all_X = X.copy()\n",
    "        self.word_freqs['all'], self.n_words['all'] = self.get_word_frequency(all_X)\n",
    "        self.y_class['all'] = X.shape[0] # count the number of samples\n",
    "        \n",
    "    def predict(self, X, alpha=1):\n",
    "        '''\n",
    "        Laplace Smoothing Doc ! \n",
    "        \n",
    "        https://medium.com/syncedreview/applying-multinomial-naive-bayes-to-nlp-problems-a-practical-explanation-4f5271768ebf#:~:text=A%20solution%20would%20be%20Laplace,incorporated%20in%20every%20probability%20estimate.&text=this%20is%20a%20way%20of,it%20is%20called%20Laplace%20smoothing.\n",
    "        \n",
    "        with laplace smoothing\n",
    "        alpha is a laplace smoothing parameter. when alpha > 0 means using laplace transform. \n",
    "        if alpha == 0 : disable laplace smoothing : \n",
    "            == > if a class doesn't have an input word, the probability of that class will be 0.\n",
    "        '''\n",
    "        d = len(self.word_freqs['all']) # the number of possible words in all categories\n",
    "        pred_df = pd.DataFrame()\n",
    "        \n",
    "        # p(y|x) = TT p(x|y)\n",
    "        \n",
    "        n = self.y_class['all'] # number of training size\n",
    "        for y_class in self.y_class :\n",
    "            if y_class != 'all' : \n",
    "                y_hat = []\n",
    "                n_y = self.y_class[y_class] # the number of class y in training set \n",
    "                n_wy = self.n_words[y_class] # the number of words occur in y_class \n",
    "                for sentence in X : \n",
    "                    p_xy = 1\n",
    "                    words = pd.Series(sentence.split(' '))                \n",
    "                    for w in words : \n",
    "                        n_xy = 0\n",
    "                        if w in self.word_freqs[y_class] : \n",
    "                            n_xy = self.word_freqs[y_class][w] # the number of word x happens in class y   \n",
    "\n",
    "                        # p(x|y) = n(x, y=yi) / n(yi)\n",
    "                        p_xy *= (n_xy + alpha) / (n_wy + alpha*d) \n",
    "\n",
    "                    if self.with_prior :\n",
    "                        p_xy *= n_y / n\n",
    "#                     clear_output(wait=True)\n",
    "#                     display(sentence)\n",
    "#                     display(f'class : {y_class} ; prob : {p_xy}')\n",
    "                    y_hat.append(p_xy)               \n",
    "                pred_df[y_class] = y_hat\n",
    "    \n",
    "        pred_df['y_pred'] = np.argmax(pred_df.values, axis=1)\n",
    "        pred_df['y_pred'] = [pred_df.columns[v] for v in pred_df['y_pred']]\n",
    "        self.pred_df = pred_df\n",
    "        return pred_df['y_pred'].values"
   ]
  },
  {
   "cell_type": "code",
   "execution_count": 23,
   "metadata": {},
   "outputs": [
    {
     "name": "stdout",
     "output_type": "stream",
     "text": [
      "Result of Laplace smoothing ...\n",
      "Training set accuracy 1.0\n",
      "Test set accuracy 0.6666666666666666\n"
     ]
    }
   ],
   "source": [
    "nb_text = TextNaiveBay(with_prior=True)\n",
    "nb_text.fit(training_data['sentence'].values, training_data['class'])\n",
    "train_pred = nb_text.predict(training_data['sentence'].values)\n",
    "test_pred = nb_text.predict(testing_data['sentence'].values)\n",
    "\n",
    "print(\"Result of Laplace smoothing ...\")\n",
    "print('Training set accuracy', get_accuracy(train_pred, training_data['class'].values))\n",
    "print('Test set accuracy', get_accuracy(test_pred, testing_data['class'].values))"
   ]
  },
  {
   "cell_type": "code",
   "execution_count": 26,
   "metadata": {},
   "outputs": [
    {
     "data": {
      "text/html": [
       "<div>\n",
       "<style scoped>\n",
       "    .dataframe tbody tr th:only-of-type {\n",
       "        vertical-align: middle;\n",
       "    }\n",
       "\n",
       "    .dataframe tbody tr th {\n",
       "        vertical-align: top;\n",
       "    }\n",
       "\n",
       "    .dataframe thead th {\n",
       "        text-align: right;\n",
       "    }\n",
       "</style>\n",
       "<table border=\"1\" class=\"dataframe\">\n",
       "  <thead>\n",
       "    <tr style=\"text-align: right;\">\n",
       "      <th></th>\n",
       "      <th>reviewerID</th>\n",
       "      <th>asin</th>\n",
       "      <th>reviewerName</th>\n",
       "      <th>helpful</th>\n",
       "      <th>reviewText</th>\n",
       "      <th>overall</th>\n",
       "      <th>summary</th>\n",
       "      <th>unixReviewTime</th>\n",
       "      <th>reviewTime</th>\n",
       "    </tr>\n",
       "  </thead>\n",
       "  <tbody>\n",
       "    <tr>\n",
       "      <th>10256</th>\n",
       "      <td>A14B2YH83ZXMPP</td>\n",
       "      <td>B00JBIVXGC</td>\n",
       "      <td>Lonnie M. Adams</td>\n",
       "      <td>[0, 0]</td>\n",
       "      <td>Great, just as expected.  Thank to all.</td>\n",
       "      <td>5.0</td>\n",
       "      <td>Five Stars</td>\n",
       "      <td>1405814400</td>\n",
       "      <td>07 20, 2014</td>\n",
       "    </tr>\n",
       "    <tr>\n",
       "      <th>10257</th>\n",
       "      <td>A1RPTVW5VEOSI</td>\n",
       "      <td>B00JBIVXGC</td>\n",
       "      <td>Michael J. Edelman</td>\n",
       "      <td>[0, 0]</td>\n",
       "      <td>I've been thinking about trying the Nanoweb st...</td>\n",
       "      <td>5.0</td>\n",
       "      <td>Long life, and for some players, a good econom...</td>\n",
       "      <td>1404259200</td>\n",
       "      <td>07 2, 2014</td>\n",
       "    </tr>\n",
       "    <tr>\n",
       "      <th>10258</th>\n",
       "      <td>AWCJ12KBO5VII</td>\n",
       "      <td>B00JBIVXGC</td>\n",
       "      <td>Michael L. Knapp</td>\n",
       "      <td>[0, 0]</td>\n",
       "      <td>I have tried coated strings in the past ( incl...</td>\n",
       "      <td>4.0</td>\n",
       "      <td>Good for coated.</td>\n",
       "      <td>1405987200</td>\n",
       "      <td>07 22, 2014</td>\n",
       "    </tr>\n",
       "    <tr>\n",
       "      <th>10259</th>\n",
       "      <td>A2Z7S8B5U4PAKJ</td>\n",
       "      <td>B00JBIVXGC</td>\n",
       "      <td>Rick Langdon \"Scriptor\"</td>\n",
       "      <td>[0, 0]</td>\n",
       "      <td>Well, MADE by Elixir and DEVELOPED with Taylor...</td>\n",
       "      <td>4.0</td>\n",
       "      <td>Taylor Made</td>\n",
       "      <td>1404172800</td>\n",
       "      <td>07 1, 2014</td>\n",
       "    </tr>\n",
       "    <tr>\n",
       "      <th>10260</th>\n",
       "      <td>A2WA8TDCTGUADI</td>\n",
       "      <td>B00JBIVXGC</td>\n",
       "      <td>TheTerrorBeyond</td>\n",
       "      <td>[0, 0]</td>\n",
       "      <td>These strings are really quite good, but I wou...</td>\n",
       "      <td>4.0</td>\n",
       "      <td>These strings are really quite good, but I wou...</td>\n",
       "      <td>1405468800</td>\n",
       "      <td>07 16, 2014</td>\n",
       "    </tr>\n",
       "  </tbody>\n",
       "</table>\n",
       "</div>"
      ],
      "text/plain": [
       "           reviewerID        asin             reviewerName helpful  \\\n",
       "10256  A14B2YH83ZXMPP  B00JBIVXGC          Lonnie M. Adams  [0, 0]   \n",
       "10257   A1RPTVW5VEOSI  B00JBIVXGC       Michael J. Edelman  [0, 0]   \n",
       "10258   AWCJ12KBO5VII  B00JBIVXGC         Michael L. Knapp  [0, 0]   \n",
       "10259  A2Z7S8B5U4PAKJ  B00JBIVXGC  Rick Langdon \"Scriptor\"  [0, 0]   \n",
       "10260  A2WA8TDCTGUADI  B00JBIVXGC          TheTerrorBeyond  [0, 0]   \n",
       "\n",
       "                                              reviewText  overall  \\\n",
       "10256            Great, just as expected.  Thank to all.      5.0   \n",
       "10257  I've been thinking about trying the Nanoweb st...      5.0   \n",
       "10258  I have tried coated strings in the past ( incl...      4.0   \n",
       "10259  Well, MADE by Elixir and DEVELOPED with Taylor...      4.0   \n",
       "10260  These strings are really quite good, but I wou...      4.0   \n",
       "\n",
       "                                                 summary  unixReviewTime  \\\n",
       "10256                                         Five Stars      1405814400   \n",
       "10257  Long life, and for some players, a good econom...      1404259200   \n",
       "10258                                   Good for coated.      1405987200   \n",
       "10259                                        Taylor Made      1404172800   \n",
       "10260  These strings are really quite good, but I wou...      1405468800   \n",
       "\n",
       "        reviewTime  \n",
       "10256  07 20, 2014  \n",
       "10257   07 2, 2014  \n",
       "10258  07 22, 2014  \n",
       "10259   07 1, 2014  \n",
       "10260  07 16, 2014  "
      ]
     },
     "execution_count": 26,
     "metadata": {},
     "output_type": "execute_result"
    }
   ],
   "source": [
    "df = pd.read_csv('Musical_instruments_reviews.csv')\n",
    "df.tail()"
   ]
  },
  {
   "cell_type": "code",
   "execution_count": 27,
   "metadata": {},
   "outputs": [],
   "source": [
    "df[\"Text\"] = df['reviewText'].fillna('')\n",
    "df = df[df['Text'] != ' ']"
   ]
  },
  {
   "cell_type": "code",
   "execution_count": 29,
   "metadata": {},
   "outputs": [],
   "source": [
    "df['Text'] = df['Text'].str.replace('[^a-zA-Z0-9 \\n\\.]|\\.', '')\n",
    "df['Text'] = df['Text'].str.lower()\n",
    "df = df[['Text', 'overall']]\n",
    "th_training_data , th_test_data = split_data_set(df, 0.7)"
   ]
  },
  {
   "cell_type": "code",
   "execution_count": 30,
   "metadata": {},
   "outputs": [],
   "source": [
    "nb_text_take_home = TextNaiveBay(with_prior=True)\n",
    "nb_text.fit(th_training_data['Text'].values, th_training_data['overall'].values)\n",
    "th_train_pred = nb_text.predict(th_training_data['Text'].values)\n",
    "th_test_pred = nb_text.predict(th_test_data['Text'].values)"
   ]
  },
  {
   "cell_type": "code",
   "execution_count": 31,
   "metadata": {},
   "outputs": [
    {
     "name": "stdout",
     "output_type": "stream",
     "text": [
      "Take Home Accuracy \n",
      "Training set accuracy 0.7257031467557783\n",
      "Test set accuracy 0.6768431308866515\n"
     ]
    }
   ],
   "source": [
    "print(\"Take Home Accuracy \")\n",
    "print('Training set accuracy', get_accuracy(th_train_pred, th_training_data['overall'].values))\n",
    "print('Test set accuracy', get_accuracy(th_test_pred, th_test_data['overall'].values))"
   ]
  },
  {
   "cell_type": "code",
   "execution_count": 33,
   "metadata": {},
   "outputs": [],
   "source": [
    "from sklearn.metrics import confusion_matrix\n",
    "labels = df['overall'].sort_values().unique()\n",
    "kwargs = dict(labels=labels,normalize='true')\n",
    "c_mat_train = confusion_matrix(th_train_pred, th_training_data['overall'].values, **kwargs)\n",
    "c_mat_test = confusion_matrix(th_test_pred, th_test_data['overall'].values, **kwargs)"
   ]
  },
  {
   "cell_type": "code",
   "execution_count": 34,
   "metadata": {},
   "outputs": [],
   "source": [
    "import seaborn as sns\n",
    "import matplotlib.pyplot as plt"
   ]
  },
  {
   "cell_type": "code",
   "execution_count": 35,
   "metadata": {},
   "outputs": [
    {
     "data": {
      "image/png": "[encoded data removed]",
      "text/plain": [
       "<Figure size 432x288 with 2 Axes>"
      ]
     },
     "metadata": {
      "needs_background": "light"
     },
     "output_type": "display_data"
    }
   ],
   "source": [
    "kwargs = dict(xticklabels=labels, yticklabels=labels, annot=True)\n",
    "ax = sns.heatmap(c_mat_train, **kwargs)\n",
    "ax.set(title=\"Training Set Confusion Matrix\",\n",
    "      xlabel=\"Class\",\n",
    "      ylabel=\"Class\",)\n",
    "plt.show()"
   ]
  },
  {
   "cell_type": "code",
   "execution_count": 36,
   "metadata": {},
   "outputs": [
    {
     "data": {
      "image/png": "[encoded data removed]",
      "text/plain": [
       "<Figure size 432x288 with 2 Axes>"
      ]
     },
     "metadata": {
      "needs_background": "light"
     },
     "output_type": "display_data"
    }
   ],
   "source": [
    "kwargs = dict(xticklabels=labels, yticklabels=labels, annot=True)\n",
    "ax = sns.heatmap(c_mat_test, **kwargs)\n",
    "ax.set(title=\"Test set Confusion Matrix\",\n",
    "      xlabel=\"Class\",\n",
    "      ylabel=\"Class\",)\n",
    "plt.show()"
   ]
  },
  {
   "cell_type": "code",
   "execution_count": null,
   "metadata": {},
   "outputs": [],
   "source": []
  }
 ],
 "metadata": {
  "kernelspec": {
   "display_name": "Python 3",
   "language": "python",
   "name": "python3"
  },
  "language_info": {
   "codemirror_mode": {
    "name": "ipython",
    "version": 3
   },
   "file_extension": ".py",
   "mimetype": "text/x-python",
   "name": "python",
   "nbconvert_exporter": "python",
   "pygments_lexer": "ipython3",
   "version": "3.8.8"
  }
 },
 "nbformat": 4,
 "nbformat_minor": 4
}
