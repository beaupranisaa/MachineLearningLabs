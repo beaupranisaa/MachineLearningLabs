{
 "cells": [
  {
   "cell_type": "markdown",
   "metadata": {},
   "source": [
    "## Lab 12 take home\n",
    "##### Pranisaa Charnparttaravanit\n",
    "##### st121720"
   ]
  },
  {
   "cell_type": "code",
   "execution_count": 1,
   "metadata": {},
   "outputs": [],
   "source": [
    "import numpy as np\n",
    "import matplotlib.pyplot as plt\n",
    "import pandas as pd\n",
    "import warnings\n",
    "warnings.filterwarnings(\"ignore\")"
   ]
  },
  {
   "cell_type": "code",
   "execution_count": 2,
   "metadata": {},
   "outputs": [],
   "source": [
    "# def init_gmm(X, k):\n",
    "#     m = X.shape[0]\n",
    "#     n = X.shape[1]\n",
    "#     Mu = np.zeros((n,k))\n",
    "#     Sigma = np.zeros((k,n,n))\n",
    "#     Phi = np.zeros(k)\n",
    "#     order = np.random.permutation(m)\n",
    "#     for j in range(k):\n",
    "#         # Initially assign equal probability to each cluster/outcome\n",
    "#         Phi[j] = 1/k      \n",
    "#         # Ramdomly assign mean to one of the data points       \n",
    "#         Mu[:,j] = X[order[j],:].T\n",
    "#         # Initial covariance is identity matrix\n",
    "#         Sigma[j,:,:] = np.eye(n)\n",
    "#     return Phi, Mu, Sigma\n",
    "\n",
    "\n",
    "# def Gaussian(X, mean, covariance):\n",
    "#     k = len(mean)\n",
    "#     X = X - mean.T\n",
    "#     p = 1/((2*np.pi)**(k/2)*(np.linalg.det(covariance)**0.5)) * np.exp(-0.5 * np.sum(X @ np.linalg.pinv(covariance) * X, axis=1))\n",
    "#     return p\n",
    "\n",
    "# def gaussian(x, mean,covariance):\n",
    "#     k = len(mean)\n",
    "#     X = (x - mean).reshape(-1,1)\n",
    "#     p = 1/((2*np.pi)**(k/2)*(np.linalg.det(covariance)**0.5)) * np.exp(-0.5 * (X.T @ np.linalg.pinv(covariance) @ X))\n",
    "#     return p\n",
    "\n",
    "\n",
    "# # Run one iteration of EM\n",
    "\n",
    "# def iterate_em_gmm(X, threshold, Phi, Mu, Sigma):\n",
    "#     m = X.shape[0]\n",
    "#     n = X.shape[1]\n",
    "#     k = len(Phi)\n",
    "#     threshold = np.reshape(np.repeat(threshold, n*k), (n,k))\n",
    "#     pj_arr = np.zeros((m,k))\n",
    "    \n",
    "#     # E-step: calculate w_j^i\n",
    "#     W = np.zeros((m, k))\n",
    "#     for j in range(k):\n",
    "#         pj = Gaussian(X, Mu[:,j], Sigma[j])\n",
    "#         pj_arr[:,j] = pj\n",
    "#         W[:,j] = Phi[j] * pj\n",
    "    \n",
    "#     # W tells us what is the relative weight of each cluster for each data point\n",
    "#     W[:,:] = W * np.tile(1/np.sum(W,1),(k,1)).T+0.00001\n",
    "    \n",
    "#     a = np.sum(W,axis=1)\n",
    "# #     for i,aa in enumerate(a):\n",
    "# #         #print(X[i])\n",
    "# #         print(aa)\n",
    "\n",
    "#     # M-step: adjust mean and sigma\n",
    "#     Phi[:] = sum(W) / m\n",
    "#     Mu_previous = Mu.copy()\n",
    "#     for j in range(k):\n",
    "#         # Split cluster specific W for each dimension\n",
    "#         Wj = np.tile(W[:,j],(n,1)).T\n",
    "#         # Compute Mu for each variable for each cluster\n",
    "#         Mu[:,j] = sum(X * Wj)/sum(Wj)\n",
    "#         #print(Mu)\n",
    "#         Muj = np.tile(Mu[:,j],(m,1))\n",
    "#         Sigma[j,:,:] = np.matmul((X - Muj).T, (X - Muj) * Wj) / sum(W[:,j])\n",
    "\n",
    "#     if (abs(Mu-Mu_previous) <= threshold).all():\n",
    "#         converged = True\n",
    "#     else:\n",
    "#         converged = False\n",
    "\n",
    "#     labels = np.argmax(pj_arr, axis = 1)\n",
    "#     pj = np.max(pj_arr,axis=1)\n",
    "#     X_label = np.insert(X, 2, labels, axis=1)\n",
    "#     return converged, pj, X_label\n"
   ]
  },
  {
   "cell_type": "code",
   "execution_count": 110,
   "metadata": {},
   "outputs": [],
   "source": [
    "def init_gmm(X, k):\n",
    "    m = X.shape[0]\n",
    "    n = X.shape[1]\n",
    "    Mu = np.zeros((n,k))\n",
    "    Sigma = np.zeros((k,n,n))\n",
    "    Phi = np.zeros(k)\n",
    "    order = np.random.permutation(m)\n",
    "    for j in range(k):\n",
    "        # Initially assign equal probability to each cluster/outcome\n",
    "        Phi[j] = 1/k      \n",
    "        # Ramdomly assign mean to one of the data points       \n",
    "        Mu[:,j] = X[order[j],:].T\n",
    "        # Initial covariance is identity matrix\n",
    "        Sigma[j,:,:] = np.eye(n)\n",
    "    return Phi, Mu, Sigma\n",
    "\n",
    "\n",
    "def Gaussian(X, mean, covariance):\n",
    "    k = len(mean)\n",
    "    print(X.shape, mean.T.shape)\n",
    "    X = X - mean.T\n",
    "    p = 1/((2*np.pi)**(k/2)*(np.linalg.det(covariance)**0.5)) * np.exp(-0.5 * np.sum(X @ np.linalg.pinv(covariance) * X, axis=1))\n",
    "    return p\n",
    "\n",
    "def gaussian(x, mean,covariance):\n",
    "    k = len(mean)\n",
    "    X = (x - mean).reshape(-1,1)\n",
    "    p = 1/((2*np.pi)**(k/2)*(np.linalg.det(covariance)**0.5)) * np.exp(-0.5 * (X.T @ np.linalg.pinv(covariance) @ X))\n",
    "    return p\n",
    "\n",
    "\n",
    "# Run one iteration of EM\n",
    "\n",
    "def iterate_em_gmm(X, threshold, Phi, Mu, Sigma):\n",
    "    m = X.shape[0]\n",
    "    n = X.shape[1]\n",
    "    k = len(Phi)\n",
    "    threshold = np.reshape(np.repeat(threshold, n*k), (n,k))\n",
    "    pj_arr = np.zeros((m,k))\n",
    "    \n",
    "    # E-step: calculate w_j^i\n",
    "    W = np.zeros((m, k))\n",
    "    for j in range(k):\n",
    "        pj = Gaussian(X, Mu[:,j], Sigma[j])\n",
    "        pj_arr[:,j] = pj\n",
    "        W[:,j] = Phi[j] * pj\n",
    "    \n",
    "    # W tells us what is the relative weight of each cluster for each data point\n",
    "    W[:,:] = W * np.tile(1/np.sum(W,1),(k,1)).T+0.00001\n",
    "    \n",
    "    a = np.sum(W,axis=1)\n",
    "#     for i,aa in enumerate(a):\n",
    "#         #print(X[i])\n",
    "#         print(aa)\n",
    "\n",
    "    # M-step: adjust mean and sigma\n",
    "    Phi[:] = sum(W) / m\n",
    "    Mu_previous = Mu.copy()\n",
    "    for j in range(k):\n",
    "        # Split cluster specific W for each dimension\n",
    "        Wj = np.tile(W[:,j],(n,1)).T\n",
    "        # Compute Mu for each variable for each cluster\n",
    "        Mu[:,j] = sum(X * Wj)/sum(Wj)\n",
    "        #print(Mu)\n",
    "        Muj = np.tile(Mu[:,j],(m,1))\n",
    "        Sigma[j,:,:] = np.matmul((X - Muj).T, (X - Muj) * Wj) / sum(W[:,j])\n",
    "\n",
    "    if (abs(Mu-Mu_previous) <= threshold).all():\n",
    "        converged = True\n",
    "    else:\n",
    "        converged = False\n",
    "\n",
    "    labels = np.argmax(pj_arr, axis = 1)\n",
    "    pj = np.max(pj_arr,axis=1)\n",
    "    X_label = np.insert(X, 2, labels, axis=1)\n",
    "    return converged, pj, X_label\n"
   ]
  },
  {
   "cell_type": "markdown",
   "metadata": {},
   "source": [
    "### Example 3 Customer segmentation\n",
    "\n",
    "This example is based on [Nguyen Hanh's tutorial on Medium.com](https://medium.com/@nguyenbaha/buiding-customer-segmentation-by-gmm-from-scratch-4ea6adc3da1c). In this example we use the Kaggle [OnlineRetail.csv](https://www.kaggle.com/vijayuv/onlineretail) dataset for customer segmentation. "
   ]
  },
  {
   "cell_type": "code",
   "execution_count": 62,
   "metadata": {},
   "outputs": [
    {
     "name": "stdout",
     "output_type": "stream",
     "text": [
      "  InvoiceNo StockCode                          Description  Quantity  \\\n",
      "0    536365    85123A   WHITE HANGING HEART T-LIGHT HOLDER         6   \n",
      "1    536365     71053                  WHITE METAL LANTERN         6   \n",
      "2    536365    84406B       CREAM CUPID HEARTS COAT HANGER         8   \n",
      "3    536365    84029G  KNITTED UNION FLAG HOT WATER BOTTLE         6   \n",
      "4    536365    84029E       RED WOOLLY HOTTIE WHITE HEART.         6   \n",
      "\n",
      "  InvoiceDate  UnitPrice CustomerID         Country  TotalSum  \n",
      "0   12/1/2010       2.55      17850  United Kingdom     15.30  \n",
      "1   12/1/2010       3.39      17850  United Kingdom     20.34  \n",
      "2   12/1/2010       2.75      17850  United Kingdom     22.00  \n",
      "3   12/1/2010       3.39      17850  United Kingdom     20.34  \n",
      "4   12/1/2010       3.39      17850  United Kingdom     20.34  \n"
     ]
    }
   ],
   "source": [
    "data = pd.read_csv('Online_Retail.csv')\n",
    "data = data.iloc[0:5000,:]\n",
    "print(data.head())\n",
    "data = data.drop(['InvoiceNo','Description', 'CustomerID'], axis = 1)"
   ]
  },
  {
   "cell_type": "code",
   "execution_count": 63,
   "metadata": {},
   "outputs": [
    {
     "name": "stdout",
     "output_type": "stream",
     "text": [
      "StockCode       object\n",
      "Quantity         int64\n",
      "InvoiceDate     object\n",
      "UnitPrice      float64\n",
      "Country         object\n",
      "TotalSum       float64\n",
      "dtype: object\n"
     ]
    }
   ],
   "source": [
    "print(data.dtypes)"
   ]
  },
  {
   "cell_type": "markdown",
   "metadata": {},
   "source": [
    "Let's view the categorical and numeric columns:"
   ]
  },
  {
   "cell_type": "code",
   "execution_count": 64,
   "metadata": {},
   "outputs": [
    {
     "name": "stdout",
     "output_type": "stream",
     "text": [
      "Index(['StockCode', 'InvoiceDate', 'Country'], dtype='object')\n",
      "Index(['Quantity', 'UnitPrice', 'TotalSum'], dtype='object')\n"
     ]
    }
   ],
   "source": [
    "categorical_colmns = data.select_dtypes(include=['object']).columns\n",
    "print(categorical_colmns)\n",
    "numerical_colmns = data._get_numeric_data().columns\n",
    "print(numerical_colmns)"
   ]
  },
  {
   "cell_type": "code",
   "execution_count": 65,
   "metadata": {},
   "outputs": [
    {
     "data": {
      "text/html": [
       "<div>\n",
       "<style scoped>\n",
       "    .dataframe tbody tr th:only-of-type {\n",
       "        vertical-align: middle;\n",
       "    }\n",
       "\n",
       "    .dataframe tbody tr th {\n",
       "        vertical-align: top;\n",
       "    }\n",
       "\n",
       "    .dataframe thead th {\n",
       "        text-align: right;\n",
       "    }\n",
       "</style>\n",
       "<table border=\"1\" class=\"dataframe\">\n",
       "  <thead>\n",
       "    <tr style=\"text-align: right;\">\n",
       "      <th></th>\n",
       "      <th>Total</th>\n",
       "      <th>Percent</th>\n",
       "    </tr>\n",
       "  </thead>\n",
       "  <tbody>\n",
       "    <tr>\n",
       "      <th>TotalSum</th>\n",
       "      <td>48</td>\n",
       "      <td>0.96</td>\n",
       "    </tr>\n",
       "    <tr>\n",
       "      <th>Country</th>\n",
       "      <td>12</td>\n",
       "      <td>0.24</td>\n",
       "    </tr>\n",
       "    <tr>\n",
       "      <th>UnitPrice</th>\n",
       "      <td>0</td>\n",
       "      <td>0.00</td>\n",
       "    </tr>\n",
       "    <tr>\n",
       "      <th>InvoiceDate</th>\n",
       "      <td>0</td>\n",
       "      <td>0.00</td>\n",
       "    </tr>\n",
       "    <tr>\n",
       "      <th>Quantity</th>\n",
       "      <td>0</td>\n",
       "      <td>0.00</td>\n",
       "    </tr>\n",
       "    <tr>\n",
       "      <th>StockCode</th>\n",
       "      <td>0</td>\n",
       "      <td>0.00</td>\n",
       "    </tr>\n",
       "  </tbody>\n",
       "</table>\n",
       "</div>"
      ],
      "text/plain": [
       "             Total  Percent\n",
       "TotalSum        48     0.96\n",
       "Country         12     0.24\n",
       "UnitPrice        0     0.00\n",
       "InvoiceDate      0     0.00\n",
       "Quantity         0     0.00\n",
       "StockCode        0     0.00"
      ]
     },
     "execution_count": 65,
     "metadata": {},
     "output_type": "execute_result"
    }
   ],
   "source": [
    "def missing_percentage(data):\n",
    "    \"\"\"This function takes a DataFrame(df) as input and returns two columns, \n",
    "     total missing values and total missing values percentage\"\"\"\n",
    "    total = data.isnull().sum().sort_values(ascending = False)\n",
    "    percent = round(data.isnull().sum().sort_values(ascending = False)/len(data)*100,2)\n",
    "    return pd.concat([total, percent], axis=1, keys=['Total','Percent'])\n",
    "\n",
    "\n",
    "missing_percentage(data)"
   ]
  },
  {
   "cell_type": "markdown",
   "metadata": {},
   "source": [
    "Next, let's fill the \"na\" values with \"No information\" and 0"
   ]
  },
  {
   "cell_type": "code",
   "execution_count": 66,
   "metadata": {},
   "outputs": [
    {
     "name": "stdout",
     "output_type": "stream",
     "text": [
      "  StockCode  Quantity InvoiceDate  UnitPrice         Country  TotalSum\n",
      "0    85123A         6   12/1/2010       2.55  United Kingdom     15.30\n",
      "1     71053         6   12/1/2010       3.39  United Kingdom     20.34\n",
      "2    84406B         8   12/1/2010       2.75  United Kingdom     22.00\n",
      "3    84029G         6   12/1/2010       3.39  United Kingdom     20.34\n",
      "4    84029E         6   12/1/2010       3.39  United Kingdom     20.34\n"
     ]
    }
   ],
   "source": [
    "data[categorical_colmns] = data[categorical_colmns].fillna(\"No information\")\n",
    "data[numerical_colmns] = data[numerical_colmns].fillna(0)\n",
    "\n",
    "print(data.head())"
   ]
  },
  {
   "cell_type": "code",
   "execution_count": 67,
   "metadata": {},
   "outputs": [
    {
     "name": "stdout",
     "output_type": "stream",
     "text": [
      "   StockCode  Quantity  InvoiceDate  UnitPrice  Country  TotalSum\n",
      "0        0.0       6.0          0.0       2.55      0.0     15.30\n",
      "1        1.0       6.0          0.0       3.39      0.0     20.34\n",
      "2        2.0       8.0          0.0       2.75      0.0     22.00\n",
      "3        3.0       6.0          0.0       3.39      0.0     20.34\n",
      "4        4.0       6.0          0.0       3.39      0.0     20.34\n"
     ]
    }
   ],
   "source": [
    "def category_to_numeric(categorical_columns):\n",
    "    i = 0;\n",
    "    columnname = '';\n",
    "    while i < len(categorical_colmns):\n",
    "        col_idx = data.columns.get_loc(categorical_colmns[i])\n",
    "        distinct_values = data[categorical_colmns[i]].unique()\n",
    "        j = 0;    \n",
    "        for val in distinct_values:\n",
    "            idx = np.where(data[categorical_colmns[i]] == val);\n",
    "            data.iloc[idx[0],col_idx] = j            \n",
    "            j = j + 1;\n",
    "        i = i + 1;\n",
    "        \n",
    "        \n",
    "category_to_numeric(data[categorical_colmns])\n",
    "\n",
    "data = data.astype('float64')\n",
    "print(data.head())"
   ]
  },
  {
   "cell_type": "code",
   "execution_count": 68,
   "metadata": {},
   "outputs": [
    {
     "name": "stdout",
     "output_type": "stream",
     "text": [
      "Quantity     146.544560\n",
      "UnitPrice      5.908027\n",
      "TotalSum      65.901813\n",
      "dtype: float64\n",
      "Quantity     10.941200\n",
      "UnitPrice     3.252928\n",
      "TotalSum     22.146162\n",
      "dtype: float64\n"
     ]
    }
   ],
   "source": [
    "Mu = np.std(data[numerical_colmns])\n",
    "Sigma = np.mean(data[numerical_colmns])\n",
    "print(Mu)\n",
    "print(Sigma)"
   ]
  },
  {
   "cell_type": "code",
   "execution_count": 69,
   "metadata": {},
   "outputs": [
    {
     "data": {
      "text/plain": [
       "Quantity     4650\n",
       "UnitPrice      56\n",
       "TotalSum       12\n",
       "dtype: int64"
      ]
     },
     "execution_count": 69,
     "metadata": {},
     "output_type": "execute_result"
    }
   ],
   "source": [
    "# Check for outliers\n",
    "\n",
    "def cnt_outlier(data,sigma, mu, inc_cols=[]):\n",
    "    num_cols = data.select_dtypes(include=[np.number]).columns\n",
    "    num_cols = [e for e in num_cols if e in inc_cols]\n",
    "    outlier = (data[numerical_colmns]-mu).abs() > sigma**2\n",
    "    return outlier.sum()\n",
    "\n",
    "cnt_outlier(data,Sigma,Mu, numerical_colmns).sort_values(ascending=False)"
   ]
  },
  {
   "cell_type": "code",
   "execution_count": 70,
   "metadata": {},
   "outputs": [
    {
     "name": "stdout",
     "output_type": "stream",
     "text": [
      "No. of duplicated entries:  987\n",
      "      StockCode  Quantity  InvoiceDate  UnitPrice  Country  TotalSum\n",
      "4099        0.0       2.0          2.0       2.95      0.0       5.9\n",
      "4131        0.0       2.0          2.0       2.95      0.0       5.9\n",
      "4190        0.0       2.0          2.0       2.95      0.0       5.9\n",
      "0           0.0       6.0          0.0       2.55      0.0      15.3\n",
      "49          0.0       6.0          0.0       2.55      0.0      15.3\n"
     ]
    }
   ],
   "source": [
    "if len(data[data.duplicated()]) > 0:\n",
    "    print(\"No. of duplicated entries: \", len(data[data.duplicated()]))\n",
    "    print(data[data.duplicated(keep=False)].sort_values(by=list(data.columns)).head())\n",
    "    data.drop_duplicates(inplace=True)\n",
    "else:\n",
    "    print(\"No duplicated entries found\")"
   ]
  },
  {
   "cell_type": "code",
   "execution_count": 71,
   "metadata": {},
   "outputs": [
    {
     "name": "stdout",
     "output_type": "stream",
     "text": [
      "(4013, 6)\n"
     ]
    }
   ],
   "source": [
    "X = data.values\n",
    "print(X.shape)"
   ]
  },
  {
   "cell_type": "code",
   "execution_count": 72,
   "metadata": {},
   "outputs": [],
   "source": [
    "X_mean = np.mean(X,axis=0)\n",
    "X_std = np.std(X,axis=0)\n",
    "\n",
    "X = (X-X_mean)/X_std"
   ]
  },
  {
   "cell_type": "code",
   "execution_count": 73,
   "metadata": {},
   "outputs": [
    {
     "name": "stdout",
     "output_type": "stream",
     "text": [
      "[   0    1    2 ... 4003 4004 4005]\n"
     ]
    }
   ],
   "source": [
    "far = np.sum(np.abs(X) > 5,axis=1)\n",
    "far_index = np.where(far == 0)[0]\n",
    "print(far_index)"
   ]
  },
  {
   "cell_type": "code",
   "execution_count": 74,
   "metadata": {},
   "outputs": [
    {
     "name": "stdout",
     "output_type": "stream",
     "text": [
      "[[-1.3238868  -0.03572409 -1.0726451  -0.11163787 -0.26564736 -0.11949508]\n",
      " [-1.32140824 -0.03572409 -1.0726451   0.02039671 -0.26564736 -0.05026551]\n",
      " [-1.31892968 -0.02348829 -1.0726451  -0.08020106 -0.26564736 -0.0274637 ]\n",
      " ...\n",
      " [-0.67450298 -0.06631359  1.5196613  -0.04876426 -0.26564736 -0.28913501]\n",
      " [-0.97440925 -0.03572409  1.5196613   0.26560379 -0.26564736  0.0783037 ]\n",
      " [ 1.08775616 -0.29267589  1.5196613  -0.18237068 -0.26564736 -1.36809992]]\n",
      "(3920, 6)\n"
     ]
    }
   ],
   "source": [
    "X = X[far_index,:]\n",
    "print(X)\n",
    "print(X.shape)"
   ]
  },
  {
   "cell_type": "markdown",
   "metadata": {},
   "source": [
    "### To find k clusters"
   ]
  },
  {
   "cell_type": "code",
   "execution_count": 16,
   "metadata": {},
   "outputs": [
    {
     "name": "stdout",
     "output_type": "stream",
     "text": [
      "====== 2 ======\n",
      "2.61619769783081\n",
      "====== 3 ======\n",
      "3.6668576915083855\n",
      "====== 4 ======\n",
      "4.759639723171888\n",
      "====== 5 ======\n",
      "5.864443272744644\n",
      "====== 6 ======\n",
      "6.306439892465713\n",
      "====== 7 ======\n",
      "6.609865630170553\n",
      "====== 8 ======\n",
      "7.545378417480134\n",
      "====== 9 ======\n",
      "8.010002465225202\n",
      "====== 10 ======\n",
      "8.239350813016237\n"
     ]
    }
   ],
   "source": [
    "max_k = 10\n",
    "\n",
    "likelihoods = []\n",
    "threshold = np.matrix(0.01)\n",
    "\n",
    "for k in range(2,max_k+1):\n",
    "    print(f\"====== {k} ======\")\n",
    "    likelihood = -float('inf')\n",
    "    \n",
    "    for attempt in range(10):\n",
    "        Phi, Mu, Sigma = init_gmm(X, k)\n",
    "\n",
    "        converged = False\n",
    "        while not converged:\n",
    "            converged, pj, X_label = iterate_em_gmm(X, threshold, Phi, Mu, Sigma)\n",
    "\n",
    "        l = np.mean(np.log(pj))\n",
    "        if(l > likelihood):\n",
    "            likelihood = l\n",
    "        \n",
    "    print(likelihood)\n",
    "    likelihoods.append(likelihood)"
   ]
  },
  {
   "cell_type": "code",
   "execution_count": 17,
   "metadata": {},
   "outputs": [
    {
     "data": {
      "text/plain": [
       "Text(0, 0.5, 'likelihoods')"
      ]
     },
     "execution_count": 17,
     "metadata": {},
     "output_type": "execute_result"
    },
    {
     "data": {
      "image/png": "[encoded data removed]",
      "text/plain": [
       "<Figure size 432x288 with 1 Axes>"
      ]
     },
     "metadata": {
      "needs_background": "light"
     },
     "output_type": "display_data"
    }
   ],
   "source": [
    "plt.plot(range(2,max_k+1),likelihoods)\n",
    "plt.xlabel('k')\n",
    "plt.ylabel('likelihoods')"
   ]
  },
  {
   "cell_type": "markdown",
   "metadata": {},
   "source": [
    "### Report:\n",
    "From the graph above, the graph seems to have an elbow at 5. So 5 is selected as the number of clusters for this problem."
   ]
  },
  {
   "cell_type": "markdown",
   "metadata": {},
   "source": [
    "### selected k = 5"
   ]
  },
  {
   "cell_type": "code",
   "execution_count": 75,
   "metadata": {},
   "outputs": [
    {
     "name": "stdout",
     "output_type": "stream",
     "text": [
      "5\t"
     ]
    }
   ],
   "source": [
    "k = 5\n",
    "threshold = np.matrix(.01)\n",
    "\n",
    "print(k,end= \"\\t\")\n",
    "likelihood = -float('inf')\n",
    "\n",
    "for attempt in range(5):\n",
    "    Phi, Mu, Sigma = init_gmm(X, k)\n",
    "\n",
    "    converged = False\n",
    "    while not converged:\n",
    "        converged, pj, X_label = iterate_em_gmm(X, threshold, Phi, Mu, Sigma)\n",
    "\n",
    "    l = np.mean(np.log(pj))\n",
    "    if(l > likelihood):\n",
    "        likelihood = l\n",
    "        best_Phi = Phi\n",
    "        best_Mu = Mu\n",
    "        best_Sigma = Sigma"
   ]
  },
  {
   "cell_type": "code",
   "execution_count": 76,
   "metadata": {},
   "outputs": [
    {
     "data": {
      "text/html": [
       "<div>\n",
       "<style scoped>\n",
       "    .dataframe tbody tr th:only-of-type {\n",
       "        vertical-align: middle;\n",
       "    }\n",
       "\n",
       "    .dataframe tbody tr th {\n",
       "        vertical-align: top;\n",
       "    }\n",
       "\n",
       "    .dataframe thead th {\n",
       "        text-align: right;\n",
       "    }\n",
       "</style>\n",
       "<table border=\"1\" class=\"dataframe\">\n",
       "  <thead>\n",
       "    <tr style=\"text-align: right;\">\n",
       "      <th></th>\n",
       "      <th>StockCode</th>\n",
       "      <th>Quantity</th>\n",
       "      <th>InvoiceDate</th>\n",
       "      <th>UnitPrice</th>\n",
       "      <th>Country</th>\n",
       "      <th>TotalSum</th>\n",
       "    </tr>\n",
       "  </thead>\n",
       "  <tbody>\n",
       "    <tr>\n",
       "      <th>0</th>\n",
       "      <td>-1.323887</td>\n",
       "      <td>-0.035724</td>\n",
       "      <td>-1.072645</td>\n",
       "      <td>-0.111638</td>\n",
       "      <td>-0.265647</td>\n",
       "      <td>-0.119495</td>\n",
       "    </tr>\n",
       "    <tr>\n",
       "      <th>1</th>\n",
       "      <td>-1.321408</td>\n",
       "      <td>-0.035724</td>\n",
       "      <td>-1.072645</td>\n",
       "      <td>0.020397</td>\n",
       "      <td>-0.265647</td>\n",
       "      <td>-0.050266</td>\n",
       "    </tr>\n",
       "    <tr>\n",
       "      <th>2</th>\n",
       "      <td>-1.318930</td>\n",
       "      <td>-0.023488</td>\n",
       "      <td>-1.072645</td>\n",
       "      <td>-0.080201</td>\n",
       "      <td>-0.265647</td>\n",
       "      <td>-0.027464</td>\n",
       "    </tr>\n",
       "    <tr>\n",
       "      <th>3</th>\n",
       "      <td>-1.316451</td>\n",
       "      <td>-0.035724</td>\n",
       "      <td>-1.072645</td>\n",
       "      <td>0.020397</td>\n",
       "      <td>-0.265647</td>\n",
       "      <td>-0.050266</td>\n",
       "    </tr>\n",
       "    <tr>\n",
       "      <th>4</th>\n",
       "      <td>-1.313973</td>\n",
       "      <td>-0.035724</td>\n",
       "      <td>-1.072645</td>\n",
       "      <td>0.020397</td>\n",
       "      <td>-0.265647</td>\n",
       "      <td>-0.050266</td>\n",
       "    </tr>\n",
       "  </tbody>\n",
       "</table>\n",
       "</div>"
      ],
      "text/plain": [
       "   StockCode  Quantity  InvoiceDate  UnitPrice   Country  TotalSum\n",
       "0  -1.323887 -0.035724    -1.072645  -0.111638 -0.265647 -0.119495\n",
       "1  -1.321408 -0.035724    -1.072645   0.020397 -0.265647 -0.050266\n",
       "2  -1.318930 -0.023488    -1.072645  -0.080201 -0.265647 -0.027464\n",
       "3  -1.316451 -0.035724    -1.072645   0.020397 -0.265647 -0.050266\n",
       "4  -1.313973 -0.035724    -1.072645   0.020397 -0.265647 -0.050266"
      ]
     },
     "execution_count": 76,
     "metadata": {},
     "output_type": "execute_result"
    }
   ],
   "source": [
    "import numpy as np\n",
    "import pandas as pd \n",
    "import scipy as stats\n",
    "\n",
    "df = pd.DataFrame(X,columns = ['StockCode','Quantity','InvoiceDate','UnitPrice','Country','TotalSum'])\n",
    "df.head()\n",
    "\n"
   ]
  },
  {
   "cell_type": "code",
   "execution_count": 20,
   "metadata": {},
   "outputs": [],
   "source": [
    "# def mahalanobis(x=None, data=None, cov=None):\n",
    "\n",
    "#     x_mu = x - np.mean(data)\n",
    "#     if not cov:\n",
    "#         cov = np.cov(data.values.T)\n",
    "#     inv_covmat = np.linalg.inv(cov)\n",
    "#     left = np.dot(x_mu, inv_covmat)\n",
    "#     mahal = np.dot(left, x_mu.T)\n",
    "#     return mahal.diagonal()\n",
    "\n",
    "# df['mahalanobis'] = mahalanobis(x=df, data=df[['StockCode','Quantity','InvoiceDate','UnitPrice','Country','TotalSum']])\n",
    "\n",
    "# # print(np.min(df['mahalanobis']))\n",
    "# df.head()\n"
   ]
  },
  {
   "cell_type": "code",
   "execution_count": 21,
   "metadata": {},
   "outputs": [],
   "source": [
    "# from scipy.stats import chi2\n",
    "\n",
    "# #calculate p-value for each mahalanobis distance \n",
    "# df['p'] = 1 - chi2.cdf(df['mahalanobis'], 3)\n",
    "\n",
    "# #display p-values for first five rows in dataframe\n",
    "# df.head()\n"
   ]
  },
  {
   "cell_type": "code",
   "execution_count": 22,
   "metadata": {},
   "outputs": [],
   "source": [
    "# row_ix = np.where(df['mahalanobis'] > 60)"
   ]
  },
  {
   "cell_type": "code",
   "execution_count": 23,
   "metadata": {},
   "outputs": [],
   "source": [
    "# plt.figure(figsize=(10,6))\n",
    "# plt.scatter(df['StockCode'],df['mahalanobis'],marker=\".\",c=pj,cmap='viridis')\n",
    "# plt.scatter(df.iloc[row_ix[0],0],df.iloc[row_ix[0],6],marker=\"o\",facecolor=\"none\",edgecolor=\"r\",s=70)\n",
    "# plt.ylabel(\"Mahalanobis Distance\")"
   ]
  },
  {
   "cell_type": "code",
   "execution_count": 96,
   "metadata": {},
   "outputs": [
    {
     "name": "stdout",
     "output_type": "stream",
     "text": [
      "[[  7.17053411  29.17894943  46.16959581  47.14654199   3.99583483]\n",
      " [  7.14899067  53.29445942  83.39580619  86.57453702   3.92400402]\n",
      " [  7.15802384  34.86429396  54.70653792  57.3512315    3.85620126]\n",
      " ...\n",
      " [ 14.77216832  41.39749521  68.34388419  65.75402383   3.5567972 ]\n",
      " [ 14.61300799  98.78804844 155.76367659 160.84033915   3.21293043]\n",
      " [ 13.98289143  17.52273815  28.00557736 102.18584693   6.26788366]]\n"
     ]
    }
   ],
   "source": [
    "def Mahalanobis(X,mean,covariance):\n",
    "    n= len(mean)\n",
    "    X= X-mean.T\n",
    "    p = np.sqrt(np.sum(X@np.linalg.pinv(covariance)*X,axis = 1))\n",
    "    return p\n",
    "\n",
    "def mahalanobis_distance(X_labeled,Mu, Sigma):\n",
    "    m = X_labeled.shape[0]\n",
    "    n = X_labeled.shape[1] - 1\n",
    "    X = X_labeled[:,0:-1]\n",
    "    labels = X_labeled[:,-1].astype(int)\n",
    "    k = max(labels) + 1\n",
    "    md_array = np.zeros((m,k))\n",
    "    for j in range(k):\n",
    "        md_array[:,j] = Mahalanobis(X, Mu[:,j],Sigma[j,:,:])\n",
    "    return md_array\n",
    "\n",
    "mahala_thresh = 5\n",
    "\n",
    "md_c = mahalanobis_distance(X_label,Mu,Sigma)\n",
    "print(md_c)"
   ]
  },
  {
   "cell_type": "code",
   "execution_count": 101,
   "metadata": {},
   "outputs": [
    {
     "name": "stdout",
     "output_type": "stream",
     "text": [
      "(3920, 6)\n",
      "[3.99583483 3.92400402 3.85620126 ... 3.5567972  3.21293043 6.26788366]\n",
      "(6, 5)\n"
     ]
    }
   ],
   "source": [
    "n = X.shape[1]\n",
    "m = X.shape[0]\n",
    "print(X.shape)\n",
    "labels = np.argmin(md_c, axis = 1) # find most probable cluster\n",
    "md_c_ = md_c[np.arange(0,m,1),labels]\n",
    "print(md_c_)\n",
    "print(Mu.shape)"
   ]
  },
  {
   "cell_type": "code",
   "execution_count": 98,
   "metadata": {},
   "outputs": [],
   "source": [
    "outliers_c = np.nonzero(md_c_ > mahala_thresh)[0]"
   ]
  },
  {
   "cell_type": "code",
   "execution_count": 113,
   "metadata": {},
   "outputs": [
    {
     "name": "stdout",
     "output_type": "stream",
     "text": [
      "(1, 2) (6,)\n"
     ]
    },
    {
     "ename": "ValueError",
     "evalue": "operands could not be broadcast together with shapes (1,2) (6,) ",
     "output_type": "error",
     "traceback": [
      "\u001b[0;31m---------------------------------------------------------------------------\u001b[0m",
      "\u001b[0;31mValueError\u001b[0m                                Traceback (most recent call last)",
      "\u001b[0;32m<ipython-input-113-26970f2ae5c0>\u001b[0m in \u001b[0;36m<module>\u001b[0;34m\u001b[0m\n\u001b[1;32m     16\u001b[0m         \u001b[0;32mwhile\u001b[0m \u001b[0mj\u001b[0m \u001b[0;34m<\u001b[0m \u001b[0mXX\u001b[0m\u001b[0;34m.\u001b[0m\u001b[0mshape\u001b[0m\u001b[0;34m[\u001b[0m\u001b[0;36m0\u001b[0m\u001b[0;34m]\u001b[0m\u001b[0;34m:\u001b[0m\u001b[0;34m\u001b[0m\u001b[0;34m\u001b[0m\u001b[0m\n\u001b[1;32m     17\u001b[0m             \u001b[0mpt\u001b[0m \u001b[0;34m=\u001b[0m \u001b[0mnp\u001b[0m\u001b[0;34m.\u001b[0m\u001b[0marray\u001b[0m\u001b[0;34m(\u001b[0m\u001b[0;34m[\u001b[0m\u001b[0;34m[\u001b[0m\u001b[0mXX\u001b[0m\u001b[0;34m[\u001b[0m\u001b[0mi\u001b[0m\u001b[0;34m,\u001b[0m\u001b[0mj\u001b[0m\u001b[0;34m]\u001b[0m\u001b[0;34m,\u001b[0m \u001b[0mYY\u001b[0m\u001b[0;34m[\u001b[0m\u001b[0mi\u001b[0m\u001b[0;34m,\u001b[0m\u001b[0mj\u001b[0m\u001b[0;34m]\u001b[0m\u001b[0;34m]\u001b[0m\u001b[0;34m]\u001b[0m\u001b[0;34m)\u001b[0m\u001b[0;34m\u001b[0m\u001b[0;34m\u001b[0m\u001b[0m\n\u001b[0;32m---> 18\u001b[0;31m             \u001b[0mZ\u001b[0m\u001b[0;34m[\u001b[0m\u001b[0mi\u001b[0m\u001b[0;34m,\u001b[0m\u001b[0mj\u001b[0m\u001b[0;34m]\u001b[0m \u001b[0;34m=\u001b[0m \u001b[0mGaussian\u001b[0m\u001b[0;34m(\u001b[0m\u001b[0mpt\u001b[0m\u001b[0;34m,\u001b[0m \u001b[0;34m(\u001b[0m\u001b[0mMu\u001b[0m\u001b[0;34m[\u001b[0m\u001b[0;34m:\u001b[0m\u001b[0;34m,\u001b[0m\u001b[0mc\u001b[0m\u001b[0;34m]\u001b[0m\u001b[0;34m.\u001b[0m\u001b[0mT\u001b[0m\u001b[0;34m)\u001b[0m\u001b[0;34m,\u001b[0m \u001b[0mSigma\u001b[0m\u001b[0;34m[\u001b[0m\u001b[0mc\u001b[0m\u001b[0;34m]\u001b[0m\u001b[0;34m)\u001b[0m\u001b[0;34m[\u001b[0m\u001b[0;36m0\u001b[0m\u001b[0;34m]\u001b[0m\u001b[0;34m\u001b[0m\u001b[0;34m\u001b[0m\u001b[0m\n\u001b[0m\u001b[1;32m     19\u001b[0m             \u001b[0mj\u001b[0m \u001b[0;34m=\u001b[0m \u001b[0mj\u001b[0m \u001b[0;34m+\u001b[0m \u001b[0;36m1\u001b[0m\u001b[0;34m\u001b[0m\u001b[0;34m\u001b[0m\u001b[0m\n\u001b[1;32m     20\u001b[0m         \u001b[0mi\u001b[0m \u001b[0;34m=\u001b[0m \u001b[0mi\u001b[0m \u001b[0;34m+\u001b[0m \u001b[0;36m1\u001b[0m\u001b[0;34m\u001b[0m\u001b[0;34m\u001b[0m\u001b[0m\n",
      "\u001b[0;32m<ipython-input-110-743a094952a5>\u001b[0m in \u001b[0;36mGaussian\u001b[0;34m(X, mean, covariance)\u001b[0m\n\u001b[1;32m     19\u001b[0m     \u001b[0mk\u001b[0m \u001b[0;34m=\u001b[0m \u001b[0mlen\u001b[0m\u001b[0;34m(\u001b[0m\u001b[0mmean\u001b[0m\u001b[0;34m)\u001b[0m\u001b[0;34m\u001b[0m\u001b[0;34m\u001b[0m\u001b[0m\n\u001b[1;32m     20\u001b[0m     \u001b[0mprint\u001b[0m\u001b[0;34m(\u001b[0m\u001b[0mX\u001b[0m\u001b[0;34m.\u001b[0m\u001b[0mshape\u001b[0m\u001b[0;34m,\u001b[0m \u001b[0mmean\u001b[0m\u001b[0;34m.\u001b[0m\u001b[0mT\u001b[0m\u001b[0;34m.\u001b[0m\u001b[0mshape\u001b[0m\u001b[0;34m)\u001b[0m\u001b[0;34m\u001b[0m\u001b[0;34m\u001b[0m\u001b[0m\n\u001b[0;32m---> 21\u001b[0;31m     \u001b[0mX\u001b[0m \u001b[0;34m=\u001b[0m \u001b[0mX\u001b[0m \u001b[0;34m-\u001b[0m \u001b[0mmean\u001b[0m\u001b[0;34m.\u001b[0m\u001b[0mT\u001b[0m\u001b[0;34m\u001b[0m\u001b[0;34m\u001b[0m\u001b[0m\n\u001b[0m\u001b[1;32m     22\u001b[0m     \u001b[0mp\u001b[0m \u001b[0;34m=\u001b[0m \u001b[0;36m1\u001b[0m\u001b[0;34m/\u001b[0m\u001b[0;34m(\u001b[0m\u001b[0;34m(\u001b[0m\u001b[0;36m2\u001b[0m\u001b[0;34m*\u001b[0m\u001b[0mnp\u001b[0m\u001b[0;34m.\u001b[0m\u001b[0mpi\u001b[0m\u001b[0;34m)\u001b[0m\u001b[0;34m**\u001b[0m\u001b[0;34m(\u001b[0m\u001b[0mk\u001b[0m\u001b[0;34m/\u001b[0m\u001b[0;36m2\u001b[0m\u001b[0;34m)\u001b[0m\u001b[0;34m*\u001b[0m\u001b[0;34m(\u001b[0m\u001b[0mnp\u001b[0m\u001b[0;34m.\u001b[0m\u001b[0mlinalg\u001b[0m\u001b[0;34m.\u001b[0m\u001b[0mdet\u001b[0m\u001b[0;34m(\u001b[0m\u001b[0mcovariance\u001b[0m\u001b[0;34m)\u001b[0m\u001b[0;34m**\u001b[0m\u001b[0;36m0.5\u001b[0m\u001b[0;34m)\u001b[0m\u001b[0;34m)\u001b[0m \u001b[0;34m*\u001b[0m \u001b[0mnp\u001b[0m\u001b[0;34m.\u001b[0m\u001b[0mexp\u001b[0m\u001b[0;34m(\u001b[0m\u001b[0;34m-\u001b[0m\u001b[0;36m0.5\u001b[0m \u001b[0;34m*\u001b[0m \u001b[0mnp\u001b[0m\u001b[0;34m.\u001b[0m\u001b[0msum\u001b[0m\u001b[0;34m(\u001b[0m\u001b[0mX\u001b[0m \u001b[0;34m@\u001b[0m \u001b[0mnp\u001b[0m\u001b[0;34m.\u001b[0m\u001b[0mlinalg\u001b[0m\u001b[0;34m.\u001b[0m\u001b[0mpinv\u001b[0m\u001b[0;34m(\u001b[0m\u001b[0mcovariance\u001b[0m\u001b[0;34m)\u001b[0m \u001b[0;34m*\u001b[0m \u001b[0mX\u001b[0m\u001b[0;34m,\u001b[0m \u001b[0maxis\u001b[0m\u001b[0;34m=\u001b[0m\u001b[0;36m1\u001b[0m\u001b[0;34m)\u001b[0m\u001b[0;34m)\u001b[0m\u001b[0;34m\u001b[0m\u001b[0;34m\u001b[0m\u001b[0m\n\u001b[1;32m     23\u001b[0m     \u001b[0;32mreturn\u001b[0m \u001b[0mp\u001b[0m\u001b[0;34m\u001b[0m\u001b[0;34m\u001b[0m\u001b[0m\n",
      "\u001b[0;31mValueError\u001b[0m: operands could not be broadcast together with shapes (1,2) (6,) "
     ]
    },
    {
     "data": {
      "image/png": "[encoded data removed]",
      "text/plain": [
       "<Figure size 720x432 with 1 Axes>"
      ]
     },
     "metadata": {
      "needs_background": "light"
     },
     "output_type": "display_data"
    }
   ],
   "source": [
    "plt.figure(figsize=(10,6))\n",
    "plt.scatter(X[:,0],X[:,1],marker=\".\",c=pj,cmap='viridis');\n",
    "plt.scatter(X[outliers_c,0],X[outliers_c,1],marker=\"o\",facecolor=\"none\",edgecolor=\"r\",s=70);\n",
    "plt.plot(Mu[0,0], Mu[1,0],'bx',Mu[0,1], Mu[1,1],'bx', Mu[0,2], Mu[1,2],'bx')\n",
    "\n",
    "for c in np.arange(0,k):    \n",
    "    X_class = X[np.where(X_label[:,2] == c)[0],:]\n",
    "    xlist = np.linspace(min(X_class[:,0]), max(X_class[:,0]), 30)\n",
    "    ylist = np.linspace(min(X_class[:,1]), max(X_class[:,1]), 30)\n",
    "    \n",
    "    XX, YY = np.meshgrid(xlist, ylist)\n",
    "    Z = np.zeros(XX.shape)\n",
    "    i = 0\n",
    "    while i < XX.shape[0]:\n",
    "        j = 0\n",
    "        while j < XX.shape[0]:\n",
    "            pt = np.array([[XX[i,j], YY[i,j]]])\n",
    "            Z[i,j] = Gaussian(pt, Mu[:,c].T, Sigma[c])[0]\n",
    "            j = j + 1\n",
    "        i = i + 1    \n",
    "    cp = plt.contour(XX, YY, Z)\n",
    "plt.title('Inliers and outliers according to GMM model')\n",
    "plt.show()"
   ]
  },
  {
   "cell_type": "code",
   "execution_count": null,
   "metadata": {},
   "outputs": [],
   "source": []
  },
  {
   "cell_type": "code",
   "execution_count": null,
   "metadata": {},
   "outputs": [],
   "source": []
  }
 ],
 "metadata": {
  "kernelspec": {
   "display_name": "Python 3",
   "language": "python",
   "name": "python3"
  },
  "language_info": {
   "codemirror_mode": {
    "name": "ipython",
    "version": 3
   },
   "file_extension": ".py",
   "mimetype": "text/x-python",
   "name": "python",
   "nbconvert_exporter": "python",
   "pygments_lexer": "ipython3",
   "version": "3.8.3"
  }
 },
 "nbformat": 4,
 "nbformat_minor": 4
}
