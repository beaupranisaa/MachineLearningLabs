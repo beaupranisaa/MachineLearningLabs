{
 "cells": [
  {
   "cell_type": "markdown",
   "metadata": {},
   "source": [
    "## Take-home exercise\n",
    "\n",
    "#### Name: Pranisaa Charnparttaravanit\n",
    "#### st121720\n",
    "\n",
    "Make sure you can run the PyTorch examples of MNIST classification, then apply the PyTorch example to another\n",
    "classification problem you've worked with this semester, for example the breast cancer dataset. Get familiar with\n",
    "working with models in PyTorch.\n",
    "\n",
    "Report your experiments and results in your brief lab report."
   ]
  },
  {
   "cell_type": "code",
   "execution_count": 1,
   "metadata": {},
   "outputs": [],
   "source": [
    "import numpy as np\n",
    "import torch\n",
    "import torch.nn as nn\n",
    "import torch.nn.functional as F\n",
    "import torch.optim as optim\n",
    "from torch.autograd import Variable\n",
    "import pandas as pd\n",
    "import matplotlib.pyplot as plt\n",
    "import seaborn as sns\n",
    "%matplotlib inline\n",
    "import warnings\n",
    "warnings.filterwarnings(\"ignore\")"
   ]
  },
  {
   "cell_type": "code",
   "execution_count": 15,
   "metadata": {},
   "outputs": [
    {
     "name": "stdout",
     "output_type": "stream",
     "text": [
      "(569, 30)\n",
      "(569,)\n"
     ]
    }
   ],
   "source": [
    "import numpy as np\n",
    "from sklearn.datasets import load_breast_cancer\n",
    "\n",
    "data = load_breast_cancer()\n",
    "y = data.target\n",
    "X = data.data\n",
    "\n",
    "# def normalize(X):\n",
    "#     M = X.shape[0]\n",
    "#     XX = X - np.tile(np.mean(X,0),[M,1])\n",
    "#     XX = np.divide(XX, np.tile(np.std(XX,0),[M,1]))\n",
    "#     return XX\n",
    "\n",
    "# X = normalize(X)\n",
    "\n",
    "\n",
    "M = X.shape[0]\n",
    "N = X.shape[1]\n",
    "\n",
    "print(X.shape)\n",
    "print(y.shape)"
   ]
  },
  {
   "cell_type": "code",
   "execution_count": 16,
   "metadata": {},
   "outputs": [
    {
     "name": "stdout",
     "output_type": "stream",
     "text": [
      "(398, 30)\n",
      "(398, 1)\n",
      "(171, 30)\n",
      "(171, 1)\n"
     ]
    }
   ],
   "source": [
    "from sklearn.model_selection import train_test_split\n",
    "\n",
    "X_train,X_test,y_train,y_test = train_test_split(X,y,test_size = 0.3)\n",
    "print(X_train.shape)\n",
    "y_train = y_train.reshape(-1,1)\n",
    "print(y_train.shape)\n",
    "print(X_test.shape)\n",
    "y_test = y_test.reshape(-1,1)\n",
    "print(y_test.shape)\n",
    "# print(type(X_test))"
   ]
  },
  {
   "cell_type": "code",
   "execution_count": 17,
   "metadata": {},
   "outputs": [
    {
     "name": "stdout",
     "output_type": "stream",
     "text": [
      "torch.Size([398, 1])\n",
      "torch.Size([398, 30])\n"
     ]
    }
   ],
   "source": [
    "\n",
    "X_train = torch.FloatTensor(X_train.tolist())\n",
    "y_train = torch.FloatTensor(y_train.tolist())\n",
    "print(y_train.shape)\n",
    "print(X_train.shape)"
   ]
  },
  {
   "cell_type": "code",
   "execution_count": 18,
   "metadata": {},
   "outputs": [],
   "source": [
    "# hyperparameters\n",
    "input_size = 30\n",
    "output_size = 1\n",
    "hidden_size = 4\n",
    "\n",
    "epochs = 20\n",
    "batch_size = 10\n",
    "learning_rate = 0.001"
   ]
  },
  {
   "cell_type": "code",
   "execution_count": 19,
   "metadata": {},
   "outputs": [],
   "source": [
    "class Network(nn.Module):\n",
    "    \n",
    "    def __init__(self):\n",
    "        super(Network, self).__init__()\n",
    "        self.l1 = nn.Linear(input_size, hidden_size)\n",
    "        self.relu = nn.ReLU()\n",
    "        self.l3 = nn.Linear(hidden_size, output_size)\n",
    "        \n",
    "    def forward(self, x):\n",
    "        x = self.l1(x)\n",
    "        x = self.relu(x)\n",
    "        x = self.l3(x)\n",
    "        #sigmoid at the end\n",
    "        return F.sigmoid(x)"
   ]
  },
  {
   "cell_type": "code",
   "execution_count": 20,
   "metadata": {},
   "outputs": [
    {
     "name": "stdout",
     "output_type": "stream",
     "text": [
      "Network(\n",
      "  (l1): Linear(in_features=30, out_features=4, bias=True)\n",
      "  (relu): ReLU()\n",
      "  (l3): Linear(in_features=4, out_features=1, bias=True)\n",
      ")\n"
     ]
    }
   ],
   "source": [
    "net = Network()\n",
    "print(net)"
   ]
  },
  {
   "cell_type": "code",
   "execution_count": 21,
   "metadata": {},
   "outputs": [],
   "source": [
    "# optimizer = optim.SGD(net.parameters(), lr=learning_rate, momentum=0.9)\n",
    "loss_func = nn.BCELoss()\n",
    "optimizer = torch.optim.Adam(net.parameters(), lr=0.001)"
   ]
  },
  {
   "cell_type": "code",
   "execution_count": 22,
   "metadata": {},
   "outputs": [
    {
     "name": "stdout",
     "output_type": "stream",
     "text": [
      "Epoch: 0 - Loss: 0.943640\n",
      "Epoch: 1 - Loss: 0.617503\n",
      "Epoch: 2 - Loss: 0.506901\n",
      "Epoch: 3 - Loss: 0.423799\n",
      "Epoch: 4 - Loss: 0.360089\n",
      "Epoch: 5 - Loss: 0.309750\n",
      "Epoch: 6 - Loss: 0.269922\n",
      "Epoch: 7 - Loss: 0.238349\n",
      "Epoch: 8 - Loss: 0.213234\n",
      "Epoch: 9 - Loss: 0.193154\n",
      "Epoch: 10 - Loss: 0.176992\n",
      "Epoch: 11 - Loss: 0.163880\n",
      "Epoch: 12 - Loss: 0.153150\n",
      "Epoch: 13 - Loss: 0.144286\n",
      "Epoch: 14 - Loss: 0.136894\n",
      "Epoch: 15 - Loss: 0.130667\n",
      "Epoch: 16 - Loss: 0.125372\n",
      "Epoch: 17 - Loss: 0.120824\n",
      "Epoch: 18 - Loss: 0.116882\n",
      "Epoch: 19 - Loss: 0.113434\n"
     ]
    }
   ],
   "source": [
    "loss_hist = []\n",
    "# history = { \"loss\": [], \"accuracy\": [], \"loss_val\": [], \"accuracy_val\": [] }\n",
    "\n",
    "for e in range(epochs):\n",
    "    for i in range(0, X_train.shape[0], batch_size):\n",
    "        X_mini = X_train[i:i + batch_size] \n",
    "        y_mini = y_train[i:i + batch_size] \n",
    "        \n",
    "        X_var = Variable(X_mini)\n",
    "        y_var = Variable(y_mini)\n",
    "        \n",
    "        optimizer.zero_grad() #zero_grad clears old gradients from the last step\n",
    "        \n",
    "        net_out = net(X_var)\n",
    "#         print(\"===============================\")\n",
    "#         print(net_out)\n",
    "#         print(y_var)\n",
    "        loss = loss_func(net_out, y_var)\n",
    "    \n",
    "        prediction = [1 if x > 0.5 else 0 for x in net_out]\n",
    "        correct = (torch.FloatTensor(prediction) == y_mini.reshape(-1,1)[0]).sum()    \n",
    "        \n",
    "        loss.backward() #computes the derivative of the loss w.r.t. the parameters (or anything requiring gradients) using backpropagation.\n",
    "        optimizer.step() # causes the optimizer to take a step based on the gradients of the parameters.\n",
    "        loss_hist.append(loss.item())\n",
    "        \n",
    "        \n",
    "    print('Epoch: {} - Loss: {:.6f}'.format(e, loss.item()))\n",
    "    "
   ]
  },
  {
   "cell_type": "code",
   "execution_count": 23,
   "metadata": {},
   "outputs": [
    {
     "name": "stdout",
     "output_type": "stream",
     "text": [
      "torch.Size([398, 30])\n",
      "torch.Size([8, 30])\n",
      "X_var torch.Size([8, 30])\n",
      "torch.Size([1])\n",
      "correct 5\n",
      "prediction 8\n",
      "<class 'list'>\n",
      "torch.Size([8, 1])\n",
      "torch.Size([8, 1])\n",
      "tensor([1., 1., 1., 0., 1., 0., 1., 0.])\n",
      "tensor([1., 1., 1., 0., 1., 0., 1., 0.])\n"
     ]
    }
   ],
   "source": [
    "print(X_train.shape)\n",
    "print(X_mini.shape)\n",
    "\n",
    "print('X_var',X_var.shape)\n",
    "# print(X_var)\n",
    "print(net_out[1].shape)\n",
    "\n",
    "print('correct',correct.numpy())\n",
    "print('prediction',len(prediction))\n",
    "print(type(prediction))\n",
    "print(y_var.shape)\n",
    "print(net_out.shape)\n",
    "print(torch.FloatTensor(prediction))\n",
    "print(y_mini.reshape(1,-1)[0])\n",
    "# print(history[\"accuracy\"])"
   ]
  },
  {
   "cell_type": "code",
   "execution_count": 24,
   "metadata": {},
   "outputs": [
    {
     "data": {
      "text/plain": [
       "[<matplotlib.lines.Line2D at 0x7f3018097e20>]"
      ]
     },
     "execution_count": 24,
     "metadata": {},
     "output_type": "execute_result"
    },
    {
     "data": {
      "image/png": "[encoded data removed]",
      "text/plain": [
       "<Figure size 720x576 with 1 Axes>"
      ]
     },
     "metadata": {
      "needs_background": "light"
     },
     "output_type": "display_data"
    }
   ],
   "source": [
    "plt.figure(figsize=(10,8))\n",
    "plt.plot(loss_hist)"
   ]
  },
  {
   "cell_type": "code",
   "execution_count": 25,
   "metadata": {},
   "outputs": [],
   "source": [
    "test = torch.FloatTensor(X_test.tolist())\n",
    "test_var = Variable(test)\n",
    "\n",
    "net_out = net(test_var)"
   ]
  },
  {
   "cell_type": "code",
   "execution_count": 26,
   "metadata": {},
   "outputs": [],
   "source": [
    "prediction = [1 if x > 0.5 else 0 for x in net_out]\n",
    "correct = (torch.FloatTensor(prediction) == y_mini.reshape(-1,1)[0]).sum()   "
   ]
  },
  {
   "cell_type": "code",
   "execution_count": 27,
   "metadata": {},
   "outputs": [
    {
     "name": "stdout",
     "output_type": "stream",
     "text": [
      "0.6549707602339181\n"
     ]
    }
   ],
   "source": [
    "acc = correct.numpy()/ len(prediction)\n",
    "print(acc)"
   ]
  },
  {
   "cell_type": "markdown",
   "metadata": {},
   "source": [
    "#### Report\n",
    "The data i used for this part of the assignment is the breast cancer data taken from sklearn. Since it is a binary classification problem, sigmoid is used at the last layer instead of log_softmax and as the loss function, BCE was also chosen instead of CrossEntropyLoss.\n",
    "\n",
    "Moreover, as the optimizer i found that Adam optimizer outperforms SGD with momentum.\n",
    "\n",
    "The hyperparamters for this model are as follows:\n",
    "1. input_size = 30\n",
    "2. output_size = 1\n",
    "3. hidden_size = 4\n",
    "4. epochs = 20\n",
    "5. batch_size = 10\n",
    "6. learning_rate = 0.001"
   ]
  },
  {
   "cell_type": "code",
   "execution_count": null,
   "metadata": {},
   "outputs": [],
   "source": []
  }
 ],
 "metadata": {
  "kernelspec": {
   "display_name": "Python 3",
   "language": "python",
   "name": "python3"
  },
  "language_info": {
   "codemirror_mode": {
    "name": "ipython",
    "version": 3
   },
   "file_extension": ".py",
   "mimetype": "text/x-python",
   "name": "python",
   "nbconvert_exporter": "python",
   "pygments_lexer": "ipython3",
   "version": "3.8.6"
  }
 },
 "nbformat": 4,
 "nbformat_minor": 4
}
