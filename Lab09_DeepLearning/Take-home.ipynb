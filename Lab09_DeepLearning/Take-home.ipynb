{
 "cells": [
  {
   "cell_type": "code",
   "execution_count": 1,
   "metadata": {},
   "outputs": [],
   "source": [
    "import numpy as np\n",
    "import torch\n",
    "import torch.nn as nn\n",
    "import torch.nn.functional as F\n",
    "import torch.optim as optim\n",
    "from torch.autograd import Variable\n",
    "import pandas as pd\n",
    "import matplotlib.pyplot as plt\n",
    "import seaborn as sns\n",
    "%matplotlib inline\n",
    "import warnings\n",
    "warnings.filterwarnings(\"ignore\")\n",
    "from tqdm import tqdm"
   ]
  },
  {
   "cell_type": "code",
   "execution_count": 2,
   "metadata": {},
   "outputs": [],
   "source": [
    "def train_test_splits(df,ratio,shuffle=True):\n",
    "    if shuffle:\n",
    "        print(\"Shuffle\")\n",
    "        df.sample(frac=1)\n",
    "    size = int(df.shape[0]*ratio)\n",
    "    return df.iloc[:size],df.iloc[size:]"
   ]
  },
  {
   "cell_type": "code",
   "execution_count": 3,
   "metadata": {},
   "outputs": [
    {
     "name": "stdout",
     "output_type": "stream",
     "text": [
      "Shuffle\n"
     ]
    }
   ],
   "source": [
    "data = pd.read_csv(\"breast_cancer.csv\")\n",
    "diag = { \"M\": 1, \"B\": 0}\n",
    "data['diagnosis'].replace(diag,inplace=True)\n",
    "data = data.drop(['id','Unnamed: 32'],axis=1)\n",
    "train_set,test_set = train_test_splits(data,0.8)"
   ]
  },
  {
   "cell_type": "code",
   "execution_count": 4,
   "metadata": {},
   "outputs": [],
   "source": [
    "#Drop label (data frame type)\n",
    "label_train= train_set['diagnosis']\n",
    "train_set = train_set.drop('diagnosis',axis=1)\n",
    "\n",
    "label_test = test_set['diagnosis']\n",
    "test_set = test_set.drop('diagnosis',axis=1)"
   ]
  },
  {
   "cell_type": "code",
   "execution_count": null,
   "metadata": {},
   "outputs": [],
   "source": []
  },
  {
   "cell_type": "code",
   "execution_count": 5,
   "metadata": {},
   "outputs": [],
   "source": [
    "#torch\n",
    "x_data = Variable(torch.from_numpy(train_set.values))\n",
    "y_data = Variable(torch.from_numpy(label_train.values))\n",
    "\n",
    "xtest_data = Variable(torch.from_numpy(test_set.values))\n",
    "ytest_data = Variable(torch.from_numpy(label_test.values))"
   ]
  },
  {
   "cell_type": "code",
   "execution_count": 6,
   "metadata": {},
   "outputs": [],
   "source": [
    "class Model(torch.nn.Module):\n",
    "    def __init__(self):\n",
    "        super(Model, self).__init__()\n",
    "        self.l1 = torch.nn.Linear(30,16)\n",
    "        self.l2 = torch.nn.Linear(16,4)\n",
    "        self.l3 = torch.nn.Linear(4,1)\n",
    "        \n",
    "        self.sigmoid = torch.nn.Sigmoid()\n",
    "        \n",
    "    def forward(self, x):\n",
    "        out1 = self.sigmoid(self.l1(x)) \n",
    "        out2 = self.sigmoid(self.l2(out1))\n",
    "        y_pred = self.sigmoid(self.l3(out2))\n",
    "        return y_pred\n",
    "    \n",
    "model = Model()"
   ]
  },
  {
   "cell_type": "code",
   "execution_count": 7,
   "metadata": {},
   "outputs": [],
   "source": [
    "# hyperparameters\n",
    "input_size = 784\n",
    "output_size = 10\n",
    "hidden_size = 200\n"
   ]
  },
  {
   "cell_type": "code",
   "execution_count": 8,
   "metadata": {},
   "outputs": [],
   "source": [
    "#optimizer = torch.optim.SGD(model.parameters(), lr=learning_rate, momentum=0.9)\n",
    "loss_func = torch.nn.BCELoss(reduction='sum')\n",
    "optimizer = torch.optim.Adam(model.parameters(), lr=0.001)\n"
   ]
  },
  {
   "cell_type": "code",
   "execution_count": 9,
   "metadata": {},
   "outputs": [
    {
     "name": "stderr",
     "output_type": "stream",
     "text": [
      "100%|██████████| 3000/3000 [00:40<00:00, 73.28it/s] \n"
     ]
    }
   ],
   "source": [
    "epochs = 3000\n",
    "history = { \"loss\": [], \"accuracy\": [], \"loss_val\": [], \"accuracy_val\": [] }\n",
    "\n",
    "for i in tqdm(range(epochs)):\n",
    "    y_pred = model(x_data.float())\n",
    "    loss = loss_func(y_pred, y_data.view(-1,1).float())\n",
    "    \n",
    "    prediction = [1 if x > 0.5 else 0 for x in y_pred.data.numpy()]\n",
    "    correct = (prediction == y_data.numpy()).sum()\n",
    "    \n",
    "    \n",
    "    y_val_pred = model(xtest_data.float())\n",
    "    loss_val = loss_func(y_val_pred,ytest_data.view(-1,1).float())\n",
    "    prediction_val = [1 if x > 0.5 else 0 for x in y_val_pred.data.numpy()]\n",
    "    correct_val = (prediction_val == ytest_data.numpy()).sum()\n",
    "    \n",
    "    optimizer.zero_grad()\n",
    "    loss.backward()\n",
    "    optimizer.step()\n",
    "    \n",
    "    history[\"loss\"].append(loss.item())\n",
    "    history[\"accuracy\"].append(100 * correct / len(prediction))\n",
    "    history[\"loss_val\"].append(loss_val.item())\n",
    "    history[\"accuracy_val\"].append(100 * correct_val / len(prediction_val))\n"
   ]
  },
  {
   "cell_type": "code",
   "execution_count": null,
   "metadata": {},
   "outputs": [],
   "source": []
  },
  {
   "cell_type": "code",
   "execution_count": 10,
   "metadata": {},
   "outputs": [
    {
     "data": {
      "text/plain": [
       "[<matplotlib.lines.Line2D at 0x7f91d044b220>]"
      ]
     },
     "execution_count": 10,
     "metadata": {},
     "output_type": "execute_result"
    },
    {
     "data": {
      "image/png": "[encoded data removed]",
      "text/plain": [
       "<Figure size 720x576 with 1 Axes>"
      ]
     },
     "metadata": {
      "needs_background": "light"
     },
     "output_type": "display_data"
    }
   ],
   "source": [
    "#loss\n",
    "plt.figure(figsize=(10,8))\n",
    "plt.title(\"Loss\") \n",
    "plt.plot(history[\"loss_val\"])\n",
    "plt.plot(history[\"loss\"])"
   ]
  },
  {
   "cell_type": "code",
   "execution_count": 11,
   "metadata": {},
   "outputs": [
    {
     "data": {
      "text/plain": [
       "[<matplotlib.lines.Line2D at 0x7f91d023cbb0>]"
      ]
     },
     "execution_count": 11,
     "metadata": {},
     "output_type": "execute_result"
    },
    {
     "data": {
      "image/png": "[encoded data removed]",
      "text/plain": [
       "<Figure size 720x576 with 1 Axes>"
      ]
     },
     "metadata": {
      "needs_background": "light"
     },
     "output_type": "display_data"
    }
   ],
   "source": [
    "#Accuracy\n",
    "plt.figure(figsize=(10,8))\n",
    "plt.title(\"Accuracy\") \n",
    "plt.plot(history[\"accuracy_val\"])\n",
    "plt.plot(history[\"accuracy\"])"
   ]
  },
  {
   "cell_type": "code",
   "execution_count": null,
   "metadata": {},
   "outputs": [],
   "source": []
  }
 ],
 "metadata": {
  "kernelspec": {
   "display_name": "Python 3",
   "language": "python",
   "name": "python3"
  },
  "language_info": {
   "codemirror_mode": {
    "name": "ipython",
    "version": 3
   },
   "file_extension": ".py",
   "mimetype": "text/x-python",
   "name": "python",
   "nbconvert_exporter": "python",
   "pygments_lexer": "ipython3",
   "version": "3.8.6"
  }
 },
 "nbformat": 4,
 "nbformat_minor": 4
}
