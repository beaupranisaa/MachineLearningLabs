{
 "cells": [
  {
   "cell_type": "markdown",
   "metadata": {},
   "source": [
    "# Lab 09: Deep Learning Part I: Fully Connected Neural Networks\n",
    "\n",
    "In class, we have developed the mathematics and programming techniques for binary classification using fully connected neural networks\n",
    "having one or more hidden layers.\n",
    "\n",
    "Today, we'll expand on that to consider (small) image classification using again fully connected neural networks with a multinomial\n",
    "(softmax) output layer.\n",
    "\n",
    "## MNIST Data\n",
    "\n",
    "An image is a 2D array of pixels. Pixels can be scalar intensities (for a grayscale / black and white image) or a vector indicating a\n",
    "point in a color space such as RGB or HSV.\n",
    "\n",
    "Today we'll consider 8x8 grayscale images of digits from the famous \"MNIST\" dataset, which was considered a benchmark for machine learning algorithms\n",
    "up to the early 2000s, before the advent of large-scale image classification datasets.\n",
    "\n",
    "This dataset in SciKit-Learn has 10 classes, with 180 samples per class in most cases, for a total of 1797 samples.\n",
    "\n",
    "Let's load the dataset and plot an example."
   ]
  },
  {
   "cell_type": "code",
   "execution_count": 10,
   "metadata": {},
   "outputs": [
    {
     "data": {
      "text/plain": [
       "Text(0.5, 1.0, 'Example MNIST sample (category 0)')"
      ]
     },
     "execution_count": 10,
     "metadata": {},
     "output_type": "execute_result"
    },
    {
     "data": {
      "image/png": "[encoded data removed]",
      "text/plain": [
       "<Figure size 432x288 with 1 Axes>"
      ]
     },
     "metadata": {
      "needs_background": "light"
     },
     "output_type": "display_data"
    }
   ],
   "source": [
    "import numpy as np\n",
    "from sklearn.datasets import load_digits\n",
    "import matplotlib.pyplot as plt\n",
    "\n",
    "# Load data\n",
    "\n",
    "data = load_digits()\n",
    "\n",
    "def convert_to_one_hot(y):\n",
    "    y_vect = np.zeros((len(y), 10))\n",
    "    for i in range(len(y)):\n",
    "        y_vect[i, int(y[i])] = 1\n",
    "    return y_vect\n",
    "\n",
    "# Convert target indices to one-hot representation\n",
    "\n",
    "y_indices = data.target\n",
    "y = convert_to_one_hot(y_indices)\n",
    "X = np.matrix(data.data)\n",
    "M = X.shape[0]\n",
    "N = X.shape[1]\n",
    "\n",
    "# Plot an example\n",
    "\n",
    "plt.imshow(np.reshape(X[0,:],(8,8)), 'gray')\n",
    "plt.title('Example MNIST sample (category %d)' % y_indices[0])"
   ]
  },
  {
   "cell_type": "markdown",
   "metadata": {},
   "source": [
    "## Hand-Coded Fully Connected Neural Network\n",
    "\n",
    "OK, now let's modify our code from class to work with this dataset and run 100 epochs of training.\n",
    "The main change is to use a one-hot encoding of the 10 classes at the output layer and to use\n",
    "the softmax activation function at the output. Some minor changes are required to calculate multinomial\n",
    "cross entropy loss rather than binary cross entropy loss."
   ]
  },
  {
   "cell_type": "code",
   "execution_count": 11,
   "metadata": {},
   "outputs": [
    {
     "name": "stdout",
     "output_type": "stream",
     "text": [
      "Epoch 0 train loss 2490.175044\n",
      "Epoch 0 test loss 1660.585437\n",
      "Epoch 1 train loss 2487.890751\n",
      "Epoch 1 test loss 1660.473741\n",
      "Epoch 2 train loss 2487.893956\n",
      "Epoch 2 test loss 1661.027036\n",
      "Epoch 3 train loss 2485.656791\n",
      "Epoch 3 test loss 1662.329579\n",
      "Epoch 4 train loss 2485.872019\n",
      "Epoch 4 test loss 1662.249387\n",
      "Epoch 5 train loss 2485.755039\n",
      "Epoch 5 test loss 1663.001702\n",
      "Epoch 6 train loss 2484.556861\n",
      "Epoch 6 test loss 1659.877606\n",
      "Epoch 7 train loss 2483.806674\n",
      "Epoch 7 test loss 1659.689450\n",
      "Epoch 8 train loss 2482.426374\n",
      "Epoch 8 test loss 1658.336700\n",
      "Epoch 9 train loss 2481.210298\n",
      "Epoch 9 test loss 1656.031131\n",
      "Epoch 10 train loss 2477.033938\n",
      "Epoch 10 test loss 1653.410086\n",
      "Epoch 11 train loss 2473.230116\n",
      "Epoch 11 test loss 1648.763070\n",
      "Epoch 12 train loss 2464.892356\n",
      "Epoch 12 test loss 1643.349505\n",
      "Epoch 13 train loss 2448.767739\n",
      "Epoch 13 test loss 1625.687860\n",
      "Epoch 14 train loss 2417.188258\n",
      "Epoch 14 test loss 1602.617816\n",
      "Epoch 15 train loss 2358.125253\n",
      "Epoch 15 test loss 1555.709981\n",
      "Epoch 16 train loss 2263.726757\n",
      "Epoch 16 test loss 1492.998651\n",
      "Epoch 17 train loss 2149.302937\n",
      "Epoch 17 test loss 1418.875996\n",
      "Epoch 18 train loss 2030.355937\n",
      "Epoch 18 test loss 1344.263443\n",
      "Epoch 19 train loss 1907.494078\n",
      "Epoch 19 test loss 1271.109466\n",
      "Epoch 20 train loss 1787.324462\n",
      "Epoch 20 test loss 1197.941696\n",
      "Epoch 21 train loss 1674.565204\n",
      "Epoch 21 test loss 1131.469555\n",
      "Epoch 22 train loss 1576.077409\n",
      "Epoch 22 test loss 1074.222087\n",
      "Epoch 23 train loss 1491.802779\n",
      "Epoch 23 test loss 1026.820539\n",
      "Epoch 24 train loss 1417.945761\n",
      "Epoch 24 test loss 987.972378\n",
      "Epoch 25 train loss 1350.724349\n",
      "Epoch 25 test loss 949.513705\n",
      "Epoch 26 train loss 1288.199773\n",
      "Epoch 26 test loss 912.251867\n",
      "Epoch 27 train loss 1229.644795\n",
      "Epoch 27 test loss 875.184896\n",
      "Epoch 28 train loss 1173.293162\n",
      "Epoch 28 test loss 842.460640\n",
      "Epoch 29 train loss 1119.934309\n",
      "Epoch 29 test loss 813.980797\n",
      "Epoch 30 train loss 1068.644774\n",
      "Epoch 30 test loss 781.041783\n",
      "Epoch 31 train loss 1020.671474\n",
      "Epoch 31 test loss 748.347241\n",
      "Epoch 32 train loss 974.124515\n",
      "Epoch 32 test loss 722.681691\n",
      "Epoch 33 train loss 930.450758\n",
      "Epoch 33 test loss 702.255198\n",
      "Epoch 34 train loss 890.094911\n",
      "Epoch 34 test loss 678.761348\n",
      "Epoch 35 train loss 851.904210\n",
      "Epoch 35 test loss 659.488627\n",
      "Epoch 36 train loss 819.733301\n",
      "Epoch 36 test loss 635.941597\n",
      "Epoch 37 train loss 785.776952\n",
      "Epoch 37 test loss 617.663287\n",
      "Epoch 38 train loss 757.601840\n",
      "Epoch 38 test loss 602.098279\n",
      "Epoch 39 train loss 729.281101\n",
      "Epoch 39 test loss 583.886089\n",
      "Epoch 40 train loss 702.553733\n",
      "Epoch 40 test loss 579.585681\n",
      "Epoch 41 train loss 679.932862\n",
      "Epoch 41 test loss 559.435171\n",
      "Epoch 42 train loss 656.864081\n",
      "Epoch 42 test loss 544.975433\n",
      "Epoch 43 train loss 633.682150\n",
      "Epoch 43 test loss 531.141072\n",
      "Epoch 44 train loss 612.334146\n",
      "Epoch 44 test loss 519.688626\n",
      "Epoch 45 train loss 592.147229\n",
      "Epoch 45 test loss 509.912752\n",
      "Epoch 46 train loss 573.992292\n",
      "Epoch 46 test loss 495.626295\n",
      "Epoch 47 train loss 555.516503\n",
      "Epoch 47 test loss 486.852612\n",
      "Epoch 48 train loss 538.477665\n",
      "Epoch 48 test loss 473.512514\n",
      "Epoch 49 train loss 520.238302\n",
      "Epoch 49 test loss 467.290320\n",
      "Epoch 50 train loss 504.463697\n",
      "Epoch 50 test loss 457.851137\n",
      "Epoch 51 train loss 488.346031\n",
      "Epoch 51 test loss 447.701079\n",
      "Epoch 52 train loss 472.748708\n",
      "Epoch 52 test loss 434.284074\n",
      "Epoch 53 train loss 455.715455\n",
      "Epoch 53 test loss 431.165231\n",
      "Epoch 54 train loss 441.938459\n",
      "Epoch 54 test loss 419.719044\n",
      "Epoch 55 train loss 429.119403\n",
      "Epoch 55 test loss 413.897056\n",
      "Epoch 56 train loss 412.669083\n",
      "Epoch 56 test loss 401.505124\n",
      "Epoch 57 train loss 402.349420\n",
      "Epoch 57 test loss 393.506711\n",
      "Epoch 58 train loss 389.607020\n",
      "Epoch 58 test loss 387.385221\n",
      "Epoch 59 train loss 377.667237\n",
      "Epoch 59 test loss 382.015045\n",
      "Epoch 60 train loss 366.079021\n",
      "Epoch 60 test loss 371.322938\n",
      "Epoch 61 train loss 355.665239\n",
      "Epoch 61 test loss 370.292892\n",
      "Epoch 62 train loss 345.727250\n",
      "Epoch 62 test loss 365.433022\n",
      "Epoch 63 train loss 334.103583\n",
      "Epoch 63 test loss 362.434462\n",
      "Epoch 64 train loss 324.852218\n",
      "Epoch 64 test loss 357.668985\n",
      "Epoch 65 train loss 314.956857\n",
      "Epoch 65 test loss 351.799568\n",
      "Epoch 66 train loss 307.970876\n",
      "Epoch 66 test loss 350.195395\n",
      "Epoch 67 train loss 296.155757\n",
      "Epoch 67 test loss 348.158785\n",
      "Epoch 68 train loss 289.623315\n",
      "Epoch 68 test loss 352.041300\n",
      "Iter stop:  68\n",
      "Test accuracy: 0.8665\n"
     ]
    }
   ],
   "source": [
    "import random\n",
    "import warnings\n",
    "warnings.filterwarnings(\"ignore\")\n",
    "\n",
    "# Normalize each input feature\n",
    "\n",
    "def normalize(X):\n",
    "    M = X.shape[0]\n",
    "    XX = X - np.tile(np.mean(X,0),[M,1])\n",
    "    XX = np.divide(XX, np.tile(np.std(XX,0),[M,1]))\n",
    "    return np.nan_to_num(XX, copy=True,nan=0.0)\n",
    "\n",
    "XX = normalize(X)\n",
    "\n",
    "idx = np.arange(0,M)\n",
    "\n",
    "# Partion data into training and testing dataset\n",
    "\n",
    "random.shuffle(idx)\n",
    "percent_train = .6\n",
    "m_train = int(M * percent_train)\n",
    "m_test = M - m_train\n",
    "train_idx = idx[0:m_train]\n",
    "test_idx = idx[m_train:M+1]\n",
    "X_train = XX[train_idx,:];\n",
    "X_test = XX[test_idx,:];\n",
    "\n",
    "y_train = y[train_idx];\n",
    "y_test = y[test_idx];\n",
    "y_test_indices = y_indices[test_idx]\n",
    "\n",
    "# Let's start with a 3-layer network with sigmoid activation functions,\n",
    "# 6 units in layer 1, and 5 units in layer 2.\n",
    "\n",
    "h2 = 5\n",
    "h1 = 6\n",
    "W = [[], np.random.normal(0,0.1,[N,h1]),\n",
    "         np.random.normal(0,0.1,[h1,h2]),\n",
    "         np.random.normal(0,0.1,[h2,10])]\n",
    "b = [[], np.random.normal(0,0.1,[h1,1]),\n",
    "         np.random.normal(0,0.1,[h2,1]),\n",
    "         np.random.normal(0,0.1,[10,1])]\n",
    "L = len(W)-1\n",
    "\n",
    "def sigmoid_act(z):\n",
    "    return 1/(1+np.exp(-z))\n",
    "\n",
    "def softmax_act(z):\n",
    "    exps = np.exp(z)\n",
    "    return exps / np.sum(exps)\n",
    "\n",
    "def sigmoid_actder(z):\n",
    "    az = sigmoid_act(z)\n",
    "    prod = np.multiply(az,1-az)\n",
    "    return prod\n",
    "\n",
    "def ff(x,W,b):\n",
    "    L = len(W)-1\n",
    "    a = x\n",
    "    for l in range(1,L+1):\n",
    "        z = W[l].T*a+b[l]\n",
    "        if (l == L):\n",
    "            a = softmax_act(z)\n",
    "        else:\n",
    "            a = sigmoid_act(z)\n",
    "    return a\n",
    "\n",
    "def loss(y, yhat):\n",
    "    return - np.dot(y, np.log(yhat))\n",
    "\n",
    "# Train for 100 epochs with mini-batch size 1\n",
    "\n",
    "cost_arr = [] \n",
    "cost_arr_test = []\n",
    "\n",
    "alpha = 0.01\n",
    "max_iter = 100\n",
    "iter_stop = 0\n",
    "\n",
    "for iter in range(0, max_iter):\n",
    "    loss_this_iter = 0\n",
    "    loss_this_iter_test = 0\n",
    "    order = np.random.permutation(m_train)\n",
    "    order_test = np.random.permutation(m_test)\n",
    "    for i in range(0, m_train):\n",
    "        \n",
    "        # Grab the pattern order[i]\n",
    "        \n",
    "        x_this = X_train[order[i],:].T\n",
    "        y_this = y_train[order[i],:]\n",
    "\n",
    "        # Feed forward step\n",
    "        \n",
    "        a = [x_this]\n",
    "        z = [[]]\n",
    "        delta = [[]]\n",
    "        dW = [[]]\n",
    "        db = [[]]\n",
    "        for l in range(1,L+1):\n",
    "            z.append(W[l].T*a[l-1]+b[l])\n",
    "            if (l == L):\n",
    "                a.append(softmax_act(z[l]))\n",
    "            else:\n",
    "                a.append(sigmoid_act(z[l]))\n",
    "            # Just to give arrays the right shape for the backprop step\n",
    "            delta.append([]); dW.append([]); db.append([])\n",
    "            \n",
    "        loss_this_pattern = loss(y_this, a[L])\n",
    "        loss_this_iter = loss_this_iter + loss_this_pattern\n",
    "        \n",
    "        delta[L] = a[L] - np.matrix(y_this).T\n",
    "        for l in range(L,0,-1):\n",
    "            db[l] = delta[l].copy()\n",
    "            dW[l] = a[l-1] * delta[l].T\n",
    "            if l > 1:\n",
    "                # depends on your activation function in th at particular layer \n",
    "                # in this case all our activation functions are sigmoid \n",
    "                delta[l-1] = np.multiply(sigmoid_actder(z[l-1]), W[l] *\n",
    "                             delta[l])\n",
    "                \n",
    "        # Check delta calculation\n",
    "        \n",
    "        if False:\n",
    "            print('Target: %f' % y_this)\n",
    "            print('y_hat: %f' % a[L][0,0])\n",
    "            print(db)\n",
    "            y_pred = ff(x_this,W,b)\n",
    "            diff = 1e-3\n",
    "            W[1][10,0] = W[1][10,0] + diff\n",
    "            y_pred_db = ff(x_this,W,b)\n",
    "            L1 = loss(y_this,y_pred)\n",
    "            L2 = loss(y_this,y_pred_db)\n",
    "            db_finite_difference = (L2-L1)/diff\n",
    "            print('Original out %f, perturbed out %f' %\n",
    "                 (y_pred[0,0], y_pred_db[0,0]))\n",
    "            print('Theoretical dW %f, calculated db %f' %\n",
    "                  (dW[1][10,0], db_finite_difference[0,0]))\n",
    "        \n",
    "        for l in range(1,L+1):            \n",
    "            W[l] = W[l] - alpha * dW[l]\n",
    "            b[l] = b[l] - alpha * db[l]\n",
    "            \n",
    "        \n",
    "    for j in range(0, m_test):\n",
    "\n",
    "        # Grab the pattern order[j]\n",
    "\n",
    "        x_this_test = X_test[order_test[j],:].T\n",
    "        y_this_test = y_test[order_test[j],:]\n",
    "\n",
    "        # Feed forward step\n",
    "        a_test = [x_this_test]\n",
    "        z_test = [[]]\n",
    "        for l in range(1,L+1):\n",
    "            z_test.append(W[l].T*a_test[l-1]+b[l])\n",
    "            if (l == L):\n",
    "                a_test.append(softmax_act(z_test[l]))\n",
    "            else:\n",
    "                a_test.append(sigmoid_act(z_test[l]))\n",
    "        \n",
    "        loss_this_pattern_test = loss(y_this_test,a_test[L])\n",
    "        loss_this_iter_test = loss_this_iter_test + loss_this_pattern_test\n",
    "            \n",
    "        # Backprop step. Note that derivative of multinomial cross entropy\n",
    "        # loss is the same as that of binary cross entropy loss. See\n",
    "        # https://levelup.gitconnected.com/killer-combo-softmax-and-cross-entropy-5907442f60ba\n",
    "        # for a nice derivation.\n",
    "\n",
    "\n",
    "    cost_arr.append(loss_this_iter[0,0])\n",
    "    cost_arr_test.append(loss_this_iter_test[0,0])\n",
    "    \n",
    "    tol = 0.0001\n",
    "    if len(cost_arr_test) > 50:\n",
    "        if cost_arr_test[-2] - cost_arr_test[-1] < tol:\n",
    "            iter_stop = iter\n",
    "            print('Epoch %d train loss %f' % (iter, loss_this_iter))\n",
    "            print('Epoch %d test loss %f' % (iter, loss_this_iter_test))\n",
    "            print('Iter stop: ', iter_stop)\n",
    "            break\n",
    "\n",
    "    print('Epoch %d train loss %f' % (iter, loss_this_iter))\n",
    "    print('Epoch %d test loss %f' % (iter, loss_this_iter_test))\n",
    "    iter_stop = iter\n",
    "    \n",
    "# Get test set accuracy\n",
    "\n",
    "def predict_y(W, b, X):\n",
    "    M = X.shape[0]\n",
    "    y_pred = np.zeros(M)\n",
    "    for i in range(X.shape[0]):\n",
    "        y_pred[i] = np.argmax(ff(X[i,:].T, W, b))\n",
    "    return y_pred\n",
    "\n",
    "y_test_predicted = predict_y(W, b, X_test)\n",
    "y_correct = y_test_predicted == y_test_indices\n",
    "test_accuracy = np.sum(y_correct) / len(y_correct)\n",
    "\n",
    "print('Test accuracy: %.4f' % (test_accuracy))"
   ]
  },
  {
   "cell_type": "code",
   "execution_count": 12,
   "metadata": {},
   "outputs": [
    {
     "data": {
      "image/png": "[encoded data removed]",
      "text/plain": [
       "<Figure size 432x288 with 1 Axes>"
      ]
     },
     "metadata": {
      "needs_background": "light"
     },
     "output_type": "display_data"
    }
   ],
   "source": [
    "plt.plot(np.arange(0,iter_stop+1,1), cost_arr)\n",
    "plt.plot(np.arange(0,iter_stop+1,1), cost_arr_test)\n",
    "\n",
    "plt.ylabel('Loss')\n",
    "plt.xlabel('Epoch')\n",
    "plt.show()"
   ]
  },
  {
   "cell_type": "markdown",
   "metadata": {},
   "source": [
    "## In-class exercise\n",
    "\n",
    "Modify the code above to plot both training loss and test loss as a function of epoch number.\n",
    "Use early stopping to obtain the best model according to the validation set.\n",
    "Experiment with the hyperparameters (learning rate, number of layers, number of units per layer) to get\n",
    "the best result you can.\n",
    "\n",
    "Describe your experiments and results in your lab report.\n",
    "\n",
    "## PyTorch tutorial\n",
    "\n",
    "Is there an easier way to build this type of model? One way is to learn a framework such as TensorFlow or PyTorch. Both of these frameworks have their\n",
    "pros and cons, but PyTorch is probably the most productive neural network framework for research purposes. We'll use it here.\n",
    "\n",
    "The material for this tutorial is from\n",
    "[Anand Saha's PyTorch tutorial](https://github.com/anandsaha/deep.learning.with.pytorch)."
   ]
  },
  {
   "cell_type": "markdown",
   "metadata": {},
   "source": [
    "### Tensors and Tensor operations\n",
    "\n",
    "Let's get some hands on experience with tensor creation and operations.\n",
    "The torch package contains the necessary data structures to create multidimensional tensors.\n",
    "It also defines the mathematical operations that can be performed on these."
   ]
  },
  {
   "cell_type": "code",
   "execution_count": 3,
   "metadata": {},
   "outputs": [],
   "source": [
    "import torch"
   ]
  },
  {
   "cell_type": "code",
   "execution_count": 4,
   "metadata": {},
   "outputs": [
    {
     "name": "stdout",
     "output_type": "stream",
     "text": [
      "1.4.0\n"
     ]
    }
   ],
   "source": [
    "print(torch.__version__)"
   ]
  },
  {
   "cell_type": "markdown",
   "metadata": {},
   "source": [
    "### Tensor creation"
   ]
  },
  {
   "cell_type": "markdown",
   "metadata": {},
   "source": [
    "Create a (2x3) dimentional Tensor.\n",
    "\n",
    "Note that a) You get back a FloatTensor b) The values are uninitialized"
   ]
  },
  {
   "cell_type": "code",
   "execution_count": 5,
   "metadata": {},
   "outputs": [
    {
     "name": "stdout",
     "output_type": "stream",
     "text": [
      "tensor([[2.5353e+30, 1.4013e-44, 4.1058e-42],\n",
      "        [8.3528e-03, 2.8958e+32, 3.4970e-38]])\n"
     ]
    }
   ],
   "source": [
    "t = torch.Tensor(2, 3)\n",
    "print(t)"
   ]
  },
  {
   "cell_type": "markdown",
   "metadata": {},
   "source": [
    "The above call was equivalent to"
   ]
  },
  {
   "cell_type": "code",
   "execution_count": 6,
   "metadata": {},
   "outputs": [
    {
     "name": "stdout",
     "output_type": "stream",
     "text": [
      "tensor([[2.5950e-05, 3.0802e-41, 2.5981e-05],\n",
      "        [3.0802e-41, 1.1210e-43, 0.0000e+00]])\n"
     ]
    }
   ],
   "source": [
    "t = torch.FloatTensor(2, 3)\n",
    "print(t)"
   ]
  },
  {
   "cell_type": "markdown",
   "metadata": {},
   "source": [
    "Inspect type of an element"
   ]
  },
  {
   "cell_type": "code",
   "execution_count": 7,
   "metadata": {},
   "outputs": [
    {
     "data": {
      "text/plain": [
       "tensor(2.5950e-05)"
      ]
     },
     "execution_count": 7,
     "metadata": {},
     "output_type": "execute_result"
    }
   ],
   "source": [
    "t[0][0]"
   ]
  },
  {
   "cell_type": "code",
   "execution_count": 8,
   "metadata": {},
   "outputs": [
    {
     "data": {
      "text/plain": [
       "torch.Tensor"
      ]
     },
     "execution_count": 8,
     "metadata": {},
     "output_type": "execute_result"
    }
   ],
   "source": [
    "type(t[0][0])"
   ]
  },
  {
   "cell_type": "markdown",
   "metadata": {},
   "source": [
    "Inspect `t`'s dimensions"
   ]
  },
  {
   "cell_type": "code",
   "execution_count": 9,
   "metadata": {},
   "outputs": [
    {
     "name": "stdout",
     "output_type": "stream",
     "text": [
      "torch.Size([2, 3])\n",
      "2\n",
      "True\n"
     ]
    }
   ],
   "source": [
    "print(t.size())\n",
    "print(t.dim())\n",
    "print(len(t.size()) == t.dim())\n",
    "# .dim = number of dimensions\n",
    "# help(t.size) # shoudnt it return [2,3]\n",
    "# help(t.dim())"
   ]
  },
  {
   "cell_type": "markdown",
   "metadata": {},
   "source": [
    "Set values"
   ]
  },
  {
   "cell_type": "code",
   "execution_count": 10,
   "metadata": {},
   "outputs": [
    {
     "name": "stdout",
     "output_type": "stream",
     "text": [
      "tensor([[1., 2., 3.],\n",
      "        [4., 5., 6.]])\n"
     ]
    }
   ],
   "source": [
    "t[0][0] = 1\n",
    "t[0][1] = 2\n",
    "t[0][2] = 3\n",
    "t[1][0] = 4\n",
    "t[1][1] = 5\n",
    "t[1][2] = 6\n",
    "print(t)"
   ]
  },
  {
   "cell_type": "markdown",
   "metadata": {},
   "source": [
    "Let's cast a FloatTensor to IntTensor"
   ]
  },
  {
   "cell_type": "code",
   "execution_count": 11,
   "metadata": {},
   "outputs": [
    {
     "name": "stdout",
     "output_type": "stream",
     "text": [
      "tensor([1.1000, 2.2000])\n"
     ]
    },
    {
     "data": {
      "text/plain": [
       "tensor([1, 2], dtype=torch.int32)"
      ]
     },
     "execution_count": 11,
     "metadata": {},
     "output_type": "execute_result"
    }
   ],
   "source": [
    "t = torch.FloatTensor([1.1, 2.2])\n",
    "print(t)\n",
    "t.type(torch.IntTensor)"
   ]
  },
  {
   "cell_type": "markdown",
   "metadata": {},
   "source": [
    "Let's explore some other ways of creating a tensor"
   ]
  },
  {
   "cell_type": "code",
   "execution_count": 12,
   "metadata": {},
   "outputs": [
    {
     "name": "stdout",
     "output_type": "stream",
     "text": [
      "tensor([1.1000, 2.2000])\n"
     ]
    }
   ],
   "source": [
    "# From another Tensor\n",
    "\n",
    "t2 = torch.Tensor(t)\n",
    "print(t2)"
   ]
  },
  {
   "cell_type": "code",
   "execution_count": 13,
   "metadata": {},
   "outputs": [
    {
     "name": "stdout",
     "output_type": "stream",
     "text": [
      "tensor([[1, 2],\n",
      "        [3, 4]], dtype=torch.int32)\n"
     ]
    }
   ],
   "source": [
    "# From a Python list\n",
    "\n",
    "t3 = torch.IntTensor([[1, 2],[3, 4]])\n",
    "print(t3)"
   ]
  },
  {
   "cell_type": "code",
   "execution_count": 14,
   "metadata": {},
   "outputs": [
    {
     "name": "stdout",
     "output_type": "stream",
     "text": [
      "tensor([55., 66.])\n"
     ]
    }
   ],
   "source": [
    "# From a NumPy array\n",
    "\n",
    "import numpy as np\n",
    "a = np.array([55, 66])\n",
    "t4 = torch.Tensor(a)\n",
    "print(t4)"
   ]
  },
  {
   "cell_type": "code",
   "execution_count": 15,
   "metadata": {},
   "outputs": [
    {
     "name": "stdout",
     "output_type": "stream",
     "text": [
      "tensor([[0., 0., 0.],\n",
      "        [0., 0., 0.]])\n"
     ]
    }
   ],
   "source": [
    "# Create a Tensor with all zeros\n",
    "\n",
    "t5 = torch.zeros(2, 3)\n",
    "print(t5)"
   ]
  },
  {
   "cell_type": "code",
   "execution_count": 16,
   "metadata": {},
   "outputs": [
    {
     "name": "stdout",
     "output_type": "stream",
     "text": [
      "tensor([[1., 1., 1.],\n",
      "        [1., 1., 1.]])\n"
     ]
    }
   ],
   "source": [
    "# Create a Tensor with all ones\n",
    "\n",
    "t6 = torch.ones(2, 3)\n",
    "print(t6)"
   ]
  },
  {
   "cell_type": "code",
   "execution_count": 17,
   "metadata": {},
   "outputs": [
    {
     "name": "stdout",
     "output_type": "stream",
     "text": [
      "tensor([1., 1.])\n"
     ]
    }
   ],
   "source": [
    "# Create a Tensor with all ones with dimensions \n",
    "# of another Tensor\n",
    "\n",
    "t7 = torch.ones_like(t4)\n",
    "print(t7)"
   ]
  },
  {
   "cell_type": "markdown",
   "metadata": {},
   "source": [
    "### Tensor operations"
   ]
  },
  {
   "cell_type": "markdown",
   "metadata": {},
   "source": [
    "Add two Tensors"
   ]
  },
  {
   "cell_type": "code",
   "execution_count": 18,
   "metadata": {},
   "outputs": [
    {
     "name": "stdout",
     "output_type": "stream",
     "text": [
      "tensor([[2., 2.],\n",
      "        [2., 2.]])\n"
     ]
    }
   ],
   "source": [
    "t1 = torch.ones(2, 2)\n",
    "t2 = torch.ones(2, 2)\n",
    "t = t1 + t2\n",
    "print(t)"
   ]
  },
  {
   "cell_type": "markdown",
   "metadata": {},
   "source": [
    "Inplace/out-of-place operations"
   ]
  },
  {
   "cell_type": "code",
   "execution_count": 19,
   "metadata": {},
   "outputs": [
    {
     "data": {
      "text/plain": [
       "tensor([[2., 2.],\n",
       "        [2., 2.]])"
      ]
     },
     "execution_count": 19,
     "metadata": {},
     "output_type": "execute_result"
    }
   ],
   "source": [
    "t1.add(t2)"
   ]
  },
  {
   "cell_type": "code",
   "execution_count": 20,
   "metadata": {},
   "outputs": [
    {
     "name": "stdout",
     "output_type": "stream",
     "text": [
      "tensor([[1., 1.],\n",
      "        [1., 1.]])\n"
     ]
    }
   ],
   "source": [
    "print(t1)"
   ]
  },
  {
   "cell_type": "code",
   "execution_count": 21,
   "metadata": {},
   "outputs": [
    {
     "data": {
      "text/plain": [
       "tensor([[2., 2.],\n",
       "        [2., 2.]])"
      ]
     },
     "execution_count": 21,
     "metadata": {},
     "output_type": "execute_result"
    }
   ],
   "source": [
    "t1.add_(t2)"
   ]
  },
  {
   "cell_type": "code",
   "execution_count": 22,
   "metadata": {},
   "outputs": [
    {
     "name": "stdout",
     "output_type": "stream",
     "text": [
      "tensor([[2., 2.],\n",
      "        [2., 2.]])\n"
     ]
    }
   ],
   "source": [
    "print(t1)"
   ]
  },
  {
   "cell_type": "markdown",
   "metadata": {},
   "source": [
    "Class methods and package functions"
   ]
  },
  {
   "cell_type": "code",
   "execution_count": 23,
   "metadata": {},
   "outputs": [
    {
     "data": {
      "text/plain": [
       "tensor([[-0.4161, -0.4161],\n",
       "        [-0.4161, -0.4161]])"
      ]
     },
     "execution_count": 23,
     "metadata": {},
     "output_type": "execute_result"
    }
   ],
   "source": [
    "t1.cos()"
   ]
  },
  {
   "cell_type": "code",
   "execution_count": 24,
   "metadata": {},
   "outputs": [
    {
     "data": {
      "text/plain": [
       "tensor([[-0.4161, -0.4161],\n",
       "        [-0.4161, -0.4161]])"
      ]
     },
     "execution_count": 24,
     "metadata": {},
     "output_type": "execute_result"
    }
   ],
   "source": [
    "torch.cos(t1)"
   ]
  },
  {
   "cell_type": "markdown",
   "metadata": {},
   "source": [
    "A few more operations"
   ]
  },
  {
   "cell_type": "code",
   "execution_count": 25,
   "metadata": {},
   "outputs": [
    {
     "data": {
      "text/plain": [
       "tensor([ 3.0000,  4.7500,  6.5000,  8.2500, 10.0000])"
      ]
     },
     "execution_count": 25,
     "metadata": {},
     "output_type": "execute_result"
    }
   ],
   "source": [
    "# Create a one-dimensional tensor of steps equally \n",
    "# spaced points between start and end\n",
    "\n",
    "torch.linspace(3, 10, steps=5)"
   ]
  },
  {
   "cell_type": "code",
   "execution_count": 26,
   "metadata": {},
   "outputs": [
    {
     "data": {
      "text/plain": [
       "tensor([0, 1, 2, 3, 4])"
      ]
     },
     "execution_count": 26,
     "metadata": {},
     "output_type": "execute_result"
    }
   ],
   "source": [
    "# Create a 1-D Tensor with values from [start, end)\n",
    "\n",
    "torch.arange(0, 5)"
   ]
  },
  {
   "cell_type": "code",
   "execution_count": 27,
   "metadata": {},
   "outputs": [
    {
     "data": {
      "text/plain": [
       "tensor([[0.4216, 0.2278, 0.0363],\n",
       "        [0.2026, 0.5708, 0.2590]])"
      ]
     },
     "execution_count": 27,
     "metadata": {},
     "output_type": "execute_result"
    }
   ],
   "source": [
    "# Create a (2x3) Tensor with random values sampled \n",
    "# from uniform distrubution on the interval [0,1)\n",
    "\n",
    "torch.rand((2,3))"
   ]
  },
  {
   "cell_type": "code",
   "execution_count": 28,
   "metadata": {},
   "outputs": [
    {
     "data": {
      "text/plain": [
       "tensor([[ 1.0809, -0.6672, -0.7988],\n",
       "        [ 0.2385,  0.8558, -0.3446]])"
      ]
     },
     "execution_count": 28,
     "metadata": {},
     "output_type": "execute_result"
    }
   ],
   "source": [
    "# Create a (2x3) Tensor with random values sampled \n",
    "# from normal distrubution with 0 mean and variance 1\n",
    "\n",
    "torch.randn((2,3))"
   ]
  },
  {
   "cell_type": "code",
   "execution_count": 29,
   "metadata": {},
   "outputs": [
    {
     "name": "stdout",
     "output_type": "stream",
     "text": [
      "tensor([[0.9785, 0.1834, 0.8414],\n",
      "        [0.7083, 0.8719, 0.2104]])\n",
      "tensor([[0.3924, 0.6879],\n",
      "        [0.4866, 0.6827],\n",
      "        [0.9842, 0.9610]])\n"
     ]
    },
    {
     "data": {
      "text/plain": [
       "tensor([[1.3013, 1.6069],\n",
       "        [0.9093, 1.2846]])"
      ]
     },
     "execution_count": 29,
     "metadata": {},
     "output_type": "execute_result"
    }
   ],
   "source": [
    "# Do a matrix multiply\n",
    "\n",
    "a = torch.rand((2, 3))\n",
    "b = torch.rand((3, 2))\n",
    "print(a)\n",
    "print(b)\n",
    "torch.mm(a, b)"
   ]
  },
  {
   "cell_type": "markdown",
   "metadata": {},
   "source": [
    "### Variables\n",
    "\n",
    "Next, let's understand variables in PyTorch and the operations we can perform on them."
   ]
  },
  {
   "cell_type": "code",
   "execution_count": 30,
   "metadata": {},
   "outputs": [],
   "source": [
    "import torch\n",
    "from torch.autograd import Variable"
   ]
  },
  {
   "cell_type": "markdown",
   "metadata": {},
   "source": [
    "Let's create a small computation graph"
   ]
  },
  {
   "cell_type": "code",
   "execution_count": 31,
   "metadata": {},
   "outputs": [],
   "source": [
    "x = Variable(torch.FloatTensor([11.2]), requires_grad=True)\n",
    "y = 2 * x"
   ]
  },
  {
   "cell_type": "code",
   "execution_count": 32,
   "metadata": {},
   "outputs": [
    {
     "name": "stdout",
     "output_type": "stream",
     "text": [
      "tensor([11.2000], requires_grad=True)\n",
      "tensor([22.4000], grad_fn=<MulBackward0>)\n"
     ]
    }
   ],
   "source": [
    "print(x)\n",
    "print(y)"
   ]
  },
  {
   "cell_type": "code",
   "execution_count": 33,
   "metadata": {},
   "outputs": [
    {
     "name": "stdout",
     "output_type": "stream",
     "text": [
      "tensor([11.2000])\n",
      "tensor([22.4000])\n"
     ]
    }
   ],
   "source": [
    "print(x.data)\n",
    "print(y.data)"
   ]
  },
  {
   "cell_type": "code",
   "execution_count": 34,
   "metadata": {},
   "outputs": [
    {
     "name": "stdout",
     "output_type": "stream",
     "text": [
      "None\n",
      "<MulBackward0 object at 0x7ffaa86da5b0>\n"
     ]
    }
   ],
   "source": [
    "print(x.grad_fn)\n",
    "print(y.grad_fn)"
   ]
  },
  {
   "cell_type": "code",
   "execution_count": 35,
   "metadata": {},
   "outputs": [],
   "source": [
    "y.backward() # Calculates the gradients"
   ]
  },
  {
   "cell_type": "code",
   "execution_count": 36,
   "metadata": {},
   "outputs": [
    {
     "name": "stdout",
     "output_type": "stream",
     "text": [
      "tensor([2.])\n",
      "None\n"
     ]
    }
   ],
   "source": [
    "print(x.grad)\n",
    "print(y.grad)"
   ]
  },
  {
   "cell_type": "markdown",
   "metadata": {},
   "source": [
    "### Working with PyTorch and NumPy"
   ]
  },
  {
   "cell_type": "code",
   "execution_count": 37,
   "metadata": {},
   "outputs": [],
   "source": [
    "import torch\n",
    "import numpy as np"
   ]
  },
  {
   "cell_type": "markdown",
   "metadata": {},
   "source": [
    "Convert a NumPy array to Tensor"
   ]
  },
  {
   "cell_type": "code",
   "execution_count": 38,
   "metadata": {},
   "outputs": [
    {
     "name": "stdout",
     "output_type": "stream",
     "text": [
      "[2 3]\n",
      "tensor([2, 3])\n"
     ]
    }
   ],
   "source": [
    "n = np.array([2, 3])\n",
    "t = torch.from_numpy(n)\n",
    "print(n)\n",
    "print(t)"
   ]
  },
  {
   "cell_type": "markdown",
   "metadata": {},
   "source": [
    "Change a Tensor value, and see the change in \n",
    "corresponding NumPy array"
   ]
  },
  {
   "cell_type": "code",
   "execution_count": 39,
   "metadata": {},
   "outputs": [
    {
     "name": "stdout",
     "output_type": "stream",
     "text": [
      "tensor([100,   3])\n"
     ]
    }
   ],
   "source": [
    "n[0] = 100\n",
    "print(t)"
   ]
  },
  {
   "cell_type": "markdown",
   "metadata": {},
   "source": [
    "Convert a Tensor to NumPy array"
   ]
  },
  {
   "cell_type": "code",
   "execution_count": 40,
   "metadata": {},
   "outputs": [
    {
     "name": "stdout",
     "output_type": "stream",
     "text": [
      "tensor([5., 6.])\n",
      "[5. 6.]\n"
     ]
    }
   ],
   "source": [
    "t = torch.FloatTensor([5, 6])\n",
    "n = t.numpy()\n",
    "print(t)\n",
    "print(n)"
   ]
  },
  {
   "cell_type": "markdown",
   "metadata": {},
   "source": [
    "Change a Tensor value, and see the change in corresponding NumPy array"
   ]
  },
  {
   "cell_type": "code",
   "execution_count": 41,
   "metadata": {},
   "outputs": [
    {
     "name": "stdout",
     "output_type": "stream",
     "text": [
      "[100.   6.]\n"
     ]
    }
   ],
   "source": [
    "t[0] = 100\n",
    "print(n)"
   ]
  },
  {
   "cell_type": "markdown",
   "metadata": {},
   "source": [
    "### Tensors on GPU"
   ]
  },
  {
   "cell_type": "markdown",
   "metadata": {},
   "source": [
    "Check if your machine has GPU support"
   ]
  },
  {
   "cell_type": "code",
   "execution_count": 42,
   "metadata": {},
   "outputs": [
    {
     "name": "stdout",
     "output_type": "stream",
     "text": [
      "GPU Supported\n"
     ]
    }
   ],
   "source": [
    "if torch.cuda.is_available():\n",
    "    print(\"GPU Supported\")\n",
    "else:\n",
    "    print(\"GPU Not Supported\")"
   ]
  },
  {
   "cell_type": "markdown",
   "metadata": {},
   "source": [
    "Check the number of GPUs attached to this machine"
   ]
  },
  {
   "cell_type": "code",
   "execution_count": 43,
   "metadata": {},
   "outputs": [
    {
     "data": {
      "text/plain": [
       "4"
      ]
     },
     "execution_count": 43,
     "metadata": {},
     "output_type": "execute_result"
    }
   ],
   "source": [
    "torch.cuda.device_count()"
   ]
  },
  {
   "cell_type": "markdown",
   "metadata": {},
   "source": [
    "Get device name"
   ]
  },
  {
   "cell_type": "code",
   "execution_count": 44,
   "metadata": {},
   "outputs": [
    {
     "data": {
      "text/plain": [
       "'GeForce RTX 2080 Ti'"
      ]
     },
     "execution_count": 44,
     "metadata": {},
     "output_type": "execute_result"
    }
   ],
   "source": [
    "torch.cuda.get_device_name(0)"
   ]
  },
  {
   "cell_type": "markdown",
   "metadata": {},
   "source": [
    "Moving a Tensor to GPU"
   ]
  },
  {
   "cell_type": "code",
   "execution_count": 45,
   "metadata": {},
   "outputs": [],
   "source": [
    "t = torch.FloatTensor([2, 3])"
   ]
  },
  {
   "cell_type": "code",
   "execution_count": 46,
   "metadata": {},
   "outputs": [
    {
     "name": "stdout",
     "output_type": "stream",
     "text": [
      "tensor([2., 3.])\n"
     ]
    }
   ],
   "source": [
    "print(t)"
   ]
  },
  {
   "cell_type": "code",
   "execution_count": 47,
   "metadata": {},
   "outputs": [],
   "source": [
    "t = t.cuda(0)"
   ]
  },
  {
   "cell_type": "markdown",
   "metadata": {},
   "source": [
    "Creating a Tensor on GPU, directly"
   ]
  },
  {
   "cell_type": "code",
   "execution_count": 48,
   "metadata": {},
   "outputs": [
    {
     "name": "stdout",
     "output_type": "stream",
     "text": [
      "tensor([2., 3.], device='cuda:0')\n"
     ]
    }
   ],
   "source": [
    "t = torch.cuda.FloatTensor([2, 3])\n",
    "print(t)"
   ]
  },
  {
   "cell_type": "markdown",
   "metadata": {},
   "source": [
    "Bring it back to CPU"
   ]
  },
  {
   "cell_type": "code",
   "execution_count": 49,
   "metadata": {},
   "outputs": [
    {
     "name": "stdout",
     "output_type": "stream",
     "text": [
      "tensor([2., 3.])\n"
     ]
    }
   ],
   "source": [
    "t = t.cpu()\n",
    "print(t)"
   ]
  },
  {
   "cell_type": "markdown",
   "metadata": {},
   "source": [
    "Use device context"
   ]
  },
  {
   "cell_type": "code",
   "execution_count": 50,
   "metadata": {},
   "outputs": [
    {
     "name": "stdout",
     "output_type": "stream",
     "text": [
      "tensor([2., 3.], device='cuda:0')\n"
     ]
    }
   ],
   "source": [
    "with torch.cuda.device(0):\n",
    "    t = torch.cuda.FloatTensor([2, 3])\n",
    "    print(t)"
   ]
  },
  {
   "cell_type": "code",
   "execution_count": null,
   "metadata": {},
   "outputs": [],
   "source": []
  },
  {
   "cell_type": "markdown",
   "metadata": {
    "_cell_guid": "ff5c0b1b-7df0-49e9-ac50-ffcb7c7ce68b",
    "_uuid": "d32496f0fda13237f626529660ef77ca6812abfe"
   },
   "source": [
    "\n",
    "## MNIST digit recognition using PyTorch\n",
    "\n",
    "This part of the lab was\n",
    "taken from the [Kaggle tutorial on MNIST with PyTorch]('https://www.kaggle.com/justuser/mnist-with-pytorch-fully-connected-network).\n",
    "\n",
    "We will use a fully connected neural network and a batch learning algorithm and explain each\n",
    "step along the way.\n",
    "\n",
    "So, with that being said, let's start with imports that we will need.\n",
    "First of all, we need to import PyTorch. There are some common names for torch modules (like numpy is always named np):  torch.nn.functional is imported as F,  torch.nn is the core module, and is simply imported as nn.\n",
    "Also, we need numpy. We also use pyplot and seaborn for visualization, but they are not required for the network itself. \n",
    "And finally, we use pandas for importing and transforming data.\n"
   ]
  },
  {
   "cell_type": "code",
   "execution_count": 51,
   "metadata": {
    "_cell_guid": "9c846800-05b5-40e4-9899-e3c5e6a149ba",
    "_uuid": "2945bec027bb7b48141bc406ccb6ecb19d240aaf"
   },
   "outputs": [],
   "source": [
    "import numpy as np\n",
    "import torch\n",
    "import torch.nn as nn\n",
    "import torch.nn.functional as F\n",
    "import torch.optim as optim\n",
    "from torch.autograd import Variable\n",
    "import pandas as pd\n",
    "import matplotlib.pyplot as plt\n",
    "import seaborn as sns\n",
    "%matplotlib inline\n",
    "import warnings\n",
    "warnings.filterwarnings(\"ignore\")"
   ]
  },
  {
   "cell_type": "markdown",
   "metadata": {
    "_cell_guid": "7ef86f98-c394-4595-8675-e2539ea2332d",
    "_uuid": "dc797b7df7d886a974e0fd36a7e30da01159875b"
   },
   "source": [
    "Now we can import and transform the data. I decided to split it into input and labels right away at this step:"
   ]
  },
  {
   "cell_type": "code",
   "execution_count": 71,
   "metadata": {
    "_cell_guid": "6d14bbd6-47d0-4b67-b3d4-d2cf21d46aab",
    "_uuid": "1bf6c2fde0bb1799d2c551cdeda74bb2a5e02bca"
   },
   "outputs": [
    {
     "name": "stdout",
     "output_type": "stream",
     "text": [
      "Reading the data...\n",
      "   label  pixel0  pixel1  pixel2  pixel3  pixel4  pixel5  pixel6  pixel7  \\\n",
      "0      1       0       0       0       0       0       0       0       0   \n",
      "1      0       0       0       0       0       0       0       0       0   \n",
      "2      1       0       0       0       0       0       0       0       0   \n",
      "3      4       0       0       0       0       0       0       0       0   \n",
      "4      0       0       0       0       0       0       0       0       0   \n",
      "\n",
      "   pixel8  ...  pixel774  pixel775  pixel776  pixel777  pixel778  pixel779  \\\n",
      "0       0  ...         0         0         0         0         0         0   \n",
      "1       0  ...         0         0         0         0         0         0   \n",
      "2       0  ...         0         0         0         0         0         0   \n",
      "3       0  ...         0         0         0         0         0         0   \n",
      "4       0  ...         0         0         0         0         0         0   \n",
      "\n",
      "   pixel780  pixel781  pixel782  pixel783  \n",
      "0         0         0         0         0  \n",
      "1         0         0         0         0  \n",
      "2         0         0         0         0  \n",
      "3         0         0         0         0  \n",
      "4         0         0         0         0  \n",
      "\n",
      "[5 rows x 785 columns]\n",
      "Reshaping the data...\n",
      "   pixel0  pixel1  pixel2  pixel3  pixel4  pixel5  pixel6  pixel7  pixel8  \\\n",
      "0       0       0       0       0       0       0       0       0       0   \n",
      "1       0       0       0       0       0       0       0       0       0   \n",
      "2       0       0       0       0       0       0       0       0       0   \n",
      "3       0       0       0       0       0       0       0       0       0   \n",
      "4       0       0       0       0       0       0       0       0       0   \n",
      "\n",
      "   pixel9  ...  pixel774  pixel775  pixel776  pixel777  pixel778  pixel779  \\\n",
      "0       0  ...         0         0         0         0         0         0   \n",
      "1       0  ...         0         0         0         0         0         0   \n",
      "2       0  ...         0         0         0         0         0         0   \n",
      "3       0  ...         0         0         0         0         0         0   \n",
      "4       0  ...         0         0         0         0         0         0   \n",
      "\n",
      "   pixel780  pixel781  pixel782  pixel783  \n",
      "0         0         0         0         0  \n",
      "1         0         0         0         0  \n",
      "2         0         0         0         0  \n",
      "3         0         0         0         0  \n",
      "4         0         0         0         0  \n",
      "\n",
      "[5 rows x 784 columns]\n",
      "(42000, 784)\n",
      "Data is ready\n"
     ]
    }
   ],
   "source": [
    "print(\"Reading the data...\")\n",
    "data = pd.read_csv('train_mnist.csv', sep=\",\")\n",
    "test_data = pd.read_csv('test_mnist.csv', sep=\",\")\n",
    "print(data.head())\n",
    "print(\"Reshaping the data...\")\n",
    "dataFinal = data.drop('label', axis=1)\n",
    "print(dataFinal.head())\n",
    "labels = data['label']\n",
    "\n",
    "dataNp = dataFinal.to_numpy()\n",
    "print(dataNp.shape)\n",
    "labelsNp = labels.to_numpy()\n",
    "test_dataNp = test_data.to_numpy()\n",
    "print(\"Data is ready\")\n"
   ]
  },
  {
   "cell_type": "code",
   "execution_count": 53,
   "metadata": {},
   "outputs": [
    {
     "name": "stdout",
     "output_type": "stream",
     "text": [
      "dataNp [[0 0 0 ... 0 0 0]\n",
      " [0 0 0 ... 0 0 0]\n",
      " [0 0 0 ... 0 0 0]\n",
      " ...\n",
      " [0 0 0 ... 0 0 0]\n",
      " [0 0 0 ... 0 0 0]\n",
      " [0 0 0 ... 0 0 0]]\n",
      "(42000, 784)\n",
      "(784,)\n",
      "(784,)\n",
      "[  0   0   0   0   0   0   0   0   0   0   0   0   0   0   0   0   0   0\n",
      "   0   0   0   0   0   0   0   0   0   0   0   0   0   0   0   0   0   0\n",
      "   0   0   0   0   0   0   0   0   0   0   0   0   0   0   0   0   0   0\n",
      "   0   0   0   0   0   0   0   0   0   0   0   0   0   0   0   0   0   0\n",
      "   0   0   0   0   0   0   0   0   0   0   0   0   0   0   0   0   0   0\n",
      "   0   0   0   0   0   0   0   0   0   0   0   0   0   0   0   0   0   0\n",
      "   0   0   0   0   0   0   0   0   0   0   0   0   0   0   0   0   0   0\n",
      "   0   0   0   0   0   0   0   0   0   0   0   0   0   0   0   0   0   0\n",
      "   0   0 220 179   6   0   0   0   0   0   0   0   0   9  77   0   0   0\n",
      "   0   0   0   0   0   0   0   0   0   0   0   0  28 247  17   0   0   0\n",
      "   0   0   0   0   0  27 202   0   0   0   0   0   0   0   0   0   0   0\n",
      "   0   0   0   0   0 242 155   0   0   0   0   0   0   0   0  27 254  63\n",
      "   0   0   0   0   0   0   0   0   0   0   0   0   0   0   0 160 207   6\n",
      "   0   0   0   0   0   0   0  27 254  65   0   0   0   0   0   0   0   0\n",
      "   0   0   0   0   0   0   0 127 254  21   0   0   0   0   0   0   0  20\n",
      " 239  65   0   0   0   0   0   0   0   0   0   0   0   0   0   0   0  77\n",
      " 254  21   0   0   0   0   0   0   0   0 195  65   0   0   0   0   0   0\n",
      "   0   0   0   0   0   0   0   0   0  70 254  21   0   0   0   0   0   0\n",
      "   0   0 195 142   0   0   0   0   0   0   0   0   0   0   0   0   0   0\n",
      "   0  56 251  21   0   0   0   0   0   0   0   0 195 227   0   0   0   0\n",
      "   0   0   0   0   0   0   0   0   0   0   0   0 222 153   5   0   0   0\n",
      "   0   0   0   0 120 240  13   0   0   0   0   0   0   0   0   0   0   0\n",
      "   0   0   0   0  67 251  40   0   0   0   0   0   0   0  94 255  69   0\n",
      "   0   0   0   0   0   0   0   0   0   0   0   0   0   0   0 234 184   0\n",
      "   0   0   0   0   0   0  19 245  69   0   0   0   0   0   0   0   0   0\n",
      "   0   0   0   0   0   0   0 234 169   0   0   0   0   0   0   0   3 199\n",
      " 182  10   0   0   0   0   0   0   0   0   0   0   0   0   0   0   0 154\n",
      " 205   4   0   0  26  72 128 203 208 254 254 131   0   0   0   0   0   0\n",
      "   0   0   0   0   0   0   0   0   0  61 254 129 113 186 245 251 189  75\n",
      "  56 136 254  73   0   0   0   0   0   0   0   0   0   0   0   0   0   0\n",
      "   0  15 216 233 233 159 104  52   0   0   0  38 254  73   0   0   0   0\n",
      "   0   0   0   0   0   0   0   0   0   0   0   0   0   0   0   0   0   0\n",
      "   0   0   0  18 254  73   0   0   0   0   0   0   0   0   0   0   0   0\n",
      "   0   0   0   0   0   0   0   0   0   0   0   0   0  18 254  73   0   0\n",
      "   0   0   0   0   0   0   0   0   0   0   0   0   0   0   0   0   0   0\n",
      "   0   0   0   0   0   5 206 106   0   0   0   0   0   0   0   0   0   0\n",
      "   0   0   0   0   0   0   0   0   0   0   0   0   0   0   0   0 186 159\n",
      "   0   0   0   0   0   0   0   0   0   0   0   0   0   0   0   0   0   0\n",
      "   0   0   0   0   0   0   0   6 209 101   0   0   0   0   0   0   0   0\n",
      "   0   0   0   0   0   0   0   0   0   0   0   0   0   0   0   0   0   0\n",
      "   0   0   0   0   0   0   0   0   0   0   0   0   0   0   0   0   0   0\n",
      "   0   0   0   0   0   0   0   0   0   0   0   0   0   0   0   0   0   0\n",
      "   0   0   0   0   0   0   0   0   0   0   0   0   0   0   0   0   0   0\n",
      "   0   0   0   0   0   0   0   0   0   0]\n"
     ]
    }
   ],
   "source": [
    "print('dataNp',dataNp)\n",
    "print(dataNp.shape)\n",
    "print(dataNp[1].shape)\n",
    "print(dataNp[2].shape)\n",
    "print(dataNp[3])"
   ]
  },
  {
   "cell_type": "markdown",
   "metadata": {
    "_cell_guid": "728ef5da-7b0f-4a32-9a0e-10d75e10173e",
    "_uuid": "d8441dfce526382bc0c9a0658add9df793f06ed1"
   },
   "source": [
    "Now that data is ready, we can take a look at what we're dealing with. I will be using heatmaps from seaborn, which is an excellent tool for matrix visualization. But first, since the images in the MNIST dataset are represented as a long 1d arrays of pixels, we will need to reshape it into 2d array. That's where .reshape() from numpy comes in handy. The pictures are 28 x 28 pixels, so these will be the parameters.\n",
    "\n",
    "Let's select a couple random samples and visualize them. I will also print their labels, so we can compare images with their actual value:"
   ]
  },
  {
   "cell_type": "code",
   "execution_count": 74,
   "metadata": {
    "_cell_guid": "54405d05-313e-48b9-8984-14337df18c7d",
    "_uuid": "7c796bf8cece8a8fef7ab459c0e7624159f2f1e2"
   },
   "outputs": [
    {
     "name": "stdout",
     "output_type": "stream",
     "text": [
      "=============================\n"
     ]
    },
    {
     "ename": "ValueError",
     "evalue": "num must be 1 <= num <= 6, not 7",
     "output_type": "error",
     "traceback": [
      "\u001b[0;31m---------------------------------------------------------------------------\u001b[0m",
      "\u001b[0;31mValueError\u001b[0m                                Traceback (most recent call last)",
      "\u001b[0;32m<ipython-input-74-b6ff85e8bdf3>\u001b[0m in \u001b[0;36m<module>\u001b[0;34m\u001b[0m\n\u001b[1;32m     27\u001b[0m \u001b[0mprint\u001b[0m\u001b[0;34m(\u001b[0m\u001b[0;34m'============================='\u001b[0m\u001b[0;34m)\u001b[0m\u001b[0;34m\u001b[0m\u001b[0;34m\u001b[0m\u001b[0m\n\u001b[1;32m     28\u001b[0m \u001b[0mpixels\u001b[0m \u001b[0;34m=\u001b[0m \u001b[0mdataNp\u001b[0m\u001b[0;34m[\u001b[0m\u001b[0;36m41999\u001b[0m\u001b[0;34m]\u001b[0m\u001b[0;34m.\u001b[0m\u001b[0mreshape\u001b[0m\u001b[0;34m(\u001b[0m\u001b[0;36m28\u001b[0m\u001b[0;34m,\u001b[0m \u001b[0;36m28\u001b[0m\u001b[0;34m)\u001b[0m\u001b[0;34m\u001b[0m\u001b[0;34m\u001b[0m\u001b[0m\n\u001b[0;32m---> 29\u001b[0;31m \u001b[0mplt\u001b[0m\u001b[0;34m.\u001b[0m\u001b[0msubplot\u001b[0m\u001b[0;34m(\u001b[0m\u001b[0;36m327\u001b[0m\u001b[0;34m)\u001b[0m\u001b[0;34m\u001b[0m\u001b[0;34m\u001b[0m\u001b[0m\n\u001b[0m\u001b[1;32m     30\u001b[0m \u001b[0msns\u001b[0m\u001b[0;34m.\u001b[0m\u001b[0mheatmap\u001b[0m\u001b[0;34m(\u001b[0m\u001b[0mdata\u001b[0m\u001b[0;34m=\u001b[0m\u001b[0mpixels\u001b[0m\u001b[0;34m)\u001b[0m\u001b[0;34m\u001b[0m\u001b[0;34m\u001b[0m\u001b[0m\n\u001b[1;32m     31\u001b[0m \u001b[0;34m\u001b[0m\u001b[0m\n",
      "\u001b[0;32m/opt/conda/lib/python3.8/site-packages/matplotlib/pyplot.py\u001b[0m in \u001b[0;36msubplot\u001b[0;34m(*args, **kwargs)\u001b[0m\n\u001b[1;32m   1028\u001b[0m \u001b[0;34m\u001b[0m\u001b[0m\n\u001b[1;32m   1029\u001b[0m     \u001b[0mfig\u001b[0m \u001b[0;34m=\u001b[0m \u001b[0mgcf\u001b[0m\u001b[0;34m(\u001b[0m\u001b[0;34m)\u001b[0m\u001b[0;34m\u001b[0m\u001b[0;34m\u001b[0m\u001b[0m\n\u001b[0;32m-> 1030\u001b[0;31m     \u001b[0ma\u001b[0m \u001b[0;34m=\u001b[0m \u001b[0mfig\u001b[0m\u001b[0;34m.\u001b[0m\u001b[0madd_subplot\u001b[0m\u001b[0;34m(\u001b[0m\u001b[0;34m*\u001b[0m\u001b[0margs\u001b[0m\u001b[0;34m,\u001b[0m \u001b[0;34m**\u001b[0m\u001b[0mkwargs\u001b[0m\u001b[0;34m)\u001b[0m\u001b[0;34m\u001b[0m\u001b[0;34m\u001b[0m\u001b[0m\n\u001b[0m\u001b[1;32m   1031\u001b[0m     \u001b[0mbbox\u001b[0m \u001b[0;34m=\u001b[0m \u001b[0ma\u001b[0m\u001b[0;34m.\u001b[0m\u001b[0mbbox\u001b[0m\u001b[0;34m\u001b[0m\u001b[0;34m\u001b[0m\u001b[0m\n\u001b[1;32m   1032\u001b[0m     \u001b[0mbyebye\u001b[0m \u001b[0;34m=\u001b[0m \u001b[0;34m[\u001b[0m\u001b[0;34m]\u001b[0m\u001b[0;34m\u001b[0m\u001b[0;34m\u001b[0m\u001b[0m\n",
      "\u001b[0;32m/opt/conda/lib/python3.8/site-packages/matplotlib/figure.py\u001b[0m in \u001b[0;36madd_subplot\u001b[0;34m(self, *args, **kwargs)\u001b[0m\n\u001b[1;32m   1417\u001b[0m                     \u001b[0mself\u001b[0m\u001b[0;34m.\u001b[0m\u001b[0m_axstack\u001b[0m\u001b[0;34m.\u001b[0m\u001b[0mremove\u001b[0m\u001b[0;34m(\u001b[0m\u001b[0max\u001b[0m\u001b[0;34m)\u001b[0m\u001b[0;34m\u001b[0m\u001b[0;34m\u001b[0m\u001b[0m\n\u001b[1;32m   1418\u001b[0m \u001b[0;34m\u001b[0m\u001b[0m\n\u001b[0;32m-> 1419\u001b[0;31m             \u001b[0ma\u001b[0m \u001b[0;34m=\u001b[0m \u001b[0msubplot_class_factory\u001b[0m\u001b[0;34m(\u001b[0m\u001b[0mprojection_class\u001b[0m\u001b[0;34m)\u001b[0m\u001b[0;34m(\u001b[0m\u001b[0mself\u001b[0m\u001b[0;34m,\u001b[0m \u001b[0;34m*\u001b[0m\u001b[0margs\u001b[0m\u001b[0;34m,\u001b[0m \u001b[0;34m**\u001b[0m\u001b[0mkwargs\u001b[0m\u001b[0;34m)\u001b[0m\u001b[0;34m\u001b[0m\u001b[0;34m\u001b[0m\u001b[0m\n\u001b[0m\u001b[1;32m   1420\u001b[0m \u001b[0;34m\u001b[0m\u001b[0m\n\u001b[1;32m   1421\u001b[0m         \u001b[0;32mreturn\u001b[0m \u001b[0mself\u001b[0m\u001b[0;34m.\u001b[0m\u001b[0m_add_axes_internal\u001b[0m\u001b[0;34m(\u001b[0m\u001b[0mkey\u001b[0m\u001b[0;34m,\u001b[0m \u001b[0ma\u001b[0m\u001b[0;34m)\u001b[0m\u001b[0;34m\u001b[0m\u001b[0;34m\u001b[0m\u001b[0m\n",
      "\u001b[0;32m/opt/conda/lib/python3.8/site-packages/matplotlib/axes/_subplots.py\u001b[0m in \u001b[0;36m__init__\u001b[0;34m(self, fig, *args, **kwargs)\u001b[0m\n\u001b[1;32m     63\u001b[0m             \u001b[0;32melse\u001b[0m\u001b[0;34m:\u001b[0m\u001b[0;34m\u001b[0m\u001b[0;34m\u001b[0m\u001b[0m\n\u001b[1;32m     64\u001b[0m                 \u001b[0;32mif\u001b[0m \u001b[0mnum\u001b[0m \u001b[0;34m<\u001b[0m \u001b[0;36m1\u001b[0m \u001b[0;32mor\u001b[0m \u001b[0mnum\u001b[0m \u001b[0;34m>\u001b[0m \u001b[0mrows\u001b[0m\u001b[0;34m*\u001b[0m\u001b[0mcols\u001b[0m\u001b[0;34m:\u001b[0m\u001b[0;34m\u001b[0m\u001b[0;34m\u001b[0m\u001b[0m\n\u001b[0;32m---> 65\u001b[0;31m                     raise ValueError(\n\u001b[0m\u001b[1;32m     66\u001b[0m                         f\"num must be 1 <= num <= {rows*cols}, not {num}\")\n\u001b[1;32m     67\u001b[0m                 self._subplotspec = GridSpec(\n",
      "\u001b[0;31mValueError\u001b[0m: num must be 1 <= num <= 6, not 7"
     ]
    },
    {
     "data": {
      "image/png": "[encoded data removed]",
      "text/plain": [
       "<Figure size 1008x864 with 12 Axes>"
      ]
     },
     "metadata": {
      "needs_background": "light"
     },
     "output_type": "display_data"
    }
   ],
   "source": [
    "plt.figure(figsize=(14, 12))\n",
    "\n",
    "pixels = dataNp[10].reshape(28, 28)\n",
    "plt.subplot(321)\n",
    "sns.heatmap(data=pixels)\n",
    "\n",
    "pixels = dataNp[11].reshape(28, 28)\n",
    "plt.subplot(322)\n",
    "sns.heatmap(data=pixels)\n",
    "\n",
    "pixels = dataNp[20].reshape(28, 28)\n",
    "plt.subplot(323)\n",
    "sns.heatmap(data=pixels)\n",
    "\n",
    "pixels = dataNp[32].reshape(28, 28)\n",
    "plt.subplot(324)\n",
    "sns.heatmap(data=pixels)\n",
    "\n",
    "pixels = dataNp[40].reshape(28, 28)\n",
    "plt.subplot(325)\n",
    "sns.heatmap(data=pixels)\n",
    "\n",
    "pixels = dataNp[52].reshape(28, 28)\n",
    "plt.subplot(326)\n",
    "sns.heatmap(data=pixels)\n",
    "\n",
    "print('=============================')\n",
    "pixels = dataNp[41999].reshape(28, 28)\n",
    "plt.subplot(327)\n",
    "sns.heatmap(data=pixels)\n",
    "\n",
    "print(labels[10], \" / \", labels[11])\n",
    "print(labels[20], \" / \", labels[32])\n",
    "print(labels[40], \" / \", labels[52])"
   ]
  },
  {
   "cell_type": "code",
   "execution_count": 142,
   "metadata": {},
   "outputs": [],
   "source": [
    "# z = torch.ShortTensor(labelsNp.tolist())\n",
    "# print(z)"
   ]
  },
  {
   "cell_type": "markdown",
   "metadata": {
    "_cell_guid": "b7a5f805-f8dd-4288-b44d-8984f479ae7f",
    "_uuid": "147ebd083edc2cf96c8e0aefb3893dc971fc5f0b"
   },
   "source": [
    "PyTorch has it's own way to store data - those are called tensors, and they are just like numpy arrays, but are suited for PyTorch needs. If we want to feed the data to the network, we need to transform the dataset into those tensors. The good news is that PyTorch can easily do that by transforming numpy arrays or regular lists into tensors."
   ]
  },
  {
   "cell_type": "code",
   "execution_count": 55,
   "metadata": {
    "_cell_guid": "410167b2-846d-4363-831b-84349053ecfd",
    "_uuid": "af8849f388dd69082bdcf52ea48547eb0ea1a483"
   },
   "outputs": [
    {
     "name": "stdout",
     "output_type": "stream",
     "text": [
      "tensor([1, 0, 1,  ..., 7, 6, 9])\n"
     ]
    }
   ],
   "source": [
    "x = torch.FloatTensor(dataNp.tolist())\n",
    "y = torch.LongTensor(labelsNp.tolist())\n",
    "print(y)"
   ]
  },
  {
   "cell_type": "markdown",
   "metadata": {
    "_cell_guid": "4131196e-07e4-49a5-8380-f0fcfccba081",
    "_uuid": "fcd60bddacdb2146d7d3fa272eb3dc766d8314fe"
   },
   "source": [
    "Before we start writing the actual network, we need to determine what will be the hyperparameters. Those will not be adjusted during training, so we need to be careful how we set them up. \n",
    "\n",
    "Here's what we will specify:\n",
    "* **input_size** - size of the input layer, it is always fixed (784 pixels)\n",
    "* **output_size** - size of the output layer, also fixed size (10 for every possible digit)\n",
    "* **hidden_size** - size of the hidden layer, this parameter determines structure of the network. 200 worked for me, but it is worth to play with this parameter to see what works for you\n",
    "* **epochs** - how many times will the network go through the entire dataset during training. \n",
    "* **learning_rate** - determines how fast will the network learn. You should be very careful about this parameter, because if it is too high, the network won't learn at all, if it is too low, the net will learn too long. I's always about balance. Usualy 10^-3 - 10^-5 works just fine.\n",
    "* **batch_size** - size of mini batches during training"
   ]
  },
  {
   "cell_type": "code",
   "execution_count": 56,
   "metadata": {
    "_cell_guid": "80dd6a9a-c28f-4a16-b8fe-6c2c4986422c",
    "_uuid": "fdc55b6ed97d0d641046f977cb7a578ad80fbc57"
   },
   "outputs": [],
   "source": [
    "# hyperparameters\n",
    "input_size = 784\n",
    "output_size = 10\n",
    "hidden_size = 200 \n",
    "\n",
    "epochs = 20\n",
    "batch_size = 50\n",
    "learning_rate = 0.00005"
   ]
  },
  {
   "cell_type": "markdown",
   "metadata": {
    "_cell_guid": "4d2b9f6c-8fb0-4468-b7ce-88cb3d28fcef",
    "_uuid": "507d4fb6939a3a9093ff3eabf1dd841ba5880b97"
   },
   "source": [
    "Now we can finally write the actual network. To make it all work, the Network class needs to inherit the *nn.Module*, which gives it the basic functionality required, and allows PyTorch to work with it as expected. \n",
    "\n",
    "When writing a PyTorch neural network, some things must always be there:\n",
    "* \\__init\\__(self) - initializes the net and creates an instance of that *nn.Module*. Here we define the structure of the network.\n",
    "* forward(self, x) - defines forward propagation and how the data flow through the network. Of course, it is based on the structure that is defined in the previous function.\n",
    "\n",
    "In the initialization, first of all, we need to initialize super (or base) module that the net inherits. After that first line, is the definition of structure. You can experiment with (put more layers or change hidden layer size, etc.), but this structure worked for me just fine.\n",
    "\n",
    "In forward propagation we simply reassign the value of x as it flows through the layers and return the [softmax](https://en.wikipedia.org/wiki/Softmax_function) at the end."
   ]
  },
  {
   "cell_type": "code",
   "execution_count": 57,
   "metadata": {
    "_cell_guid": "f238d14f-05bb-4a49-b031-5eaa47bddc64",
    "_uuid": "dc77322a324a27ef7a7f30b0432bfd0d3da3e567"
   },
   "outputs": [],
   "source": [
    "class Network(nn.Module):\n",
    "    \n",
    "    def __init__(self):\n",
    "        super(Network, self).__init__()\n",
    "        self.l1 = nn.Linear(input_size, hidden_size)\n",
    "        self.relu = nn.ReLU()\n",
    "        self.l3 = nn.Linear(hidden_size, output_size)\n",
    "        \n",
    "    def forward(self, x):\n",
    "        x = self.l1(x)\n",
    "        x = self.relu(x)\n",
    "        x = self.l3(x)\n",
    "        return F.log_softmax(x)"
   ]
  },
  {
   "cell_type": "markdown",
   "metadata": {
    "_cell_guid": "02a3fe74-b0d4-4d78-bcee-4fffc6acca89",
    "_uuid": "e4dbac71f5f491cf8e79b127cbe18a4e90c65d71"
   },
   "source": [
    "After we've defined the network, we can initialize it. \n",
    "Also, if we \"print\" the instance of the net, we can see the structure of it in a neat format:"
   ]
  },
  {
   "cell_type": "code",
   "execution_count": 58,
   "metadata": {
    "_cell_guid": "2376a5b3-3f93-46ac-8e19-e22cf3fb3f01",
    "_uuid": "b70b7208f45abe5b9324735a515c6259cc4fb3e3"
   },
   "outputs": [
    {
     "name": "stdout",
     "output_type": "stream",
     "text": [
      "Network(\n",
      "  (l1): Linear(in_features=784, out_features=200, bias=True)\n",
      "  (relu): ReLU()\n",
      "  (l3): Linear(in_features=200, out_features=10, bias=True)\n",
      ")\n"
     ]
    }
   ],
   "source": [
    "net = Network()\n",
    "print(net)"
   ]
  },
  {
   "cell_type": "markdown",
   "metadata": {
    "_cell_guid": "75eaeb97-f840-4862-8819-109b023660a7",
    "_uuid": "4cb26c4f84a53abdd5f4c3f7fc0a625ef7d805c4"
   },
   "source": [
    "Now it's time to set up the [optimizer](http://pytorch.org/docs/master/optim.html) and a loss function. \n",
    "\n",
    "*There are quite a lot of things happening behind these two lines of code, so if you don't know what is going on here, don't worry too much for now, it will get clearer eventualy.* \n",
    "\n",
    "Optimizer is what  updates the parameters of the network. I will be using Stochastic Gradient Descent with momentum. Also, the optimizer takes the network parameters as an argument, but it's not a big deal since we can get those with .parameters() function.\n",
    "\n",
    "I decided to use [Cross Entropy Loss](https://en.wikipedia.org/wiki/Cross_entropy) for this problem, but again, there are many options and you are free to choose whatever suits you best."
   ]
  },
  {
   "cell_type": "code",
   "execution_count": 60,
   "metadata": {
    "_cell_guid": "f9fe7b0f-7fec-49f3-8cd2-a6fedd4c8048",
    "_uuid": "d4fd65ae06c5003428ab90b1557142f015152b7c"
   },
   "outputs": [],
   "source": [
    "optimizer = optim.SGD(net.parameters(), lr=learning_rate, momentum=0.9)\n",
    "loss_func = nn.CrossEntropyLoss()"
   ]
  },
  {
   "cell_type": "code",
   "execution_count": 70,
   "metadata": {},
   "outputs": [
    {
     "name": "stdout",
     "output_type": "stream",
     "text": [
      "torch.Size([42000, 784])\n",
      "torch.Size([784])\n",
      "42000\n"
     ]
    }
   ],
   "source": [
    "print(x.shape)\n",
    "print(x[1].shape)\n",
    "print(x.shape[0])"
   ]
  },
  {
   "cell_type": "markdown",
   "metadata": {
    "_cell_guid": "465d2e54-0a22-446d-9f87-d687f48140f3",
    "_uuid": "9684f943703fb995be47a7d92d1d281acc3dae32"
   },
   "source": [
    "Now that everything is ready, our network can start learning. I will separate data into minibatches and feed it to the network. It has many advantages over single batch learning, but that is a different story. \n",
    "\n",
    "Also, I will use loss_log list to keep track of the loss function during the training process. "
   ]
  },
  {
   "cell_type": "code",
   "execution_count": 111,
   "metadata": {
    "_cell_guid": "3b646efc-4cae-4f94-9350-e059e4c89446",
    "_uuid": "c1247ff34caf53e9894a1c2ea5c435c0e446d048"
   },
   "outputs": [
    {
     "name": "stdout",
     "output_type": "stream",
     "text": [
      "Epoch: 0 - Loss: 0.075623\n",
      "Epoch: 1 - Loss: 0.014961\n",
      "Epoch: 2 - Loss: 0.012895\n",
      "Epoch: 3 - Loss: 0.011234\n",
      "Epoch: 4 - Loss: 0.010256\n",
      "Epoch: 5 - Loss: 0.007745\n",
      "Epoch: 6 - Loss: 0.006390\n",
      "Epoch: 7 - Loss: 0.005631\n",
      "Epoch: 8 - Loss: 0.005054\n",
      "Epoch: 9 - Loss: 0.004562\n",
      "Epoch: 10 - Loss: 0.004033\n",
      "Epoch: 11 - Loss: 0.004034\n",
      "Epoch: 12 - Loss: 0.003263\n",
      "Epoch: 13 - Loss: 0.002979\n",
      "Epoch: 14 - Loss: 0.002793\n",
      "Epoch: 15 - Loss: 0.002650\n",
      "Epoch: 16 - Loss: 0.002498\n",
      "Epoch: 17 - Loss: 0.002182\n",
      "Epoch: 18 - Loss: 0.002049\n",
      "Epoch: 19 - Loss: 0.002092\n"
     ]
    }
   ],
   "source": [
    "loss_log = []\n",
    "\n",
    "for e in range(epochs):\n",
    "    for i in range(0, x.shape[0], batch_size):\n",
    "        x_mini = x[i:i + batch_size] \n",
    "        y_mini = y[i:i + batch_size] \n",
    "        \n",
    "        x_var = Variable(x_mini)\n",
    "        y_var = Variable(y_mini)\n",
    "        \n",
    "        optimizer.zero_grad() #zero_grad clears old gradients from the last step\n",
    "        net_out = net(x_var)\n",
    "        \n",
    "        loss = loss_func(net_out, y_var)\n",
    "        loss.backward() #computes the derivative of the loss w.r.t. the parameters (or anything requiring gradients) using backpropagation.\n",
    "        optimizer.step() # causes the optimizer to take a step based on the gradients of the parameters.\n",
    "        \n",
    "        if i % 100 == 0:\n",
    "            loss_log.append(loss.item())\n",
    "        \n",
    "    print('Epoch: {} - Loss: {:.6f}'.format(e, loss.item()))\n",
    "    "
   ]
  },
  {
   "cell_type": "markdown",
   "metadata": {
    "_cell_guid": "548ac762-97c0-48b9-98ff-93559b293c9a",
    "_uuid": "e3e6d56f52974ccb3120340695aed4b9bea0907b"
   },
   "source": [
    "So, let's go line by line and see what is happening here:\n",
    "\n",
    "This is the main loop that goes through all the epochs of training. An epoch is one full training on the full dataset.\n",
    "\n",
    "    for e in range(epochs):\n",
    "This is the inner loop that simply goes through the dataset batch by batch:\n",
    "\n",
    "    for i in range(0, x.shape[0], batch_size):\n",
    "Here is where we get the batches out of our data and simply assign them to variables for further work:\n",
    "\n",
    "    x_mini = x[i:i + batch_size] \n",
    "    y_mini = y[i:i + batch_size] \n",
    "   These two lines are quite *important*. Remember I told you about tensors and how PyTorch stores data in them? That's not the end of story. Actually, to allow the network to work with data, we need a wrapper for those tensors called Variable. It has some additional properties, like allowing automatic gradient computation when backpropagating. It is required for the proper work of PyTorch, so we will add them here and supply tensors as parameters:\n",
    "   \n",
    "    x_var = Variable(x_mini)\n",
    "    y_var = Variable(y_mini)\n",
    "This line just resets the gradient of the optimizer:\n",
    "    \n",
    "    optimizer.zero_grad()\n",
    "Remember the *forward(self, x)* function that we previously defined? The next line is basically calling this function and does the forward propagation:\n",
    "\n",
    "    net_out = net(x_var)\n",
    "This line computes the loss function based on predictions of the net and the correct answers:\n",
    "\n",
    "    loss = loss_func(net_out, y_var)\n",
    "Here we compute the gradient based on the loss that we've got. It will be used to adjust parameters of the network.\n",
    "\n",
    "    loss.backward()\n",
    "And here is where we finally update our network with new adjusted parameters:\n",
    "\n",
    "    optimizer.step()\n",
    "The rest is just logging, which might be helpful to observe how well the network is performing.\n",
    "\n",
    "After the network is done with training, we can take a look at the loss function, and how it behaved during training:"
   ]
  },
  {
   "cell_type": "code",
   "execution_count": 112,
   "metadata": {
    "_cell_guid": "5073f433-dbae-452b-8b7f-647e20c2d0dc",
    "_uuid": "4b635e76f4bb761ceef632c381546a2286442818"
   },
   "outputs": [
    {
     "data": {
      "text/plain": [
       "[<matplotlib.lines.Line2D at 0x7f489829c730>]"
      ]
     },
     "execution_count": 112,
     "metadata": {},
     "output_type": "execute_result"
    },
    {
     "data": {
      "image/png": "[encoded data removed]",
      "text/plain": [
       "<Figure size 720x576 with 1 Axes>"
      ]
     },
     "metadata": {
      "needs_background": "light"
     },
     "output_type": "display_data"
    }
   ],
   "source": [
    "plt.figure(figsize=(10,8))\n",
    "plt.plot(loss_log)"
   ]
  },
  {
   "cell_type": "markdown",
   "metadata": {
    "_cell_guid": "91f7e895-9ff7-4363-82d4-c2dc847aa9c3",
    "_uuid": "c5e3981a9d1e16ad5b8dcf5916031a22ac3336db"
   },
   "source": [
    "At this point, the network should be trained, and we can make a prediction using the test dataset. All we need to do is wrap the data into the Variable and feed it to the trained net, so nothing new here."
   ]
  },
  {
   "cell_type": "code",
   "execution_count": 113,
   "metadata": {
    "_cell_guid": "9792a7ca-d5a8-499b-87d0-077ecf77685d",
    "_uuid": "72b3a1b85275cc4c1f5bc7f442bf81004014b118"
   },
   "outputs": [
    {
     "name": "stdout",
     "output_type": "stream",
     "text": [
      "[2 0 9 ... 3 9 2]\n"
     ]
    }
   ],
   "source": [
    "test = torch.FloatTensor(test_dataNp.tolist())\n",
    "test_var = Variable(test)\n",
    "\n",
    "net_out = net(test_var)\n",
    "\n",
    "print(torch.max(net_out.data, 1)[1].numpy())"
   ]
  },
  {
   "cell_type": "markdown",
   "metadata": {
    "_cell_guid": "f34cc0fb-c950-4346-b742-259b86d9374c",
    "_uuid": "fed2362db49fc9991a1fd0be98d29c55b03b6b82"
   },
   "source": [
    "Now we have out predictions that are ready to be submitted. Before that, we can take a look at predictions and compare them to the actual pictures of digits, just like at the start with training data:"
   ]
  },
  {
   "cell_type": "code",
   "execution_count": 114,
   "metadata": {
    "_cell_guid": "bf0126d4-3eab-45ce-b84e-2f07c8fe9663",
    "_uuid": "41378dcf1951b3cbb7f929bec0a288bad007b72d"
   },
   "outputs": [
    {
     "name": "stdout",
     "output_type": "stream",
     "text": [
      "Prediction: 0 / 5\n",
      "Prediction: 9 / 7\n",
      "Prediction: 0 / 8\n"
     ]
    },
    {
     "data": {
      "image/png": "[encoded data removed]",
      "text/plain": [
       "<Figure size 1008x864 with 12 Axes>"
      ]
     },
     "metadata": {
      "needs_background": "light"
     },
     "output_type": "display_data"
    }
   ],
   "source": [
    "plt.figure(figsize=(14, 12))\n",
    "\n",
    "pixels = test_dataNp[1].reshape(28, 28)\n",
    "plt.subplot(321)\n",
    "sns.heatmap(data=pixels)\n",
    "test_sample = torch.FloatTensor(test_dataNp[1].tolist())\n",
    "test_var_sample = Variable(test_sample)\n",
    "net_out_sample = net(test_var_sample)\n",
    "\n",
    "pixels = test_dataNp[10].reshape(28, 28)\n",
    "plt.subplot(322)\n",
    "sns.heatmap(data=pixels)\n",
    "test_sample = torch.FloatTensor(test_dataNp[10].tolist())\n",
    "test_var_sample = Variable(test_sample)\n",
    "net_out_sample = net(test_var_sample)\n",
    "\n",
    "pixels = test_dataNp[20].reshape(28, 28)\n",
    "plt.subplot(323)\n",
    "sns.heatmap(data=pixels)\n",
    "test_sample = torch.FloatTensor(test_dataNp[20].tolist())\n",
    "test_var_sample = Variable(test_sample)\n",
    "net_out_sample = net(test_var_sample)\n",
    "\n",
    "pixels = test_dataNp[30].reshape(28, 28)\n",
    "plt.subplot(324)\n",
    "sns.heatmap(data=pixels)\n",
    "test_sample = torch.FloatTensor(test_dataNp[30].tolist())\n",
    "test_var_sample = Variable(test_sample)\n",
    "net_out_sample = net(test_var_sample)\n",
    "\n",
    "pixels = test_dataNp[100].reshape(28, 28)\n",
    "plt.subplot(325)\n",
    "sns.heatmap(data=pixels)\n",
    "test_sample = torch.FloatTensor(test_dataNp[100].tolist())\n",
    "test_var_sample = Variable(test_sample)\n",
    "net_out_sample = net(test_var_sample)\n",
    "\n",
    "pixels = test_dataNp[2000].reshape(28, 28)\n",
    "plt.subplot(326)\n",
    "sns.heatmap(data=pixels)\n",
    "test_sample = torch.FloatTensor(test_dataNp[1].tolist())\n",
    "test_var_sample = Variable(test_sample)\n",
    "net_out_sample = net(test_var_sample)\n",
    "\n",
    "\n",
    "print(\"Prediction: {} / {}\".format(torch.max(net_out.data, 1)[1].numpy()[1], torch.max(net_out.data, 1)[1].numpy()[10]))\n",
    "print(\"Prediction: {} / {}\".format(torch.max(net_out.data, 1)[1].numpy()[20], torch.max(net_out.data, 1)[1].numpy()[30]))\n",
    "print(\"Prediction: {} / {}\".format(torch.max(net_out.data, 1)[1].numpy()[100], torch.max(net_out.data, 1)[1].numpy()[2000]))"
   ]
  },
  {
   "cell_type": "code",
   "execution_count": 115,
   "metadata": {
    "_cell_guid": "22c40d7b-a3a4-4118-9aa5-d5191876ecd1",
    "_uuid": "c60e5abb1be0166b2c22aaad560885a74db21da9"
   },
   "outputs": [],
   "source": [
    "output = (torch.max(net_out.data, 1)[1]).numpy()\n",
    "#np.savetxt(\"out.csv\", np.dstack((np.arange(1, output.size+1),output))[0],\"%d,%d\",header=\"ImageId,Label\")"
   ]
  },
  {
   "cell_type": "markdown",
   "metadata": {
    "_cell_guid": "13d2eeae-86ea-499e-923a-642527f23ce0",
    "_uuid": "97523e84c3d8ee0be9aea776f3f7e6c109f05cdd"
   },
   "source": [
    "And that is about it, we've made a simple neural network using PyTorch that can recognize handwritten digits. Not so bad!\n",
    "\n",
    "When I was writing this notebook, this model scorred 96.6%, which is not perfect by any means, but it's not that bad either. \n",
    "\n",
    "I hope this was useful for some of you. If you are totally new to deep learning, I suggest you learn how the neural networks actually work from the inside, especially the backpropagation algorithm.\n",
    "\n",
    "These videos explain [neural nets](https://www.youtube.com/watch?v=aircAruvnKk&t=708s) and [backpropagation](https://www.youtube.com/watch?v=Ilg3gGewQ5U) quite well.\n",
    "\n",
    "Also I suggest you to take a look at this [online book](http://neuralnetworksanddeeplearning.com/chap1.html) (it's absolutely free, btw), where neural networks are explained in great detail, and it even has an implementation of the MNIST problem from scratch, using only numpy.\n",
    "\n",
    "If you have any feedback, feel free to leave comments down below, and good luck with your deep learning adventures :)"
   ]
  },
  {
   "cell_type": "markdown",
   "metadata": {},
   "source": [
    "## Take-home exercise\n",
    "\n",
    "Make sure you can run the PyTorch examples of MNIST classification, then apply the PyTorch example to another\n",
    "classification problem you've worked with this semester, for example the breast cancer dataset. Get familiar with\n",
    "working with models in PyTorch.\n",
    "\n",
    "Report your experiments and results in your brief lab report."
   ]
  },
  {
   "cell_type": "code",
   "execution_count": null,
   "metadata": {},
   "outputs": [],
   "source": []
  }
 ],
 "metadata": {
  "kernelspec": {
   "display_name": "Python 3",
   "language": "python",
   "name": "python3"
  },
  "language_info": {
   "codemirror_mode": {
    "name": "ipython",
    "version": 3
   },
   "file_extension": ".py",
   "mimetype": "text/x-python",
   "name": "python",
   "nbconvert_exporter": "python",
   "pygments_lexer": "ipython3",
   "version": "3.8.8"
  }
 },
 "nbformat": 4,
 "nbformat_minor": 4
}
