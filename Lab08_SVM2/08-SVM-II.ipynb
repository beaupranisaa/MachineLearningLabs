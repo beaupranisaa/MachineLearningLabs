{
 "cells": [
  {
   "cell_type": "markdown",
   "metadata": {},
   "source": [
    "# Lab 08: SVMs Part II\n",
    "\n",
    "In this lab, we will experiment with soft-margin linear and nonlinear SVMs as well as efficient optimization of SVMs.\n",
    "\n",
    "## Soft Margin SVMs\n",
    "\n",
    "We saw in class that to handle non-separable data, we make the margin soft, allowing examples to intrude on it. To minimize the extent to which\n",
    "this happens, we introduce a \\textit{slack variable} $\\xi_i$ for each example $i$ that expresses how far example $i$ intrudes into the soft margin\n",
    "region. $xi_i = 0$ means example $i$ is correctly classified and does not intrude on the margin region. $0 < \\xi_i < 1$ means that example $i$ is\n",
    "inside the margin but on the $y^{(i)}$ side of the separating hyperplane. $xi_i = 1$ means $\\mathbf{x}^{(i)}$ is on the separating hyperplane.\n",
    "$\\xi_i > 1$ means $\\mathbf{x}^{(i)}$ is incorrectly classified. This idea gives us the following optimization problem:\n",
    "$$\n",
    "\\begin{array}{rl}\n",
    "\\min_{\\mathbf{w},b,\\mathbf{\\xi}} & \\frac{1}{2}\\|\\mathbf{w}\\|^2 + C\\sum_{i=1}^m \\xi_i \\\\\n",
    "\\text{such that}                 & y^{(i)}(\\mathbf{w}^\\top \\mathbf{x}^{(i)}+b) \\ge 1-\\xi_i, i \\in 1..m \\\\\n",
    "                                 & \\xi_i \\ge 0, i \\in 1..m\n",
    "\\end{array}\n",
    "$$\n",
    "\n",
    "$C$ is a hyperparameter controlling the tradeoff between minimizing $\\|\\mathbf{w}\\|$ and minimizing the $\\xi_i$'s. $C$ should be determined through\n",
    "a search procedure using an independent validation set.\n",
    "\n",
    "When we write the new Lagrangian, including new Lagrange multipliers $r_i$ for the constraints $\\xi_i \\ge 0$, differentiate with respect to $\\mathbf{w}$ and\n",
    "$b$, substitute the optimal $\\mathbf{w}$ and $b$ into the dual objective function, and impose the KKT constraints, we obtain the new optimization problem\n",
    "$$\n",
    "\\begin{array}{rl}\n",
    "\\max_{\\mathbf{\\alpha}} & W(\\mathbf{\\alpha}) = \\sum_{i=1}^m\\alpha_i - \\frac{1}{2}\\sum_{i,j=1}^m y^{(i)}y^{(j)}\\alpha_i\\alpha_j\n",
    "                                                                                               \\left< \\mathbf{x}^{(i)},\\mathbf{x}^{(j)} \\right> \\\\\n",
    "\\text{such that}       & 0 \\le \\alpha_i \\le C, i \\in 1..m \\\\\n",
    "                       & \\sum_{i=1}^m \\alpha_i y^{(i)} = 0 ,\n",
    "\\end{array}\n",
    "$$\n",
    "\n",
    "where we can replace the linear kernel $\\left< \\mathbf{x}^{(i)},\\mathbf{x}^{(j)} \\right>$ with any valid kernel $K(\\mathbf{x}^{(i)},\\mathbf{x}^{(j)})$.\n",
    "We can now interpret the values of $\\alpha_i$ in relation to $C$ as follows:\n",
    "$$\n",
    "\\begin{eqnarray}\n",
    "\\alpha_i = 0     & \\implies & y^{(i)}(\\mathbf{w}^\\top \\mathbf{x}^{(i)}+b) \\ge 1 \\nonumber \\\\\n",
    "\\alpha_i = C     & \\implies & y^{(i)}(\\mathbf{w}^\\top \\mathbf{x}^{(i)}+b) \\le 1 \\nonumber \\\\\n",
    "0 < \\alpha_i < C & \\implies & y^{(i)}(\\mathbf{w}^\\top \\mathbf{x}^{(i)}+b) = 1 \\nonumber\n",
    "\\end{eqnarray}\n",
    "$$\n",
    "\n",
    "## Exercise 1\n",
    "\n",
    "Consider a dataset in which examples from two classes are sampled from overlapping spherical 2D Gaussians. The code below generates\n",
    "200 samples from each of two classes with\n",
    "$\\mu_1 = \\begin{bmatrix} 3 \\\\ 3 \\end{bmatrix}$, $\\Sigma_1 = \\begin{bmatrix} 4 & 0 \\\\ 0 & 4 \\end{bmatrix}$,\n",
    "$\\mu_2 = \\begin{bmatrix} 5 \\\\ 5 \\end{bmatrix}$, and $\\Sigma_2 = \\begin{bmatrix} 4 & 0 \\\\ 0 & 4 \\end{bmatrix}$."
   ]
  },
  {
   "cell_type": "code",
   "execution_count": 7,
   "metadata": {},
   "outputs": [
    {
     "name": "stdout",
     "output_type": "stream",
     "text": [
      "(320, 2) (320, 1)\n",
      "(80, 2) (80, 1)\n"
     ]
    },
    {
     "data": {
      "image/png": "[encoded data removed]",
      "text/plain": [
       "<Figure size 1008x576 with 2 Axes>"
      ]
     },
     "metadata": {
      "needs_background": "light"
     },
     "output_type": "display_data"
    }
   ],
   "source": [
    "import numpy as np\n",
    "import matplotlib.pyplot as plt\n",
    "\n",
    "def generate_data(mu1, Sigma1, mu2, Sigma2):\n",
    "    X1 = np.random.multivariate_normal(mu1, Sigma, 200)\n",
    "    y1 = -np.ones((200,1))\n",
    "    X2 = np.random.multivariate_normal(mu2, Sigma, 200)\n",
    "    y2 = np.ones((200,1))\n",
    "    X = np.concatenate((X1, X2), 0)\n",
    "    y = np.concatenate((y1, y2), 0)\n",
    "    idx = np.arange(0, 400)\n",
    "    np.random.shuffle(idx)\n",
    "    train_idx = idx[0:320]\n",
    "    test_idx = idx[320:]\n",
    "    X_train = X[train_idx,:]\n",
    "    X_test = X[test_idx,:]\n",
    "    y_train = y[train_idx,:]\n",
    "    y_test = y[test_idx,:]\n",
    "    return X_train, X_test, y_train, y_test\n",
    "\n",
    "mu1 = [3, 3]\n",
    "Sigma = [[4, 0], [0, 4]]\n",
    "mu2 = [5, 5]\n",
    "X_train, X_test, y_train, y_test = generate_data(mu1, Sigma, mu2, Sigma)\n",
    "\n",
    "def plot_data(X, y, title):\n",
    "    X_0 = X[(y==-1).flat]\n",
    "    X_1 = X[(y==1).flat]\n",
    "    plt.plot(X_0[:,0], X_0[:,1], 'ro')\n",
    "    plt.plot(X_1[:,0], X_1[:,1], 'bo')\n",
    "    plt.title(title)\n",
    "    plt.axis('equal')\n",
    "    \n",
    "plt.rcParams[\"figure.figsize\"] = (14, 8)\n",
    "plt.subplot(1, 2, 1)\n",
    "plot_data(X_train, y_train, 'Training data')\n",
    "plt.subplot(1, 2, 2)\n",
    "plot_data(X_test, y_test, 'Test data')\n",
    "print(X_train.shape,y_train.shape)\n",
    "print(X_test.shape,y_test.shape)\n",
    "# print(type(X_test))"
   ]
  },
  {
   "cell_type": "markdown",
   "metadata": {},
   "source": [
    "Let's build a soft-margin linear SVM for this dataset. Recall the QP setting.\n",
    "A QP problem aims to find $\\textbf{x}$ satisfying\n",
    "$$\n",
    "\\begin{array}{rl}\n",
    "\\text{min}_{\\textbf{x}} & \\frac{1}{2}\\textbf{x}^\\top \\texttt{Q} \\textbf{x} + \\textbf{c}^\\top\\textbf{x} \\\\\n",
    "\\text{subject to}       & \\texttt{A}\\textbf{x} \\le \\textbf{b} \\\\\n",
    "                        & \\texttt{E}\\textbf{x} = \\textbf{d} .\n",
    "\\end{array}\n",
    "$$\n",
    "\n",
    "First, we need our wrapper for cvxopt:"
   ]
  },
  {
   "cell_type": "code",
   "execution_count": 3,
   "metadata": {},
   "outputs": [],
   "source": [
    "import cvxopt\n",
    "\n",
    "def cvxopt_solve_qp(Q, c, A=None, b=None, E=None, d=None):\n",
    "    Q = .5 * (Q + Q.T)  # make sure Q is symmetric\n",
    "    args = [cvxopt.matrix(Q), cvxopt.matrix(c)]\n",
    "    if A is not None:\n",
    "        args.extend([cvxopt.matrix(A), cvxopt.matrix(b)])\n",
    "        if E is not None:\n",
    "            args.extend([cvxopt.matrix(E), cvxopt.matrix(d)])\n",
    "    cvxopt.solvers.options['show_progress'] = False\n",
    "    sol = cvxopt.solvers.qp(*args)\n",
    "    if 'optimal' not in sol['status']:\n",
    "        return None\n",
    "    return np.array(sol['x']).reshape((Q.shape[1],))"
   ]
  },
  {
   "cell_type": "markdown",
   "metadata": {},
   "source": [
    "Next we set up the QP problem. Verify that the dual soft margin optimization above can be written as the QP problem\n",
    "\n",
    "$$\n",
    "\\begin{array}{rcl}\n",
    "\\mathtt{Q} & = & \\text{diag}(\\mathbf{y}) \\; \\mathtt{K} \\; \\text{diag}(\\mathbf{y}) \\\\\n",
    "\\mathbf{c} & = & \\begin{bmatrix} -1 \\\\ -1 \\\\ \\vdots \\end{bmatrix} \\\\\n",
    "\\mathtt{A} & = & \\begin{bmatrix} -\\mathtt{I}_{m\\times m} \\\\ \\mathtt{I}_{m\\times m} \\end{bmatrix} \\\\\n",
    "\\mathbf{b} & = & \\begin{bmatrix} 0 \\\\ \\vdots \\\\ 0 \\\\ C \\\\ \\vdots \\\\ C \\end{bmatrix} \\\\\n",
    "\\mathtt{E} & = & \\mathbf{y}^\\top \\\\\n",
    "\\mathbf{d} & = & \\begin{bmatrix} 0 \\end{bmatrix}.\n",
    "\\end{array}\n",
    "$$\n"
   ]
  },
  {
   "cell_type": "code",
   "execution_count": 4,
   "metadata": {},
   "outputs": [
    {
     "name": "stdout",
     "output_type": "stream",
     "text": [
      "Q rank: 2\n"
     ]
    }
   ],
   "source": [
    "C = 1000.1\n",
    "\n",
    "m = X_train.shape[0];\n",
    "n = X_train.shape[1];\n",
    "\n",
    "def linear_kernel(X):\n",
    "    m = X.shape[0];\n",
    "    K = np.matrix(np.zeros([m,m]));\n",
    "    for i in range(0,m):\n",
    "        for j in range(0,m):\n",
    "            K[i,j] = X[i,:] @ X[j,:].T\n",
    "    return K;\n",
    "\n",
    "K = linear_kernel(X_train);\n",
    "\n",
    "Q = np.multiply(y_train * y_train.T, K)\n",
    "print('Q rank: %d' % np.linalg.matrix_rank(Q))\n",
    "c = -np.ones([m]);\n",
    "A = np.concatenate([-np.eye(m), np.eye(m)], 0);\n",
    "b = np.concatenate([np.zeros([m]), C*np.ones([m])], 0);\n",
    "E = y_train.T;\n",
    "d = np.zeros(1);\n",
    "alpha_star = cvxopt_solve_qp(Q, c, A, b, E, d);\n",
    "\n",
    "# print(alpha_star)"
   ]
  },
  {
   "cell_type": "markdown",
   "metadata": {},
   "source": [
    "Let's get $\\mathbf{w}$ and $b$ and plot:"
   ]
  },
  {
   "cell_type": "code",
   "execution_count": 5,
   "metadata": {},
   "outputs": [
    {
     "data": {
      "image/png": "[encoded data removed]",
      "text/plain": [
       "<Figure size 1008x576 with 2 Axes>"
      ]
     },
     "metadata": {
      "needs_background": "light"
     },
     "output_type": "display_data"
    }
   ],
   "source": [
    "def get_wb(X, y, alpha):\n",
    "    n = X.shape[1]\n",
    "    # Find the support vectors\n",
    "    S = alpha > 1e-6\n",
    "    XS = X[S,:]\n",
    "    yS = y[S]\n",
    "    alphaS = alpha[S]\n",
    "    alphaSyS = np.tile(np.multiply(yS.T, alphaS).T, n)\n",
    "    w = sum(np.multiply(alphaSyS, XS)).T\n",
    "    # Find b\n",
    "    KS = K[S,:][:,S]\n",
    "    NS = yS.shape[0]\n",
    "    b = (np.sum(yS) - np.sum(np.multiply(alphaS,yS.T)*KS))/NS\n",
    "    # Normalize w,b\n",
    "    scalef = np.linalg.norm(w)\n",
    "    w = w / scalef\n",
    "    b = b / scalef\n",
    "    return w,b\n",
    "\n",
    "w,b = get_wb(X_train, y_train, alpha_star)\n",
    "\n",
    "def boundary_points(X, w, b):\n",
    "    v_orthogonal = np.array([[w[0]],[w[1]]])\n",
    "    v_ortho_length = np.sqrt(v_orthogonal.T @ v_orthogonal)\n",
    "    dist_ortho = b / v_ortho_length\n",
    "    v_orthogonal = v_orthogonal / v_ortho_length\n",
    "    v_parallel = np.array([[-v_orthogonal[1,0]],[v_orthogonal[0,0]]])\n",
    "    projections = X @ v_parallel\n",
    "    proj_1 = min(projections)\n",
    "    proj_2 = max(projections)\n",
    "    point_1 = proj_1 * v_parallel - dist_ortho * v_orthogonal\n",
    "    point_2 = proj_2 * v_parallel - dist_ortho * v_orthogonal\n",
    "    return point_1, point_2\n",
    "\n",
    "def plot_w(X, w, b):\n",
    "    p1, p2 = boundary_points(X, w, b)\n",
    "    plt.plot((p1[0],p2[0]), (p1[1],p2[1]), 'r-')\n",
    "\n",
    "plt.rcParams[\"figure.figsize\"] = (14, 8)\n",
    "plt.subplot(1, 2, 1)\n",
    "plot_data(X_train, y_train, 'Training data')\n",
    "plot_w(X_train, w, b)\n",
    "plt.subplot(1, 2, 2)\n",
    "plot_data(X_test, y_test, 'Test data')\n",
    "plot_w(X_test, w, b)\n"
   ]
  },
  {
   "cell_type": "markdown",
   "metadata": {},
   "source": [
    "## To do in lab\n",
    "\n",
    "Do the following:\n",
    "1. Implement a function to evaluate the accuracy of your SVM on the test set\n",
    "2. Implement a search procedure to find the best value of $C$.\n",
    "Report your findings in the lab report."
   ]
  },
  {
   "cell_type": "code",
   "execution_count": 5,
   "metadata": {},
   "outputs": [
    {
     "name": "stdout",
     "output_type": "stream",
     "text": [
      "Accuracy = 0.8625\n"
     ]
    }
   ],
   "source": [
    "y_pred = np.sign((X_test@ w)+b)\n",
    "y_test = y_test.ravel()\n",
    "\n",
    "print(f\"Accuracy = {sum(y_pred == y_test)/y_test.shape[0]}\")"
   ]
  },
  {
   "cell_type": "markdown",
   "metadata": {},
   "source": [
    "2. Implement a search procedure to find the best value of $C$."
   ]
  },
  {
   "cell_type": "code",
   "execution_count": 6,
   "metadata": {},
   "outputs": [
    {
     "name": "stdout",
     "output_type": "stream",
     "text": [
      "[-18. -17. -16. -15. -14. -13. -12. -11. -10.  -9.  -8.  -7.  -6.  -5.\n",
      "  -4.  -3.  -2.  -1.   0.   1.   2.   3.   4.   5.   6.   7.   8.   9.]\n",
      "Q rank: 2\n",
      "=============================================\n",
      "At C = 3.814697265625e-06 | Accuracy = 0.6375\n",
      "=============================================\n",
      "At C = 7.62939453125e-06 | Accuracy = 0.8625\n",
      "=============================================\n",
      "At C = 1.52587890625e-05 | Accuracy = 0.8625\n",
      "=============================================\n",
      "At C = 3.0517578125e-05 | Accuracy = 0.8625\n",
      "=============================================\n",
      "At C = 6.103515625e-05 | Accuracy = 0.8625\n",
      "=============================================\n",
      "At C = 0.0001220703125 | Accuracy = 0.8625\n",
      "=============================================\n",
      "At C = 0.000244140625 | Accuracy = 0.8625\n",
      "=============================================\n",
      "At C = 0.00048828125 | Accuracy = 0.8625\n",
      "=============================================\n",
      "At C = 0.0009765625 | Accuracy = 0.8625\n",
      "=============================================\n",
      "At C = 0.001953125 | Accuracy = 0.8625\n",
      "=============================================\n",
      "At C = 0.00390625 | Accuracy = 0.8625\n",
      "=============================================\n",
      "At C = 0.0078125 | Accuracy = 0.85\n",
      "=============================================\n",
      "At C = 0.015625 | Accuracy = 0.8625\n",
      "=============================================\n",
      "At C = 0.03125 | Accuracy = 0.8375\n",
      "=============================================\n",
      "At C = 0.0625 | Accuracy = 0.8375\n",
      "=============================================\n",
      "At C = 0.125 | Accuracy = 0.8625\n",
      "=============================================\n",
      "At C = 0.25 | Accuracy = 0.8625\n",
      "=============================================\n",
      "At C = 0.5 | Accuracy = 0.85\n",
      "=============================================\n",
      "At C = 1.0 | Accuracy = 0.8625\n",
      "=============================================\n",
      "At C = 2.0 | Accuracy = 0.8625\n",
      "=============================================\n",
      "At C = 4.0 | Accuracy = 0.85\n",
      "=============================================\n",
      "At C = 8.0 | Accuracy = 0.8625\n",
      "=============================================\n",
      "At C = 16.0 | Accuracy = 0.8625\n",
      "=============================================\n",
      "At C = 32.0 | Accuracy = 0.85\n",
      "=============================================\n",
      "At C = 64.0 | Accuracy = 0.8625\n",
      "=============================================\n",
      "At C = 128.0 | Accuracy = 0.8625\n",
      "=============================================\n",
      "At C = 256.0 | Accuracy = 0.8625\n",
      "=============================================\n",
      "At C = 512.0 | Accuracy = 0.8625\n"
     ]
    }
   ],
   "source": [
    "power_k = np.arange(-18,10,dtype=float)\n",
    "print(power_k)\n",
    "m = X_train.shape[0];\n",
    "n = X_train.shape[1];\n",
    "K = linear_kernel(X_train);\n",
    "Q = np.multiply(y_train * y_train.T, K)\n",
    "print('Q rank: %d' % np.linalg.matrix_rank(Q))\n",
    "c = -np.ones([m]);\n",
    "A = np.concatenate([-np.eye(m), np.eye(m)], 0);\n",
    "E = y_train.T;\n",
    "d = np.zeros(1);\n",
    "acc_list = []\n",
    "C_list = []\n",
    "for ke in power_k:\n",
    "    C = pow(2, ke)\n",
    "    print(\"=============================================\")\n",
    "    b = np.concatenate([np.zeros([m]), C*np.ones([m])], 0);\n",
    "    alpha_star = cvxopt_solve_qp(Q, c, A, b, E, d);\n",
    "    w,b = get_wb(X_train, y_train, alpha_star)\n",
    "    y_pred = np.sign((X_test @ w) + b)\n",
    "    print(f\"At C = {C} | Accuracy = {sum(y_pred == y_test)/ y_test.shape[0]}\")\n",
    "    acc_list.append(sum(y_pred == y_test)/ y_test.shape[0])\n",
    "    C_list.append(C)"
   ]
  },
  {
   "cell_type": "code",
   "execution_count": 7,
   "metadata": {},
   "outputs": [
    {
     "name": "stdout",
     "output_type": "stream",
     "text": [
      "[0.6375, 0.8625, 0.8625, 0.8625, 0.8625, 0.8625, 0.8625, 0.8625, 0.8625, 0.8625, 0.8625, 0.85, 0.8625, 0.8375, 0.8375, 0.8625, 0.8625, 0.85, 0.8625, 0.8625, 0.85, 0.8625, 0.8625, 0.85, 0.8625, 0.8625, 0.8625, 0.8625]\n"
     ]
    },
    {
     "data": {
      "image/png": "[encoded data removed]",
      "text/plain": [
       "<Figure size 1008x576 with 1 Axes>"
      ]
     },
     "metadata": {
      "needs_background": "light"
     },
     "output_type": "display_data"
    }
   ],
   "source": [
    "plt.plot(C_list,acc_list)\n",
    "plt.xscale('log')\n",
    "print(acc_list)"
   ]
  },
  {
   "cell_type": "markdown",
   "metadata": {},
   "source": [
    "## Take home exercise\n",
    "\n",
    "Remember the 2D annulus problem with overlap? Get the code above working on that example. You'll need to use the\n",
    "Gaussian kernel rather than the linear kernel. Report your findings in the lab report. Your hyperparameter search\n",
    "should be over both $C$ and $\\sigma$ ($\\gamma$ in some descriptions of the Gaussian/RBF kernel)."
   ]
  },
  {
   "cell_type": "code",
   "execution_count": 8,
   "metadata": {},
   "outputs": [],
   "source": [
    "# Generate data for class 1\n",
    "\n",
    "mu_1 = np.array([1.0, 2.0])\n",
    "sigma_1 = 0.5\n",
    "num_sample = 100\n",
    "cov_mat = np.matrix([[sigma_1,0],[0,sigma_1]])\n",
    "# print(cov_mat)\n",
    "X1 = np.random.multivariate_normal(mean= mu_1, cov=cov_mat, size = num_sample)\n",
    "\n",
    "# Generate data for class 2\n",
    "\n",
    "angle = np.random.uniform(0, 2*np.pi, num_sample)\n",
    "d =  np.random.normal(np.square(3*sigma_1),np.square(.5*sigma_1),num_sample)\n",
    "\n",
    "X2 = np.array([X1[:,0] + d*np.cos(angle), X1[:,1] + d*np.sin(angle)]).T\n",
    "\n",
    "# Combine X1 and X2 into single dataset\n",
    "\n",
    "# print(X1.shape,X2.shape)\n",
    "X = np.concatenate([X1, X2],axis = 0)\n",
    "y = np.append(np.zeros(num_sample),np.ones(num_sample))\n",
    "# y = y.reshape(-1,1)\n",
    "# print(X.shape,y.shape)\n",
    "# print(X[:10,:])\n",
    "# print(y)"
   ]
  },
  {
   "cell_type": "code",
   "execution_count": 9,
   "metadata": {},
   "outputs": [
    {
     "data": {
      "image/png": "[encoded data removed]",
      "text/plain": [
       "<Figure size 360x360 with 1 Axes>"
      ]
     },
     "metadata": {
      "needs_background": "light"
     },
     "output_type": "display_data"
    }
   ],
   "source": [
    "# Plot the data\n",
    "fig1 = plt.figure(figsize=(5,5))\n",
    "ax = plt.axes() \n",
    "plt.title('Sample data for classification problem')\n",
    "plt.grid(axis='both', alpha=.25)\n",
    "plt.plot(X1[:,0],X1[:,1],'b.', label = 'Class 1')\n",
    "plt.plot(X2[:,0],X2[:,1],'g*', label = 'Class 2')\n",
    "plt.legend(loc=2)\n",
    "plt.axis('equal')\n",
    "plt.show()"
   ]
  },
  {
   "cell_type": "code",
   "execution_count": 19,
   "metadata": {},
   "outputs": [
    {
     "name": "stdout",
     "output_type": "stream",
     "text": [
      "(140, 2)\n",
      "(60, 2)\n",
      "(140, 1)\n",
      "(60, 1)\n"
     ]
    }
   ],
   "source": [
    "from sklearn.model_selection import train_test_split\n",
    "\n",
    "X_train,X_test,y_train,y_test = train_test_split(X,y,test_size = 0.3,shuffle = True)\n",
    "y_train = y_train.reshape(-1,1)\n",
    "y_test = y_test.reshape(-1,1)\n",
    "print(X_train.shape)\n",
    "print(X_test.shape)\n",
    "print(y_train.shape)\n",
    "print(y_test.shape)"
   ]
  },
  {
   "cell_type": "code",
   "execution_count": 20,
   "metadata": {},
   "outputs": [],
   "source": [
    "# C = 1000.1\n",
    "\n",
    "m = X_train.shape[0];\n",
    "n = X_train.shape[1];\n",
    "\n",
    "def gauss_kernel(X):\n",
    "    sigma = 0.2\n",
    "    m = X.shape[0];\n",
    "    K = np.matrix(np.zeros([m,m]));\n",
    "    for i in range(0,m):\n",
    "        for j in range(0,m):\n",
    "            K[i,j] = (X[i,:] - X[j,:]) * (X[i,:] - X[j,:]).T\n",
    "    K = np.exp(-K/(2*sigma*sigma))      \n",
    "    return K;"
   ]
  },
  {
   "cell_type": "code",
   "execution_count": 21,
   "metadata": {},
   "outputs": [
    {
     "name": "stdout",
     "output_type": "stream",
     "text": [
      "[-18. -17. -16. -15. -14. -13. -12. -11. -10.  -9.  -8.  -7.  -6.  -5.\n",
      "  -4.  -3.  -2.  -1.   0.   1.   2.   3.   4.   5.   6.   7.   8.   9.]\n"
     ]
    },
    {
     "ename": "ValueError",
     "evalue": "setting an array element with a sequence.",
     "output_type": "error",
     "traceback": [
      "\u001b[0;31m---------------------------------------------------------------------------\u001b[0m",
      "\u001b[0;31mTypeError\u001b[0m                                 Traceback (most recent call last)",
      "\u001b[0;31mTypeError\u001b[0m: only size-1 arrays can be converted to Python scalars",
      "\nThe above exception was the direct cause of the following exception:\n",
      "\u001b[0;31mValueError\u001b[0m                                Traceback (most recent call last)",
      "\u001b[0;32m<ipython-input-21-32534dab7797>\u001b[0m in \u001b[0;36m<module>\u001b[0;34m\u001b[0m\n\u001b[1;32m      3\u001b[0m \u001b[0mm\u001b[0m \u001b[0;34m=\u001b[0m \u001b[0mX_train\u001b[0m\u001b[0;34m.\u001b[0m\u001b[0mshape\u001b[0m\u001b[0;34m[\u001b[0m\u001b[0;36m0\u001b[0m\u001b[0;34m]\u001b[0m\u001b[0;34m;\u001b[0m\u001b[0;34m\u001b[0m\u001b[0;34m\u001b[0m\u001b[0m\n\u001b[1;32m      4\u001b[0m \u001b[0mn\u001b[0m \u001b[0;34m=\u001b[0m \u001b[0mX_train\u001b[0m\u001b[0;34m.\u001b[0m\u001b[0mshape\u001b[0m\u001b[0;34m[\u001b[0m\u001b[0;36m1\u001b[0m\u001b[0;34m]\u001b[0m\u001b[0;34m;\u001b[0m\u001b[0;34m\u001b[0m\u001b[0;34m\u001b[0m\u001b[0m\n\u001b[0;32m----> 5\u001b[0;31m \u001b[0mK\u001b[0m \u001b[0;34m=\u001b[0m \u001b[0mgauss_kernel\u001b[0m\u001b[0;34m(\u001b[0m\u001b[0mX_train\u001b[0m\u001b[0;34m)\u001b[0m\u001b[0;34m;\u001b[0m\u001b[0;34m\u001b[0m\u001b[0;34m\u001b[0m\u001b[0m\n\u001b[0m\u001b[1;32m      6\u001b[0m \u001b[0mQ\u001b[0m \u001b[0;34m=\u001b[0m \u001b[0mnp\u001b[0m\u001b[0;34m.\u001b[0m\u001b[0mmultiply\u001b[0m\u001b[0;34m(\u001b[0m\u001b[0my_train\u001b[0m \u001b[0;34m*\u001b[0m \u001b[0my_train\u001b[0m\u001b[0;34m.\u001b[0m\u001b[0mT\u001b[0m\u001b[0;34m,\u001b[0m \u001b[0mK\u001b[0m\u001b[0;34m)\u001b[0m\u001b[0;34m\u001b[0m\u001b[0;34m\u001b[0m\u001b[0m\n\u001b[1;32m      7\u001b[0m \u001b[0mprint\u001b[0m\u001b[0;34m(\u001b[0m\u001b[0;34m'Q rank: %d'\u001b[0m \u001b[0;34m%\u001b[0m \u001b[0mnp\u001b[0m\u001b[0;34m.\u001b[0m\u001b[0mlinalg\u001b[0m\u001b[0;34m.\u001b[0m\u001b[0mmatrix_rank\u001b[0m\u001b[0;34m(\u001b[0m\u001b[0mQ\u001b[0m\u001b[0;34m)\u001b[0m\u001b[0;34m)\u001b[0m\u001b[0;34m\u001b[0m\u001b[0;34m\u001b[0m\u001b[0m\n",
      "\u001b[0;32m<ipython-input-20-cb49693cc789>\u001b[0m in \u001b[0;36mgauss_kernel\u001b[0;34m(X)\u001b[0m\n\u001b[1;32m     10\u001b[0m     \u001b[0;32mfor\u001b[0m \u001b[0mi\u001b[0m \u001b[0;32min\u001b[0m \u001b[0mrange\u001b[0m\u001b[0;34m(\u001b[0m\u001b[0;36m0\u001b[0m\u001b[0;34m,\u001b[0m\u001b[0mm\u001b[0m\u001b[0;34m)\u001b[0m\u001b[0;34m:\u001b[0m\u001b[0;34m\u001b[0m\u001b[0;34m\u001b[0m\u001b[0m\n\u001b[1;32m     11\u001b[0m         \u001b[0;32mfor\u001b[0m \u001b[0mj\u001b[0m \u001b[0;32min\u001b[0m \u001b[0mrange\u001b[0m\u001b[0;34m(\u001b[0m\u001b[0;36m0\u001b[0m\u001b[0;34m,\u001b[0m\u001b[0mm\u001b[0m\u001b[0;34m)\u001b[0m\u001b[0;34m:\u001b[0m\u001b[0;34m\u001b[0m\u001b[0;34m\u001b[0m\u001b[0m\n\u001b[0;32m---> 12\u001b[0;31m             \u001b[0mK\u001b[0m\u001b[0;34m[\u001b[0m\u001b[0mi\u001b[0m\u001b[0;34m,\u001b[0m\u001b[0mj\u001b[0m\u001b[0;34m]\u001b[0m \u001b[0;34m=\u001b[0m \u001b[0;34m(\u001b[0m\u001b[0mX\u001b[0m\u001b[0;34m[\u001b[0m\u001b[0mi\u001b[0m\u001b[0;34m,\u001b[0m\u001b[0;34m:\u001b[0m\u001b[0;34m]\u001b[0m \u001b[0;34m-\u001b[0m \u001b[0mX\u001b[0m\u001b[0;34m[\u001b[0m\u001b[0mj\u001b[0m\u001b[0;34m,\u001b[0m\u001b[0;34m:\u001b[0m\u001b[0;34m]\u001b[0m\u001b[0;34m)\u001b[0m \u001b[0;34m*\u001b[0m \u001b[0;34m(\u001b[0m\u001b[0mX\u001b[0m\u001b[0;34m[\u001b[0m\u001b[0mi\u001b[0m\u001b[0;34m,\u001b[0m\u001b[0;34m:\u001b[0m\u001b[0;34m]\u001b[0m \u001b[0;34m-\u001b[0m \u001b[0mX\u001b[0m\u001b[0;34m[\u001b[0m\u001b[0mj\u001b[0m\u001b[0;34m,\u001b[0m\u001b[0;34m:\u001b[0m\u001b[0;34m]\u001b[0m\u001b[0;34m)\u001b[0m\u001b[0;34m.\u001b[0m\u001b[0mT\u001b[0m\u001b[0;34m\u001b[0m\u001b[0;34m\u001b[0m\u001b[0m\n\u001b[0m\u001b[1;32m     13\u001b[0m     \u001b[0mK\u001b[0m \u001b[0;34m=\u001b[0m \u001b[0mnp\u001b[0m\u001b[0;34m.\u001b[0m\u001b[0mexp\u001b[0m\u001b[0;34m(\u001b[0m\u001b[0;34m-\u001b[0m\u001b[0mK\u001b[0m\u001b[0;34m/\u001b[0m\u001b[0;34m(\u001b[0m\u001b[0;36m2\u001b[0m\u001b[0;34m*\u001b[0m\u001b[0msigma\u001b[0m\u001b[0;34m*\u001b[0m\u001b[0msigma\u001b[0m\u001b[0;34m)\u001b[0m\u001b[0;34m)\u001b[0m\u001b[0;34m\u001b[0m\u001b[0;34m\u001b[0m\u001b[0m\n\u001b[1;32m     14\u001b[0m     \u001b[0;32mreturn\u001b[0m \u001b[0mK\u001b[0m\u001b[0;34m;\u001b[0m\u001b[0;34m\u001b[0m\u001b[0;34m\u001b[0m\u001b[0m\n",
      "\u001b[0;31mValueError\u001b[0m: setting an array element with a sequence."
     ]
    }
   ],
   "source": [
    "power_k = np.arange(-18,10,dtype=float)\n",
    "print(power_k)\n",
    "m = X_train.shape[0];\n",
    "n = X_train.shape[1];\n",
    "K = gauss_kernel(X_train);\n",
    "Q = np.multiply(y_train * y_train.T, K)\n",
    "print('Q rank: %d' % np.linalg.matrix_rank(Q))\n",
    "c = -np.ones([m]);\n",
    "A = np.concatenate([-np.eye(m), np.eye(m)], 0);\n",
    "E = y_train.T;\n",
    "d = np.zeros(1);\n",
    "acc_list = []\n",
    "C_list = []\n",
    "for ke in power_k:\n",
    "    C = pow(2, ke)\n",
    "    print(\"=============================================\")\n",
    "    b = np.concatenate([np.zeros([m]), C*np.ones([m])], 0);\n",
    "    alpha_star = cvxopt_solve_qp(Q, c, A, b, E, d);\n",
    "    w,b = get_wb(X_train, y_train, alpha_star)\n",
    "    y_pred = np.sign((X_test @ w) + b)\n",
    "    print(f\"At C = {C} | Accuracy = {sum(y_pred == y_test)/ y_test.shape[0]}\")\n",
    "    acc_list.append(sum(y_pred == y_test)/ y_test.shape[0])\n",
    "    C_list.append(C)"
   ]
  },
  {
   "cell_type": "markdown",
   "metadata": {},
   "source": [
    "\n",
    "## Exercise 2: SMO optimization\n",
    "\n",
    "As we have learned, the QP solution to the SVM is not practical for large datasets.\n",
    "\n",
    "Next, we'll get the general idea of the SMO algorithm used to optimize large SVMs in practice. The idea is similar to\n",
    "coordinate ascent except that we cannot manipulate $\\alpha_i$'s independently due to the KKT constraints required for\n",
    "equivalence of the primal and dual form of the constrained optimization problem.\n",
    "\n",
    "This example has been adapted from\n",
    "[An Introduction to Support Vector Machine (SVM) and the Simplified SMO Algorithm](https://www.codeproject.com/Articles/1267445/An-Introduction-to-Support-Vector-Machine-SVM-and) by \"Coding Notes.\"\n",
    "\n",
    "We begin with all $\\alpha_i=0$.\n",
    "We repeatedly iterate over all $\\alpha_i$, $i \\in 1..m$. If $\\alpha_i$ does not fulfill the KKT conditions, then we\n",
    "must consider optimizing $\\alpha_i$ in concert with some other $\\alpha_j$. The KKT conditions imply that if $\\alpha_i = 0$, then\n",
    "it must be the case that $y^{(i)} h(\\mathbf{x}^{(i)}) > 1$, and if $0 < \\alpha_i < C$, it must be the case that $y^{(i)} h(\\mathbf{x}^{(i)}) = 1$.\n",
    "\n",
    "If either of these constraints are violated, we\n",
    "select an $\\alpha_j$ at random from the remaining $(m − 1)$ $\\alpha$ variables and then jointly optimize $\\alpha_i$ and $\\alpha_j$,\n",
    "holding all other $\\alpha_k$ fixed.\n",
    "\n",
    "If the vector $\\mathbf{\\alpha}$ does not change after some number of passes, then the algorithm terminates.\n",
    "\n",
    "To optimize the pair $(\\alpha_i,\\alpha_j)$, we do the following:\n",
    " - $E_i \\leftarrow h(\\mathbf{x}^{(i)}) - y^{(i)}$\n",
    " - $E_j \\leftarrow h(\\mathbf{x}^{(j)}) - y^{(j)}$\n",
    " - $\\alpha_j^{(old)} \\leftarrow \\alpha_j$\n",
    " - $\\alpha_j' \\leftarrow \\alpha_j^{(old)} - \\frac{y^{(j)}(E_i - E_j)}{\\eta}$ \n",
    " - $\\eta = 2 \\langle x^{(i)}, x^{(j)} \\rangle - \\langle x^{(i)} , x^{(i)} \\rangle - \\langle x^{(j)}, x^{(j)} \\rangle$\n",
    " - $L = \\begin{cases} \\max(0, \\alpha_i + \\alpha_j − C)  & \\text{if} \\; y^{(i)} = y^{(j)} \\\\\n",
    "                      \\max(0, \\alpha_j − \\alpha_i)      & \\text{otherwise} \\end{cases}$\n",
    " - $H = \\begin{cases} \\min(C, \\alpha_i + \\alpha_j)      & \\text{if} \\; y^{(i)} = y^{(j)} \\\\\n",
    "                      \\min(C, C + \\alpha_j − \\alpha_i) & \\text{otherwise}\\end{cases}$\n",
    " - $\\alpha_j \\leftarrow \\begin{cases} H & \\text{if} \\; \\alpha_j' > H \\\\\n",
    "                                      \\alpha_j' & \\text{if} \\; L \\le \\alpha_j' \\le H \\\\\n",
    "                                      L & \\text{otherwise} \\end{cases}$\n",
    " - $\\alpha_i \\leftarrow \\alpha_i + y^{(i)} y^{(j)} ( \\alpha_j^{(old)} - \\alpha_j )$\n",
    "\n",
    "After optimizing $\\alpha_i$ and $\\alpha_j$, we select the threshold $b$ as\n",
    "$$ b= \\begin{cases} b_1 &  0  \\lt \\alpha_i \\lt C \\\\ b_2 &  0  \\lt \\alpha_j \\lt C  \\\\ otherwise \\end{cases}$$\n",
    "\n",
    "where $b_1 = b - E_i - y^{(i)}(\\alpha_i - \\alpha_i^{(old)})\\langle x^{(i)},x^{(i)}\\rangle - y^{(i)}(\\alpha_j-\\alpha_j^{(old)})\\langle x^{(i)},x^{(j)} \\rangle$\n",
    "\n",
    "and $b_2 = b - E_i - y^{(i)}(\\alpha_i - \\alpha_i^{(old)})\\langle x^{(i)},x^{(j)}\\rangle - y^{(j)}(\\alpha_j-\\alpha_j^{(old)})\\langle x^{(j)},x^{(j)} \\rangle$"
   ]
  },
  {
   "cell_type": "code",
   "execution_count": null,
   "metadata": {},
   "outputs": [],
   "source": [
    "import random\n",
    "import matplotlib.patches as mpatches\n",
    "\n",
    "# Convert lists into matrix\n",
    "def mat(lists):\n",
    "    return np.matrix(lists)\n",
    "\n",
    "def selectJrandom(i,m):\n",
    "    j=i\n",
    "    while (j==i):\n",
    "        j = int(random.uniform(0,m))\n",
    "    return j\n",
    "\n",
    "def clipAlphaJ(aj,H,L):\n",
    "    if aj > H:\n",
    "        aj = H\n",
    "    if L > aj:\n",
    "        aj = L\n",
    "    return aj\n",
    "\n",
    "def simplifiedSMO(dataX, classY, C, tol, max_passes):\n",
    "    X = mat(dataX)\n",
    "    Y = mat(classY).T\n",
    "    m,n = np.shape(X)\n",
    "    # Initialize b: threshold for solution\n",
    "    b = 0;      \n",
    "    # Initialize alphas: lagrange multipliers for solution\n",
    "    alphas = mat(np.zeros((m,1)))\n",
    "    passes = 0\n",
    "    while (passes < max_passes):\n",
    "        num_changed_alphas = 0\n",
    "        for i in range(m):\n",
    "            # Calculate Ei = f(xi) - yi\n",
    "            fXi = float(np.multiply(alphas,Y).T*(X*X[i,:].T)) + b\n",
    "            Ei = fXi - float(Y[i])\n",
    "            if ((Y[i]*Ei < -tol) and (alphas[i] < C)) or ((Y[i]*Ei > tol) and (alphas[i] > 0)):\n",
    "                # select j # i randomly\n",
    "                j = selectJrandom(i,m)\n",
    "                # Calculate Ej = f(xj) - yj\n",
    "                fXj = float(np.multiply(alphas,Y).T*(X*X[j,:].T)) + b\n",
    "                Ej = fXj - float(Y[j])\n",
    "                # save old alphas's\n",
    "                alphaIold = alphas[i].copy();\n",
    "                alphaJold = alphas[j].copy();\n",
    "                # compute L and H\n",
    "                if (Y[i] != Y[j]):\n",
    "                    L = max(0, alphas[j] - alphas[i])\n",
    "                    H = min(C, C + alphas[j] - alphas[i])\n",
    "                else:\n",
    "                    L = max(0, alphas[j] + alphas[i] - C)\n",
    "                    H = min(C, alphas[j] + alphas[i])\n",
    "                # if L = H the continue to next i\n",
    "                if L==H:\n",
    "                    continue\n",
    "                # compute eta\n",
    "                eta = 2.0 * X[i,:]*X[j,:].T - X[i,:]*X[i,:].T - X[j,:]*X[j,:].T\n",
    "                # if eta >= 0 then continue to next i\n",
    "                if eta >= 0:\n",
    "                    continue\n",
    "                # compute new value for alphas j\n",
    "                alphas[j] -= Y[j]*(Ei - Ej)/eta\n",
    "                # clip new value for alphas j\n",
    "                alphas[j] = clipAlphaJ(alphas[j],H,L)\n",
    "                # if |alphasj - alphasold| < 0.00001 then continue to next i\n",
    "                if (abs(alphas[j] - alphaJold) < 0.00001):\n",
    "                    continue\n",
    "                # determine value for alphas i\n",
    "                alphas[i] += Y[j]*Y[i]*(alphaJold - alphas[j])\n",
    "                # compute b1 and b2\n",
    "                b1 = b - Ei- Y[i]*(alphas[i]-alphaIold)*X[i,:]*X[i,:].T - Y[j]*(alphas[j]-alphaJold)*X[i,:]*X[j,:].T\n",
    "                b2 = b - Ej- Y[i]*(alphas[i]-alphaIold)*X[i,:]*X[j,:].T - Y[j]*(alphas[j]-alphaJold)*X[j,:]*X[j,:].T\n",
    "                # compute b\n",
    "                if (0 < alphas[i]) and (C > alphas[i]):\n",
    "                    b = b1\n",
    "                elif (0 < alphas[j]) and (C > alphas[j]):\n",
    "                    b = b2\n",
    "                else:\n",
    "                    b = (b1 + b2)/2.0                      \n",
    "                num_changed_alphas += 1\n",
    "            if (num_changed_alphas == 0): passes += 1\n",
    "            else: passes = 0\n",
    "    return b,alphas\n",
    "\n",
    "def computeW(alphas, dataX, classY):\n",
    "    X = mat(dataX)\n",
    "    Y = mat(classY).T\n",
    "    m,n = np.shape(X)\n",
    "    w = np.zeros((n,1))\n",
    "    for i in range(m):\n",
    "        w += np.multiply(alphas[i]*Y[i],X[i,:].T)\n",
    "    return w\n",
    "\n",
    "def plotLinearClassifier(point, w, alphas, b, dataX, labelY):      \n",
    "    np.shape(alphas[alphas>0])\n",
    "      \n",
    "    Y = np.array(labelY)\n",
    "    X = np.array(dataX)\n",
    "    svmMat = []\n",
    "    alphaMat = []\n",
    "    for i in range(10):\n",
    "        alphaMat.append(alphas[i])\n",
    "        if alphas[i]>0.0:\n",
    "            svmMat.append(X[i])\n",
    "                                 \n",
    "    svmPoints = np.array(svmMat)\n",
    "    alphasArr = np.array(alphaMat)\n",
    "\n",
    "    numofSVMs = np.shape(svmPoints)[0]\n",
    "    print(\"Number of SVM points: %d\" % numofSVMs)\n",
    " \n",
    "    xSVM = []; ySVM = []\n",
    "    for i in range(numofSVMs):\n",
    "        xSVM.append(svmPoints[i,0])\n",
    "        ySVM.append(svmPoints[i,1])    \n",
    "     \n",
    "    n = np.shape(X)[0]    \n",
    "    xcord1 = []; ycord1 = []\n",
    "    xcord2 = []; ycord2 = []\n",
    "      \n",
    "    for i in range(n):\n",
    "        if int(labelY[i])== 1:\n",
    "            xcord1.append(X[i,0])\n",
    "            ycord1.append(X[i,1])                  \n",
    "        else:\n",
    "            xcord2.append(X[i,0])\n",
    "            ycord2.append(X[i,1])                  \n",
    "\n",
    "    fig = plt.figure()\n",
    "    ax = fig.add_subplot(111)\n",
    "    ax.scatter(xcord1, ycord1, s=30, c='red', marker='s')\n",
    "    for j in range(0,len(xcord1)):\n",
    "        for l in range(numofSVMs):\n",
    "            if (xcord1[j]== xSVM[l]) and (ycord1[j]== ySVM[l]):\n",
    "                ax.annotate(\"SVM\", (xcord1[j],ycord1[j]), (xcord1[j]+1,ycord1[j]+2),\n",
    "                                   arrowprops=dict(facecolor='black', shrink=0.005))\n",
    "      \n",
    "    ax.scatter(xcord2, ycord2, s=30, c='green')\n",
    "    for k in range(0,len(xcord2)):\n",
    "        for l in range(numofSVMs):\n",
    "            if (xcord2[k]== xSVM[l]) and (ycord2[k]== ySVM[l]):\n",
    "                ax.annotate(\"SVM\", (xcord2[k],ycord2[k]),(xcord2[k]-1,ycord2[k]+1),\n",
    "                            arrowprops=dict(facecolor='black', shrink=0.005))\n",
    "      \n",
    "    red_patch = mpatches.Patch(color='red', label='Class 1')\n",
    "    green_patch = mpatches.Patch(color='green', label='Class -1')\n",
    "    plt.legend(handles=[red_patch,green_patch])\n",
    "      \n",
    "    x = []\n",
    "    y = []\n",
    "    for xfit in np.linspace(-3.0, 3.0):\n",
    "        x.append(xfit)\n",
    "        y.append(float((-w[0]/w[1])*xfit - b[0,0])/w[1])\n",
    "             \n",
    "    ax.plot(x,y)\n",
    "      \n",
    "    predictedClass(point,w,b)\n",
    "    p = mat(point)\n",
    "    ax.scatter(p[0,0], p[0,1], s=30, c='black', marker='s')\n",
    "    circle1=plt.Circle((p[0,0],p[0,1]),0.6, color='b', fill=False)\n",
    "    plt.gcf().gca().add_artist(circle1)\n",
    "      \n",
    "    plt.show()\n",
    "\n",
    "def predictedClass(point, w, b):\n",
    "    p = mat(point)\n",
    "    f = p*w + b\n",
    "    if f > 0:\n",
    "        print(point,\" belongs to Class 1\")\n",
    "    else:\n",
    "        print(point,\" belongs to Class -1\")   \n"
   ]
  },
  {
   "cell_type": "code",
   "execution_count": null,
   "metadata": {},
   "outputs": [],
   "source": [
    "# We create 10 examples five for class -1 and five for class 1\n",
    "X = list([[-3,-2],[-2,3],[-1,-4],[2,4],[3,4],[-1,9],[2,14],[1,17],[3,12],[0,8]])\n",
    "Y  = list([-1,-1,-1,-1,-1,1,1,1,1,1])\n",
    "b,alphas = simplifiedSMO(X, Y, 0.6, 0.001, 40)\n",
    "w = computeW(alphas,X,Y)\n",
    "# test with the data point (3, 4)\n",
    "plotLinearClassifier([3,4], w, alphas, b, X, Y)"
   ]
  },
  {
   "cell_type": "markdown",
   "metadata": {},
   "source": [
    "## In lab exercise\n",
    "\n",
    "Apply the SMO code above to the dataset from Exercise 1. Report your results in your lab report.\n",
    "\n",
    "## Take home exercise\n",
    "\n",
    "Modify the SMO code above to use a kernel other than the linear kernel, and apply it to the annulus dataset from Exercise 1.\n",
    "Report your results in your lab report.\n"
   ]
  },
  {
   "cell_type": "code",
   "execution_count": null,
   "metadata": {},
   "outputs": [],
   "source": []
  }
 ],
 "metadata": {
  "kernelspec": {
   "display_name": "Python 3",
   "language": "python",
   "name": "python3"
  },
  "language_info": {
   "codemirror_mode": {
    "name": "ipython",
    "version": 3
   },
   "file_extension": ".py",
   "mimetype": "text/x-python",
   "name": "python",
   "nbconvert_exporter": "python",
   "pygments_lexer": "ipython3",
   "version": "3.8.8"
  }
 },
 "nbformat": 4,
 "nbformat_minor": 4
}
