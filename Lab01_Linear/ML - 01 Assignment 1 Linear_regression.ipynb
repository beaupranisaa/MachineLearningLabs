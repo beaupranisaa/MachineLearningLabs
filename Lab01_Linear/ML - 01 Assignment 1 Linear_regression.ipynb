{
 "cells": [
  {
   "cell_type": "markdown",
   "metadata": {
    "_uuid": "a01b84992af5f7dd1ef56cd4297a2431afa426ca"
   },
   "source": [
    "# Assignment Linear Regression and Normal Equation"
   ]
  },
  {
   "cell_type": "markdown",
   "metadata": {},
   "source": [
    "#### Name: Pranisaa Charnparttaravanit, ID: st121720"
   ]
  },
  {
   "cell_type": "markdown",
   "metadata": {},
   "source": [
    "This assignment illustrates how linear regression and normal equation analysis are performed on a data set called \"CarPrice_Assignment\". This data set includes 3 independent variable x-es (engine size, horse power and peak rmp) and a dependent y (price).\n",
    "\n",
    "The followings will include brief explations of the steps of both analysis as well as an evaluation of the results."
   ]
  },
  {
   "cell_type": "markdown",
   "metadata": {},
   "source": [
    "### Import libraries"
   ]
  },
  {
   "cell_type": "code",
   "execution_count": 21,
   "metadata": {
    "_uuid": "d83c9ce99c989b988eea03d33811483797f96065"
   },
   "outputs": [],
   "source": [
    "import matplotlib.pyplot as plt\n",
    "import numpy as np\n",
    "import pandas as pd"
   ]
  },
  {
   "cell_type": "markdown",
   "metadata": {},
   "source": [
    "### Define functions\n",
    "In this assignment, the required functions are as follows:\n",
    "1. The function of hypothesis evaluation\n",
    "2. The cost function\n",
    "3. The gradient descent of cost function"
   ]
  },
  {
   "cell_type": "markdown",
   "metadata": {},
   "source": [
    "#### Funtion 1: Evaluation of hypothesis"
   ]
  },
  {
   "cell_type": "code",
   "execution_count": 22,
   "metadata": {},
   "outputs": [],
   "source": [
    "def h(X,theta):\n",
    "    return X.dot(theta)"
   ]
  },
  {
   "cell_type": "markdown",
   "metadata": {},
   "source": [
    "#### Function 2: Cost function"
   ]
  },
  {
   "cell_type": "code",
   "execution_count": 23,
   "metadata": {},
   "outputs": [],
   "source": [
    "def cost(theta, X, y):\n",
    "    return (h(X, theta) - y).T.dot(h(X, theta) - y)/2"
   ]
  },
  {
   "cell_type": "markdown",
   "metadata": {},
   "source": [
    "#### Function 3: Gradient of cost function"
   ]
  },
  {
   "cell_type": "code",
   "execution_count": 24,
   "metadata": {},
   "outputs": [],
   "source": [
    "def gradient(X, y, theta):\n",
    "    grad = X.T.dot(h(X, theta) - y)\n",
    "    return grad\n",
    "\n",
    "def gradient_descent(X, y, theta_initial, alpha, num_iters):\n",
    "    J_per_iter = np.zeros(num_iters)\n",
    "    gradient_per_iter = np.zeros((num_iters,len(theta_initial)))\n",
    "    theta = theta_initial\n",
    "    for iter in np.arange(num_iters):\n",
    "        grad = gradient(X, y, theta)\n",
    "        theta = theta - alpha * grad # going to the opposite direction --> double check\n",
    "        J_per_iter[iter] = cost(theta, X, y)\n",
    "        gradient_per_iter[iter] = grad.T\n",
    "    return (theta, J_per_iter, gradient_per_iter)"
   ]
  },
  {
   "cell_type": "markdown",
   "metadata": {},
   "source": [
    "## Import file"
   ]
  },
  {
   "cell_type": "code",
   "execution_count": 25,
   "metadata": {},
   "outputs": [],
   "source": [
    "raw_data = pd.read_csv(\"CarPrice_Assignment.csv\", sep=',')\n",
    "raw_data = raw_data.dropna()"
   ]
  },
  {
   "cell_type": "code",
   "execution_count": 26,
   "metadata": {},
   "outputs": [
    {
     "data": {
      "text/html": [
       "<div>\n",
       "<style scoped>\n",
       "    .dataframe tbody tr th:only-of-type {\n",
       "        vertical-align: middle;\n",
       "    }\n",
       "\n",
       "    .dataframe tbody tr th {\n",
       "        vertical-align: top;\n",
       "    }\n",
       "\n",
       "    .dataframe thead th {\n",
       "        text-align: right;\n",
       "    }\n",
       "</style>\n",
       "<table border=\"1\" class=\"dataframe\">\n",
       "  <thead>\n",
       "    <tr style=\"text-align: right;\">\n",
       "      <th></th>\n",
       "      <th>enginesize</th>\n",
       "      <th>horsepower</th>\n",
       "      <th>peakrpm</th>\n",
       "      <th>price</th>\n",
       "    </tr>\n",
       "  </thead>\n",
       "  <tbody>\n",
       "    <tr>\n",
       "      <th>0</th>\n",
       "      <td>130</td>\n",
       "      <td>111</td>\n",
       "      <td>5000</td>\n",
       "      <td>13495.0</td>\n",
       "    </tr>\n",
       "    <tr>\n",
       "      <th>1</th>\n",
       "      <td>130</td>\n",
       "      <td>111</td>\n",
       "      <td>5000</td>\n",
       "      <td>16500.0</td>\n",
       "    </tr>\n",
       "    <tr>\n",
       "      <th>2</th>\n",
       "      <td>152</td>\n",
       "      <td>154</td>\n",
       "      <td>5000</td>\n",
       "      <td>16500.0</td>\n",
       "    </tr>\n",
       "    <tr>\n",
       "      <th>3</th>\n",
       "      <td>109</td>\n",
       "      <td>102</td>\n",
       "      <td>5500</td>\n",
       "      <td>13950.0</td>\n",
       "    </tr>\n",
       "    <tr>\n",
       "      <th>4</th>\n",
       "      <td>136</td>\n",
       "      <td>115</td>\n",
       "      <td>5500</td>\n",
       "      <td>17450.0</td>\n",
       "    </tr>\n",
       "  </tbody>\n",
       "</table>\n",
       "</div>"
      ],
      "text/plain": [
       "   enginesize  horsepower  peakrpm    price\n",
       "0         130         111     5000  13495.0\n",
       "1         130         111     5000  16500.0\n",
       "2         152         154     5000  16500.0\n",
       "3         109         102     5500  13950.0\n",
       "4         136         115     5500  17450.0"
      ]
     },
     "execution_count": 26,
     "metadata": {},
     "output_type": "execute_result"
    }
   ],
   "source": [
    "raw_data.head()"
   ]
  },
  {
   "cell_type": "markdown",
   "metadata": {},
   "source": [
    "### Define independent x variables and dependent y\n",
    "\n",
    "Retrieving data under columns called \"enginesize\", \"horsepower\" and \"peakrpm\" from the csv file and store them in ind_x.\n",
    "The data under column called price are stored in def_y_orig \n"
   ]
  },
  {
   "cell_type": "code",
   "execution_count": 27,
   "metadata": {},
   "outputs": [],
   "source": [
    "cols = ['enginesize','horsepower','peakrpm']\n",
    "ind_x = np.array(raw_data[cols],dtype = float)\n",
    "dep_y_orig= np.array(raw_data['price'])\n",
    "#print(ind_x)\n",
    "#print(dep_y_orig)"
   ]
  },
  {
   "cell_type": "markdown",
   "metadata": {},
   "source": [
    "## Model 1: Gradient descent"
   ]
  },
  {
   "cell_type": "markdown",
   "metadata": {},
   "source": [
    "### Normalize x and y values\n",
    "\n",
    "Since the data from the data set are not in the same scale, it is essential to normalize them before importing them into the linear regression model"
   ]
  },
  {
   "cell_type": "code",
   "execution_count": 28,
   "metadata": {},
   "outputs": [],
   "source": [
    "x_mean=np.mean(ind_x, axis = 0)\n",
    "x_sd=np.std(ind_x, axis = 0)\n",
    "ind_x = (ind_x-x_mean)/x_sd\n",
    "#print(ind_x)\n",
    "\n",
    "y_mean = np.mean(dep_y_orig,axis =0)\n",
    "y_std = np.std(dep_y_orig,axis = 0)\n",
    "dep_y1 = (dep_y_orig-y_mean)/y_std\n",
    "#print(dep_y1)"
   ]
  },
  {
   "cell_type": "markdown",
   "metadata": {},
   "source": [
    "### Reshape dep_y and addition of dummy in X"
   ]
  },
  {
   "cell_type": "code",
   "execution_count": 29,
   "metadata": {},
   "outputs": [],
   "source": [
    "y = np.array(dep_y1).reshape(-1,1)\n",
    "#print(y)\n",
    "\n",
    "X = ind_x[:,:]\n",
    "X = np.insert(X,0,1,axis =1)\n",
    "#print(X)"
   ]
  },
  {
   "cell_type": "markdown",
   "metadata": {},
   "source": [
    "### Initialize thetas\n",
    "\n",
    "Thetas are assumed to be equal to 0"
   ]
  },
  {
   "cell_type": "code",
   "execution_count": 30,
   "metadata": {},
   "outputs": [
    {
     "name": "stdout",
     "output_type": "stream",
     "text": [
      "(205, 4) (205, 1) (4, 1)\n"
     ]
    }
   ],
   "source": [
    "theta_initial = np.zeros((X.shape[1],1))\n",
    "\n",
    "#Check shapes\n",
    "a = theta_initial.shape\n",
    "b = X.shape\n",
    "c = y.shape\n",
    "print(b,c,a)"
   ]
  },
  {
   "cell_type": "markdown",
   "metadata": {},
   "source": [
    "### Find the actual thetas\n",
    "\n",
    "In this case, alpha is taken as 0.00005 as an input to gredient_descent function with the iterations of 10000. These two values are assumed to be suitable to find the real theta for this data set. "
   ]
  },
  {
   "cell_type": "code",
   "execution_count": 31,
   "metadata": {},
   "outputs": [
    {
     "name": "stdout",
     "output_type": "stream",
     "text": [
      "Theta values  [[9.30311383e-17]\n",
      " [6.91562226e-01]\n",
      " [2.41277910e-01]\n",
      " [5.23053184e-02]]\n"
     ]
    }
   ],
   "source": [
    "alpha = 0.00005\n",
    "iterations = 10000\n",
    "\n",
    "theta, costs, grad = gradient_descent(X,y,theta_initial,alpha,iterations)\n",
    "print('Theta values ', theta) "
   ]
  },
  {
   "cell_type": "markdown",
   "metadata": {},
   "source": [
    "### Visualize the loss"
   ]
  },
  {
   "cell_type": "code",
   "execution_count": 32,
   "metadata": {},
   "outputs": [
    {
     "data": {
      "image/png": "[encoded data removed]",
      "text/plain": [
       "<Figure size 432x288 with 1 Axes>"
      ]
     },
     "metadata": {
      "needs_background": "light"
     },
     "output_type": "display_data"
    }
   ],
   "source": [
    "x_loss = np.arange(0,iterations,1)\n",
    "\n",
    "plt.plot(x_loss, costs, 'b-')\n",
    "plt.xlabel('iterations')\n",
    "plt.ylabel('loss')\n",
    "plt.show()"
   ]
  },
  {
   "cell_type": "markdown",
   "metadata": {},
   "source": [
    "### Goodness of fit"
   ]
  },
  {
   "cell_type": "code",
   "execution_count": 33,
   "metadata": {},
   "outputs": [
    {
     "name": "stdout",
     "output_type": "stream",
     "text": [
      "0.7950517888171817\n"
     ]
    }
   ],
   "source": [
    "y_predicted =  h(X,theta)\n",
    "r_square = 1 - np.square(dep_y1 - y_predicted.T).sum()/np.square(dep_y1 - y.mean()).sum()\n",
    "print(r_square)"
   ]
  },
  {
   "cell_type": "markdown",
   "metadata": {},
   "source": [
    "### Compute mean and standard deviation of data"
   ]
  },
  {
   "cell_type": "code",
   "execution_count": 34,
   "metadata": {},
   "outputs": [
    {
     "name": "stdout",
     "output_type": "stream",
     "text": [
      "std 7969.34350572002\n",
      "mean 13276.710570731706\n"
     ]
    }
   ],
   "source": [
    "# Compute mean and standard deviation of data\n",
    "sigma = np.array(np.std(dep_y_orig, axis=0))\n",
    "mu = np.array(np.mean(dep_y_orig))\n",
    "print(\"std\",sigma)\n",
    "print(\"mean\",mu)"
   ]
  },
  {
   "cell_type": "markdown",
   "metadata": {},
   "source": [
    "### De-normalize y"
   ]
  },
  {
   "cell_type": "code",
   "execution_count": 35,
   "metadata": {},
   "outputs": [
    {
     "name": "stdout",
     "output_type": "stream",
     "text": [
      "The values of the predicted y are: \n",
      "[[13912.90873595]\n",
      " [13912.90873595]\n",
      " [18927.66048882]\n",
      " [11126.13899332]\n",
      " [15341.93255386]]\n",
      "The values of the actual y are: \n",
      "[[13495.]\n",
      " [16500.]\n",
      " [16500.]\n",
      " [13950.]\n",
      " [17450.]]\n"
     ]
    }
   ],
   "source": [
    "y_predicted =  h(X, theta)* sigma + mu\n",
    "\n",
    "print(\"The values of the predicted y are: \")\n",
    "print(y_predicted[0:5,:])\n",
    "print(\"The values of the actual y are: \")\n",
    "print(dep_y_orig[0:5].reshape(-1,1))"
   ]
  },
  {
   "cell_type": "markdown",
   "metadata": {},
   "source": [
    "## Model 2: Normal Equation"
   ]
  },
  {
   "cell_type": "markdown",
   "metadata": {},
   "source": [
    "### Find Thetas"
   ]
  },
  {
   "cell_type": "code",
   "execution_count": 36,
   "metadata": {},
   "outputs": [
    {
     "name": "stdout",
     "output_type": "stream",
     "text": [
      "[[13276.71057073]\n",
      " [ 5511.3184271 ]\n",
      " [ 1922.80565281]\n",
      " [  416.84803918]]\n"
     ]
    }
   ],
   "source": [
    "theta_normeqt = np.linalg.inv(X.T.dot(X)).dot(X.T).dot(dep_y_orig.reshape(-1,1)) # normal equation\n",
    "print(theta_normeqt)"
   ]
  },
  {
   "cell_type": "code",
   "execution_count": 37,
   "metadata": {},
   "outputs": [
    {
     "name": "stdout",
     "output_type": "stream",
     "text": [
      "The values of the predicted y from normal equation are: \n",
      "[[13912.90432724]\n",
      " [13912.90432724]\n",
      " [18927.64469094]\n",
      " [11126.13793288]\n",
      " [15341.93857703]]\n",
      "The values of the actual y are: \n",
      "[[13495.]\n",
      " [16500.]\n",
      " [16500.]\n",
      " [13950.]\n",
      " [17450.]]\n"
     ]
    }
   ],
   "source": [
    "y_predicted_normeqt =  h(X, theta_normeqt)\n",
    "\n",
    "print(\"The values of the predicted y from normal equation are: \")\n",
    "print(y_predicted_normeqt[0:5,:])\n",
    "print(\"The values of the actual y are: \")\n",
    "print(dep_y_orig[0:5].reshape(-1,1))\n"
   ]
  },
  {
   "cell_type": "markdown",
   "metadata": {},
   "source": [
    "## Analysis and Evaluation\n",
    "\n",
    "To evaluate the accuracy of the models, the percentage of deviation was calculated."
   ]
  },
  {
   "cell_type": "markdown",
   "metadata": {},
   "source": [
    "#### Devation of gradient descent model"
   ]
  },
  {
   "cell_type": "code",
   "execution_count": 38,
   "metadata": {},
   "outputs": [
    {
     "name": "stdout",
     "output_type": "stream",
     "text": [
      "[[0.03096767]\n",
      " [0.15679341]\n",
      " [0.14713094]\n",
      " [0.20242731]\n",
      " [0.12080616]]\n"
     ]
    }
   ],
   "source": [
    "diff = abs((y_predicted-dep_y_orig.reshape(-1, 1))/dep_y_orig.reshape(-1,1))\n",
    "print(diff[:5].reshape(-1,1))\n"
   ]
  },
  {
   "cell_type": "markdown",
   "metadata": {},
   "source": [
    "#### Devation of normal equation model"
   ]
  },
  {
   "cell_type": "code",
   "execution_count": 39,
   "metadata": {},
   "outputs": [
    {
     "name": "stdout",
     "output_type": "stream",
     "text": [
      "[[0.03096735]\n",
      " [0.15679368]\n",
      " [0.14712998]\n",
      " [0.20242739]\n",
      " [0.12080581]]\n"
     ]
    }
   ],
   "source": [
    "diff2 = abs((y_predicted_normeqt-dep_y_orig.reshape(-1, 1))/dep_y_orig.reshape(-1,1))\n",
    "print(diff2[:5].reshape(-1, 1))\n"
   ]
  },
  {
   "cell_type": "code",
   "execution_count": 40,
   "metadata": {},
   "outputs": [
    {
     "name": "stdout",
     "output_type": "stream",
     "text": [
      "0.7804878048780488\n",
      "0.7804878048780488\n"
     ]
    }
   ],
   "source": [
    "def acc(diff,c):\n",
    "    filter_list = list(filter(lambda x:x<=c,diff))\n",
    "    return len(filter_list)\n",
    "print(acc(diff,0.3)/len(ind_x))\n",
    "print(acc(diff2,0.3)/len(ind_x))\n"
   ]
  },
  {
   "cell_type": "markdown",
   "metadata": {},
   "source": [
    "As shown above, both models have exactly the same accuracy. "
   ]
  },
  {
   "cell_type": "code",
   "execution_count": null,
   "metadata": {},
   "outputs": [],
   "source": []
  }
 ],
 "metadata": {
  "kernelspec": {
   "display_name": "Python 3",
   "language": "python",
   "name": "python3"
  },
  "language_info": {
   "codemirror_mode": {
    "name": "ipython",
    "version": 3
   },
   "file_extension": ".py",
   "mimetype": "text/x-python",
   "name": "python",
   "nbconvert_exporter": "python",
   "pygments_lexer": "ipython3",
   "version": "3.8.3"
  }
 },
 "nbformat": 4,
 "nbformat_minor": 4
}
