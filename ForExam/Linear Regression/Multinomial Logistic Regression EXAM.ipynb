{
 "cells": [
  {
   "cell_type": "markdown",
   "metadata": {},
   "source": [
    "# Multinomial Logistic Regression"
   ]
  },
  {
   "cell_type": "markdown",
   "metadata": {},
   "source": [
    "### Import Libraries"
   ]
  },
  {
   "cell_type": "code",
   "execution_count": 1,
   "metadata": {},
   "outputs": [],
   "source": [
    "import numpy as np\n",
    "import matplotlib.pyplot as plt\n",
    "from sklearn.linear_model import LogisticRegression\n",
    "from sklearn import datasets\n",
    "from sklearn.model_selection import train_test_split\n",
    "from sklearn.preprocessing import StandardScaler"
   ]
  },
  {
   "cell_type": "markdown",
   "metadata": {},
   "source": [
    "### Load Data"
   ]
  },
  {
   "cell_type": "code",
   "execution_count": 2,
   "metadata": {},
   "outputs": [],
   "source": [
    "# import some data to play with\n",
    "iris = datasets.load_iris()\n",
    "X = iris.data[:, 2:]  # we only take the first two features.\n",
    "y = iris.target  #now our y is three classes thus require multinomial"
   ]
  },
  {
   "cell_type": "markdown",
   "metadata": {},
   "source": [
    "### Normalization/ Standardization"
   ]
  },
  {
   "cell_type": "code",
   "execution_count": 3,
   "metadata": {},
   "outputs": [],
   "source": [
    "#feature scaling helps improve reach convergence faster\n",
    "scaler = StandardScaler()\n",
    "X = scaler.fit_transform(X)"
   ]
  },
  {
   "cell_type": "markdown",
   "metadata": {},
   "source": [
    "### Split Train and Test & Addition of Intercept"
   ]
  },
  {
   "cell_type": "code",
   "execution_count": 4,
   "metadata": {},
   "outputs": [],
   "source": [
    "#data split\n",
    "X_train, X_test, y_train, y_test = train_test_split(X, y, test_size=0.3)\n",
    "\n",
    "#add intercept to our X\n",
    "intercept = np.ones((X_train.shape[0], 1))\n",
    "X_train = np.concatenate((intercept, X_train), axis=1)  #add intercept\n",
    "intercept = np.ones((X_test.shape[0], 1))\n",
    "X_test = np.concatenate((intercept, X_test), axis=1)  #add intercept\n",
    "# print(y.shape)"
   ]
  },
  {
   "cell_type": "markdown",
   "metadata": {},
   "source": [
    "### Modify y"
   ]
  },
  {
   "cell_type": "code",
   "execution_count": 22,
   "metadata": {},
   "outputs": [
    {
     "name": "stdout",
     "output_type": "stream",
     "text": [
      "3\n"
     ]
    }
   ],
   "source": [
    "# y (n, k)\n",
    "#The values in the matrix will be 0 or 1. For instance the rows \n",
    "#where we have output 2 the column 2 will contain 1 and rest all 0.\n",
    "#in simple words, y will be of shape (m, k)\n",
    "#no. of class  (can also use np.unique)\n",
    "k = len(set(y))\n",
    "print(k)\n",
    "\n",
    "m = X_train.shape[0]  #no.of samples\n",
    "n = X_train.shape[1]  #no. of features\n",
    "\n",
    "#First make 0s\n",
    "y_train_encoded = np.zeros((m, k))\n",
    "for each_class in range(k):\n",
    "    # if y_train == that class name, then change to 1\n",
    "    cond = y_train==each_class\n",
    "    # row, where condition is met = the nth row of y,each_class indicates the column, eg class =  1 then column 1\n",
    "    #collect row index where condition is met\n",
    "    y_train_encoded[np.where(cond), each_class] = 1\n",
    "\n",
    "y_test_encoded = np.zeros((X_test.shape[0],k))\n",
    "for each_class in range(k):\n",
    "    # if y_train == that class name, then change to 1\n",
    "    cond = y_test==each_class\n",
    "    # row, where condition is met = the nth row of y,each_class indicates the column, eg class =  1 then column 1\n",
    "    #collect row index where condition is met\n",
    "    y_test_encoded [np.where(cond), each_class] = 1\n",
    "    \n",
    "# print(y_train_encoded)"
   ]
  },
  {
   "cell_type": "markdown",
   "metadata": {},
   "source": [
    "#### Plot:  Visualize our data"
   ]
  },
  {
   "cell_type": "code",
   "execution_count": 6,
   "metadata": {},
   "outputs": [
    {
     "data": {
      "image/png": "[encoded data removed]",
      "text/plain": [
       "<Figure size 432x432 with 1 Axes>"
      ]
     },
     "metadata": {
      "needs_background": "light"
     },
     "output_type": "display_data"
    }
   ],
   "source": [
    "plt.figure(figsize=(6,6))\n",
    "plt.scatter(X[:, 0], X[:, 1], label='class 0', c=y)\n",
    "# plt.legend()\n",
    "plt.show()"
   ]
  },
  {
   "cell_type": "markdown",
   "metadata": {},
   "source": [
    "### Initializing Theta"
   ]
  },
  {
   "cell_type": "code",
   "execution_count": 7,
   "metadata": {},
   "outputs": [
    {
     "name": "stdout",
     "output_type": "stream",
     "text": [
      "[[0.17934835 0.38512705 0.03728981]\n",
      " [0.72068125 0.74916818 0.85591554]\n",
      " [0.58603467 0.04695144 0.0442977 ]]\n"
     ]
    }
   ],
   "source": [
    "# Initializing theta\n",
    "# k = len(set(y)) \n",
    "\n",
    "# m = X_train.shape[0]  #no.of samples\n",
    "# n = X_train.shape[1]  #no. of features\n",
    "\n",
    "theta_initial = np.random.rand(n, k)\n",
    "print(theta_initial)"
   ]
  },
  {
   "cell_type": "markdown",
   "metadata": {},
   "source": [
    "### Gradient Descent Batch"
   ]
  },
  {
   "cell_type": "code",
   "execution_count": 8,
   "metadata": {},
   "outputs": [],
   "source": [
    "import numpy as np\n",
    "from sklearn.metrics import average_precision_score, classification_report\n",
    "# from sklearn.preprocessing import StandardScaler\n",
    "\n",
    "#for those who tend to feel overwhelmed with lots of code\n",
    "#I recommend you to write each part of the code separately as function\n",
    "#it helps!\n",
    "def gradient(X, y, theta):\n",
    "    m = X.shape[0]\n",
    "    h = h_theta(X, theta)\n",
    "    cost = -np.sum(y*np.log(h))/m\n",
    "    error = h - y\n",
    "    grad = softmax_grad(X, error)\n",
    "    return cost, grad\n",
    "\n",
    "def softmax(x):\n",
    "    return np.exp(x) / np.sum(np.exp(x), axis=1, keepdims=True)\n",
    "\n",
    "def softmax_grad(X, error):\n",
    "    return  X.T @ error\n",
    "        \n",
    "\n",
    "def h_theta(X, theta):\n",
    "    '''\n",
    "    Input:\n",
    "        X shape: (m, n)\n",
    "        w shape: (n, k)\n",
    "    Returns:\n",
    "        yhat shape: (m, k)\n",
    "    '''\n",
    "#     print(\"X@w: \", (X @ w)[:5])\n",
    "#     print(\"Softmax: \", softmax(X @ w)[:5])\n",
    "    return softmax(X @ theta)\n",
    "\n",
    "#for early stopping\n",
    "def delta_loss(loss_new, loss_old, tol):\n",
    "    return np.abs(loss_new - loss_old) < tol\n",
    "\n",
    "def logistic_regression_GD(X_train, y_train,X_test,y_test,theta_initial, k, n,alpha, max_iter=1000):\n",
    "    '''\n",
    "    Inputs: \n",
    "        X shape: (m, n)\n",
    "        w shape: (n, k)\n",
    "    '''\n",
    "    theta = theta_initial\n",
    "    tol = 0.0001\n",
    "    loss_history_train = []\n",
    "    loss_history_test = []\n",
    "    cost_train_old = np.inf\n",
    "    iter_stop = 0\n",
    "    for i in range(max_iter):\n",
    "#         loss_new_train = get_loss(X_train,y_train,theta)\n",
    "#         los_test = get_loss(X_test,y_test,theta)\n",
    "        \n",
    "        cost_train_new, grad_train =  gradient(X_train, y_train, theta)\n",
    "        cost_test,_ = gradient(X_test,y_test,theta)\n",
    "        if delta_loss(cost_train_new, cost_train_old,tol):\n",
    "            diff = np.abs(cost_train_new - cost_train_old)\n",
    "            iter_stop = i\n",
    "            print(\"stop at \",iter_stop)\n",
    "            break\n",
    "        cost_train_old = cost_train_new\n",
    "        \n",
    "        if i % 100 == 0:\n",
    "            print(f\"Cost at iteration {i}\", cost_train_old)\n",
    "        loss_history_train.append(cost_train_old)\n",
    "        loss_history_test.append(cost_test)\n",
    "        \n",
    "        theta = theta - alpha * grad_train\n",
    "        \n",
    "    return loss_history_train,loss_history_test, theta, iter_stop,diff\n",
    "\n",
    "# pred = np.argmax(h_theta(X_test, w), axis=1)\n",
    "\n",
    "# print(\"Report: \", classification_report(y_test, pred))"
   ]
  },
  {
   "cell_type": "code",
   "execution_count": 18,
   "metadata": {},
   "outputs": [],
   "source": [
    "import numpy as np\n",
    "from sklearn.metrics import average_precision_score, classification_report\n",
    "# from sklearn.preprocessing import StandardScaler\n",
    "\n",
    "#for those who tend to feel overwhelmed with lots of code\n",
    "#I recommend you to write each part of the code separately as function\n",
    "#it helps!\n",
    "def gradient(X, y, theta):\n",
    "    m = X.shape[0]\n",
    "    h = h_theta(X, theta)\n",
    "    cost = -np.sum(y*np.log(h))/m\n",
    "    error = h - y\n",
    "    grad = softmax_grad(X, error)\n",
    "    return cost, grad\n",
    "\n",
    "def softmax(x):\n",
    "    return np.exp(x) / np.sum(np.exp(x), axis=1, keepdims=True)\n",
    "\n",
    "def softmax_grad(X, error):\n",
    "    return  X.T @ error\n",
    "        \n",
    "def h_theta(X, theta):\n",
    "    '''\n",
    "    Input:\n",
    "        X shape: (m, n)\n",
    "        w shape: (n, k)\n",
    "    Returns:\n",
    "        yhat shape: (m, k)\n",
    "    '''\n",
    "#     print(\"X@w: \", (X @ w)[:5])\n",
    "#     print(\"Softmax: \", softmax(X @ w)[:5])\n",
    "    return softmax(X @ theta)\n",
    "\n",
    "#for early stopping\n",
    "def delta_loss(loss_new, loss_old, tol):\n",
    "    return np.abs(loss_new - loss_old) < tol\n",
    "\n",
    "def logistic_regression_GD_mini(X_train, y_train,X_test,y_test,theta_initial, k, n,alpha, max_iter=1000):\n",
    "    '''\n",
    "    Inputs: \n",
    "        X shape: (m, n)\n",
    "        w shape: (n, k)\n",
    "    '''\n",
    "    theta = theta_initial\n",
    "    tol = 0.0001\n",
    "    loss_history_train = []\n",
    "    loss_history_test = []\n",
    "    cost_train_old = np.inf\n",
    "    iter_stop = 0\n",
    "    batch_train = int(0.1*X_train.shape[0])\n",
    "    batch_test = int(0.1*X_test.shape[0])  \n",
    "    # Random index\n",
    "    idx = np.random.randint(X_train.shape[0])\n",
    "    idx_test = np.random.randint(X_test.shape[0])    \n",
    "    for i in range(max_iter):\n",
    "        X_train_batch = X_train[idx:idx+batch_train]\n",
    "#         print(X_train_batch.shape)\n",
    "        y_train_batch = y_train[idx:idx+batch_train]\n",
    "        X_test_batch = X_test[idx_test:idx_test+batch_test]\n",
    "        y_test_batch = y_test[idx_test:idx_test+batch_test]          \n",
    "\n",
    "        cost_train_new, grad_train =  gradient(X_train_batch, y_train_batch, theta)\n",
    "        cost_test,_ = gradient(X_test_batch,y_test_batch,theta)\n",
    "        if delta_loss(cost_train_new, cost_train_old,tol):\n",
    "            diff = np.abs(cost_train_new - cost_train_old)\n",
    "            iter_stop = i\n",
    "            print(\"stop at \",iter_stop)\n",
    "            break\n",
    "        cost_train_old = cost_train_new\n",
    "        \n",
    "        if i % 100 == 0:\n",
    "            print(f\"Cost at iteration {i}\", cost_train_old)\n",
    "        loss_history_train.append(cost_train_old)\n",
    "        loss_history_test.append(cost_test)\n",
    "        \n",
    "        theta = theta - alpha * grad_train\n",
    "        \n",
    "    return loss_history_train,loss_history_test, theta, iter_stop,diff\n",
    "\n",
    "# pred = np.argmax(h_theta(X_test, w), axis=1)\n",
    "\n",
    "# print(\"Report: \", classification_report(y_test, pred))"
   ]
  },
  {
   "cell_type": "code",
   "execution_count": 19,
   "metadata": {},
   "outputs": [
    {
     "name": "stdout",
     "output_type": "stream",
     "text": [
      "Cost at iteration 0 1.300897737918133\n",
      "Cost at iteration 100 0.12442055232020553\n",
      "Cost at iteration 200 0.09464216073850015\n",
      "stop at  284\n"
     ]
    }
   ],
   "source": [
    "alpha = 0.01\n",
    "cost_history_train,cost_history_test, theta, iter_stop,diff = logistic_regression_GD(X_train, y_train_encoded,X_test,y_test_encoded,theta_initial, k, n = X_train.shape[1], alpha = alpha,  max_iter=5000)\n"
   ]
  },
  {
   "cell_type": "code",
   "execution_count": 21,
   "metadata": {},
   "outputs": [
    {
     "name": "stdout",
     "output_type": "stream",
     "text": [
      "Cost at iteration 0 1.359628688075733\n",
      "Cost at iteration 100 0.46677816796324695\n",
      "Cost at iteration 200 0.35278181108377477\n",
      "Cost at iteration 300 0.2840236435381507\n",
      "Cost at iteration 400 0.23581857521140007\n",
      "Cost at iteration 500 0.2002756815007433\n",
      "Cost at iteration 600 0.17319675195719153\n",
      "Cost at iteration 700 0.15202511110969033\n",
      "Cost at iteration 800 0.13510907342170905\n",
      "Cost at iteration 900 0.12134005137179917\n",
      "Cost at iteration 1000 0.10995128890261228\n",
      "stop at  1023\n",
      "[[-0.84614142  1.63015653 -0.18224991]\n",
      " [-0.614056    0.30426696  2.635554  ]\n",
      " [-1.89168752  0.68334017  1.88563116]]\n"
     ]
    }
   ],
   "source": [
    "alpha_mini = 0.01\n",
    "cost_history_train_mini,cost_history_test_mini, theta_mini, iter_stop_mini,diff_mini = logistic_regression_GD_mini(X_train, y_train_encoded,X_test,y_test_encoded,theta_initial, k, n = X_train.shape[1], alpha = alpha_mini,  max_iter=5000)\n",
    "# print(theta_mini)"
   ]
  },
  {
   "cell_type": "markdown",
   "metadata": {},
   "source": [
    "### Batch"
   ]
  },
  {
   "cell_type": "code",
   "execution_count": 12,
   "metadata": {},
   "outputs": [
    {
     "data": {
      "text/plain": [
       "<matplotlib.legend.Legend at 0x11e7b4810>"
      ]
     },
     "execution_count": 12,
     "metadata": {},
     "output_type": "execute_result"
    },
    {
     "data": {
      "image/png": "[encoded data removed]",
      "text/plain": [
       "<Figure size 432x288 with 1 Axes>"
      ]
     },
     "metadata": {
      "needs_background": "light"
     },
     "output_type": "display_data"
    }
   ],
   "source": [
    "# Visualize the loss (cost_history)\n",
    "plt.plot(cost_history_train,'b', label=\"train data\")\n",
    "plt.plot(cost_history_test,'r', label=\"test data\")\n",
    "plt.xlabel(\"Iterations\")\n",
    "plt.ylabel(\"cost\")\n",
    "plt.title(\"Training cost over time\")\n",
    "plt.legend()"
   ]
  },
  {
   "cell_type": "markdown",
   "metadata": {},
   "source": [
    "### Mini"
   ]
  },
  {
   "cell_type": "code",
   "execution_count": 13,
   "metadata": {},
   "outputs": [
    {
     "data": {
      "text/plain": [
       "<matplotlib.legend.Legend at 0x11f01dad0>"
      ]
     },
     "execution_count": 13,
     "metadata": {},
     "output_type": "execute_result"
    },
    {
     "data": {
      "image/png": "[encoded data removed]",
      "text/plain": [
       "<Figure size 432x288 with 1 Axes>"
      ]
     },
     "metadata": {
      "needs_background": "light"
     },
     "output_type": "display_data"
    }
   ],
   "source": [
    "# Visualize the loss (cost_history)\n",
    "plt.plot(cost_history_train_mini,'b', label=\"train data\")\n",
    "plt.plot(cost_history_test_mini,'r', label=\"test data\")\n",
    "plt.xlabel(\"Iterations\")\n",
    "plt.ylabel(\"cost\")\n",
    "plt.title(\"Training cost over time\")\n",
    "plt.legend()"
   ]
  },
  {
   "cell_type": "markdown",
   "metadata": {},
   "source": [
    "### Accuracy"
   ]
  },
  {
   "cell_type": "code",
   "execution_count": 23,
   "metadata": {},
   "outputs": [
    {
     "name": "stdout",
     "output_type": "stream",
     "text": [
      "[[1 0 0]\n",
      " [0 1 0]\n",
      " [0 0 1]\n",
      " [0 1 0]\n",
      " [0 1 0]\n",
      " [0 1 0]\n",
      " [0 1 0]\n",
      " [1 0 0]\n",
      " [1 0 0]\n",
      " [0 1 0]\n",
      " [0 0 1]\n",
      " [0 0 1]\n",
      " [1 0 0]\n",
      " [0 0 1]\n",
      " [0 1 0]\n",
      " [0 1 0]\n",
      " [0 0 1]\n",
      " [1 0 0]\n",
      " [0 1 0]\n",
      " [1 0 0]\n",
      " [1 0 0]\n",
      " [0 0 1]\n",
      " [0 1 0]\n",
      " [0 1 0]\n",
      " [1 0 0]\n",
      " [1 0 0]\n",
      " [0 1 0]\n",
      " [0 0 1]\n",
      " [0 1 0]\n",
      " [0 0 1]\n",
      " [0 1 0]\n",
      " [0 0 1]\n",
      " [1 0 0]\n",
      " [0 1 0]\n",
      " [0 0 1]\n",
      " [1 0 0]\n",
      " [1 0 0]\n",
      " [0 0 1]\n",
      " [0 0 1]\n",
      " [0 1 0]\n",
      " [1 0 0]\n",
      " [0 1 0]\n",
      " [1 0 0]\n",
      " [0 0 1]\n",
      " [0 1 0]\n",
      " [0 0 1]\n",
      " [0 1 0]\n",
      " [1 0 0]\n",
      " [1 0 0]\n",
      " [1 0 0]\n",
      " [0 1 0]\n",
      " [1 0 0]\n",
      " [1 0 0]\n",
      " [1 0 0]\n",
      " [0 0 1]\n",
      " [0 0 1]\n",
      " [1 0 0]\n",
      " [1 0 0]\n",
      " [0 0 1]\n",
      " [0 0 1]\n",
      " [0 1 0]\n",
      " [0 0 1]\n",
      " [1 0 0]\n",
      " [1 0 0]\n",
      " [0 0 1]\n",
      " [0 1 0]\n",
      " [0 1 0]\n",
      " [0 0 1]\n",
      " [1 0 0]\n",
      " [0 0 1]\n",
      " [1 0 0]\n",
      " [0 1 0]\n",
      " [0 0 1]\n",
      " [0 0 1]\n",
      " [0 1 0]\n",
      " [0 0 1]\n",
      " [0 1 0]\n",
      " [0 1 0]\n",
      " [0 1 0]\n",
      " [0 0 1]\n",
      " [0 1 0]\n",
      " [1 0 0]\n",
      " [0 1 0]\n",
      " [1 0 0]\n",
      " [0 1 0]\n",
      " [1 0 0]\n",
      " [0 1 0]\n",
      " [0 0 1]\n",
      " [0 0 1]\n",
      " [0 0 1]\n",
      " [1 0 0]\n",
      " [1 0 0]\n",
      " [0 1 0]\n",
      " [0 1 0]\n",
      " [0 0 1]\n",
      " [0 1 0]\n",
      " [1 0 0]\n",
      " [0 1 0]\n",
      " [0 0 1]\n",
      " [1 0 0]\n",
      " [0 0 1]\n",
      " [0 1 0]\n",
      " [1 0 0]\n",
      " [0 0 1]\n",
      " [0 1 0]]\n",
      "Got train set soft R^2 0.9394, hard R^2 0.8857, accuracy 0.97\n",
      "Got test set soft R^2 0.8898, hard R^2 0.8000, accuracy 0.96\n"
     ]
    }
   ],
   "source": [
    "def r_squared(y, y_pred):\n",
    "    return 1 - np.square(y - y_pred).sum() / np.square(y - y.mean()).sum()\n",
    "\n",
    "y_train_pred_soft = h_theta(X_train, theta)\n",
    "y_train_pred_hard = (y_train_pred_soft > 0.5).astype(int)\n",
    "y_test_pred_soft = h_theta(X_test, theta)\n",
    "y_test_pred_hard = (y_test_pred_soft > 0.5).astype(int)\n",
    "\n",
    "k = y_train_encoded.shape[1]\n",
    "\n",
    "train_rsq_soft = r_squared(y_train_encoded, y_train_pred_soft)\n",
    "train_rsq_hard = r_squared(y_train_encoded, y_train_pred_hard)\n",
    "train_acc = (y_train_pred_hard == y_train_encoded.astype(int)).astype(int).sum() / (k*y_train_encoded.shape[0])\n",
    "test_rsq_soft = r_squared(y_test_encoded, y_test_pred_soft)\n",
    "test_rsq_hard = r_squared(y_test_encoded, y_test_pred_hard)\n",
    "test_acc = (y_test_pred_hard == y_test_encoded.astype(int)).astype(int).sum() / (k*y_test_encoded.shape[0])\n",
    "\n",
    "print('Got train set soft R^2 %0.4f, hard R^2 %0.4f, accuracy %0.2f' % (train_rsq_soft, train_rsq_hard, train_acc))\n",
    "print('Got test set soft R^2 %0.4f, hard R^2 %0.4f, accuracy %0.2f' % (test_rsq_soft, test_rsq_hard, test_acc))"
   ]
  },
  {
   "cell_type": "markdown",
   "metadata": {},
   "source": [
    "### Plot"
   ]
  },
  {
   "cell_type": "code",
   "execution_count": null,
   "metadata": {},
   "outputs": [],
   "source": []
  },
  {
   "cell_type": "code",
   "execution_count": null,
   "metadata": {},
   "outputs": [],
   "source": [
    "# from sklearn.preprocessing import label_binarize\n",
    "# print(\"=========Average precision score=======\")\n",
    "# y_test_binarized = label_binarize(y_test, classes=[0, 1, 2, 3])\n",
    "# yhat_binarized = label_binarize(yhat, classes=[0, 1, 2, 3])\n",
    "\n",
    "# for i in range(n_classes):\n",
    "#     class_score = average_precision_score(y_test_binarized[:, i], yhat_binarized[:, i])\n",
    "#     print(f\"Class {i} score: \", class_score)"
   ]
  }
 ],
 "metadata": {
  "kernelspec": {
   "display_name": "Python 3",
   "language": "python",
   "name": "python3"
  },
  "language_info": {
   "codemirror_mode": {
    "name": "ipython",
    "version": 3
   },
   "file_extension": ".py",
   "mimetype": "text/x-python",
   "name": "python",
   "nbconvert_exporter": "python",
   "pygments_lexer": "ipython3",
   "version": "3.7.4"
  }
 },
 "nbformat": 4,
 "nbformat_minor": 4
}
