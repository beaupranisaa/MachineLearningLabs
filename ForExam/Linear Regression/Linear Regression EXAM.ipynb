{
 "cells": [
  {
   "cell_type": "markdown",
   "metadata": {},
   "source": [
    "# Linear Regression"
   ]
  },
  {
   "cell_type": "markdown",
   "metadata": {},
   "source": [
    "### Import Libraries\n"
   ]
  },
  {
   "cell_type": "code",
   "execution_count": 1,
   "metadata": {},
   "outputs": [],
   "source": [
    "import numpy as np\n",
    "import pandas as pd\n",
    "import matplotlib.pyplot as plt\n",
    "import csv\n",
    "import random"
   ]
  },
  {
   "cell_type": "markdown",
   "metadata": {},
   "source": [
    "### 1. Load Data"
   ]
  },
  {
   "cell_type": "markdown",
   "metadata": {},
   "source": [
    "##### 1.1 From .csv"
   ]
  },
  {
   "cell_type": "code",
   "execution_count": 2,
   "metadata": {},
   "outputs": [],
   "source": [
    "# data = pd.read_csv('CarPrice_Assignment.csv',delimiter = ',')\n",
    "\n",
    "# print(data)\n",
    "# headers = data[0,:]\n",
    "# print(headers)\n",
    "# data = data[1:,:]\n",
    "# print(data[:5,:])"
   ]
  },
  {
   "cell_type": "markdown",
   "metadata": {},
   "source": [
    "##### 1.2 From sklearn datasets"
   ]
  },
  {
   "cell_type": "code",
   "execution_count": 3,
   "metadata": {},
   "outputs": [],
   "source": [
    "from sklearn.datasets import load_boston"
   ]
  },
  {
   "cell_type": "markdown",
   "metadata": {},
   "source": [
    "##### 1.3 From .txt"
   ]
  },
  {
   "cell_type": "code",
   "execution_count": 4,
   "metadata": {},
   "outputs": [
    {
     "data": {
      "text/plain": [
       "'\\ndata is imported as numpy array, do not forget to remove the header\\n'"
      ]
     },
     "execution_count": 4,
     "metadata": {},
     "output_type": "execute_result"
    }
   ],
   "source": [
    "# data = np.genfromtxt('Housing_data.txt',delimiter = ',', dtype=str);\n",
    "'''\n",
    "data is imported as numpy array, do not forget to remove the header\n",
    "'''\n",
    "# data"
   ]
  },
  {
   "cell_type": "markdown",
   "metadata": {},
   "source": [
    "### 2. Extract X and y"
   ]
  },
  {
   "cell_type": "markdown",
   "metadata": {},
   "source": [
    "##### 2.1 Pandas"
   ]
  },
  {
   "cell_type": "code",
   "execution_count": 5,
   "metadata": {},
   "outputs": [],
   "source": [
    "# extract x\n",
    "# col = ['enginesize','horsepower','peakrpm']\n",
    "# X = data[col]\n",
    "# print(X.iloc[:5,:])\n",
    "\n",
    "# # extract y\n",
    "# y = data['price'] \n",
    "# print(y.iloc[:5])"
   ]
  },
  {
   "cell_type": "markdown",
   "metadata": {},
   "source": [
    "##### 2.2 Sklearn Datasets (Bunch)"
   ]
  },
  {
   "cell_type": "code",
   "execution_count": 6,
   "metadata": {},
   "outputs": [],
   "source": [
    "boston = load_boston()\n",
    "X = boston.data\n",
    "y = boston.target\n",
    "# print(X)\n",
    "# print(y)"
   ]
  },
  {
   "cell_type": "markdown",
   "metadata": {},
   "source": [
    "##### 2.3 Numpy"
   ]
  },
  {
   "cell_type": "code",
   "execution_count": 7,
   "metadata": {},
   "outputs": [],
   "source": [
    "# Extract headers and data\n",
    "# headers = raw_data[0,:];\n",
    "# print(headers)\n",
    "# data = np.array(raw_data[1:,:], dtype=float);\n",
    "# print(data)"
   ]
  },
  {
   "cell_type": "code",
   "execution_count": 8,
   "metadata": {},
   "outputs": [],
   "source": [
    "# # see headers\n",
    "# headers = data[0,:]\n",
    "# print(headers)"
   ]
  },
  {
   "cell_type": "markdown",
   "metadata": {},
   "source": [
    "### 3. Shape Checking"
   ]
  },
  {
   "cell_type": "code",
   "execution_count": 9,
   "metadata": {},
   "outputs": [
    {
     "name": "stdout",
     "output_type": "stream",
     "text": [
      "Number of samples:  506\n",
      "Number of features:  13\n"
     ]
    }
   ],
   "source": [
    "# check number of samples\n",
    "m = X.shape[0]\n",
    "print(\"Number of samples: \", m)\n",
    "# check number of features\n",
    "n = X.shape[1]\n",
    "print(\"Number of features: \", n)\n",
    "\n",
    "# check number of y\n",
    "assert m == y.shape[0]"
   ]
  },
  {
   "cell_type": "markdown",
   "metadata": {},
   "source": [
    "### 4. Cleaning data"
   ]
  },
  {
   "cell_type": "markdown",
   "metadata": {},
   "source": [
    "##### 4.1 Check for missing data"
   ]
  },
  {
   "cell_type": "code",
   "execution_count": 10,
   "metadata": {},
   "outputs": [
    {
     "name": "stdout",
     "output_type": "stream",
     "text": [
      "Missing values for train data:\n",
      "------------------------\n",
      " 0     0\n",
      "1     0\n",
      "2     0\n",
      "3     0\n",
      "4     0\n",
      "5     0\n",
      "6     0\n",
      "7     0\n",
      "8     0\n",
      "9     0\n",
      "10    0\n",
      "11    0\n",
      "12    0\n",
      "dtype: int64\n"
     ]
    }
   ],
   "source": [
    "#Pandas \n",
    "#Convert to DataFrame to check for missing data\n",
    "df = pd.DataFrame(X)\n",
    "print('Missing values for train data:\\n------------------------\\n', df.isnull().sum())"
   ]
  },
  {
   "cell_type": "markdown",
   "metadata": {},
   "source": [
    "##### 4.2 Handling Missing Values"
   ]
  },
  {
   "cell_type": "markdown",
   "metadata": {},
   "source": [
    "###### 4.2.1 Discrete"
   ]
  },
  {
   "cell_type": "markdown",
   "metadata": {},
   "source": [
    "##### Yes and No"
   ]
  },
  {
   "cell_type": "code",
   "execution_count": 11,
   "metadata": {},
   "outputs": [],
   "source": [
    "# print(data_train['Married'].value_counts())\n",
    "\n",
    "# married = data_train['Married'].value_counts()\n",
    "# print('Elements in Married variable', married.shape)\n",
    "# print('Married ratio ', married[0]/sum(married.values))\n",
    "\n",
    "# def fill_martial_status(data, yes_num_train, no_num_train):        \n",
    "#     data['Married'].fillna('Yes', inplace = True, limit = yes_num_train)\n",
    "#     data['Married'].fillna('No', inplace = True, limit = no_num_train)  \n",
    "\n",
    "# fill_martial_status(data_train, 2, 1)\n",
    "# print(data_train['Married'].value_counts()) \n",
    "# print('Missing values for train data:\\n------------------------\\n', data_train.isnull().sum())"
   ]
  },
  {
   "cell_type": "markdown",
   "metadata": {},
   "source": [
    "##### Numeric"
   ]
  },
  {
   "cell_type": "code",
   "execution_count": 12,
   "metadata": {},
   "outputs": [],
   "source": [
    "# print(data_train['Dependents'].value_counts())\n",
    "# dependent = data_train['Dependents'].value_counts()\n",
    "\n",
    "# print('Dependent ratio 1 ', dependent['0'] / sum(dependent.values))\n",
    "# print('Dependent ratio 2 ', dependent['1'] / sum(dependent.values))\n",
    "# print('Dependent ratio 3 ', dependent['2'] / sum(dependent.values))\n",
    "# print('Dependent ratio 3+ ', dependent['3+'] / sum(dependent.values))\n",
    "\n",
    "# def fill_dependent_status(num_0_train, num_1_train, num_2_train, num_3_train, num_0_test, num_1_test, num_2_test, num_3_test):        \n",
    "#     data_train['Dependents'].fillna('0', inplace=True, limit = num_0_train)\n",
    "#     data_train['Dependents'].fillna('1', inplace=True, limit = num_1_train)\n",
    "#     data_train['Dependents'].fillna('2', inplace=True, limit = num_2_train)\n",
    "#     data_train['Dependents'].fillna('3+', inplace=True, limit = num_3_train)\n",
    "#     data_test['Dependents'].fillna('0', inplace=True, limit = num_0_test)\n",
    "#     data_test['Dependents'].fillna('1', inplace=True, limit = num_1_test)\n",
    "#     data_test['Dependents'].fillna('2', inplace=True, limit = num_2_test)\n",
    "#     data_test['Dependents'].fillna('3+', inplace=True, limit = num_3_test)\n",
    "\n",
    "# fill_dependent_status(9, 2, 2, 2, 5, 2, 2, 1)\n",
    "\n",
    "# print(data_train['Dependents'].value_counts())\n",
    "\n",
    "# # Convert category value \"3+\" to \"4\"\n",
    "\n",
    "# data_train['Dependents'].replace('3+', 4, inplace = True)\n",
    "# data_test['Dependents'].replace('3+', 4, inplace = True)"
   ]
  },
  {
   "cell_type": "markdown",
   "metadata": {},
   "source": [
    "##### 4.2.2 Continuous (filled with mean)"
   ]
  },
  {
   "cell_type": "code",
   "execution_count": 13,
   "metadata": {},
   "outputs": [],
   "source": [
    "# print(data_train['LoanAmount'].value_counts())\n",
    "\n",
    "# LoanAmt = data_train['LoanAmount'].value_counts()\n",
    "\n",
    "# print('mean loan amount ', np.mean(data_train[\"LoanAmount\"]))\n",
    "\n",
    "# loan_amount_mean = np.mean(data_train[\"LoanAmount\"])\n",
    "\n",
    "# data_train['LoanAmount'].fillna(loan_amount_mean, inplace=True, limit = 22)\n",
    "# data_test['LoanAmount'].fillna(loan_amount_mean, inplace=True, limit = 5)\n",
    "# data_train.isnull().sum()\n",
    "# # data_test.isnull().sum()"
   ]
  },
  {
   "cell_type": "markdown",
   "metadata": {},
   "source": [
    "#### Double Check"
   ]
  },
  {
   "cell_type": "code",
   "execution_count": 14,
   "metadata": {},
   "outputs": [
    {
     "name": "stdout",
     "output_type": "stream",
     "text": [
      "0     0\n",
      "1     0\n",
      "2     0\n",
      "3     0\n",
      "4     0\n",
      "5     0\n",
      "6     0\n",
      "7     0\n",
      "8     0\n",
      "9     0\n",
      "10    0\n",
      "11    0\n",
      "12    0\n",
      "dtype: int64\n"
     ]
    }
   ],
   "source": [
    "print(df.isnull().sum())"
   ]
  },
  {
   "cell_type": "markdown",
   "metadata": {},
   "source": [
    "#### String to number conversion"
   ]
  },
  {
   "cell_type": "code",
   "execution_count": 15,
   "metadata": {},
   "outputs": [],
   "source": [
    "# def convert_vals(col,col_name,answer1, answer2 ,answer3):\n",
    "#     ixd_1 = np.where(data_train[col_name] == answer1)\n",
    "#     ixd_0 = np.where(data_train[col_name]== answer2)\n",
    "#     ixd_2 = np.where(data_train[col_name]== answer3)\n",
    "#     for i in ixd_1:\n",
    "#         data_train.iloc[i,col] = 1\n",
    "#     for i in ixd_0:\n",
    "#         data_train.iloc[i,col] = 0\n",
    "#     for i in ixd_2:\n",
    "#         data_train.iloc[i,col] = 2\n",
    "\n",
    "# convert_vals(1,'Gender','Male','Female','')\n",
    "# convert_vals(2,'Married','Yes','No','')\n",
    "# convert_vals(4,'Education','Graduate','Not Graduate','')\n",
    "# convert_vals(5,'Self_Employed','No','Yes','')\n",
    "# convert_vals(11,'Property_Area','Semiurban','Rural','Urban')\n",
    "# convert_vals(12,'Loan_Status','Y','N','')\n",
    "\n",
    "# cols = ['Gender','Married','Dependents','Education','Self_Employed','ApplicantIncome','CoapplicantIncome','LoanAmount','Loan_Amount_Term','Credit_History','Property_Area']\n",
    "\n",
    "# X = data_train[cols]\n",
    "# X = X.astype(float)\n",
    "# X = np.array(X)\n",
    "# # print(X)\n",
    "\n",
    "# Y = data_train['Loan_Status']\n",
    "# Y = Y.astype(float)\n",
    "# Y = np.array(Y)"
   ]
  },
  {
   "cell_type": "markdown",
   "metadata": {},
   "source": [
    "##### Delete everything that's missing"
   ]
  },
  {
   "cell_type": "code",
   "execution_count": 16,
   "metadata": {},
   "outputs": [],
   "source": [
    "# df[\"Text\"] = df['Title'].fillna('') + ' ' + df['Review Text'].fillna('')\n",
    "# df = df[df['Text'] != ' ']"
   ]
  },
  {
   "cell_type": "markdown",
   "metadata": {},
   "source": [
    "##### Replacing fancy stuff"
   ]
  },
  {
   "cell_type": "code",
   "execution_count": 17,
   "metadata": {},
   "outputs": [],
   "source": [
    "# df['Text'] = df['Text'].str.replace('[^a-zA-Z0-9 \\n\\.]|\\.', '')\n",
    "# df['Text'] = df['Text'].str.lower()\n",
    "# df = df[['Text', 'Rating']]"
   ]
  },
  {
   "cell_type": "markdown",
   "metadata": {},
   "source": [
    "#### Convert back to numpy"
   ]
  },
  {
   "cell_type": "code",
   "execution_count": 18,
   "metadata": {},
   "outputs": [
    {
     "name": "stdout",
     "output_type": "stream",
     "text": [
      "[[6.3200e-03 1.8000e+01 2.3100e+00 ... 1.5300e+01 3.9690e+02 4.9800e+00]\n",
      " [2.7310e-02 0.0000e+00 7.0700e+00 ... 1.7800e+01 3.9690e+02 9.1400e+00]\n",
      " [2.7290e-02 0.0000e+00 7.0700e+00 ... 1.7800e+01 3.9283e+02 4.0300e+00]\n",
      " ...\n",
      " [6.0760e-02 0.0000e+00 1.1930e+01 ... 2.1000e+01 3.9690e+02 5.6400e+00]\n",
      " [1.0959e-01 0.0000e+00 1.1930e+01 ... 2.1000e+01 3.9345e+02 6.4800e+00]\n",
      " [4.7410e-02 0.0000e+00 1.1930e+01 ... 2.1000e+01 3.9690e+02 7.8800e+00]]\n"
     ]
    }
   ],
   "source": [
    "X = df.values\n",
    "print(X)"
   ]
  },
  {
   "cell_type": "markdown",
   "metadata": {},
   "source": [
    "#### Plot"
   ]
  },
  {
   "cell_type": "code",
   "execution_count": 19,
   "metadata": {},
   "outputs": [],
   "source": [
    "# plt.scatter(X[:,1], y)\n",
    "# plt.xlabel('x-axis')\n",
    "# plt.ylabel('y-axis')\n",
    "# plt.title('plot')\n",
    "# plt.show()"
   ]
  },
  {
   "cell_type": "markdown",
   "metadata": {},
   "source": [
    "### 5. Final prep"
   ]
  },
  {
   "cell_type": "markdown",
   "metadata": {},
   "source": [
    "##### 5.1 Feature engineering"
   ]
  },
  {
   "cell_type": "code",
   "execution_count": 20,
   "metadata": {},
   "outputs": [
    {
     "name": "stdout",
     "output_type": "stream",
     "text": [
      "[[6.32000000e-03 1.80000000e+01 2.31000000e+00 ... 2.34090000e+02\n",
      "  1.57529610e+05 2.48004000e+01]\n",
      " [2.73100000e-02 0.00000000e+00 7.07000000e+00 ... 3.16840000e+02\n",
      "  1.57529610e+05 8.35396000e+01]\n",
      " [2.72900000e-02 0.00000000e+00 7.07000000e+00 ... 3.16840000e+02\n",
      "  1.54315409e+05 1.62409000e+01]\n",
      " ...\n",
      " [6.07600000e-02 0.00000000e+00 1.19300000e+01 ... 4.41000000e+02\n",
      "  1.57529610e+05 3.18096000e+01]\n",
      " [1.09590000e-01 0.00000000e+00 1.19300000e+01 ... 4.41000000e+02\n",
      "  1.54802902e+05 4.19904000e+01]\n",
      " [4.74100000e-02 0.00000000e+00 1.19300000e+01 ... 4.41000000e+02\n",
      "  1.57529610e+05 6.20944000e+01]]\n",
      "(506, 26)\n"
     ]
    }
   ],
   "source": [
    "# No dummy\n",
    "def x_polynomial(x, d):\n",
    "    for i in range(1,d):\n",
    "        a = np.concatenate((x,x**(i+1)), axis = 1)\n",
    "    return a\n",
    "X = x_polynomial(X,2)\n",
    "print(X)\n",
    "print(X.shape)"
   ]
  },
  {
   "cell_type": "markdown",
   "metadata": {},
   "source": [
    "##### 5.2 Normalization/Standardization"
   ]
  },
  {
   "cell_type": "markdown",
   "metadata": {},
   "source": [
    "###### 5.2.1 Sklearn"
   ]
  },
  {
   "cell_type": "code",
   "execution_count": 21,
   "metadata": {},
   "outputs": [
    {
     "name": "stdout",
     "output_type": "stream",
     "text": [
      "(506, 26)\n"
     ]
    }
   ],
   "source": [
    "from sklearn.preprocessing import StandardScaler\n",
    "\n",
    "scaler = StandardScaler()\n",
    "\n",
    "X = scaler.fit_transform(X)\n",
    "print(X.shape)\n",
    "# print(X)"
   ]
  },
  {
   "cell_type": "markdown",
   "metadata": {},
   "source": [
    "##### 5.2.2 Scratch"
   ]
  },
  {
   "cell_type": "code",
   "execution_count": 22,
   "metadata": {},
   "outputs": [],
   "source": [
    "# X = (X-np.mean(X, axis = 0))/np.std(X, axis = 0)\n",
    "# print(X)"
   ]
  },
  {
   "cell_type": "markdown",
   "metadata": {},
   "source": [
    "### 6. Spliting train and test"
   ]
  },
  {
   "cell_type": "markdown",
   "metadata": {},
   "source": [
    "##### 6.1 Sklearn"
   ]
  },
  {
   "cell_type": "code",
   "execution_count": 23,
   "metadata": {},
   "outputs": [
    {
     "name": "stdout",
     "output_type": "stream",
     "text": [
      "shapes of X_train, y_train\n",
      "(354, 26) (354,)\n",
      "shapes of X_test, y_test\n",
      "(152, 26) (152,)\n"
     ]
    }
   ],
   "source": [
    "from sklearn.model_selection import train_test_split\n",
    "\n",
    "X_train,X_test,y_train,y_test = train_test_split(X,y,test_size = 0.3)\n",
    "\n",
    "# double check the shapes\n",
    "assert X_train.shape[0] == y_train.shape[0]\n",
    "# assert len(X_train)  == len(y_train)\n",
    "assert X_test.shape[0] == y_test.shape[0]\n",
    "# assert len(X_test) == len(y_test)\n",
    "\n",
    "print('shapes of X_train, y_train')\n",
    "print(X_train.shape,y_train.shape)\n",
    "print('shapes of X_test, y_test')\n",
    "print(X_test.shape,y_test.shape)"
   ]
  },
  {
   "cell_type": "markdown",
   "metadata": {},
   "source": [
    "##### 6.2 Scratch"
   ]
  },
  {
   "cell_type": "code",
   "execution_count": 24,
   "metadata": {},
   "outputs": [],
   "source": [
    "# Random index \n",
    "# import random\n",
    "# m = X.shape[0]\n",
    "# idx = np.arange(0,m)\n",
    "# random.shuffle(idx)\n",
    "\n",
    "# # Numpy\n",
    "# X = X[idx,:]\n",
    "\n",
    "# Pandas\n",
    "# X = X.iloc[idx,:]\n",
    "\n",
    "# X = X.reset_index()\n",
    "# X.shape"
   ]
  },
  {
   "cell_type": "code",
   "execution_count": 25,
   "metadata": {},
   "outputs": [
    {
     "name": "stdout",
     "output_type": "stream",
     "text": [
      "shapes of X_train, y_train\n",
      "(354, 26) (354,)\n",
      "shapes of X_test, y_test\n",
      "(152, 26) (152,)\n"
     ]
    }
   ],
   "source": [
    "import random\n",
    "m, n = X.shape\n",
    "idx = np.arange(0, m)\n",
    "random.shuffle(idx)\n",
    "percent_train = .7\n",
    "m_train = int(m * percent_train)\n",
    "train_idx = idx[0:m_train]\n",
    "test_idx = idx[m_train:]\n",
    "X_train = X[train_idx,:];\n",
    "X_test = X[test_idx,:];\n",
    "\n",
    "y_train = y[train_idx];\n",
    "y_test = y[test_idx];\n",
    "\n",
    "# double check the shapes\n",
    "assert X_train.shape[0] == y_train.shape[0]\n",
    "# assert len(X_train)  == len(y_train)\n",
    "assert X_test.shape[0] == y_test.shape[0]\n",
    "# assert len(X_test) == len(y_test)\n",
    "\n",
    "print('shapes of X_train, y_train')\n",
    "print(X_train.shape,y_train.shape)\n",
    "print('shapes of X_test, y_test')\n",
    "print(X_test.shape,y_test.shape)"
   ]
  },
  {
   "cell_type": "markdown",
   "metadata": {},
   "source": [
    "#### Addition of dummy"
   ]
  },
  {
   "cell_type": "code",
   "execution_count": 26,
   "metadata": {},
   "outputs": [
    {
     "name": "stdout",
     "output_type": "stream",
     "text": [
      "shapes of X_train, y_train with DUMMY added\n",
      "(354, 27) (354,)\n",
      "shapes of X_test, y_test with DUMMY added\n",
      "(152, 27) (152,)\n"
     ]
    }
   ],
   "source": [
    "# add dummy at X_train\n",
    "intercept = np.ones((X_train.shape[0], 1))\n",
    "X_train = np.concatenate((intercept, X_train), axis=1)\n",
    "\n",
    "# add dummy at X_test\n",
    "intercept = np.ones((X_test.shape[0], 1))\n",
    "X_test = np.concatenate((intercept, X_test), axis=1)\n",
    "\n",
    "print('shapes of X_train, y_train with DUMMY added')\n",
    "print(X_train.shape,y_train.shape)\n",
    "print('shapes of X_test, y_test with DUMMY added')\n",
    "print(X_test.shape,y_test.shape)"
   ]
  },
  {
   "cell_type": "markdown",
   "metadata": {},
   "source": [
    "# Linear Regression"
   ]
  },
  {
   "cell_type": "markdown",
   "metadata": {},
   "source": [
    "### Step 1: Predict and calculate loss"
   ]
  },
  {
   "cell_type": "markdown",
   "metadata": {},
   "source": [
    "#### Closed form"
   ]
  },
  {
   "cell_type": "code",
   "execution_count": 27,
   "metadata": {},
   "outputs": [],
   "source": [
    "from numpy.linalg import inv\n",
    "def closed_form(X, y):\n",
    "    return inv(X.T @ X) @ X.T @ y"
   ]
  },
  {
   "cell_type": "markdown",
   "metadata": {},
   "source": [
    "#### Batch"
   ]
  },
  {
   "cell_type": "code",
   "execution_count": 28,
   "metadata": {},
   "outputs": [],
   "source": [
    "#yhat\n",
    "def get_yhat(X, theta):\n",
    "    return X @ theta\n",
    "\n",
    "#MSE\n",
    "# def cost(yhat, y):\n",
    "#     return ((yhat - y)**2 / yhat.shape[0]).sum()\n",
    "\n",
    "#loss = cost\n",
    "def get_loss(X,y,theta):\n",
    "    yhat = get_yhat(X,theta)\n",
    "    loss_new = ((yhat - y)**2 / yhat.shape[0]).sum()\n",
    "    return loss_new\n",
    "\n",
    "#for early stopping\n",
    "def delta_loss(loss_new, loss_old, tol):\n",
    "    return np.abs(loss_new - loss_old) < tol\n",
    "\n",
    "# for theta updating\n",
    "# error = h_theta(X,theta) - y\n",
    "def gradient(X,y,theta):\n",
    "    grad = X.T.dot(get_yhat(X,theta)-y)\n",
    "    return grad\n",
    "\n",
    "def gradient_descent(X_train,y_train,X_test,y_test,theta_initial,alpha,max_iter):\n",
    "    theta = theta_initial\n",
    "    tol = 0.01    \n",
    "    loss_history_train = []\n",
    "    loss_history_test = []\n",
    "    loss_old_train = np.inf\n",
    "    iter_stop = 0  \n",
    "    for i in range(max_iter):\n",
    "        # calculate costs\n",
    "        loss_new_train = get_loss(X_train,y_train,theta)\n",
    "        loss_test = get_loss(X_test,y_test,theta)        \n",
    "#         print(loss_new)\n",
    "        \n",
    "        # early stopping?\n",
    "        if delta_loss(loss_new_train, loss_old_train,tol):\n",
    "            diff = np.abs(loss_new_train - loss_old_train)\n",
    "#             print(diff)\n",
    "            iter_stop = i\n",
    "            break\n",
    "        loss_old_train = loss_new_train\n",
    "#         print(loss_old.shape)\n",
    "        \n",
    "        if i%100 == 0:\n",
    "            print(\"cost iter\",i,':',loss_old_train)\n",
    "        loss_history_train.append(loss_old_train)\n",
    "        loss_history_test.append(loss_test)\n",
    "        \n",
    "        \n",
    "        # cal grad to update theta\n",
    "        grad = gradient(X_train,y_train,theta)\n",
    "#         print(grad)\n",
    "        \n",
    "        # update theta\n",
    "        theta = theta - alpha* grad\n",
    "#         print('theta',theta)\n",
    "        \n",
    "    return loss_history_train,loss_history_test, theta, iter_stop,diff"
   ]
  },
  {
   "cell_type": "markdown",
   "metadata": {},
   "source": [
    "#### Stochastic"
   ]
  },
  {
   "cell_type": "code",
   "execution_count": 29,
   "metadata": {},
   "outputs": [],
   "source": [
    "# gradient descent Stochastic\n",
    "def get_yhat(X, theta):\n",
    "    return X @ theta\n",
    "\n",
    "#loss = cost\n",
    "def get_loss_single(X,y,theta):\n",
    "    yhat = get_yhat(X,theta)\n",
    "    loss_new = (yhat - y)**2\n",
    "    return loss_new\n",
    "\n",
    "#for early stopping\n",
    "def delta_loss(loss_new, loss_old, tol):\n",
    "    return np.abs(loss_new - loss_old) < tol\n",
    "\n",
    "# for theta updating\n",
    "# error = h_theta(X,theta) - y\n",
    "def gradient(X,y,theta):\n",
    "    grad = X.T.dot(get_yhat(X,theta)-y)\n",
    "    return grad\n",
    "\n",
    "def gradient_descent_stochastic(X_train,y_train,X_test,y_test,theta_initial,alpha,max_iter):\n",
    "    theta = theta_initial\n",
    "    tol = 0.01    \n",
    "    loss_history_train = []\n",
    "    loss_history_test = []\n",
    "    loss_old_train = np.inf\n",
    "    iter_stop = 0  \n",
    "    for i in range(max_iter):\n",
    "        #random number\n",
    "        idx = np.random.randint(X_train.shape[0])\n",
    "        idx_test = np.random.randint(X_test.shape[0])\n",
    "        X_idx = X_train[idx,:].reshape(1,-1)\n",
    "        X_test_idx = X_test[idx_test,:].reshape(1,-1)\n",
    "#         print(y_train.shape,idx)\n",
    "        y_idx = y_train[idx] #sometimes iloc\n",
    "        y_test_idx = y_test[idx_test]\n",
    "        \n",
    "        # calculate costs\n",
    "        loss_new_train = get_loss_single(X_idx,y_idx,theta)\n",
    "        loss_test = get_loss_single(X_test_idx,y_test_idx,theta)\n",
    "        \n",
    "        # early stopping?\n",
    "        if delta_loss(loss_new_train, loss_old_train,tol):\n",
    "            diff = np.abs(loss_new_train - loss_old_train)\n",
    "#             print(diff)\n",
    "            iter_stop = i\n",
    "            break\n",
    "        loss_old_train = loss_new_train\n",
    "        if i%100 == 0:\n",
    "            print(\"cost iter\",i,':',loss_old_train)\n",
    "#             #append less\n",
    "#             loss_history_train.append(loss_old_train)\n",
    "#             loss_history_test.append(loss_test)\n",
    "        loss_history_train.append(loss_old_train)\n",
    "        loss_history_test.append(loss_test)\n",
    "        \n",
    "        # cal grad to update theta\n",
    "        grad = gradient(X_idx,y_idx,theta)\n",
    "#         print(grad)\n",
    "        \n",
    "        # update theta\n",
    "        theta = theta - alpha* grad\n",
    "#         print('theta',theta)\n",
    "        \n",
    "    return loss_history_train,loss_history_test, theta, iter_stop, diff"
   ]
  },
  {
   "cell_type": "markdown",
   "metadata": {},
   "source": [
    "#### Mini batch"
   ]
  },
  {
   "cell_type": "code",
   "execution_count": 30,
   "metadata": {},
   "outputs": [],
   "source": [
    "# gradient descent Stochastic\n",
    "def get_yhat(X, theta):\n",
    "    return X @ theta\n",
    "\n",
    "#loss = cost\n",
    "def get_loss_mini(X,y,theta):\n",
    "    yhat = get_yhat(X,theta)\n",
    "    loss_new = ((yhat - y)**2/ yhat.shape[0]).sum()\n",
    "    return loss_new\n",
    "\n",
    "#for early stopping\n",
    "def delta_loss(loss_new, loss_old, tol):\n",
    "    return np.abs(loss_new - loss_old) < tol\n",
    "\n",
    "# for theta updating\n",
    "# error = h_theta(X,theta) - y\n",
    "def gradient(X,y,theta):\n",
    "    grad = X.T.dot(get_yhat(X,theta)-y)\n",
    "    return grad\n",
    "\n",
    "def gradient_descent_mini(X_train,y_train,X_test,y_test,theta_initial,alpha,max_iter):\n",
    "    theta = theta_initial\n",
    "    tol = 0.01    \n",
    "    loss_history_train = []\n",
    "    loss_history_test = []\n",
    "    loss_old_train = np.inf\n",
    "    iter_stop = 0  \n",
    "    batch_train = int(0.1*X_train.shape[0])\n",
    "    batch_test = int(0.1*X_test.shape[0])\n",
    "    # Random index\n",
    "    idx = np.random.randint(X_train.shape[0])\n",
    "    idx_test = np.random.randint(X_test.shape[0])\n",
    "    for i in range(max_iter):\n",
    "        X_train_batch = X_train[idx:idx+batch_train]\n",
    "        y_train_batch = y_train[idx:idx+batch_train]\n",
    "        X_test_batch = X_test[idx_test:idx_test+batch_test]\n",
    "        y_test_batch = y_test[idx_test:idx_test+batch_test]  \n",
    " \n",
    "        loss_new_train = get_loss_mini(X_train_batch,y_train_batch,theta)\n",
    "        loss_test = get_loss_mini(X_test_batch,y_test_batch,theta)\n",
    "        \n",
    "        # early stopping?\n",
    "        if delta_loss(loss_new_train, loss_old_train,tol):\n",
    "            diff = np.abs(loss_new_train - loss_old_train)\n",
    "#             print(diff)\n",
    "            iter_stop = i\n",
    "            break\n",
    "        loss_old_train = loss_new_train\n",
    "        if i%100 == 0:\n",
    "            print(\"cost iter\",i,':',loss_old_train)\n",
    "#             #append less\n",
    "#             loss_history_train.append(loss_old_train)\n",
    "#             loss_history_test.append(loss_test)\n",
    "        loss_history_train.append(loss_old_train)\n",
    "        loss_history_test.append(loss_test)\n",
    "        \n",
    "        # cal grad to update theta\n",
    "        grad = gradient(X_train_batch,y_train_batch,theta)\n",
    "        \n",
    "        # update theta\n",
    "        theta = theta - alpha* grad\n",
    "        \n",
    "    return loss_history_train,loss_history_test, theta, iter_stop, diff"
   ]
  },
  {
   "cell_type": "markdown",
   "metadata": {},
   "source": [
    "### Closed form"
   ]
  },
  {
   "cell_type": "code",
   "execution_count": 31,
   "metadata": {},
   "outputs": [],
   "source": [
    "from numpy.linalg import inv\n",
    "def closed_form(X, y):\n",
    "    return inv(X.T @ X) @ X.T @ y"
   ]
  },
  {
   "cell_type": "markdown",
   "metadata": {},
   "source": [
    "### Step 2: Initializing Theta"
   ]
  },
  {
   "cell_type": "code",
   "execution_count": 32,
   "metadata": {},
   "outputs": [
    {
     "name": "stdout",
     "output_type": "stream",
     "text": [
      "==============================\n",
      "Shape of theta:  (27,)\n",
      "==============================\n",
      "Initial theta:  [0. 0. 0. 0. 0. 0. 0. 0. 0. 0. 0. 0. 0. 0. 0. 0. 0. 0. 0. 0. 0. 0. 0. 0.\n",
      " 0. 0. 0.]\n"
     ]
    }
   ],
   "source": [
    "theta_initial = np.zeros(X_train.shape[1])\n",
    "# theta_initial = theta_initial.reshape(-1,1)\n",
    "# check shape of theta\n",
    "print(\"=\"*30)\n",
    "print(\"Shape of theta: \", theta_initial.shape)\n",
    "\n",
    "# initial theta\n",
    "print(\"=\"*30)\n",
    "print(\"Initial theta: \", theta_initial)"
   ]
  },
  {
   "cell_type": "markdown",
   "metadata": {},
   "source": [
    "### Step 3: Define alpha and number of iterations"
   ]
  },
  {
   "cell_type": "markdown",
   "metadata": {},
   "source": [
    "#### Batch"
   ]
  },
  {
   "cell_type": "code",
   "execution_count": 33,
   "metadata": {},
   "outputs": [],
   "source": [
    "alpha  = 0.00001\n",
    "max_iter = 10000"
   ]
  },
  {
   "cell_type": "code",
   "execution_count": 34,
   "metadata": {},
   "outputs": [
    {
     "name": "stdout",
     "output_type": "stream",
     "text": [
      "cost iter 0 : 575.9587570621469\n",
      "cost iter 100 : 282.467564017091\n",
      "cost iter 200 : 150.95190741595695\n",
      "cost iter 300 : 86.57645757272238\n",
      "cost iter 400 : 54.727586149045315\n",
      "cost iter 500 : 38.84703366209883\n",
      "cost iter 600 : 30.853325687294905\n",
      "cost iter 700 : 26.77008261270149\n",
      "cost iter 800 : 24.632862618751467\n"
     ]
    }
   ],
   "source": [
    "cost_history_train,cost_history_test,theta, iter_stop,diff = gradient_descent(X_train,y_train,X_test,y_test,theta_initial,alpha = alpha ,max_iter = max_iter)\n"
   ]
  },
  {
   "cell_type": "markdown",
   "metadata": {},
   "source": [
    "#### Stochastic"
   ]
  },
  {
   "cell_type": "code",
   "execution_count": 35,
   "metadata": {},
   "outputs": [],
   "source": [
    "alpha_sto  = 0.001 \n",
    "max_iter_sto = 100000"
   ]
  },
  {
   "cell_type": "code",
   "execution_count": 36,
   "metadata": {},
   "outputs": [
    {
     "name": "stdout",
     "output_type": "stream",
     "text": [
      "cost iter 0 : [171.61]\n",
      "cost iter 100 : [434.32949383]\n",
      "cost iter 200 : [152.90414209]\n",
      "cost iter 300 : [175.71126531]\n",
      "cost iter 400 : [561.69950244]\n",
      "cost iter 500 : [404.17480564]\n",
      "cost iter 600 : [99.7432787]\n",
      "cost iter 700 : [36.43794969]\n",
      "cost iter 800 : [123.62255365]\n",
      "cost iter 900 : [43.60734141]\n",
      "cost iter 1000 : [72.20010374]\n",
      "cost iter 1100 : [32.52725463]\n",
      "cost iter 1200 : [128.48966489]\n",
      "cost iter 1300 : [33.75065374]\n",
      "cost iter 1400 : [53.61108083]\n",
      "cost iter 1500 : [20.81890161]\n"
     ]
    }
   ],
   "source": [
    "cost_history_train_sto,cost_history_test_sto,theta_sto,iter_stop_sto,diff_sto = gradient_descent_stochastic(X_train,y_train,X_test,y_test,theta_initial,alpha = alpha_sto ,max_iter = max_iter_sto)"
   ]
  },
  {
   "cell_type": "markdown",
   "metadata": {},
   "source": [
    "#### Mini Batch"
   ]
  },
  {
   "cell_type": "code",
   "execution_count": 37,
   "metadata": {},
   "outputs": [],
   "source": [
    "alpha_mini  = 0.001\n",
    "max_iter_mini = 100000"
   ]
  },
  {
   "cell_type": "code",
   "execution_count": 38,
   "metadata": {},
   "outputs": [
    {
     "name": "stdout",
     "output_type": "stream",
     "text": [
      "cost iter 0 : 409.76969696969695\n",
      "cost iter 100 : 10.960780857723078\n",
      "cost iter 200 : 4.85720955201867\n"
     ]
    }
   ],
   "source": [
    "cost_history_train_mini,cost_history_test_mini,theta_mini,iter_stop_mini,diff_mini = gradient_descent_mini(X_train,y_train,X_test,y_test,theta_initial,alpha = alpha_mini ,max_iter = max_iter_mini)"
   ]
  },
  {
   "cell_type": "markdown",
   "metadata": {},
   "source": [
    "### Step 3: Visualize the loss (cost_history)"
   ]
  },
  {
   "cell_type": "markdown",
   "metadata": {},
   "source": [
    "#### Batch"
   ]
  },
  {
   "cell_type": "code",
   "execution_count": 39,
   "metadata": {},
   "outputs": [
    {
     "data": {
      "text/plain": [
       "<matplotlib.legend.Legend at 0x1209ccb50>"
      ]
     },
     "execution_count": 39,
     "metadata": {},
     "output_type": "execute_result"
    },
    {
     "data": {
      "image/png": "[encoded data removed]",
      "text/plain": [
       "<Figure size 432x288 with 1 Axes>"
      ]
     },
     "metadata": {
      "needs_background": "light"
     },
     "output_type": "display_data"
    }
   ],
   "source": [
    "plt.plot(cost_history_train,'b', label=\"train data\")\n",
    "plt.plot(cost_history_test,'r', label=\"test data\")\n",
    "plt.xlabel(\"Iterations\")\n",
    "plt.ylabel(\"cost\")\n",
    "plt.title(\"Training cost over time\")\n",
    "plt.legend()"
   ]
  },
  {
   "cell_type": "markdown",
   "metadata": {},
   "source": [
    "#### Stochastic"
   ]
  },
  {
   "cell_type": "code",
   "execution_count": 40,
   "metadata": {},
   "outputs": [
    {
     "data": {
      "text/plain": [
       "<matplotlib.legend.Legend at 0x120b32dd0>"
      ]
     },
     "execution_count": 40,
     "metadata": {},
     "output_type": "execute_result"
    },
    {
     "data": {
      "image/png": "[encoded data removed]",
      "text/plain": [
       "<Figure size 432x288 with 1 Axes>"
      ]
     },
     "metadata": {
      "needs_background": "light"
     },
     "output_type": "display_data"
    }
   ],
   "source": [
    "# Visualize the loss (cost_history)\n",
    "plt.plot(cost_history_train_sto,'b', label=\"train data\")\n",
    "plt.plot(cost_history_test_sto,'r', label=\"test data\")\n",
    "plt.xlabel(\"Iterations\")\n",
    "plt.ylabel(\"cost\")\n",
    "plt.title(\"Training cost over time\")\n",
    "plt.legend()"
   ]
  },
  {
   "cell_type": "code",
   "execution_count": 41,
   "metadata": {},
   "outputs": [
    {
     "data": {
      "text/plain": [
       "<matplotlib.legend.Legend at 0x120d90e10>"
      ]
     },
     "execution_count": 41,
     "metadata": {},
     "output_type": "execute_result"
    },
    {
     "data": {
      "image/png": "[encoded data removed]",
      "text/plain": [
       "<Figure size 432x288 with 1 Axes>"
      ]
     },
     "metadata": {
      "needs_background": "light"
     },
     "output_type": "display_data"
    }
   ],
   "source": [
    "# Visualize the loss (cost_history)\n",
    "plt.plot(cost_history_train_mini,'b', label=\"train data\")\n",
    "plt.plot(cost_history_test_mini,'r', label=\"test data\")\n",
    "plt.xlabel(\"Iterations\")\n",
    "plt.ylabel(\"cost\")\n",
    "plt.title(\"Training cost over time\")\n",
    "plt.legend()"
   ]
  },
  {
   "cell_type": "markdown",
   "metadata": {},
   "source": [
    "### Step 4: Answers"
   ]
  },
  {
   "cell_type": "markdown",
   "metadata": {},
   "source": [
    "#### Batch"
   ]
  },
  {
   "cell_type": "code",
   "execution_count": 42,
   "metadata": {},
   "outputs": [
    {
     "name": "stdout",
     "output_type": "stream",
     "text": [
      "==============================\n",
      "Optimal Theta:  [21.58294151 -0.39530589  0.27551443 -0.37905161  0.55984466 -0.49796533\n",
      "  1.33252696 -0.45816694 -1.20711001  0.33578134 -0.27432465 -0.93076858\n",
      "  0.56890497 -2.16886854 -0.38773726  0.28305738  0.07668422  0.55984466\n",
      " -0.6591273   2.30609989 -0.25511667 -1.00140142  0.309876   -0.03882896\n",
      " -0.80054561  0.33609774 -0.41653676]\n",
      "==============================\n",
      "Cost with optimized theta:  23.710253503646612\n",
      "==============================\n",
      "Number of iterations:  875\n",
      "==============================\n",
      "diff_loss: 0.009958452413059149\n"
     ]
    }
   ],
   "source": [
    "# theta, iter\n",
    "print(\"=\"*30)\n",
    "print(\"Optimal Theta: \", theta)\n",
    "print(\"=\"*30)\n",
    "print(\"Cost with optimized theta: \", cost_history_train[-1])\n",
    "print(\"=\"*30)\n",
    "print(\"Number of iterations: \", iter_stop)\n",
    "print(\"=\"*30)\n",
    "print(\"diff_loss:\", diff)"
   ]
  },
  {
   "cell_type": "markdown",
   "metadata": {},
   "source": [
    "#### Stochastic"
   ]
  },
  {
   "cell_type": "code",
   "execution_count": 43,
   "metadata": {},
   "outputs": [
    {
     "name": "stdout",
     "output_type": "stream",
     "text": [
      "==============================\n",
      "Optimal Theta:  [ 1.75855116e+01 -4.09899879e-01  4.60204962e-01 -2.94109780e-01\n",
      "  5.83744172e-01 -3.87366929e-01  1.15222323e+00 -2.05143007e-01\n",
      " -7.66859186e-01  1.11049339e-01 -1.65233891e-01 -7.62431053e-01\n",
      "  3.42854237e-01 -1.60514384e+00 -2.65406458e-01  4.38367469e-01\n",
      "  2.81397739e-02  5.83744172e-01 -4.25220328e-01  1.61229713e+00\n",
      " -9.89282315e-02 -7.94922137e-01  1.26994537e-01 -1.29408546e-02\n",
      " -6.90127258e-01  2.80099595e-01 -8.68143333e-01]\n",
      "==============================\n",
      "Cost with optimized theta:  [0.00662193]\n",
      "==============================\n",
      "Number of iterations:  1515\n",
      "==============================\n",
      "diff_loss: [0.00430446]\n"
     ]
    }
   ],
   "source": [
    "# theta, iter\n",
    "print(\"=\"*30)\n",
    "print(\"Optimal Theta: \", theta_sto)\n",
    "print(\"=\"*30)\n",
    "print(\"Cost with optimized theta: \", cost_history_train_sto[-1])\n",
    "print(\"=\"*30)\n",
    "print(\"Number of iterations: \", iter_stop_sto)\n",
    "print(\"=\"*30)\n",
    "print(\"diff_loss:\", diff_sto)"
   ]
  },
  {
   "cell_type": "markdown",
   "metadata": {},
   "source": [
    "#### Mini batch"
   ]
  },
  {
   "cell_type": "code",
   "execution_count": 44,
   "metadata": {},
   "outputs": [
    {
     "name": "stdout",
     "output_type": "stream",
     "text": [
      "==============================\n",
      "Optimal Theta:  [19.18399607 -3.85316348  0.23073188 -0.86160439  0.33046694  0.37838321\n",
      "  1.98507585 -0.93744893 -1.28820364  1.0549566  -2.02282986  0.11061007\n",
      "  0.27733792  0.67049042 -2.81292588  1.072258   -0.33905635  0.33046694\n",
      "  0.19875949  1.4330186  -1.18785556 -0.8259282   1.16496458 -0.97368653\n",
      " -0.07571579  0.83721368 -0.20339216]\n",
      "==============================\n",
      "Cost with optimized theta:  4.521537240664584\n",
      "==============================\n",
      "Number of iterations:  228\n",
      "==============================\n",
      "diff_loss: 0.009916262894272165\n"
     ]
    }
   ],
   "source": [
    "# theta, iter\n",
    "print(\"=\"*30)\n",
    "print(\"Optimal Theta: \", theta_mini)\n",
    "print(\"=\"*30)\n",
    "print(\"Cost with optimized theta: \", cost_history_train_mini[-1])\n",
    "print(\"=\"*30)\n",
    "print(\"Number of iterations: \", iter_stop_mini)\n",
    "print(\"=\"*30)\n",
    "print(\"diff_loss:\", diff_mini)"
   ]
  },
  {
   "cell_type": "markdown",
   "metadata": {},
   "source": [
    "#### Closed form"
   ]
  },
  {
   "cell_type": "code",
   "execution_count": 45,
   "metadata": {},
   "outputs": [
    {
     "name": "stdout",
     "output_type": "stream",
     "text": [
      "==============================\n",
      "Optimal Theta:  [-1.42508098e+13 -6.43252481e+13  9.61734410e+13  2.06265318e+14\n",
      " -3.22382798e+15 -3.07746449e+01 -7.77330576e+00 -8.31242138e-01\n",
      " -4.27580342e+00  8.82225035e+00 -9.27923841e+00 -2.34740216e+01\n",
      " -5.11403478e-03 -8.15706895e+00  1.85564559e+00  5.19619506e-01\n",
      "  4.76218628e+00  3.22382798e+15 -2.39119567e+01  1.59789440e+01\n",
      "  5.13404170e-02  3.23409673e+00 -1.65903145e+00  5.99781619e-02\n",
      "  2.76215279e+01 -1.88193852e+00  4.51384822e+00]\n"
     ]
    }
   ],
   "source": [
    "theta_cf = closed_form(X_train, y_train)\n",
    "print(\"=\"*30)\n",
    "print(\"Optimal Theta: \", theta_cf)"
   ]
  },
  {
   "cell_type": "markdown",
   "metadata": {},
   "source": [
    "### Step 5: Accuracy"
   ]
  },
  {
   "cell_type": "markdown",
   "metadata": {},
   "source": [
    "#### 5.1 From Scratch"
   ]
  },
  {
   "cell_type": "code",
   "execution_count": 46,
   "metadata": {},
   "outputs": [
    {
     "name": "stdout",
     "output_type": "stream",
     "text": [
      "==============================\n",
      "rMSE train = 4.87\n",
      "MSE train = 23.70\n",
      "r2 train = 0.72\n",
      "adjusted rsqrt train = 0.78\n",
      "==============================\n",
      "rMSE test = 4.95\n",
      "MSE test = 24.55\n",
      "r2 test = 0.70\n",
      "adjusted rsqrt test = 0.85\n"
     ]
    }
   ],
   "source": [
    "def get_rmse(X,y,theta):\n",
    "    y_pred = get_yhat(X,theta)\n",
    "    return np.sqrt(np.dot((y - y_pred).T, y - y_pred) / y_pred.shape[0])\n",
    "\n",
    "rmse_train = get_rmse(X_train,y_train,theta)\n",
    "rmse_test = get_rmse(X_test,y_test,theta)\n",
    "\n",
    "def get_mse(X,y,theta):\n",
    "    yhat = get_yhat(X,theta)\n",
    "    loss_new = ((yhat - y)**2 / yhat.shape[0]).sum()\n",
    "    return loss_new\n",
    "mse_train = get_mse(X_train,y_train,theta)\n",
    "mse_test = get_mse(X_test,y_test,theta)\n",
    "\n",
    "def r2_score(X,y,theta):\n",
    "    return 1 - np.square(y - get_yhat(X,theta)).sum() / np.square(y - y.mean()).sum()\n",
    "\n",
    "r2_score_train = r2_score(X_train,y_train,theta)\n",
    "r2_score_test = r2_score(X_test,y_test,theta)\n",
    "\n",
    "\n",
    "def get_adjusted_rsqrt(X,y,theta):\n",
    "    n = X.shape[0]\n",
    "    p = X.shape[1]\n",
    "    adjusted_rsqrt = 1-(1-r2_score(X,y,theta)*(n-1)/(n-p-1))\n",
    "    return adjusted_rsqrt\n",
    "\n",
    "adjusted_rsqrt_train = get_adjusted_rsqrt(X_train,y_train,theta)\n",
    "adjusted_rsqrt_test = get_adjusted_rsqrt(X_test,y_test,theta)\n",
    "\n",
    "print(\"=\"*30)\n",
    "print(f\"rMSE train = {rmse_train:.2f}\")\n",
    "print(f\"MSE train = {mse_train:.2f}\")\n",
    "print(f\"r2 train = {r2_score_train:.2f}\")\n",
    "print(f\"adjusted rsqrt train = {adjusted_rsqrt_train:.2f}\")\n",
    "print(\"=\"*30)\n",
    "print(f\"rMSE test = {rmse_test:.2f}\")\n",
    "print(f\"MSE test = {mse_test:.2f}\")\n",
    "print(f\"r2 test = {r2_score_test:.2f}\")\n",
    "print(f\"adjusted rsqrt test = {adjusted_rsqrt_test:.2f}\")"
   ]
  },
  {
   "cell_type": "markdown",
   "metadata": {},
   "source": [
    "#### 5.2 Sklearn MSE"
   ]
  },
  {
   "cell_type": "code",
   "execution_count": 47,
   "metadata": {},
   "outputs": [
    {
     "name": "stdout",
     "output_type": "stream",
     "text": [
      "==============================\n",
      "MSE train = 23.70\n",
      "rMSE train = 4.87\n",
      "r2 train = 0.72\n",
      "==============================\n",
      "MSE test = 24.55\n",
      "rMSE test = 4.95\n",
      "r2 test = 0.70\n"
     ]
    }
   ],
   "source": [
    "from sklearn.metrics import mean_squared_error, r2_score\n",
    "def MSE_R2(X_train,y_train,X_test,y_test):\n",
    "    y_pred_train = get_yhat(X_train,theta)\n",
    "    y_pred_test = get_yhat(X_test,theta)\n",
    "    MSE_sklearn_train = mean_squared_error(y_train, y_pred_train)\n",
    "    rmse_sklearn_train = np.sqrt(MSE_sklearn_train)\n",
    "    r2_score_sklearn_train = r2_score(y_train, y_pred_train)\n",
    "    MSE_sklearn_test = mean_squared_error(y_test, y_pred_test)\n",
    "    rmse_sklearn_test = np.sqrt(MSE_sklearn_test)\n",
    "    r2_score_sklearn_test = r2_score(y_test, y_pred_test)\n",
    "    return MSE_sklearn_train, r2_score_sklearn_train,rmse_sklearn_train, MSE_sklearn_test,rmse_sklearn_test, r2_score_sklearn_test\n",
    "\n",
    "MSE_sklearn_train, r2_score_sklearn_train,rMSE_sklearn_train, MSE_sklearn_test,rMSE_sklearn_test, r2_score_sklearn_test = MSE_R2(X_train,y_train,X_test,y_test)\n",
    "print(\"=\"*30)\n",
    "print(f\"MSE train = {MSE_sklearn_train:.2f}\")\n",
    "print(f\"rMSE train = {rMSE_sklearn_train:.2f}\")\n",
    "print(f\"r2 train = {r2_score_sklearn_train:.2f}\")\n",
    "print(\"=\"*30)\n",
    "print(f\"MSE test = {MSE_sklearn_test:.2f}\")\n",
    "print(f\"rMSE test = {rMSE_sklearn_test:.2f}\")\n",
    "print(f\"r2 test = {r2_score_sklearn_test:.2f}\")"
   ]
  },
  {
   "cell_type": "code",
   "execution_count": 48,
   "metadata": {},
   "outputs": [],
   "source": [
    "# # Plot X, y, and the two regression models\n",
    "\n",
    "# def get_predictions(x, theta):\n",
    "#     x = np.array([x]).T\n",
    "# #     print(x)\n",
    "#     x = np.insert(x, 0, 1, axis=1)\n",
    "#     while(x.shape[1] < theta.shape[0]):\n",
    "#         x = np.insert(x, x.shape[1], x[:,1] * x[:,-1], axis=1)\n",
    "# #         print(x)\n",
    "# #     print(x[:5,:])\n",
    "#     y = get_yhat(x, theta)\n",
    "#     return y\n",
    "\n",
    "# x_series = np.linspace(-2, 10, 1000)\n",
    "# y_series = get_predictions(x_series, theta)\n",
    "# # print(y_series)\n",
    "# plt.plot(X_train, y_train, 'c.')\n",
    "# plt.plot(x_series, y_series, '-', label='degree 2 ' + ' (test accuracy ' + str(r2_score_test) + ')')\n",
    "# a = max(y_series)\n",
    "# print(a)\n",
    "# plt.ylim(-10, 60)\n",
    "# plt.legend()\n"
   ]
  },
  {
   "cell_type": "code",
   "execution_count": null,
   "metadata": {},
   "outputs": [],
   "source": []
  },
  {
   "cell_type": "code",
   "execution_count": null,
   "metadata": {},
   "outputs": [],
   "source": []
  },
  {
   "cell_type": "code",
   "execution_count": null,
   "metadata": {},
   "outputs": [],
   "source": []
  }
 ],
 "metadata": {
  "kernelspec": {
   "display_name": "Python 3",
   "language": "python",
   "name": "python3"
  },
  "language_info": {
   "codemirror_mode": {
    "name": "ipython",
    "version": 3
   },
   "file_extension": ".py",
   "mimetype": "text/x-python",
   "name": "python",
   "nbconvert_exporter": "python",
   "pygments_lexer": "ipython3",
   "version": "3.8.3"
  }
 },
 "nbformat": 4,
 "nbformat_minor": 4
}
