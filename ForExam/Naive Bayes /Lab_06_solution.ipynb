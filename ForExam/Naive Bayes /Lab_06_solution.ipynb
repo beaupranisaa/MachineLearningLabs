{
 "cells": [
  {
   "cell_type": "markdown",
   "metadata": {},
   "source": [
    "# Lab 06: Generative classifiers: Naive Bayes\n",
    "\n",
    "As discussed in class, a Naive Bayes classifier works as follows:\n",
    "$$\\begin{eqnarray}\n",
    "p(y \\mid \\mathbf{x} ; \\theta) & = & \\frac{p(\\mathbf{x} \\mid y ; \\theta) p(y ; \\theta)}{p(\\mathbf{x} ; \\theta)} \\\\\n",
    "& \\propto & p(\\mathbf{x} \\mid y ; \\theta) p(y ; \\theta) \\\\\n",
    "& \\approx & p(y ; \\theta) \\prod_j p(x_j \\mid y ; \\theta)\n",
    "\\end{eqnarray}$$\n",
    "We will use Naive Bayes to perform diabetes diagnosis and text classification."
   ]
  },
  {
   "cell_type": "markdown",
   "metadata": {},
   "source": [
    "## Example 1: Diabetes classification\n",
    "\n",
    "In this example we predict wheter a patient with specific diagnostic measurements has diabetes or not. As the features are\n",
    "continuous, we will model the conditional probabilities\n",
    "$p(x_j \\mid y ; \\theta)$ as univariate Gaussians with mean $\\mu_{j,y}$ and standard deviation $\\sigma_{j,y}$.\n",
    "\n",
    "The data are originally from the U.S. National Institute of Diabetes and Digestive and Kidney Diseases (NIDDK) and are available\n",
    "from [Kaggle](https://www.kaggle.com/uciml/pima-indians-diabetes-database)\n"
   ]
  },
  {
   "cell_type": "code",
   "execution_count": 21,
   "metadata": {},
   "outputs": [],
   "source": [
    "import csv\n",
    "import math\n",
    "import random\n",
    "import pandas as pd\n",
    "import numpy as np"
   ]
  },
  {
   "cell_type": "markdown",
   "metadata": {},
   "source": [
    "### Data manipulation\n",
    "\n",
    "First we have some functions to read the dataset, split it into train and test, and partition it according to target class ($y$)."
   ]
  },
  {
   "cell_type": "code",
   "execution_count": 22,
   "metadata": {},
   "outputs": [],
   "source": [
    "# Load data from CSV file\n",
    "\n",
    "def loadCsv(filename):\n",
    "    data_raw = np.genfromtxt(filename,delimiter = ',', dtype=str);\n",
    "    headers = data_raw[0,:];\n",
    "    dataset = np.array(data_raw[1:,:], dtype=float);\n",
    "    dataset = list(dataset)\n",
    "    for i in range(len(dataset)):\n",
    "        dataset[i] = [float(x) for x in dataset[i]]\n",
    "    return dataset, headers\n",
    "\n",
    "# Split dataset into test and train with given ratio\n",
    "\n",
    "def splitDataset(dataset, splitRatio):\n",
    "    trainSize = int(len(dataset) * splitRatio)\n",
    "    trainSet = []\n",
    "    copy = list(dataset)\n",
    "    while len(trainSet) < trainSize:\n",
    "        index = random.randrange(len(copy))\n",
    "        trainSet.append(copy.pop(index))\n",
    "    return [trainSet, copy]\n",
    "\n",
    "# Separate training data according to target class\n",
    "# Return key value pairs array in which keys are possible target variable values\n",
    "# and values are the data records.\n",
    "\n",
    "def data_split_byClass(dataset):\n",
    "    Xy = {}\n",
    "    for i in range(len(dataset)):\n",
    "        datapair = dataset[i]\n",
    "        # datapair[-1] (the last column) is the target class for this record.\n",
    "        # Check if we already have this value as a key in the return array\n",
    "        if (datapair[-1] not in Xy):\n",
    "            # Add class as key\n",
    "            Xy[datapair[-1]] = []\n",
    "        # Append this record to array of records for this class key\n",
    "        Xy[datapair[-1]].append(datapair)\n",
    "    return Xy"
   ]
  },
  {
   "cell_type": "markdown",
   "metadata": {},
   "source": [
    "### Model training\n",
    "\n",
    "Next we have some functions used for training the model. Parameters include mean and standard deviation, used\n",
    "to partition numerical variables into categorical variables, as well as "
   ]
  },
  {
   "cell_type": "code",
   "execution_count": 23,
   "metadata": {},
   "outputs": [],
   "source": [
    "# Parameters of a Gaussian are its mean and standard deviation\n",
    "\n",
    "def mean(numbers):\n",
    "    return sum(numbers)/float(len(numbers))\n",
    "\n",
    "def stdev(numbers):\n",
    "    avg = mean(numbers)\n",
    "    variance = sum([pow(x-avg,2) for x in numbers])/float(len(numbers)-1)\n",
    "    return math.sqrt(variance)\n",
    "\n",
    "# Calculate Gaussian parameters mu and sigma for each attribute over a dataset\n",
    "\n",
    "def gaussian_parameters(dataset):\n",
    "    parameters = [(mean(attribute), stdev(attribute)) for attribute in zip(*dataset)]\n",
    "    del parameters[-1]\n",
    "    return parameters\n",
    "\n",
    "# Find mean and standard deviation for each attribute for each possible value of the target variable.\n",
    "    \n",
    "def parametersByClass(dataset):\n",
    "    class_key_value_data = data_split_byClass(dataset)\n",
    "    parameters = {}\n",
    "    priors = {}\n",
    "    # For each possible target variable value, collect parameters\n",
    "    for key, values in class_key_value_data.items():\n",
    "        # Get mean and standard deviation for each variable for each target variable value\n",
    "        parameters[key] = gaussian_parameters(values)\n",
    "     \n",
    "    return parameters\n",
    "\n",
    "# Gaussian pdf\n",
    "\n",
    "def calculateProbability(x, mean, stdev):\n",
    "    exponent = math.exp(-(math.pow(x-mean,2)/(2*math.pow(stdev,2))))\n",
    "    return (1/(math.sqrt(2*math.pi)*stdev))*exponent"
   ]
  },
  {
   "cell_type": "markdown",
   "metadata": {},
   "source": [
    "### Model testing\n",
    "\n",
    "Next some functions for testing the model on a test set and computing its accuracy. Note that we assume\n",
    "$$ p(y \\mid \\mathbf{x} ; \\theta) \\propto p(\\mathbf{x} \\mid y ; \\theta), $$\n",
    "which means we assume that the priors $p(y)$ are equal for each possible value of $y$."
   ]
  },
  {
   "cell_type": "code",
   "execution_count": 24,
   "metadata": {},
   "outputs": [],
   "source": [
    "# Calculate class conditional probabilities for given input data vector\n",
    "\n",
    "def calculateClassProbabilities(parameters, inputVector):\n",
    "    probabilities = {}\n",
    "    for class_key, variable_parameters in parameters.items():\n",
    "        probabilities[class_key] = 1\n",
    "        for i in range(len(variable_parameters)):\n",
    "            mean, stdev = variable_parameters[i]\n",
    "            x = inputVector[i]\n",
    "            probabilities[class_key] *= calculateProbability(x, mean, stdev)\n",
    "    return probabilities\n",
    "\n",
    "# Make prediction for given input data vector\n",
    "\n",
    "def predict(summaries, inputVector):\n",
    "    probabilities = calculateClassProbabilities(summaries, inputVector)\n",
    "    bestLabel, bestProb = None, -1\n",
    "    for classValue, probability in probabilities.items():\n",
    "        if bestLabel is None or probability > bestProb:\n",
    "            bestProb = probability\n",
    "            bestLabel = classValue\n",
    "    return bestLabel\n",
    "\n",
    "# Get predictions for test set\n",
    "\n",
    "def getPredictions(summaries, testSet):\n",
    "    predictions = []\n",
    "    for i in range(len(testSet)):\n",
    "        result = predict(summaries, testSet[i])\n",
    "        predictions.append(result)\n",
    "    return predictions\n",
    "\n",
    "# Get accuracy for test set\n",
    "\n",
    "def getAccuracy(testSet, predictions):\n",
    "    correct = 0\n",
    "    for x in range(len(testSet)):\n",
    "        if testSet[x][-1] == predictions[x]:\n",
    "            correct += 1\n",
    "    return (correct/float(len(testSet)))*100.0"
   ]
  },
  {
   "cell_type": "markdown",
   "metadata": {},
   "source": [
    "### Experiment\n",
    "\n",
    "Here we load the diabetes dataset, split it into training and test data, train a Gaussian NB model, and test the model on the test set."
   ]
  },
  {
   "cell_type": "code",
   "execution_count": 25,
   "metadata": {},
   "outputs": [
    {
     "name": "stdout",
     "output_type": "stream",
     "text": [
      "['Pregnancies' 'Glucose' 'BloodPressure' 'SkinThickness' 'Insulin' 'BMI'\n",
      " 'DiabetesPedigreeFunction' 'Age' 'Outcome']\n",
      "[[6.000e+00 1.480e+02 7.200e+01 3.500e+01 0.000e+00 3.360e+01 6.270e-01\n",
      "  5.000e+01 1.000e+00]\n",
      " [1.000e+00 8.500e+01 6.600e+01 2.900e+01 0.000e+00 2.660e+01 3.510e-01\n",
      "  3.100e+01 0.000e+00]\n",
      " [8.000e+00 1.830e+02 6.400e+01 0.000e+00 0.000e+00 2.330e+01 6.720e-01\n",
      "  3.200e+01 1.000e+00]\n",
      " [1.000e+00 8.900e+01 6.600e+01 2.300e+01 9.400e+01 2.810e+01 1.670e-01\n",
      "  2.100e+01 0.000e+00]\n",
      " [0.000e+00 1.370e+02 4.000e+01 3.500e+01 1.680e+02 4.310e+01 2.288e+00\n",
      "  3.300e+01 1.000e+00]]\n",
      "Total 768 rows,  train = 460 rows, test = 308 rows\n",
      "Accuracy: 68.51\n"
     ]
    }
   ],
   "source": [
    "# Load dataset\n",
    "\n",
    "filename = 'diabetes.csv'\n",
    "dataset, headers = loadCsv(filename)\n",
    "print(headers)\n",
    "print(np.array(dataset)[0:5,:])\n",
    "\n",
    "# Split into training and test\n",
    "\n",
    "splitRatio = 0.60\n",
    "trainingSet, testSet = splitDataset(dataset, splitRatio)\n",
    "print('Total {0} rows,  train = {1} rows, test = {2} rows'.format(len(dataset),len(trainingSet),len(testSet)))\n",
    "\n",
    "# Train model\n",
    "\n",
    "parameters = parametersByClass(trainingSet)\n",
    "\n",
    "# Test model\n",
    "\n",
    "predictions = getPredictions(parameters, testSet)\n",
    "accuracy = getAccuracy(testSet, predictions)\n",
    "print(\"Accuracy: %.2f\" % accuracy)"
   ]
  },
  {
   "cell_type": "markdown",
   "metadata": {},
   "source": [
    "### In lab / take home work\n",
    "\n",
    "Find out the proportion of the records in your dataset are positive vs. negative.  Can we conclude that $p(y=1) = p(y=0)$? If not, add\n",
    "the priors $p(y=1)$ and $p(y=0)$ to your NB model. Does it improve the result?\n",
    "\n"
   ]
  },
  {
   "cell_type": "code",
   "execution_count": 26,
   "metadata": {},
   "outputs": [],
   "source": [
    "def split_data_set(df, training_ratio=0.6, shuffle=True):\n",
    "    if shuffle :\n",
    "        df = df.sample(frac=1)\n",
    "    t_size = int(df.shape[0] * training_ratio)\n",
    "    # train , test \n",
    "    return df.iloc[:t_size], df.iloc[t_size:]\n",
    "\n",
    "class NaiveBay:\n",
    "    def __init__(self, with_prior=True):\n",
    "        self.x_mean = {}\n",
    "        self.x_std = {}\n",
    "        \n",
    "        self.priors = {}\n",
    "        self.y_class = []\n",
    "        self.pred_with_prior = with_prior\n",
    "    \n",
    "    def fit(self, X, y):\n",
    "        # X : 2d array \n",
    "        # y : 1d array\n",
    "        \n",
    "        self.priors = {} # reset priority \n",
    "        \n",
    "        # reset saving parameters\n",
    "        self.x_mean = {}\n",
    "        self.x_std = {}\n",
    "        \n",
    "        # xy_df should be in format columns = [x0, x1, ..., xn, y]\n",
    "        self.y_class = np.unique(y)\n",
    "        \n",
    "        for y_class in self.y_class : \n",
    "            y_index = np.where(y == y_class) # select X by class \n",
    "            \n",
    "            # select X data of y_class answer\n",
    "            y_X = X.copy()[y_index] # X.copy() => prevent update the original X variable.\n",
    "            \n",
    "            x_mean = y_X.mean(axis=0) # find mean of each column\n",
    "            x_std = y_X.std(axis=0) # find the stdev of each column\n",
    "            # save parameter values \n",
    "            self.x_mean[y_class] = x_mean\n",
    "            self.x_std[y_class] = x_std\n",
    "            \n",
    "            self.priors[y_class] = 1\n",
    "            if self.pred_with_prior : \n",
    "                self.priors[y_class] *=  (y_X.shape[0]/ X.shape[0])                 \n",
    "                \n",
    "    def calculate_probability(self, x, mean, stdev):\n",
    "        '''\n",
    "        Equation from \n",
    "        https://en.wikipedia.org/wiki/Naive_Bayes_classifier#:~:text=A%20class's%20prior%20may%20be,total%20number%20of%20samples%3E).\n",
    "        '''\n",
    "        top = np.exp(-1 * np.power((x-mean), 2) / (2*np.power(stdev,2)))\n",
    "        bot = np.sqrt(2*np.pi*np.power(stdev,2))\n",
    "        p = top/bot\n",
    "        return p \n",
    "    \n",
    "    def predict(self, X):\n",
    "        \n",
    "        # save prob for each class \n",
    "        pred_df = pd.DataFrame()\n",
    "        \n",
    "        for y_class in self.y_class : \n",
    "            \n",
    "            prior_y = self.priors[y_class]\n",
    "            \n",
    "            # a vector of mean \n",
    "            y_params_mean = self.x_mean[y_class]\n",
    "            # a vector of variance \n",
    "            y_params_std = self.x_std[y_class]\n",
    "            \n",
    "            # probability of y given X \n",
    "            yp_by_features = self.calculate_probability(X, y_params_mean, y_params_std)\n",
    "            yp_by_features =  yp_by_features * (prior_y ** prior_y)         \n",
    "            yp = np.prod(yp_by_features, axis=1)\n",
    "            pred_df[y_class] = yp\n",
    "    \n",
    "        pred_df['y_pred'] = np.argmax(pred_df.values, axis=1)\n",
    "        pred_df['y_pred'] = [pred_df.columns[v] for v in pred_df['y_pred']]\n",
    "        self.pred_df = pred_df\n",
    "        return pred_df['y_pred'].values"
   ]
  },
  {
   "cell_type": "code",
   "execution_count": 27,
   "metadata": {},
   "outputs": [
    {
     "name": "stdout",
     "output_type": "stream",
     "text": [
      "Outcome Proportion\n",
      "{0: 0.6465798045602605, 1: 0.3534201954397394}\n",
      "Can we conclude p(y=1) == p(y=0) ? \n",
      "The answer is False\n",
      "==============================\n",
      "Model without prior\n",
      "Train Accuracy : 0.752442996742671\n",
      "Test Accuracy :  0.7337662337662337\n",
      "==============================\n",
      "Model with prior\n",
      "{0: 0.6465798045602605, 1: 0.3534201954397394}\n",
      "Train Accuracy : 0.7719869706840391\n",
      "Test Accuracy :  0.7532467532467533\n"
     ]
    }
   ],
   "source": [
    "def get_accuracy(y_pred, y_true):\n",
    "    return (y_pred == y_true).sum() / len(y_true)\n",
    "\n",
    "df = pd.read_csv('diabetes.csv')\n",
    "# df.Outcome.hist()\n",
    "training_set, test_set = split_data_set(df, 0.8)\n",
    "\n",
    "outcome_ratio = (training_set.Outcome.value_counts() / len(training_set)).to_dict()\n",
    "\n",
    "print('Outcome Proportion')\n",
    "print(outcome_ratio)\n",
    "\n",
    "print('Can we conclude p(y=1) == p(y=0) ? ')\n",
    "print('The answer is', outcome_ratio[0] == outcome_ratio[1])\n",
    "\n",
    "X_train, y_train = training_set.drop(columns='Outcome').values, training_set['Outcome'].values\n",
    "X_test, y_test = test_set.drop(columns='Outcome').values, test_set['Outcome'].values\n",
    "\n",
    "nb= NaiveBay(with_prior=False)\n",
    "print('='*30)\n",
    "print('Model without prior')\n",
    "nb.fit(X_train, y_train)\n",
    "train_pred = nb.predict(X_train)\n",
    "test_pred = nb.predict(X_test)\n",
    "print('Train Accuracy :', get_accuracy(train_pred, y_train))\n",
    "print('Test Accuracy : ', get_accuracy(test_pred, y_test))\n",
    "print('='*30)\n",
    "\n",
    "print('Model with prior')\n",
    "nb = NaiveBay(with_prior=True)\n",
    "nb.fit(X_train, y_train)\n",
    "print(nb.priors)\n",
    "my_pred = nb.predict(X_test)\n",
    "train_pred = nb.predict(X_train)\n",
    "test_pred = nb.predict(X_test)\n",
    "print('Train Accuracy :', get_accuracy(train_pred, y_train))\n",
    "print('Test Accuracy : ', get_accuracy(test_pred, y_test))"
   ]
  },
  {
   "cell_type": "markdown",
   "metadata": {},
   "source": [
    "##### Priors are not equal here but with addition of priors the result does imporove by a small margin"
   ]
  },
  {
   "cell_type": "markdown",
   "metadata": {},
   "source": [
    "## Example 2: Text classification\n",
    "\n",
    "This example has been adapted from a post by Jaya Aiyappan, available at\n",
    "[Analytics Vidhya](https://medium.com/analytics-vidhya/naive-bayes-classifier-for-text-classification-556fabaf252b#:~:text=The%20Naive%20Bayes%20classifier%20is,time%20and%20less%20training%20data).\n",
    "\n",
    "We will generate a small dataset of sentences that are classified as either \"statements\" or \"questions.\"\n",
    "\n",
    "We will assume that occurance and placement of words within a sentence is independent of each other\n",
    "(i.e., the features are conditionally independent given $y$). So the sentence \"this is my book\" is the same as \"is this my book.\"\n",
    "We will treat words as case insensitive."
   ]
  },
  {
   "cell_type": "code",
   "execution_count": 28,
   "metadata": {},
   "outputs": [
    {
     "name": "stdout",
     "output_type": "stream",
     "text": [
      "                             sentence      class\n",
      "0               This is my novel book  statement\n",
      "1  this book has more than one author  statement\n",
      "2                     is this my book   question\n",
      "3                     They are novels  statement\n",
      "4             have you read this book   question\n",
      "5            who is the novels author   question\n",
      "6             what are the characters   question\n",
      "7       This is how I bought the book  statement\n",
      "8         I like fictional characters  statement\n",
      "9          what is your favorite book   question\n",
      "\n",
      "------------------------------------------\n",
      "\n",
      "                        sentence      class\n",
      "0               this is the book  statement\n",
      "1  who are the novels characters   question\n",
      "2             is this the author   question\n"
     ]
    }
   ],
   "source": [
    "# Generate text data for two classes, \"statement\" and \"question\"\n",
    "\n",
    "text_train = [['This is my novel book', 'statement'],\n",
    "              ['this book has more than one author', 'statement'],\n",
    "              ['is this my book', 'question'],\n",
    "              ['They are novels', 'statement'],\n",
    "              ['have you read this book', 'question'],\n",
    "              ['who is the novels author', 'question'],\n",
    "              ['what are the characters', 'question'],\n",
    "              ['This is how I bought the book', 'statement'],\n",
    "              ['I like fictional characters', 'statement'],\n",
    "              ['what is your favorite book', 'question']]\n",
    "\n",
    "text_test = [['this is the book', 'statement'], \n",
    "             ['who are the novels characters', 'question'], \n",
    "             ['is this the author', 'question']]\n",
    "\n",
    "# Load training and test data into pandas data frames\n",
    "\n",
    "training_data = pd.DataFrame(text_train, columns= ['sentence', 'class'])\n",
    "print(training_data)\n",
    "print('\\n------------------------------------------\\n')\n",
    "testing_data = pd.DataFrame(text_test, columns= ['sentence', 'class'])\n",
    "print(testing_data)\n"
   ]
  },
  {
   "cell_type": "code",
   "execution_count": 29,
   "metadata": {},
   "outputs": [],
   "source": [
    "# Partition training data by class\n",
    "\n",
    "stmt_docs = [train['sentence'] for index,train in training_data.iterrows() if train['class'] == 'statement']\n",
    "question_docs = [train['sentence'] for index,train in training_data.iterrows() if train['class'] == 'question']\n",
    "\n",
    "# Get word frequencies for each sentence and class\n",
    "\n",
    "def get_words(text):\n",
    "    # Initialize word list\n",
    "    words = [];\n",
    "    # Loop through each sentence in input array\n",
    "    for text_row in text:       \n",
    "        # Check the number of words. Assume each word is separated by a blank space\n",
    "        # so that the number of words is the number of blank spaces + 1\n",
    "        number_of_spaces = text_row.count(' ')\n",
    "        # loop through the sentence and get words between blank spaces.\n",
    "        for i in range(number_of_spaces):\n",
    "            # Check for for last word\n",
    "            words.append([text_row[:text_row.index(' ')].lower()])\n",
    "            text_row = text_row[text_row.index(' ')+1:]  \n",
    "            i = i + 1        \n",
    "        words.append([text_row])\n",
    "    return np.unique(words)\n",
    "\n",
    "# Get frequency of each word in each document\n",
    "\n",
    "def get_doc_word_frequency(words, text):  \n",
    "    word_freq_table = np.zeros((len(text),len(words)), dtype=int)\n",
    "    i = 0\n",
    "    for text_row in text:\n",
    "        # Insert extra space between each pair of words to prevent\n",
    "        # partial match of words\n",
    "        text_row_temp = ''\n",
    "        for idx, val in enumerate(text_row):\n",
    "            if val == ' ':\n",
    "                 text_row_temp = text_row_temp + '  '\n",
    "            else:\n",
    "                  text_row_temp = text_row_temp + val.lower()\n",
    "        text_row = ' ' + text_row_temp + ' '\n",
    "        j = 0\n",
    "        for word in words: \n",
    "            word = ' ' + word + ' '\n",
    "            freq = text_row.count(word)\n",
    "            word_freq_table[i,j] = freq\n",
    "            j = j + 1\n",
    "        i = i + 1\n",
    "    \n",
    "    return word_freq_table"
   ]
  },
  {
   "cell_type": "code",
   "execution_count": 30,
   "metadata": {},
   "outputs": [
    {
     "name": "stdout",
     "output_type": "stream",
     "text": [
      "   are  author  book  bought  characters  fictional  has  how  i  is  like  \\\n",
      "0    0       0     1       0           0          0    0    0  0   1     0   \n",
      "1    0       1     1       0           0          0    1    0  0   0     0   \n",
      "2    1       0     0       0           0          0    0    0  0   0     0   \n",
      "3    0       0     1       1           0          0    0    1  1   1     0   \n",
      "4    0       0     0       0           1          1    0    0  1   0     1   \n",
      "\n",
      "   more  my  novel  novels  one  than  the  they  this  \n",
      "0     0   1      1       0    0     0    0     0     1  \n",
      "1     1   0      0       0    1     1    0     0     1  \n",
      "2     0   0      0       1    0     0    0     1     0  \n",
      "3     0   0      0       0    0     0    1     0     1  \n",
      "4     0   0      0       0    0     0    0     0     0  \n"
     ]
    }
   ],
   "source": [
    "# Get word frequencies for statement documents\n",
    "\n",
    "word_list_s = get_words(stmt_docs)\n",
    "word_freq_table_s = get_doc_word_frequency(word_list_s, stmt_docs)\n",
    "tdm_s = pd.DataFrame(word_freq_table_s, columns=word_list_s)\n",
    "print(tdm_s)"
   ]
  },
  {
   "cell_type": "code",
   "execution_count": 31,
   "metadata": {},
   "outputs": [
    {
     "name": "stdout",
     "output_type": "stream",
     "text": [
      "{'are': 1, 'author': 1, 'book': 3, 'bought': 1, 'characters': 1, 'fictional': 1, 'has': 1, 'how': 1, 'i': 2, 'is': 2, 'like': 1, 'more': 1, 'my': 1, 'novel': 1, 'novels': 1, 'one': 1, 'than': 1, 'the': 1, 'they': 1, 'this': 3}\n"
     ]
    }
   ],
   "source": [
    "# Get word frequencies over all statement documents\n",
    "\n",
    "freq_list_s = word_freq_table_s.sum(axis=0) \n",
    "freq_s = dict(zip(word_list_s,freq_list_s))\n",
    "print(freq_s)"
   ]
  },
  {
   "cell_type": "code",
   "execution_count": 32,
   "metadata": {},
   "outputs": [
    {
     "name": "stdout",
     "output_type": "stream",
     "text": [
      "   are  author  book  characters  favorite  have  is  my  novels  read  the  \\\n",
      "0    0       0     1           0         0     0   1   1       0     0    0   \n",
      "1    0       0     1           0         0     1   0   0       0     1    0   \n",
      "2    0       1     0           0         0     0   1   0       1     0    1   \n",
      "3    1       0     0           1         0     0   0   0       0     0    1   \n",
      "4    0       0     1           0         1     0   1   0       0     0    0   \n",
      "\n",
      "   this  what  who  you  your  \n",
      "0     1     0    0    0     0  \n",
      "1     1     0    0    1     0  \n",
      "2     0     0    1    0     0  \n",
      "3     0     1    0    0     0  \n",
      "4     0     1    0    0     1  \n"
     ]
    }
   ],
   "source": [
    "# Get word frequencies for question documents\n",
    "\n",
    "word_list_q = get_words(question_docs)\n",
    "word_freq_table_q = get_doc_word_frequency(word_list_q, question_docs)\n",
    "tdm_q = pd.DataFrame(word_freq_table_q, columns=word_list_q)\n",
    "print(tdm_q)"
   ]
  },
  {
   "cell_type": "code",
   "execution_count": 33,
   "metadata": {},
   "outputs": [
    {
     "name": "stdout",
     "output_type": "stream",
     "text": [
      "{'are': 1, 'author': 1, 'book': 3, 'characters': 1, 'favorite': 1, 'have': 1, 'is': 3, 'my': 1, 'novels': 1, 'read': 1, 'the': 2, 'this': 2, 'what': 2, 'who': 1, 'you': 1, 'your': 1}\n"
     ]
    }
   ],
   "source": [
    "# Get word frequencies over all question documents\n",
    "\n",
    "freq_list_q = word_freq_table_q.sum(axis=0) \n",
    "freq_q = dict(zip(word_list_q,freq_list_q))\n",
    "print(freq_q)"
   ]
  },
  {
   "cell_type": "markdown",
   "metadata": {},
   "source": [
    "### In-lab exercise: Laplace smoothing\n",
    "\n",
    "Run the code below and figure out why it fails.\n",
    "\n",
    "When a word does not appear with a specific class in the training data, its class-conditional probability is 0, and we are unable to\n",
    "get a reasonable probability for that class.\n",
    "\n",
    "Research Laplace smoothing, and modify the code above to implement Laplace smoothing (setting the frequency of all words with frequency 0 to a frequency of 1).\n",
    "Run the modified code on the test set."
   ]
  },
  {
   "cell_type": "code",
   "execution_count": 34,
   "metadata": {},
   "outputs": [],
   "source": [
    "# laplace smooth adds words to each class that appears in other class but not in its own with a count 1\n",
    "# It also increments the counts of other words by 1 so as not to change the overall probabilities much\n",
    "\n",
    "def laplace_smooth(word_list_s, freq_list_s, word_list_q, freq_list_q):\n",
    "    s_extra = np.setdiff1d(word_list_q, word_list_s, assume_unique=True)\n",
    "    q_extra = np.setdiff1d(word_list_s, word_list_q, assume_unique=True)\n",
    "    \n",
    "    word_list_s = np.concatenate((word_list_s, s_extra))\n",
    "    word_list_q = np.concatenate((word_list_q, q_extra))  \n",
    "    \n",
    "    freq_list_s = np.concatenate((freq_list_s, np.zeros(s_extra.shape, dtype=int)))\n",
    "    freq_list_q = np.concatenate((freq_list_q, np.zeros(q_extra.shape, dtype=int)))\n",
    "    \n",
    "    freq_list_s = freq_list_s + 1\n",
    "    freq_list_q = freq_list_q + 1\n",
    "    \n",
    "    return word_list_s, freq_list_s, word_list_q, freq_list_q\n",
    "\n",
    "word_list_s, freq_list_s, word_list_q, freq_list_q = laplace_smooth(word_list_s, freq_list_s, word_list_q, freq_list_q)"
   ]
  },
  {
   "cell_type": "code",
   "execution_count": 35,
   "metadata": {},
   "outputs": [
    {
     "name": "stdout",
     "output_type": "stream",
     "text": [
      "Probability of words for \"statement\" class \n",
      "\n",
      "{'are': 0.07407407407407407, 'author': 0.07407407407407407, 'book': 0.14814814814814814, 'bought': 0.07407407407407407, 'characters': 0.07407407407407407, 'fictional': 0.07407407407407407, 'has': 0.07407407407407407, 'how': 0.07407407407407407, 'i': 0.1111111111111111, 'is': 0.1111111111111111, 'like': 0.07407407407407407, 'more': 0.07407407407407407, 'my': 0.07407407407407407, 'novel': 0.07407407407407407, 'novels': 0.07407407407407407, 'one': 0.07407407407407407, 'than': 0.07407407407407407, 'the': 0.07407407407407407, 'they': 0.07407407407407407, 'this': 0.14814814814814814, 'favorite': 0.037037037037037035, 'have': 0.037037037037037035, 'read': 0.037037037037037035, 'what': 0.037037037037037035, 'who': 0.037037037037037035, 'you': 0.037037037037037035, 'your': 0.037037037037037035}\n",
      "------------------------------------------- \n",
      "\n",
      "Probability of words for \"question\" class \n",
      "\n",
      "{'are': 0.07407407407407407, 'author': 0.07407407407407407, 'book': 0.14814814814814814, 'characters': 0.07407407407407407, 'favorite': 0.07407407407407407, 'have': 0.07407407407407407, 'is': 0.14814814814814814, 'my': 0.07407407407407407, 'novels': 0.07407407407407407, 'read': 0.07407407407407407, 'the': 0.1111111111111111, 'this': 0.1111111111111111, 'what': 0.1111111111111111, 'who': 0.07407407407407407, 'you': 0.07407407407407407, 'your': 0.07407407407407407, 'bought': 0.037037037037037035, 'fictional': 0.037037037037037035, 'has': 0.037037037037037035, 'how': 0.037037037037037035, 'i': 0.037037037037037035, 'like': 0.037037037037037035, 'more': 0.037037037037037035, 'novel': 0.037037037037037035, 'one': 0.037037037037037035, 'than': 0.037037037037037035, 'they': 0.037037037037037035}\n"
     ]
    }
   ],
   "source": [
    "# Get word probabilities for statement class\n",
    "\n",
    "prob_s = []\n",
    "for word, count in zip(word_list_s, freq_list_s):\n",
    "    #print(word, count)\n",
    "    prob_s.append(count/len(word_list_s))\n",
    "    \n",
    "# Get word probabilities for question class\n",
    "\n",
    "prob_q = []\n",
    "for count in freq_list_q:\n",
    "    prob_q.append(count/len(word_list_q))\n",
    "    \n",
    "print('Probability of words for \"statement\" class \\n')\n",
    "print(dict(zip(word_list_s, prob_s)))\n",
    "print('------------------------------------------- \\n')\n",
    "print('Probability of words for \"question\" class \\n')\n",
    "print(dict(zip(word_list_q, prob_q)))"
   ]
  },
  {
   "cell_type": "code",
   "execution_count": 36,
   "metadata": {},
   "outputs": [],
   "source": [
    "# Calculate prior for one class\n",
    "\n",
    "def prior(className):    \n",
    "    denominator = len(stmt_docs) + len(question_docs)\n",
    "    \n",
    "    if className == 'statement':\n",
    "        numerator =  len(stmt_docs)\n",
    "    else:\n",
    "        numerator =  len(question_docs)\n",
    "        \n",
    "    return np.divide(numerator,denominator)\n",
    "    \n",
    "# Calculate class conditional probability for a sentence\n",
    "    \n",
    "def classCondProb(sentence, className):\n",
    "    words = get_words(sentence)\n",
    "#     print(\"words: \",words)\n",
    "    prob = 1\n",
    "    for word in words:\n",
    "        if className == 'statement':\n",
    "#             print(\"word is: \",word)\n",
    "            idx = np.where(word_list_s == word)\n",
    "#             print(\"Shape of idx is: \",idx)\n",
    "            prob = prob * prob_s[np.array(idx)[0,0]]\n",
    "        else:\n",
    "            idx = np.where(word_list_q == word)\n",
    "            prob = prob * prob_q[np.array(idx)[0,0]]   \n",
    "    \n",
    "    return prob\n",
    "\n",
    "# Predict class of a sentence\n",
    "\n",
    "def predict(sentence):\n",
    "    prob_statement = classCondProb(sentence, 'statement') * prior('statement')\n",
    "    prob_question = classCondProb(sentence, 'question') * prior('question')\n",
    "    if  prob_statement > prob_question:\n",
    "        return 'statement'\n",
    "    else:\n",
    "        return 'question'\n",
    "\n",
    "def accuracy(test_docs, target):\n",
    "    correct = 0\n",
    "    for i in range(len(test_docs)):\n",
    "        predicted_as = predict(test_docs[i])\n",
    "        if predicted_as == target[i]:\n",
    "            correct += 1\n",
    "    return correct/len(test_docs) * 100"
   ]
  },
  {
   "cell_type": "code",
   "execution_count": 38,
   "metadata": {},
   "outputs": [
    {
     "name": "stdout",
     "output_type": "stream",
     "text": [
      "Getting prediction for \"this is the book\"\n"
     ]
    },
    {
     "data": {
      "text/plain": [
       "'question'"
      ]
     },
     "execution_count": 38,
     "metadata": {},
     "output_type": "execute_result"
    }
   ],
   "source": [
    "test_docs = list([[test['sentence']] for index,test in testing_data.iterrows()])\n",
    "print('Getting prediction for \"%s\"' % test_docs[0][0])\n",
    "predict(test_docs[0])"
   ]
  },
  {
   "cell_type": "markdown",
   "metadata": {},
   "source": [
    "The classifier being word position insensitive classifies the statement \"this is a book\" as a question of form \"is this a book\""
   ]
  },
  {
   "cell_type": "code",
   "execution_count": 39,
   "metadata": {},
   "outputs": [
    {
     "name": "stdout",
     "output_type": "stream",
     "text": [
      "Accuracy on test set is 66.67 \n"
     ]
    }
   ],
   "source": [
    "acc = accuracy(test_docs, testing_data['class'])\n",
    "print(\"Accuracy on test set is %.2f \"%(acc))"
   ]
  },
  {
   "cell_type": "markdown",
   "metadata": {},
   "source": [
    "\n",
    "\n",
    "### Take home exercise\n",
    "\n",
    "Find a more substantial text classification dataset, clean up the documents, and build your NB classifier. Write a brief report on your in-lab and take home exercises and results."
   ]
  },
  {
   "cell_type": "markdown",
   "metadata": {},
   "source": [
    "###### The dataset is from kaggle:\n",
    "Link : https://www.kaggle.com/arbazkhan971/product-sentiment-analysis\n"
   ]
  },
  {
   "cell_type": "code",
   "execution_count": 41,
   "metadata": {},
   "outputs": [],
   "source": [
    "data = pd.read_csv(\"product_review.csv\")"
   ]
  },
  {
   "cell_type": "code",
   "execution_count": 42,
   "metadata": {},
   "outputs": [
    {
     "data": {
      "text/html": [
       "<div>\n",
       "<style scoped>\n",
       "    .dataframe tbody tr th:only-of-type {\n",
       "        vertical-align: middle;\n",
       "    }\n",
       "\n",
       "    .dataframe tbody tr th {\n",
       "        vertical-align: top;\n",
       "    }\n",
       "\n",
       "    .dataframe thead th {\n",
       "        text-align: right;\n",
       "    }\n",
       "</style>\n",
       "<table border=\"1\" class=\"dataframe\">\n",
       "  <thead>\n",
       "    <tr style=\"text-align: right;\">\n",
       "      <th></th>\n",
       "      <th>Text_ID</th>\n",
       "      <th>Product_Description</th>\n",
       "      <th>Product_Type</th>\n",
       "      <th>Sentiment</th>\n",
       "    </tr>\n",
       "  </thead>\n",
       "  <tbody>\n",
       "    <tr>\n",
       "      <th>0</th>\n",
       "      <td>3057</td>\n",
       "      <td>The Web DesignerÛªs Guide to iOS (and Android...</td>\n",
       "      <td>9</td>\n",
       "      <td>2</td>\n",
       "    </tr>\n",
       "    <tr>\n",
       "      <th>1</th>\n",
       "      <td>6254</td>\n",
       "      <td>RT @mention Line for iPad 2 is longer today th...</td>\n",
       "      <td>9</td>\n",
       "      <td>2</td>\n",
       "    </tr>\n",
       "    <tr>\n",
       "      <th>2</th>\n",
       "      <td>8212</td>\n",
       "      <td>Crazy that Apple is opening a temporary store ...</td>\n",
       "      <td>9</td>\n",
       "      <td>2</td>\n",
       "    </tr>\n",
       "    <tr>\n",
       "      <th>3</th>\n",
       "      <td>4422</td>\n",
       "      <td>The lesson from Google One Pass: In this digit...</td>\n",
       "      <td>9</td>\n",
       "      <td>2</td>\n",
       "    </tr>\n",
       "    <tr>\n",
       "      <th>4</th>\n",
       "      <td>5526</td>\n",
       "      <td>RT @mention At the panel: &amp;quot;Your mom has a...</td>\n",
       "      <td>9</td>\n",
       "      <td>2</td>\n",
       "    </tr>\n",
       "  </tbody>\n",
       "</table>\n",
       "</div>"
      ],
      "text/plain": [
       "   Text_ID                                Product_Description  Product_Type  \\\n",
       "0     3057  The Web DesignerÛªs Guide to iOS (and Android...             9   \n",
       "1     6254  RT @mention Line for iPad 2 is longer today th...             9   \n",
       "2     8212  Crazy that Apple is opening a temporary store ...             9   \n",
       "3     4422  The lesson from Google One Pass: In this digit...             9   \n",
       "4     5526  RT @mention At the panel: &quot;Your mom has a...             9   \n",
       "\n",
       "   Sentiment  \n",
       "0          2  \n",
       "1          2  \n",
       "2          2  \n",
       "3          2  \n",
       "4          2  "
      ]
     },
     "execution_count": 42,
     "metadata": {},
     "output_type": "execute_result"
    }
   ],
   "source": [
    "data.head()"
   ]
  },
  {
   "cell_type": "code",
   "execution_count": 43,
   "metadata": {},
   "outputs": [],
   "source": [
    "## remove some special characters and convert to lower case\n",
    "data['Product_Description'] = data['Product_Description'].str.replace('[^a-zA-Z0-9 \\n\\.]|\\.', '').str.lower()"
   ]
  },
  {
   "cell_type": "code",
   "execution_count": 44,
   "metadata": {},
   "outputs": [
    {
     "data": {
      "text/html": [
       "<div>\n",
       "<style scoped>\n",
       "    .dataframe tbody tr th:only-of-type {\n",
       "        vertical-align: middle;\n",
       "    }\n",
       "\n",
       "    .dataframe tbody tr th {\n",
       "        vertical-align: top;\n",
       "    }\n",
       "\n",
       "    .dataframe thead th {\n",
       "        text-align: right;\n",
       "    }\n",
       "</style>\n",
       "<table border=\"1\" class=\"dataframe\">\n",
       "  <thead>\n",
       "    <tr style=\"text-align: right;\">\n",
       "      <th></th>\n",
       "      <th>Text_ID</th>\n",
       "      <th>Product_Description</th>\n",
       "      <th>Product_Type</th>\n",
       "      <th>Sentiment</th>\n",
       "    </tr>\n",
       "  </thead>\n",
       "  <tbody>\n",
       "    <tr>\n",
       "      <th>0</th>\n",
       "      <td>3057</td>\n",
       "      <td>the web designers guide to ios and android app...</td>\n",
       "      <td>9</td>\n",
       "      <td>2</td>\n",
       "    </tr>\n",
       "    <tr>\n",
       "      <th>1</th>\n",
       "      <td>6254</td>\n",
       "      <td>rt mention line for ipad 2 is longer today tha...</td>\n",
       "      <td>9</td>\n",
       "      <td>2</td>\n",
       "    </tr>\n",
       "    <tr>\n",
       "      <th>2</th>\n",
       "      <td>8212</td>\n",
       "      <td>crazy that apple is opening a temporary store ...</td>\n",
       "      <td>9</td>\n",
       "      <td>2</td>\n",
       "    </tr>\n",
       "    <tr>\n",
       "      <th>3</th>\n",
       "      <td>4422</td>\n",
       "      <td>the lesson from google one pass in this digita...</td>\n",
       "      <td>9</td>\n",
       "      <td>2</td>\n",
       "    </tr>\n",
       "    <tr>\n",
       "      <th>4</th>\n",
       "      <td>5526</td>\n",
       "      <td>rt mention at the panel quotyour mom has an ip...</td>\n",
       "      <td>9</td>\n",
       "      <td>2</td>\n",
       "    </tr>\n",
       "  </tbody>\n",
       "</table>\n",
       "</div>"
      ],
      "text/plain": [
       "   Text_ID                                Product_Description  Product_Type  \\\n",
       "0     3057  the web designers guide to ios and android app...             9   \n",
       "1     6254  rt mention line for ipad 2 is longer today tha...             9   \n",
       "2     8212  crazy that apple is opening a temporary store ...             9   \n",
       "3     4422  the lesson from google one pass in this digita...             9   \n",
       "4     5526  rt mention at the panel quotyour mom has an ip...             9   \n",
       "\n",
       "   Sentiment  \n",
       "0          2  \n",
       "1          2  \n",
       "2          2  \n",
       "3          2  \n",
       "4          2  "
      ]
     },
     "execution_count": 44,
     "metadata": {},
     "output_type": "execute_result"
    }
   ],
   "source": [
    "data.head()"
   ]
  },
  {
   "cell_type": "code",
   "execution_count": 50,
   "metadata": {},
   "outputs": [
    {
     "data": {
      "text/plain": [
       "2    3765\n",
       "3    2089\n",
       "1     399\n",
       "0     111\n",
       "Name: Sentiment, dtype: int64"
      ]
     },
     "execution_count": 50,
     "metadata": {},
     "output_type": "execute_result"
    }
   ],
   "source": [
    "data['Sentiment'].value_counts()"
   ]
  },
  {
   "cell_type": "code",
   "execution_count": 45,
   "metadata": {},
   "outputs": [],
   "source": [
    "class NaiveBayes:\n",
    "    def __init__(self, with_prior):\n",
    "        self.word_freqs = {} \n",
    "        self.n_words = {}\n",
    "        self.y_class = {}\n",
    "        self.with_prior = with_prior\n",
    "        \n",
    "    def get_word_frequency(self, sentence_array):\n",
    "        # make text_array into 1d array \n",
    "        sentence_series = pd.Series(sentence_array)\n",
    "        sentence_series += ' ' # add space for spliting words\n",
    "        word_series = pd.Series(sentence_series.sum().split(' '))\n",
    "        word_series = word_series[word_series != ' '] # drop unwanted elements\n",
    "        return word_series.value_counts().to_dict(), len(word_series)\n",
    "        \n",
    "    def fit(self, X, y):\n",
    "        # X => array of vector\n",
    "        # y => array of class\n",
    "        self.y_class = pd.Series(y).value_counts().to_dict()\n",
    "        for y_class in self.y_class : \n",
    "            y_index = np.where(y == y_class)\n",
    "            \n",
    "            y_X = X.copy()[y_index]\n",
    "            self.word_freqs[y_class], self.n_words[y_class] = self.get_word_frequency(y_X)\n",
    "            \n",
    "        all_X = X.copy()\n",
    "        self.word_freqs['all'], self.n_words['all'] = self.get_word_frequency(all_X)\n",
    "        self.y_class['all'] = X.shape[0] # count the number of samples\n",
    "        \n",
    "    def predict(self, X, alpha=1):\n",
    "        d = len(self.word_freqs['all']) # the number of possible words in all categories\n",
    "        pred_df = pd.DataFrame()        \n",
    "        n = self.y_class['all'] # number of training size\n",
    "        for y_class in self.y_class :\n",
    "            if y_class != 'all' : \n",
    "                y_hat = []\n",
    "                n_y = self.y_class[y_class] # the number of class y in training set \n",
    "                n_wy = self.n_words[y_class] # the number of words occur in y_class \n",
    "                for sentence in X : \n",
    "                    p_xy = 1\n",
    "                    words = pd.Series(sentence.split(' '))                \n",
    "                    for w in words : \n",
    "                        n_xy = 0\n",
    "                        if w in self.word_freqs[y_class] : \n",
    "                            n_xy = self.word_freqs[y_class][w] # the number of word x happens in class y   \n",
    "                        p_xy *= (n_xy + alpha) / (n_wy + alpha*d) \n",
    "\n",
    "                    if self.with_prior :\n",
    "                        p_xy *= n_y / n\n",
    "                    y_hat.append(p_xy)               \n",
    "                pred_df[y_class] = y_hat\n",
    "    \n",
    "        pred_df['y_pred'] = np.argmax(pred_df.values, axis=1)\n",
    "        pred_df['y_pred'] = [pred_df.columns[v] for v in pred_df['y_pred']]\n",
    "        self.pred_df = pred_df\n",
    "        return pred_df['y_pred'].values"
   ]
  },
  {
   "cell_type": "code",
   "execution_count": 47,
   "metadata": {},
   "outputs": [
    {
     "data": {
      "text/html": [
       "<div>\n",
       "<style scoped>\n",
       "    .dataframe tbody tr th:only-of-type {\n",
       "        vertical-align: middle;\n",
       "    }\n",
       "\n",
       "    .dataframe tbody tr th {\n",
       "        vertical-align: top;\n",
       "    }\n",
       "\n",
       "    .dataframe thead th {\n",
       "        text-align: right;\n",
       "    }\n",
       "</style>\n",
       "<table border=\"1\" class=\"dataframe\">\n",
       "  <thead>\n",
       "    <tr style=\"text-align: right;\">\n",
       "      <th></th>\n",
       "      <th>Text_ID</th>\n",
       "      <th>Product_Description</th>\n",
       "      <th>Product_Type</th>\n",
       "      <th>Sentiment</th>\n",
       "    </tr>\n",
       "  </thead>\n",
       "  <tbody>\n",
       "    <tr>\n",
       "      <th>99</th>\n",
       "      <td>8512</td>\n",
       "      <td>like mention download freak jet on your iphone...</td>\n",
       "      <td>7</td>\n",
       "      <td>3</td>\n",
       "    </tr>\n",
       "    <tr>\n",
       "      <th>756</th>\n",
       "      <td>8219</td>\n",
       "      <td>apple just brought is water in the ipad line sxsw</td>\n",
       "      <td>9</td>\n",
       "      <td>2</td>\n",
       "    </tr>\n",
       "    <tr>\n",
       "      <th>4171</th>\n",
       "      <td>1985</td>\n",
       "      <td>mention and mention saying hi at sxsw with the...</td>\n",
       "      <td>9</td>\n",
       "      <td>3</td>\n",
       "    </tr>\n",
       "    <tr>\n",
       "      <th>4275</th>\n",
       "      <td>7717</td>\n",
       "      <td>learned from sponsored sxsw software 1 austin ...</td>\n",
       "      <td>5</td>\n",
       "      <td>3</td>\n",
       "    </tr>\n",
       "    <tr>\n",
       "      <th>2108</th>\n",
       "      <td>611</td>\n",
       "      <td>i may not have invites to all the quotcoolquot...</td>\n",
       "      <td>9</td>\n",
       "      <td>3</td>\n",
       "    </tr>\n",
       "  </tbody>\n",
       "</table>\n",
       "</div>"
      ],
      "text/plain": [
       "      Text_ID                                Product_Description  \\\n",
       "99       8512  like mention download freak jet on your iphone...   \n",
       "756      8219  apple just brought is water in the ipad line sxsw   \n",
       "4171     1985  mention and mention saying hi at sxsw with the...   \n",
       "4275     7717  learned from sponsored sxsw software 1 austin ...   \n",
       "2108      611  i may not have invites to all the quotcoolquot...   \n",
       "\n",
       "      Product_Type  Sentiment  \n",
       "99               7          3  \n",
       "756              9          2  \n",
       "4171             9          3  \n",
       "4275             5          3  \n",
       "2108             9          3  "
      ]
     },
     "execution_count": 47,
     "metadata": {},
     "output_type": "execute_result"
    }
   ],
   "source": [
    "# Split dataset into test and train set\n",
    "def split_dataset(df, training_ratio=0.6, shuffle=True):\n",
    "    if shuffle :\n",
    "        df = df.sample(frac=1)\n",
    "    t_size = int(df.shape[0] * training_ratio)\n",
    "    # train , test \n",
    "    return df.iloc[:t_size], df.iloc[t_size:]\n",
    "data_train , data_test = split_dataset(data, 0.8)\n"
   ]
  },
  {
   "cell_type": "code",
   "execution_count": 48,
   "metadata": {},
   "outputs": [],
   "source": [
    "m = NaiveBayes(True)\n",
    "m.fit(data_train['Product_Description'].values, data_train['Sentiment'].values)\n",
    "train_pred = m.predict(data_train['Product_Description'].values)\n",
    "test_pred = m.predict(data_test['Product_Description'].values)"
   ]
  },
  {
   "cell_type": "code",
   "execution_count": 49,
   "metadata": {},
   "outputs": [
    {
     "name": "stdout",
     "output_type": "stream",
     "text": [
      "Accuracy\n",
      "Training set accuracy 0.8222353172264781\n",
      "Test set accuracy 0.6614296936370778\n"
     ]
    }
   ],
   "source": [
    "print('Accuracy')\n",
    "print('Training set accuracy', get_accuracy(train_pred, data_train['Sentiment'].values))\n",
    "print('Test set accuracy', get_accuracy(test_pred, data_test['Sentiment'].values))"
   ]
  },
  {
   "cell_type": "markdown",
   "metadata": {},
   "source": [
    "The test accuract value is quite low, this may be because of the unbalanced dataset that we have in terms of number of data for each sentiment value. There Another point to note while working with text data is that, extensive data cleaning and preprocessing is required. "
   ]
  }
 ],
 "metadata": {
  "kernelspec": {
   "display_name": "Python 3",
   "language": "python",
   "name": "python3"
  },
  "language_info": {
   "codemirror_mode": {
    "name": "ipython",
    "version": 3
   },
   "file_extension": ".py",
   "mimetype": "text/x-python",
   "name": "python",
   "nbconvert_exporter": "python",
   "pygments_lexer": "ipython3",
   "version": "3.8.3"
  }
 },
 "nbformat": 4,
 "nbformat_minor": 4
}
