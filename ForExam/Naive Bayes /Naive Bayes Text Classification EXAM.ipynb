{
 "cells": [
  {
   "cell_type": "markdown",
   "metadata": {},
   "source": [
    "### Naive Bayes Text Classification"
   ]
  },
  {
   "cell_type": "code",
   "execution_count": 1,
   "metadata": {},
   "outputs": [],
   "source": [
    "import numpy as np\n",
    "import csv\n",
    "import math\n",
    "import random\n",
    "import pandas as pd\n",
    "import numpy as np\n",
    "from IPython.display import display, clear_output"
   ]
  },
  {
   "cell_type": "code",
   "execution_count": 2,
   "metadata": {},
   "outputs": [],
   "source": [
    "# # Generate text data for two classes, \"statement\" and \"question\"\n",
    "\n",
    "# text_train = [['This is my novel book', 'statement'],\n",
    "#               ['this book has more than one author', 'statement'],\n",
    "#               ['is this my book', 'question'],\n",
    "#               ['They are novels', 'statement'],\n",
    "#               ['have you read this book', 'question'],\n",
    "#               ['who is the novels author', 'question'],\n",
    "#               ['what are the characters', 'question'],\n",
    "#               ['This is how I bought the book', 'statement'],\n",
    "#               ['I like fictional characters', 'statement'],\n",
    "#               ['what is your favorite book', 'question']]\n",
    "\n",
    "# text_test = [['this is the book', 'statement'], \n",
    "#              ['who are the novels characters', 'question'], \n",
    "#              ['is this the author', 'question']]"
   ]
  },
  {
   "cell_type": "code",
   "execution_count": 3,
   "metadata": {},
   "outputs": [
    {
     "data": {
      "text/html": [
       "<div>\n",
       "<style scoped>\n",
       "    .dataframe tbody tr th:only-of-type {\n",
       "        vertical-align: middle;\n",
       "    }\n",
       "\n",
       "    .dataframe tbody tr th {\n",
       "        vertical-align: top;\n",
       "    }\n",
       "\n",
       "    .dataframe thead th {\n",
       "        text-align: right;\n",
       "    }\n",
       "</style>\n",
       "<table border=\"1\" class=\"dataframe\">\n",
       "  <thead>\n",
       "    <tr style=\"text-align: right;\">\n",
       "      <th></th>\n",
       "      <th>reviewerID</th>\n",
       "      <th>asin</th>\n",
       "      <th>reviewerName</th>\n",
       "      <th>helpful</th>\n",
       "      <th>reviewText</th>\n",
       "      <th>overall</th>\n",
       "      <th>summary</th>\n",
       "      <th>unixReviewTime</th>\n",
       "      <th>reviewTime</th>\n",
       "    </tr>\n",
       "  </thead>\n",
       "  <tbody>\n",
       "    <tr>\n",
       "      <th>10256</th>\n",
       "      <td>A14B2YH83ZXMPP</td>\n",
       "      <td>B00JBIVXGC</td>\n",
       "      <td>Lonnie M. Adams</td>\n",
       "      <td>[0, 0]</td>\n",
       "      <td>Great, just as expected.  Thank to all.</td>\n",
       "      <td>5.0</td>\n",
       "      <td>Five Stars</td>\n",
       "      <td>1405814400</td>\n",
       "      <td>07 20, 2014</td>\n",
       "    </tr>\n",
       "    <tr>\n",
       "      <th>10257</th>\n",
       "      <td>A1RPTVW5VEOSI</td>\n",
       "      <td>B00JBIVXGC</td>\n",
       "      <td>Michael J. Edelman</td>\n",
       "      <td>[0, 0]</td>\n",
       "      <td>I've been thinking about trying the Nanoweb st...</td>\n",
       "      <td>5.0</td>\n",
       "      <td>Long life, and for some players, a good econom...</td>\n",
       "      <td>1404259200</td>\n",
       "      <td>07 2, 2014</td>\n",
       "    </tr>\n",
       "    <tr>\n",
       "      <th>10258</th>\n",
       "      <td>AWCJ12KBO5VII</td>\n",
       "      <td>B00JBIVXGC</td>\n",
       "      <td>Michael L. Knapp</td>\n",
       "      <td>[0, 0]</td>\n",
       "      <td>I have tried coated strings in the past ( incl...</td>\n",
       "      <td>4.0</td>\n",
       "      <td>Good for coated.</td>\n",
       "      <td>1405987200</td>\n",
       "      <td>07 22, 2014</td>\n",
       "    </tr>\n",
       "    <tr>\n",
       "      <th>10259</th>\n",
       "      <td>A2Z7S8B5U4PAKJ</td>\n",
       "      <td>B00JBIVXGC</td>\n",
       "      <td>Rick Langdon \"Scriptor\"</td>\n",
       "      <td>[0, 0]</td>\n",
       "      <td>Well, MADE by Elixir and DEVELOPED with Taylor...</td>\n",
       "      <td>4.0</td>\n",
       "      <td>Taylor Made</td>\n",
       "      <td>1404172800</td>\n",
       "      <td>07 1, 2014</td>\n",
       "    </tr>\n",
       "    <tr>\n",
       "      <th>10260</th>\n",
       "      <td>A2WA8TDCTGUADI</td>\n",
       "      <td>B00JBIVXGC</td>\n",
       "      <td>TheTerrorBeyond</td>\n",
       "      <td>[0, 0]</td>\n",
       "      <td>These strings are really quite good, but I wou...</td>\n",
       "      <td>4.0</td>\n",
       "      <td>These strings are really quite good, but I wou...</td>\n",
       "      <td>1405468800</td>\n",
       "      <td>07 16, 2014</td>\n",
       "    </tr>\n",
       "  </tbody>\n",
       "</table>\n",
       "</div>"
      ],
      "text/plain": [
       "           reviewerID        asin             reviewerName helpful  \\\n",
       "10256  A14B2YH83ZXMPP  B00JBIVXGC          Lonnie M. Adams  [0, 0]   \n",
       "10257   A1RPTVW5VEOSI  B00JBIVXGC       Michael J. Edelman  [0, 0]   \n",
       "10258   AWCJ12KBO5VII  B00JBIVXGC         Michael L. Knapp  [0, 0]   \n",
       "10259  A2Z7S8B5U4PAKJ  B00JBIVXGC  Rick Langdon \"Scriptor\"  [0, 0]   \n",
       "10260  A2WA8TDCTGUADI  B00JBIVXGC          TheTerrorBeyond  [0, 0]   \n",
       "\n",
       "                                              reviewText  overall  \\\n",
       "10256            Great, just as expected.  Thank to all.      5.0   \n",
       "10257  I've been thinking about trying the Nanoweb st...      5.0   \n",
       "10258  I have tried coated strings in the past ( incl...      4.0   \n",
       "10259  Well, MADE by Elixir and DEVELOPED with Taylor...      4.0   \n",
       "10260  These strings are really quite good, but I wou...      4.0   \n",
       "\n",
       "                                                 summary  unixReviewTime  \\\n",
       "10256                                         Five Stars      1405814400   \n",
       "10257  Long life, and for some players, a good econom...      1404259200   \n",
       "10258                                   Good for coated.      1405987200   \n",
       "10259                                        Taylor Made      1404172800   \n",
       "10260  These strings are really quite good, but I wou...      1405468800   \n",
       "\n",
       "        reviewTime  \n",
       "10256  07 20, 2014  \n",
       "10257   07 2, 2014  \n",
       "10258  07 22, 2014  \n",
       "10259   07 1, 2014  \n",
       "10260  07 16, 2014  "
      ]
     },
     "execution_count": 3,
     "metadata": {},
     "output_type": "execute_result"
    }
   ],
   "source": [
    "df = pd.read_csv('Musical_instruments_reviews.csv')\n",
    "df.tail()"
   ]
  },
  {
   "cell_type": "markdown",
   "metadata": {},
   "source": [
    "### Extract X and y"
   ]
  },
  {
   "cell_type": "code",
   "execution_count": 4,
   "metadata": {},
   "outputs": [],
   "source": [
    "df[\"Text\"] = df['reviewText'].fillna('')\n",
    "df = df[df['Text'] != ' ']\n",
    "df['Text'] = df['Text'].str.replace('[^a-zA-Z0-9 \\n\\.]|\\.', '')\n",
    "df['Text'] = df['Text'].str.lower()\n",
    "df = df[['Text', 'overall']]"
   ]
  },
  {
   "cell_type": "code",
   "execution_count": 5,
   "metadata": {},
   "outputs": [
    {
     "name": "stdout",
     "output_type": "stream",
     "text": [
      "                                                Text  overall\n",
      "0  not much to write about here but it does exact...      5.0\n",
      "1  the product does exactly as it should and is q...      5.0\n",
      "2  the primary job of this device is to block the...      5.0\n",
      "3  nice windscreen protects my mxl mic and preven...      5.0\n",
      "4  this pop filter is great it looks and performs...      5.0\n"
     ]
    }
   ],
   "source": [
    "print(df.head())"
   ]
  },
  {
   "cell_type": "markdown",
   "metadata": {},
   "source": [
    "### Split data"
   ]
  },
  {
   "cell_type": "code",
   "execution_count": 6,
   "metadata": {},
   "outputs": [],
   "source": [
    "# # Load training and test data into pandas data frames\n",
    "# training_data = pd.DataFrame(text_train, columns= ['sentence', 'class'])\n",
    "# print(training_data['sentence'])\n",
    "# testing_data = pd.DataFrame(text_test, columns= ['sentence', 'class'])\n",
    "# # print(testing_data)\n",
    "# print(testing_data['sentence'])"
   ]
  },
  {
   "cell_type": "code",
   "execution_count": 7,
   "metadata": {},
   "outputs": [
    {
     "name": "stdout",
     "output_type": "stream",
     "text": [
      "shapes of X_train, y_train\n",
      "(7182,) (7182,)\n",
      "shapes of X_test, y_test\n",
      "(3079,) (3079,)\n",
      "7365    looks nice hardware is good and it works great...\n",
      "4318    the good thing about the cable station is you ...\n",
      "8483    its been a while since last we got together th...\n",
      "3456    i got a pair of these strings in early august ...\n",
      "9537    the action was a little high for my taste  the...\n",
      "                              ...                        \n",
      "4815    this mixer is just what ive been looking for t...\n",
      "974     i play 5string bass both electric and acoustic...\n",
      "6808    our teenager really likes these  as a beginner...\n",
      "56      pretty crappy cable it works and gets the job ...\n",
      "6843    how much can you say about a patch cable this ...\n",
      "Name: Text, Length: 7182, dtype: object\n"
     ]
    }
   ],
   "source": [
    "from sklearn.model_selection import train_test_split\n",
    "\n",
    "X_train,X_test,y_train,y_test = train_test_split(df[\"Text\"],df[\"overall\"],test_size = 0.3)\n",
    "\n",
    "# double check the shapes\n",
    "assert X_train.shape[0] == y_train.shape[0]\n",
    "# assert len(X_train)  == len(y_train)\n",
    "assert X_test.shape[0] == y_test.shape[0]\n",
    "# assert len(X_test) == len(y_test)\n",
    "\n",
    "print('shapes of X_train, y_train')\n",
    "print(X_train.shape,y_train.shape)\n",
    "print('shapes of X_test, y_test')\n",
    "print(X_test.shape,y_test.shape)\n",
    "print(X_train)"
   ]
  },
  {
   "cell_type": "markdown",
   "metadata": {},
   "source": [
    "### Training data"
   ]
  },
  {
   "cell_type": "code",
   "execution_count": 22,
   "metadata": {},
   "outputs": [],
   "source": [
    "# from sklearn.feature_extraction.text import CountVectorizer\n",
    "# vectorizer = CountVectorizer()\n",
    "# X = vectorizer.fit_transform(training_data['sentence'])\n",
    "# print(\"Feature names: \", vectorizer.get_feature_names())\n",
    "# print(\"number of words: \",len(vectorizer.get_feature_names()))\n",
    "# print(\"type: \",type(X))\n",
    "# print(X.toarray())\n",
    "\n",
    "\n",
    "##########WHAT FOR?############\n",
    "# vectorizer2 = CountVectorizer(analyzer = 'word',ngram_range = (2,2))\n",
    "# X2 = vectorizer2.fit_transform(training_data['sentence'])\n",
    "# print(\"Feature names: \", vectorizer2.get_feature_names())\n",
    "# print(type(X2))\n",
    "# print(X2.toarray())"
   ]
  },
  {
   "cell_type": "markdown",
   "metadata": {},
   "source": [
    "### Testing data"
   ]
  },
  {
   "cell_type": "code",
   "execution_count": 9,
   "metadata": {},
   "outputs": [
    {
     "name": "stdout",
     "output_type": "stream",
     "text": [
      "============================== X_train and X_test shape\n",
      "(7182, 25995)\n",
      "(3079, 25995)\n",
      "============================== y_train and y_test shape\n",
      "(7182,)\n",
      "(3079,)\n",
      "[[0 0 0 ... 0 0 0]\n",
      " [0 0 0 ... 0 0 0]\n",
      " [0 0 0 ... 0 0 0]\n",
      " ...\n",
      " [0 0 0 ... 0 0 0]\n",
      " [0 0 0 ... 0 0 0]\n",
      " [0 0 0 ... 0 0 0]]\n"
     ]
    }
   ],
   "source": [
    "from sklearn.feature_extraction.text import CountVectorizer\n",
    "vectorizer = CountVectorizer()\n",
    "#.fit_transofrm only for training data\n",
    "X_train = vectorizer.fit_transform(X_train)\n",
    "# X_train = X_train.toarray()\n",
    "\n",
    "# and transform for xtest\n",
    "#.tranform only testing data (gives a sparse matrix)\n",
    "X_test = vectorizer.transform(X_test)\n",
    "X_test = X_test.toarray()\n",
    "# print(\"X_test\",X_test[1,:10])\n",
    "# print(X_train.shape)\n",
    "# print(X_test.shape)\n",
    "\n",
    "# y_train = training_data['class']\n",
    "# y_test = testing_data['class']\n",
    "\n",
    "print(\"=\"*30,\"X_train and X_test shape\")\n",
    "print(X_train.shape)\n",
    "print(X_test.shape)\n",
    "\n",
    "print(\"=\"*30,\"y_train and y_test shape\")\n",
    "print(y_train.shape)\n",
    "print(y_test.shape)\n",
    "print(X_test[1:10])"
   ]
  },
  {
   "cell_type": "markdown",
   "metadata": {},
   "source": [
    "### Calculating likelihood and prior"
   ]
  },
  {
   "cell_type": "code",
   "execution_count": 10,
   "metadata": {},
   "outputs": [],
   "source": [
    "def likelihood(X_class,laplace = 1):\n",
    "#     print(X_class.sum(axis = 0)+laplace)\n",
    "#     print(np.sum(X_class.sum(axis=0)+laplace))\n",
    "    return((X_class.sum(axis = 0)+laplace))/(np.sum(X_class.sum(axis=0)+laplace)) "
   ]
  },
  {
   "cell_type": "code",
   "execution_count": 11,
   "metadata": {},
   "outputs": [],
   "source": [
    "def prior(X_class,m):\n",
    "    return X_class.shape[0]/m"
   ]
  },
  {
   "cell_type": "code",
   "execution_count": 29,
   "metadata": {},
   "outputs": [],
   "source": [
    "def fit(X_train,y_train):\n",
    "    m,n = X_train.shape\n",
    "    classes = np.unique(y_train)\n",
    "    k = len(classes)\n",
    "\n",
    "    priors = np.zeros(k) #prior for each class\n",
    "    likelihoods = np.zeros((k,n))\n",
    "    for idx,label in enumerate(classes):\n",
    "        X_train_c = X_train[y_train == label]\n",
    "        priors[idx] = prior(X_train_c,m)\n",
    "#         print('priors',priors)\n",
    "        likelihoods[idx,:] = likelihood(X_train_c)\n",
    "    return priors,likelihoods"
   ]
  },
  {
   "cell_type": "code",
   "execution_count": 30,
   "metadata": {},
   "outputs": [],
   "source": [
    "def predict(X_test,priors,likelihoods,classes):\n",
    "    return np.log(priors) + X_test@ np.log( likelihoods.T )"
   ]
  },
  {
   "cell_type": "code",
   "execution_count": 35,
   "metadata": {},
   "outputs": [
    {
     "name": "stdout",
     "output_type": "stream",
     "text": [
      "priors [0.02074631 0.         0.         0.         0.        ]\n",
      "priors [0.02074631 0.02339181 0.         0.         0.        ]\n",
      "priors [0.02074631 0.02339181 0.07421331 0.         0.        ]\n",
      "priors [0.02074631 0.02339181 0.07421331 0.20551378 0.        ]\n",
      "priors [0.02074631 0.02339181 0.07421331 0.20551378 0.67613478]\n",
      "[[2.49041191e-05 2.49041191e-05 2.49041191e-05 ... 2.49041191e-05\n",
      "  2.49041191e-05 2.49041191e-05]\n",
      " [4.55612001e-05 2.27806000e-05 2.27806000e-05 ... 2.27806000e-05\n",
      "  2.27806000e-05 2.27806000e-05]\n",
      " [1.25368269e-05 1.25368269e-05 1.25368269e-05 ... 1.25368269e-05\n",
      "  1.25368269e-05 1.25368269e-05]\n",
      " [1.19692391e-05 1.19692391e-05 5.98461953e-06 ... 5.98461953e-06\n",
      "  1.79538586e-05 1.19692391e-05]\n",
      " [7.33419225e-06 2.44473075e-06 4.88946150e-06 ... 4.88946150e-06\n",
      "  2.44473075e-06 2.44473075e-06]]\n"
     ]
    }
   ],
   "source": [
    "priors, likelihoods = fit(X_train,y_train)\n",
    "print(likelihoods)"
   ]
  },
  {
   "cell_type": "code",
   "execution_count": 37,
   "metadata": {},
   "outputs": [
    {
     "name": "stdout",
     "output_type": "stream",
     "text": [
      "Classes:  [1. 2. 3. 4. 5.]\n",
      "X_test shape: (3079, 25995)\n",
      "priors shape:  (5,)\n",
      "likelihoods shape:  (5, 25995)\n",
      "[[2.49041191e-05 2.49041191e-05 2.49041191e-05 ... 2.49041191e-05\n",
      "  2.49041191e-05 2.49041191e-05]\n",
      " [4.55612001e-05 2.27806000e-05 2.27806000e-05 ... 2.27806000e-05\n",
      "  2.27806000e-05 2.27806000e-05]\n",
      " [1.25368269e-05 1.25368269e-05 1.25368269e-05 ... 1.25368269e-05\n",
      "  1.25368269e-05 1.25368269e-05]\n",
      " [1.19692391e-05 1.19692391e-05 5.98461953e-06 ... 5.98461953e-06\n",
      "  1.79538586e-05 1.19692391e-05]\n",
      " [7.33419225e-06 2.44473075e-06 4.88946150e-06 ... 4.88946150e-06\n",
      "  2.44473075e-06 2.44473075e-06]]\n",
      "X_test@np.log(likelihoods.T) shape:  (3079, 5)\n",
      "[[ -260.32645767  -255.64851024  -242.72970303  -231.09770859\n",
      "   -226.20456315]\n",
      " [ -493.53608085  -487.3713727   -453.21975111  -440.52477064\n",
      "   -444.25373287]\n",
      " [ -731.31594135  -703.90819556  -650.58962633  -639.13858177\n",
      "   -626.46538533]\n",
      " ...\n",
      " [ -151.05578477  -144.44068093  -140.75622776  -136.31426962\n",
      "   -130.40330411]\n",
      " [ -259.31401102  -255.14283175  -243.17803479  -231.76308589\n",
      "   -223.75661449]\n",
      " [-1628.74566746 -1591.43248532 -1525.41178751 -1484.19179356\n",
      "  -1479.46724724]]\n"
     ]
    }
   ],
   "source": [
    "classes = np.unique(y_test)\n",
    "print(\"Classes: \",classes)\n",
    "print(\"X_test shape:\",X_test.shape)\n",
    "print(\"priors shape: \",priors.shape)\n",
    "print(\"likelihoods shape: \", likelihoods.shape)\n",
    "print(likelihoods)\n",
    "print(\"X_test@np.log(likelihoods.T) shape: \",(X_test@np.log( likelihoods.T )).shape)\n",
    "yhat = predict(X_test,priors,likelihoods,classes)\n",
    "print(yhat)"
   ]
  },
  {
   "cell_type": "code",
   "execution_count": 33,
   "metadata": {},
   "outputs": [
    {
     "name": "stdout",
     "output_type": "stream",
     "text": [
      "First two yhat samples:  [[-260.32645767 -255.64851024 -242.72970303 -231.09770859 -226.20456315]\n",
      " [-493.53608085 -487.3713727  -453.21975111 -440.52477064 -444.25373287]]\n",
      "(3079, 5)\n",
      "yhat shape after argmax:  (3079,)\n",
      "First two yhat sample:  [4 3 4 4 4 4 4 4 4 4 4 4 4 4 4 4 4 4 4 4 4 4 4 4 4 4 4 4 4 4 4 4 4 4 4 4 4\n",
      " 4 4 4 4 4 4 4 4 4 4 4 4 4 4 4 4 3 4 4 4 4 4 4 4 4 3 4 4 4 4 4 4 4 3 4 4 4\n",
      " 4 4 4 4 4 4 4 4 4 4 4 4 4 4 4 4 4 4 4 4 4 4 4 3 4 4 4 4 4 4 4 4 4 4 4 4 4\n",
      " 4 4 4 4 4 4 4 4 4 4 4 3 4 4 4 4 4 4 4 4 4 4 4 4 4 4 4 4 3 4 4 4 3 4 4 4 4\n",
      " 4 4 4 4 4 4 4 4 4 4 4 4 4 4 4 4 4 4 4 4 4 4 4 4 4 4 4 4 4 4 4 4 4 4 4 4 4\n",
      " 4 4 4 4 4 4 4 4 4 4 4 4 4 4 4 4 4 4 4 4 4 4 4 4 4 4 4 4 4 4 4 4 4 4 4 4 4\n",
      " 4 4 4 4 4 4 4 4 4 4 4 4 4 4 4 4 4 2 4 4 4 4 4 4 4 4 4 4 4 4 4 4 4 4 4 4 3\n",
      " 4 4 4 4 4 4 4 4 4 4 4 4 4 4 4 4 4 4 3 4 4 4 4 4 4 4 3 4 3 4 4 4 4 4 4 4 4\n",
      " 4 4 4 4 4 4 3 4 4 4 4 4 4 4 4 4 4 4 4 4 4 4 4 4 4 4 4 4 4 4 4 4 4 4 4 4 4\n",
      " 4 4 4 4 4 4 4 4 4 4 4 4 4 4 4 4 4 4 4 4 4 4 4 4 4 4 4 4 4 4 4 4 4 4 4 4 4\n",
      " 4 4 4 4 4 4 4 3 4 4 4 4 4 4 4 4 4 4 4 4 4 4 4 4 4 4 3 4 4 4 4 4 4 4 4 4 4\n",
      " 4 4 4 4 4 4 4 4 4 4 4 4 4 4 4 4 4 4 4 4 4 4 4 3 4 4 4 4 4 4 4 4 4 4 4 4 4\n",
      " 4 4 4 4 4 4 4 4 4 4 4 4 4 4 4 4 4 4 4 4 4 4 4 4 4 4 4 4 4 4 4 4 4 4 4 4 4\n",
      " 4 4 4 4 4 4 4 4 4 4 3 4 4 4 4 4 4 4 4]\n"
     ]
    }
   ],
   "source": [
    "print(\"First two yhat samples: \", yhat[:2])\n",
    "print(yhat.shape)\n",
    "yhat = np.argmax(yhat,axis=1)\n",
    "print(\"yhat shape after argmax: \",yhat.shape)\n",
    "print(\"First two yhat sample: \",yhat[:500])\n"
   ]
  },
  {
   "cell_type": "code",
   "execution_count": 34,
   "metadata": {},
   "outputs": [
    {
     "name": "stdout",
     "output_type": "stream",
     "text": [
      "Accuracy:  0.19291977914907438\n"
     ]
    }
   ],
   "source": [
    "print(\"Accuracy: \",np.sum(yhat==y_test)/len(y_test))"
   ]
  },
  {
   "cell_type": "code",
   "execution_count": null,
   "metadata": {},
   "outputs": [],
   "source": []
  },
  {
   "cell_type": "code",
   "execution_count": null,
   "metadata": {},
   "outputs": [],
   "source": []
  },
  {
   "cell_type": "code",
   "execution_count": null,
   "metadata": {},
   "outputs": [],
   "source": []
  }
 ],
 "metadata": {
  "kernelspec": {
   "display_name": "Python 3",
   "language": "python",
   "name": "python3"
  },
  "language_info": {
   "codemirror_mode": {
    "name": "ipython",
    "version": 3
   },
   "file_extension": ".py",
   "mimetype": "text/x-python",
   "name": "python",
   "nbconvert_exporter": "python",
   "pygments_lexer": "ipython3",
   "version": "3.7.4"
  }
 },
 "nbformat": 4,
 "nbformat_minor": 4
}
