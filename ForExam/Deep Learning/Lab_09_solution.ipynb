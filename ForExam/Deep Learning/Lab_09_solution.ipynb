{
 "cells": [
  {
   "cell_type": "markdown",
   "metadata": {},
   "source": [
    "# Lab 09: Deep Learning Part I: Fully Connected Neural Networks\n",
    "\n",
    "In class, we have developed the mathematics and programming techniques for binary classification using fully connected neural networks\n",
    "having one or more hidden layers.\n",
    "\n",
    "Today, we'll expand on that to consider (small) image classification using again fully connected neural networks with a multinomial\n",
    "(softmax) output layer.\n",
    "\n",
    "## MNIST Data\n",
    "\n",
    "An image is a 2D array of pixels. Pixels can be scalar intensities (for a grayscale / black and white image) or a vector indicating a\n",
    "point in a color space such as RGB or HSV.\n",
    "\n",
    "Today we'll consider 8x8 grayscale images of digits from the famous \"MNIST\" dataset, which was considered a benchmark for machine learning algorithms\n",
    "up to the early 2000s, before the advent of large-scale image classification datasets.\n",
    "\n",
    "This dataset in SciKit-Learn has 10 classes, with 180 samples per class in most cases, for a total of 1797 samples.\n",
    "\n",
    "Let's load the dataset and plot an example."
   ]
  },
  {
   "cell_type": "code",
   "execution_count": 1,
   "metadata": {},
   "outputs": [
    {
     "data": {
      "text/plain": [
       "Text(0.5, 1.0, 'Example MNIST sample (category 0)')"
      ]
     },
     "execution_count": 1,
     "metadata": {},
     "output_type": "execute_result"
    },
    {
     "data": {
      "image/png": "[encoded data removed]",
      "text/plain": [
       "<Figure size 432x288 with 1 Axes>"
      ]
     },
     "metadata": {
      "needs_background": "light"
     },
     "output_type": "display_data"
    }
   ],
   "source": [
    "import numpy as np\n",
    "from sklearn.datasets import load_digits\n",
    "import matplotlib.pyplot as plt\n",
    "\n",
    "# Load data\n",
    "\n",
    "data = load_digits()\n",
    "\n",
    "def convert_to_one_hot(y):\n",
    "    y_vect = np.zeros((len(y), 10))\n",
    "    for i in range(len(y)):\n",
    "        y_vect[i, int(y[i])] = 1\n",
    "    return y_vect\n",
    "\n",
    "# Convert target indices to one-hot representation\n",
    "\n",
    "y_indices = data.target\n",
    "y = convert_to_one_hot(y_indices)\n",
    "X = np.matrix(data.data)\n",
    "M = X.shape[0]\n",
    "N = X.shape[1]\n",
    "\n",
    "# Plot an example\n",
    "\n",
    "plt.imshow(np.reshape(X[0,:],(8,8)), 'gray')\n",
    "plt.title('Example MNIST sample (category %d)' % y_indices[0])"
   ]
  },
  {
   "cell_type": "markdown",
   "metadata": {},
   "source": [
    "## Hand-Coded Fully Connected Neural Network\n",
    "\n",
    "OK, now let's modify our code from class to work with this dataset and run 100 epochs of training.\n",
    "The main change is to use a one-hot encoding of the 10 classes at the output layer and to use\n",
    "the softmax activation function at the output. Some minor changes are required to calculate multinomial\n",
    "cross entropy loss rather than binary cross entropy loss."
   ]
  },
  {
   "cell_type": "code",
   "execution_count": 2,
   "metadata": {},
   "outputs": [
    {
     "name": "stdout",
     "output_type": "stream",
     "text": [
      "Epoch 0 train loss 2488.229717\n",
      "Epoch 1 train loss 2485.304869\n",
      "Epoch 2 train loss 2483.315755\n",
      "Epoch 3 train loss 2483.096332\n",
      "Epoch 4 train loss 2481.951734\n",
      "Epoch 5 train loss 2479.027969\n",
      "Epoch 6 train loss 2475.445792\n",
      "Epoch 7 train loss 2465.605639\n",
      "Epoch 8 train loss 2441.035807\n",
      "Epoch 9 train loss 2381.707772\n",
      "Epoch 10 train loss 2270.857232\n",
      "Epoch 11 train loss 2145.569170\n",
      "Epoch 12 train loss 2048.553448\n",
      "Epoch 13 train loss 1985.560717\n",
      "Epoch 14 train loss 1939.919242\n",
      "Epoch 15 train loss 1901.970129\n",
      "Epoch 16 train loss 1872.222690\n",
      "Epoch 17 train loss 1844.374937\n",
      "Epoch 18 train loss 1817.580091\n",
      "Epoch 19 train loss 1794.405847\n",
      "Epoch 20 train loss 1768.649923\n",
      "Epoch 21 train loss 1743.453378\n",
      "Epoch 22 train loss 1719.951578\n",
      "Epoch 23 train loss 1691.689648\n",
      "Epoch 24 train loss 1669.411384\n",
      "Epoch 25 train loss 1644.188783\n",
      "Epoch 26 train loss 1616.512541\n",
      "Epoch 27 train loss 1584.486731\n",
      "Epoch 28 train loss 1550.266033\n",
      "Epoch 29 train loss 1508.606411\n",
      "Epoch 30 train loss 1461.098619\n",
      "Epoch 31 train loss 1413.342553\n",
      "Epoch 32 train loss 1366.120421\n",
      "Epoch 33 train loss 1324.899331\n",
      "Epoch 34 train loss 1285.448712\n",
      "Epoch 35 train loss 1259.395441\n",
      "Epoch 36 train loss 1227.899592\n",
      "Epoch 37 train loss 1203.449206\n",
      "Epoch 38 train loss 1178.922295\n",
      "Epoch 39 train loss 1156.816481\n",
      "Epoch 40 train loss 1136.174608\n",
      "Epoch 41 train loss 1116.753647\n",
      "Epoch 42 train loss 1099.428102\n",
      "Epoch 43 train loss 1081.146409\n",
      "Epoch 44 train loss 1066.912375\n",
      "Epoch 45 train loss 1049.883926\n",
      "Epoch 46 train loss 1035.827127\n",
      "Epoch 47 train loss 1021.968853\n",
      "Epoch 48 train loss 1008.960952\n",
      "Epoch 49 train loss 994.745339\n",
      "Epoch 50 train loss 986.019665\n",
      "Epoch 51 train loss 971.769284\n",
      "Epoch 52 train loss 960.281894\n",
      "Epoch 53 train loss 946.523766\n",
      "Epoch 54 train loss 937.509305\n",
      "Epoch 55 train loss 925.128697\n",
      "Epoch 56 train loss 912.424087\n",
      "Epoch 57 train loss 899.842340\n",
      "Epoch 58 train loss 885.490857\n",
      "Epoch 59 train loss 871.035733\n",
      "Epoch 60 train loss 854.115963\n",
      "Epoch 61 train loss 840.114258\n",
      "Epoch 62 train loss 822.224079\n",
      "Epoch 63 train loss 809.194006\n",
      "Epoch 64 train loss 792.508780\n",
      "Epoch 65 train loss 781.100303\n",
      "Epoch 66 train loss 764.758843\n",
      "Epoch 67 train loss 750.934882\n",
      "Epoch 68 train loss 739.130413\n",
      "Epoch 69 train loss 723.659004\n",
      "Epoch 70 train loss 710.767292\n",
      "Epoch 71 train loss 697.890855\n",
      "Epoch 72 train loss 685.817898\n",
      "Epoch 73 train loss 673.252908\n",
      "Epoch 74 train loss 660.018954\n",
      "Epoch 75 train loss 647.239541\n",
      "Epoch 76 train loss 631.648866\n",
      "Epoch 77 train loss 614.108693\n",
      "Epoch 78 train loss 603.056102\n",
      "Epoch 79 train loss 584.190236\n",
      "Epoch 80 train loss 567.490515\n",
      "Epoch 81 train loss 553.601457\n",
      "Epoch 82 train loss 539.527792\n",
      "Epoch 83 train loss 524.259407\n",
      "Epoch 84 train loss 509.825742\n",
      "Epoch 85 train loss 501.273430\n",
      "Epoch 86 train loss 491.497655\n",
      "Epoch 87 train loss 481.645314\n",
      "Epoch 88 train loss 474.811437\n",
      "Epoch 89 train loss 465.827430\n",
      "Epoch 90 train loss 457.466371\n",
      "Epoch 91 train loss 451.956433\n",
      "Epoch 92 train loss 446.751211\n",
      "Epoch 93 train loss 438.216556\n",
      "Epoch 94 train loss 432.451901\n",
      "Epoch 95 train loss 425.597572\n",
      "Epoch 96 train loss 420.341614\n",
      "Epoch 97 train loss 414.045718\n",
      "Epoch 98 train loss 407.295658\n",
      "Epoch 99 train loss 400.184995\n"
     ]
    },
    {
     "data": {
      "image/png": "[encoded data removed]",
      "text/plain": [
       "<Figure size 432x288 with 1 Axes>"
      ]
     },
     "metadata": {
      "needs_background": "light"
     },
     "output_type": "display_data"
    },
    {
     "name": "stdout",
     "output_type": "stream",
     "text": [
      "Test accuracy: 0.7816\n"
     ]
    }
   ],
   "source": [
    "import random\n",
    "import warnings\n",
    "warnings.filterwarnings(\"ignore\")\n",
    "\n",
    "# Normalize each input feature\n",
    "\n",
    "def normalize(X):\n",
    "    M = X.shape[0]\n",
    "    XX = X - np.tile(np.mean(X,0),[M,1])\n",
    "    XX = np.divide(XX, np.tile(np.std(XX,0),[M,1]))\n",
    "    return np.nan_to_num(XX, copy=True,nan=0.0)\n",
    "\n",
    "XX = normalize(X)\n",
    "\n",
    "idx = np.arange(0,M)\n",
    "\n",
    "# Partion data into training and testing dataset\n",
    "\n",
    "random.shuffle(idx)\n",
    "percent_train = .6\n",
    "m_train = int(M * percent_train)\n",
    "train_idx = idx[0:m_train]\n",
    "test_idx = idx[m_train:M+1]\n",
    "X_train = XX[train_idx,:];\n",
    "X_test = XX[test_idx,:];\n",
    "\n",
    "y_train = y[train_idx];\n",
    "y_test = y[test_idx];\n",
    "y_test_indices = y_indices[test_idx]\n",
    "\n",
    "# Let's start with a 3-layer network with sigmoid activation functions,\n",
    "# 6 units in layer 1, and 5 units in layer 2.\n",
    "\n",
    "h2 = 5\n",
    "h1 = 6\n",
    "W = [[], np.random.normal(0,0.1,[N,h1]),\n",
    "         np.random.normal(0,0.1,[h1,h2]),\n",
    "         np.random.normal(0,0.1,[h2,10])]\n",
    "b = [[], np.random.normal(0,0.1,[h1,1]),\n",
    "         np.random.normal(0,0.1,[h2,1]),\n",
    "         np.random.normal(0,0.1,[10,1])]\n",
    "L = len(W)-1\n",
    "\n",
    "def sigmoid_act(z):\n",
    "    return 1/(1+np.exp(-z))\n",
    "\n",
    "def softmax_act(z):\n",
    "    exps = np.exp(z)\n",
    "    return exps / np.sum(exps)\n",
    "\n",
    "def sigmoid_actder(z):\n",
    "    az = sigmoid_act(z)\n",
    "    prod = np.multiply(az,1-az)\n",
    "    return prod\n",
    "\n",
    "def ff(x,W,b):\n",
    "    L = len(W)-1\n",
    "    a = x\n",
    "    for l in range(1,L+1):\n",
    "        z = W[l].T*a+b[l]\n",
    "        if (l == L):\n",
    "            a = softmax_act(z)\n",
    "        else:\n",
    "            a = sigmoid_act(z)\n",
    "    return a\n",
    "\n",
    "def loss(y, yhat):\n",
    "    return - np.dot(y, np.log(yhat))\n",
    "\n",
    "# Train for 100 epochs with mini-batch size 1\n",
    "\n",
    "cost_arr = [] \n",
    "\n",
    "alpha = 0.01\n",
    "max_iter = 100\n",
    "for iter in range(0, max_iter):\n",
    "    loss_this_iter = 0\n",
    "    order = np.random.permutation(m_train)\n",
    "    for i in range(0, m_train):\n",
    "        \n",
    "        # Grab the pattern order[i]\n",
    "        \n",
    "        x_this = X_train[order[i],:].T\n",
    "        y_this = y_train[order[i],:]\n",
    "\n",
    "        # Feed forward step\n",
    "        \n",
    "        a = [x_this]\n",
    "        z = [[]]\n",
    "        delta = [[]]\n",
    "        dW = [[]]\n",
    "        db = [[]]\n",
    "        for l in range(1,L+1):\n",
    "            z.append(W[l].T*a[l-1]+b[l])\n",
    "            if (l == L):\n",
    "                a.append(softmax_act(z[l]))\n",
    "            else:\n",
    "                a.append(sigmoid_act(z[l]))\n",
    "            # Just to give arrays the right shape for the backprop step\n",
    "            delta.append([]); dW.append([]); db.append([])\n",
    "            \n",
    "        loss_this_pattern = loss(y_this, a[L])\n",
    "        loss_this_iter = loss_this_iter + loss_this_pattern\n",
    "            \n",
    "        # Backprop step. Note that derivative of multinomial cross entropy\n",
    "        # loss is the same as that of binary cross entropy loss. See\n",
    "        # https://levelup.gitconnected.com/killer-combo-softmax-and-cross-entropy-5907442f60ba\n",
    "        # for a nice derivation.\n",
    "\n",
    "        delta[L] = a[L] - np.matrix(y_this).T\n",
    "        for l in range(L,0,-1):\n",
    "            db[l] = delta[l].copy()\n",
    "            dW[l] = a[l-1] * delta[l].T\n",
    "            if l > 1:\n",
    "                delta[l-1] = np.multiply(sigmoid_actder(z[l-1]), W[l] *\n",
    "                             delta[l])\n",
    "                \n",
    "        # Check delta calculation\n",
    "        \n",
    "        if False:\n",
    "            print('Target: %f' % y_this)\n",
    "            print('y_hat: %f' % a[L][0,0])\n",
    "            print(db)\n",
    "            y_pred = ff(x_this,W,b)\n",
    "            diff = 1e-3\n",
    "            W[1][10,0] = W[1][10,0] + diff\n",
    "            y_pred_db = ff(x_this,W,b)\n",
    "            L1 = loss(y_this,y_pred)\n",
    "            L2 = loss(y_this,y_pred_db)\n",
    "            db_finite_difference = (L2-L1)/diff\n",
    "            print('Original out %f, perturbed out %f' %\n",
    "                 (y_pred[0,0], y_pred_db[0,0]))\n",
    "            print('Theoretical dW %f, calculated db %f' %\n",
    "                  (dW[1][10,0], db_finite_difference[0,0]))\n",
    "        \n",
    "        for l in range(1,L+1):            \n",
    "            W[l] = W[l] - alpha * dW[l]\n",
    "            b[l] = b[l] - alpha * db[l]\n",
    "            \n",
    "    cost_arr.append(loss_this_iter[0,0])\n",
    "    print('Epoch %d train loss %f' % (iter, loss_this_iter))\n",
    "\n",
    "plt.plot(np.arange(1,max_iter+1,1), cost_arr)\n",
    "plt.ylabel('Loss')\n",
    "plt.xlabel('Epoch')\n",
    "plt.show()\n",
    "\n",
    "# Get test set accuracy\n",
    "\n",
    "def predict_y(W, b, X):\n",
    "    M = X.shape[0]\n",
    "    y_pred = np.zeros(M)\n",
    "    for i in range(X.shape[0]):\n",
    "        y_pred[i] = np.argmax(ff(X[i,:].T, W, b))\n",
    "    return y_pred\n",
    "\n",
    "y_test_predicted = predict_y(W, b, X_test)\n",
    "y_correct = y_test_predicted == y_test_indices\n",
    "test_accuracy = np.sum(y_correct) / len(y_correct)\n",
    "\n",
    "print('Test accuracy: %.4f' % (test_accuracy))"
   ]
  },
  {
   "cell_type": "markdown",
   "metadata": {},
   "source": [
    "## In-class exercise\n",
    "\n",
    "Modify the code above to plot both training loss and test loss as a function of epoch number.\n",
    "Use early stopping to obtain the best model according to the validation set.\n",
    "Experiment with the hyperparameters (learning rate, number of layers, number of units per layer) to get\n",
    "the best result you can.\n",
    "\n",
    "Describe your experiments and results in your lab report.\n",
    "\n"
   ]
  },
  {
   "cell_type": "code",
   "execution_count": 18,
   "metadata": {},
   "outputs": [
    {
     "name": "stdout",
     "output_type": "stream",
     "text": [
      "epoch 1 train loss 894.417142 validate loss 599.046560\n",
      "epoch 2 train loss 892.788003 validate loss 600.446541\n",
      "epoch 3 train loss 892.369964 validate loss 601.060205\n",
      "epoch 4 train loss 892.391569 validate loss 601.105483\n",
      "epoch 5 train loss 892.093939 validate loss 601.097513\n",
      "epoch 6 train loss 892.122783 validate loss 601.434008\n",
      "epoch 7 train loss 892.065935 validate loss 600.695460\n",
      "epoch 8 train loss 891.923473 validate loss 600.812141\n",
      "epoch 9 train loss 891.698295 validate loss 601.070982\n",
      "epoch 10 train loss 891.444315 validate loss 600.336008\n",
      "epoch 11 train loss 891.416032 validate loss 600.636790\n",
      "epoch 12 train loss 891.201402 validate loss 599.804867\n",
      "epoch 13 train loss 890.687809 validate loss 599.882461\n",
      "epoch 14 train loss 890.615324 validate loss 599.117928\n",
      "epoch 15 train loss 890.025690 validate loss 599.326626\n",
      "epoch 16 train loss 889.634992 validate loss 598.751064\n",
      "epoch 17 train loss 889.278082 validate loss 598.182972\n",
      "epoch 18 train loss 888.622908 validate loss 598.462341\n",
      "epoch 19 train loss 887.825203 validate loss 597.223936\n",
      "epoch 20 train loss 886.867456 validate loss 597.673290\n",
      "epoch 21 train loss 885.625049 validate loss 596.294532\n",
      "epoch 22 train loss 884.062222 validate loss 595.346993\n",
      "epoch 23 train loss 881.843015 validate loss 594.102169\n",
      "epoch 24 train loss 879.379386 validate loss 592.492007\n",
      "epoch 25 train loss 875.764194 validate loss 589.695032\n",
      "epoch 26 train loss 871.592204 validate loss 586.748501\n",
      "epoch 27 train loss 865.670213 validate loss 581.512486\n",
      "epoch 28 train loss 857.915893 validate loss 577.525003\n",
      "epoch 29 train loss 848.841756 validate loss 570.269269\n",
      "epoch 30 train loss 837.089247 validate loss 562.080581\n",
      "epoch 31 train loss 823.736510 validate loss 551.849035\n",
      "epoch 32 train loss 807.929163 validate loss 541.024683\n",
      "epoch 33 train loss 791.458356 validate loss 529.377704\n",
      "epoch 34 train loss 774.073334 validate loss 517.898051\n",
      "epoch 35 train loss 757.669265 validate loss 507.584794\n",
      "epoch 36 train loss 743.852727 validate loss 502.256623\n",
      "epoch 37 train loss 736.252804 validate loss 497.381235\n",
      "epoch 38 train loss 728.912068 validate loss 492.524595\n",
      "epoch 39 train loss 722.072142 validate loss 487.861533\n",
      "epoch 40 train loss 715.559253 validate loss 483.296154\n",
      "epoch 41 train loss 709.740624 validate loss 481.208543\n",
      "epoch 42 train loss 706.655055 validate loss 479.247235\n",
      "epoch 43 train loss 703.660637 validate loss 477.212709\n",
      "epoch 44 train loss 700.726767 validate loss 475.232779\n",
      "epoch 45 train loss 697.834537 validate loss 473.317511\n",
      "epoch 46 train loss 695.201707 validate loss 472.393504\n",
      "epoch 47 train loss 693.806607 validate loss 471.475909\n",
      "epoch 48 train loss 692.425401 validate loss 470.569323\n",
      "epoch 49 train loss 691.051710 validate loss 469.699895\n",
      "epoch 50 train loss 689.700190 validate loss 468.809809\n",
      "epoch 51 train loss 688.410028 validate loss 468.366094\n",
      "epoch 52 train loss 687.738890 validate loss 467.926023\n",
      "epoch 53 train loss 687.069220 validate loss 467.483377\n",
      "epoch 54 train loss 686.403928 validate loss 467.042031\n",
      "epoch 55 train loss 685.740252 validate loss 466.607670\n",
      "epoch 56 train loss 685.102258 validate loss 466.388557\n",
      "epoch 57 train loss 684.771552 validate loss 466.172310\n",
      "epoch 58 train loss 684.441839 validate loss 465.957288\n",
      "epoch 59 train loss 684.112864 validate loss 465.740340\n",
      "epoch 60 train loss 683.784108 validate loss 465.521991\n",
      "epoch 61 train loss 683.467223 validate loss 465.413702\n",
      "epoch 62 train loss 683.303263 validate loss 465.305725\n",
      "epoch 63 train loss 683.139511 validate loss 465.197832\n",
      "epoch 64 train loss 682.975678 validate loss 465.090207\n",
      "epoch 65 train loss 682.812129 validate loss 464.982386\n",
      "epoch 66 train loss 682.654053 validate loss 464.928596\n",
      "epoch 67 train loss 682.572355 validate loss 464.874754\n",
      "epoch 68 train loss 682.490716 validate loss 464.821058\n",
      "epoch 69 train loss 682.409068 validate loss 464.767482\n",
      "epoch 70 train loss 682.327504 validate loss 464.713772\n",
      "epoch 71 train loss 682.248472 validate loss 464.686920\n",
      "epoch 72 train loss 682.207701 validate loss 464.660104\n",
      "epoch 73 train loss 682.166941 validate loss 464.633289\n",
      "epoch 74 train loss 682.126180 validate loss 464.606488\n",
      "epoch 75 train loss 682.085421 validate loss 464.579661\n",
      "epoch 76 train loss 682.045943 validate loss 464.566261\n",
      "epoch 77 train loss 682.025574 validate loss 464.552868\n",
      "epoch 78 train loss 682.005205 validate loss 464.539476\n",
      "epoch 79 train loss 681.984838 validate loss 464.526078\n",
      "epoch 80 train loss 681.964473 validate loss 464.512677\n",
      "epoch 81 train loss 681.944736 validate loss 464.505980\n",
      "epoch 82 train loss 681.934555 validate loss 464.499283\n",
      "epoch 83 train loss 681.924375 validate loss 464.492589\n",
      "epoch 84 train loss 681.914195 validate loss 464.485895\n",
      "epoch 85 train loss 681.904016 validate loss 464.479202\n",
      "epoch 86 train loss 681.894148 validate loss 464.475855\n",
      "epoch 87 train loss 681.889058 validate loss 464.472508\n",
      "epoch 88 train loss 681.883969 validate loss 464.469162\n",
      "epoch 89 train loss 681.878880 validate loss 464.465816\n",
      "epoch 90 train loss 681.873791 validate loss 464.462470\n",
      "epoch 91 train loss 681.868857 validate loss 464.460797\n",
      "epoch 92 train loss 681.866313 validate loss 464.459124\n",
      "epoch 93 train loss 681.863769 validate loss 464.457451\n",
      "epoch 94 train loss 681.861224 validate loss 464.455778\n",
      "epoch 95 train loss 681.858680 validate loss 464.454105\n",
      "epoch 96 train loss 681.856213 validate loss 464.453268\n",
      "epoch 97 train loss 681.854941 validate loss 464.452432\n",
      "epoch 98 train loss 681.853669 validate loss 464.451595\n",
      "epoch 99 train loss 681.852397 validate loss 464.450759\n",
      "epoch 100 train loss 681.851125 validate loss 464.449922\n"
     ]
    },
    {
     "data": {
      "image/png": "[encoded data removed]",
      "text/plain": [
       "<Figure size 432x288 with 1 Axes>"
      ]
     },
     "metadata": {
      "needs_background": "light"
     },
     "output_type": "display_data"
    },
    {
     "name": "stdout",
     "output_type": "stream",
     "text": [
      "Test accuracy: 0.3281853281853282 for alpha =0.01\n"
     ]
    }
   ],
   "source": [
    "import random\n",
    "import warnings\n",
    "import copy\n",
    "warnings.filterwarnings(\"ignore\")\n",
    "\n",
    "# Normalize each input feature\n",
    "\n",
    "def normalize(X):\n",
    "    M = X.shape[0]\n",
    "    XX = X - np.tile(np.mean(X,0),[M,1])\n",
    "    XX = np.divide(XX, np.tile(np.std(XX,0),[M,1]))\n",
    "    return np.nan_to_num(XX, copy=True,nan=0.0)\n",
    "\n",
    "XX = normalize(X)\n",
    "\n",
    "idx = np.arange(0,M)\n",
    "\n",
    "# Partion data into training and testing dataset\n",
    "\n",
    "random.shuffle(idx)\n",
    "percent_train = .6\n",
    "m_train = int(M * percent_train)\n",
    "train_idx = idx[0:m_train]\n",
    "test_idx = idx[m_train:M+1]\n",
    "X_train = XX[train_idx,:];\n",
    "X_test = XX[test_idx,:];\n",
    "\n",
    "y_train = y[train_idx];\n",
    "y_test = y[test_idx];\n",
    "y_test_indices = y_indices[test_idx]\n",
    "\n",
    "# Let's start with a 3-layer network with sigmoid activation functions,\n",
    "# 6 units in layer 1, and 5 units in layer 2.\n",
    "\n",
    "h2 = 5\n",
    "h1 = 6\n",
    "W = [[], np.random.normal(0,0.1,[N,h1]),\n",
    "         np.random.normal(0,0.1,[h1,h2]),\n",
    "         np.random.normal(0,0.1,[h2,10])]\n",
    "b = [[], np.random.normal(0,0.1,[h1,1]),\n",
    "         np.random.normal(0,0.1,[h2,1]),\n",
    "         np.random.normal(0,0.1,[10,1])]\n",
    "L = len(W)-1\n",
    "\n",
    "def sigmoid_act(z):\n",
    "    return 1/(1+np.exp(-z))\n",
    "\n",
    "def softmax_act(z):\n",
    "    exps = np.exp(z)\n",
    "    return exps / np.sum(exps)\n",
    "\n",
    "def sigmoid_actder(z):\n",
    "    az = sigmoid_act(z)\n",
    "    prod = np.multiply(az,1-az)\n",
    "    return prod\n",
    "\n",
    "def ff(x,W,b):\n",
    "    L = len(W)-1\n",
    "    a = x\n",
    "    for l in range(1,L+1):\n",
    "        z = W[l].T*a+b[l]\n",
    "        if (l == L):\n",
    "            a = softmax_act(z)\n",
    "        else:\n",
    "            a = sigmoid_act(z)\n",
    "    return a\n",
    "\n",
    "def loss(y, yhat):\n",
    "    return - np.dot(y, np.log(yhat))\n",
    "\n",
    "copy_w = None\n",
    "copy_b = None\n",
    "loss_tol = 10\n",
    "wait_iteration = 5\n",
    "best_val_loss = 0\n",
    "best_val_loss_idx = 0\n",
    "tolerance = 30\n",
    "# Train for 100 epochs with mini-batch size 1\n",
    "\n",
    "cost_arr = [] \n",
    "val_loss_arr = []\n",
    "M, N = X_train.shape\n",
    "\n",
    "alpha=0.01\n",
    "max_iter = 100\n",
    "for iter in range(1, max_iter+1):\n",
    "    loss_this_iter = 0\n",
    "    order = np.random.permutation(M)\n",
    "    for i in range(0,M):\n",
    "        \n",
    "        # Grab the pattern order[i]\n",
    "        \n",
    "        x_this = X_train[order[i],:].T\n",
    "        y_this = y_train[order[i],:]\n",
    "\n",
    "        # Feed forward step\n",
    "        \n",
    "        a = [x_this]\n",
    "        z = [[]]\n",
    "        delta = [[]]\n",
    "        dW = [[]]\n",
    "        db = [[]]\n",
    "        for l in range(1,L+1):\n",
    "            z.append(W[l].T*a[l-1]+b[l])\n",
    "            if (l == L):\n",
    "                a.append(softmax_act(z[l]))\n",
    "            else:\n",
    "                a.append(sigmoid_act(z[l]))\n",
    "            # Just to give arrays the right shape for the backprop step\n",
    "            delta.append([]); dW.append([]); db.append([])\n",
    "            \n",
    "        loss_this_pattern = loss(y_this, a[L])\n",
    "        loss_this_iter = loss_this_iter + loss_this_pattern\n",
    "            \n",
    "        # Backprop step. Note that derivative of multinomial cross entropy\n",
    "        # loss is the same as that of binary cross entropy loss. See\n",
    "        # https://levelup.gitconnected.com/killer-combo-softmax-and-cross-entropy-5907442f60ba\n",
    "        # for a nice derivation.\n",
    "\n",
    "        delta[L] = a[L] - np.matrix(y_this).T\n",
    "        for l in range(L,0,-1):\n",
    "            db[l] = delta[l].copy()\n",
    "            dW[l] = a[l-1] * delta[l].T\n",
    "            if l > 1:\n",
    "                delta[l-1] = np.multiply(sigmoid_actder(z[l-1]), W[l] *\n",
    "                             delta[l])\n",
    "                \n",
    "        # Check delta calculation\n",
    "        \n",
    "        if False:\n",
    "            print('Target: %f' % y_this)\n",
    "            print('y_hat: %f' % a[L][0,0])\n",
    "            print(db)\n",
    "            y_pred = ff(x_this,W,b)\n",
    "            diff = 1e-3\n",
    "            W[1][10,0] = W[1][10,0] + diff\n",
    "            y_pred_db = ff(x_this,W,b)\n",
    "            L1 = loss(y_this,y_pred)\n",
    "            L2 = loss(y_this,y_pred_db)\n",
    "            db_finite_difference = (L2-L1)/diff\n",
    "            print('Original out %f, perturbed out %f' %\n",
    "                 (y_pred[0,0], y_pred_db[0,0]))\n",
    "            print('Theoretical dW %f, calculated db %f' %\n",
    "                  (dW[1][10,0], db_finite_difference[0,0]))\n",
    "        \n",
    "        for l in range(1,L+1):            \n",
    "            W[l] = W[l] - alpha * dW[l]\n",
    "            b[l] = b[l] - alpha * db[l]\n",
    "            \n",
    "    val_loss = 0\n",
    "    for i in range(X_test.shape[0]):\n",
    "        y_val = ff(X_test[i, :].T, W, b)\n",
    "        y_val = np.array(y_val).flatten()\n",
    "        val_loss += loss(y_test[i, :], y_val)\n",
    "\n",
    "    print('epoch %d train loss %f validate loss %f' % (iter, loss_this_iter, val_loss))\n",
    "\n",
    "    if val_loss < best_val_loss or best_val_loss == 0 :\n",
    "        copy_w, copy_b = copy.deepcopy(W), copy.deepcopy(b)\n",
    "        best_val_loss = val_loss\n",
    "        best_val_loss_idx = iter-1\n",
    "\n",
    "    if iter>= tolerance + 1:\n",
    "        if iter % wait_iteration == 0:\n",
    "            alpha *= 0.5\n",
    "        if val_loss > best_val_loss:\n",
    "            W, b = copy_w, copy_b\n",
    "            print(f'stop training at iter: {iter}')\n",
    "            print(f' using best validation loss from epoch: { best_val_loss}')\n",
    "            print(f'train loss : {cost_arr[best_val_loss_idx]} validate loss : {best_val_loss}')\n",
    "            break\n",
    "    \n",
    "    cost_arr.append(loss_this_iter[0,0])\n",
    "    val_loss_arr.append(val_loss)\n",
    "    #     print('Epoch %d train loss %f' % (iter, loss_this_iter))\n",
    "xd = np.arange(len(cost_arr))\n",
    "plt.plot(xd, cost_arr, label='training loss')\n",
    "plt.plot(xd, val_loss_arr, label='validate loss')\n",
    "# plt.plot(np.arange(1,max_iter+1,1), cost_arr)\n",
    "# plt.plot(np.arange(1, max_iter+1,1), cost_arr, c='b')\n",
    "plt.ylabel('Loss')\n",
    "plt.xlabel('Epoch')\n",
    "plt.legend()\n",
    "plt.show()\n",
    "\n",
    "# Get test set accuracy\n",
    "\n",
    "def predict_y(W, b, X):\n",
    "    M = X.shape[0]\n",
    "    y_pred = np.zeros(M)\n",
    "    for i in range(X.shape[0]):\n",
    "        y_pred[i] = np.argmax(ff(X[i,:].T, W, b))\n",
    "    return y_pred\n",
    "\n",
    "y_test_predicted = predict_y(W, b, X_test)\n",
    "y_correct = y_test_predicted == y_test_indices\n",
    "test_accuracy = np.sum(y_correct) / len(y_correct)\n",
    "\n",
    "print('Test accuracy: {} for alpha =0.01'.format(test_accuracy))"
   ]
  },
  {
   "cell_type": "code",
   "execution_count": 19,
   "metadata": {},
   "outputs": [
    {
     "name": "stdout",
     "output_type": "stream",
     "text": [
      "epoch 1 train loss 660.650133 validate loss 405.269113\n",
      "epoch 2 train loss 547.753821 validate loss 337.187276\n",
      "epoch 3 train loss 455.337274 validate loss 291.544925\n",
      "epoch 4 train loss 383.459351 validate loss 253.616438\n",
      "epoch 5 train loss 330.675916 validate loss 220.085273\n",
      "epoch 6 train loss 291.011371 validate loss 201.112994\n",
      "epoch 7 train loss 252.012430 validate loss 190.550439\n",
      "epoch 8 train loss 223.386975 validate loss 175.056116\n",
      "epoch 9 train loss 200.234281 validate loss 166.583496\n",
      "epoch 10 train loss 183.421234 validate loss 164.894418\n",
      "epoch 11 train loss 169.136623 validate loss 153.017968\n",
      "epoch 12 train loss 157.966344 validate loss 145.442142\n",
      "epoch 13 train loss 147.645574 validate loss 139.188535\n",
      "epoch 14 train loss 137.790438 validate loss 135.586744\n",
      "epoch 15 train loss 130.303216 validate loss 147.422804\n",
      "epoch 16 train loss 131.288709 validate loss 136.895711\n",
      "epoch 17 train loss 120.057166 validate loss 137.180188\n",
      "epoch 18 train loss 105.584682 validate loss 131.979798\n",
      "epoch 19 train loss 101.930681 validate loss 123.474879\n",
      "epoch 20 train loss 95.062711 validate loss 121.469727\n",
      "epoch 21 train loss 81.544388 validate loss 114.934355\n",
      "epoch 22 train loss 64.976563 validate loss 103.808523\n",
      "epoch 23 train loss 53.457379 validate loss 100.071728\n",
      "epoch 24 train loss 43.868408 validate loss 98.538121\n",
      "epoch 25 train loss 38.163066 validate loss 96.541869\n",
      "epoch 26 train loss 34.071346 validate loss 95.483446\n",
      "epoch 27 train loss 31.581284 validate loss 93.183571\n",
      "epoch 28 train loss 29.342618 validate loss 92.225378\n",
      "epoch 29 train loss 27.477593 validate loss 90.622105\n",
      "epoch 30 train loss 25.925434 validate loss 91.842229\n",
      "epoch 31 train loss 24.973669 validate loss 90.244646\n",
      "epoch 32 train loss 23.761046 validate loss 89.241245\n",
      "epoch 33 train loss 22.298906 validate loss 91.166312\n",
      "stop training at iter: 33\n",
      " using best validation loss from epoch: 89.24124502115899\n",
      "train loss : 23.761046299414744 validate loss : 89.24124502115899\n"
     ]
    },
    {
     "data": {
      "image/png": "[encoded data removed]",
      "text/plain": [
       "<Figure size 432x288 with 1 Axes>"
      ]
     },
     "metadata": {
      "needs_background": "light"
     },
     "output_type": "display_data"
    },
    {
     "name": "stdout",
     "output_type": "stream",
     "text": [
      "Test accuracy: 0.8996138996138996 for alpha =0.1\n"
     ]
    }
   ],
   "source": [
    "copy_w = None\n",
    "copy_b = None\n",
    "loss_tol = 10\n",
    "wait_iteration = 5\n",
    "best_val_loss = 0\n",
    "best_val_loss_idx = 0\n",
    "tolerance = 30\n",
    "# Train for 100 epochs with mini-batch size 1\n",
    "\n",
    "cost_arr = [] \n",
    "val_loss_arr = []\n",
    "M, N = X_train.shape\n",
    "\n",
    "alpha=0.1\n",
    "max_iter = 100\n",
    "for iter in range(1, max_iter+1):\n",
    "    loss_this_iter = 0\n",
    "    order = np.random.permutation(M)\n",
    "    for i in range(0,M):\n",
    "        \n",
    "        # Grab the pattern order[i]\n",
    "        \n",
    "        x_this = X_train[order[i],:].T\n",
    "        y_this = y_train[order[i],:]\n",
    "\n",
    "        # Feed forward step\n",
    "        \n",
    "        a = [x_this]\n",
    "        z = [[]]\n",
    "        delta = [[]]\n",
    "        dW = [[]]\n",
    "        db = [[]]\n",
    "        for l in range(1,L+1):\n",
    "            z.append(W[l].T*a[l-1]+b[l])\n",
    "            if (l == L):\n",
    "                a.append(softmax_act(z[l]))\n",
    "            else:\n",
    "                a.append(sigmoid_act(z[l]))\n",
    "            # Just to give arrays the right shape for the backprop step\n",
    "            delta.append([]); dW.append([]); db.append([])\n",
    "            \n",
    "        loss_this_pattern = loss(y_this, a[L])\n",
    "        loss_this_iter = loss_this_iter + loss_this_pattern\n",
    "            \n",
    "        # Backprop step. Note that derivative of multinomial cross entropy\n",
    "        # loss is the same as that of binary cross entropy loss. See\n",
    "        # https://levelup.gitconnected.com/killer-combo-softmax-and-cross-entropy-5907442f60ba\n",
    "        # for a nice derivation.\n",
    "\n",
    "        delta[L] = a[L] - np.matrix(y_this).T\n",
    "        for l in range(L,0,-1):\n",
    "            db[l] = delta[l].copy()\n",
    "            dW[l] = a[l-1] * delta[l].T\n",
    "            if l > 1:\n",
    "                delta[l-1] = np.multiply(sigmoid_actder(z[l-1]), W[l] *\n",
    "                             delta[l])\n",
    "                \n",
    "        # Check delta calculation\n",
    "        \n",
    "        if False:\n",
    "            print('Target: %f' % y_this)\n",
    "            print('y_hat: %f' % a[L][0,0])\n",
    "            print(db)\n",
    "            y_pred = ff(x_this,W,b)\n",
    "            diff = 1e-3\n",
    "            W[1][10,0] = W[1][10,0] + diff\n",
    "            y_pred_db = ff(x_this,W,b)\n",
    "            L1 = loss(y_this,y_pred)\n",
    "            L2 = loss(y_this,y_pred_db)\n",
    "            db_finite_difference = (L2-L1)/diff\n",
    "            print('Original out %f, perturbed out %f' %\n",
    "                 (y_pred[0,0], y_pred_db[0,0]))\n",
    "            print('Theoretical dW %f, calculated db %f' %\n",
    "                  (dW[1][10,0], db_finite_difference[0,0]))\n",
    "        \n",
    "        for l in range(1,L+1):            \n",
    "            W[l] = W[l] - alpha * dW[l]\n",
    "            b[l] = b[l] - alpha * db[l]\n",
    "            \n",
    "    val_loss = 0\n",
    "    for i in range(X_test.shape[0]):\n",
    "        y_val = ff(X_test[i, :].T, W, b)\n",
    "        y_val = np.array(y_val).flatten()\n",
    "        val_loss += loss(y_test[i, :], y_val)\n",
    "\n",
    "    print('epoch %d train loss %f validate loss %f' % (iter, loss_this_iter, val_loss))\n",
    "\n",
    "    if val_loss < best_val_loss or best_val_loss == 0 :\n",
    "        copy_w, copy_b = copy.deepcopy(W), copy.deepcopy(b)\n",
    "        best_val_loss = val_loss\n",
    "        best_val_loss_idx = iter-1\n",
    "\n",
    "    if iter>= tolerance + 1:\n",
    "        if iter % wait_iteration == 0:\n",
    "            alpha *= 0.5\n",
    "        if val_loss > best_val_loss:\n",
    "            W, b = copy_w, copy_b\n",
    "            print(f'stop training at iter: {iter}')\n",
    "            print(f' using best validation loss from epoch: { best_val_loss}')\n",
    "            print(f'train loss : {cost_arr[best_val_loss_idx]} validate loss : {best_val_loss}')\n",
    "            break\n",
    "    \n",
    "    cost_arr.append(loss_this_iter[0,0])\n",
    "    val_loss_arr.append(val_loss)\n",
    "    #     print('Epoch %d train loss %f' % (iter, loss_this_iter))\n",
    "xd = np.arange(len(cost_arr))\n",
    "plt.plot(xd, cost_arr, label='training loss')\n",
    "plt.plot(xd, val_loss_arr, label='validate loss')\n",
    "# plt.plot(np.arange(1,max_iter+1,1), cost_arr)\n",
    "# plt.plot(np.arange(1, max_iter+1,1), cost_arr, c='b')\n",
    "plt.ylabel('Loss')\n",
    "plt.xlabel('Epoch')\n",
    "plt.legend()\n",
    "plt.show()\n",
    "\n",
    "# Get test set accuracy\n",
    "\n",
    "def predict_y(W, b, X):\n",
    "    M = X.shape[0]\n",
    "    y_pred = np.zeros(M)\n",
    "    for i in range(X.shape[0]):\n",
    "        y_pred[i] = np.argmax(ff(X[i,:].T, W, b))\n",
    "    return y_pred\n",
    "\n",
    "y_test_predicted = predict_y(W, b, X_test)\n",
    "y_correct = y_test_predicted == y_test_indices\n",
    "test_accuracy = np.sum(y_correct) / len(y_correct)\n",
    "\n",
    "print('Test accuracy: {} for alpha =0.1'.format(test_accuracy))"
   ]
  },
  {
   "cell_type": "code",
   "execution_count": 21,
   "metadata": {},
   "outputs": [
    {
     "name": "stdout",
     "output_type": "stream",
     "text": [
      "epoch 1 train loss 20.634079 validate loss 85.157833\n",
      "epoch 2 train loss 18.998285 validate loss 88.247313\n",
      "epoch 3 train loss 18.003311 validate loss 88.295812\n",
      "epoch 4 train loss 17.344613 validate loss 88.526342\n",
      "epoch 5 train loss 16.962528 validate loss 88.439869\n",
      "epoch 6 train loss 16.535203 validate loss 88.646799\n",
      "epoch 7 train loss 16.246325 validate loss 88.717825\n",
      "epoch 8 train loss 16.032883 validate loss 88.697070\n",
      "epoch 9 train loss 15.698687 validate loss 88.753613\n",
      "epoch 10 train loss 15.464721 validate loss 88.816887\n",
      "epoch 11 train loss 15.196398 validate loss 88.622632\n",
      "epoch 12 train loss 14.978290 validate loss 88.682439\n",
      "epoch 13 train loss 14.684888 validate loss 88.777538\n",
      "epoch 14 train loss 14.489626 validate loss 88.643154\n",
      "epoch 15 train loss 14.296211 validate loss 88.758463\n",
      "epoch 16 train loss 14.108094 validate loss 88.706061\n",
      "epoch 17 train loss 13.923108 validate loss 88.826614\n",
      "epoch 18 train loss 13.724331 validate loss 88.861859\n",
      "epoch 19 train loss 13.551682 validate loss 88.981764\n",
      "epoch 20 train loss 13.421001 validate loss 88.828081\n",
      "epoch 21 train loss 13.247250 validate loss 88.741733\n",
      "epoch 22 train loss 13.076085 validate loss 88.824237\n",
      "epoch 23 train loss 12.935313 validate loss 88.876649\n",
      "epoch 24 train loss 12.802842 validate loss 88.764161\n",
      "epoch 25 train loss 12.660182 validate loss 88.791985\n",
      "epoch 26 train loss 12.500878 validate loss 88.811951\n",
      "epoch 27 train loss 12.398439 validate loss 88.856246\n",
      "epoch 28 train loss 12.259349 validate loss 88.963276\n",
      "epoch 29 train loss 12.119402 validate loss 88.839781\n",
      "epoch 30 train loss 11.990121 validate loss 89.088177\n",
      "epoch 31 train loss 11.879088 validate loss 89.112297\n",
      "stop training at iter: 31\n",
      " using best validation loss from epoch: 85.15783271247425\n",
      "train loss : 20.634078733262825 validate loss : 85.15783271247425\n"
     ]
    },
    {
     "data": {
      "image/png": "[encoded data removed]",
      "text/plain": [
       "<Figure size 432x288 with 1 Axes>"
      ]
     },
     "metadata": {
      "needs_background": "light"
     },
     "output_type": "display_data"
    },
    {
     "name": "stdout",
     "output_type": "stream",
     "text": [
      "Test accuracy: 0.9073359073359073 for alpha =0.05\n"
     ]
    }
   ],
   "source": [
    "copy_w = None\n",
    "copy_b = None\n",
    "loss_tol = 10\n",
    "wait_iteration = 5\n",
    "best_val_loss = 0\n",
    "best_val_loss_idx = 0\n",
    "tolerance = 30\n",
    "# Train for 100 epochs with mini-batch size 1\n",
    "\n",
    "cost_arr = [] \n",
    "val_loss_arr = []\n",
    "M, N = X_train.shape\n",
    "\n",
    "alpha=0.05\n",
    "max_iter = 100\n",
    "for iter in range(1, max_iter+1):\n",
    "    loss_this_iter = 0\n",
    "    order = np.random.permutation(M)\n",
    "    for i in range(0,M):\n",
    "        \n",
    "        # Grab the pattern order[i]\n",
    "        \n",
    "        x_this = X_train[order[i],:].T\n",
    "        y_this = y_train[order[i],:]\n",
    "\n",
    "        # Feed forward step\n",
    "        \n",
    "        a = [x_this]\n",
    "        z = [[]]\n",
    "        delta = [[]]\n",
    "        dW = [[]]\n",
    "        db = [[]]\n",
    "        for l in range(1,L+1):\n",
    "            z.append(W[l].T*a[l-1]+b[l])\n",
    "            if (l == L):\n",
    "                a.append(softmax_act(z[l]))\n",
    "            else:\n",
    "                a.append(sigmoid_act(z[l]))\n",
    "            # Just to give arrays the right shape for the backprop step\n",
    "            delta.append([]); dW.append([]); db.append([])\n",
    "            \n",
    "        loss_this_pattern = loss(y_this, a[L])\n",
    "        loss_this_iter = loss_this_iter + loss_this_pattern\n",
    "            \n",
    "        # Backprop step. Note that derivative of multinomial cross entropy\n",
    "        # loss is the same as that of binary cross entropy loss. See\n",
    "        # https://levelup.gitconnected.com/killer-combo-softmax-and-cross-entropy-5907442f60ba\n",
    "        # for a nice derivation.\n",
    "\n",
    "        delta[L] = a[L] - np.matrix(y_this).T\n",
    "        for l in range(L,0,-1):\n",
    "            db[l] = delta[l].copy()\n",
    "            dW[l] = a[l-1] * delta[l].T\n",
    "            if l > 1:\n",
    "                delta[l-1] = np.multiply(sigmoid_actder(z[l-1]), W[l] *\n",
    "                             delta[l])\n",
    "                \n",
    "        # Check delta calculation\n",
    "        \n",
    "        if False:\n",
    "            print('Target: %f' % y_this)\n",
    "            print('y_hat: %f' % a[L][0,0])\n",
    "            print(db)\n",
    "            y_pred = ff(x_this,W,b)\n",
    "            diff = 1e-3\n",
    "            W[1][10,0] = W[1][10,0] + diff\n",
    "            y_pred_db = ff(x_this,W,b)\n",
    "            L1 = loss(y_this,y_pred)\n",
    "            L2 = loss(y_this,y_pred_db)\n",
    "            db_finite_difference = (L2-L1)/diff\n",
    "            print('Original out %f, perturbed out %f' %\n",
    "                 (y_pred[0,0], y_pred_db[0,0]))\n",
    "            print('Theoretical dW %f, calculated db %f' %\n",
    "                  (dW[1][10,0], db_finite_difference[0,0]))\n",
    "        \n",
    "        for l in range(1,L+1):            \n",
    "            W[l] = W[l] - alpha * dW[l]\n",
    "            b[l] = b[l] - alpha * db[l]\n",
    "            \n",
    "    val_loss = 0\n",
    "    for i in range(X_test.shape[0]):\n",
    "        y_val = ff(X_test[i, :].T, W, b)\n",
    "        y_val = np.array(y_val).flatten()\n",
    "        val_loss += loss(y_test[i, :], y_val)\n",
    "\n",
    "    print('epoch %d train loss %f validate loss %f' % (iter, loss_this_iter, val_loss))\n",
    "\n",
    "    if val_loss < best_val_loss or best_val_loss == 0 :\n",
    "        copy_w, copy_b = copy.deepcopy(W), copy.deepcopy(b)\n",
    "        best_val_loss = val_loss\n",
    "        best_val_loss_idx = iter-1\n",
    "\n",
    "    if iter>= tolerance + 1:\n",
    "        if iter % wait_iteration == 0:\n",
    "            alpha *= 0.5\n",
    "        if val_loss > best_val_loss:\n",
    "            W, b = copy_w, copy_b\n",
    "            print(f'stop training at iter: {iter}')\n",
    "            print(f' using best validation loss from epoch: { best_val_loss}')\n",
    "            print(f'train loss : {cost_arr[best_val_loss_idx]} validate loss : {best_val_loss}')\n",
    "            break\n",
    "    \n",
    "    cost_arr.append(loss_this_iter[0,0])\n",
    "    val_loss_arr.append(val_loss)\n",
    "    #     print('Epoch %d train loss %f' % (iter, loss_this_iter))\n",
    "xd = np.arange(len(cost_arr))\n",
    "plt.plot(xd, cost_arr, label='training loss')\n",
    "plt.plot(xd, val_loss_arr, label='validate loss')\n",
    "# plt.plot(np.arange(1,max_iter+1,1), cost_arr)\n",
    "# plt.plot(np.arange(1, max_iter+1,1), cost_arr, c='b')\n",
    "plt.ylabel('Loss')\n",
    "plt.xlabel('Epoch')\n",
    "plt.legend()\n",
    "plt.show()\n",
    "\n",
    "# Get test set accuracy\n",
    "\n",
    "def predict_y(W, b, X):\n",
    "    M = X.shape[0]\n",
    "    y_pred = np.zeros(M)\n",
    "    for i in range(X.shape[0]):\n",
    "        y_pred[i] = np.argmax(ff(X[i,:].T, W, b))\n",
    "    return y_pred\n",
    "\n",
    "y_test_predicted = predict_y(W, b, X_test)\n",
    "y_correct = y_test_predicted == y_test_indices\n",
    "test_accuracy = np.sum(y_correct) / len(y_correct)\n",
    "\n",
    "print('Test accuracy: {} for alpha =0.05'.format(test_accuracy))"
   ]
  },
  {
   "cell_type": "markdown",
   "metadata": {},
   "source": [
    "## PyTorch tutorial\n",
    "\n",
    "Is there an easier way to build this type of model? One way is to learn a framework such as TensorFlow or PyTorch. Both of these frameworks have their\n",
    "pros and cons, but PyTorch is probably the most productive neural network framework for research purposes. We'll use it here.\n",
    "\n",
    "The material for this tutorial is from\n",
    "[Anand Saha's PyTorch tutorial](https://github.com/anandsaha/deep.learning.with.pytorch)."
   ]
  },
  {
   "cell_type": "code",
   "execution_count": null,
   "metadata": {},
   "outputs": [],
   "source": []
  },
  {
   "cell_type": "markdown",
   "metadata": {},
   "source": [
    "### Tensors and Tensor operations\n",
    "\n",
    "Let's get some hands on experience with tensor creation and operations.\n",
    "The torch package contains the necessary data structures to create multidimensional tensors.\n",
    "It also defines the mathematical operations that can be performed on these."
   ]
  },
  {
   "cell_type": "code",
   "execution_count": 22,
   "metadata": {},
   "outputs": [],
   "source": [
    "import torch"
   ]
  },
  {
   "cell_type": "code",
   "execution_count": 23,
   "metadata": {},
   "outputs": [
    {
     "name": "stdout",
     "output_type": "stream",
     "text": [
      "1.4.0\n"
     ]
    }
   ],
   "source": [
    "print(torch.__version__)"
   ]
  },
  {
   "cell_type": "markdown",
   "metadata": {},
   "source": [
    "### Tensor creation"
   ]
  },
  {
   "cell_type": "markdown",
   "metadata": {},
   "source": [
    "Create a (2x3) dimentional Tensor.\n",
    "\n",
    "Note that a) You get back a FloatTensor b) The values are uninitialized"
   ]
  },
  {
   "cell_type": "code",
   "execution_count": 24,
   "metadata": {},
   "outputs": [
    {
     "name": "stdout",
     "output_type": "stream",
     "text": [
      "tensor([[0., 0., 0.],\n",
      "        [0., 0., 0.]])\n"
     ]
    }
   ],
   "source": [
    "t = torch.Tensor(2, 3)\n",
    "print(t)"
   ]
  },
  {
   "cell_type": "markdown",
   "metadata": {},
   "source": [
    "The above call was equivalent to"
   ]
  },
  {
   "cell_type": "code",
   "execution_count": 25,
   "metadata": {},
   "outputs": [
    {
     "name": "stdout",
     "output_type": "stream",
     "text": [
      "tensor([[3.1024e+27, 1.8468e+25, 8.4078e-45],\n",
      "        [0.0000e+00, 1.4013e-45, 0.0000e+00]])\n"
     ]
    }
   ],
   "source": [
    "t = torch.FloatTensor(2, 3)\n",
    "print(t)"
   ]
  },
  {
   "cell_type": "markdown",
   "metadata": {},
   "source": [
    "Inspect type of an element"
   ]
  },
  {
   "cell_type": "code",
   "execution_count": 26,
   "metadata": {},
   "outputs": [
    {
     "data": {
      "text/plain": [
       "tensor(3.1024e+27)"
      ]
     },
     "execution_count": 26,
     "metadata": {},
     "output_type": "execute_result"
    }
   ],
   "source": [
    "t[0][0]"
   ]
  },
  {
   "cell_type": "code",
   "execution_count": 27,
   "metadata": {},
   "outputs": [
    {
     "data": {
      "text/plain": [
       "torch.Tensor"
      ]
     },
     "execution_count": 27,
     "metadata": {},
     "output_type": "execute_result"
    }
   ],
   "source": [
    "type(t[0][0])"
   ]
  },
  {
   "cell_type": "markdown",
   "metadata": {},
   "source": [
    "Inspect `t`'s dimensions"
   ]
  },
  {
   "cell_type": "code",
   "execution_count": 28,
   "metadata": {},
   "outputs": [
    {
     "name": "stdout",
     "output_type": "stream",
     "text": [
      "torch.Size([2, 3])\n",
      "2\n",
      "True\n"
     ]
    }
   ],
   "source": [
    "print(t.size())\n",
    "print(t.dim())\n",
    "print(len(t.size()) == t.dim())"
   ]
  },
  {
   "cell_type": "markdown",
   "metadata": {},
   "source": [
    "Set values"
   ]
  },
  {
   "cell_type": "code",
   "execution_count": 29,
   "metadata": {},
   "outputs": [
    {
     "name": "stdout",
     "output_type": "stream",
     "text": [
      "tensor([[1., 2., 3.],\n",
      "        [4., 5., 6.]])\n"
     ]
    }
   ],
   "source": [
    "t[0][0] = 1\n",
    "t[0][1] = 2\n",
    "t[0][2] = 3\n",
    "t[1][0] = 4\n",
    "t[1][1] = 5\n",
    "t[1][2] = 6\n",
    "print(t)"
   ]
  },
  {
   "cell_type": "markdown",
   "metadata": {},
   "source": [
    "Let's cast a FloatTensor to IntTensor"
   ]
  },
  {
   "cell_type": "code",
   "execution_count": 30,
   "metadata": {},
   "outputs": [
    {
     "name": "stdout",
     "output_type": "stream",
     "text": [
      "tensor([1.1000, 2.2000])\n"
     ]
    },
    {
     "data": {
      "text/plain": [
       "tensor([1, 2], dtype=torch.int32)"
      ]
     },
     "execution_count": 30,
     "metadata": {},
     "output_type": "execute_result"
    }
   ],
   "source": [
    "t = torch.FloatTensor([1.1, 2.2])\n",
    "print(t)\n",
    "t.type(torch.IntTensor)"
   ]
  },
  {
   "cell_type": "markdown",
   "metadata": {},
   "source": [
    "Let's explore some other ways of creating a tensor"
   ]
  },
  {
   "cell_type": "code",
   "execution_count": 31,
   "metadata": {},
   "outputs": [
    {
     "name": "stdout",
     "output_type": "stream",
     "text": [
      "tensor([1.1000, 2.2000])\n"
     ]
    }
   ],
   "source": [
    "# From another Tensor\n",
    "\n",
    "t2 = torch.Tensor(t)\n",
    "print(t2)"
   ]
  },
  {
   "cell_type": "code",
   "execution_count": 32,
   "metadata": {},
   "outputs": [
    {
     "name": "stdout",
     "output_type": "stream",
     "text": [
      "tensor([[1, 2],\n",
      "        [3, 4]], dtype=torch.int32)\n"
     ]
    }
   ],
   "source": [
    "# From a Python list\n",
    "\n",
    "t3 = torch.IntTensor([[1, 2],[3, 4]])\n",
    "print(t3)"
   ]
  },
  {
   "cell_type": "code",
   "execution_count": 33,
   "metadata": {},
   "outputs": [
    {
     "name": "stdout",
     "output_type": "stream",
     "text": [
      "tensor([55., 66.])\n"
     ]
    }
   ],
   "source": [
    "# From a NumPy array\n",
    "\n",
    "import numpy as np\n",
    "a = np.array([55, 66])\n",
    "t4 = torch.Tensor(a)\n",
    "print(t4)"
   ]
  },
  {
   "cell_type": "code",
   "execution_count": 34,
   "metadata": {},
   "outputs": [
    {
     "name": "stdout",
     "output_type": "stream",
     "text": [
      "tensor([[0., 0., 0.],\n",
      "        [0., 0., 0.]])\n"
     ]
    }
   ],
   "source": [
    "# Create a Tensor with all zeros\n",
    "\n",
    "t5 = torch.zeros(2, 3)\n",
    "print(t5)"
   ]
  },
  {
   "cell_type": "code",
   "execution_count": 35,
   "metadata": {},
   "outputs": [
    {
     "name": "stdout",
     "output_type": "stream",
     "text": [
      "tensor([[1., 1., 1.],\n",
      "        [1., 1., 1.]])\n"
     ]
    }
   ],
   "source": [
    "# Create a Tensor with all ones\n",
    "\n",
    "t6 = torch.ones(2, 3)\n",
    "print(t6)"
   ]
  },
  {
   "cell_type": "code",
   "execution_count": 36,
   "metadata": {},
   "outputs": [
    {
     "name": "stdout",
     "output_type": "stream",
     "text": [
      "tensor([1., 1.])\n"
     ]
    }
   ],
   "source": [
    "# Create a Tensor with all ones with dimensions \n",
    "# of another Tensor\n",
    "\n",
    "t7 = torch.ones_like(t4)\n",
    "print(t7)"
   ]
  },
  {
   "cell_type": "markdown",
   "metadata": {},
   "source": [
    "### Tensor operations"
   ]
  },
  {
   "cell_type": "markdown",
   "metadata": {},
   "source": [
    "Add two Tensors"
   ]
  },
  {
   "cell_type": "code",
   "execution_count": 37,
   "metadata": {},
   "outputs": [
    {
     "name": "stdout",
     "output_type": "stream",
     "text": [
      "tensor([[2., 2.],\n",
      "        [2., 2.]])\n"
     ]
    }
   ],
   "source": [
    "t1 = torch.ones(2, 2)\n",
    "t2 = torch.ones(2, 2)\n",
    "t = t1 + t2\n",
    "print(t)"
   ]
  },
  {
   "cell_type": "markdown",
   "metadata": {},
   "source": [
    "Inplace/out-of-place operations"
   ]
  },
  {
   "cell_type": "code",
   "execution_count": 38,
   "metadata": {},
   "outputs": [
    {
     "data": {
      "text/plain": [
       "tensor([[2., 2.],\n",
       "        [2., 2.]])"
      ]
     },
     "execution_count": 38,
     "metadata": {},
     "output_type": "execute_result"
    }
   ],
   "source": [
    "t1.add(t2)"
   ]
  },
  {
   "cell_type": "code",
   "execution_count": 39,
   "metadata": {},
   "outputs": [
    {
     "name": "stdout",
     "output_type": "stream",
     "text": [
      "tensor([[1., 1.],\n",
      "        [1., 1.]])\n"
     ]
    }
   ],
   "source": [
    "print(t1)"
   ]
  },
  {
   "cell_type": "code",
   "execution_count": 40,
   "metadata": {},
   "outputs": [
    {
     "data": {
      "text/plain": [
       "tensor([[2., 2.],\n",
       "        [2., 2.]])"
      ]
     },
     "execution_count": 40,
     "metadata": {},
     "output_type": "execute_result"
    }
   ],
   "source": [
    "t1.add_(t2)"
   ]
  },
  {
   "cell_type": "code",
   "execution_count": 41,
   "metadata": {},
   "outputs": [
    {
     "name": "stdout",
     "output_type": "stream",
     "text": [
      "tensor([[2., 2.],\n",
      "        [2., 2.]])\n"
     ]
    }
   ],
   "source": [
    "print(t1)"
   ]
  },
  {
   "cell_type": "markdown",
   "metadata": {},
   "source": [
    "Class methods and package functions"
   ]
  },
  {
   "cell_type": "code",
   "execution_count": 42,
   "metadata": {},
   "outputs": [
    {
     "data": {
      "text/plain": [
       "tensor([[-0.4161, -0.4161],\n",
       "        [-0.4161, -0.4161]])"
      ]
     },
     "execution_count": 42,
     "metadata": {},
     "output_type": "execute_result"
    }
   ],
   "source": [
    "t1.cos()"
   ]
  },
  {
   "cell_type": "code",
   "execution_count": 43,
   "metadata": {},
   "outputs": [
    {
     "data": {
      "text/plain": [
       "tensor([[-0.4161, -0.4161],\n",
       "        [-0.4161, -0.4161]])"
      ]
     },
     "execution_count": 43,
     "metadata": {},
     "output_type": "execute_result"
    }
   ],
   "source": [
    "torch.cos(t1)"
   ]
  },
  {
   "cell_type": "markdown",
   "metadata": {},
   "source": [
    "A few more operations"
   ]
  },
  {
   "cell_type": "code",
   "execution_count": 44,
   "metadata": {},
   "outputs": [
    {
     "data": {
      "text/plain": [
       "tensor([ 3.0000,  4.7500,  6.5000,  8.2500, 10.0000])"
      ]
     },
     "execution_count": 44,
     "metadata": {},
     "output_type": "execute_result"
    }
   ],
   "source": [
    "# Create a one-dimensional tensor of steps equally \n",
    "# spaced points between start and end\n",
    "\n",
    "torch.linspace(3, 10, steps=5)"
   ]
  },
  {
   "cell_type": "code",
   "execution_count": 45,
   "metadata": {},
   "outputs": [
    {
     "data": {
      "text/plain": [
       "tensor([0, 1, 2, 3, 4])"
      ]
     },
     "execution_count": 45,
     "metadata": {},
     "output_type": "execute_result"
    }
   ],
   "source": [
    "# Create a 1-D Tensor with values from [start, end)\n",
    "\n",
    "torch.arange(0, 5)"
   ]
  },
  {
   "cell_type": "code",
   "execution_count": 46,
   "metadata": {},
   "outputs": [
    {
     "data": {
      "text/plain": [
       "tensor([[0.2454, 0.3118, 0.4012],\n",
       "        [0.6411, 0.9374, 0.8745]])"
      ]
     },
     "execution_count": 46,
     "metadata": {},
     "output_type": "execute_result"
    }
   ],
   "source": [
    "# Create a (2x3) Tensor with random values sampled \n",
    "# from uniform distrubution on the interval [0,1)\n",
    "\n",
    "torch.rand((2,3))"
   ]
  },
  {
   "cell_type": "code",
   "execution_count": 47,
   "metadata": {},
   "outputs": [
    {
     "data": {
      "text/plain": [
       "tensor([[-0.4269, -2.5136, -0.9452],\n",
       "        [ 0.6378, -0.6184, -0.6695]])"
      ]
     },
     "execution_count": 47,
     "metadata": {},
     "output_type": "execute_result"
    }
   ],
   "source": [
    "# Create a (2x3) Tensor with random values sampled \n",
    "# from normal distrubution with 0 mean and variance 1\n",
    "\n",
    "torch.randn((2,3))"
   ]
  },
  {
   "cell_type": "code",
   "execution_count": 48,
   "metadata": {},
   "outputs": [
    {
     "data": {
      "text/plain": [
       "tensor([[0.4049, 0.8768],\n",
       "        [0.3186, 0.8645]])"
      ]
     },
     "execution_count": 48,
     "metadata": {},
     "output_type": "execute_result"
    }
   ],
   "source": [
    "# Do a matrix multiply\n",
    "\n",
    "a = torch.rand((2, 3))\n",
    "b = torch.rand((3, 2))\n",
    "\n",
    "torch.mm(a, b)"
   ]
  },
  {
   "cell_type": "markdown",
   "metadata": {},
   "source": [
    "### Variables\n",
    "\n",
    "Next, let's understand variables in PyTorch and the operations we can perform on them."
   ]
  },
  {
   "cell_type": "code",
   "execution_count": 49,
   "metadata": {},
   "outputs": [],
   "source": [
    "import torch\n",
    "from torch.autograd import Variable"
   ]
  },
  {
   "cell_type": "markdown",
   "metadata": {},
   "source": [
    "Let's create a small computation graph"
   ]
  },
  {
   "cell_type": "code",
   "execution_count": 50,
   "metadata": {},
   "outputs": [],
   "source": [
    "x = Variable(torch.FloatTensor([11.2]), requires_grad=True)\n",
    "y = 2 * x"
   ]
  },
  {
   "cell_type": "code",
   "execution_count": 51,
   "metadata": {},
   "outputs": [
    {
     "name": "stdout",
     "output_type": "stream",
     "text": [
      "tensor([11.2000], requires_grad=True)\n",
      "tensor([22.4000], grad_fn=<MulBackward0>)\n"
     ]
    }
   ],
   "source": [
    "print(x)\n",
    "print(y)"
   ]
  },
  {
   "cell_type": "code",
   "execution_count": 52,
   "metadata": {},
   "outputs": [
    {
     "name": "stdout",
     "output_type": "stream",
     "text": [
      "tensor([11.2000])\n",
      "tensor([22.4000])\n"
     ]
    }
   ],
   "source": [
    "print(x.data)\n",
    "print(y.data)"
   ]
  },
  {
   "cell_type": "code",
   "execution_count": 53,
   "metadata": {},
   "outputs": [
    {
     "name": "stdout",
     "output_type": "stream",
     "text": [
      "None\n",
      "<MulBackward0 object at 0x000001B9AB8DBD88>\n"
     ]
    }
   ],
   "source": [
    "print(x.grad_fn)\n",
    "print(y.grad_fn)"
   ]
  },
  {
   "cell_type": "code",
   "execution_count": 54,
   "metadata": {},
   "outputs": [],
   "source": [
    "y.backward() # Calculates the gradients"
   ]
  },
  {
   "cell_type": "code",
   "execution_count": 55,
   "metadata": {},
   "outputs": [
    {
     "name": "stdout",
     "output_type": "stream",
     "text": [
      "tensor([2.])\n",
      "None\n"
     ]
    }
   ],
   "source": [
    "print(x.grad)\n",
    "print(y.grad)"
   ]
  },
  {
   "cell_type": "markdown",
   "metadata": {},
   "source": [
    "### Working with PyTorch and NumPy"
   ]
  },
  {
   "cell_type": "code",
   "execution_count": 56,
   "metadata": {},
   "outputs": [],
   "source": [
    "import torch\n",
    "import numpy as np"
   ]
  },
  {
   "cell_type": "markdown",
   "metadata": {},
   "source": [
    "Convert a NumPy array to Tensor"
   ]
  },
  {
   "cell_type": "code",
   "execution_count": 57,
   "metadata": {},
   "outputs": [
    {
     "name": "stdout",
     "output_type": "stream",
     "text": [
      "[2 3]\n",
      "tensor([2, 3], dtype=torch.int32)\n"
     ]
    }
   ],
   "source": [
    "n = np.array([2, 3])\n",
    "t = torch.from_numpy(n)\n",
    "print(n)\n",
    "print(t)"
   ]
  },
  {
   "cell_type": "markdown",
   "metadata": {},
   "source": [
    "Change a Tensor value, and see the change in \n",
    "corresponding NumPy array"
   ]
  },
  {
   "cell_type": "code",
   "execution_count": 58,
   "metadata": {},
   "outputs": [
    {
     "name": "stdout",
     "output_type": "stream",
     "text": [
      "tensor([100,   3], dtype=torch.int32)\n"
     ]
    }
   ],
   "source": [
    "n[0] = 100\n",
    "print(t)"
   ]
  },
  {
   "cell_type": "markdown",
   "metadata": {},
   "source": [
    "Convert a Tensor to NumPy array"
   ]
  },
  {
   "cell_type": "code",
   "execution_count": 59,
   "metadata": {},
   "outputs": [
    {
     "name": "stdout",
     "output_type": "stream",
     "text": [
      "tensor([5., 6.])\n",
      "[5. 6.]\n"
     ]
    }
   ],
   "source": [
    "t = torch.FloatTensor([5, 6])\n",
    "n = t.numpy()\n",
    "print(t)\n",
    "print(n)"
   ]
  },
  {
   "cell_type": "markdown",
   "metadata": {},
   "source": [
    "Change a Tensor value, and see the change in corresponding NumPy array"
   ]
  },
  {
   "cell_type": "code",
   "execution_count": 60,
   "metadata": {},
   "outputs": [
    {
     "name": "stdout",
     "output_type": "stream",
     "text": [
      "[100.   6.]\n"
     ]
    }
   ],
   "source": [
    "t[0] = 100\n",
    "print(n)"
   ]
  },
  {
   "cell_type": "markdown",
   "metadata": {},
   "source": [
    "### Tensors on GPU"
   ]
  },
  {
   "cell_type": "markdown",
   "metadata": {},
   "source": [
    "Check if your machine has GPU support"
   ]
  },
  {
   "cell_type": "code",
   "execution_count": 61,
   "metadata": {},
   "outputs": [
    {
     "name": "stdout",
     "output_type": "stream",
     "text": [
      "GPU Not Supported\n"
     ]
    }
   ],
   "source": [
    "if torch.cuda.is_available():\n",
    "    print(\"GPU Supported\")\n",
    "else:\n",
    "    print(\"GPU Not Supported\")"
   ]
  },
  {
   "cell_type": "markdown",
   "metadata": {},
   "source": [
    "Check the number of GPUs attached to this machine"
   ]
  },
  {
   "cell_type": "code",
   "execution_count": 62,
   "metadata": {},
   "outputs": [
    {
     "data": {
      "text/plain": [
       "0"
      ]
     },
     "execution_count": 62,
     "metadata": {},
     "output_type": "execute_result"
    }
   ],
   "source": [
    "torch.cuda.device_count()"
   ]
  },
  {
   "cell_type": "markdown",
   "metadata": {},
   "source": [
    "Get device name"
   ]
  },
  {
   "cell_type": "code",
   "execution_count": 63,
   "metadata": {},
   "outputs": [
    {
     "ename": "AssertionError",
     "evalue": "Torch not compiled with CUDA enabled",
     "output_type": "error",
     "traceback": [
      "\u001b[1;31m---------------------------------------------------------------------------\u001b[0m",
      "\u001b[1;31mAssertionError\u001b[0m                            Traceback (most recent call last)",
      "\u001b[1;32m<ipython-input-63-f9c260299c38>\u001b[0m in \u001b[0;36m<module>\u001b[1;34m\u001b[0m\n\u001b[1;32m----> 1\u001b[1;33m \u001b[0mtorch\u001b[0m\u001b[1;33m.\u001b[0m\u001b[0mcuda\u001b[0m\u001b[1;33m.\u001b[0m\u001b[0mget_device_name\u001b[0m\u001b[1;33m(\u001b[0m\u001b[1;36m0\u001b[0m\u001b[1;33m)\u001b[0m\u001b[1;33m\u001b[0m\u001b[1;33m\u001b[0m\u001b[0m\n\u001b[0m",
      "\u001b[1;32m~\\anaconda3\\lib\\site-packages\\torch\\cuda\\__init__.py\u001b[0m in \u001b[0;36mget_device_name\u001b[1;34m(device)\u001b[0m\n\u001b[0;32m    302\u001b[0m             \u001b[1;32mif\u001b[0m \u001b[1;33m:\u001b[0m\u001b[0mattr\u001b[0m\u001b[1;33m:\u001b[0m\u001b[0;31m`\u001b[0m\u001b[0mdevice\u001b[0m\u001b[0;31m`\u001b[0m \u001b[1;32mis\u001b[0m\u001b[0;31m \u001b[0m\u001b[0;31m`\u001b[0m\u001b[0;31m`\u001b[0m\u001b[1;32mNone\u001b[0m\u001b[0;31m`\u001b[0m\u001b[0;31m`\u001b[0m \u001b[1;33m(\u001b[0m\u001b[0mdefault\u001b[0m\u001b[1;33m)\u001b[0m\u001b[1;33m.\u001b[0m\u001b[1;33m\u001b[0m\u001b[1;33m\u001b[0m\u001b[0m\n\u001b[0;32m    303\u001b[0m     \"\"\"\n\u001b[1;32m--> 304\u001b[1;33m     \u001b[1;32mreturn\u001b[0m \u001b[0mget_device_properties\u001b[0m\u001b[1;33m(\u001b[0m\u001b[0mdevice\u001b[0m\u001b[1;33m)\u001b[0m\u001b[1;33m.\u001b[0m\u001b[0mname\u001b[0m\u001b[1;33m\u001b[0m\u001b[1;33m\u001b[0m\u001b[0m\n\u001b[0m\u001b[0;32m    305\u001b[0m \u001b[1;33m\u001b[0m\u001b[0m\n\u001b[0;32m    306\u001b[0m \u001b[1;33m\u001b[0m\u001b[0m\n",
      "\u001b[1;32m~\\anaconda3\\lib\\site-packages\\torch\\cuda\\__init__.py\u001b[0m in \u001b[0;36mget_device_properties\u001b[1;34m(device)\u001b[0m\n\u001b[0;32m    323\u001b[0m \u001b[1;33m\u001b[0m\u001b[0m\n\u001b[0;32m    324\u001b[0m \u001b[1;32mdef\u001b[0m \u001b[0mget_device_properties\u001b[0m\u001b[1;33m(\u001b[0m\u001b[0mdevice\u001b[0m\u001b[1;33m)\u001b[0m\u001b[1;33m:\u001b[0m\u001b[1;33m\u001b[0m\u001b[1;33m\u001b[0m\u001b[0m\n\u001b[1;32m--> 325\u001b[1;33m     \u001b[0m_lazy_init\u001b[0m\u001b[1;33m(\u001b[0m\u001b[1;33m)\u001b[0m  \u001b[1;31m# will define _get_device_properties and _CudaDeviceProperties\u001b[0m\u001b[1;33m\u001b[0m\u001b[1;33m\u001b[0m\u001b[0m\n\u001b[0m\u001b[0;32m    326\u001b[0m     \u001b[0mdevice\u001b[0m \u001b[1;33m=\u001b[0m \u001b[0m_get_device_index\u001b[0m\u001b[1;33m(\u001b[0m\u001b[0mdevice\u001b[0m\u001b[1;33m,\u001b[0m \u001b[0moptional\u001b[0m\u001b[1;33m=\u001b[0m\u001b[1;32mTrue\u001b[0m\u001b[1;33m)\u001b[0m\u001b[1;33m\u001b[0m\u001b[1;33m\u001b[0m\u001b[0m\n\u001b[0;32m    327\u001b[0m     \u001b[1;32mif\u001b[0m \u001b[0mdevice\u001b[0m \u001b[1;33m<\u001b[0m \u001b[1;36m0\u001b[0m \u001b[1;32mor\u001b[0m \u001b[0mdevice\u001b[0m \u001b[1;33m>=\u001b[0m \u001b[0mdevice_count\u001b[0m\u001b[1;33m(\u001b[0m\u001b[1;33m)\u001b[0m\u001b[1;33m:\u001b[0m\u001b[1;33m\u001b[0m\u001b[1;33m\u001b[0m\u001b[0m\n",
      "\u001b[1;32m~\\anaconda3\\lib\\site-packages\\torch\\cuda\\__init__.py\u001b[0m in \u001b[0;36m_lazy_init\u001b[1;34m()\u001b[0m\n\u001b[0;32m    194\u001b[0m             raise RuntimeError(\n\u001b[0;32m    195\u001b[0m                 \"Cannot re-initialize CUDA in forked subprocess. \" + msg)\n\u001b[1;32m--> 196\u001b[1;33m         \u001b[0m_check_driver\u001b[0m\u001b[1;33m(\u001b[0m\u001b[1;33m)\u001b[0m\u001b[1;33m\u001b[0m\u001b[1;33m\u001b[0m\u001b[0m\n\u001b[0m\u001b[0;32m    197\u001b[0m         \u001b[0mtorch\u001b[0m\u001b[1;33m.\u001b[0m\u001b[0m_C\u001b[0m\u001b[1;33m.\u001b[0m\u001b[0m_cuda_init\u001b[0m\u001b[1;33m(\u001b[0m\u001b[1;33m)\u001b[0m\u001b[1;33m\u001b[0m\u001b[1;33m\u001b[0m\u001b[0m\n\u001b[0;32m    198\u001b[0m         \u001b[0m_cudart\u001b[0m \u001b[1;33m=\u001b[0m \u001b[0m_load_cudart\u001b[0m\u001b[1;33m(\u001b[0m\u001b[1;33m)\u001b[0m\u001b[1;33m\u001b[0m\u001b[1;33m\u001b[0m\u001b[0m\n",
      "\u001b[1;32m~\\anaconda3\\lib\\site-packages\\torch\\cuda\\__init__.py\u001b[0m in \u001b[0;36m_check_driver\u001b[1;34m()\u001b[0m\n\u001b[0;32m     92\u001b[0m \u001b[1;32mdef\u001b[0m \u001b[0m_check_driver\u001b[0m\u001b[1;33m(\u001b[0m\u001b[1;33m)\u001b[0m\u001b[1;33m:\u001b[0m\u001b[1;33m\u001b[0m\u001b[1;33m\u001b[0m\u001b[0m\n\u001b[0;32m     93\u001b[0m     \u001b[1;32mif\u001b[0m \u001b[1;32mnot\u001b[0m \u001b[0mhasattr\u001b[0m\u001b[1;33m(\u001b[0m\u001b[0mtorch\u001b[0m\u001b[1;33m.\u001b[0m\u001b[0m_C\u001b[0m\u001b[1;33m,\u001b[0m \u001b[1;34m'_cuda_isDriverSufficient'\u001b[0m\u001b[1;33m)\u001b[0m\u001b[1;33m:\u001b[0m\u001b[1;33m\u001b[0m\u001b[1;33m\u001b[0m\u001b[0m\n\u001b[1;32m---> 94\u001b[1;33m         \u001b[1;32mraise\u001b[0m \u001b[0mAssertionError\u001b[0m\u001b[1;33m(\u001b[0m\u001b[1;34m\"Torch not compiled with CUDA enabled\"\u001b[0m\u001b[1;33m)\u001b[0m\u001b[1;33m\u001b[0m\u001b[1;33m\u001b[0m\u001b[0m\n\u001b[0m\u001b[0;32m     95\u001b[0m     \u001b[1;32mif\u001b[0m \u001b[1;32mnot\u001b[0m \u001b[0mtorch\u001b[0m\u001b[1;33m.\u001b[0m\u001b[0m_C\u001b[0m\u001b[1;33m.\u001b[0m\u001b[0m_cuda_isDriverSufficient\u001b[0m\u001b[1;33m(\u001b[0m\u001b[1;33m)\u001b[0m\u001b[1;33m:\u001b[0m\u001b[1;33m\u001b[0m\u001b[1;33m\u001b[0m\u001b[0m\n\u001b[0;32m     96\u001b[0m         \u001b[1;32mif\u001b[0m \u001b[0mtorch\u001b[0m\u001b[1;33m.\u001b[0m\u001b[0m_C\u001b[0m\u001b[1;33m.\u001b[0m\u001b[0m_cuda_getDriverVersion\u001b[0m\u001b[1;33m(\u001b[0m\u001b[1;33m)\u001b[0m \u001b[1;33m==\u001b[0m \u001b[1;36m0\u001b[0m\u001b[1;33m:\u001b[0m\u001b[1;33m\u001b[0m\u001b[1;33m\u001b[0m\u001b[0m\n",
      "\u001b[1;31mAssertionError\u001b[0m: Torch not compiled with CUDA enabled"
     ]
    }
   ],
   "source": [
    "torch.cuda.get_device_name(0)"
   ]
  },
  {
   "cell_type": "markdown",
   "metadata": {},
   "source": [
    "Moving a Tensor to GPU"
   ]
  },
  {
   "cell_type": "code",
   "execution_count": 64,
   "metadata": {},
   "outputs": [],
   "source": [
    "t = torch.FloatTensor([2, 3])"
   ]
  },
  {
   "cell_type": "code",
   "execution_count": 65,
   "metadata": {},
   "outputs": [
    {
     "name": "stdout",
     "output_type": "stream",
     "text": [
      "tensor([2., 3.])\n"
     ]
    }
   ],
   "source": [
    "print(t)"
   ]
  },
  {
   "cell_type": "code",
   "execution_count": 66,
   "metadata": {},
   "outputs": [
    {
     "ename": "AssertionError",
     "evalue": "Torch not compiled with CUDA enabled",
     "output_type": "error",
     "traceback": [
      "\u001b[1;31m---------------------------------------------------------------------------\u001b[0m",
      "\u001b[1;31mAssertionError\u001b[0m                            Traceback (most recent call last)",
      "\u001b[1;32m<ipython-input-66-f5dbc41007bf>\u001b[0m in \u001b[0;36m<module>\u001b[1;34m\u001b[0m\n\u001b[1;32m----> 1\u001b[1;33m \u001b[0mt\u001b[0m \u001b[1;33m=\u001b[0m \u001b[0mt\u001b[0m\u001b[1;33m.\u001b[0m\u001b[0mcuda\u001b[0m\u001b[1;33m(\u001b[0m\u001b[1;36m0\u001b[0m\u001b[1;33m)\u001b[0m\u001b[1;33m\u001b[0m\u001b[1;33m\u001b[0m\u001b[0m\n\u001b[0m",
      "\u001b[1;32m~\\anaconda3\\lib\\site-packages\\torch\\cuda\\__init__.py\u001b[0m in \u001b[0;36m_lazy_init\u001b[1;34m()\u001b[0m\n\u001b[0;32m    194\u001b[0m             raise RuntimeError(\n\u001b[0;32m    195\u001b[0m                 \"Cannot re-initialize CUDA in forked subprocess. \" + msg)\n\u001b[1;32m--> 196\u001b[1;33m         \u001b[0m_check_driver\u001b[0m\u001b[1;33m(\u001b[0m\u001b[1;33m)\u001b[0m\u001b[1;33m\u001b[0m\u001b[1;33m\u001b[0m\u001b[0m\n\u001b[0m\u001b[0;32m    197\u001b[0m         \u001b[0mtorch\u001b[0m\u001b[1;33m.\u001b[0m\u001b[0m_C\u001b[0m\u001b[1;33m.\u001b[0m\u001b[0m_cuda_init\u001b[0m\u001b[1;33m(\u001b[0m\u001b[1;33m)\u001b[0m\u001b[1;33m\u001b[0m\u001b[1;33m\u001b[0m\u001b[0m\n\u001b[0;32m    198\u001b[0m         \u001b[0m_cudart\u001b[0m \u001b[1;33m=\u001b[0m \u001b[0m_load_cudart\u001b[0m\u001b[1;33m(\u001b[0m\u001b[1;33m)\u001b[0m\u001b[1;33m\u001b[0m\u001b[1;33m\u001b[0m\u001b[0m\n",
      "\u001b[1;32m~\\anaconda3\\lib\\site-packages\\torch\\cuda\\__init__.py\u001b[0m in \u001b[0;36m_check_driver\u001b[1;34m()\u001b[0m\n\u001b[0;32m     92\u001b[0m \u001b[1;32mdef\u001b[0m \u001b[0m_check_driver\u001b[0m\u001b[1;33m(\u001b[0m\u001b[1;33m)\u001b[0m\u001b[1;33m:\u001b[0m\u001b[1;33m\u001b[0m\u001b[1;33m\u001b[0m\u001b[0m\n\u001b[0;32m     93\u001b[0m     \u001b[1;32mif\u001b[0m \u001b[1;32mnot\u001b[0m \u001b[0mhasattr\u001b[0m\u001b[1;33m(\u001b[0m\u001b[0mtorch\u001b[0m\u001b[1;33m.\u001b[0m\u001b[0m_C\u001b[0m\u001b[1;33m,\u001b[0m \u001b[1;34m'_cuda_isDriverSufficient'\u001b[0m\u001b[1;33m)\u001b[0m\u001b[1;33m:\u001b[0m\u001b[1;33m\u001b[0m\u001b[1;33m\u001b[0m\u001b[0m\n\u001b[1;32m---> 94\u001b[1;33m         \u001b[1;32mraise\u001b[0m \u001b[0mAssertionError\u001b[0m\u001b[1;33m(\u001b[0m\u001b[1;34m\"Torch not compiled with CUDA enabled\"\u001b[0m\u001b[1;33m)\u001b[0m\u001b[1;33m\u001b[0m\u001b[1;33m\u001b[0m\u001b[0m\n\u001b[0m\u001b[0;32m     95\u001b[0m     \u001b[1;32mif\u001b[0m \u001b[1;32mnot\u001b[0m \u001b[0mtorch\u001b[0m\u001b[1;33m.\u001b[0m\u001b[0m_C\u001b[0m\u001b[1;33m.\u001b[0m\u001b[0m_cuda_isDriverSufficient\u001b[0m\u001b[1;33m(\u001b[0m\u001b[1;33m)\u001b[0m\u001b[1;33m:\u001b[0m\u001b[1;33m\u001b[0m\u001b[1;33m\u001b[0m\u001b[0m\n\u001b[0;32m     96\u001b[0m         \u001b[1;32mif\u001b[0m \u001b[0mtorch\u001b[0m\u001b[1;33m.\u001b[0m\u001b[0m_C\u001b[0m\u001b[1;33m.\u001b[0m\u001b[0m_cuda_getDriverVersion\u001b[0m\u001b[1;33m(\u001b[0m\u001b[1;33m)\u001b[0m \u001b[1;33m==\u001b[0m \u001b[1;36m0\u001b[0m\u001b[1;33m:\u001b[0m\u001b[1;33m\u001b[0m\u001b[1;33m\u001b[0m\u001b[0m\n",
      "\u001b[1;31mAssertionError\u001b[0m: Torch not compiled with CUDA enabled"
     ]
    }
   ],
   "source": [
    "t = t.cuda(0)"
   ]
  },
  {
   "cell_type": "markdown",
   "metadata": {},
   "source": [
    "Creating a Tensor on GPU, directly"
   ]
  },
  {
   "cell_type": "code",
   "execution_count": 67,
   "metadata": {},
   "outputs": [
    {
     "ename": "TypeError",
     "evalue": "type torch.cuda.FloatTensor not available. Torch not compiled with CUDA enabled.",
     "output_type": "error",
     "traceback": [
      "\u001b[1;31m---------------------------------------------------------------------------\u001b[0m",
      "\u001b[1;31mTypeError\u001b[0m                                 Traceback (most recent call last)",
      "\u001b[1;32m<ipython-input-67-9fd38739488f>\u001b[0m in \u001b[0;36m<module>\u001b[1;34m\u001b[0m\n\u001b[1;32m----> 1\u001b[1;33m \u001b[0mt\u001b[0m \u001b[1;33m=\u001b[0m \u001b[0mtorch\u001b[0m\u001b[1;33m.\u001b[0m\u001b[0mcuda\u001b[0m\u001b[1;33m.\u001b[0m\u001b[0mFloatTensor\u001b[0m\u001b[1;33m(\u001b[0m\u001b[1;33m[\u001b[0m\u001b[1;36m2\u001b[0m\u001b[1;33m,\u001b[0m \u001b[1;36m3\u001b[0m\u001b[1;33m]\u001b[0m\u001b[1;33m)\u001b[0m\u001b[1;33m\u001b[0m\u001b[1;33m\u001b[0m\u001b[0m\n\u001b[0m\u001b[0;32m      2\u001b[0m \u001b[0mprint\u001b[0m\u001b[1;33m(\u001b[0m\u001b[0mt\u001b[0m\u001b[1;33m)\u001b[0m\u001b[1;33m\u001b[0m\u001b[1;33m\u001b[0m\u001b[0m\n",
      "\u001b[1;31mTypeError\u001b[0m: type torch.cuda.FloatTensor not available. Torch not compiled with CUDA enabled."
     ]
    }
   ],
   "source": [
    "t = torch.cuda.FloatTensor([2, 3])\n",
    "print(t)"
   ]
  },
  {
   "cell_type": "markdown",
   "metadata": {},
   "source": [
    "Bring it back to CPU"
   ]
  },
  {
   "cell_type": "code",
   "execution_count": 68,
   "metadata": {},
   "outputs": [
    {
     "name": "stdout",
     "output_type": "stream",
     "text": [
      "tensor([2., 3.])\n"
     ]
    }
   ],
   "source": [
    "t = t.cpu()\n",
    "print(t)"
   ]
  },
  {
   "cell_type": "markdown",
   "metadata": {},
   "source": [
    "Use device context"
   ]
  },
  {
   "cell_type": "code",
   "execution_count": 69,
   "metadata": {},
   "outputs": [
    {
     "ename": "AttributeError",
     "evalue": "module 'torch._C' has no attribute '_cuda_getDevice'",
     "output_type": "error",
     "traceback": [
      "\u001b[1;31m---------------------------------------------------------------------------\u001b[0m",
      "\u001b[1;31mAttributeError\u001b[0m                            Traceback (most recent call last)",
      "\u001b[1;32m<ipython-input-69-1c98cbfd53fa>\u001b[0m in \u001b[0;36m<module>\u001b[1;34m\u001b[0m\n\u001b[1;32m----> 1\u001b[1;33m \u001b[1;32mwith\u001b[0m \u001b[0mtorch\u001b[0m\u001b[1;33m.\u001b[0m\u001b[0mcuda\u001b[0m\u001b[1;33m.\u001b[0m\u001b[0mdevice\u001b[0m\u001b[1;33m(\u001b[0m\u001b[1;36m0\u001b[0m\u001b[1;33m)\u001b[0m\u001b[1;33m:\u001b[0m\u001b[1;33m\u001b[0m\u001b[1;33m\u001b[0m\u001b[0m\n\u001b[0m\u001b[0;32m      2\u001b[0m     \u001b[0mt\u001b[0m \u001b[1;33m=\u001b[0m \u001b[0mtorch\u001b[0m\u001b[1;33m.\u001b[0m\u001b[0mcuda\u001b[0m\u001b[1;33m.\u001b[0m\u001b[0mFloatTensor\u001b[0m\u001b[1;33m(\u001b[0m\u001b[1;33m[\u001b[0m\u001b[1;36m2\u001b[0m\u001b[1;33m,\u001b[0m \u001b[1;36m3\u001b[0m\u001b[1;33m]\u001b[0m\u001b[1;33m)\u001b[0m\u001b[1;33m\u001b[0m\u001b[1;33m\u001b[0m\u001b[0m\n\u001b[0;32m      3\u001b[0m     \u001b[0mprint\u001b[0m\u001b[1;33m(\u001b[0m\u001b[0mt\u001b[0m\u001b[1;33m)\u001b[0m\u001b[1;33m\u001b[0m\u001b[1;33m\u001b[0m\u001b[0m\n",
      "\u001b[1;32m~\\anaconda3\\lib\\site-packages\\torch\\cuda\\__init__.py\u001b[0m in \u001b[0;36m__enter__\u001b[1;34m(self)\u001b[0m\n\u001b[0;32m    252\u001b[0m         \u001b[1;32mif\u001b[0m \u001b[0mself\u001b[0m\u001b[1;33m.\u001b[0m\u001b[0midx\u001b[0m \u001b[1;33m==\u001b[0m \u001b[1;33m-\u001b[0m\u001b[1;36m1\u001b[0m\u001b[1;33m:\u001b[0m\u001b[1;33m\u001b[0m\u001b[1;33m\u001b[0m\u001b[0m\n\u001b[0;32m    253\u001b[0m             \u001b[1;32mreturn\u001b[0m\u001b[1;33m\u001b[0m\u001b[1;33m\u001b[0m\u001b[0m\n\u001b[1;32m--> 254\u001b[1;33m         \u001b[0mself\u001b[0m\u001b[1;33m.\u001b[0m\u001b[0mprev_idx\u001b[0m \u001b[1;33m=\u001b[0m \u001b[0mtorch\u001b[0m\u001b[1;33m.\u001b[0m\u001b[0m_C\u001b[0m\u001b[1;33m.\u001b[0m\u001b[0m_cuda_getDevice\u001b[0m\u001b[1;33m(\u001b[0m\u001b[1;33m)\u001b[0m\u001b[1;33m\u001b[0m\u001b[1;33m\u001b[0m\u001b[0m\n\u001b[0m\u001b[0;32m    255\u001b[0m         \u001b[1;32mif\u001b[0m \u001b[0mself\u001b[0m\u001b[1;33m.\u001b[0m\u001b[0mprev_idx\u001b[0m \u001b[1;33m!=\u001b[0m \u001b[0mself\u001b[0m\u001b[1;33m.\u001b[0m\u001b[0midx\u001b[0m\u001b[1;33m:\u001b[0m\u001b[1;33m\u001b[0m\u001b[1;33m\u001b[0m\u001b[0m\n\u001b[0;32m    256\u001b[0m             \u001b[0mtorch\u001b[0m\u001b[1;33m.\u001b[0m\u001b[0m_C\u001b[0m\u001b[1;33m.\u001b[0m\u001b[0m_cuda_setDevice\u001b[0m\u001b[1;33m(\u001b[0m\u001b[0mself\u001b[0m\u001b[1;33m.\u001b[0m\u001b[0midx\u001b[0m\u001b[1;33m)\u001b[0m\u001b[1;33m\u001b[0m\u001b[1;33m\u001b[0m\u001b[0m\n",
      "\u001b[1;31mAttributeError\u001b[0m: module 'torch._C' has no attribute '_cuda_getDevice'"
     ]
    }
   ],
   "source": [
    "with torch.cuda.device(0):\n",
    "    t = torch.cuda.FloatTensor([2, 3])\n",
    "    print(t)"
   ]
  },
  {
   "cell_type": "markdown",
   "metadata": {},
   "source": [
    "### I ran this code in my laptop, which did not have GPU enabled"
   ]
  },
  {
   "cell_type": "markdown",
   "metadata": {
    "_cell_guid": "ff5c0b1b-7df0-49e9-ac50-ffcb7c7ce68b",
    "_uuid": "d32496f0fda13237f626529660ef77ca6812abfe"
   },
   "source": [
    "\n",
    "## MNIST digit recognition using PyTorch\n",
    "\n",
    "This part of the lab was\n",
    "taken from the [Kaggle tutorial on MNIST with PyTorch]('https://www.kaggle.com/justuser/mnist-with-pytorch-fully-connected-network).\n",
    "\n",
    "We will use a fully connected neural network and a batch learning algorithm and explain each\n",
    "step along the way.\n",
    "\n",
    "So, with that being said, let's start with imports that we will need.\n",
    "First of all, we need to import PyTorch. There are some common names for torch modules (like numpy is always named np):  torch.nn.functional is imported as F,  torch.nn is the core module, and is simply imported as nn.\n",
    "Also, we need numpy. We also use pyplot and seaborn for visualization, but they are not required for the network itself. \n",
    "And finally, we use pandas for importing and transforming data.\n"
   ]
  },
  {
   "cell_type": "code",
   "execution_count": 72,
   "metadata": {
    "_cell_guid": "9c846800-05b5-40e4-9899-e3c5e6a149ba",
    "_uuid": "2945bec027bb7b48141bc406ccb6ecb19d240aaf"
   },
   "outputs": [],
   "source": [
    "import numpy as np\n",
    "import torch\n",
    "import torch.nn as nn\n",
    "import torch.nn.functional as F\n",
    "import torch.optim as optim\n",
    "from torch.autograd import Variable\n",
    "import pandas as pd\n",
    "import matplotlib.pyplot as plt\n",
    "import seaborn as sns\n",
    "%matplotlib inline\n",
    "import warnings\n",
    "warnings.filterwarnings(\"ignore\")"
   ]
  },
  {
   "cell_type": "markdown",
   "metadata": {
    "_cell_guid": "7ef86f98-c394-4595-8675-e2539ea2332d",
    "_uuid": "dc797b7df7d886a974e0fd36a7e30da01159875b"
   },
   "source": [
    "Now we can import and transform the data. I decided to split it into input and labels right away at this step:"
   ]
  },
  {
   "cell_type": "code",
   "execution_count": 73,
   "metadata": {
    "_cell_guid": "6d14bbd6-47d0-4b67-b3d4-d2cf21d46aab",
    "_uuid": "1bf6c2fde0bb1799d2c551cdeda74bb2a5e02bca"
   },
   "outputs": [
    {
     "name": "stdout",
     "output_type": "stream",
     "text": [
      "Reading the data...\n",
      "Reshaping the data...\n",
      "Data is ready\n"
     ]
    }
   ],
   "source": [
    "print(\"Reading the data...\")\n",
    "data = pd.read_csv('train_mnist.csv', sep=\",\")\n",
    "test_data = pd.read_csv('test_mnist.csv', sep=\",\")\n",
    "\n",
    "print(\"Reshaping the data...\")\n",
    "dataFinal = data.drop('label', axis=1)\n",
    "labels = data['label']\n",
    "\n",
    "\n",
    "dataNp = dataFinal.to_numpy()\n",
    "labelsNp = labels.to_numpy()\n",
    "test_dataNp = test_data.to_numpy()\n",
    "\n",
    "print(\"Data is ready\")"
   ]
  },
  {
   "cell_type": "markdown",
   "metadata": {
    "_cell_guid": "728ef5da-7b0f-4a32-9a0e-10d75e10173e",
    "_uuid": "d8441dfce526382bc0c9a0658add9df793f06ed1"
   },
   "source": [
    "Now that data is ready, we can take a look at what we're dealing with. I will be using heatmaps from seaborn, which is an excellent tool for matrix visualization. But first, since the images in the MNIST dataset are represented as a long 1d arrays of pixels, we will need to reshape it into 2d array. That's where .reshape() from numpy comes in handy. The pictures are 28 x 28 pixels, so these will be the parameters.\n",
    "\n",
    "Let's select a couple random samples and visualize them. I will also print their labels, so we can compare images with their actual value:"
   ]
  },
  {
   "cell_type": "code",
   "execution_count": 74,
   "metadata": {
    "_cell_guid": "54405d05-313e-48b9-8984-14337df18c7d",
    "_uuid": "7c796bf8cece8a8fef7ab459c0e7624159f2f1e2"
   },
   "outputs": [
    {
     "name": "stdout",
     "output_type": "stream",
     "text": [
      "8  /  9\n",
      "8  /  4\n",
      "9  /  1\n"
     ]
    },
    {
     "data": {
      "image/png": "[encoded data removed]",
      "text/plain": [
       "<Figure size 1008x864 with 12 Axes>"
      ]
     },
     "metadata": {
      "needs_background": "light"
     },
     "output_type": "display_data"
    }
   ],
   "source": [
    "plt.figure(figsize=(14, 12))\n",
    "\n",
    "pixels = dataNp[10].reshape(28, 28)\n",
    "plt.subplot(321)\n",
    "sns.heatmap(data=pixels)\n",
    "\n",
    "pixels = dataNp[11].reshape(28, 28)\n",
    "plt.subplot(322)\n",
    "sns.heatmap(data=pixels)\n",
    "\n",
    "pixels = dataNp[20].reshape(28, 28)\n",
    "plt.subplot(323)\n",
    "sns.heatmap(data=pixels)\n",
    "\n",
    "pixels = dataNp[32].reshape(28, 28)\n",
    "plt.subplot(324)\n",
    "sns.heatmap(data=pixels)\n",
    "\n",
    "pixels = dataNp[40].reshape(28, 28)\n",
    "plt.subplot(325)\n",
    "sns.heatmap(data=pixels)\n",
    "\n",
    "pixels = dataNp[52].reshape(28, 28)\n",
    "plt.subplot(326)\n",
    "sns.heatmap(data=pixels)\n",
    "\n",
    "print(labels[10], \" / \", labels[11])\n",
    "print(labels[20], \" / \", labels[32])\n",
    "print(labels[40], \" / \", labels[52])"
   ]
  },
  {
   "cell_type": "markdown",
   "metadata": {
    "_cell_guid": "b7a5f805-f8dd-4288-b44d-8984f479ae7f",
    "_uuid": "147ebd083edc2cf96c8e0aefb3893dc971fc5f0b"
   },
   "source": [
    "PyTorch has it's own way to store data - those are called tensors, and they are just like numpy arrays, but are suited for PyTorch needs. If we want to feed the data to the network, we need to transform the dataset into those tensors. The good news is that PyTorch can easily do that by transforming numpy arrays or regular lists into tensors."
   ]
  },
  {
   "cell_type": "code",
   "execution_count": 75,
   "metadata": {
    "_cell_guid": "410167b2-846d-4363-831b-84349053ecfd",
    "_uuid": "af8849f388dd69082bdcf52ea48547eb0ea1a483"
   },
   "outputs": [],
   "source": [
    "x = torch.FloatTensor(dataNp.tolist())\n",
    "y = torch.LongTensor(labelsNp.tolist())"
   ]
  },
  {
   "cell_type": "markdown",
   "metadata": {
    "_cell_guid": "4131196e-07e4-49a5-8380-f0fcfccba081",
    "_uuid": "fcd60bddacdb2146d7d3fa272eb3dc766d8314fe"
   },
   "source": [
    "Before we start writing the actual network, we need to determine what will be the hyperparameters. Those will not be adjusted during training, so we need to be careful how we set them up. \n",
    "\n",
    "Here's what we will specify:\n",
    "* **input_size** - size of the input layer, it is always fixed (784 pixels)\n",
    "* **output_size** - size of the output layer, also fixed size (10 for every possible digit)\n",
    "* **hidden_size** - size of the hidden layer, this parameter determines structure of the network. 200 worked for me, but it is worth to play with this parameter to see what works for you\n",
    "* **epochs** - how many times will the network go through the entire dataset during training. \n",
    "* **learning_rate** - determines how fast will the network learn. You should be very careful about this parameter, because if it is too high, the network won't learn at all, if it is too low, the net will learn too long. I's always about balance. Usualy 10^-3 - 10^-5 works just fine.\n",
    "* **batch_size** - size of mini batches during training"
   ]
  },
  {
   "cell_type": "code",
   "execution_count": 76,
   "metadata": {
    "_cell_guid": "80dd6a9a-c28f-4a16-b8fe-6c2c4986422c",
    "_uuid": "fdc55b6ed97d0d641046f977cb7a578ad80fbc57"
   },
   "outputs": [],
   "source": [
    "# hyperparameters\n",
    "input_size = 784\n",
    "output_size = 10\n",
    "hidden_size = 200\n",
    "\n",
    "epochs = 20\n",
    "batch_size = 50\n",
    "learning_rate = 0.00005"
   ]
  },
  {
   "cell_type": "markdown",
   "metadata": {
    "_cell_guid": "4d2b9f6c-8fb0-4468-b7ce-88cb3d28fcef",
    "_uuid": "507d4fb6939a3a9093ff3eabf1dd841ba5880b97"
   },
   "source": [
    "Now we can finally write the actual network. To make it all work, the Network class needs to inherit the *nn.Module*, which gives it the basic functionality required, and allows PyTorch to work with it as expected. \n",
    "\n",
    "When writing a PyTorch neural network, some things must always be there:\n",
    "* \\__init\\__(self) - initializes the net and creates an instance of that *nn.Module*. Here we define the structure of the network.\n",
    "* forward(self, x) - defines forward propagation and how the data flow through the network. Of course, it is based on the structure that is defined in the previous function.\n",
    "\n",
    "In the initialization, first of all, we need to initialize super (or base) module that the net inherits. After that first line, is the definition of structure. You can experiment with (put more layers or change hidden layer size, etc.), but this structure worked for me just fine.\n",
    "\n",
    "In forward propagation we simply reassign the value of x as it flows through the layers and return the [softmax](https://en.wikipedia.org/wiki/Softmax_function) at the end."
   ]
  },
  {
   "cell_type": "code",
   "execution_count": 77,
   "metadata": {
    "_cell_guid": "f238d14f-05bb-4a49-b031-5eaa47bddc64",
    "_uuid": "dc77322a324a27ef7a7f30b0432bfd0d3da3e567"
   },
   "outputs": [],
   "source": [
    "class Network(nn.Module):\n",
    "    \n",
    "    def __init__(self):\n",
    "        super(Network, self).__init__()\n",
    "        self.l1 = nn.Linear(input_size, hidden_size)\n",
    "        self.relu = nn.ReLU()\n",
    "        self.l3 = nn.Linear(hidden_size, output_size)\n",
    "        \n",
    "    def forward(self, x):\n",
    "        x = self.l1(x)\n",
    "        x = self.relu(x)\n",
    "        x = self.l3(x)\n",
    "        return F.log_softmax(x)"
   ]
  },
  {
   "cell_type": "markdown",
   "metadata": {
    "_cell_guid": "02a3fe74-b0d4-4d78-bcee-4fffc6acca89",
    "_uuid": "e4dbac71f5f491cf8e79b127cbe18a4e90c65d71"
   },
   "source": [
    "After we've defined the network, we can initialize it. \n",
    "Also, if we \"print\" the instance of the net, we can see the structure of it in a neat format:"
   ]
  },
  {
   "cell_type": "code",
   "execution_count": 78,
   "metadata": {
    "_cell_guid": "2376a5b3-3f93-46ac-8e19-e22cf3fb3f01",
    "_uuid": "b70b7208f45abe5b9324735a515c6259cc4fb3e3"
   },
   "outputs": [
    {
     "name": "stdout",
     "output_type": "stream",
     "text": [
      "Network(\n",
      "  (l1): Linear(in_features=784, out_features=200, bias=True)\n",
      "  (relu): ReLU()\n",
      "  (l3): Linear(in_features=200, out_features=10, bias=True)\n",
      ")\n"
     ]
    }
   ],
   "source": [
    "net = Network()\n",
    "print(net)"
   ]
  },
  {
   "cell_type": "markdown",
   "metadata": {
    "_cell_guid": "75eaeb97-f840-4862-8819-109b023660a7",
    "_uuid": "4cb26c4f84a53abdd5f4c3f7fc0a625ef7d805c4"
   },
   "source": [
    "Now it's time to set up the [optimizer](http://pytorch.org/docs/master/optim.html) and a loss function. \n",
    "\n",
    "*There are quite a lot of things happening behind these two lines of code, so if you don't know what is going on here, don't worry too much for now, it will get clearer eventualy.* \n",
    "\n",
    "Optimizer is what  updates the parameters of the network. I will be using Stochastic Gradient Descent with momentum. Also, the optimizer takes the network parameters as an argument, but it's not a big deal since we can get those with .parameters() function.\n",
    "\n",
    "I decided to use [Cross Entropy Loss](https://en.wikipedia.org/wiki/Cross_entropy) for this problem, but again, there are many options and you are free to choose whatever suits you best."
   ]
  },
  {
   "cell_type": "code",
   "execution_count": 79,
   "metadata": {
    "_cell_guid": "f9fe7b0f-7fec-49f3-8cd2-a6fedd4c8048",
    "_uuid": "d4fd65ae06c5003428ab90b1557142f015152b7c"
   },
   "outputs": [],
   "source": [
    "optimizer = optim.SGD(net.parameters(), lr=learning_rate, momentum=0.9)\n",
    "loss_func = nn.CrossEntropyLoss()"
   ]
  },
  {
   "cell_type": "markdown",
   "metadata": {
    "_cell_guid": "465d2e54-0a22-446d-9f87-d687f48140f3",
    "_uuid": "9684f943703fb995be47a7d92d1d281acc3dae32"
   },
   "source": [
    "Now that everything is ready, our network can start learning. I will separate data into minibatches and feed it to the network. It has many advantages over single batch learning, but that is a different story. \n",
    "\n",
    "Also, I will use loss_log list to keep track of the loss function during the training process. "
   ]
  },
  {
   "cell_type": "code",
   "execution_count": 80,
   "metadata": {
    "_cell_guid": "3b646efc-4cae-4f94-9350-e059e4c89446",
    "_uuid": "c1247ff34caf53e9894a1c2ea5c435c0e446d048"
   },
   "outputs": [
    {
     "name": "stdout",
     "output_type": "stream",
     "text": [
      "Epoch: 0 - Loss: 0.080632\n",
      "Epoch: 1 - Loss: 0.067372\n",
      "Epoch: 2 - Loss: 0.067720\n",
      "Epoch: 3 - Loss: 0.051558\n",
      "Epoch: 4 - Loss: 0.041084\n",
      "Epoch: 5 - Loss: 0.030975\n",
      "Epoch: 6 - Loss: 0.024730\n",
      "Epoch: 7 - Loss: 0.019905\n",
      "Epoch: 8 - Loss: 0.017788\n",
      "Epoch: 9 - Loss: 0.015249\n",
      "Epoch: 10 - Loss: 0.012668\n",
      "Epoch: 11 - Loss: 0.011521\n",
      "Epoch: 12 - Loss: 0.009532\n",
      "Epoch: 13 - Loss: 0.008026\n",
      "Epoch: 14 - Loss: 0.007072\n",
      "Epoch: 15 - Loss: 0.006042\n",
      "Epoch: 16 - Loss: 0.005077\n",
      "Epoch: 17 - Loss: 0.004792\n",
      "Epoch: 18 - Loss: 0.004040\n",
      "Epoch: 19 - Loss: 0.003560\n"
     ]
    }
   ],
   "source": [
    "loss_log = []\n",
    "\n",
    "for e in range(epochs):\n",
    "    for i in range(0, x.shape[0], batch_size):\n",
    "        x_mini = x[i:i + batch_size] \n",
    "        y_mini = y[i:i + batch_size] \n",
    "        \n",
    "        x_var = Variable(x_mini)\n",
    "        y_var = Variable(y_mini)\n",
    "        \n",
    "        optimizer.zero_grad()\n",
    "        net_out = net(x_var)\n",
    "        \n",
    "        loss = loss_func(net_out, y_var)\n",
    "        loss.backward()\n",
    "        optimizer.step()\n",
    "        \n",
    "        if i % 100 == 0:\n",
    "            loss_log.append(loss.item())\n",
    "        \n",
    "    print('Epoch: {} - Loss: {:.6f}'.format(e, loss.item()))"
   ]
  },
  {
   "cell_type": "markdown",
   "metadata": {
    "_cell_guid": "548ac762-97c0-48b9-98ff-93559b293c9a",
    "_uuid": "e3e6d56f52974ccb3120340695aed4b9bea0907b"
   },
   "source": [
    "So, let's go line by line and see what is happening here:\n",
    "\n",
    "This is the main loop that goes through all the epochs of training. An epoch is one full training on the full dataset.\n",
    "\n",
    "    for e in range(epochs):\n",
    "This is the inner loop that simply goes through the dataset batch by batch:\n",
    "\n",
    "    for i in range(0, x.shape[0], batch_size):\n",
    "Here is where we get the batches out of our data and simply assign them to variables for further work:\n",
    "\n",
    "    x_mini = x[i:i + batch_size] \n",
    "    y_mini = y[i:i + batch_size] \n",
    "   These two lines are quite *important*. Remember I told you about tensors and how PyTorch stores data in them? That's not the end of story. Actually, to allow the network to work with data, we need a wrapper for those tensors called Variable. It has some additional properties, like allowing automatic gradient computation when backpropagating. It is required for the proper work of PyTorch, so we will add them here and supply tensors as parameters:\n",
    "   \n",
    "    x_var = Variable(x_mini)\n",
    "    y_var = Variable(y_mini)\n",
    "This line just resets the gradient of the optimizer:\n",
    "    \n",
    "    optimizer.zero_grad()\n",
    "Remember the *forward(self, x)* function that we previously defined? The next line is basically calling this function and does the forward propagation:\n",
    "\n",
    "    net_out = net(x_var)\n",
    "This line computes the loss function based on predictions of the net and the correct answers:\n",
    "\n",
    "    loss = loss_func(net_out, y_var)\n",
    "Here we compute the gradient based on the loss that we've got. It will be used to adjust parameters of the network.\n",
    "\n",
    "    loss.backward()\n",
    "And here is where we finally update our network with new adjusted parameters:\n",
    "\n",
    "    optimizer.step()\n",
    "The rest is just logging, which might be helpful to observe how well the network is performing.\n",
    "\n",
    "After the network is done with training, we can take a look at the loss function, and how it behaved during training:"
   ]
  },
  {
   "cell_type": "code",
   "execution_count": 81,
   "metadata": {
    "_cell_guid": "5073f433-dbae-452b-8b7f-647e20c2d0dc",
    "_uuid": "4b635e76f4bb761ceef632c381546a2286442818"
   },
   "outputs": [
    {
     "data": {
      "text/plain": [
       "[<matplotlib.lines.Line2D at 0x1b9acf3a848>]"
      ]
     },
     "execution_count": 81,
     "metadata": {},
     "output_type": "execute_result"
    },
    {
     "data": {
      "image/png": "[encoded data removed]",
      "text/plain": [
       "<Figure size 720x576 with 1 Axes>"
      ]
     },
     "metadata": {
      "needs_background": "light"
     },
     "output_type": "display_data"
    }
   ],
   "source": [
    "plt.figure(figsize=(10,8))\n",
    "plt.plot(loss_log)"
   ]
  },
  {
   "cell_type": "markdown",
   "metadata": {
    "_cell_guid": "91f7e895-9ff7-4363-82d4-c2dc847aa9c3",
    "_uuid": "c5e3981a9d1e16ad5b8dcf5916031a22ac3336db"
   },
   "source": [
    "At this point, the network should be trained, and we can make a prediction using the test dataset. All we need to do is wrap the data into the Variable and feed it to the trained net, so nothing new here."
   ]
  },
  {
   "cell_type": "code",
   "execution_count": 82,
   "metadata": {
    "_cell_guid": "9792a7ca-d5a8-499b-87d0-077ecf77685d",
    "_uuid": "72b3a1b85275cc4c1f5bc7f442bf81004014b118"
   },
   "outputs": [
    {
     "name": "stdout",
     "output_type": "stream",
     "text": [
      "[2 0 9 ... 3 9 2]\n"
     ]
    }
   ],
   "source": [
    "test = torch.FloatTensor(test_dataNp.tolist())\n",
    "test_var = Variable(test)\n",
    "\n",
    "net_out = net(test_var)\n",
    "\n",
    "print(torch.max(net_out.data, 1)[1].numpy())"
   ]
  },
  {
   "cell_type": "markdown",
   "metadata": {
    "_cell_guid": "f34cc0fb-c950-4346-b742-259b86d9374c",
    "_uuid": "fed2362db49fc9991a1fd0be98d29c55b03b6b82"
   },
   "source": [
    "Now we have out predictions that are ready to be submitted. Before that, we can take a look at predictions and compare them to the actual pictures of digits, just like at the start with training data:"
   ]
  },
  {
   "cell_type": "code",
   "execution_count": 83,
   "metadata": {
    "_cell_guid": "bf0126d4-3eab-45ce-b84e-2f07c8fe9663",
    "_uuid": "41378dcf1951b3cbb7f929bec0a288bad007b72d"
   },
   "outputs": [
    {
     "name": "stdout",
     "output_type": "stream",
     "text": [
      "Prediction: 0 / 5\n",
      "Prediction: 9 / 7\n",
      "Prediction: 0 / 8\n"
     ]
    },
    {
     "data": {
      "image/png": "[encoded data removed]",
      "text/plain": [
       "<Figure size 1008x864 with 12 Axes>"
      ]
     },
     "metadata": {
      "needs_background": "light"
     },
     "output_type": "display_data"
    }
   ],
   "source": [
    "plt.figure(figsize=(14, 12))\n",
    "\n",
    "pixels = test_dataNp[1].reshape(28, 28)\n",
    "plt.subplot(321)\n",
    "sns.heatmap(data=pixels)\n",
    "test_sample = torch.FloatTensor(test_dataNp[1].tolist())\n",
    "test_var_sample = Variable(test_sample)\n",
    "net_out_sample = net(test_var_sample)\n",
    "\n",
    "pixels = test_dataNp[10].reshape(28, 28)\n",
    "plt.subplot(322)\n",
    "sns.heatmap(data=pixels)\n",
    "test_sample = torch.FloatTensor(test_dataNp[10].tolist())\n",
    "test_var_sample = Variable(test_sample)\n",
    "net_out_sample = net(test_var_sample)\n",
    "\n",
    "pixels = test_dataNp[20].reshape(28, 28)\n",
    "plt.subplot(323)\n",
    "sns.heatmap(data=pixels)\n",
    "test_sample = torch.FloatTensor(test_dataNp[20].tolist())\n",
    "test_var_sample = Variable(test_sample)\n",
    "net_out_sample = net(test_var_sample)\n",
    "\n",
    "pixels = test_dataNp[30].reshape(28, 28)\n",
    "plt.subplot(324)\n",
    "sns.heatmap(data=pixels)\n",
    "test_sample = torch.FloatTensor(test_dataNp[30].tolist())\n",
    "test_var_sample = Variable(test_sample)\n",
    "net_out_sample = net(test_var_sample)\n",
    "\n",
    "pixels = test_dataNp[100].reshape(28, 28)\n",
    "plt.subplot(325)\n",
    "sns.heatmap(data=pixels)\n",
    "test_sample = torch.FloatTensor(test_dataNp[100].tolist())\n",
    "test_var_sample = Variable(test_sample)\n",
    "net_out_sample = net(test_var_sample)\n",
    "\n",
    "pixels = test_dataNp[2000].reshape(28, 28)\n",
    "plt.subplot(326)\n",
    "sns.heatmap(data=pixels)\n",
    "test_sample = torch.FloatTensor(test_dataNp[1].tolist())\n",
    "test_var_sample = Variable(test_sample)\n",
    "net_out_sample = net(test_var_sample)\n",
    "\n",
    "\n",
    "print(\"Prediction: {} / {}\".format(torch.max(net_out.data, 1)[1].numpy()[1], torch.max(net_out.data, 1)[1].numpy()[10]))\n",
    "print(\"Prediction: {} / {}\".format(torch.max(net_out.data, 1)[1].numpy()[20], torch.max(net_out.data, 1)[1].numpy()[30]))\n",
    "print(\"Prediction: {} / {}\".format(torch.max(net_out.data, 1)[1].numpy()[100], torch.max(net_out.data, 1)[1].numpy()[2000]))"
   ]
  },
  {
   "cell_type": "code",
   "execution_count": 84,
   "metadata": {
    "_cell_guid": "22c40d7b-a3a4-4118-9aa5-d5191876ecd1",
    "_uuid": "c60e5abb1be0166b2c22aaad560885a74db21da9"
   },
   "outputs": [],
   "source": [
    "output = (torch.max(net_out.data, 1)[1]).numpy()\n",
    "#np.savetxt(\"out.csv\", np.dstack((np.arange(1, output.size+1),output))[0],\"%d,%d\",header=\"ImageId,Label\")"
   ]
  },
  {
   "cell_type": "markdown",
   "metadata": {
    "_cell_guid": "13d2eeae-86ea-499e-923a-642527f23ce0",
    "_uuid": "97523e84c3d8ee0be9aea776f3f7e6c109f05cdd"
   },
   "source": [
    "And that is about it, we've made a simple neural network using PyTorch that can recognize handwritten digits. Not so bad!\n",
    "\n",
    "When I was writing this notebook, this model scorred 96.6%, which is not perfect by any means, but it's not that bad either. \n",
    "\n",
    "I hope this was useful for some of you. If you are totally new to deep learning, I suggest you learn how the neural networks actually work from the inside, especially the backpropagation algorithm.\n",
    "\n",
    "These videos explain [neural nets](https://www.youtube.com/watch?v=aircAruvnKk&t=708s) and [backpropagation](https://www.youtube.com/watch?v=Ilg3gGewQ5U) quite well.\n",
    "\n",
    "Also I suggest you to take a look at this [online book](http://neuralnetworksanddeeplearning.com/chap1.html) (it's absolutely free, btw), where neural networks are explained in great detail, and it even has an implementation of the MNIST problem from scratch, using only numpy.\n",
    "\n",
    "If you have any feedback, feel free to leave comments down below, and good luck with your deep learning adventures :)"
   ]
  },
  {
   "cell_type": "markdown",
   "metadata": {},
   "source": [
    "## Take-home exercise\n",
    "\n",
    "Make sure you can run the PyTorch examples of MNIST classification, then apply the PyTorch example to another\n",
    "classification problem you've worked with this semester, for example the breast cancer dataset. Get familiar with\n",
    "working with models in PyTorch.\n",
    "\n",
    "Report your experiments and results in your brief lab report."
   ]
  },
  {
   "cell_type": "code",
   "execution_count": 87,
   "metadata": {},
   "outputs": [
    {
     "name": "stdout",
     "output_type": "stream",
     "text": [
      "Epoch: 1 - loss 0.390484\n",
      "Epoch: 2 - loss 0.360154\n",
      "Epoch: 3 - loss 0.353409\n",
      "Epoch: 4 - loss 0.347261\n",
      "Epoch: 5 - loss 0.343171\n",
      "Epoch: 6 - loss 0.340226\n",
      "Epoch: 7 - loss 0.337929\n",
      "Epoch: 8 - loss 0.335985\n",
      "Epoch: 9 - loss 0.334227\n",
      "Epoch: 10 - loss 0.332588\n",
      "Epoch: 11 - loss 0.331101\n",
      "Epoch: 12 - loss 0.329702\n",
      "Epoch: 13 - loss 0.328346\n",
      "Epoch: 14 - loss 0.327037\n",
      "Epoch: 15 - loss 0.325809\n",
      "Epoch: 16 - loss 0.324665\n",
      "Epoch: 17 - loss 0.323490\n",
      "Epoch: 18 - loss 0.322399\n",
      "Epoch: 19 - loss 0.321352\n",
      "Epoch: 20 - loss 0.320313\n",
      "Epoch: 21 - loss 0.319279\n",
      "Epoch: 22 - loss 0.318240\n",
      "Epoch: 23 - loss 0.317243\n",
      "Epoch: 24 - loss 0.316227\n",
      "Epoch: 25 - loss 0.315192\n",
      "Epoch: 26 - loss 0.314139\n",
      "Epoch: 27 - loss 0.313057\n",
      "Epoch: 28 - loss 0.312158\n",
      "Epoch: 29 - loss 0.311122\n",
      "Epoch: 30 - loss 0.310112\n",
      "Epoch: 31 - loss 0.309076\n",
      "Epoch: 32 - loss 0.307961\n",
      "Epoch: 33 - loss 0.306823\n",
      "Epoch: 34 - loss 0.305768\n",
      "Epoch: 35 - loss 0.304584\n",
      "Epoch: 36 - loss 0.303440\n",
      "Epoch: 37 - loss 0.302389\n",
      "Epoch: 38 - loss 0.301273\n",
      "Epoch: 39 - loss 0.300160\n",
      "Epoch: 40 - loss 0.298877\n",
      "Epoch: 41 - loss 0.297605\n",
      "Epoch: 42 - loss 0.296357\n",
      "Epoch: 43 - loss 0.295148\n",
      "Epoch: 44 - loss 0.293953\n",
      "Epoch: 45 - loss 0.292754\n",
      "Epoch: 46 - loss 0.291617\n",
      "Epoch: 47 - loss 0.290603\n",
      "Epoch: 48 - loss 0.289630\n",
      "Epoch: 49 - loss 0.288747\n",
      "Epoch: 50 - loss 0.287665\n",
      "Epoch: 51 - loss 0.286603\n",
      "Epoch: 52 - loss 0.285591\n",
      "Epoch: 53 - loss 0.284382\n",
      "Epoch: 54 - loss 0.283460\n",
      "Epoch: 55 - loss 0.282260\n",
      "Epoch: 56 - loss 0.281122\n",
      "Epoch: 57 - loss 0.279804\n",
      "Epoch: 58 - loss 0.278851\n",
      "Epoch: 59 - loss 0.277687\n",
      "Epoch: 60 - loss 0.276591\n",
      "Epoch: 61 - loss 0.275280\n",
      "Epoch: 62 - loss 0.274113\n",
      "Epoch: 63 - loss 0.272941\n",
      "Epoch: 64 - loss 0.271754\n",
      "Epoch: 65 - loss 0.270553\n",
      "Epoch: 66 - loss 0.269343\n",
      "Epoch: 67 - loss 0.267958\n",
      "Epoch: 68 - loss 0.266463\n",
      "Epoch: 69 - loss 0.265089\n",
      "Epoch: 70 - loss 0.263527\n",
      "Epoch: 71 - loss 0.261863\n",
      "Epoch: 72 - loss 0.260290\n",
      "Epoch: 73 - loss 0.258743\n",
      "Epoch: 74 - loss 0.257362\n",
      "Epoch: 75 - loss 0.255891\n",
      "Epoch: 76 - loss 0.254617\n",
      "Epoch: 77 - loss 0.253156\n",
      "Epoch: 78 - loss 0.252010\n",
      "Epoch: 79 - loss 0.250553\n",
      "Epoch: 80 - loss 0.249861\n",
      "Epoch: 81 - loss 0.248629\n",
      "Epoch: 82 - loss 0.247796\n",
      "Epoch: 83 - loss 0.246489\n",
      "Epoch: 84 - loss 0.245492\n",
      "Epoch: 85 - loss 0.244273\n",
      "Epoch: 86 - loss 0.243045\n",
      "Epoch: 87 - loss 0.241749\n",
      "Epoch: 88 - loss 0.240701\n",
      "Epoch: 89 - loss 0.239477\n",
      "Epoch: 90 - loss 0.238198\n",
      "Epoch: 91 - loss 0.237094\n",
      "Epoch: 92 - loss 0.235847\n",
      "Epoch: 93 - loss 0.234632\n",
      "Epoch: 94 - loss 0.233644\n",
      "Epoch: 95 - loss 0.232195\n",
      "Epoch: 96 - loss 0.230889\n",
      "Epoch: 97 - loss 0.229651\n",
      "Epoch: 98 - loss 0.228512\n",
      "Epoch: 99 - loss 0.227090\n",
      "Epoch: 100 - loss 0.225908\n",
      "Epoch: 101 - loss 0.224888\n",
      "Epoch: 102 - loss 0.223449\n",
      "Epoch: 103 - loss 0.222325\n",
      "Epoch: 104 - loss 0.221191\n",
      "Epoch: 105 - loss 0.220032\n",
      "Epoch: 106 - loss 0.219149\n",
      "Epoch: 107 - loss 0.217981\n",
      "Epoch: 108 - loss 0.217173\n",
      "Epoch: 109 - loss 0.215957\n",
      "Epoch: 110 - loss 0.215121\n",
      "Epoch: 111 - loss 0.214133\n",
      "Epoch: 112 - loss 0.213271\n",
      "Epoch: 113 - loss 0.212440\n",
      "Epoch: 114 - loss 0.211580\n",
      "Epoch: 115 - loss 0.210461\n",
      "Epoch: 116 - loss 0.209397\n",
      "Epoch: 117 - loss 0.208485\n",
      "Epoch: 118 - loss 0.207460\n",
      "Epoch: 119 - loss 0.206423\n",
      "Epoch: 120 - loss 0.205512\n",
      "Epoch: 121 - loss 0.204405\n",
      "Epoch: 122 - loss 0.203219\n",
      "Epoch: 123 - loss 0.202388\n",
      "Epoch: 124 - loss 0.201209\n",
      "Epoch: 125 - loss 0.200158\n",
      "Epoch: 126 - loss 0.199259\n",
      "Epoch: 127 - loss 0.198308\n",
      "Epoch: 128 - loss 0.197462\n",
      "Epoch: 129 - loss 0.196384\n",
      "Epoch: 130 - loss 0.195642\n",
      "Epoch: 131 - loss 0.194737\n",
      "Epoch: 132 - loss 0.194048\n",
      "Epoch: 133 - loss 0.193412\n",
      "Epoch: 134 - loss 0.192626\n",
      "Epoch: 135 - loss 0.191763\n",
      "Epoch: 136 - loss 0.191167\n",
      "Epoch: 137 - loss 0.190196\n",
      "Epoch: 138 - loss 0.189790\n",
      "Epoch: 139 - loss 0.188867\n",
      "Epoch: 140 - loss 0.188472\n",
      "Epoch: 141 - loss 0.187519\n",
      "Epoch: 142 - loss 0.186855\n",
      "Epoch: 143 - loss 0.186199\n",
      "Epoch: 144 - loss 0.185576\n",
      "Epoch: 145 - loss 0.184930\n",
      "Epoch: 146 - loss 0.184002\n",
      "Epoch: 147 - loss 0.183321\n",
      "Epoch: 148 - loss 0.182533\n",
      "Epoch: 149 - loss 0.181828\n",
      "Epoch: 150 - loss 0.181013\n",
      "Epoch: 151 - loss 0.180521\n",
      "Epoch: 152 - loss 0.179652\n",
      "Epoch: 153 - loss 0.178906\n",
      "Epoch: 154 - loss 0.178394\n",
      "Epoch: 155 - loss 0.177876\n",
      "Epoch: 156 - loss 0.177330\n",
      "Epoch: 157 - loss 0.176932\n",
      "Epoch: 158 - loss 0.176345\n",
      "Epoch: 159 - loss 0.175811\n",
      "Epoch: 160 - loss 0.174857\n",
      "Epoch: 161 - loss 0.174429\n",
      "Epoch: 162 - loss 0.173916\n",
      "Epoch: 163 - loss 0.173199\n",
      "Epoch: 164 - loss 0.172731\n",
      "Epoch: 165 - loss 0.172156\n",
      "Epoch: 166 - loss 0.171606\n",
      "Epoch: 167 - loss 0.170929\n",
      "Epoch: 168 - loss 0.170454\n",
      "Epoch: 169 - loss 0.169816\n",
      "Epoch: 170 - loss 0.169433\n",
      "Epoch: 171 - loss 0.168820\n",
      "Epoch: 172 - loss 0.168225\n",
      "Epoch: 173 - loss 0.167740\n",
      "Epoch: 174 - loss 0.166877\n",
      "Epoch: 175 - loss 0.166527\n",
      "Epoch: 176 - loss 0.165840\n",
      "Epoch: 177 - loss 0.165308\n",
      "Epoch: 178 - loss 0.164504\n",
      "Epoch: 179 - loss 0.163681\n",
      "Epoch: 180 - loss 0.162974\n",
      "Epoch: 181 - loss 0.162327\n",
      "Epoch: 182 - loss 0.161638\n",
      "Epoch: 183 - loss 0.160919\n",
      "Epoch: 184 - loss 0.160376\n",
      "Epoch: 185 - loss 0.159727\n",
      "Epoch: 186 - loss 0.159216\n",
      "Epoch: 187 - loss 0.158728\n",
      "Epoch: 188 - loss 0.157933\n",
      "Epoch: 189 - loss 0.157431\n",
      "Epoch: 190 - loss 0.156669\n",
      "Epoch: 191 - loss 0.156006\n",
      "Epoch: 192 - loss 0.155557\n",
      "Epoch: 193 - loss 0.154871\n",
      "Epoch: 194 - loss 0.154468\n",
      "Epoch: 195 - loss 0.153603\n",
      "Epoch: 196 - loss 0.153145\n",
      "Epoch: 197 - loss 0.152778\n",
      "Epoch: 198 - loss 0.152171\n",
      "Epoch: 199 - loss 0.151668\n",
      "Epoch: 200 - loss 0.151135\n",
      "Epoch: 201 - loss 0.150604\n",
      "Epoch: 202 - loss 0.149974\n",
      "Epoch: 203 - loss 0.149348\n",
      "Epoch: 204 - loss 0.148821\n",
      "Epoch: 205 - loss 0.147939\n",
      "Epoch: 206 - loss 0.147837\n",
      "Epoch: 207 - loss 0.147175\n",
      "Epoch: 208 - loss 0.146672\n",
      "Epoch: 209 - loss 0.146028\n",
      "Epoch: 210 - loss 0.145647\n",
      "Epoch: 211 - loss 0.144995\n",
      "Epoch: 212 - loss 0.144533\n",
      "Epoch: 213 - loss 0.143860\n",
      "Epoch: 214 - loss 0.143599\n",
      "Epoch: 215 - loss 0.142991\n",
      "Epoch: 216 - loss 0.142449\n",
      "Epoch: 217 - loss 0.141838\n",
      "Epoch: 218 - loss 0.141269\n",
      "Epoch: 219 - loss 0.140720\n",
      "Epoch: 220 - loss 0.140303\n",
      "Epoch: 221 - loss 0.139740\n",
      "Epoch: 222 - loss 0.139363\n",
      "Epoch: 223 - loss 0.138710\n",
      "Epoch: 224 - loss 0.138422\n",
      "Epoch: 225 - loss 0.137641\n",
      "Epoch: 226 - loss 0.137120\n",
      "Epoch: 227 - loss 0.136849\n",
      "Epoch: 228 - loss 0.135957\n",
      "Epoch: 229 - loss 0.135421\n",
      "Epoch: 230 - loss 0.134754\n",
      "Epoch: 231 - loss 0.134873\n",
      "Epoch: 232 - loss 0.133901\n",
      "Epoch: 233 - loss 0.133438\n",
      "Epoch: 234 - loss 0.133192\n",
      "Epoch: 235 - loss 0.132975\n",
      "Epoch: 236 - loss 0.132224\n",
      "Epoch: 237 - loss 0.131782\n",
      "Epoch: 238 - loss 0.131011\n",
      "Epoch: 239 - loss 0.130929\n",
      "Epoch: 240 - loss 0.130353\n",
      "Epoch: 241 - loss 0.129582\n",
      "Epoch: 242 - loss 0.129214\n",
      "Epoch: 243 - loss 0.129004\n",
      "Epoch: 244 - loss 0.128019\n",
      "Epoch: 245 - loss 0.127481\n",
      "Epoch: 246 - loss 0.126878\n",
      "Epoch: 247 - loss 0.126411\n",
      "Epoch: 248 - loss 0.125743\n",
      "Epoch: 249 - loss 0.125490\n",
      "Epoch: 250 - loss 0.125034\n",
      "Epoch: 251 - loss 0.123964\n",
      "Epoch: 252 - loss 0.123726\n",
      "Epoch: 253 - loss 0.123468\n",
      "Epoch: 254 - loss 0.122601\n",
      "Epoch: 255 - loss 0.122091\n",
      "Epoch: 256 - loss 0.121744\n",
      "Epoch: 257 - loss 0.121220\n",
      "Epoch: 258 - loss 0.120729\n",
      "Epoch: 259 - loss 0.120100\n",
      "Epoch: 260 - loss 0.119723\n",
      "Epoch: 261 - loss 0.119214\n",
      "Epoch: 262 - loss 0.118570\n",
      "Epoch: 263 - loss 0.117930\n",
      "Epoch: 264 - loss 0.117405\n",
      "Epoch: 265 - loss 0.117244\n",
      "Epoch: 266 - loss 0.116501\n",
      "Epoch: 267 - loss 0.115763\n",
      "Epoch: 268 - loss 0.115131\n",
      "Epoch: 269 - loss 0.114265\n",
      "Epoch: 270 - loss 0.113888\n",
      "Epoch: 271 - loss 0.113349\n",
      "Epoch: 272 - loss 0.112943\n",
      "Epoch: 273 - loss 0.111997\n",
      "Epoch: 274 - loss 0.111906\n",
      "Epoch: 275 - loss 0.111179\n",
      "Epoch: 276 - loss 0.110722\n",
      "Epoch: 277 - loss 0.110016\n",
      "Epoch: 278 - loss 0.109149\n",
      "Epoch: 279 - loss 0.108524\n",
      "Epoch: 280 - loss 0.108128\n",
      "Epoch: 281 - loss 0.107421\n",
      "Epoch: 282 - loss 0.106649\n",
      "Epoch: 283 - loss 0.106013\n",
      "Epoch: 284 - loss 0.105319\n",
      "Epoch: 285 - loss 0.104918\n",
      "Epoch: 286 - loss 0.103932\n",
      "Epoch: 287 - loss 0.103213\n",
      "Epoch: 288 - loss 0.102557\n",
      "Epoch: 289 - loss 0.101825\n",
      "Epoch: 290 - loss 0.101205\n",
      "Epoch: 291 - loss 0.100342\n",
      "Epoch: 292 - loss 0.099799\n",
      "Epoch: 293 - loss 0.099273\n",
      "Epoch: 294 - loss 0.098378\n",
      "Epoch: 295 - loss 0.097861\n",
      "Epoch: 296 - loss 0.097370\n",
      "Epoch: 297 - loss 0.096758\n",
      "Epoch: 298 - loss 0.096266\n",
      "Epoch: 299 - loss 0.095647\n",
      "Epoch: 300 - loss 0.095177\n",
      "Epoch: 301 - loss 0.094502\n",
      "Epoch: 302 - loss 0.094024\n",
      "Epoch: 303 - loss 0.093680\n",
      "Epoch: 304 - loss 0.092848\n",
      "Epoch: 305 - loss 0.092508\n",
      "Epoch: 306 - loss 0.092015\n",
      "Epoch: 307 - loss 0.091599\n",
      "Epoch: 308 - loss 0.090703\n",
      "Epoch: 309 - loss 0.090135\n",
      "Epoch: 310 - loss 0.089662\n"
     ]
    },
    {
     "name": "stdout",
     "output_type": "stream",
     "text": [
      "Epoch: 311 - loss 0.089312\n",
      "Epoch: 312 - loss 0.089064\n",
      "Epoch: 313 - loss 0.088540\n",
      "Epoch: 314 - loss 0.087860\n",
      "Epoch: 315 - loss 0.087405\n",
      "Epoch: 316 - loss 0.087062\n",
      "Epoch: 317 - loss 0.086311\n",
      "Epoch: 318 - loss 0.086600\n",
      "Epoch: 319 - loss 0.085698\n",
      "Epoch: 320 - loss 0.085215\n",
      "Epoch: 321 - loss 0.084978\n",
      "Epoch: 322 - loss 0.084896\n",
      "Epoch: 323 - loss 0.084043\n",
      "Epoch: 324 - loss 0.084223\n",
      "Epoch: 325 - loss 0.083329\n",
      "Epoch: 326 - loss 0.083094\n",
      "Epoch: 327 - loss 0.082855\n",
      "Epoch: 328 - loss 0.082229\n",
      "Epoch: 329 - loss 0.081676\n",
      "Epoch: 330 - loss 0.081744\n",
      "Epoch: 331 - loss 0.080895\n",
      "Epoch: 332 - loss 0.080518\n",
      "Epoch: 333 - loss 0.080081\n",
      "Epoch: 334 - loss 0.079646\n",
      "Epoch: 335 - loss 0.079495\n",
      "Epoch: 336 - loss 0.079135\n",
      "Epoch: 337 - loss 0.078920\n",
      "Epoch: 338 - loss 0.078194\n",
      "Epoch: 339 - loss 0.077753\n",
      "Epoch: 340 - loss 0.077220\n",
      "Epoch: 341 - loss 0.076848\n",
      "Epoch: 342 - loss 0.076278\n",
      "Epoch: 343 - loss 0.075986\n",
      "Epoch: 344 - loss 0.075237\n",
      "Epoch: 345 - loss 0.074983\n",
      "Epoch: 346 - loss 0.074690\n",
      "Epoch: 347 - loss 0.073815\n",
      "Epoch: 348 - loss 0.073788\n",
      "Epoch: 349 - loss 0.073390\n",
      "Epoch: 350 - loss 0.072664\n",
      "Epoch: 351 - loss 0.072374\n",
      "Epoch: 352 - loss 0.071821\n",
      "Epoch: 353 - loss 0.071578\n",
      "Epoch: 354 - loss 0.071418\n",
      "Epoch: 355 - loss 0.070672\n",
      "Epoch: 356 - loss 0.070625\n",
      "Epoch: 357 - loss 0.069929\n",
      "Epoch: 358 - loss 0.069764\n",
      "Epoch: 359 - loss 0.069226\n",
      "Epoch: 360 - loss 0.069061\n",
      "Epoch: 361 - loss 0.068470\n",
      "Epoch: 362 - loss 0.068252\n",
      "Epoch: 363 - loss 0.067828\n",
      "Epoch: 364 - loss 0.067723\n",
      "Epoch: 365 - loss 0.067360\n",
      "Epoch: 366 - loss 0.067107\n",
      "Epoch: 367 - loss 0.066466\n",
      "Epoch: 368 - loss 0.066365\n",
      "Epoch: 369 - loss 0.066157\n",
      "Epoch: 370 - loss 0.065773\n",
      "Epoch: 371 - loss 0.065356\n",
      "Epoch: 372 - loss 0.065102\n",
      "Epoch: 373 - loss 0.064733\n",
      "Epoch: 374 - loss 0.064382\n",
      "Epoch: 375 - loss 0.064173\n",
      "Epoch: 376 - loss 0.063880\n",
      "Epoch: 377 - loss 0.063520\n",
      "Epoch: 378 - loss 0.063481\n",
      "Epoch: 379 - loss 0.062852\n",
      "Epoch: 380 - loss 0.062865\n",
      "Epoch: 381 - loss 0.062236\n",
      "Epoch: 382 - loss 0.062737\n",
      "Epoch: 383 - loss 0.061973\n",
      "Epoch: 384 - loss 0.061645\n",
      "Epoch: 385 - loss 0.061257\n",
      "Epoch: 386 - loss 0.060905\n",
      "Epoch: 387 - loss 0.060703\n",
      "Epoch: 388 - loss 0.060183\n",
      "Epoch: 389 - loss 0.060166\n",
      "Epoch: 390 - loss 0.059711\n",
      "Epoch: 391 - loss 0.059332\n",
      "Epoch: 392 - loss 0.058999\n",
      "Epoch: 393 - loss 0.058874\n",
      "Epoch: 394 - loss 0.058574\n",
      "Epoch: 395 - loss 0.058430\n",
      "Epoch: 396 - loss 0.058062\n",
      "Epoch: 397 - loss 0.057764\n",
      "Epoch: 398 - loss 0.057261\n",
      "Epoch: 399 - loss 0.057265\n",
      "Epoch: 400 - loss 0.056648\n",
      "Epoch: 401 - loss 0.056601\n",
      "Epoch: 402 - loss 0.056509\n",
      "Epoch: 403 - loss 0.056077\n",
      "Epoch: 404 - loss 0.055814\n",
      "Epoch: 405 - loss 0.055795\n",
      "Epoch: 406 - loss 0.055522\n",
      "Epoch: 407 - loss 0.055171\n",
      "Epoch: 408 - loss 0.054870\n",
      "Epoch: 409 - loss 0.054609\n",
      "Epoch: 410 - loss 0.054677\n",
      "Epoch: 411 - loss 0.054121\n",
      "Epoch: 412 - loss 0.054033\n",
      "Epoch: 413 - loss 0.053681\n",
      "Epoch: 414 - loss 0.053648\n",
      "Epoch: 415 - loss 0.053339\n",
      "Epoch: 416 - loss 0.053307\n",
      "Epoch: 417 - loss 0.052844\n",
      "Epoch: 418 - loss 0.052641\n",
      "Epoch: 419 - loss 0.052409\n",
      "Epoch: 420 - loss 0.052334\n",
      "Epoch: 421 - loss 0.052028\n",
      "Epoch: 422 - loss 0.051782\n",
      "Epoch: 423 - loss 0.051613\n",
      "Epoch: 424 - loss 0.051322\n",
      "Epoch: 425 - loss 0.051086\n",
      "Epoch: 426 - loss 0.050987\n",
      "Epoch: 427 - loss 0.050755\n",
      "Epoch: 428 - loss 0.050563\n",
      "Epoch: 429 - loss 0.050143\n",
      "Epoch: 430 - loss 0.049864\n",
      "Epoch: 431 - loss 0.049624\n",
      "Epoch: 432 - loss 0.049607\n",
      "Epoch: 433 - loss 0.049382\n",
      "Epoch: 434 - loss 0.049117\n",
      "Epoch: 435 - loss 0.048811\n",
      "Epoch: 436 - loss 0.048541\n",
      "Epoch: 437 - loss 0.048426\n",
      "Epoch: 438 - loss 0.048108\n",
      "Epoch: 439 - loss 0.047812\n",
      "Epoch: 440 - loss 0.047698\n",
      "Epoch: 441 - loss 0.047619\n",
      "Epoch: 442 - loss 0.047155\n",
      "Epoch: 443 - loss 0.047092\n",
      "Epoch: 444 - loss 0.046815\n",
      "Epoch: 445 - loss 0.046710\n",
      "Epoch: 446 - loss 0.046392\n",
      "Epoch: 447 - loss 0.046310\n",
      "Epoch: 448 - loss 0.045862\n",
      "Epoch: 449 - loss 0.045794\n",
      "Epoch: 450 - loss 0.045585\n",
      "Epoch: 451 - loss 0.045314\n",
      "Epoch: 452 - loss 0.045213\n",
      "Epoch: 453 - loss 0.045105\n",
      "Epoch: 454 - loss 0.044928\n",
      "Epoch: 455 - loss 0.044609\n",
      "Epoch: 456 - loss 0.044492\n",
      "Epoch: 457 - loss 0.044272\n",
      "Epoch: 458 - loss 0.044148\n",
      "Epoch: 459 - loss 0.044077\n",
      "Epoch: 460 - loss 0.044084\n",
      "Epoch: 461 - loss 0.043663\n",
      "Epoch: 462 - loss 0.043404\n",
      "Epoch: 463 - loss 0.043295\n",
      "Epoch: 464 - loss 0.043109\n",
      "Epoch: 465 - loss 0.042972\n",
      "Epoch: 466 - loss 0.042760\n",
      "Epoch: 467 - loss 0.042619\n",
      "Epoch: 468 - loss 0.042348\n",
      "Epoch: 469 - loss 0.042265\n",
      "Epoch: 470 - loss 0.042239\n",
      "Epoch: 471 - loss 0.041950\n",
      "Epoch: 472 - loss 0.041655\n",
      "Epoch: 473 - loss 0.041490\n",
      "Epoch: 474 - loss 0.041429\n",
      "Epoch: 475 - loss 0.041268\n",
      "Epoch: 476 - loss 0.041033\n",
      "Epoch: 477 - loss 0.040917\n",
      "Epoch: 478 - loss 0.040755\n",
      "Epoch: 479 - loss 0.040577\n",
      "Epoch: 480 - loss 0.040430\n",
      "Epoch: 481 - loss 0.040278\n",
      "Epoch: 482 - loss 0.040221\n",
      "Epoch: 483 - loss 0.039907\n",
      "Epoch: 484 - loss 0.039949\n",
      "Epoch: 485 - loss 0.039633\n",
      "Epoch: 486 - loss 0.039518\n",
      "Epoch: 487 - loss 0.039404\n",
      "Epoch: 488 - loss 0.039288\n",
      "Epoch: 489 - loss 0.039036\n",
      "Epoch: 490 - loss 0.039003\n",
      "Epoch: 491 - loss 0.038838\n",
      "Epoch: 492 - loss 0.038662\n",
      "Epoch: 493 - loss 0.038560\n",
      "Epoch: 494 - loss 0.038297\n",
      "Epoch: 495 - loss 0.038163\n",
      "Epoch: 496 - loss 0.038042\n",
      "Epoch: 497 - loss 0.037908\n",
      "Epoch: 498 - loss 0.037810\n",
      "Epoch: 499 - loss 0.037632\n",
      "Epoch: 500 - loss 0.037505\n"
     ]
    },
    {
     "data": {
      "image/png": "[encoded data removed]",
      "text/plain": [
       "<Figure size 432x288 with 1 Axes>"
      ]
     },
     "metadata": {
      "needs_background": "light"
     },
     "output_type": "display_data"
    }
   ],
   "source": [
    "import pandas as pd\n",
    "from sklearn.model_selection import train_test_split\n",
    "from sklearn.preprocessing import StandardScaler\n",
    "\n",
    "\n",
    "data = pd.read_csv('diabetes-dataset.csv')\n",
    "X = data.iloc[:, 0:8].to_numpy()\n",
    "y = data['Outcome'].to_numpy()\n",
    "\n",
    "X_train, X_test, y_train, y_test = train_test_split(X, y, test_size=0.3)\n",
    "\n",
    "s = StandardScaler()\n",
    "X_train = s.fit_transform(X_train)\n",
    "X_test = s.transform(X_test)\n",
    "\n",
    "input_size = X.shape[1]\n",
    "output_size = 1\n",
    "hidden_size = 200\n",
    "\n",
    "epochs = 500\n",
    "batch_size = 50\n",
    "learning_rate = 0.01\n",
    "\n",
    "from sklearn.preprocessing import Binarizer\n",
    "\n",
    "class diabetesNN(nn.Module):\n",
    "    def __init__(self):\n",
    "        super(diabetesNN, self).__init__()\n",
    "        self.l1 = nn.Linear(input_size, hidden_size)\n",
    "        self.relu = nn.ReLU()\n",
    "        self.l3 = nn.Linear(hidden_size, output_size)\n",
    "        self.sigmoid = nn.Sigmoid()\n",
    "        \n",
    "    def forward(self, x):\n",
    "        x = self.l1(x)\n",
    "        x = self.relu(x)\n",
    "        x = self.l3(x)\n",
    "        return self.sigmoid(x)\n",
    "    \n",
    "net = diabetesNN()\n",
    "\n",
    "optimizer = optim.SGD(net.parameters(), lr=learning_rate, momentum=0.9)\n",
    "loss_func = nn.BCELoss()\n",
    "\n",
    "loss_log = []\n",
    "\n",
    "x = torch.FloatTensor(X_train.tolist())\n",
    "y = torch.FloatTensor(y_train.tolist())\n",
    "\n",
    "for e in range(epochs):\n",
    "    for i in range(0, x.shape[0], batch_size):\n",
    "        x_mini = x[i:i + batch_size]\n",
    "        y_mini = y[i:i + batch_size ]\n",
    "        \n",
    "        x_var = Variable(x_mini)\n",
    "        y_var = Variable(y_mini)\n",
    "        \n",
    "        optimizer.zero_grad()\n",
    "        net_out = net(x_var)\n",
    "        \n",
    "        loss = loss_func(net_out, y_var)\n",
    "        loss.backward()\n",
    "        optimizer.step()\n",
    "    loss_log.append(loss.data)\n",
    "    print('Epoch: {} - loss {:.6f}'.format(e+1, loss.data))\n",
    "    \n",
    "plt.plot(loss_log)\n",
    "plt.xlabel('epochs')\n",
    "plt.ylabel('loss')\n",
    "plt.show()"
   ]
  },
  {
   "cell_type": "code",
   "execution_count": 91,
   "metadata": {},
   "outputs": [
    {
     "name": "stdout",
     "output_type": "stream",
     "text": [
      "Training accuracy:\n",
      "0.9978571428571429\n",
      "Test accuracy:\n"
     ]
    },
    {
     "data": {
      "text/plain": [
       "0.9616666666666667"
      ]
     },
     "execution_count": 91,
     "metadata": {},
     "output_type": "execute_result"
    }
   ],
   "source": [
    "def get_accuracy(y_pred, y_true):\n",
    "    return (y_pred == y_true).mean()\n",
    "\n",
    "# Training Set Accuracy\n",
    "train_var = Variable(x)\n",
    "net_out_train = net(train_var)\n",
    "\n",
    "y_pred = net_out_train.detach().numpy()\n",
    "y_pred = np.where(y_pred >=0.5, 1, 0)\n",
    "print('Training accuracy:')\n",
    "print(get_accuracy(y_pred.flatten(),y_train.flatten()))\n",
    "\n",
    "\n",
    "# Test Set Accuracy\n",
    "test = torch.FloatTensor(X_test)\n",
    "test_var = Variable(test)\n",
    "net_out_test = net(test_var)\n",
    "\n",
    "y_pred = net_out_test.detach().numpy()\n",
    "y_pred = np.where(y_pred >=0.5, 1, 0)\n",
    "print('Test accuracy:')\n",
    "get_accuracy(y_pred.flatten(),y_test.flatten())"
   ]
  },
  {
   "cell_type": "code",
   "execution_count": null,
   "metadata": {},
   "outputs": [],
   "source": []
  },
  {
   "cell_type": "code",
   "execution_count": null,
   "metadata": {},
   "outputs": [],
   "source": []
  }
 ],
 "metadata": {
  "kernelspec": {
   "display_name": "Python 3",
   "language": "python",
   "name": "python3"
  },
  "language_info": {
   "codemirror_mode": {
    "name": "ipython",
    "version": 3
   },
   "file_extension": ".py",
   "mimetype": "text/x-python",
   "name": "python",
   "nbconvert_exporter": "python",
   "pygments_lexer": "ipython3",
   "version": "3.7.6"
  }
 },
 "nbformat": 4,
 "nbformat_minor": 4
}
