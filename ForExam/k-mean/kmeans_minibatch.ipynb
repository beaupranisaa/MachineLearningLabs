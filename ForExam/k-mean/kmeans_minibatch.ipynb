{
 "cells": [
  {
   "cell_type": "markdown",
   "metadata": {},
   "source": [
    "### Mini_Batch_kmeans"
   ]
  },
  {
   "cell_type": "markdown",
   "metadata": {},
   "source": [
    "##### Default batchsize = 100"
   ]
  },
  {
   "cell_type": "code",
   "execution_count": 214,
   "metadata": {},
   "outputs": [
    {
     "data": {
      "text/plain": [
       "<matplotlib.collections.PathCollection at 0x7f9ab7d789d0>"
      ]
     },
     "execution_count": 214,
     "metadata": {},
     "output_type": "execute_result"
    },
    {
     "data": {
      "image/png": "[encoded data removed]",
      "text/plain": [
       "<Figure size 360x360 with 1 Axes>"
      ]
     },
     "metadata": {
      "needs_background": "light"
     },
     "output_type": "display_data"
    }
   ],
   "source": [
    "import numpy as np\n",
    "from sklearn.metrics import pairwise_distances_argmin\n",
    "from sklearn import datasets\n",
    "from sklearn.datasets import make_blobs\n",
    "from time import time\n",
    "import matplotlib.pyplot as plt\n",
    "\n",
    "n_samples = 1500\n",
    "X, y = datasets.make_blobs(n_samples = n_samples,centers = 4, cluster_std = 0.6,random_state = 42)\n",
    "\n",
    "# from sklearn.model_selection import train_test_split\n",
    "# X_train, X_test, y_train,y_test = train_test_split(X,y_true,test_size=0.3, shuffle=True, random_state=42)\n",
    "\n",
    "figure = plt.figure(figsize=(5, 5))\n",
    "ax = plt.axes()  #get the instance of axes from plt\n",
    "\n",
    "ax.grid()\n",
    "ax.scatter(X[:, 0], X[:, 1], c=y)"
   ]
  },
  {
   "cell_type": "code",
   "execution_count": 215,
   "metadata": {},
   "outputs": [],
   "source": [
    "class Mini_KMeans:\n",
    "    def __init__(self, k, replacement=True, batch_size=100, max_iter=100):\n",
    "        self.k = k\n",
    "        self.replacement=replacement\n",
    "        self.batch_size = batch_size\n",
    "        self.max_iter = max_iter\n",
    "    \n",
    "    def fit(self, X):\n",
    "        m, n = X.shape\n",
    "        #1. randomly choose k clusters from X\n",
    "        rng = np.random.RandomState(99)\n",
    "        i = rng.permutation(m)[:self.k] # number of clusters\n",
    "        self.centers = X[i]\n",
    "\n",
    "        #having max iter makes sure it will stop eventually\n",
    "        for ix in np.arange(self.max_iter):\n",
    "            random = rng.randint(m)\n",
    "            X_batch = X[random:random+self.batch_size]\n",
    "\n",
    "            #2. assign labels based on closest center\n",
    "            labels = pairwise_distances_argmin(X_batch, self.centers)\n",
    "\n",
    "            #3. find new centers\n",
    "            new_centers = []\n",
    "            for i in range(self.k):\n",
    "                new_centers.append(X_batch[labels == i].mean(axis=0))\n",
    "\n",
    "            #convert list to np.array; you can actually combine #3\n",
    "            #with np.array in one sentence \n",
    "            new_centers = np.array(new_centers)\n",
    "\n",
    "            #4 stopping criteria - if centers do not \n",
    "            #change anymore, we stop!\n",
    "            #make sure to add rtol or atol since mini-batch does not converge\n",
    "            if(np.allclose(self.centers, new_centers, rtol=0.2)):\n",
    "                break\n",
    "            else:\n",
    "                self.centers = new_centers\n",
    "\n",
    "        print(f\"Done in {ix} iterations\")\n",
    "\n",
    "        #compute total within-variation score\n",
    "        total_with_variation_score = 0\n",
    "        labels = pairwise_distances_argmin(X, self.centers) #<---Note I use X here.  Why?\n",
    "        for i in range(self.k):\n",
    "            cluster_mean = X[labels==i].mean(axis=0)\n",
    "            total_with_variation_score += ((X[labels==i] - cluster_mean)** 2).sum()\n",
    "\n",
    "        print(\"Total with variation score: \", total_with_variation_score)\n",
    "        self.distortion = total_with_variation_score\n",
    "\n",
    "    def predict(self, X):\n",
    "        return pairwise_distances_argmin(X, self.centers)"
   ]
  },
  {
   "cell_type": "code",
   "execution_count": 216,
   "metadata": {},
   "outputs": [
    {
     "name": "stdout",
     "output_type": "stream",
     "text": [
      "====== k = 2\n",
      "Done in 1 iterations\n",
      "Total with variation score:  49116.63920806305\n",
      "Fit and predict time 0.00726771354675293\n",
      "====== k = 3\n",
      "Done in 9 iterations\n",
      "Total with variation score:  8992.325672749414\n",
      "Fit and predict time 0.008993864059448242\n",
      "====== k = 4\n",
      "Done in 2 iterations\n",
      "Total with variation score:  1049.7443879774848\n",
      "Fit and predict time 0.004775524139404297\n",
      "====== k = 5\n",
      "Done in 2 iterations\n",
      "Total with variation score:  969.9902210650203\n",
      "Fit and predict time 0.004920244216918945\n",
      "====== k = 6\n",
      "Done in 2 iterations\n",
      "Total with variation score:  913.2020868327445\n",
      "Fit and predict time 0.005125999450683594\n"
     ]
    }
   ],
   "source": [
    "#main code\n",
    "distortion = []\n",
    "for k in range(2,7):\n",
    "    print(f\"====== k = {k}\")\n",
    "    start = time()\n",
    "    model = Mini_KMeans(k)\n",
    "    model.fit(X)\n",
    "    distortion.append(model.distortion)\n",
    "    preds = model.predict(X)\n",
    "    print(f\"Fit and predict time {time() - start}\")"
   ]
  },
  {
   "cell_type": "code",
   "execution_count": 217,
   "metadata": {},
   "outputs": [
    {
     "name": "stdout",
     "output_type": "stream",
     "text": [
      "[49116.63920806305, 8992.325672749414, 1049.7443879774848, 969.9902210650203, 913.2020868327445]\n"
     ]
    },
    {
     "data": {
      "text/plain": [
       "[<matplotlib.lines.Line2D at 0x7f9ab7d5fd60>]"
      ]
     },
     "execution_count": 217,
     "metadata": {},
     "output_type": "execute_result"
    },
    {
     "data": {
      "image/png": "[encoded data removed]",
      "text/plain": [
       "<Figure size 432x288 with 1 Axes>"
      ]
     },
     "metadata": {
      "needs_background": "light"
     },
     "output_type": "display_data"
    }
   ],
   "source": [
    "k = np.arange(2,7)\n",
    "print(distortion)\n",
    "plt.plot(k,distortion)"
   ]
  },
  {
   "cell_type": "code",
   "execution_count": 218,
   "metadata": {},
   "outputs": [
    {
     "name": "stdout",
     "output_type": "stream",
     "text": [
      "Done in 2 iterations\n",
      "Total with variation score:  1049.7443879774848\n"
     ]
    }
   ],
   "source": [
    "# select k\n",
    "k = 4\n",
    "model = Mini_KMeans(k)\n",
    "model.fit(X)\n",
    "preds = model.predict(X)"
   ]
  },
  {
   "cell_type": "code",
   "execution_count": 210,
   "metadata": {},
   "outputs": [],
   "source": [
    "# print(preds)\n",
    "# print(y_test)"
   ]
  },
  {
   "cell_type": "code",
   "execution_count": 16,
   "metadata": {},
   "outputs": [
    {
     "name": "stdout",
     "output_type": "stream",
     "text": [
      "======= classification report =======\n",
      "              precision    recall  f1-score   support\n",
      "\n",
      "           0       1.00      1.00      1.00       109\n",
      "           1       1.00      1.00      1.00       119\n",
      "           2       1.00      1.00      1.00       111\n",
      "           3       1.00      1.00      1.00       111\n",
      "\n",
      "    accuracy                           1.00       450\n",
      "   macro avg       1.00      1.00      1.00       450\n",
      "weighted avg       1.00      1.00      1.00       450\n",
      "\n"
     ]
    }
   ],
   "source": [
    "# from sklearn.metrics import classification_report\n",
    "# print('======= classification report =======')\n",
    "# print(classification_report(y_test, preds))"
   ]
  },
  {
   "cell_type": "code",
   "execution_count": 213,
   "metadata": {},
   "outputs": [
    {
     "data": {
      "text/plain": [
       "False"
      ]
     },
     "execution_count": 213,
     "metadata": {},
     "output_type": "execute_result"
    }
   ],
   "source": [
    "np.nan == np.nan\n"
   ]
  },
  {
   "cell_type": "code",
   "execution_count": null,
   "metadata": {},
   "outputs": [],
   "source": []
  }
 ],
 "metadata": {
  "kernelspec": {
   "display_name": "Python 3",
   "language": "python",
   "name": "python3"
  },
  "language_info": {
   "codemirror_mode": {
    "name": "ipython",
    "version": 3
   },
   "file_extension": ".py",
   "mimetype": "text/x-python",
   "name": "python",
   "nbconvert_exporter": "python",
   "pygments_lexer": "ipython3",
   "version": "3.8.3"
  }
 },
 "nbformat": 4,
 "nbformat_minor": 4
}
