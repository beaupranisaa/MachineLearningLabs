{
 "cells": [
  {
   "cell_type": "markdown",
   "metadata": {},
   "source": [
    "# Machine Learning Midterm, Jan Semester, 2018\n",
    "\n",
    "In this exam, you will demonstrate your understanding of the material from the lectures, tutorials, and problem sets.\n",
    "\n",
    "For each question, insert your answer directly in this sheet. When complete, export the sheet as a PDF and upload to Gradescope.\n",
    "\n",
    "Note that you have **2.5 hours** to do the exam. Also note that there are some short answer questions that you may be able to answer faster than the coding questions. You might consider answering those questions first to get as much credit as possible!\n",
    "\n",
    "## Question 1 (20 points)\n",
    "\n",
    "Consider the data ($\\mathtt{X}, \\mathbf{y}$) given in the cell below."
   ]
  },
  {
   "cell_type": "code",
   "execution_count": 23,
   "metadata": {},
   "outputs": [
    {
     "name": "stdout",
     "output_type": "stream",
     "text": [
      "(100, 2) (100, 2)\n",
      "(200, 1)\n"
     ]
    }
   ],
   "source": [
    "import numpy as np\n",
    "\n",
    "X1 = np.matrix([[70.4611978, 6.77435737], [26.63557899, 6.18519845], [21.21435842, 5.98482521],\n",
    "      [49.46520438, 6.46685477], [36.31867059, 6.26767026], [65.40450545, 6.69973324],\n",
    "      [47.63604002, 6.52991946], [51.12650291, 6.55278139], [16.19718639, 5.8701804],\n",
    "      [41.09647679, 6.39265021], [48.52977517, 6.54874167], [33.2783272, 6.24645442],\n",
    "      [54.2416494, 6.68772955], [63.87981696, 6.64426231], [49.74926534, 6.54019839],\n",
    "      [45.50085081, 6.40530107], [31.80572899, 6.33114329], [25.88027769, 6.00191626],\n",
    "      [25.34847504, 6.07445523], [59.5509754, 6.67139653], [50.69674158, 6.51872281],\n",
    "      [54.11728722, 6.58716206], [58.22172538, 6.58217774], [38.82480513, 6.43235051],\n",
    "      [54.62361945, 6.62107478], [42.24368621, 6.43349846], [44.91058546, 6.40702283],\n",
    "      [62.72139429, 6.81082283], [77.55458346, 6.86015373], [49.07536097, 6.58151526],\n",
    "      [51.48292856, 6.62113585], [57.37090719, 6.65400127], [48.48641553, 6.54340401],\n",
    "      [21.24715108, 6.07259954], [37.64146721, 6.46820336], [12.35289436, 5.4695928],\n",
    "      [37.65875476, 6.18370352], [49.85008383, 6.60947486], [66.13648137, 6.79896653],\n",
    "      [27.29008652, 6.15868866], [82.89679414, 6.86219115], [60.28610161, 6.77246816],\n",
    "      [45.99452861, 6.40409124], [77.29411953, 6.88564085], [49.24729059, 6.39129918],\n",
    "      [52.19238458, 6.52793378], [55.55244532, 6.5922497], [38.28876143, 6.35421521],\n",
    "      [41.28903755, 6.33314064], [73.83202683, 6.85274489], [62.84426032, 6.63317405],\n",
    "      [27.66679337, 6.0765891], [64.90528747, 6.7277243], [62.75897971, 6.74867287],\n",
    "      [57.47911597, 6.56964198], [32.54225548, 6.14425762], [44.7087849, 6.55684065],\n",
    "      [30.22868535, 6.17664755], [66.43902044, 6.66354862], [57.50647725, 6.63295779],\n",
    "      [56.23274763, 6.65483072], [71.62377075, 6.8249259], [37.21929751, 6.45896618],\n",
    "      [30.33685416, 6.29108668], [53.72586113, 6.55558498], [58.92009067, 6.58914418],\n",
    "      [60.36917635, 6.73713645], [46.46087002, 6.61086064], [54.97919255, 6.48830287],\n",
    "      [60.08999745, 6.63018137], [29.23503961, 6.06804535], [45.18879885, 6.44043758],\n",
    "      [67.91432786, 6.8105173], [46.5800853, 6.50060039], [56.70569052, 6.65565127],\n",
    "      [40.68951533, 6.41478636], [48.67956085, 6.48811567], [41.59182624, 6.38699182],\n",
    "      [39.95740486, 6.33546435], [44.94880975, 6.46206514], [64.78053936, 6.74188874],\n",
    "      [57.93695294, 6.73064008], [55.49704023, 6.64231398], [39.57510111, 6.29139288],\n",
    "      [33.95225046, 6.33743394], [77.23246962, 6.79966126], [56.49647686, 6.66597049],\n",
    "      [72.05710124, 6.83097927], [51.36582347, 6.63984591], [36.23540347, 6.26819074],\n",
    "      [51.33172918, 6.55170989], [65.9107458, 6.7412432], [45.92145099, 6.55785946],\n",
    "      [48.73393011, 6.5700271], [43.19824007, 6.5765512], [32.51187411, 6.17277242],\n",
    "      [66.52125325, 6.7549236], [71.77667409, 6.77447514], [27.54687135, 6.07712865],\n",
    "      [70.29209858, 6.82371897]])\n",
    "\n",
    "X2 = np.matrix([[103.48734726, 7.06665128], [45.95181945, 6.92463529], [62.51311459, 7.29929464],\n",
    "      [34.75905558, 6.82590246], [61.42150233, 7.14207452], [20.92995779, 6.18926827],\n",
    "      [48.88757058, 7.10046058], [47.00567217, 6.87392491], [66.03960746, 7.21300884],\n",
    "      [41.00765303, 6.88260887], [53.39454458, 7.12002753], [59.05801699, 7.07708207],\n",
    "      [25.84457253, 6.52661965], [20.64948341, 6.4810278], [63.28046094, 7.18001038],\n",
    "      [66.29002442, 7.24725685], [49.26589866, 7.02704851], [59.53968788, 7.12513223],\n",
    "      [48.46665858, 6.97610637], [34.51909729, 6.85422354], [61.16606292, 7.1611797],\n",
    "      [65.62870788, 7.25370585], [57.43965533, 7.12551572], [51.4256259, 7.12109028],\n",
    "      [78.45648704, 7.38957843], [70.23973965, 7.28014297], [61.12178687, 7.14687961],\n",
    "      [75.55803406, 7.2645782], [44.9666415, 7.00364604], [43.94509452, 6.94630876],\n",
    "      [44.98195858, 6.94771427], [44.07909292, 6.84250384], [33.27404217, 6.76884994],\n",
    "      [66.83707899, 7.26223859], [34.99475166, 6.75074986], [59.51675598, 7.18130986],\n",
    "      [37.03437849, 6.87742508], [62.14584595, 7.21712651], [51.37422401, 7.1478843],\n",
    "      [25.75396602, 6.83643475], [66.18768985, 7.28574587], [50.46927715, 7.0901681],\n",
    "      [66.08232926, 7.28108743], [16.81537222, 6.44176855], [38.49515228, 6.85670726],\n",
    "      [44.87889506, 6.89762361], [51.72803212, 7.15768698], [26.41099035, 6.69220322],\n",
    "      [67.40763472, 7.25475514], [60.26711966, 7.13606818], [41.26604269, 6.82072533],\n",
    "      [36.25102952, 6.81241658], [90.34415059, 7.10789215], [49.9112951, 7.04364433],\n",
    "      [37.60574769, 6.75709643], [47.69027385, 7.15224795], [70.7126762, 7.37139046],\n",
    "      [31.38034068, 6.57171353], [45.43488612, 6.97156664], [29.83557583, 6.77016354],\n",
    "      [53.58242995, 7.14264146], [40.28103375, 6.88596508], [69.76687507, 7.29225697],\n",
    "      [40.72428579, 6.90370374], [38.35168955, 6.72388286], [88.77752009, 7.30440221],\n",
    "      [52.71910503, 7.10525341], [78.13634099, 7.43246583], [55.28469075, 7.15527197],\n",
    "      [26.12154, 6.77911307], [57.9174037, 7.16031425], [59.96888213, 7.04359248],\n",
    "      [28.979886, 6.69711096], [54.10548377, 7.08093707], [46.24087958, 7.03464403],\n",
    "      [46.02151582, 6.98139406], [32.74868227, 6.69473258], [45.70424283, 6.94792668],\n",
    "      [25.85436229, 6.58336042], [77.98270261, 7.41044107], [54.65190235, 7.11080335],\n",
    "      [60.44627103, 7.07123203], [68.58296094, 7.33179762], [42.80337975, 6.87396778],\n",
    "      [31.35673666, 6.66603545], [19.04585207, 6.62207371], [48.79436125, 7.01009406],\n",
    "      [45.44124128, 7.08039785], [41.97937064, 6.854478], [53.39688062, 7.02525752],\n",
    "      [66.0637938, 7.258192], [55.09943464, 7.1307132], [65.22295533, 7.28208667],\n",
    "      [48.25983281, 6.93393588], [19.00711267, 6.33112045], [39.14998323, 6.99193013],\n",
    "      [75.51283715, 7.34232193], [20.07554717, 6.65314899], [40.64087416, 6.81927983],\n",
    "      [68.19628122, 7.3153336]])\n",
    "\n",
    "X = np.concatenate([X1, X2],0);\n",
    "y = np.concatenate([-np.matrix(np.ones([100,1])),np.matrix(np.ones([100,1]))]);\n",
    "# y = np.ravel(y)\n",
    "print(X1.shape,X2.shape)\n",
    "print(y.shape)\n",
    "# print(X)"
   ]
  },
  {
   "cell_type": "markdown",
   "metadata": {},
   "source": [
    "(Q1 continued) **Do the following:**\n",
    "\n",
    "1. **In the cell below, make a scatter plot of the data for class 1 and class 2 in different colors.**\n",
    "\n",
    "2. **Answer the question, are the data linearly separable?**\n"
   ]
  },
  {
   "cell_type": "code",
   "execution_count": 24,
   "metadata": {},
   "outputs": [
    {
     "data": {
      "text/plain": [
       "[<matplotlib.lines.Line2D at 0x12107f190>]"
      ]
     },
     "execution_count": 24,
     "metadata": {},
     "output_type": "execute_result"
    },
    {
     "data": {
      "image/png": "[encoded data removed]",
      "text/plain": [
       "<Figure size 432x288 with 1 Axes>"
      ]
     },
     "metadata": {
      "needs_background": "light"
     },
     "output_type": "display_data"
    }
   ],
   "source": [
    "import matplotlib.pyplot as plt\n",
    "plt.plot(X1[:,0],X1[:,1],'or',label = \"X1\")\n",
    "plt.plot(X2[:,0],X2[:,1],'ob',label = \"X2\")"
   ]
  },
  {
   "cell_type": "markdown",
   "metadata": {},
   "source": [
    "## Question 2 (20 points)\n",
    "\n",
    "**Do the following:**\n",
    "\n",
    "1. **Build a logistic regression model for the data ($\\mathtt{X},\\mathbf{y}$). Give the optimal parameter vector $\\mathbf{\\theta}$ below:**\n",
    "\n",
    "2. **Plot the data again, along with the decision boundary $\\mathbf{\\theta}^\\top \\mathbf{x} = 0$.**\n",
    "\n",
    "3. **What is the accuracy of this model on its training set?** (Note: in this problem there is no need to create separate training and test sets. Just train and test on the full data set.)"
   ]
  },
  {
   "cell_type": "code",
   "execution_count": 28,
   "metadata": {},
   "outputs": [
    {
     "name": "stdout",
     "output_type": "stream",
     "text": [
      "(80, 2) (20, 2)\n",
      "(80, 2) (20, 2)\n",
      "(160,)\n",
      "shapes of X_train, y_train with DUMMY added\n",
      "(160, 3) (160,)\n",
      "shapes of X_test, y_test with DUMMY added\n",
      "(40, 3) (40,)\n"
     ]
    }
   ],
   "source": [
    "import numpy as np\n",
    "import pandas as pd\n",
    "import matplotlib.pyplot as plt\n",
    "from sklearn import linear_model\n",
    "\n",
    "import numpy as np\n",
    "import pandas as pd\n",
    "import matplotlib.pyplot as plt\n",
    "from sklearn import linear_model\n",
    "\n",
    "\n",
    "from sklearn.datasets import make_classification\n",
    "from sklearn.model_selection import train_test_split\n",
    "\n",
    "from sklearn.preprocessing import StandardScaler\n",
    "\n",
    "X1_train = X1[0:80,:]\n",
    "X1_test = X1[80:,:]\n",
    "X2_train = X2[0:80,:]\n",
    "X2_test = X2[80:,:]\n",
    "\n",
    "print(X1_train.shape,X1_test.shape)\n",
    "print(X2_train.shape,X2_test.shape)\n",
    "\n",
    "X_train = np.concatenate((X1_train, X2_train), 0)\n",
    "y_train = np.concatenate((np.zeros((80,1)), np.ones((80,1))), 0).ravel()\n",
    "print(y_train.shape)\n",
    "# print(y_train)\n",
    "X_test = np.concatenate((X1_test, X2_test), 0)\n",
    "y_test = np.concatenate((np.zeros((20,1)), np.ones((20,1))), 0).ravel()\n",
    "# print(X_test.shape,y_test.shape)\n",
    "\n",
    "intercept = np.ones((X_train.shape[0], 1))\n",
    "X_train = np.concatenate((intercept, X_train), axis=1)  #add intercept\n",
    "intercept = np.ones((X_test.shape[0], 1))\n",
    "X_test = np.concatenate((intercept, X_test), axis=1)  #add intercept\n",
    "\n",
    "print('shapes of X_train, y_train with DUMMY added')\n",
    "print(X_train.shape,y_train.shape)\n",
    "print('shapes of X_test, y_test with DUMMY added')\n",
    "print(X_test.shape,y_test.shape)"
   ]
  },
  {
   "cell_type": "code",
   "execution_count": 20,
   "metadata": {},
   "outputs": [],
   "source": [
    "def sigmoid(z):   \n",
    "    return 1 / (1 + np.exp(-z))\n",
    "\n",
    "def get_yhat(X, theta):\n",
    "    print(X.shape,theta.shape)\n",
    "    bs = X@theta\n",
    "    print('bs',bs.shape)\n",
    "    return sigmoid(X @ theta)\n",
    "\n",
    "#loss = cost\n",
    "def get_loss(X,y,theta):\n",
    "    yhat = get_yhat(X,theta)\n",
    "    print(yhat.shape)\n",
    "    loss_new = -(np.sum(y * np.log(yhat) + (1 - y) * np.log(1 - yhat))) / y.shape[0]\n",
    "#     print(loss_new.shape)\n",
    "    return loss_new\n",
    "\n",
    "#for early stopping\n",
    "def delta_loss(loss_new, loss_old, tol):\n",
    "    return np.abs(loss_new - loss_old) < tol\n",
    "\n",
    "# for theta updating\n",
    "# error = h_theta(X,theta) - y\n",
    "def gradient(X,y,theta):\n",
    "    grad = X.T @ (get_yhat(X,theta)-y)#/y.shape[0] \n",
    "    return grad\n",
    "\n",
    "def gradient_descent(X_train,y_train,X_test,y_test,theta_initial,alpha,max_iter):\n",
    "    theta = theta_initial\n",
    "    tol = 0.001    \n",
    "    loss_history_train = []\n",
    "    loss_history_test = []\n",
    "    loss_old_train = np.inf\n",
    "    iter_stop = 0  \n",
    "    for i in range(max_iter):\n",
    "        # calculate costs\n",
    "        loss_new_train = get_loss(X_train,y_train,theta)\n",
    "        loss_test = get_loss(X_test,y_test,theta)        \n",
    "#         print(loss_new)\n",
    "        \n",
    "        # early stopping?\n",
    "        if delta_loss(loss_new_train, loss_old_train,tol):\n",
    "            diff = np.abs(loss_new_train - loss_old_train)\n",
    "#             print(diff)\n",
    "            iter_stop = i\n",
    "            break\n",
    "        loss_old_train = loss_new_train\n",
    "#         print(loss_old.shape)\n",
    "        \n",
    "#         if i%500 == 0:\n",
    "        print(\"cost iter\",i,':',loss_old_train)\n",
    "        loss_history_train.append(loss_old_train)\n",
    "        loss_history_test.append(loss_test)\n",
    "        \n",
    "        \n",
    "        # cal grad to update theta\n",
    "        grad = gradient(X_train,y_train,theta)\n",
    "#         print(grad)\n",
    "        \n",
    "        # update theta\n",
    "        theta = theta - alpha* grad\n",
    "#         print('theta',theta)\n",
    "        \n",
    "    return loss_history_train,loss_history_test, theta, iter_stop,diff"
   ]
  },
  {
   "cell_type": "code",
   "execution_count": 26,
   "metadata": {},
   "outputs": [
    {
     "name": "stdout",
     "output_type": "stream",
     "text": [
      "==============================\n",
      "Shape of theta:  (3,)\n",
      "==============================\n",
      "Initial theta:  [0. 0. 0.]\n"
     ]
    }
   ],
   "source": [
    "theta_initial = np.zeros(X_train.shape[1])\n",
    "# theta_initial = theta_initial.reshape(-1,1)\n",
    "# check shape of theta\n",
    "print(\"=\"*30)\n",
    "print(\"Shape of theta: \", theta_initial.shape)\n",
    "\n",
    "# initial theta\n",
    "print(\"=\"*30)\n",
    "print(\"Initial theta: \", theta_initial)"
   ]
  },
  {
   "cell_type": "code",
   "execution_count": 27,
   "metadata": {},
   "outputs": [
    {
     "name": "stdout",
     "output_type": "stream",
     "text": [
      "(160, 3) (3,)\n",
      "bs (1, 160)\n",
      "(1, 160)\n"
     ]
    },
    {
     "ename": "ValueError",
     "evalue": "shapes (160,) and (1,160) not aligned: 160 (dim 0) != 1 (dim 0)",
     "output_type": "error",
     "traceback": [
      "\u001b[0;31m---------------------------------------------------------------------------\u001b[0m",
      "\u001b[0;31mValueError\u001b[0m                                Traceback (most recent call last)",
      "\u001b[0;32m<ipython-input-27-97cf46438926>\u001b[0m in \u001b[0;36m<module>\u001b[0;34m\u001b[0m\n\u001b[1;32m      1\u001b[0m \u001b[0malpha\u001b[0m  \u001b[0;34m=\u001b[0m \u001b[0;36m0.05\u001b[0m\u001b[0;34m\u001b[0m\u001b[0;34m\u001b[0m\u001b[0m\n\u001b[1;32m      2\u001b[0m \u001b[0mmax_iter\u001b[0m \u001b[0;34m=\u001b[0m \u001b[0;36m10000\u001b[0m\u001b[0;34m\u001b[0m\u001b[0;34m\u001b[0m\u001b[0m\n\u001b[0;32m----> 3\u001b[0;31m \u001b[0mcost_history_train\u001b[0m\u001b[0;34m,\u001b[0m\u001b[0mcost_history_test\u001b[0m\u001b[0;34m,\u001b[0m\u001b[0mtheta\u001b[0m\u001b[0;34m,\u001b[0m \u001b[0miter_stop\u001b[0m\u001b[0;34m,\u001b[0m\u001b[0mdiff\u001b[0m \u001b[0;34m=\u001b[0m \u001b[0mgradient_descent\u001b[0m\u001b[0;34m(\u001b[0m\u001b[0mX_train\u001b[0m\u001b[0;34m,\u001b[0m\u001b[0my_train\u001b[0m\u001b[0;34m,\u001b[0m\u001b[0mX_test\u001b[0m\u001b[0;34m,\u001b[0m\u001b[0my_test\u001b[0m\u001b[0;34m,\u001b[0m\u001b[0mtheta_initial\u001b[0m\u001b[0;34m,\u001b[0m\u001b[0malpha\u001b[0m \u001b[0;34m=\u001b[0m \u001b[0malpha\u001b[0m \u001b[0;34m,\u001b[0m\u001b[0mmax_iter\u001b[0m \u001b[0;34m=\u001b[0m \u001b[0mmax_iter\u001b[0m\u001b[0;34m)\u001b[0m\u001b[0;34m\u001b[0m\u001b[0;34m\u001b[0m\u001b[0m\n\u001b[0m\u001b[1;32m      4\u001b[0m \u001b[0mprint\u001b[0m\u001b[0;34m(\u001b[0m\u001b[0miter_stop\u001b[0m\u001b[0;34m)\u001b[0m\u001b[0;34m\u001b[0m\u001b[0;34m\u001b[0m\u001b[0m\n",
      "\u001b[0;32m<ipython-input-20-685e4400cf80>\u001b[0m in \u001b[0;36mgradient_descent\u001b[0;34m(X_train, y_train, X_test, y_test, theta_initial, alpha, max_iter)\u001b[0m\n\u001b[1;32m     35\u001b[0m     \u001b[0;32mfor\u001b[0m \u001b[0mi\u001b[0m \u001b[0;32min\u001b[0m \u001b[0mrange\u001b[0m\u001b[0;34m(\u001b[0m\u001b[0mmax_iter\u001b[0m\u001b[0;34m)\u001b[0m\u001b[0;34m:\u001b[0m\u001b[0;34m\u001b[0m\u001b[0;34m\u001b[0m\u001b[0m\n\u001b[1;32m     36\u001b[0m         \u001b[0;31m# calculate costs\u001b[0m\u001b[0;34m\u001b[0m\u001b[0;34m\u001b[0m\u001b[0;34m\u001b[0m\u001b[0m\n\u001b[0;32m---> 37\u001b[0;31m         \u001b[0mloss_new_train\u001b[0m \u001b[0;34m=\u001b[0m \u001b[0mget_loss\u001b[0m\u001b[0;34m(\u001b[0m\u001b[0mX_train\u001b[0m\u001b[0;34m,\u001b[0m\u001b[0my_train\u001b[0m\u001b[0;34m,\u001b[0m\u001b[0mtheta\u001b[0m\u001b[0;34m)\u001b[0m\u001b[0;34m\u001b[0m\u001b[0;34m\u001b[0m\u001b[0m\n\u001b[0m\u001b[1;32m     38\u001b[0m         \u001b[0mloss_test\u001b[0m \u001b[0;34m=\u001b[0m \u001b[0mget_loss\u001b[0m\u001b[0;34m(\u001b[0m\u001b[0mX_test\u001b[0m\u001b[0;34m,\u001b[0m\u001b[0my_test\u001b[0m\u001b[0;34m,\u001b[0m\u001b[0mtheta\u001b[0m\u001b[0;34m)\u001b[0m\u001b[0;34m\u001b[0m\u001b[0;34m\u001b[0m\u001b[0m\n\u001b[1;32m     39\u001b[0m \u001b[0;31m#         print(loss_new)\u001b[0m\u001b[0;34m\u001b[0m\u001b[0;34m\u001b[0m\u001b[0;34m\u001b[0m\u001b[0m\n",
      "\u001b[0;32m<ipython-input-20-685e4400cf80>\u001b[0m in \u001b[0;36mget_loss\u001b[0;34m(X, y, theta)\u001b[0m\n\u001b[1;32m     12\u001b[0m     \u001b[0myhat\u001b[0m \u001b[0;34m=\u001b[0m \u001b[0mget_yhat\u001b[0m\u001b[0;34m(\u001b[0m\u001b[0mX\u001b[0m\u001b[0;34m,\u001b[0m\u001b[0mtheta\u001b[0m\u001b[0;34m)\u001b[0m\u001b[0;34m\u001b[0m\u001b[0;34m\u001b[0m\u001b[0m\n\u001b[1;32m     13\u001b[0m     \u001b[0mprint\u001b[0m\u001b[0;34m(\u001b[0m\u001b[0myhat\u001b[0m\u001b[0;34m.\u001b[0m\u001b[0mshape\u001b[0m\u001b[0;34m)\u001b[0m\u001b[0;34m\u001b[0m\u001b[0;34m\u001b[0m\u001b[0m\n\u001b[0;32m---> 14\u001b[0;31m     \u001b[0mloss_new\u001b[0m \u001b[0;34m=\u001b[0m \u001b[0;34m-\u001b[0m\u001b[0;34m(\u001b[0m\u001b[0mnp\u001b[0m\u001b[0;34m.\u001b[0m\u001b[0msum\u001b[0m\u001b[0;34m(\u001b[0m\u001b[0my\u001b[0m \u001b[0;34m*\u001b[0m \u001b[0mnp\u001b[0m\u001b[0;34m.\u001b[0m\u001b[0mlog\u001b[0m\u001b[0;34m(\u001b[0m\u001b[0myhat\u001b[0m\u001b[0;34m)\u001b[0m \u001b[0;34m+\u001b[0m \u001b[0;34m(\u001b[0m\u001b[0;36m1\u001b[0m \u001b[0;34m-\u001b[0m \u001b[0my\u001b[0m\u001b[0;34m)\u001b[0m \u001b[0;34m*\u001b[0m \u001b[0mnp\u001b[0m\u001b[0;34m.\u001b[0m\u001b[0mlog\u001b[0m\u001b[0;34m(\u001b[0m\u001b[0;36m1\u001b[0m \u001b[0;34m-\u001b[0m \u001b[0myhat\u001b[0m\u001b[0;34m)\u001b[0m\u001b[0;34m)\u001b[0m\u001b[0;34m)\u001b[0m \u001b[0;34m/\u001b[0m \u001b[0my\u001b[0m\u001b[0;34m.\u001b[0m\u001b[0mshape\u001b[0m\u001b[0;34m[\u001b[0m\u001b[0;36m0\u001b[0m\u001b[0;34m]\u001b[0m\u001b[0;34m\u001b[0m\u001b[0;34m\u001b[0m\u001b[0m\n\u001b[0m\u001b[1;32m     15\u001b[0m \u001b[0;31m#     print(loss_new.shape)\u001b[0m\u001b[0;34m\u001b[0m\u001b[0;34m\u001b[0m\u001b[0;34m\u001b[0m\u001b[0m\n\u001b[1;32m     16\u001b[0m     \u001b[0;32mreturn\u001b[0m \u001b[0mloss_new\u001b[0m\u001b[0;34m\u001b[0m\u001b[0;34m\u001b[0m\u001b[0m\n",
      "\u001b[0;32m/Library/Frameworks/Python.framework/Versions/3.7/lib/python3.7/site-packages/numpy/matrixlib/defmatrix.py\u001b[0m in \u001b[0;36m__rmul__\u001b[0;34m(self, other)\u001b[0m\n\u001b[1;32m    222\u001b[0m \u001b[0;34m\u001b[0m\u001b[0m\n\u001b[1;32m    223\u001b[0m     \u001b[0;32mdef\u001b[0m \u001b[0m__rmul__\u001b[0m\u001b[0;34m(\u001b[0m\u001b[0mself\u001b[0m\u001b[0;34m,\u001b[0m \u001b[0mother\u001b[0m\u001b[0;34m)\u001b[0m\u001b[0;34m:\u001b[0m\u001b[0;34m\u001b[0m\u001b[0;34m\u001b[0m\u001b[0m\n\u001b[0;32m--> 224\u001b[0;31m         \u001b[0;32mreturn\u001b[0m \u001b[0mN\u001b[0m\u001b[0;34m.\u001b[0m\u001b[0mdot\u001b[0m\u001b[0;34m(\u001b[0m\u001b[0mother\u001b[0m\u001b[0;34m,\u001b[0m \u001b[0mself\u001b[0m\u001b[0;34m)\u001b[0m\u001b[0;34m\u001b[0m\u001b[0;34m\u001b[0m\u001b[0m\n\u001b[0m\u001b[1;32m    225\u001b[0m \u001b[0;34m\u001b[0m\u001b[0m\n\u001b[1;32m    226\u001b[0m     \u001b[0;32mdef\u001b[0m \u001b[0m__imul__\u001b[0m\u001b[0;34m(\u001b[0m\u001b[0mself\u001b[0m\u001b[0;34m,\u001b[0m \u001b[0mother\u001b[0m\u001b[0;34m)\u001b[0m\u001b[0;34m:\u001b[0m\u001b[0;34m\u001b[0m\u001b[0;34m\u001b[0m\u001b[0m\n",
      "\u001b[0;32m<__array_function__ internals>\u001b[0m in \u001b[0;36mdot\u001b[0;34m(*args, **kwargs)\u001b[0m\n",
      "\u001b[0;31mValueError\u001b[0m: shapes (160,) and (1,160) not aligned: 160 (dim 0) != 1 (dim 0)"
     ]
    }
   ],
   "source": [
    "alpha  = 0.05\n",
    "max_iter = 10000\n",
    "cost_history_train,cost_history_test,theta, iter_stop,diff = gradient_descent(X_train,y_train,X_test,y_test,theta_initial,alpha = alpha ,max_iter = max_iter)\n",
    "print(iter_stop)"
   ]
  },
  {
   "cell_type": "markdown",
   "metadata": {},
   "source": [
    "## Question 3 (20 points)\n",
    "\n",
    "Now suppose that we'd like to train a SVM to classify these data, but also suppose that you don't know how to modify the SVM optimization to handle data that are not linearly separable (I promised that wouldn't be on the midterm, didn't I?).\n",
    "\n",
    "Then your goal is to come up with a feature mapping $\\mathbf{\\phi}(\\mathbf{x})$ that will transform the data so that they are linearly separable.\n",
    "\n",
    "**Do the following:**\n",
    "\n",
    "1. **Explain in general what kind of transformation we should use.**\n",
    "\n",
    "2. **Experiment to find a mapping that transforms the data to another 2-dimensional feature space until you have one that works. In the cell below, add the code for the transformation and code to plot the transformed data set.**"
   ]
  },
  {
   "cell_type": "code",
   "execution_count": null,
   "metadata": {},
   "outputs": [],
   "source": [
    "# Fill in your mapping function here:\n",
    "\n",
    "def phi_q3(X):\n",
    "    # Transform X\n",
    "    x1_new = X[:,0]  # x1_new should be some function of x1 and x2\n",
    "    x2_new = X[:,1]  # x2_new should be some function of x1 and x2\n",
    "    return np.concatenate((x1_new,x2_new),1)\n",
    "\n",
    "# Place code to plot the data here"
   ]
  },
  {
   "cell_type": "markdown",
   "metadata": {},
   "source": [
    "## Question 4 (20 points)\n",
    "\n",
    "Next we use the cvxopt library to train a SVM on the data transformed according to your answer in Question 3.\n",
    "\n",
    "**Do the following:**\n",
    "\n",
    "1. **Place your code to convert $\\mathtt{X},\\mathbf{y}$ to the direct QP problem (minimizing $\\|\\mathbf{w}\\|^2$) below:**"
   ]
  },
  {
   "cell_type": "code",
   "execution_count": null,
   "metadata": {},
   "outputs": [],
   "source": [
    "# Transform inputs to a QP problem\n",
    "\n",
    "XX = phi_q3(X)\n",
    "Q = ...\n",
    "c = ...\n",
    "A = ...\n",
    "b = ...\n"
   ]
  },
  {
   "cell_type": "markdown",
   "metadata": {},
   "source": [
    "2) **What are the optimal $\\mathbf{w}$ and $b$ in the feature space? Write your answer here.**\n",
    "\n",
    "3) **Plot the transformed data with the decision boundary. Add code below.**\n"
   ]
  },
  {
   "cell_type": "code",
   "execution_count": null,
   "metadata": {},
   "outputs": [],
   "source": [
    "# Code to plot transformed data and the SVM decision boundary here"
   ]
  },
  {
   "cell_type": "markdown",
   "metadata": {},
   "source": [
    "## Question 5 (20 points)\n",
    "\n",
    "Another way to transform the data to a space where they are linearly separable would have been using a kernel.\n",
    "\n",
    "**Do the following.**\n",
    "\n",
    "1. **Explain how the RBF/Gaussian kernel would solve the problem.**\n",
    "\n",
    "2. **In the cell below, show how the dual QP optimization with the linear kernel fails.**\n",
    "\n",
    "3. **After that, show how the dual QP optimization with the RBF/Gaussian kernel succeeds.**"
   ]
  },
  {
   "cell_type": "code",
   "execution_count": null,
   "metadata": {},
   "outputs": [],
   "source": [
    "# Code for dual QP with linear kernel"
   ]
  },
  {
   "cell_type": "code",
   "execution_count": null,
   "metadata": {},
   "outputs": [],
   "source": [
    "# Code for dual QP with RBF/Gaussian kernel"
   ]
  }
 ],
 "metadata": {
  "kernelspec": {
   "display_name": "Python 3",
   "language": "python",
   "name": "python3"
  },
  "language_info": {
   "codemirror_mode": {
    "name": "ipython",
    "version": 3
   },
   "file_extension": ".py",
   "mimetype": "text/x-python",
   "name": "python",
   "nbconvert_exporter": "python",
   "pygments_lexer": "ipython3",
   "version": "3.7.4"
  }
 },
 "nbformat": 4,
 "nbformat_minor": 2
}
