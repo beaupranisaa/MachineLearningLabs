{
 "cells": [
  {
   "cell_type": "markdown",
   "metadata": {},
   "source": [
    "# Machine Learning Midterm (Solution), Jan Semester, 2018\n",
    "\n",
    "In this exam, you will demonstrate your understanding of the material from the lectures, tutorials, and problem sets.\n",
    "\n",
    "For each question, insert your answer directly in this sheet. When complete, export the sheet as a PDF and upload to Gradescope.\n",
    "\n",
    "Note that you have **2.5 hours** to do the exam. Also note that there are some short answer questions that you may be able to answer faster than the coding questions. You might consider answering those questions first to get as much credit as possible!\n",
    "\n",
    "## Question 1 (20 points)\n",
    "\n",
    "Consider the data ($\\mathtt{X}, \\mathbf{y}$) given in the cell below."
   ]
  },
  {
   "cell_type": "code",
   "execution_count": 10,
   "metadata": {},
   "outputs": [],
   "source": [
    "import numpy as np\n",
    "\n",
    "X1 = np.matrix([[70.4611978, 6.77435737], [26.63557899, 6.18519845], [21.21435842, 5.98482521],\n",
    "      [49.46520438, 6.46685477], [36.31867059, 6.26767026], [65.40450545, 6.69973324],\n",
    "      [47.63604002, 6.52991946], [51.12650291, 6.55278139], [16.19718639, 5.8701804],\n",
    "      [41.09647679, 6.39265021], [48.52977517, 6.54874167], [33.2783272, 6.24645442],\n",
    "      [54.2416494, 6.68772955], [63.87981696, 6.64426231], [49.74926534, 6.54019839],\n",
    "      [45.50085081, 6.40530107], [31.80572899, 6.33114329], [25.88027769, 6.00191626],\n",
    "      [25.34847504, 6.07445523], [59.5509754, 6.67139653], [50.69674158, 6.51872281],\n",
    "      [54.11728722, 6.58716206], [58.22172538, 6.58217774], [38.82480513, 6.43235051],\n",
    "      [54.62361945, 6.62107478], [42.24368621, 6.43349846], [44.91058546, 6.40702283],\n",
    "      [62.72139429, 6.81082283], [77.55458346, 6.86015373], [49.07536097, 6.58151526],\n",
    "      [51.48292856, 6.62113585], [57.37090719, 6.65400127], [48.48641553, 6.54340401],\n",
    "      [21.24715108, 6.07259954], [37.64146721, 6.46820336], [12.35289436, 5.4695928],\n",
    "      [37.65875476, 6.18370352], [49.85008383, 6.60947486], [66.13648137, 6.79896653],\n",
    "      [27.29008652, 6.15868866], [82.89679414, 6.86219115], [60.28610161, 6.77246816],\n",
    "      [45.99452861, 6.40409124], [77.29411953, 6.88564085], [49.24729059, 6.39129918],\n",
    "      [52.19238458, 6.52793378], [55.55244532, 6.5922497], [38.28876143, 6.35421521],\n",
    "      [41.28903755, 6.33314064], [73.83202683, 6.85274489], [62.84426032, 6.63317405],\n",
    "      [27.66679337, 6.0765891], [64.90528747, 6.7277243], [62.75897971, 6.74867287],\n",
    "      [57.47911597, 6.56964198], [32.54225548, 6.14425762], [44.7087849, 6.55684065],\n",
    "      [30.22868535, 6.17664755], [66.43902044, 6.66354862], [57.50647725, 6.63295779],\n",
    "      [56.23274763, 6.65483072], [71.62377075, 6.8249259], [37.21929751, 6.45896618],\n",
    "      [30.33685416, 6.29108668], [53.72586113, 6.55558498], [58.92009067, 6.58914418],\n",
    "      [60.36917635, 6.73713645], [46.46087002, 6.61086064], [54.97919255, 6.48830287],\n",
    "      [60.08999745, 6.63018137], [29.23503961, 6.06804535], [45.18879885, 6.44043758],\n",
    "      [67.91432786, 6.8105173], [46.5800853, 6.50060039], [56.70569052, 6.65565127],\n",
    "      [40.68951533, 6.41478636], [48.67956085, 6.48811567], [41.59182624, 6.38699182],\n",
    "      [39.95740486, 6.33546435], [44.94880975, 6.46206514], [64.78053936, 6.74188874],\n",
    "      [57.93695294, 6.73064008], [55.49704023, 6.64231398], [39.57510111, 6.29139288],\n",
    "      [33.95225046, 6.33743394], [77.23246962, 6.79966126], [56.49647686, 6.66597049],\n",
    "      [72.05710124, 6.83097927], [51.36582347, 6.63984591], [36.23540347, 6.26819074],\n",
    "      [51.33172918, 6.55170989], [65.9107458, 6.7412432], [45.92145099, 6.55785946],\n",
    "      [48.73393011, 6.5700271], [43.19824007, 6.5765512], [32.51187411, 6.17277242],\n",
    "      [66.52125325, 6.7549236], [71.77667409, 6.77447514], [27.54687135, 6.07712865],\n",
    "      [70.29209858, 6.82371897]])\n",
    "\n",
    "X2 = np.matrix([[103.48734726, 7.06665128], [45.95181945, 6.92463529], [62.51311459, 7.29929464],\n",
    "      [34.75905558, 6.82590246], [61.42150233, 7.14207452], [20.92995779, 6.18926827],\n",
    "      [48.88757058, 7.10046058], [47.00567217, 6.87392491], [66.03960746, 7.21300884],\n",
    "      [41.00765303, 6.88260887], [53.39454458, 7.12002753], [59.05801699, 7.07708207],\n",
    "      [25.84457253, 6.52661965], [20.64948341, 6.4810278], [63.28046094, 7.18001038],\n",
    "      [66.29002442, 7.24725685], [49.26589866, 7.02704851], [59.53968788, 7.12513223],\n",
    "      [48.46665858, 6.97610637], [34.51909729, 6.85422354], [61.16606292, 7.1611797],\n",
    "      [65.62870788, 7.25370585], [57.43965533, 7.12551572], [51.4256259, 7.12109028],\n",
    "      [78.45648704, 7.38957843], [70.23973965, 7.28014297], [61.12178687, 7.14687961],\n",
    "      [75.55803406, 7.2645782], [44.9666415, 7.00364604], [43.94509452, 6.94630876],\n",
    "      [44.98195858, 6.94771427], [44.07909292, 6.84250384], [33.27404217, 6.76884994],\n",
    "      [66.83707899, 7.26223859], [34.99475166, 6.75074986], [59.51675598, 7.18130986],\n",
    "      [37.03437849, 6.87742508], [62.14584595, 7.21712651], [51.37422401, 7.1478843],\n",
    "      [25.75396602, 6.83643475], [66.18768985, 7.28574587], [50.46927715, 7.0901681],\n",
    "      [66.08232926, 7.28108743], [16.81537222, 6.44176855], [38.49515228, 6.85670726],\n",
    "      [44.87889506, 6.89762361], [51.72803212, 7.15768698], [26.41099035, 6.69220322],\n",
    "      [67.40763472, 7.25475514], [60.26711966, 7.13606818], [41.26604269, 6.82072533],\n",
    "      [36.25102952, 6.81241658], [90.34415059, 7.10789215], [49.9112951, 7.04364433],\n",
    "      [37.60574769, 6.75709643], [47.69027385, 7.15224795], [70.7126762, 7.37139046],\n",
    "      [31.38034068, 6.57171353], [45.43488612, 6.97156664], [29.83557583, 6.77016354],\n",
    "      [53.58242995, 7.14264146], [40.28103375, 6.88596508], [69.76687507, 7.29225697],\n",
    "      [40.72428579, 6.90370374], [38.35168955, 6.72388286], [88.77752009, 7.30440221],\n",
    "      [52.71910503, 7.10525341], [78.13634099, 7.43246583], [55.28469075, 7.15527197],\n",
    "      [26.12154, 6.77911307], [57.9174037, 7.16031425], [59.96888213, 7.04359248],\n",
    "      [28.979886, 6.69711096], [54.10548377, 7.08093707], [46.24087958, 7.03464403],\n",
    "      [46.02151582, 6.98139406], [32.74868227, 6.69473258], [45.70424283, 6.94792668],\n",
    "      [25.85436229, 6.58336042], [77.98270261, 7.41044107], [54.65190235, 7.11080335],\n",
    "      [60.44627103, 7.07123203], [68.58296094, 7.33179762], [42.80337975, 6.87396778],\n",
    "      [31.35673666, 6.66603545], [19.04585207, 6.62207371], [48.79436125, 7.01009406],\n",
    "      [45.44124128, 7.08039785], [41.97937064, 6.854478], [53.39688062, 7.02525752],\n",
    "      [66.0637938, 7.258192], [55.09943464, 7.1307132], [65.22295533, 7.28208667],\n",
    "      [48.25983281, 6.93393588], [19.00711267, 6.33112045], [39.14998323, 6.99193013],\n",
    "      [75.51283715, 7.34232193], [20.07554717, 6.65314899], [40.64087416, 6.81927983],\n",
    "      [68.19628122, 7.3153336]])\n",
    "\n",
    "X = np.concatenate([X1, X2],0);\n",
    "y = np.concatenate([-np.matrix(np.ones([100,1])),np.matrix(np.ones([100,1]))]);\n",
    "# print(y)\n",
    "# print(X1.shape)\n",
    "# print(X2.shape)\n",
    "# print(X.shape)"
   ]
  },
  {
   "cell_type": "code",
   "execution_count": null,
   "metadata": {},
   "outputs": [],
   "source": []
  },
  {
   "cell_type": "markdown",
   "metadata": {},
   "source": [
    "(Q1 continued) **Do the following:**\n",
    "\n",
    "1. **In the cell below, make a scatter plot of the data for class 1 and class 2 in different colors.**\n",
    "    \n",
    "    *See code below.*\n",
    "\n",
    "\n",
    "2. **Answer the question, are the data linearly separable?**\n",
    "\n",
    "    *No, the two distributions are not linearly separable. They seem to have a slightly quadratic relationship.*\n"
   ]
  },
  {
   "cell_type": "code",
   "execution_count": 11,
   "metadata": {},
   "outputs": [
    {
     "data": {
      "image/png": "[encoded data removed]",
      "text/plain": [
       "<Figure size 432x288 with 1 Axes>"
      ]
     },
     "metadata": {
      "needs_background": "light"
     },
     "output_type": "display_data"
    }
   ],
   "source": [
    "import matplotlib.pyplot as plt\n",
    "\n",
    "# Place code to plot the data here\n",
    "\n",
    "def plot_data(X1,X2):\n",
    "    series1 = plt.scatter(np.array(X1[:,0]), np.array(X1[:,1]), s=30, c='b', marker='o', label='Class 1')\n",
    "    series2 = plt.scatter(np.array(X2[:,0]), np.array(X2[:,1]), s=30, c='y', marker='o', label='Class 2')\n",
    "    plt.xlabel('x1')\n",
    "    plt.ylabel('x2')\n",
    "    plt.title('Data')\n",
    "    plt.legend(handles=[series1, series2], bbox_to_anchor=(1.05, 1), loc=2, borderaxespad=0.)\n",
    "\n",
    "plot_data(X1,X2)"
   ]
  },
  {
   "cell_type": "markdown",
   "metadata": {},
   "source": [
    "## Question 2 (20 points)\n",
    "\n",
    "**Do the following:**\n",
    "\n",
    "1. **Build a logistic regression model for the data ($\\mathtt{X},\\mathbf{y}$). Give the optimal parameter vector $\\mathbf{\\theta}$ below:**\n",
    "\n",
    "    *I got optimal $\\theta = [-6.508959, -0.008816, 1.033873]$*\n",
    "\n",
    "\n",
    "2. **Plot the data again, along with the decision boundary $\\mathbf{\\theta}^\\top \\mathbf{x} = 0$.**\n",
    "\n",
    "    *Code and plot is below.*\n",
    "    \n",
    "    \n",
    "3. **What is the accuracy of this model on its training set?** (Note: in this problem there is no need to create separate training and test sets. Just train and test on the full data set.)\n",
    "\n",
    "    *I got an accuracy of 98.5% for the $\\theta$ above.*\n"
   ]
  },
  {
   "cell_type": "code",
   "execution_count": 12,
   "metadata": {},
   "outputs": [
    {
     "name": "stdout",
     "output_type": "stream",
     "text": [
      "Optimal theta: [-6.515037 -0.020952 1.125987]\n",
      "Accuracy of optimal theta: 0.985000\n"
     ]
    }
   ],
   "source": [
    "M = 200\n",
    "N = 2\n",
    "alpha = 0.0001\n",
    "\n",
    "theta = np.matrix([[-6.5,1,1]]).T\n",
    "XX = np.concatenate((np.ones([M,1]), X),1)\n",
    "yy = y.copy()\n",
    "yy[yy<0] = 0\n",
    "\n",
    "acc_best = 0\n",
    "theta_best = theta\n",
    "for i in range(0,200):\n",
    "    y_pred = (1/(1+np.exp(-theta.T * XX.T))).T\n",
    "    y_pred[y_pred<0.01] = 0.01\n",
    "    y_pred[y_pred>0.99] = 0.99\n",
    "    loglike = sum(np.multiply(yy,np.log(y_pred))+np.multiply(1-yy,np.log(1-y_pred)))\n",
    "    pred = np.ones((M,1))\n",
    "    pred[y_pred < 0.5] = 0\n",
    "    corr = pred == yy\n",
    "    acc = sum(corr)[0,0]/M\n",
    "    #print('Iter %d: log likelihood %f accuracy %f' % (i, loglike, acc))\n",
    "    if acc > acc_best:\n",
    "        theta_best = theta\n",
    "        acc_best = acc\n",
    "    order = np.random.permutation(range(0,M))\n",
    "    num_corr = 0\n",
    "    for j in range(0,M):\n",
    "        x = XX[order[j],:].T\n",
    "        y_actual = yy[order[j],0]\n",
    "        y_pred = 1/(1+np.exp(-theta.T * x))\n",
    "        y_pred = y_pred[0,0]\n",
    "        gradient = (y_actual - y_pred) * x\n",
    "        theta = theta + alpha * gradient\n",
    "        if (y_pred >= 0.5 and y_actual == 1) or (y_pred < 0.5 and y_actual == 0):\n",
    "            num_corr = num_corr + 1\n",
    "print(\"Optimal theta: [%f %f %f]\" % (theta_best[0], theta_best[1], theta_best[2]))    \n",
    "print(\"Accuracy of optimal theta: %f\" % acc_best)\n",
    "\n",
    "# Place code to plot the data here\n",
    "\n"
   ]
  },
  {
   "cell_type": "code",
   "execution_count": 13,
   "metadata": {},
   "outputs": [
    {
     "name": "stdout",
     "output_type": "stream",
     "text": [
      "[[-0.02095174]\n",
      " [ 1.12598691]]\n"
     ]
    },
    {
     "name": "stderr",
     "output_type": "stream",
     "text": [
      "/Library/Frameworks/Python.framework/Versions/3.7/lib/python3.7/site-packages/ipykernel_launcher.py:5: MatplotlibDeprecationWarning: Adding an axes using the same arguments as a previous axes currently reuses the earlier instance.  In a future version, a new instance will always be created and returned.  Meanwhile, this warning can be suppressed, and the future behavior ensured, by passing a unique label to each axes instance.\n",
      "  \"\"\"\n",
      "/Library/Frameworks/Python.framework/Versions/3.7/lib/python3.7/site-packages/ipykernel_launcher.py:6: MatplotlibDeprecationWarning: Adding an axes using the same arguments as a previous axes currently reuses the earlier instance.  In a future version, a new instance will always be created and returned.  Meanwhile, this warning can be suppressed, and the future behavior ensured, by passing a unique label to each axes instance.\n",
      "  \n"
     ]
    },
    {
     "data": {
      "image/png": "[encoded data removed]",
      "text/plain": [
       "<Figure size 432x288 with 1 Axes>"
      ]
     },
     "metadata": {
      "needs_background": "light"
     },
     "output_type": "display_data"
    }
   ],
   "source": [
    "w = np.matrix([[-0.008816, 1.033873]]).T\n",
    "b = -6.508959\n",
    "\n",
    "def plot_w(w,b):\n",
    "    ylim = plt.axes().get_ylim()\n",
    "    xlim = plt.axes().get_xlim()\n",
    "    p1 = (xlim[0], - (w[0,0] * xlim[0] + b) / w[1,0])\n",
    "    p2 = (xlim[1], - (w[0,0] * xlim[1] + b) / w[1,0])\n",
    "    plt.plot((p1[0],p2[0]), (p1[1],p2[1]), 'r-')\n",
    "\n",
    "\n",
    "w = theta_best[1:3,0]\n",
    "print(w)\n",
    "w.shape = [2,1]\n",
    "b = theta_best[0,0]\n",
    "plot_data(X1,X2)\n",
    "plot_w(w,b)"
   ]
  },
  {
   "cell_type": "markdown",
   "metadata": {},
   "source": [
    "## Question 3 (20 points)\n",
    "\n",
    "Now suppose that we'd like to train a SVM to classify these data, but also suppose that you don't know how to modify the SVM optimization to handle data that are not linearly separable (I promised that wouldn't be on the midterm, didn't I?).\n",
    "\n",
    "Then your goal is to come up with a feature mapping $\\mathbf{\\phi}(\\mathbf{x})$ that will transform the data so that they are linearly separable.\n",
    "\n",
    "**Do the following:**\n",
    "\n",
    "1. **Explain in general what kind of transformation we should use.**\n",
    "    \n",
    "    *Since the curvature looks quadratic, I'd try adding a quadratic function to $x_2$ and leave $x_1$ untouched.*\n",
    "    \n",
    "2. **Experiment to find a mapping that transforms the data to another 2-dimensional feature space until you have one that works. In the cell below, add the code for the transformation and code to plot the transformed data set.**\n",
    "\n",
    "    *See transformation below. I used $x_1 \\leftarrow x_1$ and $x_2 \\leftarrow x_2 + 0.0003 (x_1-20)^2$.*\n"
   ]
  },
  {
   "cell_type": "code",
   "execution_count": 14,
   "metadata": {},
   "outputs": [
    {
     "data": {
      "image/png": "[encoded data removed]",
      "text/plain": [
       "<Figure size 432x288 with 1 Axes>"
      ]
     },
     "metadata": {
      "needs_background": "light"
     },
     "output_type": "display_data"
    }
   ],
   "source": [
    "# Fill in your mapping function here:\n",
    "\n",
    "def phi_q3(X):\n",
    "    # Transform X\n",
    "    x1_new = X[:,0]  # x1_new should be some function of x1 and x2\n",
    "    x2_new = X[:,1] + 0.00003*np.multiply((X[:,0] - 20),(X[:,0] - 20))\n",
    "    return np.concatenate((x1_new,x2_new),1)\n",
    "\n",
    "# Place code to plot the data here\n",
    "XX1 = phi_q3(X1)\n",
    "XX2 = phi_q3(X2)\n",
    "plot_data(XX1,XX2)"
   ]
  },
  {
   "cell_type": "markdown",
   "metadata": {},
   "source": [
    "## Question 4 (20 points)\n",
    "\n",
    "Next we use the cvxopt library to train a SVM on the data transformed according to your answer in Question 3.\n",
    "\n",
    "**Do the following:**\n",
    "\n",
    "1. **Place your code to convert $\\mathtt{X},\\mathbf{y}$ to the direct QP problem (minimizing $\\|\\mathbf{w}\\|^2$) below:**"
   ]
  },
  {
   "cell_type": "code",
   "execution_count": 16,
   "metadata": {},
   "outputs": [
    {
     "name": "stdout",
     "output_type": "stream",
     "text": [
      "Requirement already satisfied: cvxopt in /Library/Frameworks/Python.framework/Versions/3.7/lib/python3.7/site-packages (1.2.5)\n",
      "\u001b[33mWARNING: You are using pip version 20.2.1; however, version 20.2.3 is available.\n",
      "You should consider upgrading via the '/Library/Frameworks/Python.framework/Versions/3.7/bin/python3.7 -m pip install --upgrade pip' command.\u001b[0m\n",
      "Note: you may need to restart the kernel to use updated packages.\n"
     ]
    }
   ],
   "source": [
    "pip install cvxopt"
   ]
  },
  {
   "cell_type": "code",
   "execution_count": 21,
   "metadata": {},
   "outputs": [
    {
     "name": "stdout",
     "output_type": "stream",
     "text": [
      "     pcost       dcost       gap    pres   dres\n",
      " 0:  5.3661e+00  1.2608e+02  2e+03  3e+00  2e+02\n",
      " 1:  1.7632e+01 -5.6576e+01  1e+03  2e+00  2e+02\n",
      " 2:  1.7836e+01  4.5675e+02  1e+03  2e+00  1e+02\n",
      " 3:  2.2889e+00  2.1576e+03  1e+03  1e+00  1e+02\n",
      " 4:  3.5430e-05  7.3816e+03  1e+03  1e+00  8e+01\n",
      " 5:  5.4627e-05  2.2149e+04  2e+03  1e+00  8e+01\n",
      " 6:  1.6235e-04  8.8200e+04  7e+03  1e+00  8e+01\n",
      " 7:  2.5366e-06  9.6852e+05  2e+04  1e+00  7e+01\n",
      " 8:  8.7597e-07  2.3330e+07  3e+05  1e+00  7e+01\n",
      " 9:  6.7397e-08  1.5708e+09  5e+06  1e+00  7e+01\n",
      "10:  6.3857e-11  5.0328e+11  5e+07  1e+00  7e+01\n",
      "11:  9.4972e-15  5.3200e+15  6e+09  1e+00  7e+01\n",
      "12:  9.6204e-19  4.6232e+21  5e+13  1e+00  6e+07\n",
      "13:  1.2553e-22  3.9816e+29  5e+19  1e+00  1e+15\n",
      "14:  6.7936e-20  5.3867e+36  6e+26  1e+00  4e+21\n",
      "15:  3.5015e-20  2.7082e+46  1e+36  1e+00  3e+32\n",
      "16:  8.0830e-20  3.0038e+55  1e+45  1e+00  2e+40\n",
      "17:  2.5232e-19  5.2794e+62  2e+52  1e+00  3e+48\n",
      "18:  2.5426e-19  6.2315e+69  3e+59  1e+00  4e+55\n",
      "19:  2.5427e-19  2.9292e+75  1e+65  1e+00  7e+60\n",
      "20:  3.8537e-21  3.4201e+85  7e+74  1e+00  1e+71\n",
      "21:  1.6015e-20  5.2766e+93  1e+83  1e+00  9e+79\n",
      "22:  2.1715e-21  1.7289e+102  4e+91  1e+00  2e+88\n",
      "23:  2.3373e-20  2.3032e+110  5e+99  1e+00  1e+96\n",
      "24:  5.5283e-20  7.5956e+115  2e+105  1e+00 4e+103\n",
      "25:  5.5678e-20  1.4968e+120  3e+109  1e+00 7e+107\n",
      "26:  6.0234e-23  4.1683e+128  9e+117  1e+00 2e+114\n",
      "27:  3.9292e-20  2.7527e+136  6e+125  1e+00 3e+122\n",
      "28:  1.1422e-20  3.3937e+144  7e+133  1e+00 4e+129\n",
      "29:  1.2855e-24  9.9451e+150  2e+140  1e+00 5e+136\n",
      "30:  6.8982e-21  7.6687e+157  2e+147  1e+00 4e+143\n",
      "31:  5.3830e-20  2.0267e+165  4e+154  1e+00 3e+151\n",
      "32:  5.4486e-24  1.4196e+172  3e+161  1e+00    inf\n",
      "33:  5.3227e-20  5.1427e+179  1e+169  1e+00    inf\n",
      "34:  4.6365e-20  1.1630e+187  2e+176  1e+00    inf\n",
      "35:  4.9259e-24  2.5897e+193  5e+182  1e+00    inf\n",
      "36:  5.2676e-20  1.0277e+201  2e+190  1e+00    inf\n",
      "37:  5.3995e-20  2.4615e+207  5e+196  1e+00    inf\n",
      "38:  5.4110e-20  2.5119e+213  5e+202  1e+00    inf\n",
      "39:  7.5271e-21  2.1125e+222  4e+211  1e+00    inf\n",
      "40:  4.8593e-20  1.4701e+230  3e+219  1e+00    inf\n",
      "41:  2.4513e-20  7.1689e+237  1e+227  1e+00    inf\n",
      "42:  3.0119e-24  5.0617e+244  1e+234  1e+00    inf\n",
      "43:  5.4210e-21  5.6626e+251  1e+241  1e+00    inf\n",
      "44:  5.6240e-25  2.9575e+259  6e+248  1e+00    inf\n",
      "45:  5.0580e-20  3.3810e+266  7e+255  1e+00    inf\n",
      "46:  3.8247e-20  1.1220e+274  2e+263  1e+00    inf\n",
      "47:  4.5690e-24  1.5532e+281  3e+270  1e+00    inf\n",
      "48:  8.2921e-21  2.5914e+288  5e+277  1e+00    inf\n"
     ]
    },
    {
     "ename": "ValueError",
     "evalue": "domain error",
     "output_type": "error",
     "traceback": [
      "\u001b[0;31m---------------------------------------------------------------------------\u001b[0m",
      "\u001b[0;31mValueError\u001b[0m                                Traceback (most recent call last)",
      "\u001b[0;32m<ipython-input-21-4a2cfb09e972>\u001b[0m in \u001b[0;36m<module>\u001b[0;34m\u001b[0m\n\u001b[1;32m     29\u001b[0m \u001b[0mb\u001b[0m \u001b[0;34m=\u001b[0m \u001b[0;34m-\u001b[0m\u001b[0mnp\u001b[0m\u001b[0;34m.\u001b[0m\u001b[0mones\u001b[0m\u001b[0;34m(\u001b[0m\u001b[0;34m[\u001b[0m\u001b[0mXX\u001b[0m\u001b[0;34m.\u001b[0m\u001b[0mshape\u001b[0m\u001b[0;34m[\u001b[0m\u001b[0;36m0\u001b[0m\u001b[0;34m]\u001b[0m\u001b[0;34m]\u001b[0m\u001b[0;34m)\u001b[0m\u001b[0;34m\u001b[0m\u001b[0;34m\u001b[0m\u001b[0m\n\u001b[1;32m     30\u001b[0m \u001b[0;31m# print(b)\u001b[0m\u001b[0;34m\u001b[0m\u001b[0;34m\u001b[0m\u001b[0;34m\u001b[0m\u001b[0m\n\u001b[0;32m---> 31\u001b[0;31m \u001b[0mx\u001b[0m \u001b[0;34m=\u001b[0m \u001b[0mcvxopt_solve_qp\u001b[0m\u001b[0;34m(\u001b[0m\u001b[0mQ\u001b[0m\u001b[0;34m,\u001b[0m \u001b[0mc\u001b[0m\u001b[0;34m,\u001b[0m \u001b[0mA\u001b[0m\u001b[0;34m,\u001b[0m \u001b[0mb\u001b[0m\u001b[0;34m)\u001b[0m\u001b[0;34m;\u001b[0m\u001b[0;34m\u001b[0m\u001b[0;34m\u001b[0m\u001b[0m\n\u001b[0m\u001b[1;32m     32\u001b[0m \u001b[0;31m# w = x[0:2]\u001b[0m\u001b[0;34m\u001b[0m\u001b[0;34m\u001b[0m\u001b[0;34m\u001b[0m\u001b[0m\n\u001b[1;32m     33\u001b[0m \u001b[0mw\u001b[0m \u001b[0;34m=\u001b[0m \u001b[0mnp\u001b[0m\u001b[0;34m.\u001b[0m\u001b[0mmatrix\u001b[0m\u001b[0;34m(\u001b[0m\u001b[0;34m[\u001b[0m\u001b[0;34m[\u001b[0m\u001b[0mx\u001b[0m\u001b[0;34m[\u001b[0m\u001b[0;36m0\u001b[0m\u001b[0;34m]\u001b[0m\u001b[0;34m]\u001b[0m\u001b[0;34m,\u001b[0m\u001b[0;34m[\u001b[0m\u001b[0mx\u001b[0m\u001b[0;34m[\u001b[0m\u001b[0;36m1\u001b[0m\u001b[0;34m]\u001b[0m\u001b[0;34m]\u001b[0m\u001b[0;34m]\u001b[0m\u001b[0;34m)\u001b[0m\u001b[0;34m;\u001b[0m\u001b[0;34m\u001b[0m\u001b[0;34m\u001b[0m\u001b[0m\n",
      "\u001b[0;32m<ipython-input-21-4a2cfb09e972>\u001b[0m in \u001b[0;36mcvxopt_solve_qp\u001b[0;34m(Q, c, A, b, E, d)\u001b[0m\n\u001b[1;32m      8\u001b[0m         \u001b[0;32mif\u001b[0m \u001b[0mE\u001b[0m \u001b[0;32mis\u001b[0m \u001b[0;32mnot\u001b[0m \u001b[0;32mNone\u001b[0m\u001b[0;34m:\u001b[0m\u001b[0;34m\u001b[0m\u001b[0;34m\u001b[0m\u001b[0m\n\u001b[1;32m      9\u001b[0m             \u001b[0margs\u001b[0m\u001b[0;34m.\u001b[0m\u001b[0mextend\u001b[0m\u001b[0;34m(\u001b[0m\u001b[0;34m[\u001b[0m\u001b[0mcvxopt\u001b[0m\u001b[0;34m.\u001b[0m\u001b[0mmatrix\u001b[0m\u001b[0;34m(\u001b[0m\u001b[0mE\u001b[0m\u001b[0;34m)\u001b[0m\u001b[0;34m,\u001b[0m \u001b[0mcvxopt\u001b[0m\u001b[0;34m.\u001b[0m\u001b[0mmatrix\u001b[0m\u001b[0;34m(\u001b[0m\u001b[0md\u001b[0m\u001b[0;34m)\u001b[0m\u001b[0;34m]\u001b[0m\u001b[0;34m)\u001b[0m\u001b[0;34m\u001b[0m\u001b[0;34m\u001b[0m\u001b[0m\n\u001b[0;32m---> 10\u001b[0;31m     \u001b[0msol\u001b[0m \u001b[0;34m=\u001b[0m \u001b[0mcvxopt\u001b[0m\u001b[0;34m.\u001b[0m\u001b[0msolvers\u001b[0m\u001b[0;34m.\u001b[0m\u001b[0mqp\u001b[0m\u001b[0;34m(\u001b[0m\u001b[0;34m*\u001b[0m\u001b[0margs\u001b[0m\u001b[0;34m)\u001b[0m\u001b[0;34m\u001b[0m\u001b[0;34m\u001b[0m\u001b[0m\n\u001b[0m\u001b[1;32m     11\u001b[0m \u001b[0;31m#     print(sol)\u001b[0m\u001b[0;34m\u001b[0m\u001b[0;34m\u001b[0m\u001b[0;34m\u001b[0m\u001b[0m\n\u001b[1;32m     12\u001b[0m     \u001b[0;32mif\u001b[0m \u001b[0;34m'optimal'\u001b[0m \u001b[0;32mnot\u001b[0m \u001b[0;32min\u001b[0m \u001b[0msol\u001b[0m\u001b[0;34m[\u001b[0m\u001b[0;34m'status'\u001b[0m\u001b[0;34m]\u001b[0m\u001b[0;34m:\u001b[0m\u001b[0;34m\u001b[0m\u001b[0;34m\u001b[0m\u001b[0m\n",
      "\u001b[0;32m/Library/Frameworks/Python.framework/Versions/3.7/lib/python3.7/site-packages/cvxopt/coneprog.py\u001b[0m in \u001b[0;36mqp\u001b[0;34m(P, q, G, h, A, b, solver, kktsolver, initvals, **kwargs)\u001b[0m\n\u001b[1;32m   4483\u001b[0m             'residual as dual infeasibility certificate': dinfres}\n\u001b[1;32m   4484\u001b[0m \u001b[0;34m\u001b[0m\u001b[0m\n\u001b[0;32m-> 4485\u001b[0;31m     \u001b[0;32mreturn\u001b[0m \u001b[0mconeqp\u001b[0m\u001b[0;34m(\u001b[0m\u001b[0mP\u001b[0m\u001b[0;34m,\u001b[0m \u001b[0mq\u001b[0m\u001b[0;34m,\u001b[0m \u001b[0mG\u001b[0m\u001b[0;34m,\u001b[0m \u001b[0mh\u001b[0m\u001b[0;34m,\u001b[0m \u001b[0;32mNone\u001b[0m\u001b[0;34m,\u001b[0m \u001b[0mA\u001b[0m\u001b[0;34m,\u001b[0m  \u001b[0mb\u001b[0m\u001b[0;34m,\u001b[0m \u001b[0minitvals\u001b[0m\u001b[0;34m,\u001b[0m \u001b[0mkktsolver\u001b[0m \u001b[0;34m=\u001b[0m \u001b[0mkktsolver\u001b[0m\u001b[0;34m,\u001b[0m \u001b[0moptions\u001b[0m \u001b[0;34m=\u001b[0m \u001b[0moptions\u001b[0m\u001b[0;34m)\u001b[0m\u001b[0;34m\u001b[0m\u001b[0;34m\u001b[0m\u001b[0m\n\u001b[0m",
      "\u001b[0;32m/Library/Frameworks/Python.framework/Versions/3.7/lib/python3.7/site-packages/cvxopt/coneprog.py\u001b[0m in \u001b[0;36mconeqp\u001b[0;34m(P, q, G, h, dims, A, b, initvals, kktsolver, xnewcopy, xdot, xaxpy, xscal, ynewcopy, ydot, yaxpy, yscal, **kwargs)\u001b[0m\n\u001b[1;32m   2517\u001b[0m \u001b[0;34m\u001b[0m\u001b[0m\n\u001b[1;32m   2518\u001b[0m         \u001b[0;31m# Update lambda and scaling.\u001b[0m\u001b[0;34m\u001b[0m\u001b[0;34m\u001b[0m\u001b[0;34m\u001b[0m\u001b[0m\n\u001b[0;32m-> 2519\u001b[0;31m         \u001b[0mmisc\u001b[0m\u001b[0;34m.\u001b[0m\u001b[0mupdate_scaling\u001b[0m\u001b[0;34m(\u001b[0m\u001b[0mW\u001b[0m\u001b[0;34m,\u001b[0m \u001b[0mlmbda\u001b[0m\u001b[0;34m,\u001b[0m \u001b[0mds\u001b[0m\u001b[0;34m,\u001b[0m \u001b[0mdz\u001b[0m\u001b[0;34m)\u001b[0m\u001b[0;34m\u001b[0m\u001b[0;34m\u001b[0m\u001b[0m\n\u001b[0m\u001b[1;32m   2520\u001b[0m \u001b[0;34m\u001b[0m\u001b[0m\n\u001b[1;32m   2521\u001b[0m \u001b[0;34m\u001b[0m\u001b[0m\n",
      "\u001b[0;32m/Library/Frameworks/Python.framework/Versions/3.7/lib/python3.7/site-packages/cvxopt/misc.py\u001b[0m in \u001b[0;36mupdate_scaling\u001b[0;34m(W, lmbda, s, z)\u001b[0m\n\u001b[1;32m    448\u001b[0m     \u001b[0mml\u001b[0m \u001b[0;34m=\u001b[0m \u001b[0mlen\u001b[0m\u001b[0;34m(\u001b[0m\u001b[0mW\u001b[0m\u001b[0;34m[\u001b[0m\u001b[0;34m'd'\u001b[0m\u001b[0;34m]\u001b[0m\u001b[0;34m)\u001b[0m\u001b[0;34m\u001b[0m\u001b[0;34m\u001b[0m\u001b[0m\n\u001b[1;32m    449\u001b[0m     \u001b[0mm\u001b[0m \u001b[0;34m=\u001b[0m \u001b[0mmnl\u001b[0m \u001b[0;34m+\u001b[0m \u001b[0mml\u001b[0m\u001b[0;34m\u001b[0m\u001b[0;34m\u001b[0m\u001b[0m\n\u001b[0;32m--> 450\u001b[0;31m     \u001b[0ms\u001b[0m\u001b[0;34m[\u001b[0m\u001b[0;34m:\u001b[0m\u001b[0mm\u001b[0m\u001b[0;34m]\u001b[0m \u001b[0;34m=\u001b[0m \u001b[0mbase\u001b[0m\u001b[0;34m.\u001b[0m\u001b[0msqrt\u001b[0m\u001b[0;34m(\u001b[0m \u001b[0ms\u001b[0m\u001b[0;34m[\u001b[0m\u001b[0;34m:\u001b[0m\u001b[0mm\u001b[0m\u001b[0;34m]\u001b[0m \u001b[0;34m)\u001b[0m\u001b[0;34m\u001b[0m\u001b[0;34m\u001b[0m\u001b[0m\n\u001b[0m\u001b[1;32m    451\u001b[0m     \u001b[0mz\u001b[0m\u001b[0;34m[\u001b[0m\u001b[0;34m:\u001b[0m\u001b[0mm\u001b[0m\u001b[0;34m]\u001b[0m \u001b[0;34m=\u001b[0m \u001b[0mbase\u001b[0m\u001b[0;34m.\u001b[0m\u001b[0msqrt\u001b[0m\u001b[0;34m(\u001b[0m \u001b[0mz\u001b[0m\u001b[0;34m[\u001b[0m\u001b[0;34m:\u001b[0m\u001b[0mm\u001b[0m\u001b[0;34m]\u001b[0m \u001b[0;34m)\u001b[0m\u001b[0;34m\u001b[0m\u001b[0;34m\u001b[0m\u001b[0m\n\u001b[1;32m    452\u001b[0m \u001b[0;34m\u001b[0m\u001b[0m\n",
      "\u001b[0;31mValueError\u001b[0m: domain error"
     ]
    }
   ],
   "source": [
    "import cvxopt\n",
    "\n",
    "def cvxopt_solve_qp(Q, c, A=None, b=None, E=None, d=None):\n",
    "    Q = .5 * (Q + Q.T)  # make sure Q is symmetric\n",
    "    args = [cvxopt.matrix(Q), cvxopt.matrix(c)]\n",
    "    if A is not None:\n",
    "        args.extend([cvxopt.matrix(A), cvxopt.matrix(b)])\n",
    "        if E is not None:\n",
    "            args.extend([cvxopt.matrix(E), cvxopt.matrix(d)])\n",
    "    sol = cvxopt.solvers.qp(*args)\n",
    "#     print(sol)\n",
    "    if 'optimal' not in sol['status']:\n",
    "        return None\n",
    "    return np.array(sol['x']).reshape((Q.shape[1],))\n",
    "\n",
    "# Transform inputs to a QP problem\n",
    "\n",
    "XX = phi_q3(X)\n",
    "yy = y\n",
    "yy[yy==0] = -1\n",
    "\n",
    "Q = np.eye(3);\n",
    "Q[2,2] = 0;\n",
    "c = np.zeros([3,1])\n",
    "# Q = np.array([[1.,0,0],[0,1,0],[0,0,0]])\n",
    "# c = np.zeros([3,1])\n",
    "A = np.multiply(np.tile(-yy,[1, 3]), np.concatenate([XX, np.ones([XX.shape[0],1])],1))\n",
    "# print(A)\n",
    "b = -np.ones([XX.shape[0]])\n",
    "# print(b)\n",
    "x = cvxopt_solve_qp(Q, c, A, b);\n",
    "# w = x[0:2]\n",
    "w = np.matrix([[x[0]],[x[1]]]);\n",
    "# print(w)\n",
    "b = x[2]\n",
    "# print(b)\n",
    "#no scaling in past paper\n",
    "# scale = np.linalg.norm(w);\n",
    "# w = w / scale\n",
    "# b = b / scale\n",
    "print('Optimal w: [%f %f] b: %f' % (w[0,0],w[1,0],b));\n",
    "\n",
    "def plot_data(Xf,Xm):\n",
    "    axes = plt.axes()\n",
    "    class1_series = plt.scatter(np.array(Xf[:,0]), np.array(Xf[:,1]), s=30, c='b', marker='o', label='class1')\n",
    "    class2_series = plt.scatter(np.array(Xm[:,0]), np.array(Xm[:,1]), s=30, c='y', marker='o', label='class2')\n",
    "    axes.set_aspect('equal', 'datalim')\n",
    "    plt.xlabel('x1')\n",
    "    plt.ylabel('x2')\n",
    "#     plt.xlim((0,6))\n",
    "#     plt.ylim((-4,6))\n",
    "    plt.title('Data')\n",
    "    plt.legend(handles=[class1_series, class2_series], bbox_to_anchor=(1.05, 1), loc=2, borderaxespad=0.)\n",
    "    return axes\n",
    "\n",
    "def plot_w(w, b, axes):\n",
    "    ylim = axes.set_ylim((-4,6))\n",
    "    xlim = axes.set_xlim((0,6))\n",
    "    p1 = (xlim[0], - (w[0,0] * xlim[0] + b) / w[1,0])\n",
    "    p2 = (xlim[1], - (w[0,0] * xlim[1] + b) / w[1,0])\n",
    "    plt.plot((p1[0],p2[0]), (p1[1],p2[1]), 'r-')\n",
    "\n",
    "axes = plot_data(XX[0:100,:], XX[100:,:])\n",
    "plot_w(w, b, axes)"
   ]
  },
  {
   "cell_type": "markdown",
   "metadata": {},
   "source": [
    "2) **What are the optimal $\\mathbf{w}$ and $b$ in the feature space? Write your answer here.**\n",
    "\n",
    "*I got optimal $\\mathbf{w} = [-0.034134, 0.999417]$ and $b = -5.407895$.*\n",
    "\n",
    "3) **Plot the transformed data with the decision boundary. Add code below.**\n"
   ]
  },
  {
   "cell_type": "code",
   "execution_count": 18,
   "metadata": {},
   "outputs": [
    {
     "name": "stderr",
     "output_type": "stream",
     "text": [
      "/Library/Frameworks/Python.framework/Versions/3.7/lib/python3.7/site-packages/ipykernel_launcher.py:5: MatplotlibDeprecationWarning: Adding an axes using the same arguments as a previous axes currently reuses the earlier instance.  In a future version, a new instance will always be created and returned.  Meanwhile, this warning can be suppressed, and the future behavior ensured, by passing a unique label to each axes instance.\n",
      "  \"\"\"\n",
      "/Library/Frameworks/Python.framework/Versions/3.7/lib/python3.7/site-packages/ipykernel_launcher.py:6: MatplotlibDeprecationWarning: Adding an axes using the same arguments as a previous axes currently reuses the earlier instance.  In a future version, a new instance will always be created and returned.  Meanwhile, this warning can be suppressed, and the future behavior ensured, by passing a unique label to each axes instance.\n",
      "  \n"
     ]
    },
    {
     "data": {
      "image/png": "[encoded data removed]",
      "text/plain": [
       "<Figure size 432x288 with 1 Axes>"
      ]
     },
     "metadata": {
      "needs_background": "light"
     },
     "output_type": "display_data"
    }
   ],
   "source": [
    "# Code to plot transformed data and the SVM decision boundary here\n",
    "\n",
    "XX1 = phi_q3(X1)\n",
    "XX2 = phi_q3(X2)\n",
    "plot_data(XX1,XX2)\n",
    "plot_w(w,b)"
   ]
  },
  {
   "cell_type": "markdown",
   "metadata": {},
   "source": [
    "## Question 5 (20 points)\n",
    "\n",
    "Another way to transform the data to a space where they are linearly separable would have been using a kernel.\n",
    "\n",
    "**Do the following.**\n",
    "\n",
    "1. **Explain how the RBF/Gaussian kernel would solve the problem.**\n",
    "\n",
    "    *The RBF based classifier would classify each incoming point according to a weighted vote of the nearby support vectors. As long as the Gaussian kernel around each training example is small enough, we will easily get 100% accuracy on the training data.*\n",
    "\n",
    "2. **In the cell below, show how the dual QP optimization with the linear kernel fails.**\n",
    "\n",
    "    *See code below.*\n",
    "\n",
    "3. **After that, show how the dual QP optimization with the RBF/Gaussian kernel succeeds.**\n",
    "\n",
    "    *See code below. $\\sigma = 0.2$ succeeds wit 184 support vectors.  $\\sigma = 1$ succeeds with 84 support vectors.*"
   ]
  },
  {
   "cell_type": "code",
   "execution_count": 19,
   "metadata": {},
   "outputs": [
    {
     "name": "stdout",
     "output_type": "stream",
     "text": [
      "     pcost       dcost       gap    pres   dres\n",
      " 0: -3.7361e+01 -1.5076e+02  2e+03  3e+01  3e+00\n",
      " 1: -1.4035e+02 -4.3470e+02  1e+03  3e+01  3e+00\n",
      " 2: -5.8839e+02 -1.2587e+03  1e+03  2e+01  2e+00\n",
      " 3: -1.9736e+03 -2.5615e+03  7e+02  1e+01  1e+00\n",
      " 4: -8.2981e+03 -9.3509e+03  1e+03  1e+01  1e+00\n",
      " 5: -2.2396e+04 -2.4694e+04  2e+03  1e+01  1e+00\n",
      " 6: -8.3817e+04 -9.0220e+04  6e+03  1e+01  1e+00\n",
      " 7: -6.9934e+05 -7.2482e+05  3e+04  1e+01  1e+00\n",
      " 8: -2.6202e+06 -2.7064e+06  9e+04  1e+01  1e+00\n",
      " 9: -3.9888e+06 -4.1178e+06  1e+05  1e+01  1e+00\n",
      "10: -1.2856e+08 -1.2864e+08  8e+04  1e+01  1e+00\n",
      "11: -9.1415e+08 -9.1490e+08  8e+05  1e+01  1e+00\n",
      "12: -9.7395e+08 -9.7474e+08  8e+05  1e+01  1e+00\n",
      "13: -1.1842e+09 -1.1851e+09  9e+05  1e+01  1e+00\n",
      "14: -1.8247e+09 -1.8258e+09  1e+06  1e+01  1e+00\n",
      "Terminated (singular KKT matrix).\n"
     ]
    }
   ],
   "source": [
    "# Code for dual QP with linear kernel\n",
    "\n",
    "\n",
    "def linear_kernel(X):\n",
    "    m = X.shape[0];\n",
    "    K = np.matrix(np.zeros([m,m]));\n",
    "    for i in range(0,m):\n",
    "        for j in range(0,m):\n",
    "            K[i,j] = X[i,:]*(X[j,:].T)\n",
    "    return K;\n",
    "\n",
    "\n",
    "K = linear_kernel(X);\n",
    "\n",
    "Q = np.multiply(y * y.T, K)\n",
    "c = -np.ones([M]);\n",
    "A = -np.eye(M);\n",
    "b = np.zeros([M]);\n",
    "E = y.T;\n",
    "d = np.zeros(1);\n",
    "alpha_star = cvxopt_solve_qp(Q, c, A, b, E, d);"
   ]
  },
  {
   "cell_type": "code",
   "execution_count": 20,
   "metadata": {},
   "outputs": [
    {
     "name": "stdout",
     "output_type": "stream",
     "text": [
      "     pcost       dcost       gap    pres   dres\n",
      " 0: -9.4034e+01 -2.6046e+02  2e+02  1e-15  2e+00\n",
      " 1: -1.3059e+02 -1.9077e+02  6e+01  1e-14  9e-01\n",
      " 2: -1.9639e+02 -2.7156e+02  8e+01  7e-15  7e-01\n",
      " 3: -2.5567e+02 -3.1088e+02  6e+01  1e-13  3e-01\n",
      " 4: -2.7425e+02 -2.9035e+02  2e+01  6e-14  4e-02\n",
      " 5: -2.7726e+02 -2.8087e+02  4e+00  6e-14  7e-03\n",
      " 6: -2.7822e+02 -2.7859e+02  4e-01  6e-14  5e-04\n",
      " 7: -2.7836e+02 -2.7837e+02  1e-02  2e-14  1e-05\n",
      " 8: -2.7836e+02 -2.7836e+02  6e-04  2e-14  5e-07\n",
      " 9: -2.7836e+02 -2.7836e+02  2e-05  4e-14  8e-09\n",
      "Optimal solution found.\n",
      "Found solution with 86 support vectors\n",
      "Optimal alphas:\n",
      "[1.09505923e-07 5.11862618e+00 8.29324548e-01 4.51431518e-08\n",
      " 1.76500223e-07 7.47794791e-08 6.99915849e+00 6.60857163e-08\n",
      " 3.34609890e+00 3.12518155e-07 8.36409702e-07 2.46535201e-07\n",
      " 1.17315836e+01 1.85076926e+00 8.02658130e-08 2.26538522e-08\n",
      " 2.04279617e+01 6.22205155e-01 5.55459318e+00 2.27858204e-07\n",
      " 4.70284243e-08 6.03043360e-08 3.76451359e-08 6.65010014e+00\n",
      " 6.86179253e-08 1.12652589e-01 2.84211968e-08 1.01295686e+01\n",
      " 4.98892238e+00 1.29900856e-06 6.47093447e-07 1.65562298e-06\n",
      " 6.38927249e-07 1.71780516e+01 2.01581077e+01 9.97762267e-01\n",
      " 1.61641819e-08 6.30493875e+00 9.17502108e+00 5.74125085e-08\n",
      " 9.99591910e-01 2.27346377e+01 2.08958935e-08 1.61908612e-07\n",
      " 3.16264120e-08 1.31464985e+00 1.66313790e-07 7.03347842e-08\n",
      " 8.27337494e-08 1.21538094e+00 3.88816097e-08 1.02068349e-07\n",
      " 3.16702283e-07 1.00509000e-07 6.64659226e-08 2.96464176e-08\n",
      " 1.18784275e+01 4.65905807e-08 4.23457326e-08 1.66796959e-07\n",
      " 3.02778429e-07 1.18185117e-05 1.10000984e-07 8.62429043e+00\n",
      " 1.39427752e-07 5.59219518e-08 1.01988191e-07 1.65237355e+01\n",
      " 3.84283972e-08 3.39954569e-08 1.61605003e+00 2.95997846e-08\n",
      " 6.87068551e+00 3.95860654e-08 1.57484105e-02 9.68237499e+00\n",
      " 7.60922603e-08 1.88248816e+00 5.08335862e-08 3.91807920e-08\n",
      " 2.25019862e+00 9.65682532e+00 1.19511696e+00 3.58825624e-08\n",
      " 6.60640273e+00 7.36859701e-08 3.06448342e+00 5.66162312e-01\n",
      " 6.10295997e+00 2.52829375e+00 7.16267263e-08 1.01827554e-07\n",
      " 6.33699163e-08 4.11929541e+00 1.74722016e+01 3.31412408e-08\n",
      " 1.22332107e-07 6.56797218e-07 6.56936391e-08 9.26842356e+00\n",
      " 1.00042869e+00 1.05798279e+01 1.15100257e-07 1.78540703e-07\n",
      " 1.27811557e-07 1.80045226e+01 6.48206678e-08 1.29422866e+01\n",
      " 8.18695209e+00 6.60425295e-08 7.08377245e-08 5.52828000e-01\n",
      " 8.39151894e+00 1.70851961e-08 8.31652826e+00 1.48985715e-07\n",
      " 2.50165617e+00 4.97177880e-08 4.55266476e-07 4.47450740e+00\n",
      " 6.07424660e-08 5.81088580e-07 6.34208848e+00 6.67014082e+00\n",
      " 5.72635036e-08 8.60807001e+00 7.13961203e-08 1.62711036e+00\n",
      " 4.72244374e-08 4.20238290e-08 1.14999601e-07 1.37393611e+01\n",
      " 8.50611175e-07 1.28221206e-07 1.64772590e-07 3.27424275e-08\n",
      " 1.09424639e-07 4.65292322e+00 2.60935770e-07 2.87276766e-08\n",
      " 6.93797829e-08 2.53762407e-07 7.73836779e-08 3.34522731e+00\n",
      " 3.98242756e-08 2.03831059e+00 4.26647468e-07 1.31594609e+00\n",
      " 4.02189981e+00 5.41751491e-08 4.99971628e-07 2.71696717e+00\n",
      " 7.77021794e-01 5.48346529e+00 1.56715447e+01 1.95516696e-08\n",
      " 7.82423936e-01 1.98458582e+01 1.11855220e-07 4.08729656e+00\n",
      " 5.86273034e-08 1.22237956e-07 1.29406915e-07 5.32992739e-08\n",
      " 9.75890792e+00 7.77021834e-01 2.18616980e-07 1.01843050e-07\n",
      " 8.74014814e-01 3.89084217e-08 4.34176923e+00 1.02014809e+01\n",
      " 2.05055556e+00 8.57974544e+00 3.54778939e-08 6.35522809e-08\n",
      " 7.99355298e+00 2.73447140e-07 1.28556253e-07 4.82794227e+00\n",
      " 6.05073712e-07 1.28077753e+01 3.78816293e-07 1.26922331e+01\n",
      " 4.26385275e-08 3.99252331e-08 6.17622798e-07 3.18497017e-08\n",
      " 1.00093862e-07 1.57792624e+00 1.25358737e-07 3.60664118e+00\n",
      " 1.75447829e+00 5.05312015e+00 3.96813748e-08 5.93073558e-08\n",
      " 1.03956268e-06 1.12228049e-08 1.09523899e+01 3.83761587e+00]\n"
     ]
    }
   ],
   "source": [
    "# Code for dual QP with RBF/Gaussian kernel\n",
    "\n",
    "def gauss_kernel(X):\n",
    "    sigma = 1\n",
    "    m = X.shape[0];\n",
    "    K = np.matrix(np.zeros([m,m]));\n",
    "    for i in range(0,m):\n",
    "        for j in range(0,m):\n",
    "            K[i,j] = (X[i,:] - X[j,:]) * (X[i,:] - X[j,:]).T\n",
    "    K = np.exp(-K/(2*sigma*sigma))      \n",
    "    return K;\n",
    "\n",
    "K = gauss_kernel(X);\n",
    "\n",
    "Q = np.multiply(y * y.T, K)\n",
    "c = -np.ones([M]);\n",
    "A = -np.eye(M);\n",
    "b = np.zeros([M]);\n",
    "E = y.T;\n",
    "d = np.zeros(1);\n",
    "alpha_star = cvxopt_solve_qp(Q, c, A, b, E, d);\n",
    "print('Found solution with %d support vectors' % sum(alpha_star>1e-5))\n",
    "print('Optimal alphas:')\n",
    "print(alpha_star)\n"
   ]
  },
  {
   "cell_type": "code",
   "execution_count": null,
   "metadata": {},
   "outputs": [],
   "source": []
  },
  {
   "cell_type": "code",
   "execution_count": null,
   "metadata": {},
   "outputs": [],
   "source": []
  }
 ],
 "metadata": {
  "kernelspec": {
   "display_name": "Python 3",
   "language": "python",
   "name": "python3"
  },
  "language_info": {
   "codemirror_mode": {
    "name": "ipython",
    "version": 3
   },
   "file_extension": ".py",
   "mimetype": "text/x-python",
   "name": "python",
   "nbconvert_exporter": "python",
   "pygments_lexer": "ipython3",
   "version": "3.7.4"
  },
  "varInspector": {
   "cols": {
    "lenName": 16,
    "lenType": 16,
    "lenVar": 40
   },
   "kernels_config": {
    "python": {
     "delete_cmd_postfix": "",
     "delete_cmd_prefix": "del ",
     "library": "var_list.py",
     "varRefreshCmd": "print(var_dic_list())"
    },
    "r": {
     "delete_cmd_postfix": ") ",
     "delete_cmd_prefix": "rm(",
     "library": "var_list.r",
     "varRefreshCmd": "cat(var_dic_list()) "
    }
   },
   "types_to_exclude": [
    "module",
    "function",
    "builtin_function_or_method",
    "instance",
    "_Feature"
   ],
   "window_display": false
  }
 },
 "nbformat": 4,
 "nbformat_minor": 2
}
