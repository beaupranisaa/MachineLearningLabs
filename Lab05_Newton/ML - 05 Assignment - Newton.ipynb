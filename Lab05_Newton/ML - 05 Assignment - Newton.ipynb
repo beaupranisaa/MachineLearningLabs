{
 "cells": [
  {
   "cell_type": "markdown",
   "metadata": {},
   "source": [
    "# Lab 05: Optimization Using Newton's Method\n",
    "\n",
    "#### Pranisaa Charnparttaravanit\n",
    "#### ID st121720"
   ]
  },
  {
   "cell_type": "markdown",
   "metadata": {},
   "source": [
    "#### Importing libraries"
   ]
  },
  {
   "cell_type": "code",
   "execution_count": 177,
   "metadata": {},
   "outputs": [],
   "source": [
    "import matplotlib.pyplot as plt\n",
    "import numpy as np\n",
    "from mpl_toolkits.mplot3d import Axes3D\n",
    "import pandas as pd"
   ]
  },
  {
   "cell_type": "markdown",
   "metadata": {},
   "source": [
    "#### Generate data"
   ]
  },
  {
   "cell_type": "code",
   "execution_count": 178,
   "metadata": {},
   "outputs": [
    {
     "name": "stdout",
     "output_type": "stream",
     "text": [
      "(100, 2) (100, 2)\n",
      "(200, 2) (200, 1)\n",
      "[[ 0.07605418  1.91020293]\n",
      " [ 0.49161498  1.72739987]\n",
      " [-2.17143636  3.36775762]\n",
      " [ 1.35405109  0.65806105]\n",
      " [ 0.19368487  0.40616255]\n",
      " [ 0.58543328  2.72889253]\n",
      " [ 1.44092626  1.48041281]\n",
      " [ 0.53251283  0.26611331]\n",
      " [-0.18248187  2.29634126]\n",
      " [ 1.08302511  1.50647905]]\n"
     ]
    }
   ],
   "source": [
    "# Generate data for class 1\n",
    "\n",
    "mu_1 = np.array([1.0, 2.0])\n",
    "sigma_1 = 1\n",
    "num_sample = 100\n",
    "cov_mat = np.matrix([[sigma_1,0],[0,sigma_1]])\n",
    "# print(cov_mat)\n",
    "X1 = np.random.multivariate_normal(mean= mu_1, cov=cov_mat, size = num_sample)\n",
    "\n",
    "# Generate data for class 2\n",
    "\n",
    "angle = np.random.uniform(0, 2*np.pi, num_sample)\n",
    "d =  np.random.normal(np.square(3*sigma_1),np.square(.5*sigma_1),num_sample)\n",
    "\n",
    "X2 = np.array([X1[:,0] + d*np.cos(angle), X1[:,1] + d*np.sin(angle)]).T\n",
    "\n",
    "# Combine X1 and X2 into single dataset\n",
    "\n",
    "print(X1.shape,X2.shape)\n",
    "X = np.concatenate([X1, X2],axis = 0)\n",
    "y = np.append(np.zeros(num_sample),np.ones(num_sample))\n",
    "y = y.reshape(-1,1)\n",
    "print(X.shape,y.shape)\n",
    "print(X[:10,:])\n",
    "# print(y)"
   ]
  },
  {
   "cell_type": "markdown",
   "metadata": {},
   "source": [
    "#### Plot the data"
   ]
  },
  {
   "cell_type": "code",
   "execution_count": 179,
   "metadata": {},
   "outputs": [
    {
     "data": {
      "image/png": "[encoded data removed]",
      "text/plain": [
       "<Figure size 360x360 with 1 Axes>"
      ]
     },
     "metadata": {
      "needs_background": "light"
     },
     "output_type": "display_data"
    }
   ],
   "source": [
    "# Plot the data\n",
    "fig1 = plt.figure(figsize=(5,5))\n",
    "ax = plt.axes() \n",
    "plt.title('Sample data for classification problem')\n",
    "plt.grid(axis='both', alpha=.25)\n",
    "plt.plot(X1[:,0],X1[:,1],'b.', label = 'Class 1')\n",
    "plt.plot(X2[:,0],X2[:,1],'g*', label = 'Class 2')\n",
    "plt.legend(loc=2)\n",
    "plt.axis('equal')\n",
    "plt.show()"
   ]
  },
  {
   "cell_type": "markdown",
   "metadata": {},
   "source": [
    "#### Split data into training and test datasets"
   ]
  },
  {
   "cell_type": "code",
   "execution_count": 180,
   "metadata": {},
   "outputs": [
    {
     "name": "stdout",
     "output_type": "stream",
     "text": [
      "(160, 2) (40, 2) (160, 1) (40, 1)\n"
     ]
    }
   ],
   "source": [
    "idx = np.arange(0,len(X),1)\n",
    "np.random.seed(555)\n",
    "np.random.shuffle(idx)\n",
    "idx_train = idx[0:int(.8*len(X))]\n",
    "idx_test = idx[len(idx_train):len(idx)]\n",
    "\n",
    "X_train = X[idx_train]\n",
    "X_test = X[idx_test]\n",
    "y_train = y[idx_train]\n",
    "y_test = y[idx_test]\n",
    "print(X_train.shape,X_test.shape,y_train.shape,y_test.shape)"
   ]
  },
  {
   "cell_type": "markdown",
   "metadata": {},
   "source": [
    "#### Normalization of data"
   ]
  },
  {
   "cell_type": "code",
   "execution_count": 181,
   "metadata": {},
   "outputs": [
    {
     "name": "stdout",
     "output_type": "stream",
     "text": [
      "(160, 2) (40, 2)\n"
     ]
    }
   ],
   "source": [
    "# Normalization of data\n",
    "def normalization(X):\n",
    "    \"\"\"\n",
    "    Take in numpy array of X values and return normalize X values,\n",
    "    the mean and standard deviation of each feature\n",
    "    \"\"\"\n",
    "    mean=np.mean(X,axis=0)\n",
    "    std=np.std(X,axis=0)\n",
    "    \n",
    "    X_norm = (X - mean)/std\n",
    "    \n",
    "    return X_norm\n",
    "\n",
    "XX = normalization(X)\n",
    "X_train_norm = XX[idx_train]\n",
    "X_test_norm = XX[idx_test]\n",
    "print(X_train_norm.shape,X_test_norm.shape)\n",
    "# print(XX)"
   ]
  },
  {
   "cell_type": "markdown",
   "metadata": {},
   "source": [
    "#### Define class for logistic regression: batch gradient descent"
   ]
  },
  {
   "cell_type": "code",
   "execution_count": 182,
   "metadata": {},
   "outputs": [],
   "source": [
    "# define class for logistic regression: batch gradient descent\n",
    "class Logistic_BGD:\n",
    "      \n",
    "    def __init__(self):\n",
    "        pass\n",
    "    \n",
    "#     def softmax(self, z):\n",
    "#         z -= np.max(z)\n",
    "#         return np.exp(z) / np.sum(np.exp(z))\n",
    "    \n",
    "#     def h(self, X, theta):\n",
    "#         return self.softmax(np.dot(X,theta))\n",
    "\n",
    "    def sigmoid(self,z):   \n",
    "        return 1 / (1 + np.exp(-z))\n",
    "\n",
    "    def h(self,X, theta):\n",
    "        return self.sigmoid(X @ theta)\n",
    "    \n",
    "    def gradient(self, X, y, y_pred):\n",
    "        m = len(y)\n",
    "        return -1/m * np.dot(X.transpose(),(y - y_pred))\n",
    "        \n",
    "    def costFunc(self, theta, X, y):    \n",
    "        m = len(y)    \n",
    "        y_pred = self.h(X,theta)\n",
    "        error = (-y * np.log(y_pred)) - ((1-y)*np.log(1-y_pred))\n",
    "        cost = 1/m * sum(error)    \n",
    "        grad = self.gradient(X, y, y_pred)    \n",
    "        return cost[0], grad\n",
    "    \n",
    "    def gradientAscent(self, X, y, theta, alpha, num_iters):\n",
    "        X = np.insert(X, 0, 1, axis=1)\n",
    "        m = len(y)\n",
    "        J_history = []\n",
    "        theta_history = []\n",
    "        for i in range(num_iters):\n",
    "            cost, grad = self.costFunc(theta,X,y)\n",
    "            theta = theta - alpha * grad\n",
    "            J_history.append(cost)\n",
    "            theta_history.append(theta)\n",
    "        J_min_index = np.argmin(J_history)\n",
    "        return theta_history[J_min_index] , J_history\n",
    "\n",
    "    def predict(self,X, theta):\n",
    "        labels=[]\n",
    "        self.X_test=np.hstack((np.ones((X.shape[0],1)),X))\n",
    "        for i in range(0,self.X_test.shape[0]):\n",
    "            y1=self.h(self.X_test[i],self.theta)\n",
    "            if y1 >=  0.5:\n",
    "                labels.append(1)\n",
    "            else:\n",
    "                labels.append(0)\n",
    "        \n",
    "        labels=np.asarray(labels)\n",
    "        return labels\n",
    "     \n",
    "   \n",
    "    def checkAccuracy(self,predicted,y):\n",
    "        predicted=predicted.tolist()\n",
    "        y = y.tolist()\n",
    "        correct=0\n",
    "        for i in range(0,len(predicted)):\n",
    "            if y[i]==predicted[i]:\n",
    "                correct+=1\n",
    "        \n",
    "        return (float(correct)/len(predicted))*100"
   ]
  },
  {
   "cell_type": "markdown",
   "metadata": {},
   "source": [
    "#### Boundary plot"
   ]
  },
  {
   "cell_type": "code",
   "execution_count": 183,
   "metadata": {},
   "outputs": [],
   "source": [
    "def boundary_points(X, theta):\n",
    "    v_orthogonal = np.array([[theta[1,0]],[theta[2,0]]])\n",
    "    v_ortho_length = np.sqrt(v_orthogonal.T @ v_orthogonal)\n",
    "    dist_ortho = theta[0,0] / v_ortho_length\n",
    "    v_orthogonal = v_orthogonal / v_ortho_length\n",
    "    v_parallel = np.array([[-v_orthogonal[1,0]],[v_orthogonal[0,0]]])\n",
    "    projections = X @ v_parallel\n",
    "    proj_1 = min(projections)\n",
    "    proj_2 = max(projections)\n",
    "    point_1 = proj_1 * v_parallel - dist_ortho * v_orthogonal\n",
    "    point_2 = proj_2 * v_parallel - dist_ortho * v_orthogonal\n",
    "    return point_1, point_2\n"
   ]
  },
  {
   "cell_type": "markdown",
   "metadata": {},
   "source": [
    "## In lab exercises\n",
    "\n",
    "1. Verify that the gradient descent solution given above is correct. Plot the optimal decision boundary\n",
    "   you obtain.\n",
    "\n",
    "2. Write a new class that uses Newton's method for the optmization rather than simple gradient descent.\n",
    "\n",
    "3. Verify that you obtain a similar solution with Newton's method. Plot the optimal decision boundary you obtain.\n",
    "\n",
    "4. Compare the number of iterations required for gradient descent vs. Newton's method. Do you observe other issues\n",
    "   with Newton's method such as a singular or nearly singular Hessian matrix?\n"
   ]
  },
  {
   "cell_type": "markdown",
   "metadata": {},
   "source": [
    "#### 1. Verify that the gradient descent solution given above is correct. Plot the optimal decision boundary you obtain.\n"
   ]
  },
  {
   "cell_type": "code",
   "execution_count": 184,
   "metadata": {},
   "outputs": [
    {
     "name": "stdout",
     "output_type": "stream",
     "text": [
      "(3, 1)\n",
      "[[-1.13864472e-05]\n",
      " [-2.09240894e-02]\n",
      " [ 4.73318930e-02]]\n"
     ]
    },
    {
     "data": {
      "text/plain": [
       "Text(0.5, 1.0, 'Training cost over time with batch gradient descent (no normalization)')"
      ]
     },
     "execution_count": 184,
     "metadata": {},
     "output_type": "execute_result"
    },
    {
     "data": {
      "image/png": "[encoded data removed]",
      "text/plain": [
       "<Figure size 432x288 with 1 Axes>"
      ]
     },
     "metadata": {
      "needs_background": "light"
     },
     "output_type": "display_data"
    }
   ],
   "source": [
    "# Initializing theta\n",
    "m,n = X_train_norm.shape\n",
    "theta_initial = np.full((n+1, 1),0)\n",
    "print(theta_initial.shape)\n",
    "\n",
    "klass = Logistic_BGD()\n",
    "alpha = 0.001\n",
    "num_iters = 500\n",
    "\n",
    "theta,J_history=klass.gradientAscent(X_train, y_train, theta_initial, alpha, num_iters)\n",
    "print(theta)\n",
    "plt.plot(J_history)\n",
    "plt.xlabel(\"Iteration\")\n",
    "plt.ylabel(\"$J(\\theta)$\")\n",
    "plt.title(\"Training cost over time with batch gradient descent (no normalization)\")"
   ]
  },
  {
   "cell_type": "code",
   "execution_count": 185,
   "metadata": {},
   "outputs": [
    {
     "name": "stdout",
     "output_type": "stream",
     "text": [
      "(200, 2)\n",
      "(200, 2)\n"
     ]
    },
    {
     "data": {
      "image/png": "[encoded data removed]",
      "text/plain": [
       "<Figure size 360x360 with 1 Axes>"
      ]
     },
     "metadata": {
      "needs_background": "light"
     },
     "output_type": "display_data"
    },
    {
     "name": "stdout",
     "output_type": "stream",
     "text": [
      "Got test set soft R^2 -0.0096, hard R^2 -0.4322, accuracy 0.65\n"
     ]
    }
   ],
   "source": [
    "idx_0 = np.where(y == 0)\n",
    "# print('idx_0',idx_0)\n",
    "print(X.shape)\n",
    "idx_1 = np.where(y == 1)\n",
    "# print('idx_1',idx_1)\n",
    "print(X.shape)\n",
    "\n",
    "fig1 = plt.figure(figsize=(5,5)) \n",
    "ax = plt.axes() \n",
    "ax.set_aspect(aspect = 'equal', adjustable = 'box')\n",
    "plt.title('Logistic regression boundary')\n",
    "plt.xlabel('Class 1')\n",
    "plt.ylabel('Class 2')\n",
    "plt.grid(axis='both', alpha=.25)\n",
    "ax.scatter(X[:,0][idx_0[0]], X[:,1][idx_0[0]], s=50, c='r', marker='*', label='class 0')\n",
    "ax.scatter(X[:,0][idx_1[0]], X[:,1][idx_1[0]], s=50, c='b', marker='o', label='class 1')\n",
    "point_1, point_2 = boundary_points(X, theta)\n",
    "# print(X.shape)\n",
    "plt.plot([point_1[0,0], point_2[0,0]],[point_1[1,0], point_2[1,0]], 'g-')\n",
    "plt.legend(loc=0)\n",
    "plt.show()\n",
    "\n",
    "klass = Logistic_BGD()\n",
    "def r_squared(y, y_pred):\n",
    "    return 1 - np.square(y - y_pred).sum() / np.square(y - y.mean()).sum()\n",
    "\n",
    "X_test_norm = np.insert(X_test_norm, 0, 1, axis=1)\n",
    "\n",
    "y_test_pred_soft = klass.h(X_test_norm, theta)\n",
    "y_test_pred_hard = (y_test_pred_soft > 0.5).astype(int)\n",
    "\n",
    "test_rsq_soft = r_squared(y_test, y_test_pred_soft)\n",
    "test_rsq_hard = r_squared(y_test, y_test_pred_hard)\n",
    "test_acc = (y_test_pred_hard == y_test).astype(int).sum() / y_test.shape[0]\n",
    "\n",
    "print('Got test set soft R^2 %0.4f, hard R^2 %0.4f, accuracy %0.2f' % (test_rsq_soft, test_rsq_hard, test_acc))\n"
   ]
  },
  {
   "cell_type": "markdown",
   "metadata": {},
   "source": [
    "#### 2. Write a new class that uses Newton's method for the optmization rather than simple gradient descent."
   ]
  },
  {
   "cell_type": "code",
   "execution_count": 186,
   "metadata": {},
   "outputs": [],
   "source": [
    "# define class for logistic regression: batch gradient descent\n",
    "class Logistic_NEWTON():\n",
    "      \n",
    "    def __init__(self):\n",
    "        pass\n",
    "\n",
    "    def sigmoid(self,z):   \n",
    "        return 1 / (1 + np.exp(-z))\n",
    "\n",
    "    def h(self,X, theta):\n",
    "        return self.sigmoid(X @ theta)\n",
    "    \n",
    "    def gradient(self, X, y, y_pred):\n",
    "        m = len(y)\n",
    "        return -1/m * np.dot(X.transpose(),(y - y_pred))\n",
    "        \n",
    "    def costFunc(self, theta, X, y):    \n",
    "        m = len(y)    \n",
    "        y_pred = self.h(X,theta)\n",
    "        error = (-y * np.log(y_pred)) - ((1-y)*np.log(1-y_pred))\n",
    "        cost = 1/m * sum(error)    \n",
    "        grad = self.gradient(X, y, y_pred)    \n",
    "        return cost[0], grad\n",
    "    \n",
    "    def hessian(self,X,theta):\n",
    "        hessian_matrix = []\n",
    "        for j in range(theta.shape[0]):\n",
    "            row = []\n",
    "            for z in range(theta.shape[0]):\n",
    "                jz = (-X[:,j]).reshape((-1,1)).T@self.h(X,theta)@(1-self.h(X,theta)).T@X[:,z]\n",
    "                row.append(jz)\n",
    "            hessian_matrix.append(row)\n",
    "        hessian = np.array(hessian_matrix).reshape(theta.shape[0],theta.shape[0])\n",
    "#         print(np.linalg.det(hessian))\n",
    "        return hessian\n",
    "    \n",
    "    \n",
    "    def newtonmethod(self, X, y, theta, num_iters):\n",
    "        X = np.insert(X, 0, 1, axis=1)\n",
    "        m = len(y)\n",
    "        J_history = []\n",
    "        theta_history = []\n",
    "        for i in range(num_iters):\n",
    "            cost, grad = self.costFunc(theta,X,y)\n",
    "            theta = theta - np.linalg.pinv(self.hessian(X,theta))@ grad\n",
    "            J_history.append(cost)\n",
    "            theta_history.append(theta)\n",
    "        J_min_index = np.argmin(J_history)\n",
    "        return theta_history[J_min_index] , J_history\n",
    "\n",
    "    def predict(self,X, theta):\n",
    "        labels=[]\n",
    "        X_test=np.hstack((np.ones((X.shape[0],1)),X))\n",
    "        for i in range(0,X_test.shape[0]):\n",
    "            y1=self.h(X_test[i],theta)\n",
    "            if y1 >=  0.5:\n",
    "                labels.append(1)\n",
    "            else:\n",
    "                labels.append(0)\n",
    "        \n",
    "        labels=np.asarray(labels)\n",
    "        return labels\n",
    "     \n",
    "   \n",
    "    def checkAccuracy(self,predicted,y):\n",
    "        predicted=predicted.tolist()\n",
    "        y = list(map(int,y))\n",
    "        correct=0\n",
    "        for i in range(0,len(predicted)):\n",
    "            if y[i]==predicted[i]:\n",
    "                correct+=1\n",
    "        \n",
    "        return (float(correct)/len(predicted))*100"
   ]
  },
  {
   "cell_type": "code",
   "execution_count": 187,
   "metadata": {},
   "outputs": [
    {
     "name": "stdout",
     "output_type": "stream",
     "text": [
      "[[-2.76599378e-06]\n",
      " [-6.37816586e-08]\n",
      " [ 1.99218924e-08]]\n"
     ]
    },
    {
     "data": {
      "text/plain": [
       "Text(0.5, 1.0, 'Training cost over time with batch gradient descent (no normalization)')"
      ]
     },
     "execution_count": 187,
     "metadata": {},
     "output_type": "execute_result"
    },
    {
     "data": {
      "image/png": "[encoded data removed]",
      "text/plain": [
       "<Figure size 432x288 with 1 Axes>"
      ]
     },
     "metadata": {
      "needs_background": "light"
     },
     "output_type": "display_data"
    }
   ],
   "source": [
    "logNT = Logistic_NEWTON()\n",
    "\n",
    "theta_initial = np.zeros(3).reshape((3,1))\n",
    "# theta_initial = np.full((n+1, 1),0)\n",
    "number_iters = 10000\n",
    "\n",
    "op_theta_NT , cost_history = logNT.newtonmethod(X_train_norm,y_train,theta_initial,num_iters)\n",
    "# print(X_train_norm.shape)\n",
    "# print(op_theta_NT.shape)\n",
    "print(op_theta_NT)\n",
    "# print(cost_history)\n",
    "plt.plot(cost_history)\n",
    "plt.xlabel(\"Iteration\")\n",
    "plt.ylabel(\"$J(\\theta)$\")\n",
    "plt.title(\"Training cost over time with batch gradient descent (no normalization)\")"
   ]
  },
  {
   "cell_type": "code",
   "execution_count": 188,
   "metadata": {},
   "outputs": [
    {
     "name": "stdout",
     "output_type": "stream",
     "text": [
      "(40, 2)\n",
      "(3, 1)\n"
     ]
    },
    {
     "data": {
      "image/png": "[encoded data removed]",
      "text/plain": [
       "<Figure size 360x360 with 1 Axes>"
      ]
     },
     "metadata": {
      "needs_background": "light"
     },
     "output_type": "display_data"
    },
    {
     "name": "stdout",
     "output_type": "stream",
     "text": [
      "Got test set soft R^2 -0.0230, hard R^2 -0.7391, accuracy 0.57\n"
     ]
    }
   ],
   "source": [
    "idx_0 = np.where(y == 0)\n",
    "idx_1 = np.where(y == 1)\n",
    "\n",
    "print(X_test.shape)\n",
    "print(op_theta_NT.shape)\n",
    "fig1 = plt.figure(figsize=(5,5)) \n",
    "ax = plt.axes() \n",
    "ax.set_aspect(aspect = 'equal', adjustable = 'box')\n",
    "plt.title('Logistic regression boundary')\n",
    "plt.xlabel('Class 1')\n",
    "plt.ylabel('Class 2')\n",
    "plt.grid(axis='both', alpha=.25)\n",
    "# print(X_train[0])\n",
    "ax.scatter(X[:,0][idx_0[0]], X[:,1][idx_0[0]], s=50, c='r', marker='*', label='class 0')\n",
    "ax.scatter(X[:,0][idx_1[0]], X[:,1][idx_1[0]], s=50, c='b', marker='o', label='class 1')\n",
    "point_1, point_2 = boundary_points(X, op_theta_NT)\n",
    "plt.plot([point_1[0,0], point_2[0,0]],[point_1[1,0], point_2[1,0]], 'g-')\n",
    "plt.legend(loc=0)\n",
    "plt.show()\n",
    "\n",
    "klass = Logistic_BGD()\n",
    "def r_squared(y, y_pred):\n",
    "    return 1 - np.square(y - y_pred).sum() / np.square(y - y.mean()).sum()\n",
    "\n",
    "y_test_pred_soft = klass.h(X_test_norm, op_theta_NT)\n",
    "y_test_pred_hard = (y_test_pred_soft > 0.5).astype(int)\n",
    "\n",
    "test_rsq_soft = r_squared(y_test, y_test_pred_soft)\n",
    "test_rsq_hard = r_squared(y_test, y_test_pred_hard)\n",
    "test_acc = (y_test_pred_hard == y_test).astype(int).sum() / y_test.shape[0]\n",
    "\n",
    "print('Got test set soft R^2 %0.4f, hard R^2 %0.4f, accuracy %0.2f' % (test_rsq_soft, test_rsq_hard, test_acc))"
   ]
  },
  {
   "cell_type": "markdown",
   "metadata": {},
   "source": [
    "#### 3. Verify that you obtain a similar solution with Newton's method. Plot the optimal decision boundary you obtain."
   ]
  },
  {
   "cell_type": "markdown",
   "metadata": {},
   "source": [
    "As shown above, the accuracy of the model using gradient descent and that of the model using Newton method are very similar."
   ]
  },
  {
   "cell_type": "markdown",
   "metadata": {},
   "source": [
    "#### 4. Compare the number of iterations required for gradient descent vs. Newton's method. Do you observe other issues with Newton's method such as a singular or nearly singular Hessian matrix?"
   ]
  },
  {
   "cell_type": "markdown",
   "metadata": {},
   "source": [
    "With newton method, the graph converges faster, however, with this method the problem of matrix singularity is faced."
   ]
  },
  {
   "cell_type": "markdown",
   "metadata": {},
   "source": [
    "## Take-home exercises\n",
    "\n",
    "1. Perform a *polar transformation* on the data above to obtain a linearly separable dataset.\n",
    "\n",
    "2. Verify that you obtain good classification accuracy for logistic regression with GD or Netwon's method\n",
    "   after the polar transformation\n",
    "   \n",
    "3. Apply Newton's method to the dataset you used for the take home exercises in Lab 03.\n",
    "\n",
    "## The report\n",
    "\n",
    "Write a brief report covering your experiments (both in lab and take home) and send as a Jupyter notebook\n",
    "to the TAs, Manish and Abhishek before the next lab.\n",
    "\n",
    "In your solution, be sure to follow instructions.\n"
   ]
  },
  {
   "cell_type": "markdown",
   "metadata": {},
   "source": [
    "#### 1. Perform a *polar transformation* on the data above to obtain a linearly separable dataset."
   ]
  },
  {
   "cell_type": "code",
   "execution_count": 189,
   "metadata": {},
   "outputs": [
    {
     "name": "stdout",
     "output_type": "stream",
     "text": [
      "(200, 1)\n",
      "(200, 1)\n"
     ]
    },
    {
     "data": {
      "image/png": "[encoded data removed]",
      "text/plain": [
       "<Figure size 360x360 with 1 Axes>"
      ]
     },
     "metadata": {
      "needs_background": "light"
     },
     "output_type": "display_data"
    }
   ],
   "source": [
    "X1_mean = XX[:101,0].mean()\n",
    "X2_mean = XX[101:,0].mean()\n",
    "r1 = np.sqrt((XX[:101,0]-X1_mean)**2 + (XX[:101,1]-X1_mean)**2)\n",
    "r2 = np.sqrt((XX[101:,0]-X2_mean)**2 + (XX[101:,1]-X2_mean)**2)\n",
    "# print(r1.shape,r2.shape)\n",
    "rrr = np.concatenate((r1,r2),axis = 0).reshape(-1,1)\n",
    "print(rrr.shape)\n",
    "angle1 = np.arctan2((XX[:101,1]-X1_mean),(XX[:101,0]-X1_mean))\n",
    "angle2 = np.arctan2((XX[101:,1]-X2_mean),(XX[101:,0]-X2_mean))\n",
    "angle_polar = np.concatenate((angle1,angle2), axis = 0).reshape(-1,1)\n",
    "print(angle_polar.shape)\n",
    "polar = np.concatenate((rrr,angle_polar), axis = 1)\n",
    "\n",
    "fig1 = plt.figure(figsize=(5,5))\n",
    "ax = plt.axes() \n",
    "plt.title('Sample data for classification problem in polar form')\n",
    "plt.grid(axis='both', alpha=.25)\n",
    "plt.plot(r1,angle1,'b.', label = 'Class 1')\n",
    "plt.plot(r2,angle2,'g*', label = 'Class 2')\n",
    "plt.legend(loc=2)\n",
    "plt.axis('equal')\n",
    "plt.show()"
   ]
  },
  {
   "cell_type": "code",
   "execution_count": 190,
   "metadata": {},
   "outputs": [
    {
     "name": "stdout",
     "output_type": "stream",
     "text": [
      "(200, 2)\n",
      "(3, 1)\n",
      "[[-1.40063261]\n",
      " [ 1.74803402]\n",
      " [ 0.4093998 ]]\n"
     ]
    },
    {
     "data": {
      "text/plain": [
       "Text(0.5, 1.0, 'Training cost over time with batch gradient descent (no normalization)')"
      ]
     },
     "execution_count": 190,
     "metadata": {},
     "output_type": "execute_result"
    },
    {
     "data": {
      "image/png": "[encoded data removed]",
      "text/plain": [
       "<Figure size 432x288 with 1 Axes>"
      ]
     },
     "metadata": {
      "needs_background": "light"
     },
     "output_type": "display_data"
    }
   ],
   "source": [
    "# Split data into training and test datasets\n",
    "rr = polar\n",
    "# rr = normalization(rr)\n",
    "print(polar.shape)\n",
    "# angles = np.concatenate([angle1,angle2],axis = 0)\n",
    "# print(angles.shape)\n",
    "\n",
    "# print(y)\n",
    "# print(rr)\n",
    "# print(angles)\n",
    "\n",
    "idx = np.arange(0,len(X),1)\n",
    "# np.random.seed(555)\n",
    "np.random.shuffle(idx)\n",
    "idx_train = idx[0:int(.8*len(X))]\n",
    "idx_test = idx[len(idx_train):len(idx)]\n",
    "\n",
    "polar_train = polar[idx_train]\n",
    "polar_test = polar[idx_test]\n",
    "y_train = y[idx_train]\n",
    "y_test = y[idx_test]\n",
    "y_shuffle = y[idx]\n",
    "\n",
    "# Initializing theta\n",
    "m,n = polar_train.shape\n",
    "theta_initial = np.full((n+1, 1),0)\n",
    "print(theta_initial.shape)\n",
    "\n",
    "klass = Logistic_BGD()\n",
    "alpha = 0.005\n",
    "num_iters = 3000\n",
    "\n",
    "theta_r,J_history=klass.gradientAscent(polar_train, y_train, theta_initial, alpha, num_iters)\n",
    "print(theta_r)\n",
    "plt.plot(J_history)\n",
    "plt.xlabel(\"Iteration\")\n",
    "plt.ylabel(\"$J(\\theta)$\")\n",
    "plt.title(\"Training cost over time with batch gradient descent (no normalization)\")"
   ]
  },
  {
   "cell_type": "code",
   "execution_count": 191,
   "metadata": {},
   "outputs": [
    {
     "data": {
      "image/png": "[encoded data removed]",
      "text/plain": [
       "<Figure size 360x360 with 1 Axes>"
      ]
     },
     "metadata": {
      "needs_background": "light"
     },
     "output_type": "display_data"
    },
    {
     "name": "stdout",
     "output_type": "stream",
     "text": [
      "Got test set soft R^2 0.7293, hard R^2 0.7721, accuracy 0.95\n"
     ]
    }
   ],
   "source": [
    "idx_0 = np.where(y[idx] == 0)\n",
    "idx_1 = np.where(y[idx] == 1)\n",
    "\n",
    "fig1 = plt.figure(figsize=(5,5)) \n",
    "ax = plt.axes() \n",
    "ax.set_aspect(aspect = 'equal', adjustable = 'box')\n",
    "plt.title('Logistic regression boundary')\n",
    "plt.xlabel('Class 1')\n",
    "plt.ylabel('Class 2')\n",
    "plt.grid(axis='both', alpha=.25)\n",
    "ax.scatter(polar[:,0][idx_0[0]], polar[:,1][idx_0[0]], s=25, c='b', marker='*', label='class 0')\n",
    "ax.scatter(polar[:,0][idx_1[0]], polar[:,1][idx_1[0]], s=25, c='b', marker='o', label='class 1')\n",
    "point_1, point_2 = boundary_points(polar_test, theta_r)\n",
    "plt.plot([point_1[0,0], point_2[0,0]],[point_1[1,0], point_2[1,0]], 'g-')\n",
    "plt.legend(loc=0)\n",
    "plt.show()\n",
    "\n",
    "klass = Logistic_BGD()\n",
    "\n",
    "polar_test = np.insert(polar_test, 0, 1, axis=1)\n",
    "y_test_pred_soft = klass.h(polar_test, theta_r)\n",
    "y_test_pred_hard = (y_test_pred_soft > 0.5).astype(int)\n",
    "\n",
    "test_rsq_soft = r_squared(y_test, y_test_pred_soft)\n",
    "test_rsq_hard = r_squared(y_test, y_test_pred_hard)\n",
    "test_acc = (y_test_pred_hard == y_test).astype(int).sum() / y_test.shape[0]\n",
    "\n",
    "print('Got test set soft R^2 %0.4f, hard R^2 %0.4f, accuracy %0.2f' % (test_rsq_soft, test_rsq_hard, test_acc))"
   ]
  },
  {
   "cell_type": "code",
   "execution_count": 192,
   "metadata": {},
   "outputs": [
    {
     "name": "stdout",
     "output_type": "stream",
     "text": [
      "[[-6.53261946e-06]\n",
      " [-7.07787494e-06]\n",
      " [ 2.45071739e-06]]\n"
     ]
    },
    {
     "data": {
      "text/plain": [
       "Text(0.5, 1.0, 'Training cost over time with batch gradient descent (no normalization)')"
      ]
     },
     "execution_count": 192,
     "metadata": {},
     "output_type": "execute_result"
    },
    {
     "data": {
      "image/png": "[encoded data removed]",
      "text/plain": [
       "<Figure size 432x288 with 1 Axes>"
      ]
     },
     "metadata": {
      "needs_background": "light"
     },
     "output_type": "display_data"
    }
   ],
   "source": [
    "logNT = Logistic_NEWTON()\n",
    "\n",
    "theta_initial_r = np.zeros(3).reshape((3,1))\n",
    "# theta_initial = np.full((n+1, 1),0)\n",
    "number_iters = 100\n",
    "\n",
    "op_theta_NT_r , cost_history_r = logNT.newtonmethod(polar_train,y_train,theta_initial_r,num_iters)\n",
    "\n",
    "print(op_theta_NT_r)\n",
    "# print(cost_history)\n",
    "plt.plot(cost_history_r)\n",
    "plt.xlabel(\"Iteration\")\n",
    "plt.ylabel(\"$J(\\theta)$\")\n",
    "plt.title(\"Training cost over time with batch gradient descent (no normalization)\")"
   ]
  },
  {
   "cell_type": "code",
   "execution_count": 193,
   "metadata": {},
   "outputs": [
    {
     "data": {
      "image/png": "[encoded data removed]",
      "text/plain": [
       "<Figure size 360x360 with 1 Axes>"
      ]
     },
     "metadata": {
      "needs_background": "light"
     },
     "output_type": "display_data"
    },
    {
     "name": "stdout",
     "output_type": "stream",
     "text": [
      "Got test set soft R^2 -0.1396, hard R^2 -2.0769, accuracy 0.33\n"
     ]
    }
   ],
   "source": [
    "idx_0 = np.where(y[idx] == 0)\n",
    "idx_1 = np.where(y[idx] == 1)\n",
    "\n",
    "polar_test = polar[idx_test]\n",
    "# print(polar_test.shape)\n",
    "fig1 = plt.figure(figsize=(5,5)) \n",
    "ax = plt.axes() \n",
    "ax.set_aspect(aspect = 'equal', adjustable = 'box')\n",
    "plt.title('Logistic regression boundary')\n",
    "plt.xlabel('Class 1')\n",
    "plt.ylabel('Class 2')\n",
    "plt.grid(axis='both', alpha=.25)\n",
    "ax.scatter(polar[:,0][idx_0[0]], polar[:,1][idx_0[0]], s=25, c='r', marker='*', label='class 0')\n",
    "ax.scatter(polar[:,0][idx_1[0]], polar[:,1][idx_1[0]], s=25, c='r', marker='o', label='class 1')\n",
    "point_1, point_2 = boundary_points(polar_test, op_theta_NT_r)\n",
    "plt.plot([point_1[0,0], point_2[0,0]],[point_1[1,0], point_2[1,0]], 'g-')\n",
    "plt.legend(loc=0)\n",
    "plt.show()\n",
    "\n",
    "logNT = Logistic_NEWTON()\n",
    "polar_test = np.insert(polar_test, 0, 1, axis=1)\n",
    "y_test_pred_soft = logNT.h(polar_test,op_theta_NT_r)\n",
    "y_test_pred_hard = (y_test_pred_soft > 0.5).astype(int)\n",
    "\n",
    "test_rsq_soft = r_squared(y_test, y_test_pred_soft)\n",
    "test_rsq_hard = r_squared(y_test, y_test_pred_hard)\n",
    "test_acc = (y_test_pred_hard == y_test).astype(int).sum() / y_test.shape[0]\n",
    "\n",
    "print('Got test set soft R^2 %0.4f, hard R^2 %0.4f, accuracy %0.2f' % (test_rsq_soft, test_rsq_hard, test_acc))"
   ]
  },
  {
   "cell_type": "markdown",
   "metadata": {},
   "source": [
    "#### 2. Verify that you obtain good classification accuracy for logistic regression with GD or Netwon's method after the polar transformation"
   ]
  },
  {
   "cell_type": "code",
   "execution_count": null,
   "metadata": {},
   "outputs": [],
   "source": [
    "After the polar transformation, the accuracy of the model, bo"
   ]
  },
  {
   "cell_type": "markdown",
   "metadata": {},
   "source": [
    "#### 3. Apply Newton's method to the dataset you used for the take home exercises in Lab 03."
   ]
  },
  {
   "cell_type": "code",
   "execution_count": 194,
   "metadata": {},
   "outputs": [
    {
     "name": "stdout",
     "output_type": "stream",
     "text": [
      "Training data shape (614, 13)\n",
      "Test data shape (367, 12)\n",
      "Training data:\n",
      "       Loan_ID  Gender Married Dependents     Education Self_Employed  \\\n",
      "0    LP001002    Male      No          0      Graduate            No   \n",
      "1    LP001003    Male     Yes          1      Graduate            No   \n",
      "2    LP001005    Male     Yes          0      Graduate           Yes   \n",
      "3    LP001006    Male     Yes          0  Not Graduate            No   \n",
      "4    LP001008    Male      No          0      Graduate            No   \n",
      "..        ...     ...     ...        ...           ...           ...   \n",
      "609  LP002978  Female      No          0      Graduate            No   \n",
      "610  LP002979    Male     Yes         3+      Graduate            No   \n",
      "611  LP002983    Male     Yes          1      Graduate            No   \n",
      "612  LP002984    Male     Yes          2      Graduate            No   \n",
      "613  LP002990  Female      No          0      Graduate           Yes   \n",
      "\n",
      "     ApplicantIncome  CoapplicantIncome  LoanAmount  Loan_Amount_Term  \\\n",
      "0               5849                0.0         NaN             360.0   \n",
      "1               4583             1508.0       128.0             360.0   \n",
      "2               3000                0.0        66.0             360.0   \n",
      "3               2583             2358.0       120.0             360.0   \n",
      "4               6000                0.0       141.0             360.0   \n",
      "..               ...                ...         ...               ...   \n",
      "609             2900                0.0        71.0             360.0   \n",
      "610             4106                0.0        40.0             180.0   \n",
      "611             8072              240.0       253.0             360.0   \n",
      "612             7583                0.0       187.0             360.0   \n",
      "613             4583                0.0       133.0             360.0   \n",
      "\n",
      "     Credit_History Property_Area Loan_Status  \n",
      "0               1.0         Urban           Y  \n",
      "1               1.0         Rural           N  \n",
      "2               1.0         Urban           Y  \n",
      "3               1.0         Urban           Y  \n",
      "4               1.0         Urban           Y  \n",
      "..              ...           ...         ...  \n",
      "609             1.0         Rural           Y  \n",
      "610             1.0         Rural           Y  \n",
      "611             1.0         Urban           Y  \n",
      "612             1.0         Urban           Y  \n",
      "613             0.0     Semiurban           N  \n",
      "\n",
      "[614 rows x 13 columns]\n"
     ]
    }
   ],
   "source": [
    "import pandas as pd\n",
    "import numpy as np\n",
    "# Import the data\n",
    "\n",
    "data_train = pd.read_csv('train_LoanPrediction.csv')\n",
    "data_test = pd.read_csv('test_LoanPrediction.csv')\n",
    "\n",
    "# Start to explore the data\n",
    "\n",
    "print('Training data shape', data_train.shape)\n",
    "print('Test data shape', data_test.shape)\n",
    "\n",
    "print('Training data:\\n', data_train)\n"
   ]
  },
  {
   "cell_type": "code",
   "execution_count": 195,
   "metadata": {},
   "outputs": [
    {
     "name": "stdout",
     "output_type": "stream",
     "text": [
      "Missing values for train data:\n",
      "------------------------\n",
      " Loan_ID               0\n",
      "Gender               13\n",
      "Married               3\n",
      "Dependents           15\n",
      "Education             0\n",
      "Self_Employed        32\n",
      "ApplicantIncome       0\n",
      "CoapplicantIncome     0\n",
      "LoanAmount           22\n",
      "Loan_Amount_Term     14\n",
      "Credit_History       50\n",
      "Property_Area         0\n",
      "Loan_Status           0\n",
      "dtype: int64\n",
      "Missing values for test data \n",
      " ------------------------\n",
      " Loan_ID               0\n",
      "Gender               11\n",
      "Married               0\n",
      "Dependents           10\n",
      "Education             0\n",
      "Self_Employed        23\n",
      "ApplicantIncome       0\n",
      "CoapplicantIncome     0\n",
      "LoanAmount            5\n",
      "Loan_Amount_Term      6\n",
      "Credit_History       29\n",
      "Property_Area         0\n",
      "dtype: int64\n"
     ]
    }
   ],
   "source": [
    "print('Missing values for train data:\\n------------------------\\n', data_train.isnull().sum())\n",
    "print('Missing values for test data \\n ------------------------\\n', data_test.isnull().sum())"
   ]
  },
  {
   "cell_type": "code",
   "execution_count": 196,
   "metadata": {},
   "outputs": [
    {
     "name": "stdout",
     "output_type": "stream",
     "text": [
      "Yes    398\n",
      "No     213\n",
      "Name: Married, dtype: int64\n",
      "Elements in Married variable (2,)\n",
      "Married ratio  0.6513911620294599\n",
      "Yes    400\n",
      "No     214\n",
      "Name: Married, dtype: int64\n",
      "Missing values for train data:\n",
      "------------------------\n",
      " Loan_ID               0\n",
      "Gender               13\n",
      "Married               0\n",
      "Dependents           15\n",
      "Education             0\n",
      "Self_Employed        32\n",
      "ApplicantIncome       0\n",
      "CoapplicantIncome     0\n",
      "LoanAmount           22\n",
      "Loan_Amount_Term     14\n",
      "Credit_History       50\n",
      "Property_Area         0\n",
      "Loan_Status           0\n",
      "dtype: int64\n"
     ]
    }
   ],
   "source": [
    "print(data_train['Married'].value_counts())\n",
    "\n",
    "married = data_train['Married'].value_counts()\n",
    "\n",
    "print('Elements in Married variable', married.shape)\n",
    "print('Married ratio ', married[0]/sum(married.values)) #ratio of married to all statuses\n",
    "\n",
    "def fill_martial_status(data, yes_num_train, no_num_train):        \n",
    "    data['Married'].fillna('Yes', inplace = True, limit = yes_num_train)\n",
    "    data['Married'].fillna('No', inplace = True, limit = no_num_train)  \n",
    "\n",
    "fill_martial_status(data_train, 2, 1)\n",
    "print(data_train['Married'].value_counts()) \n",
    "print('Missing values for train data:\\n------------------------\\n', data_train.isnull().sum())"
   ]
  },
  {
   "cell_type": "code",
   "execution_count": 197,
   "metadata": {},
   "outputs": [
    {
     "name": "stdout",
     "output_type": "stream",
     "text": [
      "0     345\n",
      "1     102\n",
      "2     101\n",
      "3+     51\n",
      "Name: Dependents, dtype: int64\n",
      "Dependent ratio 1  0.5759599332220368\n",
      "Dependent ratio 2  0.17028380634390652\n",
      "Dependent ratio 3  0.1686143572621035\n",
      "Dependent ratio 3+  0.08514190317195326\n",
      "0     354\n",
      "1     104\n",
      "2     103\n",
      "3+     53\n",
      "Name: Dependents, dtype: int64\n"
     ]
    },
    {
     "data": {
      "text/plain": [
       "Loan_ID               0\n",
       "Gender               13\n",
       "Married               0\n",
       "Dependents            0\n",
       "Education             0\n",
       "Self_Employed        32\n",
       "ApplicantIncome       0\n",
       "CoapplicantIncome     0\n",
       "LoanAmount           22\n",
       "Loan_Amount_Term     14\n",
       "Credit_History       50\n",
       "Property_Area         0\n",
       "Loan_Status           0\n",
       "dtype: int64"
      ]
     },
     "execution_count": 197,
     "metadata": {},
     "output_type": "execute_result"
    }
   ],
   "source": [
    "#Dependents\n",
    "# Here we see that categorical values are all numeric except one value \"3+\" \n",
    "# Create a new category value \"4\" for \"3+\" and ensure that all the data is numeric\n",
    "\n",
    "print(data_train['Dependents'].value_counts())\n",
    "dependent = data_train['Dependents'].value_counts()\n",
    "\n",
    "print('Dependent ratio 1 ', dependent['0'] / sum(dependent.values))\n",
    "print('Dependent ratio 2 ', dependent['1'] / sum(dependent.values))\n",
    "print('Dependent ratio 3 ', dependent['2'] / sum(dependent.values))\n",
    "print('Dependent ratio 3+ ', dependent['3+'] / sum(dependent.values))\n",
    "\n",
    "def fill_dependent_status(num_0_train, num_1_train, num_2_train, num_3_train, num_0_test, num_1_test, num_2_test, num_3_test):        \n",
    "    data_train['Dependents'].fillna('0', inplace=True, limit = num_0_train)\n",
    "    data_train['Dependents'].fillna('1', inplace=True, limit = num_1_train)\n",
    "    data_train['Dependents'].fillna('2', inplace=True, limit = num_2_train)\n",
    "    data_train['Dependents'].fillna('3+', inplace=True, limit = num_3_train)\n",
    "    data_test['Dependents'].fillna('0', inplace=True, limit = num_0_test)\n",
    "    data_test['Dependents'].fillna('1', inplace=True, limit = num_1_test)\n",
    "    data_test['Dependents'].fillna('2', inplace=True, limit = num_2_test)\n",
    "    data_test['Dependents'].fillna('3+', inplace=True, limit = num_3_test)\n",
    "\n",
    "fill_dependent_status(9, 2, 2, 2, 5, 2, 2, 1)\n",
    "\n",
    "print(data_train['Dependents'].value_counts())\n",
    "\n",
    "# Convert category value \"3+\" to \"4\"\n",
    "\n",
    "data_train['Dependents'].replace('3+', 4, inplace = True)\n",
    "data_test['Dependents'].replace('3+', 4, inplace = True)\n",
    "\n",
    "data_train.isnull().sum()"
   ]
  },
  {
   "cell_type": "code",
   "execution_count": 198,
   "metadata": {},
   "outputs": [
    {
     "name": "stdout",
     "output_type": "stream",
     "text": [
      "Male      489\n",
      "Female    112\n",
      "Name: Gender, dtype: int64\n",
      "Gender ratio Male  0.8136439267886856\n",
      "Gender ratio Female  0.18635607321131448\n",
      "Male      499\n",
      "Female    115\n",
      "Name: Gender, dtype: int64\n"
     ]
    },
    {
     "data": {
      "text/plain": [
       "Loan_ID               0\n",
       "Gender                0\n",
       "Married               0\n",
       "Dependents            0\n",
       "Education             0\n",
       "Self_Employed        32\n",
       "ApplicantIncome       0\n",
       "CoapplicantIncome     0\n",
       "LoanAmount           22\n",
       "Loan_Amount_Term     14\n",
       "Credit_History       50\n",
       "Property_Area         0\n",
       "Loan_Status           0\n",
       "dtype: int64"
      ]
     },
     "execution_count": 198,
     "metadata": {},
     "output_type": "execute_result"
    }
   ],
   "source": [
    "print(data_train['Gender'].value_counts())\n",
    "gender = data_train['Gender'].value_counts()\n",
    "\n",
    "print('Gender ratio Male ', gender['Male'] / sum(gender.values))\n",
    "print('Gender ratio Female ', gender['Female'] / sum(gender.values))\n",
    "\n",
    "def fill_gender_status(num_male_train, num_female_train, num_male_test, num_female_test):        \n",
    "    data_train['Gender'].fillna('Male', inplace=True, limit = num_male_train)\n",
    "    data_train['Gender'].fillna('Female', inplace=True, limit = num_female_train)\n",
    "    data_test['Gender'].fillna('Male', inplace=True, limit = num_male_test)\n",
    "    data_test['Gender'].fillna('Female', inplace=True, limit = num_female_test)\n",
    "\n",
    "fill_gender_status(10,3,9,2 )\n",
    "\n",
    "print(data_train['Gender'].value_counts())\n",
    "\n",
    "data_train.isnull().sum()"
   ]
  },
  {
   "cell_type": "code",
   "execution_count": 199,
   "metadata": {},
   "outputs": [
    {
     "name": "stdout",
     "output_type": "stream",
     "text": [
      "No     500\n",
      "Yes     82\n",
      "Name: Self_Employed, dtype: int64\n",
      "Self_Employed ratio 0.140893470790378\n",
      "Non-Self_Employed ratio 0.8591065292096219\n",
      "No     527\n",
      "Yes     87\n",
      "Name: Self_Employed, dtype: int64\n"
     ]
    },
    {
     "data": {
      "text/plain": [
       "Loan_ID               0\n",
       "Gender                0\n",
       "Married               0\n",
       "Dependents            0\n",
       "Education             0\n",
       "Self_Employed         0\n",
       "ApplicantIncome       0\n",
       "CoapplicantIncome     0\n",
       "LoanAmount           22\n",
       "Loan_Amount_Term     14\n",
       "Credit_History       50\n",
       "Property_Area         0\n",
       "Loan_Status           0\n",
       "dtype: int64"
      ]
     },
     "execution_count": 199,
     "metadata": {},
     "output_type": "execute_result"
    }
   ],
   "source": [
    "#Self_Employed\n",
    "print(data_train['Self_Employed'].value_counts())\n",
    "self_empl = data_train['Self_Employed'].value_counts()\n",
    "\n",
    "print('Self_Employed ratio', self_empl['Yes'] / sum(self_empl.values))\n",
    "print('Non-Self_Employed ratio',self_empl['No'] / sum(self_empl.values))\n",
    "\n",
    "def fill_self_empl_status(num_yes_train, num_no_train, num_yes_test, num_no_test):        \n",
    "    data_train['Self_Employed'].fillna('Yes', inplace=True, limit = num_yes_train)\n",
    "    data_train['Self_Employed'].fillna('No', inplace=True, limit = num_no_train)\n",
    "    data_test['Self_Employed'].fillna('Yes', inplace=True, limit = num_yes_test)\n",
    "    data_test['Self_Employed'].fillna('No', inplace=True, limit = num_no_test)\n",
    "\n",
    "fill_self_empl_status(5,27,3,20)\n",
    "\n",
    "print(data_train['Self_Employed'].value_counts())\n",
    "\n",
    "data_train.isnull().sum()"
   ]
  },
  {
   "cell_type": "code",
   "execution_count": 200,
   "metadata": {},
   "outputs": [
    {
     "name": "stdout",
     "output_type": "stream",
     "text": [
      "1.0    475\n",
      "0.0     89\n",
      "Name: Credit_History, dtype: int64\n",
      "credit history ratio 0.8421985815602837\n",
      "no credit history ratio 0.15780141843971632\n",
      "1.0    475\n",
      "0.0     89\n",
      "1       42\n",
      "0        8\n",
      "Name: Credit_History, dtype: int64\n"
     ]
    },
    {
     "data": {
      "text/plain": [
       "Loan_ID               0\n",
       "Gender                0\n",
       "Married               0\n",
       "Dependents            0\n",
       "Education             0\n",
       "Self_Employed         0\n",
       "ApplicantIncome       0\n",
       "CoapplicantIncome     0\n",
       "LoanAmount           22\n",
       "Loan_Amount_Term     14\n",
       "Credit_History        0\n",
       "Property_Area         0\n",
       "Loan_Status           0\n",
       "dtype: int64"
      ]
     },
     "execution_count": 200,
     "metadata": {},
     "output_type": "execute_result"
    }
   ],
   "source": [
    "#Credit_History\n",
    "print(data_train['Credit_History'].value_counts())\n",
    "cred_hist = data_train['Credit_History'].value_counts()\n",
    "\n",
    "print('credit history ratio', cred_hist[1] / sum(cred_hist.values))\n",
    "print('no credit history ratio',cred_hist[0] / sum(cred_hist.values))\n",
    "\n",
    "def fill_cred_hist_status(num_yes_train, num_no_train, num_yes_test, num_no_test):        \n",
    "    data_train['Credit_History'].fillna('1', inplace=True, limit = num_yes_train)\n",
    "    data_train['Credit_History'].fillna('0', inplace=True, limit = num_no_train)\n",
    "    data_test['Credit_History'].fillna('1', inplace=True, limit = num_yes_test)\n",
    "    data_test['Credit_History'].fillna('0', inplace=True, limit = num_no_test)\n",
    "\n",
    "fill_cred_hist_status(42,8,25,24)\n",
    "\n",
    "print(data_train['Credit_History'].value_counts())\n",
    "\n",
    "data_train.isnull().sum()\n",
    "# data_test.isnull().sum()"
   ]
  },
  {
   "cell_type": "code",
   "execution_count": 201,
   "metadata": {},
   "outputs": [
    {
     "name": "stdout",
     "output_type": "stream",
     "text": [
      "120.0    20\n",
      "110.0    17\n",
      "100.0    15\n",
      "187.0    12\n",
      "160.0    12\n",
      "         ..\n",
      "570.0     1\n",
      "300.0     1\n",
      "376.0     1\n",
      "117.0     1\n",
      "311.0     1\n",
      "Name: LoanAmount, Length: 203, dtype: int64\n",
      "mean loan amount  146.41216216216216\n"
     ]
    },
    {
     "data": {
      "text/plain": [
       "Loan_ID               0\n",
       "Gender                0\n",
       "Married               0\n",
       "Dependents            0\n",
       "Education             0\n",
       "Self_Employed         0\n",
       "ApplicantIncome       0\n",
       "CoapplicantIncome     0\n",
       "LoanAmount            0\n",
       "Loan_Amount_Term     14\n",
       "Credit_History        0\n",
       "Property_Area         0\n",
       "Loan_Status           0\n",
       "dtype: int64"
      ]
     },
     "execution_count": 201,
     "metadata": {},
     "output_type": "execute_result"
    }
   ],
   "source": [
    "#LoanAmount\n",
    "print(data_train['LoanAmount'].value_counts())\n",
    "\n",
    "LoanAmt = data_train['LoanAmount'].value_counts()\n",
    "\n",
    "print('mean loan amount ', np.mean(data_train[\"LoanAmount\"]))\n",
    "\n",
    "loan_amount_mean = np.mean(data_train[\"LoanAmount\"])\n",
    "\n",
    "data_train['LoanAmount'].fillna(loan_amount_mean, inplace=True, limit = 22)\n",
    "data_test['LoanAmount'].fillna(loan_amount_mean, inplace=True, limit = 5)\n",
    "data_train.isnull().sum()\n",
    "# data_test.isnull().sum()"
   ]
  },
  {
   "cell_type": "code",
   "execution_count": 202,
   "metadata": {},
   "outputs": [
    {
     "name": "stdout",
     "output_type": "stream",
     "text": [
      "360.0    512\n",
      "180.0     44\n",
      "480.0     15\n",
      "300.0     13\n",
      "84.0       4\n",
      "240.0      4\n",
      "120.0      3\n",
      "36.0       2\n",
      "60.0       2\n",
      "12.0       1\n",
      "Name: Loan_Amount_Term, dtype: int64\n",
      "mean loan amount term 342.0\n"
     ]
    }
   ],
   "source": [
    "#Loan_Amount_Term\n",
    "print(data_train['Loan_Amount_Term'].value_counts())\n",
    "\n",
    "LoanAmt = data_train['Loan_Amount_Term'].value_counts()\n",
    "\n",
    "print('mean loan amount term', np.mean(data_train[\"Loan_Amount_Term\"]))\n",
    "\n",
    "loan_amount_term_mean = np.mean(data_train[\"Loan_Amount_Term\"])\n",
    "\n",
    "data_train['Loan_Amount_Term'].fillna(loan_amount_term_mean, inplace=True, limit = 14)\n",
    "data_test['Loan_Amount_Term'].fillna(loan_amount_term_mean, inplace=True, limit = 6)\n",
    "# data_train.isnull().sum()\n",
    "# data_test.isnull().sum()"
   ]
  },
  {
   "cell_type": "code",
   "execution_count": 203,
   "metadata": {},
   "outputs": [
    {
     "name": "stdout",
     "output_type": "stream",
     "text": [
      "Loan_ID              0\n",
      "Gender               0\n",
      "Married              0\n",
      "Dependents           0\n",
      "Education            0\n",
      "Self_Employed        0\n",
      "ApplicantIncome      0\n",
      "CoapplicantIncome    0\n",
      "LoanAmount           0\n",
      "Loan_Amount_Term     0\n",
      "Credit_History       0\n",
      "Property_Area        0\n",
      "Loan_Status          0\n",
      "dtype: int64\n",
      "Loan_ID              0\n",
      "Gender               0\n",
      "Married              0\n",
      "Dependents           0\n",
      "Education            0\n",
      "Self_Employed        0\n",
      "ApplicantIncome      0\n",
      "CoapplicantIncome    0\n",
      "LoanAmount           0\n",
      "Loan_Amount_Term     0\n",
      "Credit_History       0\n",
      "Property_Area        0\n",
      "dtype: int64\n"
     ]
    }
   ],
   "source": [
    "print(data_train.isnull().sum())\n",
    "print(data_test.isnull().sum())"
   ]
  },
  {
   "cell_type": "code",
   "execution_count": 204,
   "metadata": {},
   "outputs": [],
   "source": [
    "def convert_vals(col,col_name,answer1, answer2 ,answer3):\n",
    "    ixd_1 = np.where(data_train[col_name] == answer1)\n",
    "    ixd_0 = np.where(data_train[col_name]== answer2)\n",
    "    ixd_2 = np.where(data_train[col_name]== answer3)\n",
    "    for i in ixd_1:\n",
    "        data_train.iloc[i,col] = 1\n",
    "    for i in ixd_0:\n",
    "        data_train.iloc[i,col] = 0\n",
    "    for i in ixd_2:\n",
    "        data_train.iloc[i,col] = 2\n",
    "\n",
    "convert_vals(1,'Gender','Male','Female','')\n",
    "convert_vals(2,'Married','Yes','No','')\n",
    "convert_vals(4,'Education','Graduate','Not Graduate','')\n",
    "convert_vals(5,'Self_Employed','No','Yes','')\n",
    "convert_vals(11,'Property_Area','Semiurban','Rural','Urban')\n",
    "convert_vals(12,'Loan_Status','Y','N','')\n",
    "\n",
    "cols = ['Gender','Married','Dependents','Education','Self_Employed','ApplicantIncome','CoapplicantIncome','LoanAmount','Loan_Amount_Term','Credit_History','Property_Area']\n",
    "\n",
    "X = data_train[cols]\n",
    "X = X.astype(float)\n",
    "X = np.array(X)\n",
    "# print(X)\n",
    "\n",
    "Y = data_train['Loan_Status']\n",
    "Y = Y.astype(float)\n",
    "Y = np.array(Y)"
   ]
  },
  {
   "cell_type": "code",
   "execution_count": 205,
   "metadata": {},
   "outputs": [
    {
     "data": {
      "text/plain": [
       "array([[ 0.48006346, -1.36717185, -0.6944511 , ...,  0.27985054,\n",
       "         0.43315227,  1.22329839],\n",
       "       [ 0.48006346,  0.73143694,  0.12239368, ...,  0.27985054,\n",
       "         0.43315227, -1.31851281],\n",
       "       [ 0.48006346,  0.73143694, -0.6944511 , ...,  0.27985054,\n",
       "         0.43315227,  1.22329839],\n",
       "       ...,\n",
       "       [ 0.48006346,  0.73143694,  0.12239368, ...,  0.27985054,\n",
       "         0.43315227,  1.22329839],\n",
       "       [ 0.48006346,  0.73143694,  0.93923845, ...,  0.27985054,\n",
       "         0.43315227,  1.22329839],\n",
       "       [-2.08305795, -1.36717185, -0.6944511 , ...,  0.27985054,\n",
       "        -2.30865695, -0.04760721]])"
      ]
     },
     "execution_count": 205,
     "metadata": {},
     "output_type": "execute_result"
    }
   ],
   "source": [
    "X_mean = np.mean(X,axis=0)\n",
    "X_std = np.std(X,axis=0)\n",
    "\n",
    "X_norm = (X - X_mean)/X_std\n",
    "X_norm"
   ]
  },
  {
   "cell_type": "code",
   "execution_count": 206,
   "metadata": {},
   "outputs": [
    {
     "name": "stdout",
     "output_type": "stream",
     "text": [
      "(614, 11)\n"
     ]
    }
   ],
   "source": [
    "m, n = X.shape\n",
    "print(X.shape)\n",
    "# XX = np.insert(X_norm, 0, 1, axis=1)\n",
    "# print(XX.shape)\n",
    "# print(Y.shape)\n",
    "Y = Y.reshape(m, 1)"
   ]
  },
  {
   "cell_type": "code",
   "execution_count": 207,
   "metadata": {},
   "outputs": [
    {
     "data": {
      "text/plain": [
       "array([[0],\n",
       "       [0],\n",
       "       [0],\n",
       "       [0],\n",
       "       [0],\n",
       "       [0],\n",
       "       [0],\n",
       "       [0],\n",
       "       [0],\n",
       "       [0],\n",
       "       [0],\n",
       "       [0]])"
      ]
     },
     "execution_count": 207,
     "metadata": {},
     "output_type": "execute_result"
    }
   ],
   "source": [
    "theta_initial_loan = np.full((n+1, 1),0) #dont not have to be 0s, != 0 can be roughly estimated from the plot \n",
    "theta_initial_loan"
   ]
  },
  {
   "cell_type": "code",
   "execution_count": 208,
   "metadata": {},
   "outputs": [
    {
     "name": "stdout",
     "output_type": "stream",
     "text": [
      "(614, 11)\n",
      "[[-1.98725097e-06]\n",
      " [ 0.00000000e+00]\n",
      " [ 0.00000000e+00]\n",
      " [ 0.00000000e+00]\n",
      " [ 0.00000000e+00]\n",
      " [ 0.00000000e+00]\n",
      " [ 0.00000000e+00]\n",
      " [ 0.00000000e+00]\n",
      " [ 0.00000000e+00]\n",
      " [ 0.00000000e+00]\n",
      " [ 0.00000000e+00]\n",
      " [ 0.00000000e+00]]\n"
     ]
    },
    {
     "data": {
      "text/plain": [
       "Text(0.5, 1.0, 'Training cost over time with batch gradient descent (no normalization)')"
      ]
     },
     "execution_count": 208,
     "metadata": {},
     "output_type": "execute_result"
    },
    {
     "data": {
      "image/png": "[encoded data removed]",
      "text/plain": [
       "<Figure size 432x288 with 1 Axes>"
      ]
     },
     "metadata": {
      "needs_background": "light"
     },
     "output_type": "display_data"
    }
   ],
   "source": [
    "logNT = Logistic_NEWTON()\n",
    "\n",
    "number_iters = 1\n",
    "print(X_norm.shape)\n",
    "op_theta_NT_loan , cost_history_loan = logNT.newtonmethod(X_norm,Y,theta_initial_loan,num_iters)\n",
    "print(op_theta_NT_loan)\n",
    "# print(cost_history)\n",
    "plt.plot(cost_history_loan)\n",
    "plt.xlabel(\"Iteration\")\n",
    "plt.ylabel(\"$J(\\theta)$\")\n",
    "plt.title(\"Training cost over time with batch gradient descent (no normalization)\")"
   ]
  },
  {
   "cell_type": "code",
   "execution_count": 209,
   "metadata": {},
   "outputs": [
    {
     "name": "stdout",
     "output_type": "stream",
     "text": [
      "(614, 11)\n",
      "(3, 1)\n",
      "31.27035830618892\n"
     ]
    }
   ],
   "source": [
    "print(X_norm.shape)\n",
    "print(theta.shape)\n",
    "y_pred = logNT.predict(X_norm, op_theta_NT_loan)\n",
    "acc = logNT.checkAccuracy(y_pred,Y)\n",
    "print(acc)"
   ]
  },
  {
   "cell_type": "code",
   "execution_count": null,
   "metadata": {},
   "outputs": [],
   "source": []
  }
 ],
 "metadata": {
  "kernelspec": {
   "display_name": "Python 3",
   "language": "python",
   "name": "python3"
  },
  "language_info": {
   "codemirror_mode": {
    "name": "ipython",
    "version": 3
   },
   "file_extension": ".py",
   "mimetype": "text/x-python",
   "name": "python",
   "nbconvert_exporter": "python",
   "pygments_lexer": "ipython3",
   "version": "3.8.8"
  }
 },
 "nbformat": 4,
 "nbformat_minor": 4
}
