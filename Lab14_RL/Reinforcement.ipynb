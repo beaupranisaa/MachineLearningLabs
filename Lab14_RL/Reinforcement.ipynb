{
 "cells": [
  {
   "cell_type": "code",
   "execution_count": 1,
   "metadata": {},
   "outputs": [
    {
     "name": "stdout",
     "output_type": "stream",
     "text": [
      "Value under random policy for states 1-6:  [0.03059493 0.04351279 0.07576966 0.14170194 0.27061287 0.51979617]\n",
      "Value under randoom polycy for state 7: 1\n"
     ]
    }
   ],
   "source": [
    "import numpy as np\n",
    "\n",
    "A = [[-0.32,0.225,0,0,0,0],\n",
    "    [0,0,0,0,0.225,-0.55],\n",
    "    [0,0,0,0.225,-0.55,0.225],\n",
    "    [0,0,0.225,-0.55,0.225,0],\n",
    "    [0,0.225,-0.55,0.225,0,0],\n",
    "    [0.225,-0.55,0.225,0,0,0]]\n",
    "\n",
    "b = [0,-0.225,0,0,0,0]\n",
    "V = np.linalg.inv(A) @ b\n",
    "\n",
    "print('Value under random policy for states 1-6: ',V)\n",
    "print('Value under randoom polycy for state 7: 1')"
   ]
  },
  {
   "cell_type": "code",
   "execution_count": null,
   "metadata": {},
   "outputs": [],
   "source": []
  }
 ],
 "metadata": {
  "kernelspec": {
   "display_name": "Python 3",
   "language": "python",
   "name": "python3"
  },
  "language_info": {
   "codemirror_mode": {
    "name": "ipython",
    "version": 3
   },
   "file_extension": ".py",
   "mimetype": "text/x-python",
   "name": "python",
   "nbconvert_exporter": "python",
   "pygments_lexer": "ipython3",
   "version": "3.8.3"
  }
 },
 "nbformat": 4,
 "nbformat_minor": 4
}
