{
 "cells": [
  {
   "cell_type": "markdown",
   "metadata": {},
   "source": [
    "# Machine Learning Lab 04: Multinomial Logistic Regression\n"
   ]
  },
  {
   "cell_type": "markdown",
   "metadata": {},
   "source": [
    "#### Name: Pranisaa Charnparttaravanit\n",
    "#### ID: st121720"
   ]
  },
  {
   "cell_type": "markdown",
   "metadata": {},
   "source": [
    "### Import libraries"
   ]
  },
  {
   "cell_type": "code",
   "execution_count": 14,
   "metadata": {},
   "outputs": [],
   "source": [
    "import numpy as np\n",
    "import pandas as pd \n",
    "import random\n",
    "import math"
   ]
  },
  {
   "cell_type": "markdown",
   "metadata": {},
   "source": [
    "### Functions"
   ]
  },
  {
   "cell_type": "code",
   "execution_count": 15,
   "metadata": {},
   "outputs": [],
   "source": [
    "def phi(i, theta, X):\n",
    "    mat_theta = np.matrix(theta[i])\n",
    "    mat_x = np.matrix(X)\n",
    "    num = math.exp(np.dot(mat_theta,mat_x.T)) #e^theataj * x\n",
    "    den = 0\n",
    "    for j in range(0,k):\n",
    "        mat_theta_j = np.matrix(theta[j])\n",
    "        den = den + math.exp(np.dot(mat_theta_j,mat_x.T))\n",
    "    phi_i = num/den\n",
    "    return phi_i"
   ]
  },
  {
   "cell_type": "code",
   "execution_count": 16,
   "metadata": {},
   "outputs": [],
   "source": [
    "def indicator(i, j):\n",
    "    if i == j: return 1 #correct class, return 1 else return 0\n",
    "    else: return 0\n",
    "\n",
    "def grad_cost(X, y, j, theta):\n",
    "    sum = np.array([0 for i in range(0,n)])\n",
    "    for i in range(0, m):\n",
    "        p = indicator(y.iloc[i], j) - phi(j, theta,X.iloc[i])\n",
    "        sum = sum + (X.iloc[i] * p)\n",
    "    grad = -sum/m\n",
    "    return grad\n",
    "\n",
    "def gradient_descent(X1,y1,X2,y2, theta, alpha, iters):\n",
    "    costs_train = []\n",
    "    costs_test = []\n",
    "    for iter in range(iters):\n",
    "        for j in range(0, k):\n",
    "            theta[j] = theta[j] - alpha * grad_cost(X1, y1, j, theta)\n",
    "        cost_val_train = cost(X1,y1,theta)\n",
    "        cost_val_test = cost(X2,y2,theta)\n",
    "        costs_train.append(cost_val_train)\n",
    "        costs_test.append(cost_val_test)\n",
    "    return theta,costs_train,costs_test\n",
    "\n",
    "def cost(X,y,theta):\n",
    "    m,n = X.shape\n",
    "    k= len(set(y))\n",
    "    sum_cost = 0\n",
    "    for i in range(0,m):\n",
    "        for j in range(0,k):\n",
    "            cost = indicator(y[i],j)*np.log(phi(j,theta,X.iloc[i]))\n",
    "            sum_cost += cost\n",
    "    return sum_cost/(-m)\n",
    "            \n",
    "def h(X, theta):\n",
    "    X = np.matrix(X)\n",
    "    h_matrix = np.empty((k,1))\n",
    "    den = 0\n",
    "    for j in range(0,k):\n",
    "        den = den + math.exp(np.dot(theta[j], X.T))\n",
    "    for i in range(0,k):\n",
    "        h_matrix[i] = math.exp(np.dot(theta[i],X.T))\n",
    "    h_matrix = h_matrix/den\n",
    "    return h_matrix"
   ]
  },
  {
   "cell_type": "markdown",
   "metadata": {},
   "source": [
    "### Importing data"
   ]
  },
  {
   "cell_type": "code",
   "execution_count": 17,
   "metadata": {},
   "outputs": [
    {
     "name": "stdout",
     "output_type": "stream",
     "text": [
      "   Id  SepalLengthCm  SepalWidthCm  PetalLengthCm  PetalWidthCm      Species\n",
      "0   1            5.1           3.5            1.4           0.2  Iris-setosa\n",
      "1   2            4.9           3.0            1.4           0.2  Iris-setosa\n",
      "2   3            4.7           3.2            1.3           0.2  Iris-setosa\n",
      "3   4            4.6           3.1            1.5           0.2  Iris-setosa\n",
      "4   5            5.0           3.6            1.4           0.2  Iris-setosa\n",
      "   SepalLengthCm  SepalWidthCm  PetalLengthCm  PetalWidthCm      Species\n",
      "0            5.1           3.5            1.4           0.2  Iris-setosa\n",
      "1            4.9           3.0            1.4           0.2  Iris-setosa\n",
      "2            4.7           3.2            1.3           0.2  Iris-setosa\n",
      "3            4.6           3.1            1.5           0.2  Iris-setosa\n",
      "4            5.0           3.6            1.4           0.2  Iris-setosa\n"
     ]
    }
   ],
   "source": [
    "data = pd.read_csv('Iris.csv')\n",
    "print(data.head())\n",
    "\n",
    "data = data.drop(['Id'],axis=1)\n",
    "print(data.head())\n",
    "\n",
    "\n",
    "# extract y from data\n",
    "y_label = 'Species';\n",
    "\n",
    "y =data[y_label];\n",
    "# print(y)\n",
    "\n",
    "y_index = data.columns.get_loc(y_label)\n",
    "# extract features from data\n",
    "X = data.iloc[:,:y_index]\n",
    "# print(X)"
   ]
  },
  {
   "cell_type": "markdown",
   "metadata": {},
   "source": [
    "### Partitioning the data"
   ]
  },
  {
   "cell_type": "code",
   "execution_count": 18,
   "metadata": {},
   "outputs": [
    {
     "name": "stdout",
     "output_type": "stream",
     "text": [
      "['Iris-versicolor' 'Iris-setosa' 'Iris-virginica']\n"
     ]
    }
   ],
   "source": [
    "m, n = X.shape\n",
    "idx = np.arange(0,m)\n",
    "\n",
    "# Partion data into training and testing dataset\n",
    "# random.seed(97)\n",
    "random.shuffle(idx)\n",
    "data = data.iloc[idx,:]\n",
    "data = data.reset_index()\n",
    "data = data.drop(['index'],axis=1)\n",
    "percent_train = 0.7\n",
    "m_train = int(m*percent_train)\n",
    "\n",
    "X_train = data.iloc[0:m_train,0:y_index];\n",
    "X_test = data.iloc[m_train:,0:y_index];\n",
    "\n",
    "y_train = data.iloc[:m_train,y_index];\n",
    "y_test = data.iloc[m_train:,y_index];\n",
    "labels = pd.unique(data[y_label])\n",
    "print(labels)\n",
    "\n",
    "# Encode target labels as integers 0..k-1\n",
    "\n",
    "i = 0\n",
    "for label in y.unique():\n",
    "    y_train[y_train.str.match(label)] = str(i)\n",
    "    y_test[y_test.str.match(label)] = str(i)\n",
    "    i = i + 1      \n",
    "y_train = y_train.astype(int)\n",
    "y_test = np.array(y_test)\n",
    "y_test = y_test.astype(int)\n",
    "\n",
    "# print(y_train)"
   ]
  },
  {
   "cell_type": "markdown",
   "metadata": {},
   "source": [
    "### Adding dummy"
   ]
  },
  {
   "cell_type": "code",
   "execution_count": 19,
   "metadata": {},
   "outputs": [],
   "source": [
    "# k is the number of unique labels\n",
    "\n",
    "k = len(set(y))\n",
    "\n",
    "if (X_train.shape[1] == X.shape[1]): \n",
    "    X_train.insert(0, \"intercept\", 1)\n",
    "    \n",
    "\n",
    "if (X_test.shape[1] == X.shape[1]): \n",
    "    X_test.insert(0, \"intercept\", 1)\n"
   ]
  },
  {
   "cell_type": "markdown",
   "metadata": {},
   "source": [
    "### Initializing data and calculating costs"
   ]
  },
  {
   "cell_type": "code",
   "execution_count": 20,
   "metadata": {},
   "outputs": [
    {
     "name": "stdout",
     "output_type": "stream",
     "text": [
      "[[ 1.17401526  1.3463927   1.82227719 -0.19631607  0.4581865 ]\n",
      " [ 1.09312     1.18891461  0.75947078  1.19298451  0.82272405]\n",
      " [ 0.74202258  0.51356959  0.4486984   2.02313076  1.72382293]]\n"
     ]
    }
   ],
   "source": [
    "# Reset m and n for training data\n",
    "\n",
    "m, n = X_train.shape\n",
    "\n",
    "# Initialize theta for each class  \n",
    "\n",
    "theta_initial = np.ones((k,n))\n",
    "\n",
    "alpha = .05\n",
    "iterations = 200\n",
    "\n",
    "# Logistic regression\n",
    "\n",
    "theta,costs_train, costs_test = gradient_descent(X_train,y_train,X_test,y_test, theta_initial, alpha, iterations)\n",
    "\n",
    "print(theta)\n",
    "# print(costs_train)\n",
    "# print(costs_test)"
   ]
  },
  {
   "cell_type": "markdown",
   "metadata": {},
   "source": [
    "### Accuracy calculation"
   ]
  },
  {
   "cell_type": "code",
   "execution_count": 21,
   "metadata": {},
   "outputs": [
    {
     "name": "stdout",
     "output_type": "stream",
     "text": [
      "Accuracy: 1.0000\n"
     ]
    }
   ],
   "source": [
    "# Predicting classes on test data \n",
    "\n",
    "if (X_test.shape[1] == X.shape[1]): \n",
    "    X_test.insert(0, \"intercept\", 1)\n",
    "\n",
    "# Reset m and n for test data\n",
    "\n",
    "m,n = X_test.shape\n",
    "\n",
    "y_pred = []\n",
    "for index,row in X_test.iterrows():\n",
    "    h_matrix = h(row, theta)\n",
    "    prediction = int(np.where(h_matrix == h_matrix.max())[0])\n",
    "    y_pred.append(prediction)\n",
    "        \n",
    "# Estimate accuracy of model on test data        \n",
    "correct = 0\n",
    "for i in range(len(y_pred)):\n",
    "    if y_pred[i] == y_test[i]:\n",
    "        correct += +1\n",
    "# print(correct)\n",
    "\n",
    "accuracy = correct/m\n",
    "print('Accuracy: %.4f' % accuracy)\n",
    "\n",
    "\n",
    "# correct = (y_pred == y_test).value_counts()[True]\n",
    "# accuracy = correct/m\n",
    "# print('Accuracy: %.4f' % accuracy)\n"
   ]
  },
  {
   "cell_type": "markdown",
   "metadata": {},
   "source": [
    "# On your own in lab\n",
    "\n",
    "Do the following in lab:\n",
    "1. Write a function to obtain the cost for particular $\\mathbb{X}, \\mathbf{y}, and \\theta$.\n",
    "2. Plot the training set and test cost as training goes on and find the best value for the number of iterations and learning rate.\n",
    "3. Make 2D scatter plots showing the predicted and actual class of each item in the training set, plotting two features at a time.\n",
    "   Comment on the cause of the errors you observe. If you obtain perfect test set accuracy, re-run the train/test split\n",
    "   and rerun the optimization until you observe some mistaken predictions on the test set.\n"
   ]
  },
  {
   "cell_type": "markdown",
   "metadata": {},
   "source": [
    "#### 1. Write a function to obtain the cost for particular $\\mathbb{X}, \\mathbf{y}, and \\theta$."
   ]
  },
  {
   "cell_type": "markdown",
   "metadata": {},
   "source": [
    "The answer is already included above under \"def gradient_descent\""
   ]
  },
  {
   "cell_type": "markdown",
   "metadata": {},
   "source": [
    "#### 2. Plot the training set and test cost as training goes on and find the best value for the number of iterations and learning rate."
   ]
  },
  {
   "cell_type": "code",
   "execution_count": 22,
   "metadata": {},
   "outputs": [
    {
     "data": {
      "text/plain": [
       "<matplotlib.legend.Legend at 0x7fdae74fadf0>"
      ]
     },
     "execution_count": 22,
     "metadata": {},
     "output_type": "execute_result"
    },
    {
     "data": {
      "image/png": "[encoded data removed]",
      "text/plain": [
       "<Figure size 432x288 with 1 Axes>"
      ]
     },
     "metadata": {
      "needs_background": "light"
     },
     "output_type": "display_data"
    }
   ],
   "source": [
    "import matplotlib.pyplot as plt\n",
    "plt.plot(costs_train, label = 'train')\n",
    "plt.plot(costs_test, label = 'test')\n",
    "plt.legend()"
   ]
  },
  {
   "cell_type": "markdown",
   "metadata": {},
   "source": [
    "#### 3. Make 2D scatter plots showing the predicted and actual class of each item in the training set, plotting two features at a time."
   ]
  },
  {
   "cell_type": "code",
   "execution_count": 23,
   "metadata": {},
   "outputs": [],
   "source": [
    "def idx(y_pred,y_test,klass):\n",
    "    idx_klass_pred =[]\n",
    "    idx_klass_test = []\n",
    "    for i in range(len(y_pred)):\n",
    "        if y_pred[i] == klass:\n",
    "            idx_klass_pred.append(i)\n",
    "    for j in range(len(y_test)):\n",
    "        if y_test[j] == klass:\n",
    "            idx_klass_test.append(j)\n",
    "    return idx_klass_pred , idx_klass_test\n",
    "\n",
    "idx_0_pred, idx_0_test = idx(y_pred,y_test,0)\n",
    "idx_1_pred, idx_1_test = idx(y_pred,y_test,1)\n",
    "idx_2_pred, idx_2_test = idx(y_pred,y_test,2)\n",
    "# print(y_test)"
   ]
  },
  {
   "cell_type": "code",
   "execution_count": 24,
   "metadata": {},
   "outputs": [
    {
     "data": {
      "text/plain": [
       "<matplotlib.legend.Legend at 0x7fdae74dab20>"
      ]
     },
     "execution_count": 24,
     "metadata": {},
     "output_type": "execute_result"
    },
    {
     "data": {
      "image/png": "[encoded data removed]",
      "text/plain": [
       "<Figure size 432x288 with 1 Axes>"
      ]
     },
     "metadata": {
      "needs_background": "light"
     },
     "output_type": "display_data"
    }
   ],
   "source": [
    "plt.scatter(X_test['SepalLengthCm'].iloc[idx_0_pred],X_test['SepalWidthCm'].iloc[idx_0_pred],s=50, c='darkred', marker='*', label='Iris-virginica_pred')\n",
    "plt.scatter(X_test['SepalLengthCm'].iloc[idx_0_test],X_test['SepalWidthCm'].iloc[idx_0_test],s=25, c='lightcoral', marker='*', label='Iris-virginica_actual')\n",
    "plt.scatter(X_test['SepalLengthCm'].iloc[idx_1_pred],X_test['SepalWidthCm'].iloc[idx_1_pred],s=50, c='navy', marker='o', label='Iris-setosa_pred')\n",
    "plt.scatter(X_test['SepalLengthCm'].iloc[idx_1_test],X_test['SepalWidthCm'].iloc[idx_1_test],s=25, c='royalblue', marker='o', label='Iris-setosa_actual')\n",
    "plt.scatter(X_test['SepalLengthCm'].iloc[idx_2_pred],X_test['SepalWidthCm'].iloc[idx_2_pred],s=50, c='darkgreen', marker='x', label='Iris-versicolor_pred')\n",
    "plt.scatter(X_test['SepalLengthCm'].iloc[idx_2_test],X_test['SepalWidthCm'].iloc[idx_2_test],s=25, c='seagreen', marker='x', label='Iris-versicolor_actual')\n",
    "plt.title(\"Prediction based on sepal length and width\")\n",
    "plt.legend()"
   ]
  },
  {
   "cell_type": "code",
   "execution_count": 25,
   "metadata": {},
   "outputs": [
    {
     "data": {
      "text/plain": [
       "<matplotlib.legend.Legend at 0x7fdae744be80>"
      ]
     },
     "execution_count": 25,
     "metadata": {},
     "output_type": "execute_result"
    },
    {
     "data": {
      "image/png": "[encoded data removed]",
      "text/plain": [
       "<Figure size 432x288 with 1 Axes>"
      ]
     },
     "metadata": {
      "needs_background": "light"
     },
     "output_type": "display_data"
    }
   ],
   "source": [
    "plt.scatter(X_test['PetalLengthCm'].iloc[idx_0_pred],X_test['PetalWidthCm'].iloc[idx_0_pred],s=50, c='darkred', marker='*', label='Iris-virginica_pred')\n",
    "plt.scatter(X_test['PetalLengthCm'].iloc[idx_0_test],X_test['PetalWidthCm'].iloc[idx_0_test],s=25, c='lightcoral', marker='*', label='Iris-virginica_actual')\n",
    "plt.scatter(X_test['PetalLengthCm'].iloc[idx_1_pred],X_test['PetalWidthCm'].iloc[idx_1_pred],s=50, c='navy', marker='o', label='Iris-setosa_pred')\n",
    "plt.scatter(X_test['PetalLengthCm'].iloc[idx_1_test],X_test['PetalWidthCm'].iloc[idx_1_test],s=25, c='royalblue', marker='o', label='Iris-setosa_actual')\n",
    "plt.scatter(X_test['PetalLengthCm'].iloc[idx_2_pred],X_test['PetalWidthCm'].iloc[idx_2_pred],s=50, c='darkgreen', marker='x', label='Iris-versicolor_pred')\n",
    "plt.scatter(X_test['PetalLengthCm'].iloc[idx_2_test],X_test['PetalWidthCm'].iloc[idx_2_test],s=25, c='seagreen', marker='x', label='Iris-versicolor_actual')\n",
    "plt.title(\"Prediction based on petal length and width\")\n",
    "plt.legend()"
   ]
  }
 ],
 "metadata": {
  "kernelspec": {
   "display_name": "Python 3",
   "language": "python",
   "name": "python3"
  },
  "language_info": {
   "codemirror_mode": {
    "name": "ipython",
    "version": 3
   },
   "file_extension": ".py",
   "mimetype": "text/x-python",
   "name": "python",
   "nbconvert_exporter": "python",
   "pygments_lexer": "ipython3",
   "version": "3.8.3"
  }
 },
 "nbformat": 4,
 "nbformat_minor": 4
}
