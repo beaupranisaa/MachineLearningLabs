{
 "cells": [
  {
   "cell_type": "markdown",
   "metadata": {},
   "source": [
    "# Assignment 4 Multinomial Logistic Regression\n",
    "#### Name: Pranisaa Charnparttaravanit\n",
    "#### ID: st121720"
   ]
  },
  {
   "cell_type": "markdown",
   "metadata": {},
   "source": [
    "Under this assignment, \"orthopedic patients\" are being investigated. The aim is to identify the class of the patients; Hernia, Spondylolisthesis and Normal. The features that are being investigated are pelvic incidence, pelvic tilt, lumbar lordosis angle, sacral slope, pelvic radius and degree spondylolisthesis. By the the end of the assessment, accuracy of the prediction of this multinomial logistic regression as well as the plots will be shown.  "
   ]
  },
  {
   "cell_type": "markdown",
   "metadata": {},
   "source": [
    "### Importing libraries"
   ]
  },
  {
   "cell_type": "code",
   "execution_count": 2,
   "metadata": {},
   "outputs": [],
   "source": [
    "import numpy as np\n",
    "import pandas as pd \n",
    "import random\n",
    "import math\n",
    "import matplotlib.pyplot as plt"
   ]
  },
  {
   "cell_type": "markdown",
   "metadata": {},
   "source": [
    "### Functions"
   ]
  },
  {
   "cell_type": "code",
   "execution_count": 3,
   "metadata": {},
   "outputs": [],
   "source": [
    "def phi(i, theta, X):\n",
    "    mat_theta = np.matrix(theta[i])\n",
    "    mat_x = np.matrix(X)\n",
    "    num = math.exp(np.dot(mat_theta,mat_x.T)) #e^theataj * x\n",
    "    den = 0\n",
    "    for j in range(0,k):\n",
    "        mat_theta_j = np.matrix(theta[j])\n",
    "        den = den + math.exp(np.dot(mat_theta_j,mat_x.T))\n",
    "    phi_i = num/den\n",
    "    return phi_i"
   ]
  },
  {
   "cell_type": "code",
   "execution_count": 4,
   "metadata": {},
   "outputs": [],
   "source": [
    "def indicator(i, j):\n",
    "    if i == j: return 1 #correct class, return 1 else return 0\n",
    "    else: return 0\n",
    "\n",
    "def grad_cost(X, y, j, theta):\n",
    "    sum = np.array([0 for i in range(0,n)])\n",
    "    for i in range(0, m):\n",
    "        p = indicator(y[i], j) - phi(j, theta,X.iloc[i])\n",
    "        sum = sum + (X.iloc[i] * p)\n",
    "    grad = -sum/m\n",
    "    return grad\n",
    "\n",
    "def gradient_descent(X1,y1,X2,y2, theta, alpha, iters):\n",
    "    costs_train = []\n",
    "    costs_test = []\n",
    "    for iter in range(iters):\n",
    "        for j in range(0, k):\n",
    "            theta[j] = theta[j] - alpha * grad_cost(X1, y1, j, theta)\n",
    "        cost_val_train = cost(X1,y1,theta)\n",
    "        cost_val_test = cost(X2,y2,theta)\n",
    "        costs_train.append(cost_val_train)\n",
    "        costs_test.append(cost_val_test)\n",
    "    return theta,costs_train,costs_test\n",
    "\n",
    "def cost(X,y,theta):\n",
    "    m,n = X.shape\n",
    "    k= len(set(y))\n",
    "    sum_cost = 0\n",
    "    for i in range(0,m):\n",
    "        for j in range(0,k):\n",
    "            cost = indicator(y[i],j)*np.log(phi(j,theta,X.iloc[i]))\n",
    "            sum_cost += cost\n",
    "    return sum_cost/(-m)\n",
    "            \n",
    "def h(X, theta):\n",
    "    X = np.matrix(X)\n",
    "    h_matrix = np.empty((k,1))\n",
    "    den = 0\n",
    "    for j in range(0,k):\n",
    "        den = den + math.exp(np.dot(theta[j], X.T))\n",
    "    for i in range(0,k):\n",
    "        h_matrix[i] = math.exp(np.dot(theta[i],X.T))\n",
    "    h_matrix = h_matrix/den\n",
    "    return h_matrix"
   ]
  },
  {
   "cell_type": "markdown",
   "metadata": {},
   "source": [
    "### Importing data"
   ]
  },
  {
   "cell_type": "code",
   "execution_count": 5,
   "metadata": {},
   "outputs": [
    {
     "name": "stdout",
     "output_type": "stream",
     "text": [
      "   pelvic_incidence  pelvic_tilt  lumbar_lordosis_angle  sacral_slope  \\\n",
      "0         63.027818    22.552586              39.609117     40.475232   \n",
      "1         39.056951    10.060991              25.015378     28.995960   \n",
      "2         68.832021    22.218482              50.092194     46.613539   \n",
      "3         69.297008    24.652878              44.311238     44.644130   \n",
      "4         49.712859     9.652075              28.317406     40.060784   \n",
      "\n",
      "   pelvic_radius  degree_spondylolisthesis   class  \n",
      "0      98.672917                 -0.254400  Hernia  \n",
      "1     114.405425                  4.564259  Hernia  \n",
      "2     105.985135                 -3.530317  Hernia  \n",
      "3     101.868495                 11.211523  Hernia  \n",
      "4     108.168725                  7.918501  Hernia  \n"
     ]
    }
   ],
   "source": [
    "data = pd.read_csv('orthopedic patients.csv')\n",
    "print(data.head())\n",
    "\n",
    "m = data.shape[0]\n",
    "idx = np.arange(0,m)\n",
    "random.shuffle(idx)\n",
    "data = data.iloc[idx,:]\n",
    "data = data.reset_index()\n",
    "\n",
    "# extract y from data\n",
    "y_label = 'class';\n",
    "\n",
    "y =data[y_label];\n",
    "y=np.array(y)\n",
    "# print(y)\n",
    "y_index = data.columns.get_loc(y_label)\n",
    "# print(y_index)\n",
    "\n",
    "# extract features from data\n",
    "X = data.iloc[:,:y_index]\n",
    "# print(X)\n",
    "\n",
    "X = X.astype(float)"
   ]
  },
  {
   "cell_type": "markdown",
   "metadata": {},
   "source": [
    "After the csv file called \"orthopedic patients\" is imported, target and features are extracted from the data. Lastly, feature data is also converted to float."
   ]
  },
  {
   "cell_type": "markdown",
   "metadata": {},
   "source": [
    "### Normalizing data"
   ]
  },
  {
   "cell_type": "code",
   "execution_count": 6,
   "metadata": {},
   "outputs": [],
   "source": [
    "X_mean = np.mean(X,axis=0)\n",
    "X_std = np.std(X,axis=0)\n",
    "\n",
    "X_norm = (X - X_mean)/X_std\n",
    "# print(X_norm)"
   ]
  },
  {
   "cell_type": "markdown",
   "metadata": {},
   "source": [
    "### Partitioning the data to training and test sets"
   ]
  },
  {
   "cell_type": "markdown",
   "metadata": {},
   "source": [
    "Firstly, it is important to separate our data into training and test sets, so that our result can be validated."
   ]
  },
  {
   "cell_type": "code",
   "execution_count": 7,
   "metadata": {},
   "outputs": [],
   "source": [
    "m, n = X_norm.shape\n",
    "idx = np.arange(0,m)\n",
    "random.shuffle(idx) #shuffling the indices\n",
    "\n",
    "percent_train = 0.7\n",
    "m_train = int(m*percent_train)\n",
    "\n",
    "X_train = X_norm.iloc[0:m_train,0:y_index];\n",
    "X_test = X_norm.iloc[m_train:,0:y_index];\n",
    "\n",
    "y_train = y[:m_train];\n",
    "y_test = y[m_train:];\n",
    "labels = pd.unique(y)\n",
    "# print(labels)\n",
    "\n",
    "# Encode target labels as integers 0..k-1\n",
    "i = 0\n",
    "for label in set(y):\n",
    "    y_train[y_train == label] = i\n",
    "    y_test[y_test == label] = i\n",
    "    i = i + 1  "
   ]
  },
  {
   "cell_type": "markdown",
   "metadata": {},
   "source": [
    "### Check for the missing data"
   ]
  },
  {
   "cell_type": "code",
   "execution_count": 8,
   "metadata": {},
   "outputs": [
    {
     "name": "stdout",
     "output_type": "stream",
     "text": [
      "Missing values for train data:\n",
      "------------------------\n",
      " index                       0\n",
      "pelvic_incidence            0\n",
      "pelvic_tilt                 0\n",
      "lumbar_lordosis_angle       0\n",
      "sacral_slope                0\n",
      "pelvic_radius               0\n",
      "degree_spondylolisthesis    0\n",
      "dtype: int64\n",
      "Missing values for test data \n",
      " ------------------------\n",
      " index                       0\n",
      "pelvic_incidence            0\n",
      "pelvic_tilt                 0\n",
      "lumbar_lordosis_angle       0\n",
      "sacral_slope                0\n",
      "pelvic_radius               0\n",
      "degree_spondylolisthesis    0\n",
      "dtype: int64\n"
     ]
    }
   ],
   "source": [
    "print('Missing values for train data:\\n------------------------\\n', X_train.isnull().sum())\n",
    "print('Missing values for test data \\n ------------------------\\n', X_test.isnull().sum())\n"
   ]
  },
  {
   "cell_type": "markdown",
   "metadata": {},
   "source": [
    "### Adding dummy"
   ]
  },
  {
   "cell_type": "code",
   "execution_count": 9,
   "metadata": {},
   "outputs": [
    {
     "name": "stdout",
     "output_type": "stream",
     "text": [
      "<class 'pandas.core.frame.DataFrame'>\n"
     ]
    }
   ],
   "source": [
    "# k is the number of unique labels\n",
    "k = len(set(y))\n",
    "\n",
    "print(type(X_train))\n",
    "if (X_train.shape[1] == X_norm.shape[1]): \n",
    "    X_train.insert(0, \"intercept\", 1)\n",
    "# print(X_train)\n",
    "\n",
    "if (X_test.shape[1] == X_norm.shape[1]): \n",
    "    X_test.insert(0, \"intercept\", 1)\n",
    "# print(X_test)"
   ]
  },
  {
   "cell_type": "markdown",
   "metadata": {},
   "source": [
    "### Initializing theta for each class, theta and cost calculation"
   ]
  },
  {
   "cell_type": "code",
   "execution_count": 10,
   "metadata": {},
   "outputs": [],
   "source": [
    "# Reset m and n for training data\n",
    "m, n = X_train.shape\n",
    "\n",
    "theta_initial = np.ones((k,n))\n",
    "\n",
    "alpha = .05\n",
    "iterations = 200\n",
    "\n",
    "theta,costs_train, costs_test = gradient_descent(X_train,y_train,X_test,y_test, theta_initial, alpha, iterations)\n",
    "\n",
    "# print(theta)\n",
    "# print(costs_train)\n",
    "# print(costs_test)"
   ]
  },
  {
   "cell_type": "markdown",
   "metadata": {},
   "source": [
    "### Cost plots of training and test data"
   ]
  },
  {
   "cell_type": "code",
   "execution_count": 11,
   "metadata": {},
   "outputs": [
    {
     "data": {
      "text/plain": [
       "<matplotlib.legend.Legend at 0x7fe5da3119d0>"
      ]
     },
     "execution_count": 11,
     "metadata": {},
     "output_type": "execute_result"
    },
    {
     "data": {
      "image/png": "[encoded data removed]",
      "text/plain": [
       "<Figure size 432x288 with 1 Axes>"
      ]
     },
     "metadata": {
      "needs_background": "light"
     },
     "output_type": "display_data"
    }
   ],
   "source": [
    "plt.plot(costs_train,label = \"train\")\n",
    "plt.plot(costs_test,label = \"test\")\n",
    "plt.legend()"
   ]
  },
  {
   "cell_type": "markdown",
   "metadata": {},
   "source": [
    "### Accuracy calculation"
   ]
  },
  {
   "cell_type": "code",
   "execution_count": 12,
   "metadata": {},
   "outputs": [
    {
     "name": "stdout",
     "output_type": "stream",
     "text": [
      "Accuracy of test data set: 0.9785\n",
      "Accuracy of train data set: 0.9447\n"
     ]
    }
   ],
   "source": [
    "# Reset m and n for train and test data\n",
    "m,n = X_test.shape\n",
    "m1,n1 = X_train.shape\n",
    "# print(m,n,m1,n1)\n",
    "\n",
    "y_pred = []\n",
    "for index,row in X_test.iterrows():\n",
    "    h_matrix = h(row, theta)\n",
    "    prediction = int(np.where(h_matrix == h_matrix.max())[0])\n",
    "    y_pred.append(prediction)\n",
    "        \n",
    "y_pred_train = []\n",
    "for index,row in X_train.iterrows():\n",
    "    h_matrix = h(row, theta)\n",
    "    prediction = int(np.where(h_matrix == h_matrix.max())[0])\n",
    "    y_pred_train.append(prediction)\n",
    "    \n",
    "# Estimate accuracy of model on train and test data        \n",
    "correct = 0\n",
    "for i in range(len(y_pred)):\n",
    "    if y_pred[i] == y_test[i]:\n",
    "        correct += +1\n",
    "\n",
    "correct_train = 0\n",
    "for i in range(len(y_train)):\n",
    "    if y_pred_train[i] == y_train[i]:\n",
    "        correct_train += +1\n",
    "        \n",
    "# print(len(y_pred),len(y_pred_train))\n",
    "# print(correct, correct_train)\n",
    "\n",
    "accuracy = correct/m\n",
    "print('Accuracy of test data set: %.4f' % accuracy)\n",
    "\n",
    "accuracy_train = correct_train/m1\n",
    "print('Accuracy of train data set: %.4f' % accuracy_train)\n"
   ]
  },
  {
   "cell_type": "markdown",
   "metadata": {},
   "source": [
    "As shown above, the accuracy of the test set is less than that of the train set. This indicate that over-fitting of the model does not occur"
   ]
  },
  {
   "cell_type": "markdown",
   "metadata": {},
   "source": [
    "### Plots"
   ]
  },
  {
   "cell_type": "markdown",
   "metadata": {},
   "source": [
    "The plots below show the result of the model prediction between the two features per plot.\n",
    "1. The first plot shows the comparison between the real target and the model prediction between the features of pelvic incidence and pelvic tilt.\n",
    "2. The second plot shows the comparison between the real target and the model prediction between sacral slope and degree spondylolisthesis.\n",
    "3. The third plot shows the comparison between the real target and the model prediction between lumbar lordosis angle and pelvic radius."
   ]
  },
  {
   "cell_type": "code",
   "execution_count": 13,
   "metadata": {},
   "outputs": [],
   "source": [
    "def idx(y_pred,y_test,klass):\n",
    "    idx_klass_pred =[]\n",
    "    idx_klass_test = []\n",
    "    for i in range(len(y_pred)):\n",
    "        if y_pred[i] == klass:\n",
    "            idx_klass_pred.append(i)\n",
    "    for j in range(len(y_test)):\n",
    "        if y_test[j] == klass:\n",
    "            idx_klass_test.append(j)\n",
    "    return idx_klass_pred , idx_klass_test\n",
    "\n",
    "idx_0_pred, idx_0_test = idx(y_pred,y_test,0)\n",
    "idx_1_pred, idx_1_test = idx(y_pred,y_test,1)\n",
    "idx_2_pred, idx_2_test = idx(y_pred,y_test,2)"
   ]
  },
  {
   "cell_type": "code",
   "execution_count": 14,
   "metadata": {},
   "outputs": [
    {
     "data": {
      "text/plain": [
       "<matplotlib.legend.Legend at 0x7fe5da2a6850>"
      ]
     },
     "execution_count": 14,
     "metadata": {},
     "output_type": "execute_result"
    },
    {
     "data": {
      "image/png": "[encoded data removed]",
      "text/plain": [
       "<Figure size 432x288 with 1 Axes>"
      ]
     },
     "metadata": {
      "needs_background": "light"
     },
     "output_type": "display_data"
    }
   ],
   "source": [
    "plt.scatter(X_test['pelvic_incidence'].iloc[idx_0_pred],X_test['pelvic_tilt'].iloc[idx_0_pred],s=50, c='darkred', marker='*', label='Spondylolisthesis')\n",
    "plt.scatter(X_test['pelvic_incidence'].iloc[idx_0_test],X_test['pelvic_tilt'].iloc[idx_0_test],s=25, c='lightcoral', marker='*', label='Spondylolisthesis(pred)')\n",
    "plt.scatter(X_test['pelvic_incidence'].iloc[idx_1_pred],X_test['pelvic_tilt'].iloc[idx_1_pred],s=50, c='navy', marker='o', label='Normal')\n",
    "plt.scatter(X_test['pelvic_incidence'].iloc[idx_1_test],X_test['pelvic_tilt'].iloc[idx_1_test],s=25, c='royalblue', marker='o', label='Normal(pred)')\n",
    "plt.scatter(X_test['pelvic_incidence'].iloc[idx_2_pred],X_test['pelvic_tilt'].iloc[idx_2_pred],s=50, c='darkgreen', marker='x', label='Hernia')\n",
    "plt.scatter(X_test['pelvic_incidence'].iloc[idx_2_test],X_test['pelvic_tilt'].iloc[idx_2_test],s=25, c='seagreen', marker='x', label='Hernia(pred)')\n",
    "plt.title(\"Prediction based on pelvic_incidence and pelvic_tilt\")\n",
    "plt.xlabel('pelvic_incidence')\n",
    "plt.ylabel('pelvic_tilt')\n",
    "plt.legend()"
   ]
  },
  {
   "cell_type": "code",
   "execution_count": 15,
   "metadata": {},
   "outputs": [
    {
     "data": {
      "text/plain": [
       "<matplotlib.legend.Legend at 0x7fe5da2389d0>"
      ]
     },
     "execution_count": 15,
     "metadata": {},
     "output_type": "execute_result"
    },
    {
     "data": {
      "image/png": "[encoded data removed]",
      "text/plain": [
       "<Figure size 432x288 with 1 Axes>"
      ]
     },
     "metadata": {
      "needs_background": "light"
     },
     "output_type": "display_data"
    }
   ],
   "source": [
    "plt.scatter(X_test['sacral_slope'].iloc[idx_0_pred],X_test['degree_spondylolisthesis'].iloc[idx_0_pred],s=50, c='darkred', marker='*', label='Spondylolisthesis')\n",
    "plt.scatter(X_test['sacral_slope'].iloc[idx_0_test],X_test['degree_spondylolisthesis'].iloc[idx_0_test],s=25, c='lightcoral', marker='*', label='Spondylolisthesis(pred)')\n",
    "plt.scatter(X_test['sacral_slope'].iloc[idx_1_pred],X_test['degree_spondylolisthesis'].iloc[idx_1_pred],s=50, c='navy', marker='o', label='Normal')\n",
    "plt.scatter(X_test['sacral_slope'].iloc[idx_1_test],X_test['degree_spondylolisthesis'].iloc[idx_1_test],s=25, c='royalblue', marker='o', label='Normal(pred)')\n",
    "plt.scatter(X_test['sacral_slope'].iloc[idx_2_pred],X_test['degree_spondylolisthesis'].iloc[idx_2_pred],s=50, c='darkgreen', marker='x', label='Hernia')\n",
    "plt.scatter(X_test['sacral_slope'].iloc[idx_2_test],X_test['degree_spondylolisthesis'].iloc[idx_2_test],s=25, c='seagreen', marker='x', label='Hernia(pred)')\n",
    "plt.title(\"Prediction based on sacral slope and degree spondylolisthesis\")\n",
    "plt.xlabel('sacral_slope')\n",
    "plt.ylabel('degree_spondylolisthesis')\n",
    "plt.legend()"
   ]
  },
  {
   "cell_type": "code",
   "execution_count": 16,
   "metadata": {},
   "outputs": [
    {
     "data": {
      "text/plain": [
       "<matplotlib.legend.Legend at 0x7fe5da18f2e0>"
      ]
     },
     "execution_count": 16,
     "metadata": {},
     "output_type": "execute_result"
    },
    {
     "data": {
      "image/png": "[encoded data removed]",
      "text/plain": [
       "<Figure size 432x288 with 1 Axes>"
      ]
     },
     "metadata": {
      "needs_background": "light"
     },
     "output_type": "display_data"
    }
   ],
   "source": [
    "plt.scatter(X_test['lumbar_lordosis_angle'].iloc[idx_0_pred],X_test['pelvic_radius'].iloc[idx_0_pred],s=50, c='darkred', marker='*', label='Spondylolisthesis')\n",
    "plt.scatter(X_test['lumbar_lordosis_angle'].iloc[idx_0_test],X_test['pelvic_radius'].iloc[idx_0_test],s=25, c='lightcoral', marker='*', label='Spondylolisthesis(pred)')\n",
    "plt.scatter(X_test['lumbar_lordosis_angle'].iloc[idx_1_pred],X_test['pelvic_radius'].iloc[idx_1_pred],s=50, c='navy', marker='o', label='Normal')\n",
    "plt.scatter(X_test['lumbar_lordosis_angle'].iloc[idx_1_test],X_test['pelvic_radius'].iloc[idx_1_test],s=25, c='royalblue', marker='o', label='Normal(pred)')\n",
    "plt.scatter(X_test['lumbar_lordosis_angle'].iloc[idx_2_pred],X_test['pelvic_radius'].iloc[idx_2_pred],s=50, c='darkgreen', marker='x', label='Hernia')\n",
    "plt.scatter(X_test['lumbar_lordosis_angle'].iloc[idx_2_test],X_test['pelvic_radius'].iloc[idx_2_test],s=25, c='seagreen', marker='x', label='Hernia(pred)')\n",
    "plt.title(\"Prediction based on lumbar lordosis angle and pelvic radius\")\n",
    "plt.xlabel('lumbar_lordosis_angle')\n",
    "plt.ylabel('pelvic_radius')\n",
    "plt.legend()"
   ]
  },
  {
   "cell_type": "code",
   "execution_count": null,
   "metadata": {},
   "outputs": [],
   "source": []
  }
 ],
 "metadata": {
  "kernelspec": {
   "display_name": "Python 3",
   "language": "python",
   "name": "python3"
  },
  "language_info": {
   "codemirror_mode": {
    "name": "ipython",
    "version": 3
   },
   "file_extension": ".py",
   "mimetype": "text/x-python",
   "name": "python",
   "nbconvert_exporter": "python",
   "pygments_lexer": "ipython3",
   "version": "3.8.3"
  }
 },
 "nbformat": 4,
 "nbformat_minor": 4
}
